{
 "cells": [
  {
   "cell_type": "markdown",
   "metadata": {},
   "source": [
    "# GOV.UK structural network adjacency\n",
    "We work through a tutorial to learn about key network metrics and statistics based on this [blog post](https://programminghistorian.org/en/lessons/exploring-and-analyzing-network-data-with-python#fnref:import). \n",
    "\n",
    "We will be using the [GOV.UK structural network adjacency list](https://ckan.publishing.service.gov.uk/dataset/gov-uk-structural-network-adjacency-list?utm_source=ckan) data for this tutorial. This shows the connections (edges) between source and sink pages (nodes).\n",
    "\n",
    "This tutorial will take us through the basics of network visualisations and analysis using NetworkX and Python visualisation tools. The data itself doesn't matter so much, we are learning the principles of graph theory and `networkx` functionality.\n",
    "\n",
    "For further ideas see the [list of algorithms](https://networkx.github.io/documentation/stable/reference/algorithms/index.html) available for use with networkx."
   ]
  },
  {
   "cell_type": "code",
   "execution_count": null,
   "metadata": {},
   "outputs": [],
   "source": [
    "from IPython.core.interactiveshell import InteractiveShell\n",
    "import community\n",
    "import networkx as nx\n",
    "import os\n",
    "import pandas as pd\n",
    "\n",
    "from holoviews.element.graphs import layout_nodes\n",
    "import holoviews as hv\n",
    "import holoviews.operation.datashader as hd\n",
    "\n",
    "# Enable multiline outputs in this notebook\n",
    "InteractiveShell.ast_node_interactivity = \"all\"\n",
    "\n",
    "# Enable interactivity for plots\n",
    "hv.extension(\"bokeh\")"
   ]
  },
  {
   "cell_type": "markdown",
   "metadata": {},
   "source": [
    "## Reading the data\n",
    "Rather than use the method of reading in the data used in the Quaker tutorial, we will opt for an approach using pandas.\n",
    "\n",
    "Make sure to [download the data]((https://ckan.publishing.service.gov.uk/dataset/gov-uk-structural-network-adjacency-list?utm_source=ckan)), and place it in the `data/processed_network` folder at the parent-level of this repository. Alternatively, read in the data directly from the internet."
   ]
  },
  {
   "cell_type": "code",
   "execution_count": null,
   "metadata": {},
   "outputs": [],
   "source": [
    "# Define a relative path to the data\n",
    "input_dir = os.path.join(\"..\", \"..\", \"data\", \"processed_network\")\n",
    "data_path = os.path.join(input_dir, \"structural_network_adjacency_list_20190301.csv\")\n",
    "data_path\n",
    "\n",
    "# Read in the data downloaded locally\n",
    "df_edges = pd.read_csv(data_path)\n",
    "df_edges"
   ]
  },
  {
   "cell_type": "code",
   "execution_count": null,
   "metadata": {
    "scrolled": false
   },
   "outputs": [],
   "source": [
    "# Define the URL to the data\n",
    "data_url = \"https://assets.publishing.service.gov.uk/media/5cde7160ed915d439fafebef/structural_network_adjacency_list_20190301.csv\"\n",
    "\n",
    "# Read in the data directly from the internet\n",
    "df_edges = pd.read_csv(data_url)\n",
    "df_edges"
   ]
  },
  {
   "cell_type": "markdown",
   "metadata": {},
   "source": [
    "We now have the edges loaded in, but need a unique set of nodes for our network. Just in case there are some nodes listed in `source_base_path` but not `sink_base_path`, we need to take a unique set across both columns. \n",
    "\n",
    "This [SO answer](https://stackoverflow.com/a/26977495) will help us get an array of unique nodes. We will then create a pandas DataFrame, and arbitrarily set the index as `node_id`. Note we have sorted the array of unique nodes for ease here so that the main GOV.UK page slug (`/`) has node ID `0`. "
   ]
  },
  {
   "cell_type": "code",
   "execution_count": null,
   "metadata": {},
   "outputs": [],
   "source": [
    "# Get an array of unique nodes\n",
    "unique_nodes = pd.unique(df_edges[[\"source_base_path\", \"sink_base_path\"]].values.ravel(\"K\"))\n",
    "\n",
    "# Sort the nodes alphabetically, and artifically create a 'node_id' column using the index\n",
    "df_nodes = pd.DataFrame(sorted(unique_nodes), columns=[\"nodes\"])\n",
    "df_nodes.index.name = \"node_id\"\n",
    "df_nodes"
   ]
  },
  {
   "cell_type": "markdown",
   "metadata": {},
   "source": [
    "For completeness, let's label the node IDs for both source and sink pages in `df_edges`.\n",
    "\n",
    "Here, we merge `df_nodes` to `df_edges` for both `source_base_path` and `sink_base_path` columns. The chained `reset_index` and `rename` functions on `df_nodes` ensure we don't create duplicate source/sink slug columns during the merge, and also create unique node ID column names for the source/sink slug columns."
   ]
  },
  {
   "cell_type": "code",
   "execution_count": null,
   "metadata": {},
   "outputs": [],
   "source": [
    "# Add the node IDs back in for each of the sources and sinks\n",
    "for col in df_edges.columns:\n",
    "    if \"_base_path\" in col:\n",
    "        df_edges = df_edges.merge(df_nodes.reset_index().rename(columns={\"nodes\": col, \"node_id\": col+\"_id\"}),\n",
    "                                  on=col,\n",
    "                                  how=\"left\", \n",
    "                                  validate=\"m:1\")\n",
    "df_edges"
   ]
  },
  {
   "cell_type": "markdown",
   "metadata": {},
   "source": [
    "## Creating the graph\n",
    "In NetworkX, we can add two lists/arrays of nodes, and edges into a single network object that understands how nodes and edges are related. \n",
    "\n",
    "This object is called a Graph, referring to one of the common terms for data organized as a network \\[N.B. it does not refer to any visual representation of the data. Graph here is used purely in a mathematical, network analysis sense\\]. First you must initialize a Graph object with the following command:"
   ]
  },
  {
   "cell_type": "code",
   "execution_count": null,
   "metadata": {},
   "outputs": [],
   "source": [
    "# Instantiate a NetworkX Graph object\n",
    "G = nx.Graph()"
   ]
  },
  {
   "cell_type": "markdown",
   "metadata": {},
   "source": [
    "Note this is an undirected graph. However, the data is about how pages are linked together (hence the source and sink pages!), so a direct graph (digraph) is probably better:"
   ]
  },
  {
   "cell_type": "code",
   "execution_count": null,
   "metadata": {},
   "outputs": [],
   "source": [
    "# Instantiate a NetworkX DiGraph object\n",
    "G = nx.DiGraph()"
   ]
  },
  {
   "cell_type": "markdown",
   "metadata": {},
   "source": [
    "We can add some attribute data to the graph, to help us remember what it's about"
   ]
  },
  {
   "cell_type": "code",
   "execution_count": null,
   "metadata": {},
   "outputs": [],
   "source": [
    "G = nx.DiGraph(name=\"DiGraph using GOV.UK structural network adjacency list data\", \n",
    "               query_used=\"appropriate descriptive name\")\n",
    "G.graph"
   ]
  },
  {
   "cell_type": "markdown",
   "metadata": {},
   "source": [
    "We can then generate a list of nodes (`node_names`), and a list of edges (`edges`) from our pandas DataFrames:"
   ]
  },
  {
   "cell_type": "code",
   "execution_count": null,
   "metadata": {},
   "outputs": [],
   "source": [
    "# Extract the slugs for each node\n",
    "node_names = df_nodes.nodes.values\n",
    "node_names"
   ]
  },
  {
   "cell_type": "code",
   "execution_count": null,
   "metadata": {},
   "outputs": [],
   "source": [
    "# Get the source and destination ('sink') slugs\n",
    "edges = df_edges[[\"source_base_path\", \"sink_base_path\"]].values\n",
    "edges"
   ]
  },
  {
   "cell_type": "markdown",
   "metadata": {},
   "source": [
    "And add these to the digraph:"
   ]
  },
  {
   "cell_type": "code",
   "execution_count": null,
   "metadata": {},
   "outputs": [],
   "source": [
    "# Add nodes and edges to 'G'\n",
    "G.add_nodes_from(node_names)\n",
    "G.add_edges_from(edges)\n",
    "\n",
    "# Print some info about 'G'\n",
    "print(nx.info(G))"
   ]
  },
  {
   "cell_type": "markdown",
   "metadata": {},
   "source": [
    "This is a quick way of getting some general information about your graph, but as you’ll learn in subsequent sections, it is only scratching the surface of what NetworkX can tell you about your data.\n",
    "\n",
    "Because we specify it as a directed graph we get in degree and out degree."
   ]
  },
  {
   "cell_type": "markdown",
   "metadata": {},
   "source": [
    "## Adding Attributes\n",
    "For NetworkX, a Graph object is one big thing (your network) made up of two kinds of smaller things (your nodes and your edges). So far you’ve uploaded nodes and edges (as pairs of nodes), but NetworkX allows you to add attributes to both nodes and edges, providing more information about each of them.\n",
    "\n",
    "Later on in this tutorial, you’ll be running metrics and adding some of the results back to the Graph as attributes. For now, let’s make sure your Graph contains all of the attributes that are currently in our CSV."
   ]
  },
  {
   "cell_type": "markdown",
   "metadata": {},
   "source": [
    "You’ll want to return to a DataFrames you created at the beginning of your script: `df_nodes` and `df_edges`. These contain useful information, such as the node ID and the edge link type, which you'll want to add to our graph.\n",
    "\n",
    "There are a couple ways to do this, but NetworkX provides two convenient functions for adding attributes to all of a Graph’s nodes or edges at once: `nx.set_node_attributes()` and `nx.set_edge_attributes()`. \n",
    "\n",
    "To use these functions, you’ll need your attribute data to be in the form of a Python dictionary, in which node names are the keys and the attributes you want to add are the values. You’ll want to create a dictionary for each one of your attributes, and then add them using the functions above."
   ]
  },
  {
   "cell_type": "code",
   "execution_count": null,
   "metadata": {},
   "outputs": [],
   "source": [
    "# Just to recall\n",
    "df_nodes.head()"
   ]
  },
  {
   "cell_type": "code",
   "execution_count": null,
   "metadata": {},
   "outputs": [],
   "source": [
    "# Create a dictionary from the nodes and node IDs (index of 'df_nodes')\n",
    "node_id_dict = dict(zip(df_nodes.nodes, df_nodes.index))\n",
    "node_id_dict[\"/\"]"
   ]
  },
  {
   "cell_type": "code",
   "execution_count": null,
   "metadata": {
    "scrolled": false
   },
   "outputs": [],
   "source": [
    "# To create the edge attributes, the key needs to be a tuple of source and sink slugs\n",
    "edge_keys = list(zip(df_edges.source_base_path, df_edges.sink_base_path))\n",
    "edge_keys[0:2]\n",
    "\n",
    "# Then create the dictionary with link type as the values\n",
    "edge_link_type_dict = dict(zip(edge_keys, df_edges.link_type))\n",
    "edge_link_type_dict[(\"/1619-bursary-fund\", \"/courses-qualifications\")]"
   ]
  },
  {
   "cell_type": "markdown",
   "metadata": {},
   "source": [
    "Now we created the attribute dictionaries, let's add them to the graph:"
   ]
  },
  {
   "cell_type": "code",
   "execution_count": null,
   "metadata": {},
   "outputs": [],
   "source": [
    "# Add the node and edge attributes\n",
    "nx.set_node_attributes(G, node_id_dict, \"node_id\")\n",
    "nx.set_edge_attributes(G, edge_link_type_dict, \"link_type\")"
   ]
  },
  {
   "cell_type": "markdown",
   "metadata": {},
   "source": [
    "Now all of your nodes have these attributes, and you can access them at any time. For example, you can print out all the node_ids of your nodes by looping through them and accessing the node_id attribute, like this (note we've limited this to the first ten nodes):"
   ]
  },
  {
   "cell_type": "code",
   "execution_count": null,
   "metadata": {},
   "outputs": [],
   "source": [
    "# Print the node and \n",
    "for ix, n in enumerate(G.nodes()):\n",
    "    if ix < 10:\n",
    "        print(\"Node: '{0}'; Node ID: '{1}'\".format(n, G.node[n][\"node_id\"]))\n",
    "    else:\n",
    "        break"
   ]
  },
  {
   "cell_type": "code",
   "execution_count": null,
   "metadata": {},
   "outputs": [],
   "source": []
  }
 ],
 "metadata": {
  "kernelspec": {
   "display_name": "Python 3",
   "language": "python",
   "name": "python3"
  },
  "language_info": {
   "codemirror_mode": {
    "name": "ipython",
    "version": 3
   },
   "file_extension": ".py",
   "mimetype": "text/x-python",
   "name": "python",
   "nbconvert_exporter": "python",
   "pygments_lexer": "ipython3",
   "version": "3.6.9"
  }
 },
 "nbformat": 4,
 "nbformat_minor": 2
}
