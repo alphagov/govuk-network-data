{
 "cells": [
  {
   "cell_type": "markdown",
   "metadata": {},
   "source": [
    "This notebook provides code to read in processed journey data including the taxon variable. We then demonstrate how to rank user journeys (`Sequences`) by `Occurences`. We finally create a page taxon dictionary."
   ]
  },
  {
   "cell_type": "code",
   "execution_count": 2,
   "metadata": {},
   "outputs": [],
   "source": [
    "import os\n",
    "import pandas as pd"
   ]
  },
  {
   "cell_type": "code",
   "execution_count": 3,
   "metadata": {},
   "outputs": [],
   "source": [
    "from ast import literal_eval"
   ]
  },
  {
   "cell_type": "code",
   "execution_count": 4,
   "metadata": {},
   "outputs": [],
   "source": [
    "output = os.path.join(os.getenv(\"DATA_DIR\"),\"output\")"
   ]
  },
  {
   "cell_type": "code",
   "execution_count": 5,
   "metadata": {},
   "outputs": [
    {
     "data": {
      "text/plain": [
       "'/Users/felisialoukou/Documents/govuk-network-data/data/output/brexit_taxon_29_04.csv.gz'"
      ]
     },
     "execution_count": 5,
     "metadata": {},
     "output_type": "execute_result"
    }
   ],
   "source": [
    "result_path = os.path.join(output, \"brexit_taxon_29_04.csv.gz\")\n",
    "result_path"
   ]
  },
  {
   "cell_type": "code",
   "execution_count": 6,
   "metadata": {},
   "outputs": [],
   "source": [
    "df = pd.read_csv(result_path, sep=\"\\t\", compression=\"gzip\")"
   ]
  },
  {
   "cell_type": "code",
   "execution_count": 12,
   "metadata": {},
   "outputs": [
    {
     "data": {
      "text/plain": [
       "(77112, 17)"
      ]
     },
     "execution_count": 12,
     "metadata": {},
     "output_type": "execute_result"
    }
   ],
   "source": [
    "df.shape"
   ]
  },
  {
   "cell_type": "code",
   "execution_count": 7,
   "metadata": {},
   "outputs": [
    {
     "data": {
      "text/html": [
       "<div>\n",
       "<style scoped>\n",
       "    .dataframe tbody tr th:only-of-type {\n",
       "        vertical-align: middle;\n",
       "    }\n",
       "\n",
       "    .dataframe tbody tr th {\n",
       "        vertical-align: top;\n",
       "    }\n",
       "\n",
       "    .dataframe thead th {\n",
       "        text-align: right;\n",
       "    }\n",
       "</style>\n",
       "<table border=\"1\" class=\"dataframe\">\n",
       "  <thead>\n",
       "    <tr style=\"text-align: right;\">\n",
       "      <th></th>\n",
       "      <th>Occurrences</th>\n",
       "      <th>DeviceCategories</th>\n",
       "      <th>PageSeq_Length</th>\n",
       "      <th>Actions_Length</th>\n",
       "      <th>Dates</th>\n",
       "      <th>Sequence</th>\n",
       "      <th>PageSequence</th>\n",
       "      <th>Page_Event_List</th>\n",
       "      <th>Page_List</th>\n",
       "      <th>Event_List</th>\n",
       "      <th>num_event_cats</th>\n",
       "      <th>Event_cats_agg</th>\n",
       "      <th>Event_cat_act_agg</th>\n",
       "      <th>Taxon_List</th>\n",
       "      <th>Taxon_Page_List</th>\n",
       "      <th>Page_List_NL</th>\n",
       "      <th>Page_Seq_NL</th>\n",
       "    </tr>\n",
       "  </thead>\n",
       "  <tbody>\n",
       "    <tr>\n",
       "      <th>0</th>\n",
       "      <td>1</td>\n",
       "      <td>[('mobile', 1)]</td>\n",
       "      <td>2</td>\n",
       "      <td>2</td>\n",
       "      <td>[('20181029', 1)]</td>\n",
       "      <td>/government/news/new-fund-to-support-vulnerabl...</td>\n",
       "      <td>/government/news/new-fund-to-support-vulnerabl...</td>\n",
       "      <td>[('/government/news/new-fund-to-support-vulner...</td>\n",
       "      <td>['/government/news/new-fund-to-support-vulnera...</td>\n",
       "      <td>[('PAGE_NULL', 'PAGE_NULL'), ('PAGE_NULL', 'PA...</td>\n",
       "      <td>1</td>\n",
       "      <td>[('PAGE_NULL', 2)]</td>\n",
       "      <td>[(('PAGE_NULL', 'PAGE_NULL'), 2)]</td>\n",
       "      <td>['d6c2de5d-ef90-45d1-82d4-5f2438369eea,7f3e73e...</td>\n",
       "      <td>[('/government/news/new-fund-to-support-vulner...</td>\n",
       "      <td>['/government/news/new-fund-to-support-vulnera...</td>\n",
       "      <td>/government/news/new-fund-to-support-vulnerabl...</td>\n",
       "    </tr>\n",
       "    <tr>\n",
       "      <th>1</th>\n",
       "      <td>1</td>\n",
       "      <td>[('mobile', 1)]</td>\n",
       "      <td>2</td>\n",
       "      <td>2</td>\n",
       "      <td>[('20181029', 1)]</td>\n",
       "      <td>/guidance/use-software-to-submit-your-vat-retu...</td>\n",
       "      <td>/guidance/use-software-to-submit-your-vat-retu...</td>\n",
       "      <td>[('/guidance/use-software-to-submit-your-vat-r...</td>\n",
       "      <td>['/guidance/use-software-to-submit-your-vat-re...</td>\n",
       "      <td>[('PAGE_NULL', 'PAGE_NULL'), ('PAGE_NULL', 'PA...</td>\n",
       "      <td>1</td>\n",
       "      <td>[('PAGE_NULL', 2)]</td>\n",
       "      <td>[(('PAGE_NULL', 'PAGE_NULL'), 2)]</td>\n",
       "      <td>['b20215a9-25fb-4fa6-80a3-42e23f5352c2,426bf4a...</td>\n",
       "      <td>[('/guidance/use-software-to-submit-your-vat-r...</td>\n",
       "      <td>['/guidance/use-software-to-submit-your-vat-re...</td>\n",
       "      <td>/guidance/use-software-to-submit-your-vat-retu...</td>\n",
       "    </tr>\n",
       "    <tr>\n",
       "      <th>2</th>\n",
       "      <td>1</td>\n",
       "      <td>[('mobile', 1)]</td>\n",
       "      <td>2</td>\n",
       "      <td>2</td>\n",
       "      <td>[('20181029', 1)]</td>\n",
       "      <td>/guidance/get-funding-to-start-a-charity&lt;&lt;PAGE...</td>\n",
       "      <td>/guidance/get-funding-to-start-a-charity&gt;&gt;/gui...</td>\n",
       "      <td>[('/guidance/get-funding-to-start-a-charity', ...</td>\n",
       "      <td>['/guidance/get-funding-to-start-a-charity', '...</td>\n",
       "      <td>[('PAGE_NULL', 'PAGE_NULL'), ('PAGE_NULL', 'PA...</td>\n",
       "      <td>1</td>\n",
       "      <td>[('PAGE_NULL', 2)]</td>\n",
       "      <td>[(('PAGE_NULL', 'PAGE_NULL'), 2)]</td>\n",
       "      <td>['668cd623-c7a8-4159-9575-90caac36d4b4,71882e9...</td>\n",
       "      <td>[('/guidance/get-funding-to-start-a-charity', ...</td>\n",
       "      <td>['/guidance/get-funding-to-start-a-charity', '...</td>\n",
       "      <td>/guidance/get-funding-to-start-a-charity&gt;&gt;/gui...</td>\n",
       "    </tr>\n",
       "    <tr>\n",
       "      <th>3</th>\n",
       "      <td>3</td>\n",
       "      <td>[('mobile', 3)]</td>\n",
       "      <td>2</td>\n",
       "      <td>2</td>\n",
       "      <td>[('20181029', 1), ('20181030', 1), ('20181104'...</td>\n",
       "      <td>/guidance/living-in-sweden&lt;&lt;PAGE&lt;:&lt;NULL&lt;:&lt;NULL...</td>\n",
       "      <td>/guidance/living-in-sweden&gt;&gt;/foreign-travel-ad...</td>\n",
       "      <td>[('/guidance/living-in-sweden', 'PAGE&lt;:&lt;NULL&lt;:...</td>\n",
       "      <td>['/guidance/living-in-sweden', '/foreign-trave...</td>\n",
       "      <td>[('PAGE_NULL', 'PAGE_NULL'), ('PAGE_NULL', 'PA...</td>\n",
       "      <td>1</td>\n",
       "      <td>[('PAGE_NULL', 2)]</td>\n",
       "      <td>[(('PAGE_NULL', 'PAGE_NULL'), 2)]</td>\n",
       "      <td>['d6c2de5d-ef90-45d1-82d4-5f2438369eea,3dbeb4a...</td>\n",
       "      <td>[('/guidance/living-in-sweden', ('d6c2de5d-ef9...</td>\n",
       "      <td>['/guidance/living-in-sweden', '/foreign-trave...</td>\n",
       "      <td>/guidance/living-in-sweden&gt;&gt;/foreign-travel-ad...</td>\n",
       "    </tr>\n",
       "    <tr>\n",
       "      <th>4</th>\n",
       "      <td>2</td>\n",
       "      <td>[('mobile', 2)]</td>\n",
       "      <td>2</td>\n",
       "      <td>2</td>\n",
       "      <td>[('20181029', 1), ('20181101', 1)]</td>\n",
       "      <td>/guidance/eu-settlement-scheme-evidence-of-uk-...</td>\n",
       "      <td>/guidance/eu-settlement-scheme-evidence-of-uk-...</td>\n",
       "      <td>[('/guidance/eu-settlement-scheme-evidence-of-...</td>\n",
       "      <td>['/guidance/eu-settlement-scheme-evidence-of-u...</td>\n",
       "      <td>[('PAGE_NULL', 'PAGE_NULL'), ('PAGE_NULL', 'PA...</td>\n",
       "      <td>1</td>\n",
       "      <td>[('PAGE_NULL', 2)]</td>\n",
       "      <td>[(('PAGE_NULL', 'PAGE_NULL'), 2)]</td>\n",
       "      <td>['d6c2de5d-ef90-45d1-82d4-5f2438369eea,06e2928...</td>\n",
       "      <td>[('/guidance/eu-settlement-scheme-evidence-of-...</td>\n",
       "      <td>['/guidance/eu-settlement-scheme-evidence-of-u...</td>\n",
       "      <td>/guidance/eu-settlement-scheme-evidence-of-uk-...</td>\n",
       "    </tr>\n",
       "  </tbody>\n",
       "</table>\n",
       "</div>"
      ],
      "text/plain": [
       "   Occurrences DeviceCategories  PageSeq_Length  Actions_Length  \\\n",
       "0            1  [('mobile', 1)]               2               2   \n",
       "1            1  [('mobile', 1)]               2               2   \n",
       "2            1  [('mobile', 1)]               2               2   \n",
       "3            3  [('mobile', 3)]               2               2   \n",
       "4            2  [('mobile', 2)]               2               2   \n",
       "\n",
       "                                               Dates  \\\n",
       "0                                  [('20181029', 1)]   \n",
       "1                                  [('20181029', 1)]   \n",
       "2                                  [('20181029', 1)]   \n",
       "3  [('20181029', 1), ('20181030', 1), ('20181104'...   \n",
       "4                 [('20181029', 1), ('20181101', 1)]   \n",
       "\n",
       "                                            Sequence  \\\n",
       "0  /government/news/new-fund-to-support-vulnerabl...   \n",
       "1  /guidance/use-software-to-submit-your-vat-retu...   \n",
       "2  /guidance/get-funding-to-start-a-charity<<PAGE...   \n",
       "3  /guidance/living-in-sweden<<PAGE<:<NULL<:<NULL...   \n",
       "4  /guidance/eu-settlement-scheme-evidence-of-uk-...   \n",
       "\n",
       "                                        PageSequence  \\\n",
       "0  /government/news/new-fund-to-support-vulnerabl...   \n",
       "1  /guidance/use-software-to-submit-your-vat-retu...   \n",
       "2  /guidance/get-funding-to-start-a-charity>>/gui...   \n",
       "3  /guidance/living-in-sweden>>/foreign-travel-ad...   \n",
       "4  /guidance/eu-settlement-scheme-evidence-of-uk-...   \n",
       "\n",
       "                                     Page_Event_List  \\\n",
       "0  [('/government/news/new-fund-to-support-vulner...   \n",
       "1  [('/guidance/use-software-to-submit-your-vat-r...   \n",
       "2  [('/guidance/get-funding-to-start-a-charity', ...   \n",
       "3  [('/guidance/living-in-sweden', 'PAGE<:<NULL<:...   \n",
       "4  [('/guidance/eu-settlement-scheme-evidence-of-...   \n",
       "\n",
       "                                           Page_List  \\\n",
       "0  ['/government/news/new-fund-to-support-vulnera...   \n",
       "1  ['/guidance/use-software-to-submit-your-vat-re...   \n",
       "2  ['/guidance/get-funding-to-start-a-charity', '...   \n",
       "3  ['/guidance/living-in-sweden', '/foreign-trave...   \n",
       "4  ['/guidance/eu-settlement-scheme-evidence-of-u...   \n",
       "\n",
       "                                          Event_List  num_event_cats  \\\n",
       "0  [('PAGE_NULL', 'PAGE_NULL'), ('PAGE_NULL', 'PA...               1   \n",
       "1  [('PAGE_NULL', 'PAGE_NULL'), ('PAGE_NULL', 'PA...               1   \n",
       "2  [('PAGE_NULL', 'PAGE_NULL'), ('PAGE_NULL', 'PA...               1   \n",
       "3  [('PAGE_NULL', 'PAGE_NULL'), ('PAGE_NULL', 'PA...               1   \n",
       "4  [('PAGE_NULL', 'PAGE_NULL'), ('PAGE_NULL', 'PA...               1   \n",
       "\n",
       "       Event_cats_agg                  Event_cat_act_agg  \\\n",
       "0  [('PAGE_NULL', 2)]  [(('PAGE_NULL', 'PAGE_NULL'), 2)]   \n",
       "1  [('PAGE_NULL', 2)]  [(('PAGE_NULL', 'PAGE_NULL'), 2)]   \n",
       "2  [('PAGE_NULL', 2)]  [(('PAGE_NULL', 'PAGE_NULL'), 2)]   \n",
       "3  [('PAGE_NULL', 2)]  [(('PAGE_NULL', 'PAGE_NULL'), 2)]   \n",
       "4  [('PAGE_NULL', 2)]  [(('PAGE_NULL', 'PAGE_NULL'), 2)]   \n",
       "\n",
       "                                          Taxon_List  \\\n",
       "0  ['d6c2de5d-ef90-45d1-82d4-5f2438369eea,7f3e73e...   \n",
       "1  ['b20215a9-25fb-4fa6-80a3-42e23f5352c2,426bf4a...   \n",
       "2  ['668cd623-c7a8-4159-9575-90caac36d4b4,71882e9...   \n",
       "3  ['d6c2de5d-ef90-45d1-82d4-5f2438369eea,3dbeb4a...   \n",
       "4  ['d6c2de5d-ef90-45d1-82d4-5f2438369eea,06e2928...   \n",
       "\n",
       "                                     Taxon_Page_List  \\\n",
       "0  [('/government/news/new-fund-to-support-vulner...   \n",
       "1  [('/guidance/use-software-to-submit-your-vat-r...   \n",
       "2  [('/guidance/get-funding-to-start-a-charity', ...   \n",
       "3  [('/guidance/living-in-sweden', ('d6c2de5d-ef9...   \n",
       "4  [('/guidance/eu-settlement-scheme-evidence-of-...   \n",
       "\n",
       "                                        Page_List_NL  \\\n",
       "0  ['/government/news/new-fund-to-support-vulnera...   \n",
       "1  ['/guidance/use-software-to-submit-your-vat-re...   \n",
       "2  ['/guidance/get-funding-to-start-a-charity', '...   \n",
       "3  ['/guidance/living-in-sweden', '/foreign-trave...   \n",
       "4  ['/guidance/eu-settlement-scheme-evidence-of-u...   \n",
       "\n",
       "                                         Page_Seq_NL  \n",
       "0  /government/news/new-fund-to-support-vulnerabl...  \n",
       "1  /guidance/use-software-to-submit-your-vat-retu...  \n",
       "2  /guidance/get-funding-to-start-a-charity>>/gui...  \n",
       "3  /guidance/living-in-sweden>>/foreign-travel-ad...  \n",
       "4  /guidance/eu-settlement-scheme-evidence-of-uk-...  "
      ]
     },
     "execution_count": 7,
     "metadata": {},
     "output_type": "execute_result"
    }
   ],
   "source": [
    "df.head()"
   ]
  },
  {
   "cell_type": "code",
   "execution_count": 8,
   "metadata": {},
   "outputs": [
    {
     "data": {
      "text/plain": [
       "7573     ['/government/publications/amendments-to-tax-l...\n",
       "5178     ['/settled-status-eu-citizens-families', '/set...\n",
       "12514    ['/guidance/passport-rules-for-travel-to-europ...\n",
       "8789     ['/settled-status-eu-citizens-families', '/set...\n",
       "24604    ['/government/collections/eu-settlement-scheme...\n",
       "44296    ['/government/publications/eu-settlement-schem...\n",
       "8807     ['/settled-status-eu-citizens-families/applyin...\n",
       "6347     ['/settled-status-eu-citizens-families', '/set...\n",
       "6344     ['/settled-status-eu-citizens-families/applyin...\n",
       "14057    ['/government/collections/eu-settlement-scheme...\n",
       "5689     ['/guidance/passport-rules-for-travel-to-europ...\n",
       "3828     ['/government/publications/taking-your-pet-abr...\n",
       "8192     ['/government/collections/data-protection-act-...\n",
       "7572     ['/guidance/passport-rules-for-travel-to-europ...\n",
       "20049    ['/government/publications/cmas-role-if-theres...\n",
       "6346     ['/settled-status-eu-citizens-families', '/set...\n",
       "26048    ['/government/collections/eu-settlement-scheme...\n",
       "15570    ['/government/publications/cmas-role-after-bre...\n",
       "12518    ['/government/collections/how-to-prepare-if-th...\n",
       "11284    ['/government/publications/partnership-pack-pr...\n",
       "6345     ['/settled-status-eu-citizens-families', '/set...\n",
       "12515    ['/settled-status-eu-citizens-families', '/set...\n",
       "6348     ['/government/publications/amendments-to-tax-l...\n",
       "5112     ['/settled-status-eu-citizens-families', '/set...\n",
       "538      ['/guidance/eu-settlement-scheme-pilot-applica...\n",
       "12516    ['/government/publications/meeting-climate-cha...\n",
       "15573    ['/government/publications/cmas-role-in-merger...\n",
       "7566     ['/settled-status-eu-citizens-families/applyin...\n",
       "10109    ['/government/publications/partnership-pack-pr...\n",
       "10107    ['/settled-status-eu-citizens-families', '/set...\n",
       "                               ...                        \n",
       "27206    ['/government/publications/eu-settlement-schem...\n",
       "27205    ['/changing-passport-information', '/changing-...\n",
       "27204    ['/settled-status-eu-citizens-families/applyin...\n",
       "27202    ['/settled-status-eu-citizens-families/what-se...\n",
       "27211    ['/government/publications/maintaining-the-con...\n",
       "27201    ['/government/news/nhs-workers-and-students-to...\n",
       "27200    ['/guidance/prepare-to-drive-in-the-eu-after-b...\n",
       "27199    ['/browse/visas-immigration', '/settled-status...\n",
       "27198    ['/government/speeches/foreign-secretary-speec...\n",
       "27197    ['/', '/search?q=setlled+', '/search?q=‘pre-se...\n",
       "27196    ['/', '/search?q=settlement+eu', '/settled-sta...\n",
       "27210    ['/uk-residence-eu-citizens', '/uk-residence-e...\n",
       "27212    ['/government/latest?departments[]=migration-a...\n",
       "27228    ['/settled-status-eu-citizens-families/applyin...\n",
       "27221    ['/guidance/import-and-export-customs-comprehe...\n",
       "27227    ['/settle-in-the-uk', '/settle-in-the-uk/y', '...\n",
       "27226    ['/government/organisations/department-for-exi...\n",
       "27225    ['/government/organisations/uk-visas-and-immig...\n",
       "27224    ['/british-citizenship', '/apply-citizenship-b...\n",
       "27223    ['/government/collections/financial-services-l...\n",
       "27222    ['/government/collections/how-to-prepare-if-th...\n",
       "27220    ['/foreign-travel-advice', '/foreign-travel-ad...\n",
       "27213    ['/government/publications/paye-end-of-year-ex...\n",
       "27219    ['/settled-status-eu-citizens-families', '/bro...\n",
       "27218    ['/government/publications/parents-grandparent...\n",
       "27217    ['/browse/visas-immigration/settle-in-the-uk',...\n",
       "27216    ['/government/news/home-office-launches-toolki...\n",
       "27215    ['/', '/search?q=pre-settled+status', '/settle...\n",
       "27214    ['/guidance/advice-for-british-nationals-trave...\n",
       "38556    ['/transport/freight-and-cargo', '/guidance/pr...\n",
       "Name: Page_List, Length: 77112, dtype: object"
      ]
     },
     "execution_count": 8,
     "metadata": {},
     "output_type": "execute_result"
    }
   ],
   "source": [
    "df.sort_values(\"Occurrences\",ascending=False).Page_List"
   ]
  },
  {
   "cell_type": "code",
   "execution_count": 9,
   "metadata": {},
   "outputs": [
    {
     "data": {
      "text/plain": [
       "Index(['Occurrences', 'DeviceCategories', 'PageSeq_Length', 'Actions_Length',\n",
       "       'Dates', 'Sequence', 'PageSequence', 'Page_Event_List', 'Page_List',\n",
       "       'Event_List', 'num_event_cats', 'Event_cats_agg', 'Event_cat_act_agg',\n",
       "       'Taxon_List', 'Taxon_Page_List', 'Page_List_NL', 'Page_Seq_NL'],\n",
       "      dtype='object')"
      ]
     },
     "execution_count": 9,
     "metadata": {},
     "output_type": "execute_result"
    }
   ],
   "source": [
    "df.columns"
   ]
  },
  {
   "cell_type": "code",
   "execution_count": 10,
   "metadata": {},
   "outputs": [
    {
     "name": "stdout",
     "output_type": "stream",
     "text": [
      "Page_Event_List\n",
      "Page_List\n",
      "Event_List\n",
      "Taxon_List\n",
      "Taxon_Page_List\n",
      "Page_List_NL\n"
     ]
    }
   ],
   "source": [
    "for column in df.columns:\n",
    "    if \"List\" in column:\n",
    "        print(column)\n",
    "        df[column] = df[column].map(literal_eval)"
   ]
  },
  {
   "cell_type": "code",
   "execution_count": 11,
   "metadata": {},
   "outputs": [
    {
     "name": "stdout",
     "output_type": "stream",
     "text": [
      "('/government/news/new-fund-to-support-vulnerable-eu-citizens-apply-for-settled-status', ('d6c2de5d-ef90-45d1-82d4-5f2438369eea', '7f3e73e4-f20d-43be-9c80-021f2ac1897f'))\n",
      "('/email/authenticate?address=[email]', ('other',))\n",
      "('/guidance/use-software-to-submit-your-vat-returns', ('b20215a9-25fb-4fa6-80a3-42e23f5352c2', '426bf4a1-865b-4e4a-81ef-b2abeab6a39d'))\n",
      "('/government/publications/partnership-pack-preparing-for-a-no-deal-eu-exit', ('d6c2de5d-ef90-45d1-82d4-5f2438369eea', '5984199c-d85c-4ffc-b13a-c5f2482d2258'))\n",
      "('/guidance/get-funding-to-start-a-charity', ('668cd623-c7a8-4159-9575-90caac36d4b4', '71882e94-5491-49d2-b2f8-9f7e84611080'))\n",
      "('/guidance/eu-settlement-scheme-pilot-applicant-eligibility', ('d6c2de5d-ef90-45d1-82d4-5f2438369eea', '7f3e73e4-f20d-43be-9c80-021f2ac1897f'))\n",
      "('/guidance/living-in-sweden', ('d6c2de5d-ef90-45d1-82d4-5f2438369eea', '3dbeb4a3-33c0-4bda-bd21-b721b0f8736f', 'ecd9e694-366d-4014-83c0-081a4af04e92'))\n",
      "('/foreign-travel-advice/sweden/safety-and-security', ('ecd9e694-366d-4014-83c0-081a4af04e92', 'f0adad7c-029a-4eba-9d23-c19f2da49b2d'))\n",
      "('/guidance/eu-settlement-scheme-evidence-of-uk-residence', ('d6c2de5d-ef90-45d1-82d4-5f2438369eea', '06e2928c-57b1-4b8d-a06e-3dde9ce63a6f'))\n",
      "('/government/organisations/uk-visas-and-immigration', ('other',))\n",
      "('/settled-status-eu-citizens-families', ('d4c4d91d-fbe7-4eff-bd57-189138c626c9', 'd6c2de5d-ef90-45d1-82d4-5f2438369eea'))\n",
      "('/browse/employing-people', ('other',))\n",
      "('/government/news/uk-vietnam-joint-statement-london-10-october-2018', ('d6c2de5d-ef90-45d1-82d4-5f2438369eea', '00eb9a66-ca33-4515-b425-b01bffc43ff1', '37d0fa26-abed-4c74-8835-b3b51ae1c8b2'))\n",
      "('/government/news/uk-vietnam-joint-statement-london-10-october-2018', ('d6c2de5d-ef90-45d1-82d4-5f2438369eea', '00eb9a66-ca33-4515-b425-b01bffc43ff1', '37d0fa26-abed-4c74-8835-b3b51ae1c8b2'))\n",
      "('/guidance/advice-for-british-nationals-travelling-and-living-in-europe', ('d4c4d91d-fbe7-4eff-bd57-189138c626c9', 'd6c2de5d-ef90-45d1-82d4-5f2438369eea', '3dbeb4a3-33c0-4bda-bd21-b721b0f8736f', '3afd1d79-597d-4f97-bc7a-83766dcab2f4'))\n",
      "('/browse/abroad/passports', ('other',))\n",
      "('/', ('other',))\n",
      "('/settled-status-eu-citizens-families/applying-for-settled-status', ('d4c4d91d-fbe7-4eff-bd57-189138c626c9', 'd6c2de5d-ef90-45d1-82d4-5f2438369eea'))\n",
      "('/foreign-travel-advice/finland/entry-requirements', ('b92abb29-3a48-4863-bd4b-1d93eadaa6d2', '4f631255-4b54-4d55-b5aa-a6b39a090bc7'))\n",
      "('/guidance/passport-rules-for-travel-to-europe-after-brexit', ('d6c2de5d-ef90-45d1-82d4-5f2438369eea', '27b9c5cd-b390-4332-89be-73491df35a41', 'd96e4efc-9c26-4d9b-9fa7-a036b5c11a65'))\n"
     ]
    }
   ],
   "source": [
    "for tup in df[0:10].itertuples():\n",
    "    for page in tup.Taxon_Page_List:\n",
    "        print(page)"
   ]
  },
  {
   "cell_type": "code",
   "execution_count": 17,
   "metadata": {},
   "outputs": [],
   "source": [
    "page_taxon_dict = {}\n",
    "# [df.PageSeq_Length>2][0:5]\n",
    "for tup in df.itertuples():\n",
    "    for page, taxons in tup.Taxon_Page_List:\n",
    "#         print(page,\":::\",taxons)\n",
    "        if page not in page_taxon_dict.keys():\n",
    "            page_taxon_dict[page] = taxons\n",
    "#     print(\"++++\")"
   ]
  },
  {
   "cell_type": "code",
   "execution_count": 18,
   "metadata": {},
   "outputs": [
    {
     "data": {
      "text/plain": [
       "45401"
      ]
     },
     "execution_count": 18,
     "metadata": {},
     "output_type": "execute_result"
    }
   ],
   "source": [
    "len(page_taxon_dict)"
   ]
  },
  {
   "cell_type": "code",
   "execution_count": null,
   "metadata": {},
   "outputs": [],
   "source": []
  }
 ],
 "metadata": {
  "kernelspec": {
   "display_name": "Python 3",
   "language": "python",
   "name": "python3"
  },
  "language_info": {
   "codemirror_mode": {
    "name": "ipython",
    "version": 3
   },
   "file_extension": ".py",
   "mimetype": "text/x-python",
   "name": "python",
   "nbconvert_exporter": "python",
   "pygments_lexer": "ipython3",
   "version": "3.6.0"
  }
 },
 "nbformat": 4,
 "nbformat_minor": 2
}
