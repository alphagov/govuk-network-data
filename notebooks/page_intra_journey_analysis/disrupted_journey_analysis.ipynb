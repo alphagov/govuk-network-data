{
 "cells": [
  {
   "cell_type": "code",
   "execution_count": null,
   "metadata": {
    "ExecuteTime": {
     "end_time": "2019-03-01T15:33:09.208329Z",
     "start_time": "2019-03-01T15:33:06.775609Z"
    }
   },
   "outputs": [],
   "source": [
    "import os \n",
    "import pandas as pd\n",
    "import numpy as np\n",
    "import ast\n",
    "import matplotlib.pyplot as plt\n",
    "import re\n",
    "import tqdm\n",
    "\n",
    "from collections import Counter\n",
    "\n",
    "# progress bar\n",
    "from tqdm import tqdm, tqdm_notebook\n",
    "# instantiate progress bar goodness\n",
    "tqdm.pandas(tqdm_notebook)\n",
    "\n",
    "# print long str\n",
    "pd.set_option('max_colwidth',500)"
   ]
  },
  {
   "cell_type": "code",
   "execution_count": null,
   "metadata": {
    "ExecuteTime": {
     "end_time": "2019-03-01T15:33:09.214013Z",
     "start_time": "2019-03-01T15:33:09.211055Z"
    }
   },
   "outputs": [],
   "source": [
    "page_of_interest = \"/help/cookies\""
   ]
  },
  {
   "cell_type": "markdown",
   "metadata": {},
   "source": [
    "# The problem\n",
    "We are interested in inspecting user journeys to determine whether a specific page is disruptive to those journeys, let's call it Page X. We use some pseudocode art to describe what we mean informerly:\n",
    "\n",
    "**Succesful or undisrupted journey**  \n",
    "A -> X -> A\n",
    "\n",
    "**Unsuccesful or disrupted journey**    \n",
    "A -> X -> NOT A  \n",
    "A -> X -> Exit\n",
    "\n",
    "Where `A` is a node in a journey immediately prior to `X` (`A` can be any page except `X`). A succesful or not disrupted journey, will be looped, that is a user will travel to `X` from `A`, then return back to `A` again, continuing their journey undisrupted. An unsuccesful journey or disrupted journey is considered to be anything else, including the user leaving the site."
   ]
  },
  {
   "cell_type": "markdown",
   "metadata": {},
   "source": [
    "# Using this notebook\n",
    "This notebook is written for those new to Python. Accordingly, we don't always use the most Pythonic or efficient code. Instead we opt for code that is most explicit and easy to follow with lots of examples."
   ]
  },
  {
   "cell_type": "markdown",
   "metadata": {},
   "source": [
    "# File/dir locations\n"
   ]
  },
  {
   "cell_type": "markdown",
   "metadata": {},
   "source": [
    "We use a recent processed_journey dataset derived from using this repo."
   ]
  },
  {
   "cell_type": "code",
   "execution_count": null,
   "metadata": {
    "ExecuteTime": {
     "end_time": "2019-03-01T15:33:09.221668Z",
     "start_time": "2019-03-01T15:33:09.216617Z"
    }
   },
   "outputs": [],
   "source": [
    "DATA_DIR = os.getenv(\"DATA_DIR\")\n",
    "filename = \"full_sample_taxon_ab_2019_947858.csv.gz\"\n",
    "df_file = os.path.join(\n",
    "    DATA_DIR, \"processed_journey\",\n",
    "    filename)\n",
    "\n",
    "print(df_file)"
   ]
  },
  {
   "cell_type": "markdown",
   "metadata": {},
   "source": [
    "Load up a data file that isn't too large. Here we use a sampled dataset from a week's worth of data of the 21-27 Jan 2019. It includes A and B variants but we can just merge the same journeys on the different variants."
   ]
  },
  {
   "cell_type": "code",
   "execution_count": null,
   "metadata": {
    "ExecuteTime": {
     "end_time": "2019-03-01T15:33:25.484916Z",
     "start_time": "2019-03-01T15:33:09.225112Z"
    }
   },
   "outputs": [],
   "source": [
    "df = pd.read_csv(df_file, compression=\"gzip\", sep='\\t', encoding='utf-8')"
   ]
  },
  {
   "cell_type": "code",
   "execution_count": null,
   "metadata": {
    "ExecuteTime": {
     "end_time": "2019-03-01T15:35:38.627226Z",
     "start_time": "2019-03-01T15:33:25.488238Z"
    }
   },
   "outputs": [],
   "source": [
    "# convert from str to list\n",
    "df['Event_cat_act_agg']= df['Event_cat_act_agg'].progress_apply(ast.literal_eval)\n",
    "df['Page_Event_List'] = df['Page_Event_List'].progress_apply(ast.literal_eval)\n",
    "df['Page_List'] = df['Page_List'].progress_apply(ast.literal_eval)\n",
    "df['Page_List_Length'] = df['Page_List'].progress_apply(len)\n"
   ]
  },
  {
   "cell_type": "code",
   "execution_count": null,
   "metadata": {
    "ExecuteTime": {
     "end_time": "2019-03-01T15:35:38.682041Z",
     "start_time": "2019-03-01T15:35:38.629735Z"
    }
   },
   "outputs": [],
   "source": [
    "df.head(2)"
   ]
  },
  {
   "cell_type": "code",
   "execution_count": null,
   "metadata": {
    "ExecuteTime": {
     "end_time": "2019-03-01T15:35:38.942993Z",
     "start_time": "2019-03-01T15:35:38.684113Z"
    }
   },
   "outputs": [],
   "source": [
    "df.info()"
   ]
  },
  {
   "cell_type": "markdown",
   "metadata": {},
   "source": [
    "# Page_List approach\n",
    "We are interested in counting each of the different types of journey given in the problem definition.\n",
    "\n",
    "**Succesful or undisrupted journey**  \n",
    "A -> X -> A\n",
    "\n",
    "**Unsuccesful or disrupted journey**    \n",
    "A -> X -> NOT A  \n",
    "A -> X -> Exit"
   ]
  },
  {
   "cell_type": "markdown",
   "metadata": {},
   "source": [
    "# Filtering relevant journeys"
   ]
  },
  {
   "cell_type": "markdown",
   "metadata": {},
   "source": [
    "## Does a journey or Page_List include your page_of_interest?"
   ]
  },
  {
   "cell_type": "code",
   "execution_count": null,
   "metadata": {
    "ExecuteTime": {
     "end_time": "2019-03-01T15:35:38.952100Z",
     "start_time": "2019-03-01T15:35:38.945428Z"
    }
   },
   "outputs": [],
   "source": [
    "# does each journey contain page_of_interest?\n",
    "df.Page_List.head(1)"
   ]
  },
  {
   "cell_type": "code",
   "execution_count": null,
   "metadata": {
    "ExecuteTime": {
     "end_time": "2019-03-01T15:35:38.959646Z",
     "start_time": "2019-03-01T15:35:38.954527Z"
    }
   },
   "outputs": [],
   "source": [
    "def journey_of_interest(page_list):\n",
    "    \"\"\"Checks whether page_of_interest occurs in a page_list.\n",
    "    \n",
    "    Where a page_list is a journey and page_of_interest is\n",
    "    a global variable.\n",
    "    \n",
    "    \"\"\"\n",
    "    if page_of_interest in page_list:\n",
    "        return True\n",
    "    else:\n",
    "        return False"
   ]
  },
  {
   "cell_type": "code",
   "execution_count": null,
   "metadata": {
    "ExecuteTime": {
     "end_time": "2019-03-01T15:35:38.967198Z",
     "start_time": "2019-03-01T15:35:38.962211Z"
    }
   },
   "outputs": [],
   "source": [
    "journey_of_interest([\"A\", page_of_interest, \"A\"])"
   ]
  },
  {
   "cell_type": "code",
   "execution_count": null,
   "metadata": {
    "ExecuteTime": {
     "end_time": "2019-03-01T15:35:38.973695Z",
     "start_time": "2019-03-01T15:35:38.969190Z"
    }
   },
   "outputs": [],
   "source": [
    "journey_of_interest([\"A\", page_of_interest, \"B\"])"
   ]
  },
  {
   "cell_type": "code",
   "execution_count": null,
   "metadata": {
    "ExecuteTime": {
     "end_time": "2019-03-01T15:35:38.981845Z",
     "start_time": "2019-03-01T15:35:38.976072Z"
    }
   },
   "outputs": [],
   "source": [
    "journey_of_interest([\"A\", \"A\", \"B\"])"
   ]
  },
  {
   "cell_type": "code",
   "execution_count": null,
   "metadata": {
    "ExecuteTime": {
     "end_time": "2019-03-01T15:35:39.267696Z",
     "start_time": "2019-03-01T15:35:38.984175Z"
    }
   },
   "outputs": [],
   "source": [
    "df['contains_page_of_interest'] = df['Page_List'].apply(journey_of_interest)\n"
   ]
  },
  {
   "cell_type": "code",
   "execution_count": null,
   "metadata": {
    "ExecuteTime": {
     "end_time": "2019-03-01T15:38:25.694804Z",
     "start_time": "2019-03-01T15:38:25.681624Z"
    }
   },
   "outputs": [],
   "source": [
    "df.contains_page_of_interest.value_counts()"
   ]
  },
  {
   "cell_type": "markdown",
   "metadata": {},
   "source": [
    "## Filter for journeys that contain the page_of_interest\n",
    "We reduce the number of rows we are working with."
   ]
  },
  {
   "cell_type": "code",
   "execution_count": null,
   "metadata": {
    "ExecuteTime": {
     "end_time": "2019-03-01T15:38:46.412140Z",
     "start_time": "2019-03-01T15:38:46.406021Z"
    },
    "scrolled": true
   },
   "outputs": [],
   "source": [
    "# As it's a logical variable we keep the rows that were True for Contains_page_of_interest\n",
    "df = df[df['contains_page_of_interest']]\n",
    "\n",
    "df.shape"
   ]
  },
  {
   "cell_type": "markdown",
   "metadata": {},
   "source": [
    "## Where in the Page_List does the page_of_interest occurr?\n"
   ]
  },
  {
   "cell_type": "markdown",
   "metadata": {},
   "source": [
    "We probably want to know where it happens in a journey, so that we can extract the previous page and the next page, in order to assign the journey as undistrupted or distrupted."
   ]
  },
  {
   "cell_type": "code",
   "execution_count": null,
   "metadata": {
    "ExecuteTime": {
     "end_time": "2019-03-01T15:38:49.996957Z",
     "start_time": "2019-03-01T15:38:49.993247Z"
    }
   },
   "outputs": [],
   "source": [
    "def where_page_of_interest(page_list):\n",
    "    \"\"\"Return the indices of where the page of interest occurs in the page_list.\"\"\"\n",
    "    indices = [i for i, x in enumerate(page_list) if x == page_of_interest]\n",
    "    return indices\n",
    "\n"
   ]
  },
  {
   "cell_type": "code",
   "execution_count": null,
   "metadata": {
    "ExecuteTime": {
     "end_time": "2019-03-01T15:38:59.970548Z",
     "start_time": "2019-03-01T15:38:59.219568Z"
    }
   },
   "outputs": [],
   "source": [
    "df['where_page_of_interest'] = df['Page_List'].apply(where_page_of_interest)\n"
   ]
  },
  {
   "cell_type": "code",
   "execution_count": null,
   "metadata": {
    "ExecuteTime": {
     "end_time": "2019-03-01T15:39:09.473724Z",
     "start_time": "2019-03-01T15:39:09.457727Z"
    }
   },
   "outputs": [],
   "source": [
    "df.head(2)"
   ]
  },
  {
   "cell_type": "code",
   "execution_count": null,
   "metadata": {},
   "outputs": [],
   "source": []
  }
 ],
 "metadata": {
  "kernelspec": {
   "display_name": "Python 3",
   "language": "python",
   "name": "python3"
  },
  "language_info": {
   "codemirror_mode": {
    "name": "ipython",
    "version": 3
   },
   "file_extension": ".py",
   "mimetype": "text/x-python",
   "name": "python",
   "nbconvert_exporter": "python",
   "pygments_lexer": "ipython3",
   "version": "3.6.8"
  },
  "toc": {
   "base_numbering": 1,
   "nav_menu": {},
   "number_sections": true,
   "sideBar": true,
   "skip_h1_title": false,
   "title_cell": "Table of Contents",
   "title_sidebar": "Contents",
   "toc_cell": false,
   "toc_position": {},
   "toc_section_display": true,
   "toc_window_display": false
  }
 },
 "nbformat": 4,
 "nbformat_minor": 2
}
