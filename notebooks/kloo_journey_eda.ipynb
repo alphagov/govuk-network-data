{
 "cells": [
  {
   "cell_type": "code",
   "execution_count": 1,
   "metadata": {},
   "outputs": [],
   "source": [
    "import os\n",
    "import pandas as pd\n",
    "import numpy as np\n",
    "import matplotlib.pyplot as plt\n",
    "import matplotlib.patches as patches\n",
    "import seaborn as sns\n",
    "from beakerx import *"
   ]
  },
  {
   "cell_type": "markdown",
   "metadata": {},
   "source": [
    "### Import data"
   ]
  },
  {
   "cell_type": "code",
   "execution_count": 2,
   "metadata": {},
   "outputs": [
    {
     "data": {
      "text/plain": [
       "'/Volumes/GoogleDrive/Team Drives/GOV.UK teams/2018-2019/Q3/Knowledge up Q3/Data science/data/processed_journey'"
      ]
     },
     "execution_count": 2,
     "metadata": {},
     "output_type": "execute_result"
    }
   ],
   "source": [
    "DATADIR = os.path.join(os.getenv(\"DATA_DIR\"), 'processed_journey')\n",
    "DATADIR"
   ]
  },
  {
   "cell_type": "code",
   "execution_count": 3,
   "metadata": {},
   "outputs": [
    {
     "data": {
      "text/plain": [
       "'/Volumes/GoogleDrive/Team Drives/GOV.UK teams/2018-2019/Q3/Knowledge up Q3/Data science/data/processed_journey'"
      ]
     },
     "execution_count": 3,
     "metadata": {},
     "output_type": "execute_result"
    }
   ],
   "source": [
    "DATADIR"
   ]
  },
  {
   "cell_type": "code",
   "execution_count": 4,
   "metadata": {},
   "outputs": [],
   "source": [
    "journeys1 = pd.read_csv(os.path.join(DATADIR, \"kloo_prelim_meta_standard_with_pageseq_from_29-10_to_01-11-2018.csv.gz\"), compression='gzip')"
   ]
  },
  {
   "cell_type": "code",
   "execution_count": 5,
   "metadata": {},
   "outputs": [
    {
     "data": {
      "text/plain": [
       "(890977, 15)"
      ]
     },
     "execution_count": 5,
     "metadata": {},
     "output_type": "execute_result"
    }
   ],
   "source": [
    "journeys1.shape"
   ]
  },
  {
   "cell_type": "code",
   "execution_count": 6,
   "metadata": {},
   "outputs": [
    {
     "data": {
      "text/html": [
       "<div>\n",
       "<style scoped>\n",
       "    .dataframe tbody tr th:only-of-type {\n",
       "        vertical-align: middle;\n",
       "    }\n",
       "\n",
       "    .dataframe tbody tr th {\n",
       "        vertical-align: top;\n",
       "    }\n",
       "\n",
       "    .dataframe thead th {\n",
       "        text-align: right;\n",
       "    }\n",
       "</style>\n",
       "<table border=\"1\" class=\"dataframe\">\n",
       "  <thead>\n",
       "    <tr style=\"text-align: right;\">\n",
       "      <th></th>\n",
       "      <th>Sequence</th>\n",
       "      <th>Occurrences</th>\n",
       "      <th>DeviceCategories</th>\n",
       "      <th>Dates</th>\n",
       "      <th>Page_Event_List</th>\n",
       "      <th>Page_List</th>\n",
       "      <th>PageSequence</th>\n",
       "      <th>Event_List</th>\n",
       "      <th>num_event_cats</th>\n",
       "      <th>Event_cats_agg</th>\n",
       "      <th>Event_cat_act_agg</th>\n",
       "      <th>Page_List_NL</th>\n",
       "      <th>Page_Seq_NL</th>\n",
       "      <th>Page_Seq_Occurrences</th>\n",
       "      <th>Occurrences_NL</th>\n",
       "    </tr>\n",
       "  </thead>\n",
       "  <tbody>\n",
       "    <tr>\n",
       "      <th>0</th>\n",
       "      <td>/guidance/rates-and-thresholds-for-employers-2...</td>\n",
       "      <td>87</td>\n",
       "      <td>[('desktop', 64), ('mobile', 11), ('tablet', 12)]</td>\n",
       "      <td>[('20181031', 33), ('20181029', 27), ('2018110...</td>\n",
       "      <td>[('/guidance/rates-and-thresholds-for-employer...</td>\n",
       "      <td>['/guidance/rates-and-thresholds-for-employers...</td>\n",
       "      <td>/guidance/rates-and-thresholds-for-employers-2...</td>\n",
       "      <td>[('PAGE_NULL', 'PAGE_NULL')]</td>\n",
       "      <td>1</td>\n",
       "      <td>[('PAGE_NULL', 1)]</td>\n",
       "      <td>[(('PAGE_NULL', 'PAGE_NULL'), 1)]</td>\n",
       "      <td>['/guidance/rates-and-thresholds-for-employers...</td>\n",
       "      <td>/guidance/rates-and-thresholds-for-employers-2...</td>\n",
       "      <td>118</td>\n",
       "      <td>2360</td>\n",
       "    </tr>\n",
       "    <tr>\n",
       "      <th>1</th>\n",
       "      <td>/historic-vehicles/apply-for-vehicle-tax-exemp...</td>\n",
       "      <td>115</td>\n",
       "      <td>[('mobile', 63), ('desktop', 37), ('tablet', 15)]</td>\n",
       "      <td>[('20181031', 35), ('20181029', 25), ('2018110...</td>\n",
       "      <td>[('/historic-vehicles/apply-for-vehicle-tax-ex...</td>\n",
       "      <td>['/historic-vehicles/apply-for-vehicle-tax-exe...</td>\n",
       "      <td>/historic-vehicles/apply-for-vehicle-tax-exemp...</td>\n",
       "      <td>[('PAGE_NULL', 'PAGE_NULL')]</td>\n",
       "      <td>1</td>\n",
       "      <td>[('PAGE_NULL', 1)]</td>\n",
       "      <td>[(('PAGE_NULL', 'PAGE_NULL'), 1)]</td>\n",
       "      <td>['/historic-vehicles/apply-for-vehicle-tax-exe...</td>\n",
       "      <td>/historic-vehicles/apply-for-vehicle-tax-exemp...</td>\n",
       "      <td>125</td>\n",
       "      <td>625</td>\n",
       "    </tr>\n",
       "    <tr>\n",
       "      <th>2</th>\n",
       "      <td>/government-gateway&lt;&lt;PAGE&lt;:&lt;NULL&lt;:&lt;NULL</td>\n",
       "      <td>1352</td>\n",
       "      <td>[('mobile', 576), ('tablet', 149), ('desktop',...</td>\n",
       "      <td>[('20181031', 376), ('20181029', 413), ('20181...</td>\n",
       "      <td>[('/government-gateway', 'PAGE&lt;:&lt;NULL&lt;:&lt;NULL')]</td>\n",
       "      <td>['/government-gateway']</td>\n",
       "      <td>/government-gateway</td>\n",
       "      <td>[('PAGE_NULL', 'PAGE_NULL')]</td>\n",
       "      <td>1</td>\n",
       "      <td>[('PAGE_NULL', 1)]</td>\n",
       "      <td>[(('PAGE_NULL', 'PAGE_NULL'), 1)]</td>\n",
       "      <td>['/government-gateway']</td>\n",
       "      <td>/government-gateway</td>\n",
       "      <td>3539</td>\n",
       "      <td>244191</td>\n",
       "    </tr>\n",
       "    <tr>\n",
       "      <th>3</th>\n",
       "      <td>/guidance/passport-rules-for-travel-to-europe-...</td>\n",
       "      <td>70</td>\n",
       "      <td>[('desktop', 56), ('tablet', 13), ('mobile', 1)]</td>\n",
       "      <td>[('20181031', 33), ('20181029', 6), ('20181102...</td>\n",
       "      <td>[('/guidance/passport-rules-for-travel-to-euro...</td>\n",
       "      <td>['/guidance/passport-rules-for-travel-to-europ...</td>\n",
       "      <td>/guidance/passport-rules-for-travel-to-europe-...</td>\n",
       "      <td>[('user_satisfaction_survey', 'banner_shown'),...</td>\n",
       "      <td>2</td>\n",
       "      <td>[('user_satisfaction_survey', 1), ('PAGE_NULL'...</td>\n",
       "      <td>[(('user_satisfaction_survey', 'banner_shown')...</td>\n",
       "      <td>['/guidance/passport-rules-for-travel-to-europ...</td>\n",
       "      <td>/guidance/passport-rules-for-travel-to-europe-...</td>\n",
       "      <td>5882</td>\n",
       "      <td>335274</td>\n",
       "    </tr>\n",
       "    <tr>\n",
       "      <th>4</th>\n",
       "      <td>/claim-national-insurance-refund&lt;&lt;PAGE&lt;:&lt;NULL&lt;...</td>\n",
       "      <td>158</td>\n",
       "      <td>[('desktop', 52), ('mobile', 96), ('tablet', 10)]</td>\n",
       "      <td>[('20181031', 35), ('20181029', 65), ('2018110...</td>\n",
       "      <td>[('/claim-national-insurance-refund', 'PAGE&lt;:&lt;...</td>\n",
       "      <td>['/claim-national-insurance-refund']</td>\n",
       "      <td>/claim-national-insurance-refund</td>\n",
       "      <td>[('PAGE_NULL', 'PAGE_NULL')]</td>\n",
       "      <td>1</td>\n",
       "      <td>[('PAGE_NULL', 1)]</td>\n",
       "      <td>[(('PAGE_NULL', 'PAGE_NULL'), 1)]</td>\n",
       "      <td>['/claim-national-insurance-refund']</td>\n",
       "      <td>/claim-national-insurance-refund</td>\n",
       "      <td>164</td>\n",
       "      <td>656</td>\n",
       "    </tr>\n",
       "    <tr>\n",
       "      <th>5</th>\n",
       "      <td>/government/publications/alternative-dispute-r...</td>\n",
       "      <td>242</td>\n",
       "      <td>[('tablet', 9), ('desktop', 172), ('mobile', 61)]</td>\n",
       "      <td>[('20181031', 66), ('20181029', 90), ('2018110...</td>\n",
       "      <td>[('/government/publications/alternative-disput...</td>\n",
       "      <td>['/government/publications/alternative-dispute...</td>\n",
       "      <td>/government/publications/alternative-dispute-r...</td>\n",
       "      <td>[('PAGE_NULL', 'PAGE_NULL')]</td>\n",
       "      <td>1</td>\n",
       "      <td>[('PAGE_NULL', 1)]</td>\n",
       "      <td>[(('PAGE_NULL', 'PAGE_NULL'), 1)]</td>\n",
       "      <td>['/government/publications/alternative-dispute...</td>\n",
       "      <td>/government/publications/alternative-dispute-r...</td>\n",
       "      <td>302</td>\n",
       "      <td>8456</td>\n",
       "    </tr>\n",
       "    <tr>\n",
       "      <th>6</th>\n",
       "      <td>/voting-in-the-uk&lt;&lt;PAGE&lt;:&lt;NULL&lt;:&lt;NULL</td>\n",
       "      <td>684</td>\n",
       "      <td>[('mobile', 290), ('desktop', 371), ('tablet',...</td>\n",
       "      <td>[('20181031', 203), ('20181029', 211), ('20181...</td>\n",
       "      <td>[('/voting-in-the-uk', 'PAGE&lt;:&lt;NULL&lt;:&lt;NULL')]</td>\n",
       "      <td>['/voting-in-the-uk']</td>\n",
       "      <td>/voting-in-the-uk</td>\n",
       "      <td>[('PAGE_NULL', 'PAGE_NULL')]</td>\n",
       "      <td>1</td>\n",
       "      <td>[('PAGE_NULL', 1)]</td>\n",
       "      <td>[(('PAGE_NULL', 'PAGE_NULL'), 1)]</td>\n",
       "      <td>['/voting-in-the-uk']</td>\n",
       "      <td>/voting-in-the-uk</td>\n",
       "      <td>702</td>\n",
       "      <td>4914</td>\n",
       "    </tr>\n",
       "    <tr>\n",
       "      <th>7</th>\n",
       "      <td>/government/organisations/hm-revenue-customs&lt;&lt;...</td>\n",
       "      <td>774</td>\n",
       "      <td>[('desktop', 724), ('tablet', 50)]</td>\n",
       "      <td>[('20181031', 226), ('20181029', 235), ('20181...</td>\n",
       "      <td>[('/government/organisations/hm-revenue-custom...</td>\n",
       "      <td>['/government/organisations/hm-revenue-customs']</td>\n",
       "      <td>/government/organisations/hm-revenue-customs</td>\n",
       "      <td>[('user_satisfaction_survey', 'banner_shown'),...</td>\n",
       "      <td>2</td>\n",
       "      <td>[('user_satisfaction_survey', 1), ('PAGE_NULL'...</td>\n",
       "      <td>[(('user_satisfaction_survey', 'banner_shown')...</td>\n",
       "      <td>['/government/organisations/hm-revenue-customs']</td>\n",
       "      <td>/government/organisations/hm-revenue-customs</td>\n",
       "      <td>25919</td>\n",
       "      <td>2643738</td>\n",
       "    </tr>\n",
       "    <tr>\n",
       "      <th>8</th>\n",
       "      <td>/&lt;&lt;PAGE&lt;:&lt;NULL&lt;:&lt;NULL&gt;&gt;/&lt;&lt;EVENT&lt;:&lt;user_satisfa...</td>\n",
       "      <td>2118</td>\n",
       "      <td>[('desktop', 1882), ('tablet', 235), ('mobile'...</td>\n",
       "      <td>[('20181031', 681), ('20181029', 651), ('20181...</td>\n",
       "      <td>[('/', 'PAGE&lt;:&lt;NULL&lt;:&lt;NULL'), ('/', 'EVENT&lt;:&lt;u...</td>\n",
       "      <td>['/']</td>\n",
       "      <td>/</td>\n",
       "      <td>[('PAGE_NULL', 'PAGE_NULL'), ('user_satisfacti...</td>\n",
       "      <td>2</td>\n",
       "      <td>[('PAGE_NULL', 1), ('user_satisfaction_survey'...</td>\n",
       "      <td>[(('PAGE_NULL', 'PAGE_NULL'), 1), (('user_sati...</td>\n",
       "      <td>['/']</td>\n",
       "      <td>/</td>\n",
       "      <td>151239</td>\n",
       "      <td>108287124</td>\n",
       "    </tr>\n",
       "    <tr>\n",
       "      <th>9</th>\n",
       "      <td>/personal-licence-to-sell-alcohol&lt;&lt;PAGE&lt;:&lt;NULL...</td>\n",
       "      <td>139</td>\n",
       "      <td>[('desktop', 38), ('mobile', 98), ('tablet', 3)]</td>\n",
       "      <td>[('20181031', 36), ('20181029', 32), ('2018110...</td>\n",
       "      <td>[('/personal-licence-to-sell-alcohol', 'PAGE&lt;:...</td>\n",
       "      <td>['/personal-licence-to-sell-alcohol']</td>\n",
       "      <td>/personal-licence-to-sell-alcohol</td>\n",
       "      <td>[('PAGE_NULL', 'PAGE_NULL')]</td>\n",
       "      <td>1</td>\n",
       "      <td>[('PAGE_NULL', 1)]</td>\n",
       "      <td>[(('PAGE_NULL', 'PAGE_NULL'), 1)]</td>\n",
       "      <td>['/personal-licence-to-sell-alcohol']</td>\n",
       "      <td>/personal-licence-to-sell-alcohol</td>\n",
       "      <td>144</td>\n",
       "      <td>720</td>\n",
       "    </tr>\n",
       "  </tbody>\n",
       "</table>\n",
       "</div>"
      ],
      "text/plain": [
       "                                            Sequence  Occurrences  \\\n",
       "0  /guidance/rates-and-thresholds-for-employers-2...           87   \n",
       "1  /historic-vehicles/apply-for-vehicle-tax-exemp...          115   \n",
       "2            /government-gateway<<PAGE<:<NULL<:<NULL         1352   \n",
       "3  /guidance/passport-rules-for-travel-to-europe-...           70   \n",
       "4  /claim-national-insurance-refund<<PAGE<:<NULL<...          158   \n",
       "5  /government/publications/alternative-dispute-r...          242   \n",
       "6              /voting-in-the-uk<<PAGE<:<NULL<:<NULL          684   \n",
       "7  /government/organisations/hm-revenue-customs<<...          774   \n",
       "8  /<<PAGE<:<NULL<:<NULL>>/<<EVENT<:<user_satisfa...         2118   \n",
       "9  /personal-licence-to-sell-alcohol<<PAGE<:<NULL...          139   \n",
       "\n",
       "                                    DeviceCategories  \\\n",
       "0  [('desktop', 64), ('mobile', 11), ('tablet', 12)]   \n",
       "1  [('mobile', 63), ('desktop', 37), ('tablet', 15)]   \n",
       "2  [('mobile', 576), ('tablet', 149), ('desktop',...   \n",
       "3   [('desktop', 56), ('tablet', 13), ('mobile', 1)]   \n",
       "4  [('desktop', 52), ('mobile', 96), ('tablet', 10)]   \n",
       "5  [('tablet', 9), ('desktop', 172), ('mobile', 61)]   \n",
       "6  [('mobile', 290), ('desktop', 371), ('tablet',...   \n",
       "7                 [('desktop', 724), ('tablet', 50)]   \n",
       "8  [('desktop', 1882), ('tablet', 235), ('mobile'...   \n",
       "9   [('desktop', 38), ('mobile', 98), ('tablet', 3)]   \n",
       "\n",
       "                                               Dates  \\\n",
       "0  [('20181031', 33), ('20181029', 27), ('2018110...   \n",
       "1  [('20181031', 35), ('20181029', 25), ('2018110...   \n",
       "2  [('20181031', 376), ('20181029', 413), ('20181...   \n",
       "3  [('20181031', 33), ('20181029', 6), ('20181102...   \n",
       "4  [('20181031', 35), ('20181029', 65), ('2018110...   \n",
       "5  [('20181031', 66), ('20181029', 90), ('2018110...   \n",
       "6  [('20181031', 203), ('20181029', 211), ('20181...   \n",
       "7  [('20181031', 226), ('20181029', 235), ('20181...   \n",
       "8  [('20181031', 681), ('20181029', 651), ('20181...   \n",
       "9  [('20181031', 36), ('20181029', 32), ('2018110...   \n",
       "\n",
       "                                     Page_Event_List  \\\n",
       "0  [('/guidance/rates-and-thresholds-for-employer...   \n",
       "1  [('/historic-vehicles/apply-for-vehicle-tax-ex...   \n",
       "2    [('/government-gateway', 'PAGE<:<NULL<:<NULL')]   \n",
       "3  [('/guidance/passport-rules-for-travel-to-euro...   \n",
       "4  [('/claim-national-insurance-refund', 'PAGE<:<...   \n",
       "5  [('/government/publications/alternative-disput...   \n",
       "6      [('/voting-in-the-uk', 'PAGE<:<NULL<:<NULL')]   \n",
       "7  [('/government/organisations/hm-revenue-custom...   \n",
       "8  [('/', 'PAGE<:<NULL<:<NULL'), ('/', 'EVENT<:<u...   \n",
       "9  [('/personal-licence-to-sell-alcohol', 'PAGE<:...   \n",
       "\n",
       "                                           Page_List  \\\n",
       "0  ['/guidance/rates-and-thresholds-for-employers...   \n",
       "1  ['/historic-vehicles/apply-for-vehicle-tax-exe...   \n",
       "2                            ['/government-gateway']   \n",
       "3  ['/guidance/passport-rules-for-travel-to-europ...   \n",
       "4               ['/claim-national-insurance-refund']   \n",
       "5  ['/government/publications/alternative-dispute...   \n",
       "6                              ['/voting-in-the-uk']   \n",
       "7   ['/government/organisations/hm-revenue-customs']   \n",
       "8                                              ['/']   \n",
       "9              ['/personal-licence-to-sell-alcohol']   \n",
       "\n",
       "                                        PageSequence  \\\n",
       "0  /guidance/rates-and-thresholds-for-employers-2...   \n",
       "1  /historic-vehicles/apply-for-vehicle-tax-exemp...   \n",
       "2                                /government-gateway   \n",
       "3  /guidance/passport-rules-for-travel-to-europe-...   \n",
       "4                   /claim-national-insurance-refund   \n",
       "5  /government/publications/alternative-dispute-r...   \n",
       "6                                  /voting-in-the-uk   \n",
       "7       /government/organisations/hm-revenue-customs   \n",
       "8                                                  /   \n",
       "9                  /personal-licence-to-sell-alcohol   \n",
       "\n",
       "                                          Event_List  num_event_cats  \\\n",
       "0                       [('PAGE_NULL', 'PAGE_NULL')]               1   \n",
       "1                       [('PAGE_NULL', 'PAGE_NULL')]               1   \n",
       "2                       [('PAGE_NULL', 'PAGE_NULL')]               1   \n",
       "3  [('user_satisfaction_survey', 'banner_shown'),...               2   \n",
       "4                       [('PAGE_NULL', 'PAGE_NULL')]               1   \n",
       "5                       [('PAGE_NULL', 'PAGE_NULL')]               1   \n",
       "6                       [('PAGE_NULL', 'PAGE_NULL')]               1   \n",
       "7  [('user_satisfaction_survey', 'banner_shown'),...               2   \n",
       "8  [('PAGE_NULL', 'PAGE_NULL'), ('user_satisfacti...               2   \n",
       "9                       [('PAGE_NULL', 'PAGE_NULL')]               1   \n",
       "\n",
       "                                      Event_cats_agg  \\\n",
       "0                                 [('PAGE_NULL', 1)]   \n",
       "1                                 [('PAGE_NULL', 1)]   \n",
       "2                                 [('PAGE_NULL', 1)]   \n",
       "3  [('user_satisfaction_survey', 1), ('PAGE_NULL'...   \n",
       "4                                 [('PAGE_NULL', 1)]   \n",
       "5                                 [('PAGE_NULL', 1)]   \n",
       "6                                 [('PAGE_NULL', 1)]   \n",
       "7  [('user_satisfaction_survey', 1), ('PAGE_NULL'...   \n",
       "8  [('PAGE_NULL', 1), ('user_satisfaction_survey'...   \n",
       "9                                 [('PAGE_NULL', 1)]   \n",
       "\n",
       "                                   Event_cat_act_agg  \\\n",
       "0                  [(('PAGE_NULL', 'PAGE_NULL'), 1)]   \n",
       "1                  [(('PAGE_NULL', 'PAGE_NULL'), 1)]   \n",
       "2                  [(('PAGE_NULL', 'PAGE_NULL'), 1)]   \n",
       "3  [(('user_satisfaction_survey', 'banner_shown')...   \n",
       "4                  [(('PAGE_NULL', 'PAGE_NULL'), 1)]   \n",
       "5                  [(('PAGE_NULL', 'PAGE_NULL'), 1)]   \n",
       "6                  [(('PAGE_NULL', 'PAGE_NULL'), 1)]   \n",
       "7  [(('user_satisfaction_survey', 'banner_shown')...   \n",
       "8  [(('PAGE_NULL', 'PAGE_NULL'), 1), (('user_sati...   \n",
       "9                  [(('PAGE_NULL', 'PAGE_NULL'), 1)]   \n",
       "\n",
       "                                        Page_List_NL  \\\n",
       "0  ['/guidance/rates-and-thresholds-for-employers...   \n",
       "1  ['/historic-vehicles/apply-for-vehicle-tax-exe...   \n",
       "2                            ['/government-gateway']   \n",
       "3  ['/guidance/passport-rules-for-travel-to-europ...   \n",
       "4               ['/claim-national-insurance-refund']   \n",
       "5  ['/government/publications/alternative-dispute...   \n",
       "6                              ['/voting-in-the-uk']   \n",
       "7   ['/government/organisations/hm-revenue-customs']   \n",
       "8                                              ['/']   \n",
       "9              ['/personal-licence-to-sell-alcohol']   \n",
       "\n",
       "                                         Page_Seq_NL  Page_Seq_Occurrences  \\\n",
       "0  /guidance/rates-and-thresholds-for-employers-2...                   118   \n",
       "1  /historic-vehicles/apply-for-vehicle-tax-exemp...                   125   \n",
       "2                                /government-gateway                  3539   \n",
       "3  /guidance/passport-rules-for-travel-to-europe-...                  5882   \n",
       "4                   /claim-national-insurance-refund                   164   \n",
       "5  /government/publications/alternative-dispute-r...                   302   \n",
       "6                                  /voting-in-the-uk                   702   \n",
       "7       /government/organisations/hm-revenue-customs                 25919   \n",
       "8                                                  /                151239   \n",
       "9                  /personal-licence-to-sell-alcohol                   144   \n",
       "\n",
       "   Occurrences_NL  \n",
       "0            2360  \n",
       "1             625  \n",
       "2          244191  \n",
       "3          335274  \n",
       "4             656  \n",
       "5            8456  \n",
       "6            4914  \n",
       "7         2643738  \n",
       "8       108287124  \n",
       "9             720  "
      ]
     },
     "execution_count": 6,
     "metadata": {},
     "output_type": "execute_result"
    }
   ],
   "source": [
    "journeys1.head(10)"
   ]
  },
  {
   "cell_type": "markdown",
   "metadata": {},
   "source": [
    "### Sample data for speed"
   ]
  },
  {
   "cell_type": "code",
   "execution_count": 7,
   "metadata": {},
   "outputs": [],
   "source": [
    "journeys = journeys1.sample(frac=0.3, random_state=1234).copy()"
   ]
  },
  {
   "cell_type": "code",
   "execution_count": 8,
   "metadata": {},
   "outputs": [
    {
     "data": {
      "text/plain": [
       "(267293, 15)"
      ]
     },
     "execution_count": 8,
     "metadata": {},
     "output_type": "execute_result"
    }
   ],
   "source": [
    "journeys.shape"
   ]
  },
  {
   "cell_type": "markdown",
   "metadata": {},
   "source": [
    "### derive variables (create features...)"
   ]
  },
  {
   "cell_type": "code",
   "execution_count": 9,
   "metadata": {},
   "outputs": [],
   "source": [
    "journeys['page_list_eval'] = journeys['Page_List'].map(pd.eval)\n",
    "journeys['page_seq_len'] = journeys['page_list_eval'].map(len)"
   ]
  },
  {
   "cell_type": "code",
   "execution_count": 10,
   "metadata": {},
   "outputs": [],
   "source": [
    "journeys['page_list_NL_eval'] = journeys['Page_List_NL'].map(pd.eval)\n",
    "journeys['page_seq_len_NL'] = journeys['page_list_NL_eval'].map(len)"
   ]
  },
  {
   "cell_type": "code",
   "execution_count": 11,
   "metadata": {},
   "outputs": [],
   "source": [
    "# def contains_search(Page_List):\n",
    "#     search_in_sequence = 0\n",
    "#     thelist  = pd.eval(Page_List)\n",
    "    \n",
    "#     for page in thelist:\n",
    "#         if ('/search?' in page) or ('/search/' in page):\n",
    "#             search_in_sequence = 1\n",
    "            \n",
    "#     return search_in_sequence\n",
    "\n",
    "# def count_search(Page_List):\n",
    "#     times_search_in_sequence = 0\n",
    "#     thelist  = pd.eval(Page_List)\n",
    "    \n",
    "#     for page in thelist:\n",
    "#         if ('/search?' in page) or ('/search/' in page):\n",
    "#             times_search_in_sequence += 1\n",
    "#     return times_search_in_sequence\n",
    "\n",
    "\n",
    "# # journeys['contains_search'] = list(map(contains_search, journeys['Page_List']))\n",
    "\n",
    "# journeys['count_search'] = list(map(count_search, journeys['Page_List']))"
   ]
  },
  {
   "cell_type": "code",
   "execution_count": 12,
   "metadata": {},
   "outputs": [],
   "source": [
    "journeys['count_search'] = journeys.PageSequence.str.count(\"/search?\")+journeys.PageSequence.str.count(\"/search/\")"
   ]
  },
  {
   "cell_type": "code",
   "execution_count": 13,
   "metadata": {},
   "outputs": [],
   "source": [
    "journeys['event_list_contains_start'] = np.where(journeys.Event_List.str.contains(\"start\"), 1, 0)\n",
    "journeys['page_seq_contains_start'] = np.where(journeys.Sequence.str.contains(\"start\"), 1, 0)\n",
    "journeys['page_seq_contains_service.gov.uk'] = np.where(journeys.Sequence.str.contains(\"service.gov.uk\"), 1, 0)"
   ]
  },
  {
   "cell_type": "code",
   "execution_count": 14,
   "metadata": {},
   "outputs": [],
   "source": [
    "journeys['contains_search_regex'] = np.where((journeys.PageSequence.str.contains(\"/search?\")) | (journeys.PageSequence.str.contains(\"/search/\")), 1, 0)"
   ]
  },
  {
   "cell_type": "markdown",
   "metadata": {},
   "source": [
    "Get differnet results when using the contains_search function iterating over pagelist to the regex function in PageSequence. It would be good to understand why. "
   ]
  },
  {
   "cell_type": "code",
   "execution_count": 15,
   "metadata": {},
   "outputs": [],
   "source": [
    "journeys['contains_search_n'] = journeys['contains_search_regex']*journeys['Page_Seq_Occurrences']"
   ]
  },
  {
   "cell_type": "code",
   "execution_count": 16,
   "metadata": {},
   "outputs": [],
   "source": [
    "def get_end_page(Page_List):          \n",
    "    return pd.eval(Page_List)[-1]\n",
    "\n",
    "journeys['final_page'] = journeys['Page_List'].map(get_end_page)"
   ]
  },
  {
   "cell_type": "code",
   "execution_count": 17,
   "metadata": {},
   "outputs": [],
   "source": [
    "def count_desktop(DeviceCategories): \n",
    "    thelist  = pd.eval(DeviceCategories)\n",
    "    desktop = 0\n",
    "    mobile = 0\n",
    "    other = 0\n",
    "    for i in range(len(thelist)):\n",
    "        if thelist[i][0] =='desktop':\n",
    "            desktop = thelist[i][1]\n",
    "        elif thelist[i][0] =='mobile':\n",
    "            mobile = thelist[i][1]\n",
    "        else:\n",
    "            other = thelist[i][1]      \n",
    "    return desktop, mobile, other"
   ]
  },
  {
   "cell_type": "markdown",
   "metadata": {},
   "source": [
    "### Device used"
   ]
  },
  {
   "cell_type": "code",
   "execution_count": 18,
   "metadata": {},
   "outputs": [],
   "source": [
    "journeys['desktop'], journeys['mobile'], journeys['other_device'] = zip(*journeys['DeviceCategories'].map(count_desktop))"
   ]
  },
  {
   "cell_type": "code",
   "execution_count": 19,
   "metadata": {},
   "outputs": [],
   "source": [
    "journeys['more_desktop'] = np.where(journeys['desktop'] > (journeys['mobile']+journeys['other_device']), 1, 0)"
   ]
  },
  {
   "cell_type": "code",
   "execution_count": 20,
   "metadata": {},
   "outputs": [
    {
     "name": "stdout",
     "output_type": "stream",
     "text": [
      "more_desktop\n",
      "0    125433\n",
      "1    141860\n",
      "dtype: int64\n"
     ]
    },
    {
     "data": {
      "text/plain": [
       "<Figure size 2160x2160 with 0 Axes>"
      ]
     },
     "execution_count": 20,
     "metadata": {},
     "output_type": "execute_result"
    },
    {
     "data": {
      "image/png": "[encoded data removed]",
      "text/plain": [
       "<Figure size 432x288 with 1 Axes>"
      ]
     },
     "metadata": {},
     "output_type": "display_data"
    },
    {
     "data": {
      "text/plain": [
       "<Figure size 2160x2160 with 0 Axes>"
      ]
     },
     "metadata": {},
     "output_type": "display_data"
    }
   ],
   "source": [
    "print(journeys.groupby('more_desktop').size())\n",
    "plt.pie(journeys.groupby('more_desktop').size(), labels=['more_desktop', 'more_mobile+tablet'], autopct='%1.1f%%')\n",
    "plt.figure(figsize=(30,30))"
   ]
  },
  {
   "cell_type": "markdown",
   "metadata": {},
   "source": [
    "### journey length - Don't forget this data is only in journeys of 1 page\n",
    "### Think need to combine with klo for this. Also see what Matt's done already\n",
    "\n",
    "EEK, be careful of frequency counts because need to include Occurences column for this. This is harder to interpret than it looks"
   ]
  },
  {
   "cell_type": "code",
   "execution_count": 21,
   "metadata": {},
   "outputs": [
    {
     "data": {
      "text/plain": [
       "count    267293.0\n",
       "mean          1.0\n",
       "std           0.0\n",
       "min           1.0\n",
       "25%           1.0\n",
       "50%           1.0\n",
       "75%           1.0\n",
       "max           1.0\n",
       "Name: page_seq_len, dtype: float64"
      ]
     },
     "execution_count": 21,
     "metadata": {},
     "output_type": "execute_result"
    }
   ],
   "source": [
    "journeys['page_seq_len'].describe()"
   ]
  },
  {
   "cell_type": "markdown",
   "metadata": {},
   "source": [
    "### Make a long df a row for each session"
   ]
  },
  {
   "cell_type": "code",
   "execution_count": 22,
   "metadata": {},
   "outputs": [],
   "source": [
    "#make a smaller copy of data with only 2 cols ready to make it really looooong\n",
    "slim = journeys[['Occurrences','final_page','page_seq_len', 'page_seq_len_NL', 'event_list_contains_start', 'count_search', 'contains_search_regex', 'page_list_NL_eval', 'Page_Seq_NL', 'page_seq_contains_start', 'page_seq_contains_service.gov.uk']].copy()\n",
    "#repeat rows for each occurrence\n",
    "journey_expanded =  slim.loc[slim.index.repeat(slim['Occurrences'])].copy()\n"
   ]
  },
  {
   "cell_type": "code",
   "execution_count": 23,
   "metadata": {},
   "outputs": [
    {
     "data": {
      "text/plain": [
       "count    2237406.0\n",
       "mean           1.0\n",
       "std            0.0\n",
       "min            1.0\n",
       "25%            1.0\n",
       "50%            1.0\n",
       "75%            1.0\n",
       "max            1.0\n",
       "Name: page_seq_len, dtype: float64"
      ]
     },
     "execution_count": 23,
     "metadata": {},
     "output_type": "execute_result"
    }
   ],
   "source": [
    "journey_expanded['page_seq_len'].describe()"
   ]
  },
  {
   "cell_type": "code",
   "execution_count": 24,
   "metadata": {},
   "outputs": [
    {
     "data": {
      "text/plain": [
       "count    2237406.0\n",
       "mean           1.0\n",
       "std            0.0\n",
       "min            1.0\n",
       "25%            1.0\n",
       "50%            1.0\n",
       "75%            1.0\n",
       "max            1.0\n",
       "Name: page_seq_len_NL, dtype: float64"
      ]
     },
     "execution_count": 24,
     "metadata": {},
     "output_type": "execute_result"
    }
   ],
   "source": [
    "journey_expanded['page_seq_len_NL'].describe()"
   ]
  },
  {
   "cell_type": "code",
   "execution_count": 25,
   "metadata": {},
   "outputs": [
    {
     "data": {
      "text/plain": [
       "<matplotlib.axes._subplots.AxesSubplot at 0x12529eb38>"
      ]
     },
     "execution_count": 25,
     "metadata": {},
     "output_type": "execute_result"
    },
    {
     "data": {
      "image/png": "[encoded data removed]",
      "text/plain": [
       "<Figure size 432x288 with 1 Axes>"
      ]
     },
     "metadata": {
      "needs_background": "light"
     },
     "output_type": "display_data"
    }
   ],
   "source": [
    "journey_expanded['page_seq_len'].hist(bins=122, grid=False)"
   ]
  },
  {
   "cell_type": "code",
   "execution_count": 26,
   "metadata": {},
   "outputs": [
    {
     "data": {
      "text/plain": [
       "<matplotlib.axes._subplots.AxesSubplot at 0x14870a4a8>"
      ]
     },
     "execution_count": 26,
     "metadata": {},
     "output_type": "execute_result"
    },
    {
     "data": {
      "image/png": "[encoded data removed]",
      "text/plain": [
       "<Figure size 432x288 with 1 Axes>"
      ]
     },
     "metadata": {
      "needs_background": "light"
     },
     "output_type": "display_data"
    }
   ],
   "source": [
    "journey_expanded['page_seq_len_NL'].hist(bins=122, grid=False)"
   ]
  },
  {
   "cell_type": "markdown",
   "metadata": {},
   "source": [
    "### Search counts"
   ]
  },
  {
   "cell_type": "code",
   "execution_count": 27,
   "metadata": {},
   "outputs": [
    {
     "name": "stdout",
     "output_type": "stream",
     "text": [
      "10944353/25790569310 (0.04243548433712339%) of journeys contain internal search in their path\n"
     ]
    }
   ],
   "source": [
    "print(\"{}/{} ({}%) of journeys contain internal search in their path\".format(journeys['contains_search_n'].sum(),\n",
    "                                                                             journeys['Page_Seq_Occurrences'].sum(),\n",
    "                                                                             journeys['contains_search_n'].sum()/journeys['Page_Seq_Occurrences'].sum()*100))"
   ]
  },
  {
   "cell_type": "code",
   "execution_count": 28,
   "metadata": {},
   "outputs": [],
   "source": [
    "data = []\n",
    "for i in range(journeys['page_seq_len'].max()):\n",
    "    df = journeys[journeys['page_seq_len']==i]\n",
    "    if df['Page_Seq_Occurrences'].sum()>1:\n",
    "            percent = round(df['contains_search_n'].sum()/df['Page_Seq_Occurrences'].sum()*100, 1)\n",
    "            n = df['contains_search_n'].sum()\n",
    "            denom = df['Page_Seq_Occurrences'].sum()\n",
    "            p = percent/100\n",
    "            variance = (p*(1-p))/denom\n",
    "            data.append([i+1, n, denom, percent, variance])\n",
    "\n",
    "search_seqlength = pd.DataFrame(data, columns=['length', 'n', 'denom','percent', 'variance'])"
   ]
  },
  {
   "cell_type": "code",
   "execution_count": 29,
   "metadata": {},
   "outputs": [
    {
     "data": {
      "text/html": [
       "<div>\n",
       "<style scoped>\n",
       "    .dataframe tbody tr th:only-of-type {\n",
       "        vertical-align: middle;\n",
       "    }\n",
       "\n",
       "    .dataframe tbody tr th {\n",
       "        vertical-align: top;\n",
       "    }\n",
       "\n",
       "    .dataframe thead th {\n",
       "        text-align: right;\n",
       "    }\n",
       "</style>\n",
       "<table border=\"1\" class=\"dataframe\">\n",
       "  <thead>\n",
       "    <tr style=\"text-align: right;\">\n",
       "      <th></th>\n",
       "      <th>length</th>\n",
       "      <th>n</th>\n",
       "      <th>denom</th>\n",
       "      <th>percent</th>\n",
       "      <th>variance</th>\n",
       "    </tr>\n",
       "  </thead>\n",
       "  <tbody>\n",
       "  </tbody>\n",
       "</table>\n",
       "</div>"
      ],
      "text/plain": [
       "Empty DataFrame\n",
       "Columns: [length, n, denom, percent, variance]\n",
       "Index: []"
      ]
     },
     "execution_count": 29,
     "metadata": {},
     "output_type": "execute_result"
    }
   ],
   "source": [
    "search_seqlength.iloc[10:27]"
   ]
  },
  {
   "cell_type": "code",
   "execution_count": 30,
   "metadata": {},
   "outputs": [
    {
     "data": {
      "text/plain": [
       "count     0\n",
       "unique    0\n",
       "Name: length, dtype: int64"
      ]
     },
     "execution_count": 30,
     "metadata": {},
     "output_type": "execute_result"
    }
   ],
   "source": [
    "search_seqlength['length'].describe()"
   ]
  },
  {
   "cell_type": "code",
   "execution_count": 31,
   "metadata": {},
   "outputs": [
    {
     "data": {
      "text/plain": [
       "count    6461.000000\n",
       "mean        1.080483\n",
       "std         0.272060\n",
       "min         1.000000\n",
       "25%         1.000000\n",
       "50%         1.000000\n",
       "75%         1.000000\n",
       "max         2.000000\n",
       "Name: count_search, dtype: float64"
      ]
     },
     "execution_count": 31,
     "metadata": {},
     "output_type": "execute_result"
    }
   ],
   "source": [
    "journeys[journeys['contains_search_regex']==1].count_search.describe()"
   ]
  },
  {
   "cell_type": "code",
   "execution_count": 32,
   "metadata": {},
   "outputs": [
    {
     "data": {
      "text/plain": [
       "Text(0, 0.5, 'Number of journeys')"
      ]
     },
     "execution_count": 32,
     "metadata": {},
     "output_type": "execute_result"
    },
    {
     "data": {
      "image/png": "[encoded data removed]",
      "text/plain": [
       "<Figure size 432x288 with 1 Axes>"
      ]
     },
     "metadata": {
      "needs_background": "light"
     },
     "output_type": "display_data"
    }
   ],
   "source": [
    "ax = journeys[journeys['contains_search_regex']==1].count_search.hist(bins=2, grid=False)\n",
    "ax.set_xlabel(\"Number of times search used in journey\")\n",
    "ax.set_ylabel(\"Number of journeys\")"
   ]
  },
  {
   "cell_type": "code",
   "execution_count": 33,
   "metadata": {},
   "outputs": [
    {
     "data": {
      "text/plain": [
       "Text(0, 0.5, 'Number of journeys')"
      ]
     },
     "execution_count": 33,
     "metadata": {},
     "output_type": "execute_result"
    },
    {
     "data": {
      "image/png": "[encoded data removed]",
      "text/plain": [
       "<Figure size 432x288 with 1 Axes>"
      ]
     },
     "metadata": {
      "needs_background": "light"
     },
     "output_type": "display_data"
    }
   ],
   "source": [
    "ax = journey_expanded.count_search.hist(bins=300, grid=False)\n",
    "ax.set_xlabel(\"Number of times search used in journey\")\n",
    "ax.set_ylabel(\"Number of journeys\")"
   ]
  },
  {
   "cell_type": "code",
   "execution_count": 34,
   "metadata": {},
   "outputs": [
    {
     "data": {
      "text/plain": [
       "(0, 312)"
      ]
     },
     "execution_count": 34,
     "metadata": {},
     "output_type": "execute_result"
    },
    {
     "data": {
      "image/png": "[encoded data removed]",
      "text/plain": [
       "<Figure size 432x288 with 1 Axes>"
      ]
     },
     "metadata": {
      "needs_background": "light"
     },
     "output_type": "display_data"
    }
   ],
   "source": [
    "ax = sns.scatterplot(x=\"page_seq_len\", y=\"count_search\", data=journey_expanded)\n",
    "ax.set_xlabel(\"Number of pages in journey*\")\n",
    "ax.set_ylabel(\"Number of times of search used in journey\")\n",
    "ax.set_xlim(0, 312)"
   ]
  },
  {
   "cell_type": "code",
   "execution_count": 35,
   "metadata": {},
   "outputs": [],
   "source": [
    "# f, ax = plt.subplots(figsize=(6, 6))\n",
    "# cmap = sns.cubehelix_palette(as_cmap=True, dark=0, light=1, reverse=True)\n",
    "# sns.kdeplot(journey_expanded.page_seq_len, journey_expanded.count_search, cmap=cmap, n_levels=1000, shade=True)\n",
    "# ax.set_xlim(0, 100)\n",
    "# ax.set_ylim(0, 10)"
   ]
  },
  {
   "cell_type": "code",
   "execution_count": 36,
   "metadata": {},
   "outputs": [],
   "source": [
    "# f, ax = plt.subplots(figsize=(6, 6))\n",
    "# sns.kdeplot(journey_expanded.page_seq_len, journey_expanded.count_search, ax=ax)\n",
    "# sns.rugplot(journey_expanded.page_seq_len, color=\"g\", ax=ax)\n",
    "# sns.rugplot(journey_expanded.count_search, vertical=True, ax=ax)\n"
   ]
  },
  {
   "cell_type": "code",
   "execution_count": 37,
   "metadata": {},
   "outputs": [],
   "source": [
    "# with sns.axes_style(\"white\"):\n",
    "#     sns.jointplot(x=journey_expanded.page_seq_len, y=journey_expanded.count_search, kind=\"hex\", color=\"k\")"
   ]
  },
  {
   "cell_type": "markdown",
   "metadata": {},
   "source": [
    "### Most frequent pages"
   ]
  },
  {
   "cell_type": "code",
   "execution_count": 38,
   "metadata": {},
   "outputs": [],
   "source": [
    "# lst_col = 'Page_Seq_NL'\n",
    "\n",
    "# r = pd.DataFrame({\n",
    "#       col:np.repeat(journey_expanded[col].values, journey_expanded[lst_col].str.len())\n",
    "#       for col in journey_expanded.columns.drop(lst_col)}\n",
    "#     ).assign(**{lst_col:np.concatenate(journey_expanded[lst_col].values)})[journey_expanded.columns]"
   ]
  },
  {
   "cell_type": "code",
   "execution_count": 39,
   "metadata": {},
   "outputs": [],
   "source": [
    "journey_expanded['journey_type'] = journey_expanded.index"
   ]
  },
  {
   "cell_type": "code",
   "execution_count": 40,
   "metadata": {},
   "outputs": [],
   "source": [
    "journey_expanded.reset_index(inplace=True)\n",
    "journey_expanded['journey'] = journey_expanded.index"
   ]
  },
  {
   "cell_type": "code",
   "execution_count": 41,
   "metadata": {},
   "outputs": [
    {
     "data": {
      "text/html": [
       "<div>\n",
       "<style scoped>\n",
       "    .dataframe tbody tr th:only-of-type {\n",
       "        vertical-align: middle;\n",
       "    }\n",
       "\n",
       "    .dataframe tbody tr th {\n",
       "        vertical-align: top;\n",
       "    }\n",
       "\n",
       "    .dataframe thead th {\n",
       "        text-align: right;\n",
       "    }\n",
       "</style>\n",
       "<table border=\"1\" class=\"dataframe\">\n",
       "  <thead>\n",
       "    <tr style=\"text-align: right;\">\n",
       "      <th></th>\n",
       "      <th>index</th>\n",
       "      <th>Occurrences</th>\n",
       "      <th>final_page</th>\n",
       "      <th>page_seq_len</th>\n",
       "      <th>page_seq_len_NL</th>\n",
       "      <th>event_list_contains_start</th>\n",
       "      <th>count_search</th>\n",
       "      <th>contains_search_regex</th>\n",
       "      <th>page_list_NL_eval</th>\n",
       "      <th>Page_Seq_NL</th>\n",
       "      <th>page_seq_contains_start</th>\n",
       "      <th>page_seq_contains_service.gov.uk</th>\n",
       "      <th>journey_type</th>\n",
       "      <th>journey</th>\n",
       "    </tr>\n",
       "  </thead>\n",
       "  <tbody>\n",
       "    <tr>\n",
       "      <th>0</th>\n",
       "      <td>870565</td>\n",
       "      <td>1</td>\n",
       "      <td>/contact/govuk?cachebust=0.4409060960825735</td>\n",
       "      <td>1</td>\n",
       "      <td>1</td>\n",
       "      <td>0</td>\n",
       "      <td>0</td>\n",
       "      <td>0</td>\n",
       "      <td>[/contact/govuk?cachebust=0.4409060960825735]</td>\n",
       "      <td>/contact/govuk?cachebust=0.4409060960825735</td>\n",
       "      <td>0</td>\n",
       "      <td>0</td>\n",
       "      <td>870565</td>\n",
       "      <td>0</td>\n",
       "    </tr>\n",
       "    <tr>\n",
       "      <th>1</th>\n",
       "      <td>667534</td>\n",
       "      <td>1</td>\n",
       "      <td>/email/unsubscribe/1efe4bf7-fa5b-4db1-a6c4-910...</td>\n",
       "      <td>1</td>\n",
       "      <td>1</td>\n",
       "      <td>0</td>\n",
       "      <td>0</td>\n",
       "      <td>0</td>\n",
       "      <td>[/email/unsubscribe/1efe4bf7-fa5b-4db1-a6c4-91...</td>\n",
       "      <td>/email/unsubscribe/1efe4bf7-fa5b-4db1-a6c4-910...</td>\n",
       "      <td>0</td>\n",
       "      <td>0</td>\n",
       "      <td>667534</td>\n",
       "      <td>1</td>\n",
       "    </tr>\n",
       "    <tr>\n",
       "      <th>2</th>\n",
       "      <td>185237</td>\n",
       "      <td>4</td>\n",
       "      <td>/government/publications/getting-it-right-for-...</td>\n",
       "      <td>1</td>\n",
       "      <td>1</td>\n",
       "      <td>0</td>\n",
       "      <td>0</td>\n",
       "      <td>0</td>\n",
       "      <td>[/government/publications/getting-it-right-for...</td>\n",
       "      <td>/government/publications/getting-it-right-for-...</td>\n",
       "      <td>0</td>\n",
       "      <td>0</td>\n",
       "      <td>185237</td>\n",
       "      <td>2</td>\n",
       "    </tr>\n",
       "    <tr>\n",
       "      <th>3</th>\n",
       "      <td>185237</td>\n",
       "      <td>4</td>\n",
       "      <td>/government/publications/getting-it-right-for-...</td>\n",
       "      <td>1</td>\n",
       "      <td>1</td>\n",
       "      <td>0</td>\n",
       "      <td>0</td>\n",
       "      <td>0</td>\n",
       "      <td>[/government/publications/getting-it-right-for...</td>\n",
       "      <td>/government/publications/getting-it-right-for-...</td>\n",
       "      <td>0</td>\n",
       "      <td>0</td>\n",
       "      <td>185237</td>\n",
       "      <td>3</td>\n",
       "    </tr>\n",
       "    <tr>\n",
       "      <th>4</th>\n",
       "      <td>185237</td>\n",
       "      <td>4</td>\n",
       "      <td>/government/publications/getting-it-right-for-...</td>\n",
       "      <td>1</td>\n",
       "      <td>1</td>\n",
       "      <td>0</td>\n",
       "      <td>0</td>\n",
       "      <td>0</td>\n",
       "      <td>[/government/publications/getting-it-right-for...</td>\n",
       "      <td>/government/publications/getting-it-right-for-...</td>\n",
       "      <td>0</td>\n",
       "      <td>0</td>\n",
       "      <td>185237</td>\n",
       "      <td>4</td>\n",
       "    </tr>\n",
       "  </tbody>\n",
       "</table>\n",
       "</div>"
      ],
      "text/plain": [
       "    index  Occurrences                                         final_page  \\\n",
       "0  870565            1        /contact/govuk?cachebust=0.4409060960825735   \n",
       "1  667534            1  /email/unsubscribe/1efe4bf7-fa5b-4db1-a6c4-910...   \n",
       "2  185237            4  /government/publications/getting-it-right-for-...   \n",
       "3  185237            4  /government/publications/getting-it-right-for-...   \n",
       "4  185237            4  /government/publications/getting-it-right-for-...   \n",
       "\n",
       "   page_seq_len  page_seq_len_NL  event_list_contains_start  count_search  \\\n",
       "0             1                1                          0             0   \n",
       "1             1                1                          0             0   \n",
       "2             1                1                          0             0   \n",
       "3             1                1                          0             0   \n",
       "4             1                1                          0             0   \n",
       "\n",
       "   contains_search_regex                                  page_list_NL_eval  \\\n",
       "0                      0      [/contact/govuk?cachebust=0.4409060960825735]   \n",
       "1                      0  [/email/unsubscribe/1efe4bf7-fa5b-4db1-a6c4-91...   \n",
       "2                      0  [/government/publications/getting-it-right-for...   \n",
       "3                      0  [/government/publications/getting-it-right-for...   \n",
       "4                      0  [/government/publications/getting-it-right-for...   \n",
       "\n",
       "                                         Page_Seq_NL  page_seq_contains_start  \\\n",
       "0        /contact/govuk?cachebust=0.4409060960825735                        0   \n",
       "1  /email/unsubscribe/1efe4bf7-fa5b-4db1-a6c4-910...                        0   \n",
       "2  /government/publications/getting-it-right-for-...                        0   \n",
       "3  /government/publications/getting-it-right-for-...                        0   \n",
       "4  /government/publications/getting-it-right-for-...                        0   \n",
       "\n",
       "   page_seq_contains_service.gov.uk  journey_type  journey  \n",
       "0                                 0        870565        0  \n",
       "1                                 0        667534        1  \n",
       "2                                 0        185237        2  \n",
       "3                                 0        185237        3  \n",
       "4                                 0        185237        4  "
      ]
     },
     "execution_count": 41,
     "metadata": {},
     "output_type": "execute_result"
    }
   ],
   "source": [
    "journey_expanded.head()"
   ]
  },
  {
   "cell_type": "code",
   "execution_count": 42,
   "metadata": {},
   "outputs": [],
   "source": [
    "#this gives me a new row for every page in the no loop page list in the data which already has a row for every occurrence\n",
    "#so now each row represents a single occurrence of that page within a journey\n",
    "\n",
    "s = journey_expanded.apply(lambda x: pd.Series(x['page_list_NL_eval']),axis=1).stack().reset_index(level=1, drop=True)\n",
    "s.name = 'page'\n",
    "page_expanded = journey_expanded.join(s).copy()"
   ]
  },
  {
   "cell_type": "code",
   "execution_count": 43,
   "metadata": {},
   "outputs": [
    {
     "data": {
      "text/html": [
       "<div>\n",
       "<style scoped>\n",
       "    .dataframe tbody tr th:only-of-type {\n",
       "        vertical-align: middle;\n",
       "    }\n",
       "\n",
       "    .dataframe tbody tr th {\n",
       "        vertical-align: top;\n",
       "    }\n",
       "\n",
       "    .dataframe thead th {\n",
       "        text-align: right;\n",
       "    }\n",
       "</style>\n",
       "<table border=\"1\" class=\"dataframe\">\n",
       "  <thead>\n",
       "    <tr style=\"text-align: right;\">\n",
       "      <th></th>\n",
       "      <th>index</th>\n",
       "      <th>Occurrences</th>\n",
       "      <th>final_page</th>\n",
       "      <th>page_seq_len</th>\n",
       "      <th>page_seq_len_NL</th>\n",
       "      <th>event_list_contains_start</th>\n",
       "      <th>count_search</th>\n",
       "      <th>contains_search_regex</th>\n",
       "      <th>page_list_NL_eval</th>\n",
       "      <th>Page_Seq_NL</th>\n",
       "      <th>page_seq_contains_start</th>\n",
       "      <th>page_seq_contains_service.gov.uk</th>\n",
       "      <th>journey_type</th>\n",
       "      <th>journey</th>\n",
       "      <th>page</th>\n",
       "    </tr>\n",
       "  </thead>\n",
       "  <tbody>\n",
       "    <tr>\n",
       "      <th>0</th>\n",
       "      <td>870565</td>\n",
       "      <td>1</td>\n",
       "      <td>/contact/govuk?cachebust=0.4409060960825735</td>\n",
       "      <td>1</td>\n",
       "      <td>1</td>\n",
       "      <td>0</td>\n",
       "      <td>0</td>\n",
       "      <td>0</td>\n",
       "      <td>[/contact/govuk?cachebust=0.4409060960825735]</td>\n",
       "      <td>/contact/govuk?cachebust=0.4409060960825735</td>\n",
       "      <td>0</td>\n",
       "      <td>0</td>\n",
       "      <td>870565</td>\n",
       "      <td>0</td>\n",
       "      <td>/contact/govuk?cachebust=0.4409060960825735</td>\n",
       "    </tr>\n",
       "    <tr>\n",
       "      <th>1</th>\n",
       "      <td>667534</td>\n",
       "      <td>1</td>\n",
       "      <td>/email/unsubscribe/1efe4bf7-fa5b-4db1-a6c4-910...</td>\n",
       "      <td>1</td>\n",
       "      <td>1</td>\n",
       "      <td>0</td>\n",
       "      <td>0</td>\n",
       "      <td>0</td>\n",
       "      <td>[/email/unsubscribe/1efe4bf7-fa5b-4db1-a6c4-91...</td>\n",
       "      <td>/email/unsubscribe/1efe4bf7-fa5b-4db1-a6c4-910...</td>\n",
       "      <td>0</td>\n",
       "      <td>0</td>\n",
       "      <td>667534</td>\n",
       "      <td>1</td>\n",
       "      <td>/email/unsubscribe/1efe4bf7-fa5b-4db1-a6c4-910...</td>\n",
       "    </tr>\n",
       "    <tr>\n",
       "      <th>2</th>\n",
       "      <td>185237</td>\n",
       "      <td>4</td>\n",
       "      <td>/government/publications/getting-it-right-for-...</td>\n",
       "      <td>1</td>\n",
       "      <td>1</td>\n",
       "      <td>0</td>\n",
       "      <td>0</td>\n",
       "      <td>0</td>\n",
       "      <td>[/government/publications/getting-it-right-for...</td>\n",
       "      <td>/government/publications/getting-it-right-for-...</td>\n",
       "      <td>0</td>\n",
       "      <td>0</td>\n",
       "      <td>185237</td>\n",
       "      <td>2</td>\n",
       "      <td>/government/publications/getting-it-right-for-...</td>\n",
       "    </tr>\n",
       "    <tr>\n",
       "      <th>3</th>\n",
       "      <td>185237</td>\n",
       "      <td>4</td>\n",
       "      <td>/government/publications/getting-it-right-for-...</td>\n",
       "      <td>1</td>\n",
       "      <td>1</td>\n",
       "      <td>0</td>\n",
       "      <td>0</td>\n",
       "      <td>0</td>\n",
       "      <td>[/government/publications/getting-it-right-for...</td>\n",
       "      <td>/government/publications/getting-it-right-for-...</td>\n",
       "      <td>0</td>\n",
       "      <td>0</td>\n",
       "      <td>185237</td>\n",
       "      <td>3</td>\n",
       "      <td>/government/publications/getting-it-right-for-...</td>\n",
       "    </tr>\n",
       "    <tr>\n",
       "      <th>4</th>\n",
       "      <td>185237</td>\n",
       "      <td>4</td>\n",
       "      <td>/government/publications/getting-it-right-for-...</td>\n",
       "      <td>1</td>\n",
       "      <td>1</td>\n",
       "      <td>0</td>\n",
       "      <td>0</td>\n",
       "      <td>0</td>\n",
       "      <td>[/government/publications/getting-it-right-for...</td>\n",
       "      <td>/government/publications/getting-it-right-for-...</td>\n",
       "      <td>0</td>\n",
       "      <td>0</td>\n",
       "      <td>185237</td>\n",
       "      <td>4</td>\n",
       "      <td>/government/publications/getting-it-right-for-...</td>\n",
       "    </tr>\n",
       "  </tbody>\n",
       "</table>\n",
       "</div>"
      ],
      "text/plain": [
       "    index  Occurrences                                         final_page  \\\n",
       "0  870565            1        /contact/govuk?cachebust=0.4409060960825735   \n",
       "1  667534            1  /email/unsubscribe/1efe4bf7-fa5b-4db1-a6c4-910...   \n",
       "2  185237            4  /government/publications/getting-it-right-for-...   \n",
       "3  185237            4  /government/publications/getting-it-right-for-...   \n",
       "4  185237            4  /government/publications/getting-it-right-for-...   \n",
       "\n",
       "   page_seq_len  page_seq_len_NL  event_list_contains_start  count_search  \\\n",
       "0             1                1                          0             0   \n",
       "1             1                1                          0             0   \n",
       "2             1                1                          0             0   \n",
       "3             1                1                          0             0   \n",
       "4             1                1                          0             0   \n",
       "\n",
       "   contains_search_regex                                  page_list_NL_eval  \\\n",
       "0                      0      [/contact/govuk?cachebust=0.4409060960825735]   \n",
       "1                      0  [/email/unsubscribe/1efe4bf7-fa5b-4db1-a6c4-91...   \n",
       "2                      0  [/government/publications/getting-it-right-for...   \n",
       "3                      0  [/government/publications/getting-it-right-for...   \n",
       "4                      0  [/government/publications/getting-it-right-for...   \n",
       "\n",
       "                                         Page_Seq_NL  page_seq_contains_start  \\\n",
       "0        /contact/govuk?cachebust=0.4409060960825735                        0   \n",
       "1  /email/unsubscribe/1efe4bf7-fa5b-4db1-a6c4-910...                        0   \n",
       "2  /government/publications/getting-it-right-for-...                        0   \n",
       "3  /government/publications/getting-it-right-for-...                        0   \n",
       "4  /government/publications/getting-it-right-for-...                        0   \n",
       "\n",
       "   page_seq_contains_service.gov.uk  journey_type  journey  \\\n",
       "0                                 0        870565        0   \n",
       "1                                 0        667534        1   \n",
       "2                                 0        185237        2   \n",
       "3                                 0        185237        3   \n",
       "4                                 0        185237        4   \n",
       "\n",
       "                                                page  \n",
       "0        /contact/govuk?cachebust=0.4409060960825735  \n",
       "1  /email/unsubscribe/1efe4bf7-fa5b-4db1-a6c4-910...  \n",
       "2  /government/publications/getting-it-right-for-...  \n",
       "3  /government/publications/getting-it-right-for-...  \n",
       "4  /government/publications/getting-it-right-for-...  "
      ]
     },
     "execution_count": 43,
     "metadata": {},
     "output_type": "execute_result"
    }
   ],
   "source": [
    "page_expanded.head()"
   ]
  },
  {
   "cell_type": "code",
   "execution_count": 44,
   "metadata": {},
   "outputs": [
    {
     "name": "stdout",
     "output_type": "stream",
     "text": [
      "Total journeys = 2237406 \n",
      "Total NL journey types = 81115 \n",
      "Mean number of journeys per journey type = 27.583135055168587\n"
     ]
    }
   ],
   "source": [
    "print(\"Total journeys = {} \\nTotal NL journey types = {} \\nMean number of journeys per journey type = {}\".format(\n",
    "    journey_expanded.shape[0],\n",
    "    journey_expanded.Page_Seq_NL.nunique(),\n",
    "    journey_expanded.shape[0]/journey_expanded.Page_Seq_NL.nunique()))"
   ]
  },
  {
   "cell_type": "code",
   "execution_count": 45,
   "metadata": {},
   "outputs": [
    {
     "name": "stdout",
     "output_type": "stream",
     "text": [
      "Total journey made with loops = 2237406 \n",
      "Total journey types = 267293 \n",
      "Total journey types without loops = 81115 \n",
      "Total pages visited = 2237406\n"
     ]
    }
   ],
   "source": [
    "print(\"Total journey made with loops = {} \\nTotal journey types = {} \\nTotal journey types without loops = {} \\nTotal pages visited = {}\".format(\n",
    "    page_expanded.journey.nunique(),\n",
    "    page_expanded.journey_type.nunique(),\n",
    "    page_expanded.Page_Seq_NL.nunique(),\n",
    "    page_expanded.shape[0]))"
   ]
  },
  {
   "cell_type": "code",
   "execution_count": 46,
   "metadata": {},
   "outputs": [],
   "source": [
    "total_page_visits = page_expanded.shape[0]"
   ]
  },
  {
   "cell_type": "code",
   "execution_count": 47,
   "metadata": {},
   "outputs": [
    {
     "data": {
      "text/plain": [
       "count    2237406.0\n",
       "mean           1.0\n",
       "std            0.0\n",
       "min            1.0\n",
       "25%            1.0\n",
       "50%            1.0\n",
       "75%            1.0\n",
       "max            1.0\n",
       "dtype: float64"
      ]
     },
     "execution_count": 47,
     "metadata": {},
     "output_type": "execute_result"
    }
   ],
   "source": [
    "page_expanded.groupby(['journey_type', 'journey']).size().describe()"
   ]
  },
  {
   "cell_type": "code",
   "execution_count": 48,
   "metadata": {},
   "outputs": [
    {
     "data": {
      "text/plain": [
       "count    2237406.0\n",
       "mean           1.0\n",
       "std            0.0\n",
       "min            1.0\n",
       "25%            1.0\n",
       "50%            1.0\n",
       "75%            1.0\n",
       "max            1.0\n",
       "dtype: float64"
      ]
     },
     "execution_count": 48,
     "metadata": {},
     "output_type": "execute_result"
    }
   ],
   "source": [
    "page_expanded.groupby([ 'journey']).size().describe()"
   ]
  },
  {
   "cell_type": "markdown",
   "metadata": {},
   "source": [
    "Oh good, this is distribution of number of pages per journey and now matches journey_expanded['page_seq_len_NL'].describe()"
   ]
  },
  {
   "cell_type": "code",
   "execution_count": null,
   "metadata": {},
   "outputs": [],
   "source": []
  },
  {
   "cell_type": "code",
   "execution_count": 49,
   "metadata": {},
   "outputs": [],
   "source": [
    "# So I don't want to have more than one row for a page if it appeared twice in a session.\n",
    "# I think that's because we might expect pages to be viewed multiple times in a session for both the do-a-thing and chang-a-thing journeys\n",
    "# So I'm going to drop duplicate rows for a page within the same journey\n",
    "\n",
    "page_expanded_no_repeats = page_expanded.drop_duplicates(['journey', 'page']).copy()"
   ]
  },
  {
   "cell_type": "code",
   "execution_count": 50,
   "metadata": {},
   "outputs": [
    {
     "name": "stdout",
     "output_type": "stream",
     "text": [
      "Total journey made with loops = 2237406 \n",
      "Total journey types = 267293 \n",
      "Total journey types without loops = 81115 \n",
      "Unique pages visited = 2237406\n"
     ]
    }
   ],
   "source": [
    "print(\"Total journey made with loops = {} \\nTotal journey types = {} \\nTotal journey types without loops = {} \\nUnique pages visited = {}\".format(\n",
    "    page_expanded_no_repeats.journey.nunique(),\n",
    "    page_expanded_no_repeats.journey_type.nunique(),\n",
    "    page_expanded_no_repeats.Page_Seq_NL.nunique(),\n",
    "    page_expanded_no_repeats.shape[0]))"
   ]
  },
  {
   "cell_type": "code",
   "execution_count": 51,
   "metadata": {},
   "outputs": [
    {
     "name": "stdout",
     "output_type": "stream",
     "text": [
      "So there were 0 pages that were visited at least once in a journey and won't be counted from now\n"
     ]
    }
   ],
   "source": [
    "print(\"So there were {} pages that were visited at least once in a journey and won't be counted from now\".format(\n",
    "page_expanded.shape[0]-page_expanded_no_repeats.shape[0]))"
   ]
  },
  {
   "cell_type": "code",
   "execution_count": 52,
   "metadata": {},
   "outputs": [
    {
     "name": "stdout",
     "output_type": "stream",
     "text": [
      "The mean number of visits to a single page in a journey =1.0\n"
     ]
    }
   ],
   "source": [
    "print(\"The mean number of visits to a single page in a journey ={}\".format(\n",
    "    total_page_visits/page_expanded_no_repeats.shape[0]))"
   ]
  },
  {
   "cell_type": "code",
   "execution_count": 53,
   "metadata": {},
   "outputs": [
    {
     "data": {
      "text/plain": [
       "count    2237406.0\n",
       "mean           1.0\n",
       "std            0.0\n",
       "min            1.0\n",
       "25%            1.0\n",
       "50%            1.0\n",
       "75%            1.0\n",
       "max            1.0\n",
       "dtype: float64"
      ]
     },
     "execution_count": 53,
     "metadata": {},
     "output_type": "execute_result"
    }
   ],
   "source": [
    "page_expanded.groupby(['journey', 'page']).size().describe()"
   ]
  },
  {
   "cell_type": "markdown",
   "metadata": {},
   "source": [
    "Most journeys (>=75%) (without loops) only visit a page once. The average is 1.25 because a small number of jounreys visit a page many times"
   ]
  },
  {
   "cell_type": "code",
   "execution_count": 54,
   "metadata": {},
   "outputs": [
    {
     "data": {
      "text/plain": [
       "count     81115.000000\n",
       "mean         27.583135\n",
       "std        1440.945078\n",
       "min           1.000000\n",
       "25%           1.000000\n",
       "50%           1.000000\n",
       "75%           3.000000\n",
       "max      381476.000000\n",
       "dtype: float64"
      ]
     },
     "execution_count": 54,
     "metadata": {},
     "output_type": "execute_result"
    }
   ],
   "source": [
    "page_expanded_no_repeats.groupby([ 'page']).size().describe()"
   ]
  },
  {
   "cell_type": "code",
   "execution_count": 55,
   "metadata": {},
   "outputs": [
    {
     "data": {
      "image/png": "[encoded data removed]",
      "text/plain": [
       "<Figure size 432x288 with 1 Axes>"
      ]
     },
     "metadata": {
      "needs_background": "light"
     },
     "output_type": "display_data"
    }
   ],
   "source": [
    "ax = page_expanded_no_repeats.groupby([ 'page']).size().hist(bins=200)\n",
    "ax.set_yscale('log')"
   ]
  },
  {
   "cell_type": "markdown",
   "metadata": {},
   "source": [
    "This is the distribution of number of journeys containing a page. Some pages are in lots of journeys (10000) and half of pages are only in one. The mean number of jounreys a page is in is 5.6. "
   ]
  },
  {
   "cell_type": "markdown",
   "metadata": {},
   "source": [
    "Theres a 2% of content in 80% of sessionz thing that defines mainstream for some people. Is it true?"
   ]
  },
  {
   "cell_type": "code",
   "execution_count": 56,
   "metadata": {},
   "outputs": [
    {
     "name": "stdout",
     "output_type": "stream",
     "text": [
      "There are 81115 different pages\n"
     ]
    }
   ],
   "source": [
    "print(\"There are {} different pages\".format(\n",
    "    page_expanded_no_repeats.groupby([ 'page']).size().sort_values(ascending=False).shape[0]))\n",
    "\n",
    "unique_pages = page_expanded_no_repeats.groupby([ 'page']).size().sort_values(ascending=False).shape[0]"
   ]
  },
  {
   "cell_type": "code",
   "execution_count": 57,
   "metadata": {},
   "outputs": [],
   "source": [
    "top_2_percent = page_expanded_no_repeats.groupby([ 'page']).size().nlargest(int(unique_pages * 0.02))"
   ]
  },
  {
   "cell_type": "code",
   "execution_count": 58,
   "metadata": {},
   "outputs": [
    {
     "name": "stdout",
     "output_type": "stream",
     "text": [
      "the top 2% of pages are visited in 0.835508173304264% of journeys\n"
     ]
    }
   ],
   "source": [
    "print(\"the top 2% of pages are visited in {}% of journeys\".format(\n",
    "    top_2_percent.sum()/page_expanded_no_repeats.groupby([ 'page']).size().sum()))"
   ]
  },
  {
   "cell_type": "code",
   "execution_count": 59,
   "metadata": {},
   "outputs": [
    {
     "name": "stdout",
     "output_type": "stream",
     "text": [
      "the top 13.0% of pages are visited in 0.9488452252295739% of journeys\n"
     ]
    }
   ],
   "source": [
    "percent = 0.13\n",
    "\n",
    "print(\"the top {}% of pages are visited in {}% of journeys\".format(\n",
    "    percent * 100,\n",
    "    page_expanded_no_repeats.groupby([ 'page']).size().nlargest(int(unique_pages * percent)).sum()/page_expanded_no_repeats.groupby([ 'page']).size().sum()))"
   ]
  },
  {
   "cell_type": "code",
   "execution_count": 60,
   "metadata": {},
   "outputs": [],
   "source": [
    "data = []\n",
    "for i in np.arange(0.0, 1.0, 0.001):\n",
    "    percent_of_pages = i*100\n",
    "    n = page_expanded_no_repeats.groupby([ 'page']).size().nlargest(int(unique_pages * i)).sum()\n",
    "    percent_of_journeys = n/page_expanded_no_repeats.groupby([ 'page']).size().sum()*100\n",
    "    data.append([percent_of_pages, n, percent_of_journeys])\n",
    "\n",
    "journey_to_content_relationship = pd.DataFrame(data, columns=['percent_of_pages', 'number_of_pages', 'percent_of_journeys'])"
   ]
  },
  {
   "cell_type": "code",
   "execution_count": 61,
   "metadata": {},
   "outputs": [
    {
     "data": {
      "text/plain": [
       "<matplotlib.patches.Rectangle at 0x2681c39e8>"
      ]
     },
     "execution_count": 61,
     "metadata": {},
     "output_type": "execute_result"
    },
    {
     "data": {
      "image/png": "[encoded data removed]",
      "text/plain": [
       "<Figure size 432x288 with 1 Axes>"
      ]
     },
     "metadata": {
      "needs_background": "light"
     },
     "output_type": "display_data"
    }
   ],
   "source": [
    "ax = sns.scatterplot(x=\"percent_of_pages\", y=\"percent_of_journeys\", data=journey_to_content_relationship)\n",
    "ax.set_xlabel(\"Percent of pages in data\")\n",
    "ax.set_ylabel(\"Percent of journeys containing these pages\")\n",
    "\n",
    "# Create a Rectangle patch\n",
    "rect = patches.Rectangle((0,0),2,84,linewidth=1,edgecolor='r',facecolor='red', fill=True, alpha=0.5)\n",
    "rect2 = patches.Rectangle((0,0),13,95,linewidth=1,edgecolor='blue',facecolor='blue', fill=True, alpha=0.05)\n",
    "# Add the patch to the Axes\n",
    "ax.add_patch(rect)\n",
    "ax.add_patch(rect2)"
   ]
  },
  {
   "cell_type": "code",
   "execution_count": 62,
   "metadata": {},
   "outputs": [
    {
     "data": {
      "text/plain": [
       "<matplotlib.patches.Rectangle at 0x2680d4cf8>"
      ]
     },
     "execution_count": 62,
     "metadata": {},
     "output_type": "execute_result"
    },
    {
     "data": {
      "image/png": "[encoded data removed]",
      "text/plain": [
       "<Figure size 432x288 with 1 Axes>"
      ]
     },
     "metadata": {
      "needs_background": "light"
     },
     "output_type": "display_data"
    }
   ],
   "source": [
    "\n",
    "\n",
    "ax = sns.scatterplot(x=\"percent_of_pages\", y=\"percent_of_journeys\", data=journey_to_content_relationship)\n",
    "ax.set_xlabel(\"Percent of pages in data\")\n",
    "ax.set_ylabel(\"Percent of journeys containing these pages\")\n",
    "ax.set_xlim(0, 20)\n",
    "\n",
    "# Create a Rectangle patch\n",
    "rect = patches.Rectangle((0,0),2,84,linewidth=1,edgecolor='r',facecolor='red', fill=True, alpha=0.5)\n",
    "\n",
    "# Add the patch to the Axes\n",
    "ax.add_patch(rect)"
   ]
  },
  {
   "cell_type": "markdown",
   "metadata": {},
   "source": [
    "### journeys containing start pages"
   ]
  },
  {
   "cell_type": "code",
   "execution_count": 63,
   "metadata": {},
   "outputs": [
    {
     "data": {
      "text/plain": [
       "0    2211745\n",
       "1      25661\n",
       "Name: event_list_contains_start, dtype: int64"
      ]
     },
     "execution_count": 63,
     "metadata": {},
     "output_type": "execute_result"
    }
   ],
   "source": [
    "journey_expanded.event_list_contains_start.value_counts()"
   ]
  },
  {
   "cell_type": "code",
   "execution_count": 64,
   "metadata": {},
   "outputs": [
    {
     "data": {
      "text/plain": [
       "0    0.988531\n",
       "1    0.011469\n",
       "Name: event_list_contains_start, dtype: float64"
      ]
     },
     "execution_count": 64,
     "metadata": {},
     "output_type": "execute_result"
    }
   ],
   "source": [
    "journey_expanded.event_list_contains_start.value_counts(normalize=True)"
   ]
  },
  {
   "cell_type": "code",
   "execution_count": 65,
   "metadata": {},
   "outputs": [
    {
     "data": {
      "text/plain": [
       "0    2207767\n",
       "1      29639\n",
       "Name: page_seq_contains_start, dtype: int64"
      ]
     },
     "execution_count": 65,
     "metadata": {},
     "output_type": "execute_result"
    }
   ],
   "source": [
    "journey_expanded.page_seq_contains_start.value_counts()"
   ]
  },
  {
   "cell_type": "code",
   "execution_count": 66,
   "metadata": {},
   "outputs": [
    {
     "data": {
      "text/plain": [
       "0    0.986753\n",
       "1    0.013247\n",
       "Name: page_seq_contains_start, dtype: float64"
      ]
     },
     "execution_count": 66,
     "metadata": {},
     "output_type": "execute_result"
    }
   ],
   "source": [
    "journey_expanded.page_seq_contains_start.value_counts(normalize=True)"
   ]
  },
  {
   "cell_type": "code",
   "execution_count": 67,
   "metadata": {},
   "outputs": [
    {
     "data": {
      "text/plain": [
       "<Figure size 2160x2160 with 0 Axes>"
      ]
     },
     "execution_count": 67,
     "metadata": {},
     "output_type": "execute_result"
    },
    {
     "data": {
      "image/png": "[encoded data removed]",
      "text/plain": [
       "<Figure size 432x288 with 1 Axes>"
      ]
     },
     "metadata": {},
     "output_type": "display_data"
    },
    {
     "data": {
      "text/plain": [
       "<Figure size 2160x2160 with 0 Axes>"
      ]
     },
     "metadata": {},
     "output_type": "display_data"
    }
   ],
   "source": [
    "\n",
    "plt.pie(journey_expanded.event_list_contains_start.value_counts(), labels=['start not in event list', 'the word start is in event list'], autopct='%1.1f%%')\n",
    "plt.figure(figsize=(30,30))"
   ]
  },
  {
   "cell_type": "code",
   "execution_count": 68,
   "metadata": {},
   "outputs": [
    {
     "data": {
      "text/plain": [
       "<Figure size 2160x2160 with 0 Axes>"
      ]
     },
     "execution_count": 68,
     "metadata": {},
     "output_type": "execute_result"
    },
    {
     "data": {
      "image/png": "[encoded data removed]",
      "text/plain": [
       "<Figure size 432x288 with 1 Axes>"
      ]
     },
     "metadata": {},
     "output_type": "display_data"
    },
    {
     "data": {
      "text/plain": [
       "<Figure size 2160x2160 with 0 Axes>"
      ]
     },
     "metadata": {},
     "output_type": "display_data"
    }
   ],
   "source": [
    "\n",
    "plt.pie(journey_expanded.page_seq_contains_start.value_counts(), labels=['start not in journey sequence', 'the word start is in journey sequence'], autopct='%1.1f%%')\n",
    "plt.figure(figsize=(30,30))"
   ]
  },
  {
   "cell_type": "code",
   "execution_count": 69,
   "metadata": {},
   "outputs": [
    {
     "data": {
      "text/plain": [
       "<Figure size 2160x2160 with 0 Axes>"
      ]
     },
     "execution_count": 69,
     "metadata": {},
     "output_type": "execute_result"
    },
    {
     "data": {
      "image/png": "[encoded data removed]",
      "text/plain": [
       "<Figure size 432x288 with 1 Axes>"
      ]
     },
     "metadata": {},
     "output_type": "display_data"
    },
    {
     "data": {
      "text/plain": [
       "<Figure size 2160x2160 with 0 Axes>"
      ]
     },
     "metadata": {},
     "output_type": "display_data"
    }
   ],
   "source": [
    "\n",
    "# plt.pie(journey_expanded['page_seq_contains_service.gov.uk'].value_counts(), labels=['not in journey sequence', 'service.gov.uk is in journey sequence'], autopct='%1.1f%%')\n",
    "plt.pie(journey_expanded['page_seq_contains_service.gov.uk'].value_counts(), autopct='%1.1f%%')\n",
    "\n",
    "plt.figure(figsize=(30,30))"
   ]
  },
  {
   "cell_type": "markdown",
   "metadata": {},
   "source": [
    "### End page"
   ]
  },
  {
   "cell_type": "code",
   "execution_count": 70,
   "metadata": {},
   "outputs": [],
   "source": [
    "def get_end_page(Page_List):          \n",
    "    return pd.eval(Page_List)[-1]\n",
    "\n",
    "journeys['final_page'] = journeys['Page_List'].map(get_end_page)"
   ]
  },
  {
   "cell_type": "code",
   "execution_count": 71,
   "metadata": {},
   "outputs": [
    {
     "data": {
      "text/plain": [
       "81115"
      ]
     },
     "execution_count": 71,
     "metadata": {},
     "output_type": "execute_result"
    }
   ],
   "source": [
    "journeys['final_page'].nunique()"
   ]
  },
  {
   "cell_type": "code",
   "execution_count": 72,
   "metadata": {},
   "outputs": [
    {
     "data": {
      "text/plain": [
       "(267293, 30)"
      ]
     },
     "execution_count": 72,
     "metadata": {},
     "output_type": "execute_result"
    }
   ],
   "source": [
    "journeys.shape"
   ]
  },
  {
   "cell_type": "markdown",
   "metadata": {},
   "source": [
    "#### most frequent end pages"
   ]
  },
  {
   "cell_type": "code",
   "execution_count": 73,
   "metadata": {},
   "outputs": [
    {
     "data": {
      "text/plain": [
       "count     81115.000000\n",
       "mean         27.583135\n",
       "std        1440.945078\n",
       "min           1.000000\n",
       "25%           1.000000\n",
       "50%           1.000000\n",
       "75%           3.000000\n",
       "max      381476.000000\n",
       "dtype: float64"
      ]
     },
     "execution_count": 73,
     "metadata": {},
     "output_type": "execute_result"
    }
   ],
   "source": [
    "journey_expanded.groupby('final_page').size().describe()"
   ]
  },
  {
   "cell_type": "code",
   "execution_count": 74,
   "metadata": {},
   "outputs": [
    {
     "data": {
      "text/plain": [
       "final_page\n",
       "/sign-in-universal-credit                                                                                                                                        381476\n",
       "/check-mot-history                                                                                                                                                79745\n",
       "/view-driving-licence                                                                                                                                             78737\n",
       "/register-to-vote                                                                                                                                                 52646\n",
       "/government/organisations/companies-house                                                                                                                         26097\n",
       "/income-tax-rates                                                                                                                                                 22373\n",
       "/apply-first-provisional-driving-licence                                                                                                                          20797\n",
       "/check-vehicle-tax                                                                                                                                                20343\n",
       "/pay-dartford-crossing-charge                                                                                                                                     19556\n",
       "/book-driving-test                                                                                                                                                18814\n",
       "/apply-renew-passport                                                                                                                                             18178\n",
       "/government/news/budget-2018-24-things-you-need-to-know                                                                                                           17974\n",
       "/council-tax-bands                                                                                                                                                16678\n",
       "/apply-national-insurance-number                                                                                                                                  15931\n",
       "/sign-in-childcare-account                                                                                                                                        12954\n",
       "/prison-visits                                                                                                                                                    12747\n",
       "/fireworks-the-law                                                                                                                                                12221\n",
       "/make-a-sorn                                                                                                                                                      11956\n",
       "/benefits-calculators                                                                                                                                             10657\n",
       "/guidance/rates-and-thresholds-for-employers-2018-to-2019                                                                                                         10533\n",
       "/check-mot-status                                                                                                                                                 10487\n",
       "/done/view-driving-licence                                                                                                                                        10240\n",
       "/change-address-driving-licence                                                                                                                                   10104\n",
       "/personalised-vehicle-registration-numbers/keep-or-assign                                                                                                          9859\n",
       "/change-driving-test                                                                                                                                               9579\n",
       "/car-tax-disc-without-v11-reminder                                                                                                                                 9559\n",
       "/log-in-register-hmrc-online-services                                                                                                                              9474\n",
       "/government/organisations/driver-and-vehicle-licensing-agency                                                                                                      8942\n",
       "/manage-your-tax-credits                                                                                                                                           8775\n",
       "/mot-testing-service?source=mot-testing.i-env.net                                                                                                                  8503\n",
       "/correct-your-business-rates                                                                                                                                       8428\n",
       "/student-finance                                                                                                                                                   8318\n",
       "/stamp-duty-land-tax/residential-property-rates                                                                                                                    7574\n",
       "/get-help-savings-low-income                                                                                                                                       7209\n",
       "/guidance/help-and-support-for-self-assessment                                                                                                                     7091\n",
       "/government/news/new-uk-visa-and-citizenship-application-services-centres-open                                                                                     7028\n",
       "/government/publications/income-tax-personal-allowance-and-basic-rate-limit-from-2019-to-2020/income-tax-personal-allowance-and-basic-rate-limit-from-2019-20      6960\n",
       "/send-prisoner-money                                                                                                                                               6936\n",
       "/mot-reminder                                                                                                                                                      6933\n",
       "/                                                                                                                                                                  6295\n",
       "/change-name-address-v5c                                                                                                                                           6246\n",
       "/government/publications/budget-2018-documents/budget-2018                                                                                                         6199\n",
       "/government/organisations/disclosure-and-barring-service                                                                                                           6055\n",
       "/government/organisations/land-registry                                                                                                                            5968\n",
       "/contact-hmrc                                                                                                                                                      5706\n",
       "/government/publications/budget-2018-documents                                                                                                                     5679\n",
       "/taking-sick-leave                                                                                                                                                 5656\n",
       "/check-state-pension                                                                                                                                               5644\n",
       "/find-local-council                                                                                                                                                5572\n",
       "/government/organisations/home-office                                                                                                                              5564\n",
       "dtype: int64"
      ]
     },
     "execution_count": 74,
     "metadata": {},
     "output_type": "execute_result"
    }
   ],
   "source": [
    "journey_expanded.groupby('final_page').size().sort_values(ascending=False).iloc[0:50]"
   ]
  },
  {
   "cell_type": "markdown",
   "metadata": {},
   "source": [
    "#### Most number of 'ways' of getting there"
   ]
  },
  {
   "cell_type": "code",
   "execution_count": 75,
   "metadata": {},
   "outputs": [
    {
     "name": "stdout",
     "output_type": "stream",
     "text": [
      "On average there are 3.295235159958084 journeys per exit page; ways of getting there\n"
     ]
    }
   ],
   "source": [
    "print(\"On average there are {} journeys per exit page; ways of getting there\".format(journeys.shape[0]/journeys['final_page'].nunique()))"
   ]
  },
  {
   "cell_type": "markdown",
   "metadata": {},
   "source": [
    "This is obviously calculated incorrectly as there is only one way of getting to an exit page on a one-page journey!"
   ]
  },
  {
   "cell_type": "code",
   "execution_count": 76,
   "metadata": {},
   "outputs": [],
   "source": [
    "unique_page_sequences = journeys.drop_duplicates('Page_Seq_NL')"
   ]
  },
  {
   "cell_type": "code",
   "execution_count": 77,
   "metadata": {},
   "outputs": [
    {
     "data": {
      "text/plain": [
       "count    81115.0\n",
       "mean         1.0\n",
       "std          0.0\n",
       "min          1.0\n",
       "25%          1.0\n",
       "50%          1.0\n",
       "75%          1.0\n",
       "max          1.0\n",
       "dtype: float64"
      ]
     },
     "execution_count": 77,
     "metadata": {},
     "output_type": "execute_result"
    }
   ],
   "source": [
    "unique_page_sequences.groupby('final_page').size().describe()"
   ]
  },
  {
   "cell_type": "code",
   "execution_count": 78,
   "metadata": {},
   "outputs": [],
   "source": [
    "pd.set_option('display.max_colwidth', -1)\n",
    "# unique_page_sequences[unique_page_sequences['final_page']=='/vehicle-tax'].head()"
   ]
  },
  {
   "cell_type": "code",
   "execution_count": 79,
   "metadata": {},
   "outputs": [
    {
     "data": {
      "text/plain": [
       "count    81115.0\n",
       "mean     1.0    \n",
       "std      0.0    \n",
       "min      1.0    \n",
       "25%      1.0    \n",
       "50%      1.0    \n",
       "75%      1.0    \n",
       "max      1.0    \n",
       "dtype: float64"
      ]
     },
     "execution_count": 79,
     "metadata": {},
     "output_type": "execute_result"
    }
   ],
   "source": [
    "unique_page_sequences.groupby('final_page').size().describe()"
   ]
  },
  {
   "cell_type": "code",
   "execution_count": 80,
   "metadata": {},
   "outputs": [],
   "source": [
    "journeys['final_page_type'] = 'other'\n",
    "journeys.loc[journeys['final_page'].str.contains('/government/publications/', 'final_page_type')] = 'government_publication'\n",
    "journeys.loc[journeys['final_page'].str.contains('log-in', 'final_page_type')] = 'login'\n",
    "journeys.loc[journeys['final_page'].str.contains('sign-in', 'final_page_type')] = 'login'\n",
    "journeys.loc[journeys['final_page'].str.contains('login', 'final_page_type')] = 'login'\n",
    "journeys.loc[journeys['final_page'].str.contains('check', 'final_page_type')] = 'check'\n",
    "journeys.loc[journeys['final_page'].str.contains('apply', 'final_page_type')] = 'apply'\n",
    "journeys.loc[journeys['final_page'].str.contains('contact', 'final_page_type')] = 'contact/enquiries'\n",
    "journeys.loc[journeys['final_page'].str.contains('enquiries', 'final_page_type')] = 'contact/enquiries'\n",
    "journeys.loc[journeys['final_page'].str.contains(r'get-.*-information.*', 'final_page_type')] = 'get_information'\n",
    "journeys.loc[journeys['final_page'].str.contains('send', 'final_page_type')] = 'send'\n",
    "journeys.loc[journeys['final_page'].str.contains('find', 'final_page_type')] = 'find'\n",
    "journeys.loc[journeys['final_page'].str.contains('calculat', 'final_page_type')] = 'calculate/calculator'\n",
    "journeys.loc[journeys['final_page'].str.contains('order', 'final_page_type')] = 'order'\n",
    "journeys.loc[journeys['final_page'].str.contains('manage', 'final_page_type')] = 'manage'\n",
    "journeys.loc[journeys['final_page'].str.contains('update', 'final_page_type')] = 'update'\n",
    "journeys.loc[journeys['final_page'].str.contains('eligibility', 'final_page_type')] = 'eligibility'\n",
    "journeys.loc[journeys['final_page'].str.contains('estimate', 'final_page_type')] = 'estimate'\n",
    "journeys.loc[journeys['final_page'].str.contains('renew', 'final_page_type')] = 'renew'\n",
    "journeys.loc[journeys['final_page'].str.contains('pay', 'final_page_type')] = 'pay'\n",
    "journeys.loc[journeys['final_page'].str.contains('claim', 'final_page_type')] = 'claim'\n",
    "journeys.loc[journeys['final_page'].str.contains('change', 'final_page_type')] = 'change'"
   ]
  },
  {
   "cell_type": "code",
   "execution_count": 81,
   "metadata": {},
   "outputs": [
    {
     "data": {
      "text/plain": [
       "final_page_type\n",
       "apply                     8052 \n",
       "calculate/calculator      3980 \n",
       "change                    10407\n",
       "check                     80533\n",
       "claim                     750  \n",
       "contact/enquiries         4938 \n",
       "eligibility               353  \n",
       "estimate                  81   \n",
       "find                      2075 \n",
       "get_information           58   \n",
       "government_publication    31429\n",
       "login                     11772\n",
       "manage                    9265 \n",
       "order                     387  \n",
       "other                     99733\n",
       "pay                       2503 \n",
       "renew                     182  \n",
       "send                      201  \n",
       "update                    594  \n",
       "dtype: int64"
      ]
     },
     "execution_count": 81,
     "metadata": {},
     "output_type": "execute_result"
    }
   ],
   "source": [
    "journeys.groupby('final_page_type').size()"
   ]
  },
  {
   "cell_type": "code",
   "execution_count": 82,
   "metadata": {},
   "outputs": [],
   "source": [
    "def groupby_percent(df, groupby_var, unit_var, figsize=(10, 5)):\n",
    "    x = df.groupby(groupby_var).count().reset_index()\n",
    "    x['percent'] = 100*x[unit_var]/x[unit_var].sum()\n",
    "    x = x.sort_values(['percent'])\n",
    "\n",
    "    s = pd.DataFrame(x[[groupby_var, unit_var,'percent']])\n",
    "\n",
    "    return(s, x.plot(x=groupby_var, y='percent', kind='barh', figsize=figsize, color='#2B8CC4'))"
   ]
  },
  {
   "cell_type": "code",
   "execution_count": 83,
   "metadata": {},
   "outputs": [
    {
     "data": {
      "text/plain": [
       "(           final_page_type  Page_Seq_NL    percent\n",
       " 9   get_information         58           0.021699 \n",
       " 7   estimate                81           0.030304 \n",
       " 16  renew                   182          0.068090 \n",
       " 17  send                    201          0.075198 \n",
       " 6   eligibility             353          0.132065 \n",
       " 13  order                   387          0.144785 \n",
       " 18  update                  594          0.222228 \n",
       " 4   claim                   750          0.280591 \n",
       " 8   find                    2075         0.776302 \n",
       " 15  pay                     2503         0.936426 \n",
       " 1   calculate/calculator    3980         1.489003 \n",
       " 5   contact/enquiries       4938         1.847411 \n",
       " 0   apply                   8052         3.012425 \n",
       " 12  manage                  9265         3.466234 \n",
       " 2   change                  10407        3.893480 \n",
       " 11  login                   11772        4.404156 \n",
       " 10  government_publication  31429        11.758258\n",
       " 3   check                   80533        30.129109\n",
       " 14  other                   99733        37.312238,\n",
       " <matplotlib.axes._subplots.AxesSubplot at 0x267ea4c18>)"
      ]
     },
     "execution_count": 83,
     "metadata": {},
     "output_type": "execute_result"
    },
    {
     "data": {
      "image/png": "[encoded data removed]",
      "text/plain": [
       "<Figure size 720x360 with 1 Axes>"
      ]
     },
     "metadata": {
      "needs_background": "light"
     },
     "output_type": "display_data"
    }
   ],
   "source": [
    "groupby_percent(journeys, 'final_page_type', 'Page_Seq_NL')"
   ]
  },
  {
   "cell_type": "markdown",
   "metadata": {},
   "source": [
    "#### Final interaction with GOV.UK"
   ]
  },
  {
   "cell_type": "code",
   "execution_count": 84,
   "metadata": {},
   "outputs": [],
   "source": [
    "def get_end_page_event(Page_Event_List):          \n",
    "    return pd.eval(Page_Event_List)[-1][-1]"
   ]
  },
  {
   "cell_type": "code",
   "execution_count": 85,
   "metadata": {},
   "outputs": [
    {
     "ename": "UndefinedVariableError",
     "evalue": "name 'contact' is not defined",
     "output_type": "error",
     "traceback": [
      "\u001b[0;31m---------------------------------------------------------------------------\u001b[0m",
      "\u001b[0;31mKeyError\u001b[0m                                  Traceback (most recent call last)",
      "\u001b[0;32m~/.pyenv/versions/3.6.0/envs/govuk-network/lib/python3.6/site-packages/pandas/core/computation/scope.py\u001b[0m in \u001b[0;36mresolve\u001b[0;34m(self, key, is_local)\u001b[0m\n\u001b[1;32m    185\u001b[0m             \u001b[0;32massert\u001b[0m \u001b[0;32mnot\u001b[0m \u001b[0mis_local\u001b[0m \u001b[0;32mand\u001b[0m \u001b[0;32mnot\u001b[0m \u001b[0mself\u001b[0m\u001b[0;34m.\u001b[0m\u001b[0mhas_resolvers\u001b[0m\u001b[0;34m\u001b[0m\u001b[0m\n\u001b[0;32m--> 186\u001b[0;31m             \u001b[0;32mreturn\u001b[0m \u001b[0mself\u001b[0m\u001b[0;34m.\u001b[0m\u001b[0mscope\u001b[0m\u001b[0;34m[\u001b[0m\u001b[0mkey\u001b[0m\u001b[0;34m]\u001b[0m\u001b[0;34m\u001b[0m\u001b[0m\n\u001b[0m\u001b[1;32m    187\u001b[0m         \u001b[0;32mexcept\u001b[0m \u001b[0mKeyError\u001b[0m\u001b[0;34m:\u001b[0m\u001b[0;34m\u001b[0m\u001b[0m\n",
      "\u001b[0;32m~/.pyenv/versions/3.6.0/lib/python3.6/collections/__init__.py\u001b[0m in \u001b[0;36m__getitem__\u001b[0;34m(self, key)\u001b[0m\n\u001b[1;32m    881\u001b[0m                 \u001b[0;32mpass\u001b[0m\u001b[0;34m\u001b[0m\u001b[0m\n\u001b[0;32m--> 882\u001b[0;31m         \u001b[0;32mreturn\u001b[0m \u001b[0mself\u001b[0m\u001b[0;34m.\u001b[0m\u001b[0m__missing__\u001b[0m\u001b[0;34m(\u001b[0m\u001b[0mkey\u001b[0m\u001b[0;34m)\u001b[0m            \u001b[0;31m# support subclasses that define __missing__\u001b[0m\u001b[0;34m\u001b[0m\u001b[0m\n\u001b[0m\u001b[1;32m    883\u001b[0m \u001b[0;34m\u001b[0m\u001b[0m\n",
      "\u001b[0;32m~/.pyenv/versions/3.6.0/lib/python3.6/collections/__init__.py\u001b[0m in \u001b[0;36m__missing__\u001b[0;34m(self, key)\u001b[0m\n\u001b[1;32m    873\u001b[0m     \u001b[0;32mdef\u001b[0m \u001b[0m__missing__\u001b[0m\u001b[0;34m(\u001b[0m\u001b[0mself\u001b[0m\u001b[0;34m,\u001b[0m \u001b[0mkey\u001b[0m\u001b[0;34m)\u001b[0m\u001b[0;34m:\u001b[0m\u001b[0;34m\u001b[0m\u001b[0m\n\u001b[0;32m--> 874\u001b[0;31m         \u001b[0;32mraise\u001b[0m \u001b[0mKeyError\u001b[0m\u001b[0;34m(\u001b[0m\u001b[0mkey\u001b[0m\u001b[0;34m)\u001b[0m\u001b[0;34m\u001b[0m\u001b[0m\n\u001b[0m\u001b[1;32m    875\u001b[0m \u001b[0;34m\u001b[0m\u001b[0m\n",
      "\u001b[0;31mKeyError\u001b[0m: 'contact'",
      "\nDuring handling of the above exception, another exception occurred:\n",
      "\u001b[0;31mKeyError\u001b[0m                                  Traceback (most recent call last)",
      "\u001b[0;32m~/.pyenv/versions/3.6.0/envs/govuk-network/lib/python3.6/site-packages/pandas/core/computation/scope.py\u001b[0m in \u001b[0;36mresolve\u001b[0;34m(self, key, is_local)\u001b[0m\n\u001b[1;32m    191\u001b[0m                 \u001b[0;31m# e.g., df[df > 0]\u001b[0m\u001b[0;34m\u001b[0m\u001b[0;34m\u001b[0m\u001b[0m\n\u001b[0;32m--> 192\u001b[0;31m                 \u001b[0;32mreturn\u001b[0m \u001b[0mself\u001b[0m\u001b[0;34m.\u001b[0m\u001b[0mtemps\u001b[0m\u001b[0;34m[\u001b[0m\u001b[0mkey\u001b[0m\u001b[0;34m]\u001b[0m\u001b[0;34m\u001b[0m\u001b[0m\n\u001b[0m\u001b[1;32m    193\u001b[0m             \u001b[0;32mexcept\u001b[0m \u001b[0mKeyError\u001b[0m\u001b[0;34m:\u001b[0m\u001b[0;34m\u001b[0m\u001b[0m\n",
      "\u001b[0;31mKeyError\u001b[0m: 'contact'",
      "\nDuring handling of the above exception, another exception occurred:\n",
      "\u001b[0;31mUndefinedVariableError\u001b[0m                    Traceback (most recent call last)",
      "\u001b[0;32m<ipython-input-85-1868e58272df>\u001b[0m in \u001b[0;36m<module>\u001b[0;34m\u001b[0m\n\u001b[0;32m----> 1\u001b[0;31m \u001b[0mjourneys\u001b[0m\u001b[0;34m[\u001b[0m\u001b[0;34m'final_interaction'\u001b[0m\u001b[0;34m]\u001b[0m \u001b[0;34m=\u001b[0m \u001b[0mjourneys\u001b[0m\u001b[0;34m[\u001b[0m\u001b[0;34m'Page_Event_List'\u001b[0m\u001b[0;34m]\u001b[0m\u001b[0;34m.\u001b[0m\u001b[0mmap\u001b[0m\u001b[0;34m(\u001b[0m\u001b[0mget_end_page_event\u001b[0m\u001b[0;34m)\u001b[0m\u001b[0;34m\u001b[0m\u001b[0m\n\u001b[0m",
      "\u001b[0;32m~/.pyenv/versions/3.6.0/envs/govuk-network/lib/python3.6/site-packages/pandas/core/series.py\u001b[0m in \u001b[0;36mmap\u001b[0;34m(self, arg, na_action)\u001b[0m\n\u001b[1;32m   2996\u001b[0m         \"\"\"\n\u001b[1;32m   2997\u001b[0m         new_values = super(Series, self)._map_values(\n\u001b[0;32m-> 2998\u001b[0;31m             arg, na_action=na_action)\n\u001b[0m\u001b[1;32m   2999\u001b[0m         return self._constructor(new_values,\n\u001b[1;32m   3000\u001b[0m                                  index=self.index).__finalize__(self)\n",
      "\u001b[0;32m~/.pyenv/versions/3.6.0/envs/govuk-network/lib/python3.6/site-packages/pandas/core/base.py\u001b[0m in \u001b[0;36m_map_values\u001b[0;34m(self, mapper, na_action)\u001b[0m\n\u001b[1;32m   1002\u001b[0m \u001b[0;34m\u001b[0m\u001b[0m\n\u001b[1;32m   1003\u001b[0m         \u001b[0;31m# mapper is a function\u001b[0m\u001b[0;34m\u001b[0m\u001b[0;34m\u001b[0m\u001b[0m\n\u001b[0;32m-> 1004\u001b[0;31m         \u001b[0mnew_values\u001b[0m \u001b[0;34m=\u001b[0m \u001b[0mmap_f\u001b[0m\u001b[0;34m(\u001b[0m\u001b[0mvalues\u001b[0m\u001b[0;34m,\u001b[0m \u001b[0mmapper\u001b[0m\u001b[0;34m)\u001b[0m\u001b[0;34m\u001b[0m\u001b[0m\n\u001b[0m\u001b[1;32m   1005\u001b[0m \u001b[0;34m\u001b[0m\u001b[0m\n\u001b[1;32m   1006\u001b[0m         \u001b[0;32mreturn\u001b[0m \u001b[0mnew_values\u001b[0m\u001b[0;34m\u001b[0m\u001b[0m\n",
      "\u001b[0;32mpandas/_libs/src/inference.pyx\u001b[0m in \u001b[0;36mpandas._libs.lib.map_infer\u001b[0;34m()\u001b[0m\n",
      "\u001b[0;32m<ipython-input-84-842262ba6094>\u001b[0m in \u001b[0;36mget_end_page_event\u001b[0;34m(Page_Event_List)\u001b[0m\n\u001b[1;32m      1\u001b[0m \u001b[0;32mdef\u001b[0m \u001b[0mget_end_page_event\u001b[0m\u001b[0;34m(\u001b[0m\u001b[0mPage_Event_List\u001b[0m\u001b[0;34m)\u001b[0m\u001b[0;34m:\u001b[0m\u001b[0;34m\u001b[0m\u001b[0m\n\u001b[0;32m----> 2\u001b[0;31m     \u001b[0;32mreturn\u001b[0m \u001b[0mpd\u001b[0m\u001b[0;34m.\u001b[0m\u001b[0meval\u001b[0m\u001b[0;34m(\u001b[0m\u001b[0mPage_Event_List\u001b[0m\u001b[0;34m)\u001b[0m\u001b[0;34m[\u001b[0m\u001b[0;34m-\u001b[0m\u001b[0;36m1\u001b[0m\u001b[0;34m]\u001b[0m\u001b[0;34m[\u001b[0m\u001b[0;34m-\u001b[0m\u001b[0;36m1\u001b[0m\u001b[0;34m]\u001b[0m\u001b[0;34m\u001b[0m\u001b[0m\n\u001b[0m",
      "\u001b[0;32m~/.pyenv/versions/3.6.0/envs/govuk-network/lib/python3.6/site-packages/pandas/core/computation/eval.py\u001b[0m in \u001b[0;36meval\u001b[0;34m(expr, parser, engine, truediv, local_dict, global_dict, resolvers, level, target, inplace)\u001b[0m\n\u001b[1;32m    289\u001b[0m \u001b[0;34m\u001b[0m\u001b[0m\n\u001b[1;32m    290\u001b[0m         parsed_expr = Expr(expr, engine=engine, parser=parser, env=env,\n\u001b[0;32m--> 291\u001b[0;31m                            truediv=truediv)\n\u001b[0m\u001b[1;32m    292\u001b[0m \u001b[0;34m\u001b[0m\u001b[0m\n\u001b[1;32m    293\u001b[0m         \u001b[0;31m# construct the engine and evaluate the parsed expression\u001b[0m\u001b[0;34m\u001b[0m\u001b[0;34m\u001b[0m\u001b[0m\n",
      "\u001b[0;32m~/.pyenv/versions/3.6.0/envs/govuk-network/lib/python3.6/site-packages/pandas/core/computation/expr.py\u001b[0m in \u001b[0;36m__init__\u001b[0;34m(self, expr, engine, parser, env, truediv, level)\u001b[0m\n\u001b[1;32m    737\u001b[0m         \u001b[0mself\u001b[0m\u001b[0;34m.\u001b[0m\u001b[0menv\u001b[0m\u001b[0;34m.\u001b[0m\u001b[0mscope\u001b[0m\u001b[0;34m[\u001b[0m\u001b[0;34m'truediv'\u001b[0m\u001b[0;34m]\u001b[0m \u001b[0;34m=\u001b[0m \u001b[0mtruediv\u001b[0m\u001b[0;34m\u001b[0m\u001b[0m\n\u001b[1;32m    738\u001b[0m         \u001b[0mself\u001b[0m\u001b[0;34m.\u001b[0m\u001b[0m_visitor\u001b[0m \u001b[0;34m=\u001b[0m \u001b[0m_parsers\u001b[0m\u001b[0;34m[\u001b[0m\u001b[0mparser\u001b[0m\u001b[0;34m]\u001b[0m\u001b[0;34m(\u001b[0m\u001b[0mself\u001b[0m\u001b[0;34m.\u001b[0m\u001b[0menv\u001b[0m\u001b[0;34m,\u001b[0m \u001b[0mself\u001b[0m\u001b[0;34m.\u001b[0m\u001b[0mengine\u001b[0m\u001b[0;34m,\u001b[0m \u001b[0mself\u001b[0m\u001b[0;34m.\u001b[0m\u001b[0mparser\u001b[0m\u001b[0;34m)\u001b[0m\u001b[0;34m\u001b[0m\u001b[0m\n\u001b[0;32m--> 739\u001b[0;31m         \u001b[0mself\u001b[0m\u001b[0;34m.\u001b[0m\u001b[0mterms\u001b[0m \u001b[0;34m=\u001b[0m \u001b[0mself\u001b[0m\u001b[0;34m.\u001b[0m\u001b[0mparse\u001b[0m\u001b[0;34m(\u001b[0m\u001b[0;34m)\u001b[0m\u001b[0;34m\u001b[0m\u001b[0m\n\u001b[0m\u001b[1;32m    740\u001b[0m \u001b[0;34m\u001b[0m\u001b[0m\n\u001b[1;32m    741\u001b[0m     \u001b[0;34m@\u001b[0m\u001b[0mproperty\u001b[0m\u001b[0;34m\u001b[0m\u001b[0m\n",
      "\u001b[0;32m~/.pyenv/versions/3.6.0/envs/govuk-network/lib/python3.6/site-packages/pandas/core/computation/expr.py\u001b[0m in \u001b[0;36mparse\u001b[0;34m(self)\u001b[0m\n\u001b[1;32m    754\u001b[0m     \u001b[0;32mdef\u001b[0m \u001b[0mparse\u001b[0m\u001b[0;34m(\u001b[0m\u001b[0mself\u001b[0m\u001b[0;34m)\u001b[0m\u001b[0;34m:\u001b[0m\u001b[0;34m\u001b[0m\u001b[0m\n\u001b[1;32m    755\u001b[0m         \u001b[0;34m\"\"\"Parse an expression\"\"\"\u001b[0m\u001b[0;34m\u001b[0m\u001b[0m\n\u001b[0;32m--> 756\u001b[0;31m         \u001b[0;32mreturn\u001b[0m \u001b[0mself\u001b[0m\u001b[0;34m.\u001b[0m\u001b[0m_visitor\u001b[0m\u001b[0;34m.\u001b[0m\u001b[0mvisit\u001b[0m\u001b[0;34m(\u001b[0m\u001b[0mself\u001b[0m\u001b[0;34m.\u001b[0m\u001b[0mexpr\u001b[0m\u001b[0;34m)\u001b[0m\u001b[0;34m\u001b[0m\u001b[0m\n\u001b[0m\u001b[1;32m    757\u001b[0m \u001b[0;34m\u001b[0m\u001b[0m\n\u001b[1;32m    758\u001b[0m     \u001b[0;34m@\u001b[0m\u001b[0mproperty\u001b[0m\u001b[0;34m\u001b[0m\u001b[0m\n",
      "\u001b[0;32m~/.pyenv/versions/3.6.0/envs/govuk-network/lib/python3.6/site-packages/pandas/core/computation/expr.py\u001b[0m in \u001b[0;36mvisit\u001b[0;34m(self, node, **kwargs)\u001b[0m\n\u001b[1;32m    319\u001b[0m         \u001b[0mmethod\u001b[0m \u001b[0;34m=\u001b[0m \u001b[0;34m'visit_'\u001b[0m \u001b[0;34m+\u001b[0m \u001b[0mnode\u001b[0m\u001b[0;34m.\u001b[0m\u001b[0m__class__\u001b[0m\u001b[0;34m.\u001b[0m\u001b[0m__name__\u001b[0m\u001b[0;34m\u001b[0m\u001b[0m\n\u001b[1;32m    320\u001b[0m         \u001b[0mvisitor\u001b[0m \u001b[0;34m=\u001b[0m \u001b[0mgetattr\u001b[0m\u001b[0;34m(\u001b[0m\u001b[0mself\u001b[0m\u001b[0;34m,\u001b[0m \u001b[0mmethod\u001b[0m\u001b[0;34m)\u001b[0m\u001b[0;34m\u001b[0m\u001b[0m\n\u001b[0;32m--> 321\u001b[0;31m         \u001b[0;32mreturn\u001b[0m \u001b[0mvisitor\u001b[0m\u001b[0;34m(\u001b[0m\u001b[0mnode\u001b[0m\u001b[0;34m,\u001b[0m \u001b[0;34m**\u001b[0m\u001b[0mkwargs\u001b[0m\u001b[0;34m)\u001b[0m\u001b[0;34m\u001b[0m\u001b[0m\n\u001b[0m\u001b[1;32m    322\u001b[0m \u001b[0;34m\u001b[0m\u001b[0m\n\u001b[1;32m    323\u001b[0m     \u001b[0;32mdef\u001b[0m \u001b[0mvisit_Module\u001b[0m\u001b[0;34m(\u001b[0m\u001b[0mself\u001b[0m\u001b[0;34m,\u001b[0m \u001b[0mnode\u001b[0m\u001b[0;34m,\u001b[0m \u001b[0;34m**\u001b[0m\u001b[0mkwargs\u001b[0m\u001b[0;34m)\u001b[0m\u001b[0;34m:\u001b[0m\u001b[0;34m\u001b[0m\u001b[0m\n",
      "\u001b[0;32m~/.pyenv/versions/3.6.0/envs/govuk-network/lib/python3.6/site-packages/pandas/core/computation/expr.py\u001b[0m in \u001b[0;36mvisit_Module\u001b[0;34m(self, node, **kwargs)\u001b[0m\n\u001b[1;32m    325\u001b[0m             \u001b[0;32mraise\u001b[0m \u001b[0mSyntaxError\u001b[0m\u001b[0;34m(\u001b[0m\u001b[0;34m'only a single expression is allowed'\u001b[0m\u001b[0;34m)\u001b[0m\u001b[0;34m\u001b[0m\u001b[0m\n\u001b[1;32m    326\u001b[0m         \u001b[0mexpr\u001b[0m \u001b[0;34m=\u001b[0m \u001b[0mnode\u001b[0m\u001b[0;34m.\u001b[0m\u001b[0mbody\u001b[0m\u001b[0;34m[\u001b[0m\u001b[0;36m0\u001b[0m\u001b[0;34m]\u001b[0m\u001b[0;34m\u001b[0m\u001b[0m\n\u001b[0;32m--> 327\u001b[0;31m         \u001b[0;32mreturn\u001b[0m \u001b[0mself\u001b[0m\u001b[0;34m.\u001b[0m\u001b[0mvisit\u001b[0m\u001b[0;34m(\u001b[0m\u001b[0mexpr\u001b[0m\u001b[0;34m,\u001b[0m \u001b[0;34m**\u001b[0m\u001b[0mkwargs\u001b[0m\u001b[0;34m)\u001b[0m\u001b[0;34m\u001b[0m\u001b[0m\n\u001b[0m\u001b[1;32m    328\u001b[0m \u001b[0;34m\u001b[0m\u001b[0m\n\u001b[1;32m    329\u001b[0m     \u001b[0;32mdef\u001b[0m \u001b[0mvisit_Expr\u001b[0m\u001b[0;34m(\u001b[0m\u001b[0mself\u001b[0m\u001b[0;34m,\u001b[0m \u001b[0mnode\u001b[0m\u001b[0;34m,\u001b[0m \u001b[0;34m**\u001b[0m\u001b[0mkwargs\u001b[0m\u001b[0;34m)\u001b[0m\u001b[0;34m:\u001b[0m\u001b[0;34m\u001b[0m\u001b[0m\n",
      "\u001b[0;32m~/.pyenv/versions/3.6.0/envs/govuk-network/lib/python3.6/site-packages/pandas/core/computation/expr.py\u001b[0m in \u001b[0;36mvisit\u001b[0;34m(self, node, **kwargs)\u001b[0m\n\u001b[1;32m    319\u001b[0m         \u001b[0mmethod\u001b[0m \u001b[0;34m=\u001b[0m \u001b[0;34m'visit_'\u001b[0m \u001b[0;34m+\u001b[0m \u001b[0mnode\u001b[0m\u001b[0;34m.\u001b[0m\u001b[0m__class__\u001b[0m\u001b[0;34m.\u001b[0m\u001b[0m__name__\u001b[0m\u001b[0;34m\u001b[0m\u001b[0m\n\u001b[1;32m    320\u001b[0m         \u001b[0mvisitor\u001b[0m \u001b[0;34m=\u001b[0m \u001b[0mgetattr\u001b[0m\u001b[0;34m(\u001b[0m\u001b[0mself\u001b[0m\u001b[0;34m,\u001b[0m \u001b[0mmethod\u001b[0m\u001b[0;34m)\u001b[0m\u001b[0;34m\u001b[0m\u001b[0m\n\u001b[0;32m--> 321\u001b[0;31m         \u001b[0;32mreturn\u001b[0m \u001b[0mvisitor\u001b[0m\u001b[0;34m(\u001b[0m\u001b[0mnode\u001b[0m\u001b[0;34m,\u001b[0m \u001b[0;34m**\u001b[0m\u001b[0mkwargs\u001b[0m\u001b[0;34m)\u001b[0m\u001b[0;34m\u001b[0m\u001b[0m\n\u001b[0m\u001b[1;32m    322\u001b[0m \u001b[0;34m\u001b[0m\u001b[0m\n\u001b[1;32m    323\u001b[0m     \u001b[0;32mdef\u001b[0m \u001b[0mvisit_Module\u001b[0m\u001b[0;34m(\u001b[0m\u001b[0mself\u001b[0m\u001b[0;34m,\u001b[0m \u001b[0mnode\u001b[0m\u001b[0;34m,\u001b[0m \u001b[0;34m**\u001b[0m\u001b[0mkwargs\u001b[0m\u001b[0;34m)\u001b[0m\u001b[0;34m:\u001b[0m\u001b[0;34m\u001b[0m\u001b[0m\n",
      "\u001b[0;32m~/.pyenv/versions/3.6.0/envs/govuk-network/lib/python3.6/site-packages/pandas/core/computation/expr.py\u001b[0m in \u001b[0;36mvisit_Expr\u001b[0;34m(self, node, **kwargs)\u001b[0m\n\u001b[1;32m    328\u001b[0m \u001b[0;34m\u001b[0m\u001b[0m\n\u001b[1;32m    329\u001b[0m     \u001b[0;32mdef\u001b[0m \u001b[0mvisit_Expr\u001b[0m\u001b[0;34m(\u001b[0m\u001b[0mself\u001b[0m\u001b[0;34m,\u001b[0m \u001b[0mnode\u001b[0m\u001b[0;34m,\u001b[0m \u001b[0;34m**\u001b[0m\u001b[0mkwargs\u001b[0m\u001b[0;34m)\u001b[0m\u001b[0;34m:\u001b[0m\u001b[0;34m\u001b[0m\u001b[0m\n\u001b[0;32m--> 330\u001b[0;31m         \u001b[0;32mreturn\u001b[0m \u001b[0mself\u001b[0m\u001b[0;34m.\u001b[0m\u001b[0mvisit\u001b[0m\u001b[0;34m(\u001b[0m\u001b[0mnode\u001b[0m\u001b[0;34m.\u001b[0m\u001b[0mvalue\u001b[0m\u001b[0;34m,\u001b[0m \u001b[0;34m**\u001b[0m\u001b[0mkwargs\u001b[0m\u001b[0;34m)\u001b[0m\u001b[0;34m\u001b[0m\u001b[0m\n\u001b[0m\u001b[1;32m    331\u001b[0m \u001b[0;34m\u001b[0m\u001b[0m\n\u001b[1;32m    332\u001b[0m     \u001b[0;32mdef\u001b[0m \u001b[0m_rewrite_membership_op\u001b[0m\u001b[0;34m(\u001b[0m\u001b[0mself\u001b[0m\u001b[0;34m,\u001b[0m \u001b[0mnode\u001b[0m\u001b[0;34m,\u001b[0m \u001b[0mleft\u001b[0m\u001b[0;34m,\u001b[0m \u001b[0mright\u001b[0m\u001b[0;34m)\u001b[0m\u001b[0;34m:\u001b[0m\u001b[0;34m\u001b[0m\u001b[0m\n",
      "\u001b[0;32m~/.pyenv/versions/3.6.0/envs/govuk-network/lib/python3.6/site-packages/pandas/core/computation/expr.py\u001b[0m in \u001b[0;36mvisit\u001b[0;34m(self, node, **kwargs)\u001b[0m\n\u001b[1;32m    319\u001b[0m         \u001b[0mmethod\u001b[0m \u001b[0;34m=\u001b[0m \u001b[0;34m'visit_'\u001b[0m \u001b[0;34m+\u001b[0m \u001b[0mnode\u001b[0m\u001b[0;34m.\u001b[0m\u001b[0m__class__\u001b[0m\u001b[0;34m.\u001b[0m\u001b[0m__name__\u001b[0m\u001b[0;34m\u001b[0m\u001b[0m\n\u001b[1;32m    320\u001b[0m         \u001b[0mvisitor\u001b[0m \u001b[0;34m=\u001b[0m \u001b[0mgetattr\u001b[0m\u001b[0;34m(\u001b[0m\u001b[0mself\u001b[0m\u001b[0;34m,\u001b[0m \u001b[0mmethod\u001b[0m\u001b[0;34m)\u001b[0m\u001b[0;34m\u001b[0m\u001b[0m\n\u001b[0;32m--> 321\u001b[0;31m         \u001b[0;32mreturn\u001b[0m \u001b[0mvisitor\u001b[0m\u001b[0;34m(\u001b[0m\u001b[0mnode\u001b[0m\u001b[0;34m,\u001b[0m \u001b[0;34m**\u001b[0m\u001b[0mkwargs\u001b[0m\u001b[0;34m)\u001b[0m\u001b[0;34m\u001b[0m\u001b[0m\n\u001b[0m\u001b[1;32m    322\u001b[0m \u001b[0;34m\u001b[0m\u001b[0m\n\u001b[1;32m    323\u001b[0m     \u001b[0;32mdef\u001b[0m \u001b[0mvisit_Module\u001b[0m\u001b[0;34m(\u001b[0m\u001b[0mself\u001b[0m\u001b[0;34m,\u001b[0m \u001b[0mnode\u001b[0m\u001b[0;34m,\u001b[0m \u001b[0;34m**\u001b[0m\u001b[0mkwargs\u001b[0m\u001b[0;34m)\u001b[0m\u001b[0;34m:\u001b[0m\u001b[0;34m\u001b[0m\u001b[0m\n",
      "\u001b[0;32m~/.pyenv/versions/3.6.0/envs/govuk-network/lib/python3.6/site-packages/pandas/core/computation/expr.py\u001b[0m in \u001b[0;36mvisit_BinOp\u001b[0;34m(self, node, **kwargs)\u001b[0m\n\u001b[1;32m    423\u001b[0m \u001b[0;34m\u001b[0m\u001b[0m\n\u001b[1;32m    424\u001b[0m     \u001b[0;32mdef\u001b[0m \u001b[0mvisit_BinOp\u001b[0m\u001b[0;34m(\u001b[0m\u001b[0mself\u001b[0m\u001b[0;34m,\u001b[0m \u001b[0mnode\u001b[0m\u001b[0;34m,\u001b[0m \u001b[0;34m**\u001b[0m\u001b[0mkwargs\u001b[0m\u001b[0;34m)\u001b[0m\u001b[0;34m:\u001b[0m\u001b[0;34m\u001b[0m\u001b[0m\n\u001b[0;32m--> 425\u001b[0;31m         \u001b[0mop\u001b[0m\u001b[0;34m,\u001b[0m \u001b[0mop_class\u001b[0m\u001b[0;34m,\u001b[0m \u001b[0mleft\u001b[0m\u001b[0;34m,\u001b[0m \u001b[0mright\u001b[0m \u001b[0;34m=\u001b[0m \u001b[0mself\u001b[0m\u001b[0;34m.\u001b[0m\u001b[0m_maybe_transform_eq_ne\u001b[0m\u001b[0;34m(\u001b[0m\u001b[0mnode\u001b[0m\u001b[0;34m)\u001b[0m\u001b[0;34m\u001b[0m\u001b[0m\n\u001b[0m\u001b[1;32m    426\u001b[0m         \u001b[0mleft\u001b[0m\u001b[0;34m,\u001b[0m \u001b[0mright\u001b[0m \u001b[0;34m=\u001b[0m \u001b[0mself\u001b[0m\u001b[0;34m.\u001b[0m\u001b[0m_maybe_downcast_constants\u001b[0m\u001b[0;34m(\u001b[0m\u001b[0mleft\u001b[0m\u001b[0;34m,\u001b[0m \u001b[0mright\u001b[0m\u001b[0;34m)\u001b[0m\u001b[0;34m\u001b[0m\u001b[0m\n\u001b[1;32m    427\u001b[0m         \u001b[0;32mreturn\u001b[0m \u001b[0mself\u001b[0m\u001b[0;34m.\u001b[0m\u001b[0m_maybe_evaluate_binop\u001b[0m\u001b[0;34m(\u001b[0m\u001b[0mop\u001b[0m\u001b[0;34m,\u001b[0m \u001b[0mop_class\u001b[0m\u001b[0;34m,\u001b[0m \u001b[0mleft\u001b[0m\u001b[0;34m,\u001b[0m \u001b[0mright\u001b[0m\u001b[0;34m)\u001b[0m\u001b[0;34m\u001b[0m\u001b[0m\n",
      "\u001b[0;32m~/.pyenv/versions/3.6.0/envs/govuk-network/lib/python3.6/site-packages/pandas/core/computation/expr.py\u001b[0m in \u001b[0;36m_maybe_transform_eq_ne\u001b[0;34m(self, node, left, right)\u001b[0m\n\u001b[1;32m    360\u001b[0m     \u001b[0;32mdef\u001b[0m \u001b[0m_maybe_transform_eq_ne\u001b[0m\u001b[0;34m(\u001b[0m\u001b[0mself\u001b[0m\u001b[0;34m,\u001b[0m \u001b[0mnode\u001b[0m\u001b[0;34m,\u001b[0m \u001b[0mleft\u001b[0m\u001b[0;34m=\u001b[0m\u001b[0;32mNone\u001b[0m\u001b[0;34m,\u001b[0m \u001b[0mright\u001b[0m\u001b[0;34m=\u001b[0m\u001b[0;32mNone\u001b[0m\u001b[0;34m)\u001b[0m\u001b[0;34m:\u001b[0m\u001b[0;34m\u001b[0m\u001b[0m\n\u001b[1;32m    361\u001b[0m         \u001b[0;32mif\u001b[0m \u001b[0mleft\u001b[0m \u001b[0;32mis\u001b[0m \u001b[0;32mNone\u001b[0m\u001b[0;34m:\u001b[0m\u001b[0;34m\u001b[0m\u001b[0m\n\u001b[0;32m--> 362\u001b[0;31m             \u001b[0mleft\u001b[0m \u001b[0;34m=\u001b[0m \u001b[0mself\u001b[0m\u001b[0;34m.\u001b[0m\u001b[0mvisit\u001b[0m\u001b[0;34m(\u001b[0m\u001b[0mnode\u001b[0m\u001b[0;34m.\u001b[0m\u001b[0mleft\u001b[0m\u001b[0;34m,\u001b[0m \u001b[0mside\u001b[0m\u001b[0;34m=\u001b[0m\u001b[0;34m'left'\u001b[0m\u001b[0;34m)\u001b[0m\u001b[0;34m\u001b[0m\u001b[0m\n\u001b[0m\u001b[1;32m    363\u001b[0m         \u001b[0;32mif\u001b[0m \u001b[0mright\u001b[0m \u001b[0;32mis\u001b[0m \u001b[0;32mNone\u001b[0m\u001b[0;34m:\u001b[0m\u001b[0;34m\u001b[0m\u001b[0m\n\u001b[1;32m    364\u001b[0m             \u001b[0mright\u001b[0m \u001b[0;34m=\u001b[0m \u001b[0mself\u001b[0m\u001b[0;34m.\u001b[0m\u001b[0mvisit\u001b[0m\u001b[0;34m(\u001b[0m\u001b[0mnode\u001b[0m\u001b[0;34m.\u001b[0m\u001b[0mright\u001b[0m\u001b[0;34m,\u001b[0m \u001b[0mside\u001b[0m\u001b[0;34m=\u001b[0m\u001b[0;34m'right'\u001b[0m\u001b[0;34m)\u001b[0m\u001b[0;34m\u001b[0m\u001b[0m\n",
      "\u001b[0;32m~/.pyenv/versions/3.6.0/envs/govuk-network/lib/python3.6/site-packages/pandas/core/computation/expr.py\u001b[0m in \u001b[0;36mvisit\u001b[0;34m(self, node, **kwargs)\u001b[0m\n\u001b[1;32m    319\u001b[0m         \u001b[0mmethod\u001b[0m \u001b[0;34m=\u001b[0m \u001b[0;34m'visit_'\u001b[0m \u001b[0;34m+\u001b[0m \u001b[0mnode\u001b[0m\u001b[0;34m.\u001b[0m\u001b[0m__class__\u001b[0m\u001b[0;34m.\u001b[0m\u001b[0m__name__\u001b[0m\u001b[0;34m\u001b[0m\u001b[0m\n\u001b[1;32m    320\u001b[0m         \u001b[0mvisitor\u001b[0m \u001b[0;34m=\u001b[0m \u001b[0mgetattr\u001b[0m\u001b[0;34m(\u001b[0m\u001b[0mself\u001b[0m\u001b[0;34m,\u001b[0m \u001b[0mmethod\u001b[0m\u001b[0;34m)\u001b[0m\u001b[0;34m\u001b[0m\u001b[0m\n\u001b[0;32m--> 321\u001b[0;31m         \u001b[0;32mreturn\u001b[0m \u001b[0mvisitor\u001b[0m\u001b[0;34m(\u001b[0m\u001b[0mnode\u001b[0m\u001b[0;34m,\u001b[0m \u001b[0;34m**\u001b[0m\u001b[0mkwargs\u001b[0m\u001b[0;34m)\u001b[0m\u001b[0;34m\u001b[0m\u001b[0m\n\u001b[0m\u001b[1;32m    322\u001b[0m \u001b[0;34m\u001b[0m\u001b[0m\n\u001b[1;32m    323\u001b[0m     \u001b[0;32mdef\u001b[0m \u001b[0mvisit_Module\u001b[0m\u001b[0;34m(\u001b[0m\u001b[0mself\u001b[0m\u001b[0;34m,\u001b[0m \u001b[0mnode\u001b[0m\u001b[0;34m,\u001b[0m \u001b[0;34m**\u001b[0m\u001b[0mkwargs\u001b[0m\u001b[0;34m)\u001b[0m\u001b[0;34m:\u001b[0m\u001b[0;34m\u001b[0m\u001b[0m\n",
      "\u001b[0;32m~/.pyenv/versions/3.6.0/envs/govuk-network/lib/python3.6/site-packages/pandas/core/computation/expr.py\u001b[0m in \u001b[0;36mvisit_Name\u001b[0;34m(self, node, **kwargs)\u001b[0m\n\u001b[1;32m    437\u001b[0m \u001b[0;34m\u001b[0m\u001b[0m\n\u001b[1;32m    438\u001b[0m     \u001b[0;32mdef\u001b[0m \u001b[0mvisit_Name\u001b[0m\u001b[0;34m(\u001b[0m\u001b[0mself\u001b[0m\u001b[0;34m,\u001b[0m \u001b[0mnode\u001b[0m\u001b[0;34m,\u001b[0m \u001b[0;34m**\u001b[0m\u001b[0mkwargs\u001b[0m\u001b[0;34m)\u001b[0m\u001b[0;34m:\u001b[0m\u001b[0;34m\u001b[0m\u001b[0m\n\u001b[0;32m--> 439\u001b[0;31m         \u001b[0;32mreturn\u001b[0m \u001b[0mself\u001b[0m\u001b[0;34m.\u001b[0m\u001b[0mterm_type\u001b[0m\u001b[0;34m(\u001b[0m\u001b[0mnode\u001b[0m\u001b[0;34m.\u001b[0m\u001b[0mid\u001b[0m\u001b[0;34m,\u001b[0m \u001b[0mself\u001b[0m\u001b[0;34m.\u001b[0m\u001b[0menv\u001b[0m\u001b[0;34m,\u001b[0m \u001b[0;34m**\u001b[0m\u001b[0mkwargs\u001b[0m\u001b[0;34m)\u001b[0m\u001b[0;34m\u001b[0m\u001b[0m\n\u001b[0m\u001b[1;32m    440\u001b[0m \u001b[0;34m\u001b[0m\u001b[0m\n\u001b[1;32m    441\u001b[0m     \u001b[0;32mdef\u001b[0m \u001b[0mvisit_NameConstant\u001b[0m\u001b[0;34m(\u001b[0m\u001b[0mself\u001b[0m\u001b[0;34m,\u001b[0m \u001b[0mnode\u001b[0m\u001b[0;34m,\u001b[0m \u001b[0;34m**\u001b[0m\u001b[0mkwargs\u001b[0m\u001b[0;34m)\u001b[0m\u001b[0;34m:\u001b[0m\u001b[0;34m\u001b[0m\u001b[0m\n",
      "\u001b[0;32m~/.pyenv/versions/3.6.0/envs/govuk-network/lib/python3.6/site-packages/pandas/core/computation/ops.py\u001b[0m in \u001b[0;36m__init__\u001b[0;34m(self, name, env, side, encoding)\u001b[0m\n\u001b[1;32m     56\u001b[0m         self.is_local = (tname.startswith(_LOCAL_TAG) or\n\u001b[1;32m     57\u001b[0m                          tname in _DEFAULT_GLOBALS)\n\u001b[0;32m---> 58\u001b[0;31m         \u001b[0mself\u001b[0m\u001b[0;34m.\u001b[0m\u001b[0m_value\u001b[0m \u001b[0;34m=\u001b[0m \u001b[0mself\u001b[0m\u001b[0;34m.\u001b[0m\u001b[0m_resolve_name\u001b[0m\u001b[0;34m(\u001b[0m\u001b[0;34m)\u001b[0m\u001b[0;34m\u001b[0m\u001b[0m\n\u001b[0m\u001b[1;32m     59\u001b[0m         \u001b[0mself\u001b[0m\u001b[0;34m.\u001b[0m\u001b[0mencoding\u001b[0m \u001b[0;34m=\u001b[0m \u001b[0mencoding\u001b[0m\u001b[0;34m\u001b[0m\u001b[0m\n\u001b[1;32m     60\u001b[0m \u001b[0;34m\u001b[0m\u001b[0m\n",
      "\u001b[0;32m~/.pyenv/versions/3.6.0/envs/govuk-network/lib/python3.6/site-packages/pandas/core/computation/ops.py\u001b[0m in \u001b[0;36m_resolve_name\u001b[0;34m(self)\u001b[0m\n\u001b[1;32m     73\u001b[0m \u001b[0;34m\u001b[0m\u001b[0m\n\u001b[1;32m     74\u001b[0m     \u001b[0;32mdef\u001b[0m \u001b[0m_resolve_name\u001b[0m\u001b[0;34m(\u001b[0m\u001b[0mself\u001b[0m\u001b[0;34m)\u001b[0m\u001b[0;34m:\u001b[0m\u001b[0;34m\u001b[0m\u001b[0m\n\u001b[0;32m---> 75\u001b[0;31m         \u001b[0mres\u001b[0m \u001b[0;34m=\u001b[0m \u001b[0mself\u001b[0m\u001b[0;34m.\u001b[0m\u001b[0menv\u001b[0m\u001b[0;34m.\u001b[0m\u001b[0mresolve\u001b[0m\u001b[0;34m(\u001b[0m\u001b[0mself\u001b[0m\u001b[0;34m.\u001b[0m\u001b[0mlocal_name\u001b[0m\u001b[0;34m,\u001b[0m \u001b[0mis_local\u001b[0m\u001b[0;34m=\u001b[0m\u001b[0mself\u001b[0m\u001b[0;34m.\u001b[0m\u001b[0mis_local\u001b[0m\u001b[0;34m)\u001b[0m\u001b[0;34m\u001b[0m\u001b[0m\n\u001b[0m\u001b[1;32m     76\u001b[0m         \u001b[0mself\u001b[0m\u001b[0;34m.\u001b[0m\u001b[0mupdate\u001b[0m\u001b[0;34m(\u001b[0m\u001b[0mres\u001b[0m\u001b[0;34m)\u001b[0m\u001b[0;34m\u001b[0m\u001b[0m\n\u001b[1;32m     77\u001b[0m \u001b[0;34m\u001b[0m\u001b[0m\n",
      "\u001b[0;32m~/.pyenv/versions/3.6.0/envs/govuk-network/lib/python3.6/site-packages/pandas/core/computation/scope.py\u001b[0m in \u001b[0;36mresolve\u001b[0;34m(self, key, is_local)\u001b[0m\n\u001b[1;32m    192\u001b[0m                 \u001b[0;32mreturn\u001b[0m \u001b[0mself\u001b[0m\u001b[0;34m.\u001b[0m\u001b[0mtemps\u001b[0m\u001b[0;34m[\u001b[0m\u001b[0mkey\u001b[0m\u001b[0;34m]\u001b[0m\u001b[0;34m\u001b[0m\u001b[0m\n\u001b[1;32m    193\u001b[0m             \u001b[0;32mexcept\u001b[0m \u001b[0mKeyError\u001b[0m\u001b[0;34m:\u001b[0m\u001b[0;34m\u001b[0m\u001b[0m\n\u001b[0;32m--> 194\u001b[0;31m                 \u001b[0;32mraise\u001b[0m \u001b[0mcompu\u001b[0m\u001b[0;34m.\u001b[0m\u001b[0mops\u001b[0m\u001b[0;34m.\u001b[0m\u001b[0mUndefinedVariableError\u001b[0m\u001b[0;34m(\u001b[0m\u001b[0mkey\u001b[0m\u001b[0;34m,\u001b[0m \u001b[0mis_local\u001b[0m\u001b[0;34m)\u001b[0m\u001b[0;34m\u001b[0m\u001b[0m\n\u001b[0m\u001b[1;32m    195\u001b[0m \u001b[0;34m\u001b[0m\u001b[0m\n\u001b[1;32m    196\u001b[0m     \u001b[0;32mdef\u001b[0m \u001b[0mswapkey\u001b[0m\u001b[0;34m(\u001b[0m\u001b[0mself\u001b[0m\u001b[0;34m,\u001b[0m \u001b[0mold_key\u001b[0m\u001b[0;34m,\u001b[0m \u001b[0mnew_key\u001b[0m\u001b[0;34m,\u001b[0m \u001b[0mnew_value\u001b[0m\u001b[0;34m=\u001b[0m\u001b[0;32mNone\u001b[0m\u001b[0;34m)\u001b[0m\u001b[0;34m:\u001b[0m\u001b[0;34m\u001b[0m\u001b[0m\n",
      "\u001b[0;31mUndefinedVariableError\u001b[0m: name 'contact' is not defined"
     ]
    }
   ],
   "source": [
    "journeys['final_interaction'] = journeys['Page_Event_List'].map(get_end_page_event)"
   ]
  },
  {
   "cell_type": "code",
   "execution_count": null,
   "metadata": {},
   "outputs": [],
   "source": [
    "pd.set_option('display.max_colwidth', -1)\n",
    "journeys[journeys.final_interaction.str.contains('start')]"
   ]
  },
  {
   "cell_type": "code",
   "execution_count": null,
   "metadata": {},
   "outputs": [],
   "source": [
    "journeys['final_interaction_type'] = journeys.final_interaction.str.extract(r'<:<(.*)<:<', expand=False)"
   ]
  },
  {
   "cell_type": "code",
   "execution_count": null,
   "metadata": {},
   "outputs": [],
   "source": [
    "journeys['final_external_link'] = journeys.final_interaction.str.extract(r'EVENT<:<External Link Clicked<:(.*)', expand=False)"
   ]
  },
  {
   "cell_type": "code",
   "execution_count": null,
   "metadata": {},
   "outputs": [],
   "source": [
    "journeys['exit_to_assessed_service'] = np.where(journeys['final_external_link'].str.contains(r'.*service.gov.uk.*', na=False), 1, 0)"
   ]
  },
  {
   "cell_type": "code",
   "execution_count": null,
   "metadata": {},
   "outputs": [],
   "source": [
    "journeys['exit_to_assessed_service'].value_counts(normalize=True)"
   ]
  },
  {
   "cell_type": "code",
   "execution_count": null,
   "metadata": {},
   "outputs": [],
   "source": [
    "#make a smaller copy of data with only 2 cols ready to make it really looooong\n",
    "slim = journeys[['Occurrences','exit_to_assessed_service']].copy()\n",
    "#repeat rows for each occurrence\n",
    "journey_expanded2 =  slim.loc[slim.index.repeat(slim['Occurrences'])]"
   ]
  },
  {
   "cell_type": "code",
   "execution_count": null,
   "metadata": {},
   "outputs": [],
   "source": [
    "journey_expanded2['exit_to_assessed_service'].value_counts(normalize=True)"
   ]
  },
  {
   "cell_type": "code",
   "execution_count": null,
   "metadata": {},
   "outputs": [],
   "source": [
    "plt.pie(journey_expanded2['exit_to_assessed_service'].value_counts(), labels=['did not exit to an assessed service', 'exited to an assessed service'], autopct='%1.1f%%')"
   ]
  },
  {
   "cell_type": "code",
   "execution_count": null,
   "metadata": {},
   "outputs": [],
   "source": [
    "journeys['final_external_link_service'] = np.where(journeys.final_interaction.str.contains(r'<External Link Clicked<:(.*)', expand=False)"
   ]
  },
  {
   "cell_type": "code",
   "execution_count": null,
   "metadata": {},
   "outputs": [],
   "source": [
    "groupby_percent(journeys, 'final_interaction_type', 'PageSequence', figsize=(5, 10))"
   ]
  },
  {
   "cell_type": "code",
   "execution_count": null,
   "metadata": {},
   "outputs": [],
   "source": [
    "journeys.groupby('final_interaction_type').size().sort_values(ascending=False)"
   ]
  },
  {
   "cell_type": "code",
   "execution_count": null,
   "metadata": {},
   "outputs": [],
   "source": [
    "print(journeys[journeys['final_interaction']=='PAGE<:<NULL<:<NULL'].shape)\n",
    "\n",
    "print(\"{} out of {} ({}%) journeys ended in a page hit\".format(journeys[journeys['final_interaction']=='PAGE<:<NULL<:<NULL'].shape[0], \n",
    "                                                        journeys.shape[0],\n",
    "                                                        journeys[journeys['final_interaction']=='PAGE<:<NULL<:<NULL'].shape[0]/journeys.shape[0]*100))"
   ]
  },
  {
   "cell_type": "code",
   "execution_count": null,
   "metadata": {},
   "outputs": [],
   "source": [
    "print(journeys[journeys['final_interaction'].str.startswith('EVENT<:<External Link Clicked')].shape)\n",
    "\n",
    "print(\"{} out of {} ({}%) journeys ended in an external link clicked\".format(journeys[journeys['final_interaction'].str.startswith('EVENT<:<External Link Clicked')].shape[0], \n",
    "                                                        journeys.shape[0],\n",
    "                                                        journeys[journeys['final_interaction'].str.startswith('EVENT<:<External Link Clicked')].shape[0]/journeys.shape[0]*100))"
   ]
  },
  {
   "cell_type": "code",
   "execution_count": null,
   "metadata": {},
   "outputs": [],
   "source": [
    "print(journeys[journeys['final_interaction'].str.startswith('EVENT<:<External Link Clicked')].shape)\n",
    "\n",
    "print(\"{} out of {} ({}%) journeys ended in an specialist external link clicked\".format(journeys[journeys['final_interaction'].str.startswith('EVENT<:<Specialist-external-link')].shape[0], \n",
    "                                                        journeys.shape[0],\n",
    "                                                        journeys[journeys['final_interaction'].str.startswith('EVENT<:<Specialist-external-link')].shape[0]/journeys.shape[0]*100))"
   ]
  },
  {
   "cell_type": "code",
   "execution_count": null,
   "metadata": {},
   "outputs": [],
   "source": [
    "print(\"{} out of {} ({}%) journeys ended in aSpecialist-external-link\".format(journeys[journeys['final_interaction'].str.contains('EVENT<:<Specialist-external-link')].shape[0], \n",
    "                                                        journeys.shape[0],\n",
    "                                                        journeys[journeys['final_interaction'].str.contains('EVENT<:<Specialist-external-link')].shape[0]/journeys.shape[0]*100))"
   ]
  },
  {
   "cell_type": "code",
   "execution_count": null,
   "metadata": {},
   "outputs": [],
   "source": [
    "print(\"{} out of {} ({}%) journeys ended in an download link clicked\".format(journeys[journeys['final_interaction'].str.contains('EVENT<:<Download Link Clicked')].shape[0], \n",
    "                                                        journeys.shape[0],\n",
    "                                                        journeys[journeys['final_interaction'].str.contains('EVENT<:<Download Link Clicked')].shape[0]/journeys.shape[0]*100))"
   ]
  },
  {
   "cell_type": "code",
   "execution_count": null,
   "metadata": {},
   "outputs": [],
   "source": [
    "print(\"{} out of {} ({}%) journeys ended in a  contents clicked\".format(journeys[journeys['final_interaction'].str.contains('EVENT<:<contentsClicked<')].shape[0], \n",
    "                                                        journeys.shape[0],\n",
    "                                                        journeys[journeys['final_interaction'].str.contains('EVENT<:<contentsClicked<')].shape[0]/journeys.shape[0]*100))"
   ]
  },
  {
   "cell_type": "code",
   "execution_count": null,
   "metadata": {},
   "outputs": [],
   "source": [
    "print(\"{} out of {} ({}%) journeys ended in a breadcrumbClicked\".format(journeys[journeys['final_interaction'].str.contains('EVENT<:<breadcrumbClicked<')].shape[0], \n",
    "                                                        journeys.shape[0],\n",
    "                                                        journeys[journeys['final_interaction'].str.contains('EVENT<:<breadcrumbClicked<')].shape[0]/journeys.shape[0]*100))"
   ]
  },
  {
   "cell_type": "code",
   "execution_count": null,
   "metadata": {},
   "outputs": [],
   "source": [
    "print(\"{} out of {} ({}%) journeys ended in a JavaScript Error\".format(journeys[journeys['final_interaction'].str.contains('EVENT<:<JavaScript Error<')].shape[0], \n",
    "                                                        journeys.shape[0],\n",
    "                                                        journeys[journeys['final_interaction'].str.contains('EVENT<:<JavaScript Error<')].shape[0]/journeys.shape[0]*100))"
   ]
  },
  {
   "cell_type": "code",
   "execution_count": null,
   "metadata": {},
   "outputs": [],
   "source": [
    "print(\"{} out of {} ({}%) journeys ended in a Simple Smart Answer\".format(journeys[journeys['final_interaction'].str.contains('EVENT<:<Simple Smart Answer<')].shape[0], \n",
    "                                                        journeys.shape[0],\n",
    "                                                        journeys[journeys['final_interaction'].str.contains('EVENT<:<Simple Smart Answer<')].shape[0]/journeys.shape[0]*100))"
   ]
  },
  {
   "cell_type": "code",
   "execution_count": null,
   "metadata": {},
   "outputs": [],
   "source": [
    "print(\"{} out of {} ({}%) journeys ended in a Smart Answer\".format(journeys[journeys['final_interaction'].str.contains('EVENT<:<Smart Answer<')].shape[0], \n",
    "                                                        journeys.shape[0],\n",
    "                                                        journeys[journeys['final_interaction'].str.contains('EVENT<:<Smart Answer<')].shape[0]/journeys.shape[0]*100))"
   ]
  },
  {
   "cell_type": "code",
   "execution_count": null,
   "metadata": {},
   "outputs": [],
   "source": [
    "print(\"{} out of {} ({}%) journeys ended in a social media\".format(journeys[journeys['final_interaction'].str.contains('EVENT<:<social media<')].shape[0], \n",
    "                                                        journeys.shape[0],\n",
    "                                                        journeys[journeys['final_interaction'].str.contains('EVENT<:<social media<')].shape[0]/journeys.shape[0]*100))"
   ]
  },
  {
   "cell_type": "code",
   "execution_count": null,
   "metadata": {},
   "outputs": [],
   "source": [
    "print(\"{} out of {} ({}%) journeys ended in yesNoFeedbackForm\".format(journeys[journeys['final_interaction'].str.contains('EVENT<:<yesNoFeedbackForm<')].shape[0], \n",
    "                                                        journeys.shape[0],\n",
    "                                                        journeys[journeys['final_interaction'].str.contains('EVENT<:<yesNoFeedbackForm<')].shape[0]/journeys.shape[0]*100))"
   ]
  },
  {
   "cell_type": "code",
   "execution_count": null,
   "metadata": {},
   "outputs": [],
   "source": []
  }
 ],
 "metadata": {
  "kernelspec": {
   "display_name": "Python 3",
   "language": "python",
   "name": "python3"
  },
  "language_info": {
   "codemirror_mode": {
    "name": "ipython",
    "version": 3
   },
   "file_extension": ".py",
   "mimetype": "text/x-python",
   "name": "python",
   "nbconvert_exporter": "python",
   "pygments_lexer": "ipython3",
   "version": "3.6.0"
  }
 },
 "nbformat": 4,
 "nbformat_minor": 2
}
