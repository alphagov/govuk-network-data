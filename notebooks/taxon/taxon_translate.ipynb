{
 "cells": [
  {
   "cell_type": "code",
   "execution_count": 1,
   "metadata": {},
   "outputs": [],
   "source": [
    "import pandas as pd\n",
    "import os\n",
    "import numpy as np\n",
    "import json\n",
    "from ast import literal_eval"
   ]
  },
  {
   "cell_type": "code",
   "execution_count": 2,
   "metadata": {},
   "outputs": [],
   "source": [
    "DATA_DIR = os.getenv(\"DATA_DIR\")\n",
    "filename = \"preprocessed_with_dupes_31_10_taxon2.csv.gz\"\n",
    "path = os.path.join(DATA_DIR,\"output\", filename)"
   ]
  },
  {
   "cell_type": "code",
   "execution_count": 3,
   "metadata": {},
   "outputs": [],
   "source": [
    "df = pd.read_csv(path,sep=\"\\t\",compression=\"gzip\")"
   ]
  },
  {
   "cell_type": "code",
   "execution_count": null,
   "metadata": {},
   "outputs": [],
   "source": [
    "df[\"Taxon_List\"] = df[\"Taxon_List\"].map(literal_eval)"
   ]
  },
  {
   "cell_type": "code",
   "execution_count": null,
   "metadata": {},
   "outputs": [],
   "source": [
    "def taxon_split(taxon_list):\n",
    "    return [t for taxon in taxon_list for t in taxon.split(\",\")]"
   ]
  },
  {
   "cell_type": "markdown",
   "metadata": {},
   "source": [
    "#### Build list of unique taxons, excluding \"other\""
   ]
  },
  {
   "cell_type": "code",
   "execution_count": null,
   "metadata": {},
   "outputs": [],
   "source": [
    "taxon_counter = Counter()\n",
    "for tup in df.itertuples():\n",
    "    taxons = taxon_split(tup.Taxon_List)\n",
    "    for taxon in taxons:\n",
    "        taxon_counter[taxon]+=1\n",
    "len(taxon_counter)      "
   ]
  },
  {
   "cell_type": "markdown",
   "metadata": {},
   "source": [
    "#### Map taxon `content_id` to `base_path` using content tagger extract"
   ]
  },
  {
   "cell_type": "code",
   "execution_count": null,
   "metadata": {},
   "outputs": [],
   "source": [
    "taxon_path = os.path.join(os.getenv(\"DOCUMENTS\"),\"taxons.json.gz\")\n",
    "taxon_df = pd.read_json(taxon_path,compression=\"gzip\")"
   ]
  },
  {
   "cell_type": "code",
   "execution_count": null,
   "metadata": {},
   "outputs": [],
   "source": [
    "# taxon_path = os.path.join(os.path.dirname(os.getenv(\"DOCUMENTS\")), \"Downloads\", \"2018-11-19 Taxonomy.csv\")\n",
    "# taxon_df = pd.read_csv(taxon_path)"
   ]
  },
  {
   "cell_type": "code",
   "execution_count": null,
   "metadata": {},
   "outputs": [],
   "source": [
    "taxon_df"
   ]
  },
  {
   "cell_type": "code",
   "execution_count": null,
   "metadata": {},
   "outputs": [],
   "source": [
    "taxon_df.shape"
   ]
  },
  {
   "cell_type": "code",
   "execution_count": null,
   "metadata": {},
   "outputs": [],
   "source": [
    "taxon_df.columns"
   ]
  },
  {
   "cell_type": "markdown",
   "metadata": {},
   "source": [
    "## Count taxons present in both journeys and taxon export and write to file"
   ]
  },
  {
   "cell_type": "code",
   "execution_count": null,
   "metadata": {},
   "outputs": [],
   "source": [
    "found = 0\n",
    "with open(\"taxon_id_title_311018.tsv\",\"w\") as writer:\n",
    "    writer.write(\"content_id\\ttitle\\tbase_path\\tparent_content_id\\n\")\n",
    "    for taxon,value in taxon_counter.items():\n",
    "        temp = taxon_df[taxon_df.content_id==taxon]\n",
    "        if temp.shape[0]>0:\n",
    "            found +=1\n",
    "#             print(taxon,\",\",temp.iloc[0].title)\n",
    "            writer.write(\"{}\\t{}\\t{}\\t{}\\n\".format(taxon,\n",
    "                                               temp.iloc[0].title,\n",
    "                                               temp.iloc[0].base_path,\n",
    "                                               temp.iloc[0].parent_content_id))\n",
    "found"
   ]
  },
  {
   "cell_type": "code",
   "execution_count": null,
   "metadata": {},
   "outputs": [],
   "source": [
    "(found*100)/taxon_df.shape[0]\n",
    "\n",
    "## Translate content_id to level + parents\n",
    "\n",
    "def recursive_parenting(df,content_id,parent_content_id,parent_list):\n",
    "    if isinstance(parent_content_id,float) and len(parent_list)==0:\n",
    "        return []\n",
    "    elif isinstance(parent_content_id,float):\n",
    "        return [[thing,i+1]for i,thing in enumerate(reversed(parent_list))]\n",
    "    else:\n",
    "        content_id = parent_content_id\n",
    "        parent_content_id = df[df.content_id==parent_content_id].iloc[0].parent_content_id\n",
    "        title = df[df.content_id==content_id].iloc[0].title\n",
    "        parent_list.append([content_id,parent_content_id,title])\n",
    "        return recursive_parenting(df,content_id,parent_content_id,parent_list)"
   ]
  },
  {
   "cell_type": "code",
   "execution_count": null,
   "metadata": {},
   "outputs": [],
   "source": [
    "column_list = ['content_id','title','level','parents','level1_parent']\n",
    "taxon_level_df = pd.DataFrame(columns=column_list)\n",
    "missed=0\n",
    "for content_id,value in taxon_counter.items():\n",
    "    if taxon_df[taxon_df.content_id==content_id].shape[0] > 0:\n",
    "        title = taxon_df[taxon_df.content_id==content_id].iloc[0].title\n",
    "        parent_list = pd.Series(recursive_parenting(taxon_df,content_id,\n",
    "                        taxon_df[taxon_df.content_id==content_id].parent_content_id.values[0],[]))\n",
    "        current_level = len(parent_list)+1\n",
    "        level1_par = title\n",
    "        if len(parent_list.values) > 0:\n",
    "            level1_par = parent_list.values[0][0][2]\n",
    "        taxon_level_df = pd.concat([taxon_level_df,pd.DataFrame([[content_id,\n",
    "                                                                  title,\n",
    "                                                                  current_level,\n",
    "                                                                  parent_list.values,\n",
    "                                                                  level1_par]],columns=column_list)])"
   ]
  },
  {
   "cell_type": "code",
   "execution_count": null,
   "metadata": {},
   "outputs": [],
   "source": [
    "taxon_level_df"
   ]
  },
  {
   "cell_type": "code",
   "execution_count": null,
   "metadata": {},
   "outputs": [],
   "source": [
    "taxon_level_df.to_csv(\"taxon_level_df.tsv\",sep='\\t',index=False)"
   ]
  },
  {
   "cell_type": "markdown",
   "metadata": {},
   "source": [
    "## Count parent taxons, self-parenting if nan"
   ]
  },
  {
   "cell_type": "code",
   "execution_count": null,
   "metadata": {},
   "outputs": [],
   "source": [
    "counter =0\n",
    "parent_taxons = Counter()\n",
    "for taxon,value in taxon_counter.items():\n",
    "    temp = taxon_df[taxon_df.content_id==taxon]\n",
    "    if temp.shape[0]>0:\n",
    "        taxon_base_path = temp.iloc[0].base_path\n",
    "        parent = None\n",
    "        if isinstance(temp.iloc[0].parent_content_id,str):\n",
    "            parent = taxon_df[taxon_df.content_id == temp.iloc[0].parent_content_id].iloc[0].title\n",
    "        else:\n",
    "            parent = temp.iloc[0].title\n",
    "        parent_taxons[parent]+=value"
   ]
  },
  {
   "cell_type": "code",
   "execution_count": null,
   "metadata": {},
   "outputs": [],
   "source": [
    "list(parent_taxons.most_common(30))"
   ]
  },
  {
   "cell_type": "code",
   "execution_count": null,
   "metadata": {},
   "outputs": [],
   "source": [
    "len(parent_taxons)"
   ]
  },
  {
   "cell_type": "code",
   "execution_count": null,
   "metadata": {},
   "outputs": [],
   "source": []
  },
  {
   "cell_type": "code",
   "execution_count": null,
   "metadata": {},
   "outputs": [],
   "source": []
  }
 ],
 "metadata": {
  "kernelspec": {
   "display_name": "Python 3",
   "language": "python",
   "name": "python3"
  },
  "language_info": {
   "codemirror_mode": {
    "name": "ipython",
    "version": 3
   },
   "file_extension": ".py",
   "mimetype": "text/x-python",
   "name": "python",
   "nbconvert_exporter": "python",
   "pygments_lexer": "ipython3",
   "version": "3.6.0"
  }
 },
 "nbformat": 4,
 "nbformat_minor": 2
}
