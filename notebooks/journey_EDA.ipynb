{
 "cells": [
  {
   "cell_type": "code",
   "execution_count": 1,
   "metadata": {},
   "outputs": [],
   "source": [
    "import os\n",
    "import pandas as pd\n",
    "import numpy as np\n",
    "import matplotlib.pyplot as plt\n",
    "import seaborn as sns\n",
    "from beakerx import *"
   ]
  },
  {
   "cell_type": "markdown",
   "metadata": {},
   "source": [
    "### Import data"
   ]
  },
  {
   "cell_type": "code",
   "execution_count": 2,
   "metadata": {},
   "outputs": [
    {
     "data": {
      "text/plain": [
       "'/Volumes/GoogleDrive/Team Drives/GOV.UK teams/2018-2019/Q3/Knowledge up Q3/Data science/data/processed_journey'"
      ]
     },
     "execution_count": 2,
     "metadata": {},
     "output_type": "execute_result"
    }
   ],
   "source": [
    "DATADIR = os.path.join(os.getenv(\"DATA_DIR\"), 'processed_journey')\n",
    "DATADIR"
   ]
  },
  {
   "cell_type": "code",
   "execution_count": 3,
   "metadata": {},
   "outputs": [],
   "source": [
    "journeys = pd.read_csv(os.path.join(DATADIR, \"doo_prelim_meta_standard_with_pageseq_from_29-10_to_03-11-2018.csv.gz\"), compression='gzip')"
   ]
  },
  {
   "cell_type": "code",
   "execution_count": 4,
   "metadata": {},
   "outputs": [
    {
     "data": {
      "text/plain": [
       "(1722287, 16)"
      ]
     },
     "execution_count": 4,
     "metadata": {},
     "output_type": "execute_result"
    }
   ],
   "source": [
    "journeys.shape"
   ]
  },
  {
   "cell_type": "code",
   "execution_count": 5,
   "metadata": {},
   "outputs": [
    {
     "data": {
      "text/html": [
       "<div>\n",
       "<style scoped>\n",
       "    .dataframe tbody tr th:only-of-type {\n",
       "        vertical-align: middle;\n",
       "    }\n",
       "\n",
       "    .dataframe tbody tr th {\n",
       "        vertical-align: top;\n",
       "    }\n",
       "\n",
       "    .dataframe thead th {\n",
       "        text-align: right;\n",
       "    }\n",
       "</style>\n",
       "<table border=\"1\" class=\"dataframe\">\n",
       "  <thead>\n",
       "    <tr style=\"text-align: right;\">\n",
       "      <th></th>\n",
       "      <th>Sequence</th>\n",
       "      <th>PageSequence</th>\n",
       "      <th>Occurrences</th>\n",
       "      <th>Page_Seq_Occurrences</th>\n",
       "      <th>DeviceCategories</th>\n",
       "      <th>Dates</th>\n",
       "      <th>Page_Event_List</th>\n",
       "      <th>Page_List</th>\n",
       "      <th>PageSequence_internal</th>\n",
       "      <th>Event_List</th>\n",
       "      <th>num_event_cats</th>\n",
       "      <th>Event_cats_agg</th>\n",
       "      <th>Event_cat_act_agg</th>\n",
       "      <th>Page_List_NL</th>\n",
       "      <th>Page_Seq_NL</th>\n",
       "      <th>Occurrences_NL</th>\n",
       "    </tr>\n",
       "  </thead>\n",
       "  <tbody>\n",
       "    <tr>\n",
       "      <th>0</th>\n",
       "      <td>/guidance/rates-and-thresholds-for-employers-2...</td>\n",
       "      <td>/guidance/rates-and-thresholds-for-employers-2...</td>\n",
       "      <td>77</td>\n",
       "      <td>284.0</td>\n",
       "      <td>[('desktop', 59), ('mobile', 9), ('tablet', 9)]</td>\n",
       "      <td>[('20181031', 33), ('20181029', 27), ('2018110...</td>\n",
       "      <td>[('/guidance/rates-and-thresholds-for-employer...</td>\n",
       "      <td>['/guidance/rates-and-thresholds-for-employers...</td>\n",
       "      <td>/guidance/rates-and-thresholds-for-employers-2...</td>\n",
       "      <td>[('PAGE_NULL', 'PAGE_NULL')]</td>\n",
       "      <td>1</td>\n",
       "      <td>[('PAGE_NULL', 1)]</td>\n",
       "      <td>[(('PAGE_NULL', 'PAGE_NULL'), 1)]</td>\n",
       "      <td>['/guidance/rates-and-thresholds-for-employers...</td>\n",
       "      <td>/guidance/rates-and-thresholds-for-employers-2...</td>\n",
       "      <td>4930.0</td>\n",
       "    </tr>\n",
       "    <tr>\n",
       "      <th>1</th>\n",
       "      <td>/sure-start-maternity-grant/how-to-claim&lt;&lt;PAGE...</td>\n",
       "      <td>/sure-start-maternity-grant/how-to-claim&gt;&gt;/gov...</td>\n",
       "      <td>89</td>\n",
       "      <td>331.0</td>\n",
       "      <td>[('mobile', 43), ('desktop', 43), ('tablet', 3)]</td>\n",
       "      <td>[('20181031', 34), ('20181029', 31), ('2018110...</td>\n",
       "      <td>[('/sure-start-maternity-grant/how-to-claim', ...</td>\n",
       "      <td>['/sure-start-maternity-grant/how-to-claim', '...</td>\n",
       "      <td>/sure-start-maternity-grant/how-to-claim&gt;&gt;/gov...</td>\n",
       "      <td>[('PAGE_NULL', 'PAGE_NULL'), ('PAGE_NULL', 'PA...</td>\n",
       "      <td>3</td>\n",
       "      <td>[('PAGE_NULL', 2), ('External Link Clicked', 1...</td>\n",
       "      <td>[(('PAGE_NULL', 'PAGE_NULL'), 2), (('External ...</td>\n",
       "      <td>['/sure-start-maternity-grant/how-to-claim', '...</td>\n",
       "      <td>/sure-start-maternity-grant/how-to-claim&gt;&gt;/gov...</td>\n",
       "      <td>5408.0</td>\n",
       "    </tr>\n",
       "    <tr>\n",
       "      <th>2</th>\n",
       "      <td>/historic-vehicles/apply-for-vehicle-tax-exemp...</td>\n",
       "      <td>/historic-vehicles/apply-for-vehicle-tax-exemp...</td>\n",
       "      <td>96</td>\n",
       "      <td>306.0</td>\n",
       "      <td>[('mobile', 56), ('desktop', 30), ('tablet', 10)]</td>\n",
       "      <td>[('20181031', 35), ('20181029', 25), ('2018110...</td>\n",
       "      <td>[('/historic-vehicles/apply-for-vehicle-tax-ex...</td>\n",
       "      <td>['/historic-vehicles/apply-for-vehicle-tax-exe...</td>\n",
       "      <td>/historic-vehicles/apply-for-vehicle-tax-exemp...</td>\n",
       "      <td>[('PAGE_NULL', 'PAGE_NULL')]</td>\n",
       "      <td>1</td>\n",
       "      <td>[('PAGE_NULL', 1)]</td>\n",
       "      <td>[(('PAGE_NULL', 'PAGE_NULL'), 1)]</td>\n",
       "      <td>['/historic-vehicles/apply-for-vehicle-tax-exe...</td>\n",
       "      <td>/historic-vehicles/apply-for-vehicle-tax-exemp...</td>\n",
       "      <td>1536.0</td>\n",
       "    </tr>\n",
       "    <tr>\n",
       "      <th>3</th>\n",
       "      <td>/government-gateway&lt;&lt;PAGE&lt;:&lt;NULL&lt;:&lt;NULL</td>\n",
       "      <td>/government-gateway</td>\n",
       "      <td>1138</td>\n",
       "      <td>8909.0</td>\n",
       "      <td>[('mobile', 463), ('tablet', 119), ('desktop',...</td>\n",
       "      <td>[('20181031', 376), ('20181029', 413), ('20181...</td>\n",
       "      <td>[('/government-gateway', 'PAGE&lt;:&lt;NULL&lt;:&lt;NULL')]</td>\n",
       "      <td>['/government-gateway']</td>\n",
       "      <td>/government-gateway</td>\n",
       "      <td>[('PAGE_NULL', 'PAGE_NULL')]</td>\n",
       "      <td>1</td>\n",
       "      <td>[('PAGE_NULL', 1)]</td>\n",
       "      <td>[(('PAGE_NULL', 'PAGE_NULL'), 1)]</td>\n",
       "      <td>['/government-gateway']</td>\n",
       "      <td>/government-gateway</td>\n",
       "      <td>628989.0</td>\n",
       "    </tr>\n",
       "    <tr>\n",
       "      <th>4</th>\n",
       "      <td>/guidance/passport-rules-for-travel-to-europe-...</td>\n",
       "      <td>/guidance/passport-rules-for-travel-to-europe-...</td>\n",
       "      <td>57</td>\n",
       "      <td>11214.0</td>\n",
       "      <td>[('desktop', 47), ('tablet', 10)]</td>\n",
       "      <td>[('20181031', 33), ('20181029', 6), ('20181102...</td>\n",
       "      <td>[('/guidance/passport-rules-for-travel-to-euro...</td>\n",
       "      <td>['/guidance/passport-rules-for-travel-to-europ...</td>\n",
       "      <td>/guidance/passport-rules-for-travel-to-europe-...</td>\n",
       "      <td>[('user_satisfaction_survey', 'banner_shown'),...</td>\n",
       "      <td>2</td>\n",
       "      <td>[('user_satisfaction_survey', 1), ('PAGE_NULL'...</td>\n",
       "      <td>[(('user_satisfaction_survey', 'banner_shown')...</td>\n",
       "      <td>['/guidance/passport-rules-for-travel-to-europ...</td>\n",
       "      <td>/guidance/passport-rules-for-travel-to-europe-...</td>\n",
       "      <td>550475.0</td>\n",
       "    </tr>\n",
       "    <tr>\n",
       "      <th>5</th>\n",
       "      <td>/claim-national-insurance-refund&lt;&lt;PAGE&lt;:&lt;NULL&lt;...</td>\n",
       "      <td>/claim-national-insurance-refund</td>\n",
       "      <td>143</td>\n",
       "      <td>437.0</td>\n",
       "      <td>[('desktop', 50), ('mobile', 88), ('tablet', 5)]</td>\n",
       "      <td>[('20181031', 35), ('20181029', 65), ('2018110...</td>\n",
       "      <td>[('/claim-national-insurance-refund', 'PAGE&lt;:&lt;...</td>\n",
       "      <td>['/claim-national-insurance-refund']</td>\n",
       "      <td>/claim-national-insurance-refund</td>\n",
       "      <td>[('PAGE_NULL', 'PAGE_NULL')]</td>\n",
       "      <td>1</td>\n",
       "      <td>[('PAGE_NULL', 1)]</td>\n",
       "      <td>[(('PAGE_NULL', 'PAGE_NULL'), 1)]</td>\n",
       "      <td>['/claim-national-insurance-refund']</td>\n",
       "      <td>/claim-national-insurance-refund</td>\n",
       "      <td>1770.0</td>\n",
       "    </tr>\n",
       "    <tr>\n",
       "      <th>6</th>\n",
       "      <td>/government/collections/data-protection-act-20...</td>\n",
       "      <td>/government/collections/data-protection-act-20...</td>\n",
       "      <td>94</td>\n",
       "      <td>531.0</td>\n",
       "      <td>[('mobile', 12), ('desktop', 80), ('tablet', 2)]</td>\n",
       "      <td>[('20181031', 33), ('20181029', 39), ('2018110...</td>\n",
       "      <td>[('/government/collections/data-protection-act...</td>\n",
       "      <td>['/government/collections/data-protection-act-...</td>\n",
       "      <td>/government/collections/data-protection-act-20...</td>\n",
       "      <td>[('PAGE_NULL', 'PAGE_NULL'), ('navDocumentColl...</td>\n",
       "      <td>3</td>\n",
       "      <td>[('PAGE_NULL', 2), ('navDocumentCollectionLink...</td>\n",
       "      <td>[(('PAGE_NULL', 'PAGE_NULL'), 2), (('navDocume...</td>\n",
       "      <td>['/government/collections/data-protection-act-...</td>\n",
       "      <td>/government/collections/data-protection-act-20...</td>\n",
       "      <td>16774.0</td>\n",
       "    </tr>\n",
       "    <tr>\n",
       "      <th>7</th>\n",
       "      <td>/government/publications/alternative-dispute-r...</td>\n",
       "      <td>/government/publications/alternative-dispute-r...</td>\n",
       "      <td>213</td>\n",
       "      <td>747.0</td>\n",
       "      <td>[('tablet', 8), ('desktop', 149), ('mobile', 56)]</td>\n",
       "      <td>[('20181031', 66), ('20181029', 90), ('2018110...</td>\n",
       "      <td>[('/government/publications/alternative-disput...</td>\n",
       "      <td>['/government/publications/alternative-dispute...</td>\n",
       "      <td>/government/publications/alternative-dispute-r...</td>\n",
       "      <td>[('PAGE_NULL', 'PAGE_NULL')]</td>\n",
       "      <td>1</td>\n",
       "      <td>[('PAGE_NULL', 1)]</td>\n",
       "      <td>[(('PAGE_NULL', 'PAGE_NULL'), 1)]</td>\n",
       "      <td>['/government/publications/alternative-dispute...</td>\n",
       "      <td>/government/publications/alternative-dispute-r...</td>\n",
       "      <td>19300.0</td>\n",
       "    </tr>\n",
       "    <tr>\n",
       "      <th>8</th>\n",
       "      <td>/voting-in-the-uk&lt;&lt;PAGE&lt;:&lt;NULL&lt;:&lt;NULL</td>\n",
       "      <td>/voting-in-the-uk</td>\n",
       "      <td>599</td>\n",
       "      <td>1830.0</td>\n",
       "      <td>[('mobile', 230), ('desktop', 353), ('tablet',...</td>\n",
       "      <td>[('20181031', 203), ('20181029', 211), ('20181...</td>\n",
       "      <td>[('/voting-in-the-uk', 'PAGE&lt;:&lt;NULL&lt;:&lt;NULL')]</td>\n",
       "      <td>['/voting-in-the-uk']</td>\n",
       "      <td>/voting-in-the-uk</td>\n",
       "      <td>[('PAGE_NULL', 'PAGE_NULL')]</td>\n",
       "      <td>1</td>\n",
       "      <td>[('PAGE_NULL', 1)]</td>\n",
       "      <td>[(('PAGE_NULL', 'PAGE_NULL'), 1)]</td>\n",
       "      <td>['/voting-in-the-uk']</td>\n",
       "      <td>/voting-in-the-uk</td>\n",
       "      <td>11150.0</td>\n",
       "    </tr>\n",
       "    <tr>\n",
       "      <th>9</th>\n",
       "      <td>/government/organisations/hm-revenue-customs&lt;&lt;...</td>\n",
       "      <td>/government/organisations/hm-revenue-customs</td>\n",
       "      <td>697</td>\n",
       "      <td>69369.0</td>\n",
       "      <td>[('desktop', 657), ('tablet', 40)]</td>\n",
       "      <td>[('20181031', 226), ('20181029', 235), ('20181...</td>\n",
       "      <td>[('/government/organisations/hm-revenue-custom...</td>\n",
       "      <td>['/government/organisations/hm-revenue-customs']</td>\n",
       "      <td>/government/organisations/hm-revenue-customs</td>\n",
       "      <td>[('user_satisfaction_survey', 'banner_shown'),...</td>\n",
       "      <td>2</td>\n",
       "      <td>[('user_satisfaction_survey', 1), ('PAGE_NULL'...</td>\n",
       "      <td>[(('user_satisfaction_survey', 'banner_shown')...</td>\n",
       "      <td>['/government/organisations/hm-revenue-customs']</td>\n",
       "      <td>/government/organisations/hm-revenue-customs</td>\n",
       "      <td>6828299.0</td>\n",
       "    </tr>\n",
       "  </tbody>\n",
       "</table>\n",
       "</div>"
      ],
      "text/plain": [
       "                                            Sequence  \\\n",
       "0  /guidance/rates-and-thresholds-for-employers-2...   \n",
       "1  /sure-start-maternity-grant/how-to-claim<<PAGE...   \n",
       "2  /historic-vehicles/apply-for-vehicle-tax-exemp...   \n",
       "3            /government-gateway<<PAGE<:<NULL<:<NULL   \n",
       "4  /guidance/passport-rules-for-travel-to-europe-...   \n",
       "5  /claim-national-insurance-refund<<PAGE<:<NULL<...   \n",
       "6  /government/collections/data-protection-act-20...   \n",
       "7  /government/publications/alternative-dispute-r...   \n",
       "8              /voting-in-the-uk<<PAGE<:<NULL<:<NULL   \n",
       "9  /government/organisations/hm-revenue-customs<<...   \n",
       "\n",
       "                                        PageSequence  Occurrences  \\\n",
       "0  /guidance/rates-and-thresholds-for-employers-2...           77   \n",
       "1  /sure-start-maternity-grant/how-to-claim>>/gov...           89   \n",
       "2  /historic-vehicles/apply-for-vehicle-tax-exemp...           96   \n",
       "3                                /government-gateway         1138   \n",
       "4  /guidance/passport-rules-for-travel-to-europe-...           57   \n",
       "5                   /claim-national-insurance-refund          143   \n",
       "6  /government/collections/data-protection-act-20...           94   \n",
       "7  /government/publications/alternative-dispute-r...          213   \n",
       "8                                  /voting-in-the-uk          599   \n",
       "9       /government/organisations/hm-revenue-customs          697   \n",
       "\n",
       "   Page_Seq_Occurrences                                   DeviceCategories  \\\n",
       "0                 284.0    [('desktop', 59), ('mobile', 9), ('tablet', 9)]   \n",
       "1                 331.0   [('mobile', 43), ('desktop', 43), ('tablet', 3)]   \n",
       "2                 306.0  [('mobile', 56), ('desktop', 30), ('tablet', 10)]   \n",
       "3                8909.0  [('mobile', 463), ('tablet', 119), ('desktop',...   \n",
       "4               11214.0                  [('desktop', 47), ('tablet', 10)]   \n",
       "5                 437.0   [('desktop', 50), ('mobile', 88), ('tablet', 5)]   \n",
       "6                 531.0   [('mobile', 12), ('desktop', 80), ('tablet', 2)]   \n",
       "7                 747.0  [('tablet', 8), ('desktop', 149), ('mobile', 56)]   \n",
       "8                1830.0  [('mobile', 230), ('desktop', 353), ('tablet',...   \n",
       "9               69369.0                 [('desktop', 657), ('tablet', 40)]   \n",
       "\n",
       "                                               Dates  \\\n",
       "0  [('20181031', 33), ('20181029', 27), ('2018110...   \n",
       "1  [('20181031', 34), ('20181029', 31), ('2018110...   \n",
       "2  [('20181031', 35), ('20181029', 25), ('2018110...   \n",
       "3  [('20181031', 376), ('20181029', 413), ('20181...   \n",
       "4  [('20181031', 33), ('20181029', 6), ('20181102...   \n",
       "5  [('20181031', 35), ('20181029', 65), ('2018110...   \n",
       "6  [('20181031', 33), ('20181029', 39), ('2018110...   \n",
       "7  [('20181031', 66), ('20181029', 90), ('2018110...   \n",
       "8  [('20181031', 203), ('20181029', 211), ('20181...   \n",
       "9  [('20181031', 226), ('20181029', 235), ('20181...   \n",
       "\n",
       "                                     Page_Event_List  \\\n",
       "0  [('/guidance/rates-and-thresholds-for-employer...   \n",
       "1  [('/sure-start-maternity-grant/how-to-claim', ...   \n",
       "2  [('/historic-vehicles/apply-for-vehicle-tax-ex...   \n",
       "3    [('/government-gateway', 'PAGE<:<NULL<:<NULL')]   \n",
       "4  [('/guidance/passport-rules-for-travel-to-euro...   \n",
       "5  [('/claim-national-insurance-refund', 'PAGE<:<...   \n",
       "6  [('/government/collections/data-protection-act...   \n",
       "7  [('/government/publications/alternative-disput...   \n",
       "8      [('/voting-in-the-uk', 'PAGE<:<NULL<:<NULL')]   \n",
       "9  [('/government/organisations/hm-revenue-custom...   \n",
       "\n",
       "                                           Page_List  \\\n",
       "0  ['/guidance/rates-and-thresholds-for-employers...   \n",
       "1  ['/sure-start-maternity-grant/how-to-claim', '...   \n",
       "2  ['/historic-vehicles/apply-for-vehicle-tax-exe...   \n",
       "3                            ['/government-gateway']   \n",
       "4  ['/guidance/passport-rules-for-travel-to-europ...   \n",
       "5               ['/claim-national-insurance-refund']   \n",
       "6  ['/government/collections/data-protection-act-...   \n",
       "7  ['/government/publications/alternative-dispute...   \n",
       "8                              ['/voting-in-the-uk']   \n",
       "9   ['/government/organisations/hm-revenue-customs']   \n",
       "\n",
       "                               PageSequence_internal  \\\n",
       "0  /guidance/rates-and-thresholds-for-employers-2...   \n",
       "1  /sure-start-maternity-grant/how-to-claim>>/gov...   \n",
       "2  /historic-vehicles/apply-for-vehicle-tax-exemp...   \n",
       "3                                /government-gateway   \n",
       "4  /guidance/passport-rules-for-travel-to-europe-...   \n",
       "5                   /claim-national-insurance-refund   \n",
       "6  /government/collections/data-protection-act-20...   \n",
       "7  /government/publications/alternative-dispute-r...   \n",
       "8                                  /voting-in-the-uk   \n",
       "9       /government/organisations/hm-revenue-customs   \n",
       "\n",
       "                                          Event_List  num_event_cats  \\\n",
       "0                       [('PAGE_NULL', 'PAGE_NULL')]               1   \n",
       "1  [('PAGE_NULL', 'PAGE_NULL'), ('PAGE_NULL', 'PA...               3   \n",
       "2                       [('PAGE_NULL', 'PAGE_NULL')]               1   \n",
       "3                       [('PAGE_NULL', 'PAGE_NULL')]               1   \n",
       "4  [('user_satisfaction_survey', 'banner_shown'),...               2   \n",
       "5                       [('PAGE_NULL', 'PAGE_NULL')]               1   \n",
       "6  [('PAGE_NULL', 'PAGE_NULL'), ('navDocumentColl...               3   \n",
       "7                       [('PAGE_NULL', 'PAGE_NULL')]               1   \n",
       "8                       [('PAGE_NULL', 'PAGE_NULL')]               1   \n",
       "9  [('user_satisfaction_survey', 'banner_shown'),...               2   \n",
       "\n",
       "                                      Event_cats_agg  \\\n",
       "0                                 [('PAGE_NULL', 1)]   \n",
       "1  [('PAGE_NULL', 2), ('External Link Clicked', 1...   \n",
       "2                                 [('PAGE_NULL', 1)]   \n",
       "3                                 [('PAGE_NULL', 1)]   \n",
       "4  [('user_satisfaction_survey', 1), ('PAGE_NULL'...   \n",
       "5                                 [('PAGE_NULL', 1)]   \n",
       "6  [('PAGE_NULL', 2), ('navDocumentCollectionLink...   \n",
       "7                                 [('PAGE_NULL', 1)]   \n",
       "8                                 [('PAGE_NULL', 1)]   \n",
       "9  [('user_satisfaction_survey', 1), ('PAGE_NULL'...   \n",
       "\n",
       "                                   Event_cat_act_agg  \\\n",
       "0                  [(('PAGE_NULL', 'PAGE_NULL'), 1)]   \n",
       "1  [(('PAGE_NULL', 'PAGE_NULL'), 2), (('External ...   \n",
       "2                  [(('PAGE_NULL', 'PAGE_NULL'), 1)]   \n",
       "3                  [(('PAGE_NULL', 'PAGE_NULL'), 1)]   \n",
       "4  [(('user_satisfaction_survey', 'banner_shown')...   \n",
       "5                  [(('PAGE_NULL', 'PAGE_NULL'), 1)]   \n",
       "6  [(('PAGE_NULL', 'PAGE_NULL'), 2), (('navDocume...   \n",
       "7                  [(('PAGE_NULL', 'PAGE_NULL'), 1)]   \n",
       "8                  [(('PAGE_NULL', 'PAGE_NULL'), 1)]   \n",
       "9  [(('user_satisfaction_survey', 'banner_shown')...   \n",
       "\n",
       "                                        Page_List_NL  \\\n",
       "0  ['/guidance/rates-and-thresholds-for-employers...   \n",
       "1  ['/sure-start-maternity-grant/how-to-claim', '...   \n",
       "2  ['/historic-vehicles/apply-for-vehicle-tax-exe...   \n",
       "3                            ['/government-gateway']   \n",
       "4  ['/guidance/passport-rules-for-travel-to-europ...   \n",
       "5               ['/claim-national-insurance-refund']   \n",
       "6  ['/government/collections/data-protection-act-...   \n",
       "7  ['/government/publications/alternative-dispute...   \n",
       "8                              ['/voting-in-the-uk']   \n",
       "9   ['/government/organisations/hm-revenue-customs']   \n",
       "\n",
       "                                         Page_Seq_NL  Occurrences_NL  \n",
       "0  /guidance/rates-and-thresholds-for-employers-2...          4930.0  \n",
       "1  /sure-start-maternity-grant/how-to-claim>>/gov...          5408.0  \n",
       "2  /historic-vehicles/apply-for-vehicle-tax-exemp...          1536.0  \n",
       "3                                /government-gateway        628989.0  \n",
       "4  /guidance/passport-rules-for-travel-to-europe-...        550475.0  \n",
       "5                   /claim-national-insurance-refund          1770.0  \n",
       "6  /government/collections/data-protection-act-20...         16774.0  \n",
       "7  /government/publications/alternative-dispute-r...         19300.0  \n",
       "8                                  /voting-in-the-uk         11150.0  \n",
       "9       /government/organisations/hm-revenue-customs       6828299.0  "
      ]
     },
     "execution_count": 5,
     "metadata": {},
     "output_type": "execute_result"
    }
   ],
   "source": [
    "journeys.head(10)"
   ]
  },
  {
   "cell_type": "markdown",
   "metadata": {},
   "source": [
    "### Sample data for speed"
   ]
  },
  {
   "cell_type": "code",
   "execution_count": 6,
   "metadata": {},
   "outputs": [],
   "source": [
    "journeys = journeys.sample(frac=0.2, random_state=1234).copy()"
   ]
  },
  {
   "cell_type": "code",
   "execution_count": 7,
   "metadata": {},
   "outputs": [
    {
     "data": {
      "text/plain": [
       "(344457, 16)"
      ]
     },
     "execution_count": 7,
     "metadata": {},
     "output_type": "execute_result"
    }
   ],
   "source": [
    "journeys.shape"
   ]
  },
  {
   "cell_type": "markdown",
   "metadata": {},
   "source": [
    "### derive variables (create features...)"
   ]
  },
  {
   "cell_type": "code",
   "execution_count": 8,
   "metadata": {},
   "outputs": [],
   "source": [
    "journeys['page_list_eval'] = journeys['Page_List'].map(pd.eval)\n",
    "journeys['page_seq_len'] = journeys['page_list_eval'].map(len)"
   ]
  },
  {
   "cell_type": "code",
   "execution_count": 9,
   "metadata": {},
   "outputs": [],
   "source": [
    "# def contains_search(Page_List):\n",
    "#     search_in_sequence = 0\n",
    "#     thelist  = pd.eval(Page_List)\n",
    "    \n",
    "#     for page in thelist:\n",
    "#         if ('/search?' in page) or ('/search/' in page):\n",
    "#             search_in_sequence = 1\n",
    "            \n",
    "#     return search_in_sequence\n",
    "\n",
    "# def count_search(Page_List):\n",
    "#     times_search_in_sequence = 0\n",
    "#     thelist  = pd.eval(Page_List)\n",
    "    \n",
    "#     for page in thelist:\n",
    "#         if ('/search?' in page) or ('/search/' in page):\n",
    "#             times_search_in_sequence += 1\n",
    "#     return times_search_in_sequence\n",
    "\n",
    "\n",
    "# # journeys['contains_search'] = list(map(contains_search, journeys['Page_List']))\n",
    "\n",
    "# journeys['count_search'] = list(map(count_search, journeys['Page_List']))"
   ]
  },
  {
   "cell_type": "code",
   "execution_count": 10,
   "metadata": {},
   "outputs": [],
   "source": [
    "journeys['count_search'] = journeys.PageSequence.str.count(\"/search?\")+journeys.PageSequence.str.count(\"/search/\")"
   ]
  },
  {
   "cell_type": "code",
   "execution_count": 11,
   "metadata": {},
   "outputs": [],
   "source": [
    "journeys['contains_search_regex'] = np.where((journeys.PageSequence.str.contains(\"/search?\")) | (journeys.PageSequence.str.contains(\"/search/\")), 1, 0)"
   ]
  },
  {
   "cell_type": "markdown",
   "metadata": {},
   "source": [
    "Get differnet results when using the contains_search function iterating over pagelist to the regex function in PageSequence. It would be good to understand why. "
   ]
  },
  {
   "cell_type": "code",
   "execution_count": 12,
   "metadata": {},
   "outputs": [],
   "source": [
    "journeys['contains_search_n'] = journeys['contains_search_regex']*journeys['Page_Seq_Occurrences']"
   ]
  },
  {
   "cell_type": "code",
   "execution_count": 15,
   "metadata": {},
   "outputs": [],
   "source": [
    "def get_end_page(Page_List):          \n",
    "    return pd.eval(Page_List)[-1]\n",
    "\n",
    "journeys['final_page'] = journeys['Page_List'].map(get_end_page)"
   ]
  },
  {
   "cell_type": "code",
   "execution_count": null,
   "metadata": {},
   "outputs": [],
   "source": [
    "x = '[('desktop', 59), ('mobile', 9), ('tablet', 9)]'\n",
    "if x[0][0] =='desktop':\n",
    "    print(x[0][1])\n",
    "else:\n",
    "    print('no')\n",
    "\n",
    "a, b, c, = count_desktop(x)"
   ]
  },
  {
   "cell_type": "code",
   "execution_count": 41,
   "metadata": {},
   "outputs": [],
   "source": [
    "def count_desktop(DeviceCategories): \n",
    "    thelist  = pd.eval(DeviceCategories)\n",
    "    desktop = 0\n",
    "    mobile = 0\n",
    "    other = 0\n",
    "    for i in range(len(thelist)):\n",
    "        if thelist[i][0] =='desktop':\n",
    "            desktop = thelist[i][1]\n",
    "        elif thelist[i][0] =='mobile':\n",
    "            mobile = thelist[i][1]\n",
    "        else:\n",
    "            other = thelist[i][1]      \n",
    "    return desktop, mobile, other"
   ]
  },
  {
   "cell_type": "code",
   "execution_count": 42,
   "metadata": {},
   "outputs": [],
   "source": [
    "journeys['desktop'], journeys['mobile'], journeys['other_device'] = zip(*journeys['DeviceCategories'].map(count_desktop))"
   ]
  },
  {
   "cell_type": "code",
   "execution_count": 46,
   "metadata": {},
   "outputs": [],
   "source": [
    "journeys['more_desktop'] = np.where(journeys['desktop'] > (journeys['mobile']+journeys['other_device']), 1, 0)"
   ]
  },
  {
   "cell_type": "code",
   "execution_count": 55,
   "metadata": {},
   "outputs": [
    {
     "name": "stdout",
     "output_type": "stream",
     "text": [
      "more_desktop\n",
      "0    156268\n",
      "1    188189\n",
      "dtype: int64\n"
     ]
    },
    {
     "data": {
      "text/plain": [
       "([<matplotlib.patches.Wedge at 0x1465ab978>,\n",
       "  <matplotlib.patches.Wedge at 0x1465b5160>],\n",
       " [Text(0.15955823754944726, 1.0883662843133806, 'more_desktop'),\n",
       "  Text(-0.1595583394496526, -1.0883662693744554, 'more_mobile+tablet')],\n",
       " [Text(0.08703176593606214, 0.5936543368982075, '45.4%'),\n",
       "  Text(-0.08703182151799231, -0.5936543287497029, '54.6%')])"
      ]
     },
     "execution_count": 55,
     "metadata": {},
     "output_type": "execute_result"
    },
    {
     "data": {
      "image/png": "[encoded data removed]",
      "text/plain": [
       "<Figure size 432x288 with 1 Axes>"
      ]
     },
     "metadata": {},
     "output_type": "display_data"
    }
   ],
   "source": [
    "print(journeys.groupby('more_desktop').size())\n",
    "plt.pie(journeys.groupby('more_desktop').size(), labels=['more_desktop', 'more_mobile+tablet'], autopct='%1.1f%%')"
   ]
  },
  {
   "cell_type": "markdown",
   "metadata": {},
   "source": [
    "### journey length\n",
    "\n",
    "EEK, be careful of frequency counts because need to include Occurences column for this. This is harder to interpret than it looks"
   ]
  },
  {
   "cell_type": "code",
   "execution_count": 56,
   "metadata": {},
   "outputs": [
    {
     "data": {
      "text/plain": [
       "count    344457.000000\n",
       "mean          2.465719\n",
       "std           1.790405\n",
       "min           1.000000\n",
       "25%           1.000000\n",
       "50%           2.000000\n",
       "75%           3.000000\n",
       "max         122.000000\n",
       "Name: page_seq_len, dtype: float64"
      ]
     },
     "execution_count": 56,
     "metadata": {},
     "output_type": "execute_result"
    }
   ],
   "source": [
    "journeys['page_seq_len'].describe()"
   ]
  },
  {
   "cell_type": "code",
   "execution_count": 57,
   "metadata": {},
   "outputs": [],
   "source": [
    "#make a smaller copy of data with only 2 cols ready to make it really looooong\n",
    "slim = journeys[['Occurrences','final_page','page_seq_len']].copy()\n",
    "#repeat rows for each occurrence\n",
    "journey_expanded =  slim.loc[slim.index.repeat(slim['Occurrences'])]\n"
   ]
  },
  {
   "cell_type": "code",
   "execution_count": 58,
   "metadata": {},
   "outputs": [
    {
     "data": {
      "text/plain": [
       "count    1.901553e+06\n",
       "mean     1.599764e+00\n",
       "std      1.188207e+00\n",
       "min      1.000000e+00\n",
       "25%      1.000000e+00\n",
       "50%      1.000000e+00\n",
       "75%      2.000000e+00\n",
       "max      1.220000e+02\n",
       "Name: page_seq_len, dtype: float64"
      ]
     },
     "execution_count": 58,
     "metadata": {},
     "output_type": "execute_result"
    }
   ],
   "source": [
    "journey_expanded['page_seq_len'].describe()"
   ]
  },
  {
   "cell_type": "code",
   "execution_count": 59,
   "metadata": {},
   "outputs": [
    {
     "data": {
      "text/plain": [
       "<matplotlib.axes._subplots.AxesSubplot at 0x149b2e668>"
      ]
     },
     "execution_count": 59,
     "metadata": {},
     "output_type": "execute_result"
    },
    {
     "data": {
      "image/png": "[encoded data removed]",
      "text/plain": [
       "<Figure size 432x288 with 1 Axes>"
      ]
     },
     "metadata": {
      "needs_background": "light"
     },
     "output_type": "display_data"
    }
   ],
   "source": [
    "journey_expanded['page_seq_len'].hist(bins=122, grid=False)"
   ]
  },
  {
   "cell_type": "markdown",
   "metadata": {},
   "source": [
    "~1/4 of journeys are greater than 3?"
   ]
  },
  {
   "cell_type": "markdown",
   "metadata": {},
   "source": [
    "### Search counts"
   ]
  },
  {
   "cell_type": "code",
   "execution_count": 60,
   "metadata": {},
   "outputs": [
    {
     "name": "stdout",
     "output_type": "stream",
     "text": [
      "19297292.0/13591024301.0 (0.14198556026847914%) of journeys contain internal search in their path\n"
     ]
    }
   ],
   "source": [
    "print(\"{}/{} ({}%) of journeys contain internal search in their path\".format(journeys['contains_search_n'].sum(),\n",
    "                                                                             journeys['Page_Seq_Occurrences'].sum(),\n",
    "                                                                             journeys['contains_search_n'].sum()/journeys['Page_Seq_Occurrences'].sum()*100))"
   ]
  },
  {
   "cell_type": "code",
   "execution_count": 215,
   "metadata": {},
   "outputs": [
    {
     "ename": "TypeError",
     "evalue": "'>=' not supported between instances of 'str' and 'int'",
     "output_type": "error",
     "traceback": [
      "\u001b[0;31m---------------------------------------------------------------------------\u001b[0m",
      "\u001b[0;31mTypeError\u001b[0m                                 Traceback (most recent call last)",
      "\u001b[0;32m~/.pyenv/versions/3.6.0/envs/govuk-network/lib/python3.6/site-packages/pandas/core/nanops.py\u001b[0m in \u001b[0;36mf\u001b[0;34m(values, axis, skipna, **kwds)\u001b[0m\n\u001b[1;32m    127\u001b[0m                 \u001b[0;32melse\u001b[0m\u001b[0;34m:\u001b[0m\u001b[0;34m\u001b[0m\u001b[0m\n\u001b[0;32m--> 128\u001b[0;31m                     \u001b[0mresult\u001b[0m \u001b[0;34m=\u001b[0m \u001b[0malt\u001b[0m\u001b[0;34m(\u001b[0m\u001b[0mvalues\u001b[0m\u001b[0;34m,\u001b[0m \u001b[0maxis\u001b[0m\u001b[0;34m=\u001b[0m\u001b[0maxis\u001b[0m\u001b[0;34m,\u001b[0m \u001b[0mskipna\u001b[0m\u001b[0;34m=\u001b[0m\u001b[0mskipna\u001b[0m\u001b[0;34m,\u001b[0m \u001b[0;34m**\u001b[0m\u001b[0mkwds\u001b[0m\u001b[0;34m)\u001b[0m\u001b[0;34m\u001b[0m\u001b[0m\n\u001b[0m\u001b[1;32m    129\u001b[0m             \u001b[0;32mexcept\u001b[0m \u001b[0mException\u001b[0m\u001b[0;34m:\u001b[0m\u001b[0;34m\u001b[0m\u001b[0m\n",
      "\u001b[0;32m~/.pyenv/versions/3.6.0/envs/govuk-network/lib/python3.6/site-packages/pandas/core/nanops.py\u001b[0m in \u001b[0;36mreduction\u001b[0;34m(values, axis, skipna)\u001b[0m\n\u001b[1;32m    506\u001b[0m         \u001b[0;32melse\u001b[0m\u001b[0;34m:\u001b[0m\u001b[0;34m\u001b[0m\u001b[0m\n\u001b[0;32m--> 507\u001b[0;31m             \u001b[0mresult\u001b[0m \u001b[0;34m=\u001b[0m \u001b[0mgetattr\u001b[0m\u001b[0;34m(\u001b[0m\u001b[0mvalues\u001b[0m\u001b[0;34m,\u001b[0m \u001b[0mmeth\u001b[0m\u001b[0;34m)\u001b[0m\u001b[0;34m(\u001b[0m\u001b[0maxis\u001b[0m\u001b[0;34m)\u001b[0m\u001b[0;34m\u001b[0m\u001b[0m\n\u001b[0m\u001b[1;32m    508\u001b[0m \u001b[0;34m\u001b[0m\u001b[0m\n",
      "\u001b[0;32m~/.pyenv/versions/3.6.0/envs/govuk-network/lib/python3.6/site-packages/numpy/core/_methods.py\u001b[0m in \u001b[0;36m_amax\u001b[0;34m(a, axis, out, keepdims, initial)\u001b[0m\n\u001b[1;32m     27\u001b[0m           initial=_NoValue):\n\u001b[0;32m---> 28\u001b[0;31m     \u001b[0;32mreturn\u001b[0m \u001b[0mumr_maximum\u001b[0m\u001b[0;34m(\u001b[0m\u001b[0ma\u001b[0m\u001b[0;34m,\u001b[0m \u001b[0maxis\u001b[0m\u001b[0;34m,\u001b[0m \u001b[0;32mNone\u001b[0m\u001b[0;34m,\u001b[0m \u001b[0mout\u001b[0m\u001b[0;34m,\u001b[0m \u001b[0mkeepdims\u001b[0m\u001b[0;34m,\u001b[0m \u001b[0minitial\u001b[0m\u001b[0;34m)\u001b[0m\u001b[0;34m\u001b[0m\u001b[0m\n\u001b[0m\u001b[1;32m     29\u001b[0m \u001b[0;34m\u001b[0m\u001b[0m\n",
      "\u001b[0;31mTypeError\u001b[0m: '>=' not supported between instances of 'str' and 'int'",
      "\nDuring handling of the above exception, another exception occurred:\n",
      "\u001b[0;31mTypeError\u001b[0m                                 Traceback (most recent call last)",
      "\u001b[0;32m<ipython-input-215-d2f746e4a821>\u001b[0m in \u001b[0;36m<module>\u001b[0;34m\u001b[0m\n\u001b[1;32m      1\u001b[0m \u001b[0mdata\u001b[0m \u001b[0;34m=\u001b[0m \u001b[0;34m[\u001b[0m\u001b[0;34m]\u001b[0m\u001b[0;34m\u001b[0m\u001b[0m\n\u001b[0;32m----> 2\u001b[0;31m \u001b[0;32mfor\u001b[0m \u001b[0mi\u001b[0m \u001b[0;32min\u001b[0m \u001b[0mrange\u001b[0m\u001b[0;34m(\u001b[0m\u001b[0mjourneys\u001b[0m\u001b[0;34m[\u001b[0m\u001b[0;34m'page_seq_len'\u001b[0m\u001b[0;34m]\u001b[0m\u001b[0;34m.\u001b[0m\u001b[0mmax\u001b[0m\u001b[0;34m(\u001b[0m\u001b[0;34m)\u001b[0m\u001b[0;34m)\u001b[0m\u001b[0;34m:\u001b[0m\u001b[0;34m\u001b[0m\u001b[0m\n\u001b[0m\u001b[1;32m      3\u001b[0m     \u001b[0mdf\u001b[0m \u001b[0;34m=\u001b[0m \u001b[0mjourneys\u001b[0m\u001b[0;34m[\u001b[0m\u001b[0mjourneys\u001b[0m\u001b[0;34m[\u001b[0m\u001b[0;34m'page_seq_len'\u001b[0m\u001b[0;34m]\u001b[0m\u001b[0;34m==\u001b[0m\u001b[0mi\u001b[0m\u001b[0;34m]\u001b[0m\u001b[0;34m\u001b[0m\u001b[0m\n\u001b[1;32m      4\u001b[0m     \u001b[0mpercent\u001b[0m \u001b[0;34m=\u001b[0m \u001b[0mdf\u001b[0m\u001b[0;34m[\u001b[0m\u001b[0;34m'contains_search_n'\u001b[0m\u001b[0;34m]\u001b[0m\u001b[0;34m.\u001b[0m\u001b[0msum\u001b[0m\u001b[0;34m(\u001b[0m\u001b[0;34m)\u001b[0m\u001b[0;34m/\u001b[0m\u001b[0mdf\u001b[0m\u001b[0;34m[\u001b[0m\u001b[0;34m'Page_Seq_Occurrences'\u001b[0m\u001b[0;34m]\u001b[0m\u001b[0;34m.\u001b[0m\u001b[0msum\u001b[0m\u001b[0;34m(\u001b[0m\u001b[0;34m)\u001b[0m\u001b[0;34m*\u001b[0m\u001b[0;36m100\u001b[0m\u001b[0;34m\u001b[0m\u001b[0m\n\u001b[1;32m      5\u001b[0m     \u001b[0mn\u001b[0m \u001b[0;34m=\u001b[0m \u001b[0mdf\u001b[0m\u001b[0;34m[\u001b[0m\u001b[0;34m'contains_search_n'\u001b[0m\u001b[0;34m]\u001b[0m\u001b[0;34m.\u001b[0m\u001b[0msum\u001b[0m\u001b[0;34m(\u001b[0m\u001b[0;34m)\u001b[0m\u001b[0;34m\u001b[0m\u001b[0m\n",
      "\u001b[0;32m~/.pyenv/versions/3.6.0/envs/govuk-network/lib/python3.6/site-packages/pandas/core/generic.py\u001b[0m in \u001b[0;36mstat_func\u001b[0;34m(self, axis, skipna, level, numeric_only, **kwargs)\u001b[0m\n\u001b[1;32m   9611\u001b[0m                                       skipna=skipna)\n\u001b[1;32m   9612\u001b[0m         return self._reduce(f, name, axis=axis, skipna=skipna,\n\u001b[0;32m-> 9613\u001b[0;31m                             numeric_only=numeric_only)\n\u001b[0m\u001b[1;32m   9614\u001b[0m \u001b[0;34m\u001b[0m\u001b[0m\n\u001b[1;32m   9615\u001b[0m     \u001b[0;32mreturn\u001b[0m \u001b[0mset_function_name\u001b[0m\u001b[0;34m(\u001b[0m\u001b[0mstat_func\u001b[0m\u001b[0;34m,\u001b[0m \u001b[0mname\u001b[0m\u001b[0;34m,\u001b[0m \u001b[0mcls\u001b[0m\u001b[0;34m)\u001b[0m\u001b[0;34m\u001b[0m\u001b[0m\n",
      "\u001b[0;32m~/.pyenv/versions/3.6.0/envs/govuk-network/lib/python3.6/site-packages/pandas/core/series.py\u001b[0m in \u001b[0;36m_reduce\u001b[0;34m(self, op, name, axis, skipna, numeric_only, filter_type, **kwds)\u001b[0m\n\u001b[1;32m   3219\u001b[0m                                           'numeric_only.'.format(name))\n\u001b[1;32m   3220\u001b[0m             \u001b[0;32mwith\u001b[0m \u001b[0mnp\u001b[0m\u001b[0;34m.\u001b[0m\u001b[0merrstate\u001b[0m\u001b[0;34m(\u001b[0m\u001b[0mall\u001b[0m\u001b[0;34m=\u001b[0m\u001b[0;34m'ignore'\u001b[0m\u001b[0;34m)\u001b[0m\u001b[0;34m:\u001b[0m\u001b[0;34m\u001b[0m\u001b[0m\n\u001b[0;32m-> 3221\u001b[0;31m                 \u001b[0;32mreturn\u001b[0m \u001b[0mop\u001b[0m\u001b[0;34m(\u001b[0m\u001b[0mdelegate\u001b[0m\u001b[0;34m,\u001b[0m \u001b[0mskipna\u001b[0m\u001b[0;34m=\u001b[0m\u001b[0mskipna\u001b[0m\u001b[0;34m,\u001b[0m \u001b[0;34m**\u001b[0m\u001b[0mkwds\u001b[0m\u001b[0;34m)\u001b[0m\u001b[0;34m\u001b[0m\u001b[0m\n\u001b[0m\u001b[1;32m   3222\u001b[0m \u001b[0;34m\u001b[0m\u001b[0m\n\u001b[1;32m   3223\u001b[0m         return delegate._reduce(op=op, name=name, axis=axis, skipna=skipna,\n",
      "\u001b[0;32m~/.pyenv/versions/3.6.0/envs/govuk-network/lib/python3.6/site-packages/pandas/core/nanops.py\u001b[0m in \u001b[0;36mf\u001b[0;34m(values, axis, skipna, **kwds)\u001b[0m\n\u001b[1;32m    129\u001b[0m             \u001b[0;32mexcept\u001b[0m \u001b[0mException\u001b[0m\u001b[0;34m:\u001b[0m\u001b[0;34m\u001b[0m\u001b[0m\n\u001b[1;32m    130\u001b[0m                 \u001b[0;32mtry\u001b[0m\u001b[0;34m:\u001b[0m\u001b[0;34m\u001b[0m\u001b[0m\n\u001b[0;32m--> 131\u001b[0;31m                     \u001b[0mresult\u001b[0m \u001b[0;34m=\u001b[0m \u001b[0malt\u001b[0m\u001b[0;34m(\u001b[0m\u001b[0mvalues\u001b[0m\u001b[0;34m,\u001b[0m \u001b[0maxis\u001b[0m\u001b[0;34m=\u001b[0m\u001b[0maxis\u001b[0m\u001b[0;34m,\u001b[0m \u001b[0mskipna\u001b[0m\u001b[0;34m=\u001b[0m\u001b[0mskipna\u001b[0m\u001b[0;34m,\u001b[0m \u001b[0;34m**\u001b[0m\u001b[0mkwds\u001b[0m\u001b[0;34m)\u001b[0m\u001b[0;34m\u001b[0m\u001b[0m\n\u001b[0m\u001b[1;32m    132\u001b[0m                 \u001b[0;32mexcept\u001b[0m \u001b[0mValueError\u001b[0m \u001b[0;32mas\u001b[0m \u001b[0me\u001b[0m\u001b[0;34m:\u001b[0m\u001b[0;34m\u001b[0m\u001b[0m\n\u001b[1;32m    133\u001b[0m                     \u001b[0;31m# we want to transform an object array\u001b[0m\u001b[0;34m\u001b[0m\u001b[0;34m\u001b[0m\u001b[0m\n",
      "\u001b[0;32m~/.pyenv/versions/3.6.0/envs/govuk-network/lib/python3.6/site-packages/pandas/core/nanops.py\u001b[0m in \u001b[0;36mreduction\u001b[0;34m(values, axis, skipna)\u001b[0m\n\u001b[1;32m    505\u001b[0m                 \u001b[0mresult\u001b[0m \u001b[0;34m=\u001b[0m \u001b[0mnp\u001b[0m\u001b[0;34m.\u001b[0m\u001b[0mnan\u001b[0m\u001b[0;34m\u001b[0m\u001b[0m\n\u001b[1;32m    506\u001b[0m         \u001b[0;32melse\u001b[0m\u001b[0;34m:\u001b[0m\u001b[0;34m\u001b[0m\u001b[0m\n\u001b[0;32m--> 507\u001b[0;31m             \u001b[0mresult\u001b[0m \u001b[0;34m=\u001b[0m \u001b[0mgetattr\u001b[0m\u001b[0;34m(\u001b[0m\u001b[0mvalues\u001b[0m\u001b[0;34m,\u001b[0m \u001b[0mmeth\u001b[0m\u001b[0;34m)\u001b[0m\u001b[0;34m(\u001b[0m\u001b[0maxis\u001b[0m\u001b[0;34m)\u001b[0m\u001b[0;34m\u001b[0m\u001b[0m\n\u001b[0m\u001b[1;32m    508\u001b[0m \u001b[0;34m\u001b[0m\u001b[0m\n\u001b[1;32m    509\u001b[0m         \u001b[0mresult\u001b[0m \u001b[0;34m=\u001b[0m \u001b[0m_wrap_results\u001b[0m\u001b[0;34m(\u001b[0m\u001b[0mresult\u001b[0m\u001b[0;34m,\u001b[0m \u001b[0mdtype\u001b[0m\u001b[0;34m)\u001b[0m\u001b[0;34m\u001b[0m\u001b[0m\n",
      "\u001b[0;32m~/.pyenv/versions/3.6.0/envs/govuk-network/lib/python3.6/site-packages/numpy/core/_methods.py\u001b[0m in \u001b[0;36m_amax\u001b[0;34m(a, axis, out, keepdims, initial)\u001b[0m\n\u001b[1;32m     26\u001b[0m def _amax(a, axis=None, out=None, keepdims=False,\n\u001b[1;32m     27\u001b[0m           initial=_NoValue):\n\u001b[0;32m---> 28\u001b[0;31m     \u001b[0;32mreturn\u001b[0m \u001b[0mumr_maximum\u001b[0m\u001b[0;34m(\u001b[0m\u001b[0ma\u001b[0m\u001b[0;34m,\u001b[0m \u001b[0maxis\u001b[0m\u001b[0;34m,\u001b[0m \u001b[0;32mNone\u001b[0m\u001b[0;34m,\u001b[0m \u001b[0mout\u001b[0m\u001b[0;34m,\u001b[0m \u001b[0mkeepdims\u001b[0m\u001b[0;34m,\u001b[0m \u001b[0minitial\u001b[0m\u001b[0;34m)\u001b[0m\u001b[0;34m\u001b[0m\u001b[0m\n\u001b[0m\u001b[1;32m     29\u001b[0m \u001b[0;34m\u001b[0m\u001b[0m\n\u001b[1;32m     30\u001b[0m def _amin(a, axis=None, out=None, keepdims=False,\n",
      "\u001b[0;31mTypeError\u001b[0m: '>=' not supported between instances of 'str' and 'int'"
     ]
    }
   ],
   "source": [
    "data = []\n",
    "for i in range(journeys['page_seq_len'].max()):\n",
    "    df = journeys[journeys['page_seq_len']==i]\n",
    "    percent = df['contains_search_n'].sum()/df['Page_Seq_Occurrences'].sum()*100\n",
    "    n = df['contains_search_n'].sum()\n",
    "    denom = df['Page_Seq_Occurrences'].sum()\n",
    "    p = percent/100\n",
    "    variance = (p*(1-p))/denom\n",
    "    data.append([i+1, n, denom, percent, variance])\n",
    "\n",
    "search_seqlength = pd.DataFrame(data, columns=['length', 'n', 'denom','percent', 'variance'])"
   ]
  },
  {
   "cell_type": "code",
   "execution_count": 62,
   "metadata": {},
   "outputs": [
    {
     "data": {
      "text/html": [
       "<div>\n",
       "<style scoped>\n",
       "    .dataframe tbody tr th:only-of-type {\n",
       "        vertical-align: middle;\n",
       "    }\n",
       "\n",
       "    .dataframe tbody tr th {\n",
       "        vertical-align: top;\n",
       "    }\n",
       "\n",
       "    .dataframe thead th {\n",
       "        text-align: right;\n",
       "    }\n",
       "</style>\n",
       "<table border=\"1\" class=\"dataframe\">\n",
       "  <thead>\n",
       "    <tr style=\"text-align: right;\">\n",
       "      <th></th>\n",
       "      <th>length</th>\n",
       "      <th>n</th>\n",
       "      <th>denom</th>\n",
       "      <th>percent</th>\n",
       "      <th>variance</th>\n",
       "    </tr>\n",
       "  </thead>\n",
       "  <tbody>\n",
       "    <tr>\n",
       "      <th>10</th>\n",
       "      <td>11</td>\n",
       "      <td>71.0</td>\n",
       "      <td>11008.0</td>\n",
       "      <td>0.644985</td>\n",
       "      <td>5.821452e-07</td>\n",
       "    </tr>\n",
       "    <tr>\n",
       "      <th>11</th>\n",
       "      <td>12</td>\n",
       "      <td>60.0</td>\n",
       "      <td>8954.0</td>\n",
       "      <td>0.670092</td>\n",
       "      <td>7.433564e-07</td>\n",
       "    </tr>\n",
       "    <tr>\n",
       "      <th>12</th>\n",
       "      <td>13</td>\n",
       "      <td>13.0</td>\n",
       "      <td>4102.0</td>\n",
       "      <td>0.316919</td>\n",
       "      <td>7.701468e-07</td>\n",
       "    </tr>\n",
       "    <tr>\n",
       "      <th>13</th>\n",
       "      <td>14</td>\n",
       "      <td>13.0</td>\n",
       "      <td>1980.0</td>\n",
       "      <td>0.656566</td>\n",
       "      <td>3.294217e-06</td>\n",
       "    </tr>\n",
       "    <tr>\n",
       "      <th>14</th>\n",
       "      <td>15</td>\n",
       "      <td>13.0</td>\n",
       "      <td>1311.0</td>\n",
       "      <td>0.991609</td>\n",
       "      <td>7.488761e-06</td>\n",
       "    </tr>\n",
       "    <tr>\n",
       "      <th>15</th>\n",
       "      <td>16</td>\n",
       "      <td>13.0</td>\n",
       "      <td>984.0</td>\n",
       "      <td>1.321138</td>\n",
       "      <td>1.324882e-05</td>\n",
       "    </tr>\n",
       "    <tr>\n",
       "      <th>16</th>\n",
       "      <td>17</td>\n",
       "      <td>13.0</td>\n",
       "      <td>763.0</td>\n",
       "      <td>1.703801</td>\n",
       "      <td>2.194982e-05</td>\n",
       "    </tr>\n",
       "    <tr>\n",
       "      <th>17</th>\n",
       "      <td>18</td>\n",
       "      <td>11.0</td>\n",
       "      <td>597.0</td>\n",
       "      <td>1.842546</td>\n",
       "      <td>3.029475e-05</td>\n",
       "    </tr>\n",
       "    <tr>\n",
       "      <th>18</th>\n",
       "      <td>19</td>\n",
       "      <td>8.0</td>\n",
       "      <td>400.0</td>\n",
       "      <td>2.000000</td>\n",
       "      <td>4.900000e-05</td>\n",
       "    </tr>\n",
       "    <tr>\n",
       "      <th>19</th>\n",
       "      <td>20</td>\n",
       "      <td>8.0</td>\n",
       "      <td>363.0</td>\n",
       "      <td>2.203857</td>\n",
       "      <td>5.937429e-05</td>\n",
       "    </tr>\n",
       "    <tr>\n",
       "      <th>20</th>\n",
       "      <td>21</td>\n",
       "      <td>8.0</td>\n",
       "      <td>296.0</td>\n",
       "      <td>2.702703</td>\n",
       "      <td>8.883975e-05</td>\n",
       "    </tr>\n",
       "    <tr>\n",
       "      <th>21</th>\n",
       "      <td>22</td>\n",
       "      <td>6.0</td>\n",
       "      <td>218.0</td>\n",
       "      <td>2.752294</td>\n",
       "      <td>1.227772e-04</td>\n",
       "    </tr>\n",
       "    <tr>\n",
       "      <th>22</th>\n",
       "      <td>23</td>\n",
       "      <td>6.0</td>\n",
       "      <td>199.0</td>\n",
       "      <td>3.015075</td>\n",
       "      <td>1.469431e-04</td>\n",
       "    </tr>\n",
       "    <tr>\n",
       "      <th>23</th>\n",
       "      <td>24</td>\n",
       "      <td>6.0</td>\n",
       "      <td>174.0</td>\n",
       "      <td>3.448276</td>\n",
       "      <td>1.913431e-04</td>\n",
       "    </tr>\n",
       "    <tr>\n",
       "      <th>24</th>\n",
       "      <td>25</td>\n",
       "      <td>6.0</td>\n",
       "      <td>146.0</td>\n",
       "      <td>4.109589</td>\n",
       "      <td>2.699111e-04</td>\n",
       "    </tr>\n",
       "    <tr>\n",
       "      <th>25</th>\n",
       "      <td>26</td>\n",
       "      <td>6.0</td>\n",
       "      <td>114.0</td>\n",
       "      <td>5.263158</td>\n",
       "      <td>4.373815e-04</td>\n",
       "    </tr>\n",
       "    <tr>\n",
       "      <th>26</th>\n",
       "      <td>27</td>\n",
       "      <td>6.0</td>\n",
       "      <td>95.0</td>\n",
       "      <td>6.315789</td>\n",
       "      <td>6.228313e-04</td>\n",
       "    </tr>\n",
       "  </tbody>\n",
       "</table>\n",
       "</div>"
      ],
      "text/plain": [
       "    length     n    denom   percent      variance\n",
       "10      11  71.0  11008.0  0.644985  5.821452e-07\n",
       "11      12  60.0   8954.0  0.670092  7.433564e-07\n",
       "12      13  13.0   4102.0  0.316919  7.701468e-07\n",
       "13      14  13.0   1980.0  0.656566  3.294217e-06\n",
       "14      15  13.0   1311.0  0.991609  7.488761e-06\n",
       "15      16  13.0    984.0  1.321138  1.324882e-05\n",
       "16      17  13.0    763.0  1.703801  2.194982e-05\n",
       "17      18  11.0    597.0  1.842546  3.029475e-05\n",
       "18      19   8.0    400.0  2.000000  4.900000e-05\n",
       "19      20   8.0    363.0  2.203857  5.937429e-05\n",
       "20      21   8.0    296.0  2.702703  8.883975e-05\n",
       "21      22   6.0    218.0  2.752294  1.227772e-04\n",
       "22      23   6.0    199.0  3.015075  1.469431e-04\n",
       "23      24   6.0    174.0  3.448276  1.913431e-04\n",
       "24      25   6.0    146.0  4.109589  2.699111e-04\n",
       "25      26   6.0    114.0  5.263158  4.373815e-04\n",
       "26      27   6.0     95.0  6.315789  6.228313e-04"
      ]
     },
     "execution_count": 62,
     "metadata": {},
     "output_type": "execute_result"
    }
   ],
   "source": [
    "search_seqlength.iloc[10:27]"
   ]
  },
  {
   "cell_type": "code",
   "execution_count": 63,
   "metadata": {},
   "outputs": [
    {
     "data": {
      "text/plain": [
       "Text(0, 0.5, 'Percent of journeys used internal search')"
      ]
     },
     "execution_count": 63,
     "metadata": {},
     "output_type": "execute_result"
    },
    {
     "data": {
      "image/png": "[encoded data removed]",
      "text/plain": [
       "<Figure size 432x288 with 1 Axes>"
      ]
     },
     "metadata": {
      "needs_background": "light"
     },
     "output_type": "display_data"
    }
   ],
   "source": [
    "ax = search_seqlength.plot.scatter(x='length', y='percent')\n",
    "ax.set_xlabel(\"Number of pages in journey\")\n",
    "ax.set_ylabel(\"Percent of journeys used internal search\")"
   ]
  },
  {
   "cell_type": "code",
   "execution_count": 64,
   "metadata": {},
   "outputs": [
    {
     "data": {
      "text/plain": [
       "(0, 28)"
      ]
     },
     "execution_count": 64,
     "metadata": {},
     "output_type": "execute_result"
    },
    {
     "data": {
      "image/png": "[encoded data removed]",
      "text/plain": [
       "<Figure size 432x288 with 1 Axes>"
      ]
     },
     "metadata": {
      "needs_background": "light"
     },
     "output_type": "display_data"
    }
   ],
   "source": [
    "ax = sns.scatterplot(x=\"length\", y=\"percent\", size=\"variance\", data=search_seqlength)\n",
    "ax.set_xlabel(\"Number of pages in journey*\")\n",
    "ax.set_ylabel(\"Percent of journeys used internal search\")\n",
    "ax.set_xlim(0, 28)"
   ]
  },
  {
   "cell_type": "code",
   "execution_count": 65,
   "metadata": {},
   "outputs": [
    {
     "name": "stdout",
     "output_type": "stream",
     "text": [
      "227442.0/16013489.0 (1.4203150856131352%) of longerthan3 contain internal search in their path\n"
     ]
    }
   ],
   "source": [
    "longerthan3 = journeys[journeys['page_seq_len']>3]\n",
    "\n",
    "print(\"{}/{} ({}%) of longerthan3 contain internal search in their path\".format(longerthan3['contains_search_n'].sum(),\n",
    "                                                                             longerthan3['Page_Seq_Occurrences'].sum(),\n",
    "                                                                             longerthan3['contains_search_n'].sum()/longerthan3['Page_Seq_Occurrences'].sum()*100))"
   ]
  },
  {
   "cell_type": "code",
   "execution_count": 66,
   "metadata": {},
   "outputs": [
    {
     "data": {
      "text/plain": [
       "count    12092.000000\n",
       "mean         3.193351\n",
       "std          1.478206\n",
       "min          1.000000\n",
       "25%          2.000000\n",
       "50%          3.000000\n",
       "75%          4.000000\n",
       "max         27.000000\n",
       "Name: page_seq_len, dtype: float64"
      ]
     },
     "execution_count": 66,
     "metadata": {},
     "output_type": "execute_result"
    }
   ],
   "source": [
    "journeys[journeys['contains_search_regex']==1].page_seq_len.describe()"
   ]
  },
  {
   "cell_type": "code",
   "execution_count": 67,
   "metadata": {},
   "outputs": [
    {
     "data": {
      "text/plain": [
       "count    344457.000000\n",
       "mean          2.465719\n",
       "std           1.790405\n",
       "min           1.000000\n",
       "25%           1.000000\n",
       "50%           2.000000\n",
       "75%           3.000000\n",
       "max         122.000000\n",
       "Name: page_seq_len, dtype: float64"
      ]
     },
     "execution_count": 67,
     "metadata": {},
     "output_type": "execute_result"
    }
   ],
   "source": [
    "journeys.page_seq_len.describe()"
   ]
  },
  {
   "cell_type": "code",
   "execution_count": 68,
   "metadata": {},
   "outputs": [
    {
     "data": {
      "text/plain": [
       "count    344457.000000\n",
       "mean          0.043997\n",
       "std           0.258629\n",
       "min           0.000000\n",
       "25%           0.000000\n",
       "50%           0.000000\n",
       "75%           0.000000\n",
       "max           9.000000\n",
       "Name: count_search, dtype: float64"
      ]
     },
     "execution_count": 68,
     "metadata": {},
     "output_type": "execute_result"
    }
   ],
   "source": [
    "journeys['count_search'].describe()"
   ]
  },
  {
   "cell_type": "code",
   "execution_count": 69,
   "metadata": {},
   "outputs": [
    {
     "data": {
      "text/plain": [
       "count    12092.000000\n",
       "mean         1.253308\n",
       "std          0.624343\n",
       "min          1.000000\n",
       "25%          1.000000\n",
       "50%          1.000000\n",
       "75%          1.000000\n",
       "max          9.000000\n",
       "Name: count_search, dtype: float64"
      ]
     },
     "execution_count": 69,
     "metadata": {},
     "output_type": "execute_result"
    }
   ],
   "source": [
    "journeys[journeys['contains_search_regex']==1].count_search.describe()"
   ]
  },
  {
   "cell_type": "code",
   "execution_count": 70,
   "metadata": {},
   "outputs": [
    {
     "data": {
      "text/plain": [
       "Text(0, 0.5, 'Number of journeys')"
      ]
     },
     "execution_count": 70,
     "metadata": {},
     "output_type": "execute_result"
    },
    {
     "data": {
      "image/png": "[encoded data removed]",
      "text/plain": [
       "<Figure size 432x288 with 1 Axes>"
      ]
     },
     "metadata": {
      "needs_background": "light"
     },
     "output_type": "display_data"
    }
   ],
   "source": [
    "ax = journeys[journeys['contains_search_regex']==1].count_search.hist(bins=9, grid=False)\n",
    "ax.set_xlabel(\"Number of times search used in journey\")\n",
    "ax.set_ylabel(\"Number of journeys\")"
   ]
  },
  {
   "cell_type": "code",
   "execution_count": null,
   "metadata": {},
   "outputs": [],
   "source": []
  },
  {
   "cell_type": "code",
   "execution_count": 214,
   "metadata": {},
   "outputs": [
    {
     "ename": "TypeError",
     "evalue": "'>' not supported between instances of 'str' and 'int'",
     "output_type": "error",
     "traceback": [
      "\u001b[0;31m---------------------------------------------------------------------------\u001b[0m",
      "\u001b[0;31mTypeError\u001b[0m                                 Traceback (most recent call last)",
      "\u001b[0;32m<ipython-input-214-7dd79f47f75a>\u001b[0m in \u001b[0;36m<module>\u001b[0;34m\u001b[0m\n\u001b[0;32m----> 1\u001b[0;31m \u001b[0mlongerthan10\u001b[0m \u001b[0;34m=\u001b[0m \u001b[0mjourneys\u001b[0m\u001b[0;34m[\u001b[0m\u001b[0mjourneys\u001b[0m\u001b[0;34m[\u001b[0m\u001b[0;34m'page_seq_len'\u001b[0m\u001b[0;34m]\u001b[0m\u001b[0;34m>\u001b[0m\u001b[0;36m10\u001b[0m\u001b[0;34m]\u001b[0m\u001b[0;34m\u001b[0m\u001b[0m\n\u001b[0m",
      "\u001b[0;32m~/.pyenv/versions/3.6.0/envs/govuk-network/lib/python3.6/site-packages/pandas/core/ops.py\u001b[0m in \u001b[0;36mwrapper\u001b[0;34m(self, other, axis)\u001b[0m\n\u001b[1;32m   1281\u001b[0m \u001b[0;34m\u001b[0m\u001b[0m\n\u001b[1;32m   1282\u001b[0m             \u001b[0;32mwith\u001b[0m \u001b[0mnp\u001b[0m\u001b[0;34m.\u001b[0m\u001b[0merrstate\u001b[0m\u001b[0;34m(\u001b[0m\u001b[0mall\u001b[0m\u001b[0;34m=\u001b[0m\u001b[0;34m'ignore'\u001b[0m\u001b[0;34m)\u001b[0m\u001b[0;34m:\u001b[0m\u001b[0;34m\u001b[0m\u001b[0m\n\u001b[0;32m-> 1283\u001b[0;31m                 \u001b[0mres\u001b[0m \u001b[0;34m=\u001b[0m \u001b[0mna_op\u001b[0m\u001b[0;34m(\u001b[0m\u001b[0mvalues\u001b[0m\u001b[0;34m,\u001b[0m \u001b[0mother\u001b[0m\u001b[0;34m)\u001b[0m\u001b[0;34m\u001b[0m\u001b[0m\n\u001b[0m\u001b[1;32m   1284\u001b[0m             \u001b[0;32mif\u001b[0m \u001b[0mis_scalar\u001b[0m\u001b[0;34m(\u001b[0m\u001b[0mres\u001b[0m\u001b[0;34m)\u001b[0m\u001b[0;34m:\u001b[0m\u001b[0;34m\u001b[0m\u001b[0m\n\u001b[1;32m   1285\u001b[0m                 raise TypeError('Could not compare {typ} type with Series'\n",
      "\u001b[0;32m~/.pyenv/versions/3.6.0/envs/govuk-network/lib/python3.6/site-packages/pandas/core/ops.py\u001b[0m in \u001b[0;36mna_op\u001b[0;34m(x, y)\u001b[0m\n\u001b[1;32m   1141\u001b[0m \u001b[0;34m\u001b[0m\u001b[0m\n\u001b[1;32m   1142\u001b[0m         \u001b[0;32melif\u001b[0m \u001b[0mis_object_dtype\u001b[0m\u001b[0;34m(\u001b[0m\u001b[0mx\u001b[0m\u001b[0;34m.\u001b[0m\u001b[0mdtype\u001b[0m\u001b[0;34m)\u001b[0m\u001b[0;34m:\u001b[0m\u001b[0;34m\u001b[0m\u001b[0m\n\u001b[0;32m-> 1143\u001b[0;31m             \u001b[0mresult\u001b[0m \u001b[0;34m=\u001b[0m \u001b[0m_comp_method_OBJECT_ARRAY\u001b[0m\u001b[0;34m(\u001b[0m\u001b[0mop\u001b[0m\u001b[0;34m,\u001b[0m \u001b[0mx\u001b[0m\u001b[0;34m,\u001b[0m \u001b[0my\u001b[0m\u001b[0;34m)\u001b[0m\u001b[0;34m\u001b[0m\u001b[0m\n\u001b[0m\u001b[1;32m   1144\u001b[0m \u001b[0;34m\u001b[0m\u001b[0m\n\u001b[1;32m   1145\u001b[0m         \u001b[0;32melif\u001b[0m \u001b[0mis_datetimelike_v_numeric\u001b[0m\u001b[0;34m(\u001b[0m\u001b[0mx\u001b[0m\u001b[0;34m,\u001b[0m \u001b[0my\u001b[0m\u001b[0;34m)\u001b[0m\u001b[0;34m:\u001b[0m\u001b[0;34m\u001b[0m\u001b[0m\n",
      "\u001b[0;32m~/.pyenv/versions/3.6.0/envs/govuk-network/lib/python3.6/site-packages/pandas/core/ops.py\u001b[0m in \u001b[0;36m_comp_method_OBJECT_ARRAY\u001b[0;34m(op, x, y)\u001b[0m\n\u001b[1;32m   1120\u001b[0m         \u001b[0mresult\u001b[0m \u001b[0;34m=\u001b[0m \u001b[0mlibops\u001b[0m\u001b[0;34m.\u001b[0m\u001b[0mvec_compare\u001b[0m\u001b[0;34m(\u001b[0m\u001b[0mx\u001b[0m\u001b[0;34m,\u001b[0m \u001b[0my\u001b[0m\u001b[0;34m,\u001b[0m \u001b[0mop\u001b[0m\u001b[0;34m)\u001b[0m\u001b[0;34m\u001b[0m\u001b[0m\n\u001b[1;32m   1121\u001b[0m     \u001b[0;32melse\u001b[0m\u001b[0;34m:\u001b[0m\u001b[0;34m\u001b[0m\u001b[0m\n\u001b[0;32m-> 1122\u001b[0;31m         \u001b[0mresult\u001b[0m \u001b[0;34m=\u001b[0m \u001b[0mlibops\u001b[0m\u001b[0;34m.\u001b[0m\u001b[0mscalar_compare\u001b[0m\u001b[0;34m(\u001b[0m\u001b[0mx\u001b[0m\u001b[0;34m,\u001b[0m \u001b[0my\u001b[0m\u001b[0;34m,\u001b[0m \u001b[0mop\u001b[0m\u001b[0;34m)\u001b[0m\u001b[0;34m\u001b[0m\u001b[0m\n\u001b[0m\u001b[1;32m   1123\u001b[0m     \u001b[0;32mreturn\u001b[0m \u001b[0mresult\u001b[0m\u001b[0;34m\u001b[0m\u001b[0m\n\u001b[1;32m   1124\u001b[0m \u001b[0;34m\u001b[0m\u001b[0m\n",
      "\u001b[0;32mpandas/_libs/ops.pyx\u001b[0m in \u001b[0;36mpandas._libs.ops.scalar_compare\u001b[0;34m()\u001b[0m\n",
      "\u001b[0;31mTypeError\u001b[0m: '>' not supported between instances of 'str' and 'int'"
     ]
    }
   ],
   "source": [
    "longerthan10 = journeys[journeys['page_seq_len']>10]"
   ]
  },
  {
   "cell_type": "code",
   "execution_count": 213,
   "metadata": {},
   "outputs": [
    {
     "data": {
      "text/plain": [
       "Text(0, 0.5, 'Number of journeys')"
      ]
     },
     "execution_count": 213,
     "metadata": {},
     "output_type": "execute_result"
    },
    {
     "data": {
      "image/png": "[encoded data removed]",
      "text/plain": [
       "<Figure size 432x288 with 1 Axes>"
      ]
     },
     "metadata": {
      "needs_background": "light"
     },
     "output_type": "display_data"
    }
   ],
   "source": [
    "ax = longerthan10[longerthan10['contains_search_regex']==1].count_search.hist(bins=9, grid=False)\n",
    "ax.set_xlabel(\"Number of times search used in journey\")\n",
    "ax.set_ylabel(\"Number of journeys\")"
   ]
  },
  {
   "cell_type": "code",
   "execution_count": 73,
   "metadata": {},
   "outputs": [
    {
     "data": {
      "text/plain": [
       "count    17.000000\n",
       "mean      4.235294\n",
       "std       2.305684\n",
       "min       1.000000\n",
       "25%       3.000000\n",
       "50%       4.000000\n",
       "75%       4.000000\n",
       "max       9.000000\n",
       "Name: count_search, dtype: float64"
      ]
     },
     "execution_count": 73,
     "metadata": {},
     "output_type": "execute_result"
    }
   ],
   "source": [
    "longerthan10[longerthan10['contains_search_regex']==1].count_search.describe()"
   ]
  },
  {
   "cell_type": "code",
   "execution_count": 74,
   "metadata": {},
   "outputs": [
    {
     "data": {
      "text/plain": [
       "(17, 26)"
      ]
     },
     "execution_count": 74,
     "metadata": {},
     "output_type": "execute_result"
    }
   ],
   "source": [
    "longerthan10[longerthan10['contains_search_regex']==1].shape"
   ]
  },
  {
   "cell_type": "code",
   "execution_count": 75,
   "metadata": {},
   "outputs": [
    {
     "data": {
      "text/plain": [
       "(1080, 26)"
      ]
     },
     "execution_count": 75,
     "metadata": {},
     "output_type": "execute_result"
    }
   ],
   "source": [
    "longerthan10.shape"
   ]
  },
  {
   "cell_type": "markdown",
   "metadata": {},
   "source": [
    "### End page"
   ]
  },
  {
   "cell_type": "code",
   "execution_count": 76,
   "metadata": {},
   "outputs": [],
   "source": [
    "def get_end_page(Page_List):          \n",
    "    return pd.eval(Page_List)[-1]\n",
    "\n",
    "journeys['final_page'] = journeys['Page_List'].map(get_end_page)"
   ]
  },
  {
   "cell_type": "code",
   "execution_count": 77,
   "metadata": {},
   "outputs": [
    {
     "data": {
      "text/plain": [
       "37749"
      ]
     },
     "execution_count": 77,
     "metadata": {},
     "output_type": "execute_result"
    }
   ],
   "source": [
    "journeys['final_page'].nunique()"
   ]
  },
  {
   "cell_type": "code",
   "execution_count": 78,
   "metadata": {},
   "outputs": [
    {
     "data": {
      "text/plain": [
       "(344457, 26)"
      ]
     },
     "execution_count": 78,
     "metadata": {},
     "output_type": "execute_result"
    }
   ],
   "source": [
    "journeys.shape"
   ]
  },
  {
   "cell_type": "markdown",
   "metadata": {},
   "source": [
    "#### most frequent end pages"
   ]
  },
  {
   "cell_type": "code",
   "execution_count": 79,
   "metadata": {},
   "outputs": [
    {
     "data": {
      "text/plain": [
       "count     37749.000000\n",
       "mean         50.373599\n",
       "std        1094.471563\n",
       "min           1.000000\n",
       "25%           2.000000\n",
       "50%           3.000000\n",
       "75%           9.000000\n",
       "max      125106.000000\n",
       "dtype: float64"
      ]
     },
     "execution_count": 79,
     "metadata": {},
     "output_type": "execute_result"
    }
   ],
   "source": [
    "journey_expanded.groupby('final_page').size().describe()"
   ]
  },
  {
   "cell_type": "code",
   "execution_count": 80,
   "metadata": {},
   "outputs": [
    {
     "data": {
      "text/plain": [
       "final_page\n",
       "/log-in-register-hmrc-online-services                                                                                 125106\n",
       "/check-mot-status                                                                                                      90713\n",
       "/jobsearch                                                                                                             69823\n",
       "/vehicle-tax                                                                                                           65423\n",
       "/check-mot-history                                                                                                     55334\n",
       "/national-minimum-wage-rates                                                                                           45749\n",
       "/sign-in-universal-credit                                                                                              40401\n",
       "/view-driving-licence                                                                                                  28758\n",
       "/government/organisations/companies-house                                                                              19211\n",
       "/pay-dartford-crossing-charge                                                                                          18152\n",
       "/get-information-about-a-company                                                                                       14533\n",
       "/government/organisations/charity-commission                                                                           13913\n",
       "/personal-tax-account/sign-in/prove-identity                                                                           13296\n",
       "/make-a-sorn                                                                                                           13192\n",
       "/check-vehicle-tax                                                                                                     13167\n",
       "/tax-credits-calculator                                                                                                12762\n",
       "/register-to-vote                                                                                                      10821\n",
       "/book-driving-test                                                                                                     10184\n",
       "/                                                                                                                       9818\n",
       "/sign-in-childcare-account                                                                                              9782\n",
       "/prison-visits                                                                                                          9578\n",
       "/change-driving-test                                                                                                    9344\n",
       "/done/vehicle-tax                                                                                                       9100\n",
       "/government/organisations/department-for-environment-food-rural-affairs                                                 9047\n",
       "/when-do-the-clocks-change                                                                                              9027\n",
       "/personalised-vehicle-registration-numbers/keep-or-assign                                                               8892\n",
       "/apply-online-to-replace-a-driving-licence                                                                              8824\n",
       "/apply-renew-passport                                                                                                   8769\n",
       "/apply-blue-badge                                                                                                       8654\n",
       "/tax-codes                                                                                                              8246\n",
       "/book-theory-test                                                                                                       8025\n",
       "/government/publications/budget-2018-documents/budget-2018                                                              7672\n",
       "/manage-your-tax-credits                                                                                                7344\n",
       "/get-vehicle-information-from-dvla                                                                                      6824\n",
       "/government/organisations/hm-revenue-customs/contact/income-tax-enquiries-for-individuals-pensioners-and-employees      6463\n",
       "/school-performance-tables                                                                                              6391\n",
       "/order-copy-birth-death-marriage-certificate                                                                            6364\n",
       "/apply-uk-visa                                                                                                          6330\n",
       "/stamp-duty-land-tax/residential-property-rates                                                                         5630\n",
       "/mot-reminder                                                                                                           5585\n",
       "/change-name-address-v5c                                                                                                5425\n",
       "/child-car-seats-the-rules                                                                                              5372\n",
       "/sold-bought-vehicle/y/no/sold-it/sold-it-to-a-motor-trader                                                             5114\n",
       "/search-for-trademark                                                                                                   4985\n",
       "/search-property-information-land-registry                                                                              4979\n",
       "/childcare-calculator                                                                                                   4627\n",
       "/call-charges                                                                                                           4594\n",
       "/change-address-driving-licence                                                                                         4577\n",
       "/sold-bought-vehicle/y/yes/sold-a-vehicle-out-of-the-trade                                                              4489\n",
       "/guidance/universal-credit-advances                                                                                     4468\n",
       "dtype: int64"
      ]
     },
     "execution_count": 80,
     "metadata": {},
     "output_type": "execute_result"
    }
   ],
   "source": [
    "journey_expanded.groupby('final_page').size().sort_values(ascending=False).iloc[0:50]"
   ]
  },
  {
   "cell_type": "markdown",
   "metadata": {},
   "source": [
    "#### Most number of 'ways' of getting there"
   ]
  },
  {
   "cell_type": "code",
   "execution_count": 81,
   "metadata": {},
   "outputs": [
    {
     "name": "stdout",
     "output_type": "stream",
     "text": [
      "On average there are 9.124930461734087 journeys per exit page; ways of getting there\n"
     ]
    }
   ],
   "source": [
    "print(\"On average there are {} journeys per exit page; ways of getting there\".format(journeys.shape[0]/journeys['final_page'].nunique()))"
   ]
  },
  {
   "cell_type": "code",
   "execution_count": 82,
   "metadata": {},
   "outputs": [],
   "source": [
    "unique_page_sequences = journeys.drop_duplicates('Page_Seq_NL')"
   ]
  },
  {
   "cell_type": "code",
   "execution_count": 83,
   "metadata": {},
   "outputs": [
    {
     "data": {
      "text/plain": [
       "count    37749.000000\n",
       "mean         3.043763\n",
       "std         16.324904\n",
       "min          1.000000\n",
       "25%          1.000000\n",
       "50%          1.000000\n",
       "75%          2.000000\n",
       "max       1179.000000\n",
       "dtype: float64"
      ]
     },
     "execution_count": 83,
     "metadata": {},
     "output_type": "execute_result"
    }
   ],
   "source": [
    "unique_page_sequences.groupby('final_page').size().describe()"
   ]
  },
  {
   "cell_type": "code",
   "execution_count": 84,
   "metadata": {},
   "outputs": [
    {
     "data": {
      "text/html": [
       "<div>\n",
       "<style scoped>\n",
       "    .dataframe tbody tr th:only-of-type {\n",
       "        vertical-align: middle;\n",
       "    }\n",
       "\n",
       "    .dataframe tbody tr th {\n",
       "        vertical-align: top;\n",
       "    }\n",
       "\n",
       "    .dataframe thead th {\n",
       "        text-align: right;\n",
       "    }\n",
       "</style>\n",
       "<table border=\"1\" class=\"dataframe\">\n",
       "  <thead>\n",
       "    <tr style=\"text-align: right;\">\n",
       "      <th></th>\n",
       "      <th>Sequence</th>\n",
       "      <th>PageSequence</th>\n",
       "      <th>Occurrences</th>\n",
       "      <th>Page_Seq_Occurrences</th>\n",
       "      <th>DeviceCategories</th>\n",
       "      <th>Dates</th>\n",
       "      <th>Page_Event_List</th>\n",
       "      <th>Page_List</th>\n",
       "      <th>PageSequence_internal</th>\n",
       "      <th>Event_List</th>\n",
       "      <th>...</th>\n",
       "      <th>page_list_eval</th>\n",
       "      <th>page_seq_len</th>\n",
       "      <th>count_search</th>\n",
       "      <th>contains_search_regex</th>\n",
       "      <th>contains_search_n</th>\n",
       "      <th>final_page</th>\n",
       "      <th>desktop</th>\n",
       "      <th>mobile</th>\n",
       "      <th>other_device</th>\n",
       "      <th>more_desktop</th>\n",
       "    </tr>\n",
       "  </thead>\n",
       "  <tbody>\n",
       "    <tr>\n",
       "      <th>1716338</th>\n",
       "      <td>/vehicle-tax&lt;&lt;PAGE&lt;:&lt;NULL&lt;:&lt;NULL&gt;&gt;/vehicle-tax&lt;&lt;EVENT&lt;:&lt;NULL&lt;:&lt;NULL&gt;&gt;/vehicle-tax&lt;&lt;PAGE&lt;:&lt;NULL&lt;:&lt;NULL&gt;&gt;/vehicle-tax&lt;&lt;EVENT&lt;:&lt;NULL&lt;:&lt;NULL&gt;&gt;/vehicle-tax&lt;&lt;EVENT&lt;:&lt;External Link Clicked&lt;:&lt;https://www.vehicletax.service.gov.uk&gt;&gt;/vehicle-tax&lt;&lt;PAGE&lt;:&lt;NULL&lt;:&lt;NULL&gt;&gt;/vehicle-tax&lt;&lt;EVENT&lt;:&lt;NULL&lt;:&lt;NULL&gt;&gt;/vehicle-tax&lt;&lt;EVENT&lt;:&lt;External Link Clicked&lt;:&lt;https://www.vehicletax.service.gov.uk</td>\n",
       "      <td>/vehicle-tax&gt;&gt;/vehicle-tax&gt;&gt;/vehicle-tax</td>\n",
       "      <td>1</td>\n",
       "      <td>12793.0</td>\n",
       "      <td>[('desktop', 1)]</td>\n",
       "      <td>[('20181102', 1)]</td>\n",
       "      <td>[('/vehicle-tax', 'PAGE&lt;:&lt;NULL&lt;:&lt;NULL'), ('/vehicle-tax', 'EVENT&lt;:&lt;NULL&lt;:&lt;NULL'), ('/vehicle-tax', 'PAGE&lt;:&lt;NULL&lt;:&lt;NULL'), ('/vehicle-tax', 'EVENT&lt;:&lt;NULL&lt;:&lt;NULL'), ('/vehicle-tax', 'EVENT&lt;:&lt;External Link Clicked&lt;:&lt;https://www.vehicletax.service.gov.uk'), ('/vehicle-tax', 'PAGE&lt;:&lt;NULL&lt;:&lt;NULL'), ('/vehicle-tax', 'EVENT&lt;:&lt;NULL&lt;:&lt;NULL'), ('/vehicle-tax', 'EVENT&lt;:&lt;External Link Clicked&lt;:&lt;https://www.vehicletax.service.gov.uk')]</td>\n",
       "      <td>['/vehicle-tax', '/vehicle-tax', '/vehicle-tax']</td>\n",
       "      <td>/vehicle-tax&gt;&gt;/vehicle-tax&gt;&gt;/vehicle-tax</td>\n",
       "      <td>[('PAGE_NULL', 'PAGE_NULL'), ('EVENT_NULL', 'EVENT_NULL'), ('PAGE_NULL', 'PAGE_NULL'), ('EVENT_NULL', 'EVENT_NULL'), ('External Link Clicked', 'https://www.vehicletax.service.gov.uk'), ('PAGE_NULL', 'PAGE_NULL'), ('EVENT_NULL', 'EVENT_NULL'), ('External Link Clicked', 'https://www.vehicletax.service.gov.uk')]</td>\n",
       "      <td>...</td>\n",
       "      <td>[/vehicle-tax, /vehicle-tax, /vehicle-tax]</td>\n",
       "      <td>3</td>\n",
       "      <td>0</td>\n",
       "      <td>0</td>\n",
       "      <td>0.0</td>\n",
       "      <td>/vehicle-tax</td>\n",
       "      <td>1</td>\n",
       "      <td>0</td>\n",
       "      <td>0</td>\n",
       "      <td>1</td>\n",
       "    </tr>\n",
       "    <tr>\n",
       "      <th>847536</th>\n",
       "      <td>/financial-help-disabled/vehicles-and-transport&lt;&lt;PAGE&lt;:&lt;NULL&lt;:&lt;NULL&gt;&gt;/vehicle-tax&lt;&lt;PAGE&lt;:&lt;NULL&lt;:&lt;NULL&gt;&gt;/vehicle-tax&lt;&lt;EVENT&lt;:&lt;External Link Clicked&lt;:&lt;http://www.postoffice.co.uk/branch-finder&gt;&gt;/vehicle-tax&lt;&lt;PAGE&lt;:&lt;NULL&lt;:&lt;NULL</td>\n",
       "      <td>/financial-help-disabled/vehicles-and-transport&gt;&gt;/vehicle-tax&gt;&gt;/vehicle-tax</td>\n",
       "      <td>1</td>\n",
       "      <td>4.0</td>\n",
       "      <td>[('mobile', 1)]</td>\n",
       "      <td>[('20181029', 1)]</td>\n",
       "      <td>[('/financial-help-disabled/vehicles-and-transport', 'PAGE&lt;:&lt;NULL&lt;:&lt;NULL'), ('/vehicle-tax', 'PAGE&lt;:&lt;NULL&lt;:&lt;NULL'), ('/vehicle-tax', 'EVENT&lt;:&lt;External Link Clicked&lt;:&lt;http://www.postoffice.co.uk/branch-finder'), ('/vehicle-tax', 'PAGE&lt;:&lt;NULL&lt;:&lt;NULL')]</td>\n",
       "      <td>['/financial-help-disabled/vehicles-and-transport', '/vehicle-tax', '/vehicle-tax']</td>\n",
       "      <td>/financial-help-disabled/vehicles-and-transport&gt;&gt;/vehicle-tax&gt;&gt;/vehicle-tax</td>\n",
       "      <td>[('PAGE_NULL', 'PAGE_NULL'), ('PAGE_NULL', 'PAGE_NULL'), ('External Link Clicked', 'http://www.postoffice.co.uk/branch-finder'), ('PAGE_NULL', 'PAGE_NULL')]</td>\n",
       "      <td>...</td>\n",
       "      <td>[/financial-help-disabled/vehicles-and-transport, /vehicle-tax, /vehicle-tax]</td>\n",
       "      <td>3</td>\n",
       "      <td>0</td>\n",
       "      <td>0</td>\n",
       "      <td>0.0</td>\n",
       "      <td>/vehicle-tax</td>\n",
       "      <td>0</td>\n",
       "      <td>1</td>\n",
       "      <td>0</td>\n",
       "      <td>0</td>\n",
       "    </tr>\n",
       "    <tr>\n",
       "      <th>156517</th>\n",
       "      <td>/car-tax-disc-without-v11-reminder&lt;&lt;PAGE&lt;:&lt;NULL&lt;:&lt;NULL&gt;&gt;/car-tax-disc-without-v11-reminder&lt;&lt;EVENT&lt;:&lt;breadcrumbClicked&lt;:&lt;1&gt;&gt;/&lt;&lt;PAGE&lt;:&lt;NULL&lt;:&lt;NULL&gt;&gt;/vehicle-tax&lt;&lt;PAGE&lt;:&lt;NULL&lt;:&lt;NULL</td>\n",
       "      <td>/car-tax-disc-without-v11-reminder&gt;&gt;/&gt;&gt;/vehicle-tax</td>\n",
       "      <td>1</td>\n",
       "      <td>22.0</td>\n",
       "      <td>[('mobile', 1)]</td>\n",
       "      <td>[('20181031', 1)]</td>\n",
       "      <td>[('/car-tax-disc-without-v11-reminder', 'PAGE&lt;:&lt;NULL&lt;:&lt;NULL'), ('/car-tax-disc-without-v11-reminder', 'EVENT&lt;:&lt;breadcrumbClicked&lt;:&lt;1'), ('/', 'PAGE&lt;:&lt;NULL&lt;:&lt;NULL'), ('/vehicle-tax', 'PAGE&lt;:&lt;NULL&lt;:&lt;NULL')]</td>\n",
       "      <td>['/car-tax-disc-without-v11-reminder', '/', '/vehicle-tax']</td>\n",
       "      <td>/car-tax-disc-without-v11-reminder&gt;&gt;/&gt;&gt;/vehicle-tax</td>\n",
       "      <td>[('PAGE_NULL', 'PAGE_NULL'), ('breadcrumbClicked', '1'), ('PAGE_NULL', 'PAGE_NULL'), ('PAGE_NULL', 'PAGE_NULL')]</td>\n",
       "      <td>...</td>\n",
       "      <td>[/car-tax-disc-without-v11-reminder, /, /vehicle-tax]</td>\n",
       "      <td>3</td>\n",
       "      <td>0</td>\n",
       "      <td>0</td>\n",
       "      <td>0.0</td>\n",
       "      <td>/vehicle-tax</td>\n",
       "      <td>0</td>\n",
       "      <td>1</td>\n",
       "      <td>0</td>\n",
       "      <td>0</td>\n",
       "    </tr>\n",
       "    <tr>\n",
       "      <th>480601</th>\n",
       "      <td>/government/publications/v890-statutory-off-road-notification-sorn&lt;&lt;EVENT&lt;:&lt;user_satisfaction_survey&lt;:&lt;banner_shown&gt;&gt;/government/publications/v890-statutory-off-road-notification-sorn&lt;&lt;PAGE&lt;:&lt;NULL&lt;:&lt;NULL&gt;&gt;/make-a-sorn&lt;&lt;PAGE&lt;:&lt;NULL&lt;:&lt;NULL&gt;&gt;/make-a-sorn&lt;&lt;EVENT&lt;:&lt;External Link Clicked&lt;:&lt;https://www.sorn.service.gov.uk&gt;&gt;/vehicle-tax&lt;&lt;PAGE&lt;:&lt;NULL&lt;:&lt;NULL&gt;&gt;/vehicle-tax&lt;&lt;EVENT&lt;:&lt;External Link Clicked&lt;:&lt;https://www.vehicletax.service.gov.uk</td>\n",
       "      <td>/government/publications/v890-statutory-off-road-notification-sorn&gt;&gt;/make-a-sorn&gt;&gt;/vehicle-tax</td>\n",
       "      <td>1</td>\n",
       "      <td>4.0</td>\n",
       "      <td>[('desktop', 1)]</td>\n",
       "      <td>[('20181031', 1)]</td>\n",
       "      <td>[('/government/publications/v890-statutory-off-road-notification-sorn', 'EVENT&lt;:&lt;user_satisfaction_survey&lt;:&lt;banner_shown'), ('/government/publications/v890-statutory-off-road-notification-sorn', 'PAGE&lt;:&lt;NULL&lt;:&lt;NULL'), ('/make-a-sorn', 'PAGE&lt;:&lt;NULL&lt;:&lt;NULL'), ('/make-a-sorn', 'EVENT&lt;:&lt;External Link Clicked&lt;:&lt;https://www.sorn.service.gov.uk'), ('/vehicle-tax', 'PAGE&lt;:&lt;NULL&lt;:&lt;NULL'), ('/vehicle-tax', 'EVENT&lt;:&lt;External Link Clicked&lt;:&lt;https://www.vehicletax.service.gov.uk')]</td>\n",
       "      <td>['/government/publications/v890-statutory-off-road-notification-sorn', '/make-a-sorn', '/vehicle-tax']</td>\n",
       "      <td>/government/publications/v890-statutory-off-road-notification-sorn&gt;&gt;/make-a-sorn&gt;&gt;/vehicle-tax</td>\n",
       "      <td>[('user_satisfaction_survey', 'banner_shown'), ('PAGE_NULL', 'PAGE_NULL'), ('PAGE_NULL', 'PAGE_NULL'), ('External Link Clicked', 'https://www.sorn.service.gov.uk'), ('PAGE_NULL', 'PAGE_NULL'), ('External Link Clicked', 'https://www.vehicletax.service.gov.uk')]</td>\n",
       "      <td>...</td>\n",
       "      <td>[/government/publications/v890-statutory-off-road-notification-sorn, /make-a-sorn, /vehicle-tax]</td>\n",
       "      <td>3</td>\n",
       "      <td>0</td>\n",
       "      <td>0</td>\n",
       "      <td>0.0</td>\n",
       "      <td>/vehicle-tax</td>\n",
       "      <td>1</td>\n",
       "      <td>0</td>\n",
       "      <td>0</td>\n",
       "      <td>1</td>\n",
       "    </tr>\n",
       "    <tr>\n",
       "      <th>477002</th>\n",
       "      <td>/government/news/vehicle-tax-changes&lt;&lt;EVENT&lt;:&lt;user_satisfaction_survey&lt;:&lt;banner_shown&gt;&gt;/government/news/vehicle-tax-changes&lt;&lt;PAGE&lt;:&lt;NULL&lt;:&lt;NULL&gt;&gt;/vehicle-tax&lt;&lt;PAGE&lt;:&lt;NULL&lt;:&lt;NULL&gt;&gt;/vehicle-tax&lt;&lt;EVENT&lt;:&lt;External Link Clicked&lt;:&lt;https://www.vehicletax.service.gov.uk</td>\n",
       "      <td>/government/news/vehicle-tax-changes&gt;&gt;/vehicle-tax</td>\n",
       "      <td>2</td>\n",
       "      <td>48.0</td>\n",
       "      <td>[('desktop', 2)]</td>\n",
       "      <td>[('20181031', 1), ('20181029', 1)]</td>\n",
       "      <td>[('/government/news/vehicle-tax-changes', 'EVENT&lt;:&lt;user_satisfaction_survey&lt;:&lt;banner_shown'), ('/government/news/vehicle-tax-changes', 'PAGE&lt;:&lt;NULL&lt;:&lt;NULL'), ('/vehicle-tax', 'PAGE&lt;:&lt;NULL&lt;:&lt;NULL'), ('/vehicle-tax', 'EVENT&lt;:&lt;External Link Clicked&lt;:&lt;https://www.vehicletax.service.gov.uk')]</td>\n",
       "      <td>['/government/news/vehicle-tax-changes', '/vehicle-tax']</td>\n",
       "      <td>/government/news/vehicle-tax-changes&gt;&gt;/vehicle-tax</td>\n",
       "      <td>[('user_satisfaction_survey', 'banner_shown'), ('PAGE_NULL', 'PAGE_NULL'), ('PAGE_NULL', 'PAGE_NULL'), ('External Link Clicked', 'https://www.vehicletax.service.gov.uk')]</td>\n",
       "      <td>...</td>\n",
       "      <td>[/government/news/vehicle-tax-changes, /vehicle-tax]</td>\n",
       "      <td>2</td>\n",
       "      <td>0</td>\n",
       "      <td>0</td>\n",
       "      <td>0.0</td>\n",
       "      <td>/vehicle-tax</td>\n",
       "      <td>2</td>\n",
       "      <td>0</td>\n",
       "      <td>0</td>\n",
       "      <td>1</td>\n",
       "    </tr>\n",
       "  </tbody>\n",
       "</table>\n",
       "<p>5 rows × 26 columns</p>\n",
       "</div>"
      ],
      "text/plain": [
       "                                                                                                                                                                                                                                                                                                                                                                                                                                                    Sequence  \\\n",
       "1716338  /vehicle-tax<<PAGE<:<NULL<:<NULL>>/vehicle-tax<<EVENT<:<NULL<:<NULL>>/vehicle-tax<<PAGE<:<NULL<:<NULL>>/vehicle-tax<<EVENT<:<NULL<:<NULL>>/vehicle-tax<<EVENT<:<External Link Clicked<:<https://www.vehicletax.service.gov.uk>>/vehicle-tax<<PAGE<:<NULL<:<NULL>>/vehicle-tax<<EVENT<:<NULL<:<NULL>>/vehicle-tax<<EVENT<:<External Link Clicked<:<https://www.vehicletax.service.gov.uk                                                               \n",
       "847536   /financial-help-disabled/vehicles-and-transport<<PAGE<:<NULL<:<NULL>>/vehicle-tax<<PAGE<:<NULL<:<NULL>>/vehicle-tax<<EVENT<:<External Link Clicked<:<http://www.postoffice.co.uk/branch-finder>>/vehicle-tax<<PAGE<:<NULL<:<NULL                                                                                                                                                                                                                      \n",
       "156517   /car-tax-disc-without-v11-reminder<<PAGE<:<NULL<:<NULL>>/car-tax-disc-without-v11-reminder<<EVENT<:<breadcrumbClicked<:<1>>/<<PAGE<:<NULL<:<NULL>>/vehicle-tax<<PAGE<:<NULL<:<NULL                                                                                                                                                                                                                                                                    \n",
       "480601   /government/publications/v890-statutory-off-road-notification-sorn<<EVENT<:<user_satisfaction_survey<:<banner_shown>>/government/publications/v890-statutory-off-road-notification-sorn<<PAGE<:<NULL<:<NULL>>/make-a-sorn<<PAGE<:<NULL<:<NULL>>/make-a-sorn<<EVENT<:<External Link Clicked<:<https://www.sorn.service.gov.uk>>/vehicle-tax<<PAGE<:<NULL<:<NULL>>/vehicle-tax<<EVENT<:<External Link Clicked<:<https://www.vehicletax.service.gov.uk   \n",
       "477002   /government/news/vehicle-tax-changes<<EVENT<:<user_satisfaction_survey<:<banner_shown>>/government/news/vehicle-tax-changes<<PAGE<:<NULL<:<NULL>>/vehicle-tax<<PAGE<:<NULL<:<NULL>>/vehicle-tax<<EVENT<:<External Link Clicked<:<https://www.vehicletax.service.gov.uk                                                                                                                                                                                \n",
       "\n",
       "                                                                                           PageSequence  \\\n",
       "1716338  /vehicle-tax>>/vehicle-tax>>/vehicle-tax                                                         \n",
       "847536   /financial-help-disabled/vehicles-and-transport>>/vehicle-tax>>/vehicle-tax                      \n",
       "156517   /car-tax-disc-without-v11-reminder>>/>>/vehicle-tax                                              \n",
       "480601   /government/publications/v890-statutory-off-road-notification-sorn>>/make-a-sorn>>/vehicle-tax   \n",
       "477002   /government/news/vehicle-tax-changes>>/vehicle-tax                                               \n",
       "\n",
       "         Occurrences  Page_Seq_Occurrences  DeviceCategories  \\\n",
       "1716338  1            12793.0               [('desktop', 1)]   \n",
       "847536   1            4.0                   [('mobile', 1)]    \n",
       "156517   1            22.0                  [('mobile', 1)]    \n",
       "480601   1            4.0                   [('desktop', 1)]   \n",
       "477002   2            48.0                  [('desktop', 2)]   \n",
       "\n",
       "                                      Dates  \\\n",
       "1716338  [('20181102', 1)]                    \n",
       "847536   [('20181029', 1)]                    \n",
       "156517   [('20181031', 1)]                    \n",
       "480601   [('20181031', 1)]                    \n",
       "477002   [('20181031', 1), ('20181029', 1)]   \n",
       "\n",
       "                                                                                                                                                                                                                                                                                                                                                                                                                                                                                   Page_Event_List  \\\n",
       "1716338  [('/vehicle-tax', 'PAGE<:<NULL<:<NULL'), ('/vehicle-tax', 'EVENT<:<NULL<:<NULL'), ('/vehicle-tax', 'PAGE<:<NULL<:<NULL'), ('/vehicle-tax', 'EVENT<:<NULL<:<NULL'), ('/vehicle-tax', 'EVENT<:<External Link Clicked<:<https://www.vehicletax.service.gov.uk'), ('/vehicle-tax', 'PAGE<:<NULL<:<NULL'), ('/vehicle-tax', 'EVENT<:<NULL<:<NULL'), ('/vehicle-tax', 'EVENT<:<External Link Clicked<:<https://www.vehicletax.service.gov.uk')]                                                   \n",
       "847536   [('/financial-help-disabled/vehicles-and-transport', 'PAGE<:<NULL<:<NULL'), ('/vehicle-tax', 'PAGE<:<NULL<:<NULL'), ('/vehicle-tax', 'EVENT<:<External Link Clicked<:<http://www.postoffice.co.uk/branch-finder'), ('/vehicle-tax', 'PAGE<:<NULL<:<NULL')]                                                                                                                                                                                                                                  \n",
       "156517   [('/car-tax-disc-without-v11-reminder', 'PAGE<:<NULL<:<NULL'), ('/car-tax-disc-without-v11-reminder', 'EVENT<:<breadcrumbClicked<:<1'), ('/', 'PAGE<:<NULL<:<NULL'), ('/vehicle-tax', 'PAGE<:<NULL<:<NULL')]                                                                                                                                                                                                                                                                                \n",
       "480601   [('/government/publications/v890-statutory-off-road-notification-sorn', 'EVENT<:<user_satisfaction_survey<:<banner_shown'), ('/government/publications/v890-statutory-off-road-notification-sorn', 'PAGE<:<NULL<:<NULL'), ('/make-a-sorn', 'PAGE<:<NULL<:<NULL'), ('/make-a-sorn', 'EVENT<:<External Link Clicked<:<https://www.sorn.service.gov.uk'), ('/vehicle-tax', 'PAGE<:<NULL<:<NULL'), ('/vehicle-tax', 'EVENT<:<External Link Clicked<:<https://www.vehicletax.service.gov.uk')]   \n",
       "477002   [('/government/news/vehicle-tax-changes', 'EVENT<:<user_satisfaction_survey<:<banner_shown'), ('/government/news/vehicle-tax-changes', 'PAGE<:<NULL<:<NULL'), ('/vehicle-tax', 'PAGE<:<NULL<:<NULL'), ('/vehicle-tax', 'EVENT<:<External Link Clicked<:<https://www.vehicletax.service.gov.uk')]                                                                                                                                                                                            \n",
       "\n",
       "                                                                                                      Page_List  \\\n",
       "1716338  ['/vehicle-tax', '/vehicle-tax', '/vehicle-tax']                                                         \n",
       "847536   ['/financial-help-disabled/vehicles-and-transport', '/vehicle-tax', '/vehicle-tax']                      \n",
       "156517   ['/car-tax-disc-without-v11-reminder', '/', '/vehicle-tax']                                              \n",
       "480601   ['/government/publications/v890-statutory-off-road-notification-sorn', '/make-a-sorn', '/vehicle-tax']   \n",
       "477002   ['/government/news/vehicle-tax-changes', '/vehicle-tax']                                                 \n",
       "\n",
       "                                                                                  PageSequence_internal  \\\n",
       "1716338  /vehicle-tax>>/vehicle-tax>>/vehicle-tax                                                         \n",
       "847536   /financial-help-disabled/vehicles-and-transport>>/vehicle-tax>>/vehicle-tax                      \n",
       "156517   /car-tax-disc-without-v11-reminder>>/>>/vehicle-tax                                              \n",
       "480601   /government/publications/v890-statutory-off-road-notification-sorn>>/make-a-sorn>>/vehicle-tax   \n",
       "477002   /government/news/vehicle-tax-changes>>/vehicle-tax                                               \n",
       "\n",
       "                                                                                                                                                                                                                                                                                                                     Event_List  \\\n",
       "1716338  [('PAGE_NULL', 'PAGE_NULL'), ('EVENT_NULL', 'EVENT_NULL'), ('PAGE_NULL', 'PAGE_NULL'), ('EVENT_NULL', 'EVENT_NULL'), ('External Link Clicked', 'https://www.vehicletax.service.gov.uk'), ('PAGE_NULL', 'PAGE_NULL'), ('EVENT_NULL', 'EVENT_NULL'), ('External Link Clicked', 'https://www.vehicletax.service.gov.uk')]   \n",
       "847536   [('PAGE_NULL', 'PAGE_NULL'), ('PAGE_NULL', 'PAGE_NULL'), ('External Link Clicked', 'http://www.postoffice.co.uk/branch-finder'), ('PAGE_NULL', 'PAGE_NULL')]                                                                                                                                                             \n",
       "156517   [('PAGE_NULL', 'PAGE_NULL'), ('breadcrumbClicked', '1'), ('PAGE_NULL', 'PAGE_NULL'), ('PAGE_NULL', 'PAGE_NULL')]                                                                                                                                                                                                         \n",
       "480601   [('user_satisfaction_survey', 'banner_shown'), ('PAGE_NULL', 'PAGE_NULL'), ('PAGE_NULL', 'PAGE_NULL'), ('External Link Clicked', 'https://www.sorn.service.gov.uk'), ('PAGE_NULL', 'PAGE_NULL'), ('External Link Clicked', 'https://www.vehicletax.service.gov.uk')]                                                     \n",
       "477002   [('user_satisfaction_survey', 'banner_shown'), ('PAGE_NULL', 'PAGE_NULL'), ('PAGE_NULL', 'PAGE_NULL'), ('External Link Clicked', 'https://www.vehicletax.service.gov.uk')]                                                                                                                                               \n",
       "\n",
       "             ...       \\\n",
       "1716338      ...        \n",
       "847536       ...        \n",
       "156517       ...        \n",
       "480601       ...        \n",
       "477002       ...        \n",
       "\n",
       "                                                                                           page_list_eval  \\\n",
       "1716338  [/vehicle-tax, /vehicle-tax, /vehicle-tax]                                                         \n",
       "847536   [/financial-help-disabled/vehicles-and-transport, /vehicle-tax, /vehicle-tax]                      \n",
       "156517   [/car-tax-disc-without-v11-reminder, /, /vehicle-tax]                                              \n",
       "480601   [/government/publications/v890-statutory-off-road-notification-sorn, /make-a-sorn, /vehicle-tax]   \n",
       "477002   [/government/news/vehicle-tax-changes, /vehicle-tax]                                               \n",
       "\n",
       "        page_seq_len count_search contains_search_regex contains_search_n  \\\n",
       "1716338  3            0            0                     0.0                \n",
       "847536   3            0            0                     0.0                \n",
       "156517   3            0            0                     0.0                \n",
       "480601   3            0            0                     0.0                \n",
       "477002   2            0            0                     0.0                \n",
       "\n",
       "           final_page desktop  mobile  other_device  more_desktop  \n",
       "1716338  /vehicle-tax  1       0       0             1             \n",
       "847536   /vehicle-tax  0       1       0             0             \n",
       "156517   /vehicle-tax  0       1       0             0             \n",
       "480601   /vehicle-tax  1       0       0             1             \n",
       "477002   /vehicle-tax  2       0       0             1             \n",
       "\n",
       "[5 rows x 26 columns]"
      ]
     },
     "execution_count": 84,
     "metadata": {},
     "output_type": "execute_result"
    }
   ],
   "source": [
    "pd.set_option('display.max_colwidth', -1)\n",
    "unique_page_sequences[unique_page_sequences['final_page']=='/vehicle-tax'].head()"
   ]
  },
  {
   "cell_type": "code",
   "execution_count": 196,
   "metadata": {},
   "outputs": [
    {
     "data": {
      "text/plain": [
       "final_page\n",
       "/change-name-address-v5c                                                                                     87\n",
       "/government/publications/national-insurance-get-your-national-insurance-number-in-writing-ca5403             87\n",
       "/done/vehicle-tax                                                                                            85\n",
       "/government/organisations/hm-revenue-customs/contact                                                         85\n",
       "/calculate-vehicle-tax-rates                                                                                 85\n",
       "/change-name-address-v5c?step-by-step-nav=c1f13d41-ed7f-44a3-be11-fd95525ddf40                               85\n",
       "/get-a-passport-urgently/1-week-fast-track-service                                                           85\n",
       "/file-changes-to-a-company-with-companies-house                                                              84\n",
       "/pay-self-assessment-tax-bill/by-debit-or-credit-card-online                                                 84\n",
       "/tell-hmrc-change-address                                                                                    84\n",
       "/the-warm-home-discount-scheme                                                                               83\n",
       "/universal-credit/what-youll-get                                                                             82\n",
       "/standard-visitor-visa/apply?step-by-step-nav=f49b3f00-d489-4726-b116-4157cfb6a183                           82\n",
       "/vehicle-tax-rate-tables                                                                                     82\n",
       "/renew-driving-licence-at-70                                                                                 82\n",
       "/contact-ukvi-inside-outside-uk/y/outside-the-uk/english                                                     82\n",
       "/government/organisations/driver-and-vehicle-licensing-agency                                                81\n",
       "/sold-bought-vehicle/y/no/scrapped-it-or-it-s-been-written-off                                               81\n",
       "/guidance/rates-and-thresholds-for-employers-2018-to-2019                                                    81\n",
       "/carers-allowance/how-to-claim                                                                               80\n",
       "/limited-company-formation/register-your-company                                                             80\n",
       "/the-warm-home-discount-scheme/energy-suppliers                                                              77\n",
       "/contact-hmrc                                                                                                77\n",
       "/government/organisations/charity-commission                                                                 76\n",
       "/check-state-pension                                                                                         73\n",
       "/get-a-passport-urgently/online-premium-service                                                              72\n",
       "/winter-fuel-payment                                                                                         72\n",
       "/claim-tax-refund                                                                                            72\n",
       "/vehicle-tax-rate-tables/rates-for-cars-registered-on-or-after-1-march-2001                                  71\n",
       "/check-income-tax-current-year/sign-in/create-account                                                        71\n",
       "/government/news/budget-2018-24-things-you-need-to-know                                                      71\n",
       "/contact-jobcentre-plus                                                                                      70\n",
       "/find-a-visa-application-centre                                                                              70\n",
       "/check-state-pension/sign-in/create-account                                                                  69\n",
       "/settled-status-eu-citizens-families/applying-for-settled-status                                             69\n",
       "/trade-tariff                                                                                                69\n",
       "/search-for-trademark                                                                                        67\n",
       "/cold-weather-payment                                                                                        67\n",
       "/browse/benefits                                                                                             66\n",
       "/childcare-calculator                                                                                        66\n",
       "/renew-adult-passport/renew                                                                                  66\n",
       "/self-assessment-tax-returns                                                                                 66\n",
       "/paye-online                                                                                                 66\n",
       "/government/publications/application-to-naturalise-as-a-british-citizen-form-an                              65\n",
       "/tell-hmrc-change-of-details                                                                                 65\n",
       "/pay-corporation-tax/bank-details                                                                            65\n",
       "/vehicle-tax-refund                                                                                          65\n",
       "/government/organisations/hm-revenue-customs/contact/vat-enquiries                                           64\n",
       "/visa-processing-times                                                                                       63\n",
       "/government/publications/rates-and-allowances-income-tax/income-tax-rates-and-allowances-current-and-past    63\n",
       "dtype: int64"
      ]
     },
     "execution_count": 196,
     "metadata": {},
     "output_type": "execute_result"
    }
   ],
   "source": [
    "unique_page_sequences.groupby('final_page').size().sort_values(ascending=False).iloc[100:150]"
   ]
  },
  {
   "cell_type": "code",
   "execution_count": 209,
   "metadata": {},
   "outputs": [],
   "source": [
    "journeys['final_page_type'] = 'other'\n",
    "journeys.loc[journeys['final_page'].str.contains('/government/publications/', 'final_page_type')] = 'government_publication'\n",
    "journeys.loc[journeys['final_page'].str.contains('log-in', 'final_page_type')] = 'login'\n",
    "journeys.loc[journeys['final_page'].str.contains('sign-in', 'final_page_type')] = 'login'\n",
    "journeys.loc[journeys['final_page'].str.contains('login', 'final_page_type')] = 'login'\n",
    "journeys.loc[journeys['final_page'].str.contains('check', 'final_page_type')] = 'check_a_thing'\n",
    "journeys.loc[journeys['final_page'].str.contains('apply', 'final_page_type')] = 'apply'\n",
    "journeys.loc[journeys['final_page'].str.contains('contact', 'final_page_type')] = 'contact/enquiries'\n",
    "journeys.loc[journeys['final_page'].str.contains('enquiries', 'final_page_type')] = 'contact/enquiries'\n",
    "journeys.loc[journeys['final_page'].str.contains(r'get-.*-information.*', 'final_page_type')] = 'get_information'\n",
    "journeys.loc[journeys['final_page'].str.contains('send', 'final_page_type')] = 'send'\n",
    "journeys.loc[journeys['final_page'].str.contains('find', 'final_page_type')] = 'find'\n",
    "journeys.loc[journeys['final_page'].str.contains('calculat', 'final_page_type')] = 'calculate/calculator'\n",
    "journeys.loc[journeys['final_page'].str.contains('order', 'final_page_type')] = 'order'\n",
    "journeys.loc[journeys['final_page'].str.contains('manage', 'final_page_type')] = 'manage'\n",
    "journeys.loc[journeys['final_page'].str.contains('update', 'final_page_type')] = 'update'\n",
    "journeys.loc[journeys['final_page'].str.contains('eligibility', 'final_page_type')] = 'eligibility'\n",
    "journeys.loc[journeys['final_page'].str.contains('estimate', 'final_page_type')] = 'estimate'\n",
    "journeys.loc[journeys['final_page'].str.contains('renew', 'final_page_type')] = 'renew'\n",
    "journeys.loc[journeys['final_page'].str.contains('pay', 'final_page_type')] = 'pay'\n",
    "journeys.loc[journeys['final_page'].str.contains('claim', 'final_page_type')] = 'claim'\n",
    "journeys.loc[journeys['final_page'].str.contains('change', 'final_page_type')] = 'change'"
   ]
  },
  {
   "cell_type": "code",
   "execution_count": 210,
   "metadata": {},
   "outputs": [
    {
     "data": {
      "text/plain": [
       "final_page_type\n",
       "apply                   18352 \n",
       "calculate/calculator    4737  \n",
       "change                  13557 \n",
       "check_a_thing           64424 \n",
       "claim                   4122  \n",
       "contact/enquiries       8557  \n",
       "eligibility             2131  \n",
       "estimate                277   \n",
       "find                    4555  \n",
       "login                   22819 \n",
       "manage                  7832  \n",
       "order                   797   \n",
       "other                   178762\n",
       "pay                     8954  \n",
       "renew                   1484  \n",
       "send                    1791  \n",
       "update                  1306  \n",
       "dtype: int64"
      ]
     },
     "execution_count": 210,
     "metadata": {},
     "output_type": "execute_result"
    }
   ],
   "source": [
    "journeys.groupby('final_page_type').size()"
   ]
  },
  {
   "cell_type": "code",
   "execution_count": 211,
   "metadata": {},
   "outputs": [
    {
     "data": {
      "text/plain": [
       "(         final_page_type  Page_Seq_NL    percent\n",
       " 7   estimate              277          0.080416 \n",
       " 11  order                 797          0.231379 \n",
       " 16  update                1306         0.379147 \n",
       " 14  renew                 1484         0.430823 \n",
       " 15  send                  1791         0.519949 \n",
       " 6   eligibility           2131         0.618655 \n",
       " 4   claim                 4122         1.196666 \n",
       " 8   find                  4555         1.322371 \n",
       " 1   calculate/calculator  4737         1.375208 \n",
       " 10  manage                7832         2.273724 \n",
       " 5   contact/enquiries     8557         2.484200 \n",
       " 13  pay                   8954         2.599454 \n",
       " 2   change                13557        3.935760 \n",
       " 0   apply                 18352        5.327806 \n",
       " 9   login                 22819        6.624629 \n",
       " 3   check_a_thing         64424        18.703060\n",
       " 12  other                 178762       51.896753,\n",
       " <matplotlib.axes._subplots.AxesSubplot at 0x14e9ab4e0>)"
      ]
     },
     "execution_count": 211,
     "metadata": {},
     "output_type": "execute_result"
    },
    {
     "data": {
      "image/png": "[encoded data removed]",
      "text/plain": [
       "<Figure size 720x360 with 1 Axes>"
      ]
     },
     "metadata": {
      "needs_background": "light"
     },
     "output_type": "display_data"
    }
   ],
   "source": [
    "groupby_percent(journeys, 'final_page_type', 'Page_Seq_NL')"
   ]
  },
  {
   "cell_type": "markdown",
   "metadata": {},
   "source": [
    "#### Final interaction with GOV.UK"
   ]
  },
  {
   "cell_type": "code",
   "execution_count": 101,
   "metadata": {},
   "outputs": [],
   "source": [
    "def get_end_page_event(Page_Event_List):          \n",
    "    return pd.eval(Page_Event_List)[-1][-1]\n",
    "\n",
    "journeys['final_interaction'] = journeys['Page_Event_List'].map(get_end_page_event)"
   ]
  },
  {
   "cell_type": "code",
   "execution_count": 133,
   "metadata": {},
   "outputs": [
    {
     "data": {
      "text/plain": [
       "174574     EVENT<:<External Link Clicked<:<https://www.check-mot.service.gov.uk/?_ga=2.231307103.1553813127.1540963131-401800498.1535917021                                                                                                      \n",
       "81749      EVENT<:<External Link Clicked<:<https://www.tax.service.gov.uk/gg/sign-in?continue=/tax-credits-service/renewals/service-router&accountType=individual&origin=PTA-taxcredits&_ga=2.38933092.631798528.1540994595-1142209552.1523917181\n",
       "1508443    PAGE<:<NULL<:<NULL                                                                                                                                                                                                                    \n",
       "982108     EVENT<:<External Link Clicked<:<https://www.check-mot.service.gov.uk/?_ga=2.229377244.1925288140.1540810553-1502028329.1439554127                                                                                                     \n",
       "1194381    EVENT<:<External Link Clicked<:<https://www.check-mot.service.gov.uk/?_ga=2.17120817.9473765.1540844372-1674099770.1538394790                                                                                                         \n",
       "Name: final_interaction, dtype: object"
      ]
     },
     "execution_count": 133,
     "metadata": {},
     "output_type": "execute_result"
    }
   ],
   "source": [
    "journeys.final_interaction.head()"
   ]
  },
  {
   "cell_type": "code",
   "execution_count": 144,
   "metadata": {},
   "outputs": [],
   "source": [
    "journeys['final_interaction_type'] = journeys.final_interaction.str.extract(r'<:<(.*)<:<', expand=False)"
   ]
  },
  {
   "cell_type": "code",
   "execution_count": 155,
   "metadata": {},
   "outputs": [],
   "source": [
    "journeys['final_external_link'] = journeys.final_interaction.str.extract(r'EVENT<:<External Link Clicked<:(.*)', expand=False)"
   ]
  },
  {
   "cell_type": "code",
   "execution_count": 163,
   "metadata": {},
   "outputs": [],
   "source": [
    "journeys['exit_to_assessed_service'] = np.where(journeys['final_external_link'].str.contains(r'.*service.gov.uk.*', na=False), 1, 0)"
   ]
  },
  {
   "cell_type": "code",
   "execution_count": 167,
   "metadata": {},
   "outputs": [
    {
     "data": {
      "text/plain": [
       "0    0.642388\n",
       "1    0.357612\n",
       "Name: exit_to_assessed_service, dtype: float64"
      ]
     },
     "execution_count": 167,
     "metadata": {},
     "output_type": "execute_result"
    }
   ],
   "source": [
    "journeys['exit_to_assessed_service'].value_counts(normalize=True)"
   ]
  },
  {
   "cell_type": "code",
   "execution_count": 168,
   "metadata": {},
   "outputs": [],
   "source": [
    "#make a smaller copy of data with only 2 cols ready to make it really looooong\n",
    "slim = journeys[['Occurrences','exit_to_assessed_service']].copy()\n",
    "#repeat rows for each occurrence\n",
    "journey_expanded2 =  slim.loc[slim.index.repeat(slim['Occurrences'])]"
   ]
  },
  {
   "cell_type": "code",
   "execution_count": 170,
   "metadata": {},
   "outputs": [
    {
     "data": {
      "text/plain": [
       "0    0.711194\n",
       "1    0.288806\n",
       "Name: exit_to_assessed_service, dtype: float64"
      ]
     },
     "execution_count": 170,
     "metadata": {},
     "output_type": "execute_result"
    }
   ],
   "source": [
    "journey_expanded2['exit_to_assessed_service'].value_counts(normalize=True)"
   ]
  },
  {
   "cell_type": "code",
   "execution_count": 172,
   "metadata": {},
   "outputs": [
    {
     "data": {
      "text/plain": [
       "([<matplotlib.patches.Wedge at 0x13f4dadd8>,\n",
       "  <matplotlib.patches.Wedge at 0x11edf5e10>],\n",
       " [Text(-0.6774532626465782, 0.8666354925396874, 'did not exit to an assessed service'),\n",
       "  Text(0.6774533437868462, -0.8666354291119314, 'exited to an assessed service')],\n",
       " [Text(-0.36951996144358806, 0.47271026865801125, '71.1%'),\n",
       "  Text(0.36952000570191607, -0.4727102340610534, '28.9%')])"
      ]
     },
     "execution_count": 172,
     "metadata": {},
     "output_type": "execute_result"
    },
    {
     "data": {
      "image/png": "[encoded data removed]",
      "text/plain": [
       "<Figure size 432x288 with 1 Axes>"
      ]
     },
     "metadata": {},
     "output_type": "display_data"
    }
   ],
   "source": [
    "plt.pie(journey_expanded2['exit_to_assessed_service'].value_counts(), labels=['did not exit to an assessed service', 'exited to an assessed service'], autopct='%1.1f%%')"
   ]
  },
  {
   "cell_type": "code",
   "execution_count": null,
   "metadata": {},
   "outputs": [],
   "source": [
    "journeys['final_external_link_service'] = np.where(journeys.final_interaction.str.contains(r'<External Link Clicked<:(.*)', expand=False)"
   ]
  },
  {
   "cell_type": "code",
   "execution_count": 145,
   "metadata": {},
   "outputs": [],
   "source": [
    "def groupby_percent(df, groupby_var, unit_var, figsize=(10, 5)):\n",
    "    x = df.groupby(groupby_var).count().reset_index()\n",
    "    x['percent'] = 100*x[unit_var]/x[unit_var].sum()\n",
    "    x = x.sort_values(['percent'])\n",
    "\n",
    "    s = pd.DataFrame(x[[groupby_var, unit_var,'percent']])\n",
    "\n",
    "    return(s, x.plot(x=groupby_var, y='percent', kind='barh', figsize=figsize, color='#2B8CC4'))\n"
   ]
  },
  {
   "cell_type": "code",
   "execution_count": 152,
   "metadata": {},
   "outputs": [
    {
     "data": {
      "text/plain": [
       "(                      final_interaction_type  PageSequence    percent\n",
       " 26  navLeafLinkClicked                        1             0.000290 \n",
       " 39  servicesDocumentListClicked               1             0.000290 \n",
       " 35  ppServices                                1             0.000290 \n",
       " 31  policyAndEngagementHighlightBoxClicked    1             0.000290 \n",
       " 29  newsAndCommunicationsDocumentListClicked  1             0.000290 \n",
       " 22  manualFeedbackForm                        1             0.000290 \n",
       " 18  guidanceAndRegulationHighlightBoxClicked  1             0.000290 \n",
       " 44  stepNavPartOfClicked                      1             0.000290 \n",
       " 28  navSubtopicLinkClicked                    2             0.000581 \n",
       " 17  guidanceAndRegulationDocumentListClicked  2             0.000581 \n",
       " 42  stepNavHeaderClicked                      2             0.000581 \n",
       " 47  userAlerts:licence                        2             0.000581 \n",
       " 21  home_office_research_survey_3             3             0.000871 \n",
       " 25  navFinderLinkClicked                      3             0.000871 \n",
       " 19  home_office_research_survey_1             3             0.000871 \n",
       " 20  home_office_research_survey_2             5             0.001452 \n",
       " 15  filterClicked                             10            0.002903 \n",
       " 33  postcodeSearch:local_transaction          16            0.004645 \n",
       " 11  UX                                        17            0.004935 \n",
       " 49  userAlerts:place                          21            0.006097 \n",
       " 46  userAlerts:find_local_council             27            0.007838 \n",
       " 16  firstLevelBrowseLinkClicked               29            0.008419 \n",
       " 27  navSubtopicContentItemLinkClicked         34            0.009871 \n",
       " 24  navDocumentCollectionLinkClicked          41            0.011903 \n",
       " 8   ScrollTo                                  49            0.014225 \n",
       " 51  verify-hint                               58            0.016838 \n",
       " 40  social media                              74            0.021483 \n",
       " 48  userAlerts:local_transaction              78            0.022644 \n",
       " 43  stepNavLinkClicked                        80            0.023225 \n",
       " 38  secondLevelBrowseLinkClicked              89            0.025838 \n",
       " 23  navAccordionLinkClicked                   90            0.026128 \n",
       " 45  thirdLevelBrowseLinkClicked               100           0.029031 \n",
       " 12  breadcrumbClicked                         110           0.031934 \n",
       " 5   Onsite Feedback                           112           0.032515 \n",
       " 6   Print Intent                              158           0.045869 \n",
       " 36  relatedLinkClicked                        169           0.049063 \n",
       " 41  startpages                                175           0.050805 \n",
       " 34  postcodeSearch:place                      233           0.067643 \n",
       " 13  browser-check                             319           0.092610 \n",
       " 37  searchResults                             320           0.092900 \n",
       " 3   Mailto Link Clicked                       667           0.193638 \n",
       " 32  postcodeSearch:find_local_council         859           0.249378 \n",
       " 30  pageElementInteraction                    990           0.287409 \n",
       " 53  yesNoFeedbackForm                         995           0.288860 \n",
       " 2   JavaScript Error                          1434          0.416307 \n",
       " 9   Simple Smart Answer                       1659          0.481628 \n",
       " 10  Smart Answer                              1794          0.520820 \n",
       " 7   Radio button chosen                       2919          0.847421 \n",
       " 52  webchat                                   4288          1.244858 \n",
       " 50  user_satisfaction_survey                  8391          2.436008 \n",
       " 14  contentsClicked                           8963          2.602066 \n",
       " 0   Download Link Clicked                     23942         6.950650 \n",
       " 4   NULL                                      108746        31.570269\n",
       " 1   External Link Clicked                     176371        51.202617,\n",
       " <matplotlib.axes._subplots.AxesSubplot at 0x1340f9128>)"
      ]
     },
     "execution_count": 152,
     "metadata": {},
     "output_type": "execute_result"
    },
    {
     "data": {
      "image/png": "[encoded data removed]",
      "text/plain": [
       "<Figure size 360x720 with 1 Axes>"
      ]
     },
     "metadata": {
      "needs_background": "light"
     },
     "output_type": "display_data"
    }
   ],
   "source": [
    "groupby_percent(journeys, 'final_interaction_type', 'PageSequence', figsize=(5, 10))"
   ]
  },
  {
   "cell_type": "code",
   "execution_count": 140,
   "metadata": {},
   "outputs": [
    {
     "data": {
      "text/plain": [
       "final_interaction_type\n",
       "External Link Clicked                       176371\n",
       "NULL                                        108746\n",
       "Download Link Clicked                       23942 \n",
       "contentsClicked                             8963  \n",
       "user_satisfaction_survey                    8391  \n",
       "webchat                                     4288  \n",
       "Radio button chosen                         2919  \n",
       "Smart Answer                                1794  \n",
       "Simple Smart Answer                         1659  \n",
       "JavaScript Error                            1434  \n",
       "yesNoFeedbackForm                           995   \n",
       "pageElementInteraction                      990   \n",
       "postcodeSearch:find_local_council           859   \n",
       "Mailto Link Clicked                         667   \n",
       "searchResults                               320   \n",
       "browser-check                               319   \n",
       "postcodeSearch:place                        233   \n",
       "startpages                                  175   \n",
       "relatedLinkClicked                          169   \n",
       "Print Intent                                158   \n",
       "Onsite Feedback                             112   \n",
       "breadcrumbClicked                           110   \n",
       "thirdLevelBrowseLinkClicked                 100   \n",
       "navAccordionLinkClicked                     90    \n",
       "secondLevelBrowseLinkClicked                89    \n",
       "stepNavLinkClicked                          80    \n",
       "userAlerts:local_transaction                78    \n",
       "social media                                74    \n",
       "verify-hint                                 58    \n",
       "ScrollTo                                    49    \n",
       "navDocumentCollectionLinkClicked            41    \n",
       "navSubtopicContentItemLinkClicked           34    \n",
       "firstLevelBrowseLinkClicked                 29    \n",
       "userAlerts:find_local_council               27    \n",
       "userAlerts:place                            21    \n",
       "UX                                          17    \n",
       "postcodeSearch:local_transaction            16    \n",
       "filterClicked                               10    \n",
       "home_office_research_survey_2               5     \n",
       "home_office_research_survey_1               3     \n",
       "navFinderLinkClicked                        3     \n",
       "home_office_research_survey_3               3     \n",
       "userAlerts:licence                          2     \n",
       "stepNavHeaderClicked                        2     \n",
       "guidanceAndRegulationDocumentListClicked    2     \n",
       "navSubtopicLinkClicked                      2     \n",
       "stepNavPartOfClicked                        1     \n",
       "guidanceAndRegulationHighlightBoxClicked    1     \n",
       "manualFeedbackForm                          1     \n",
       "newsAndCommunicationsDocumentListClicked    1     \n",
       "policyAndEngagementHighlightBoxClicked      1     \n",
       "ppServices                                  1     \n",
       "servicesDocumentListClicked                 1     \n",
       "navLeafLinkClicked                          1     \n",
       "dtype: int64"
      ]
     },
     "execution_count": 140,
     "metadata": {},
     "output_type": "execute_result"
    }
   ],
   "source": [
    "journeys.groupby('final_interaction_type').size().sort_values(ascending=False)"
   ]
  },
  {
   "cell_type": "code",
   "execution_count": 116,
   "metadata": {},
   "outputs": [
    {
     "name": "stdout",
     "output_type": "stream",
     "text": [
      "(104629, 27)\n",
      "104629 out of 344457 (30.375054070609686%) journeys ended in a page hit\n"
     ]
    }
   ],
   "source": [
    "print(journeys[journeys['final_interaction']=='PAGE<:<NULL<:<NULL'].shape)\n",
    "\n",
    "print(\"{} out of {} ({}%) journeys ended in a page hit\".format(journeys[journeys['final_interaction']=='PAGE<:<NULL<:<NULL'].shape[0], \n",
    "                                                        journeys.shape[0],\n",
    "                                                        journeys[journeys['final_interaction']=='PAGE<:<NULL<:<NULL'].shape[0]/journeys.shape[0]*100))"
   ]
  },
  {
   "cell_type": "code",
   "execution_count": 113,
   "metadata": {},
   "outputs": [
    {
     "name": "stdout",
     "output_type": "stream",
     "text": [
      "(176371, 27)\n",
      "176371 out of 344457 (51.20261745297672%) journeys ended in an external link clicked\n"
     ]
    }
   ],
   "source": [
    "print(journeys[journeys['final_interaction'].str.startswith('EVENT<:<External Link Clicked')].shape)\n",
    "\n",
    "print(\"{} out of {} ({}%) journeys ended in an external link clicked\".format(journeys[journeys['final_interaction'].str.startswith('EVENT<:<External Link Clicked')].shape[0], \n",
    "                                                        journeys.shape[0],\n",
    "                                                        journeys[journeys['final_interaction'].str.startswith('EVENT<:<External Link Clicked')].shape[0]/journeys.shape[0]*100))"
   ]
  },
  {
   "cell_type": "code",
   "execution_count": 128,
   "metadata": {},
   "outputs": [
    {
     "name": "stdout",
     "output_type": "stream",
     "text": [
      "(176371, 27)\n",
      "0 out of 344457 (0.0%) journeys ended in an specialist external link clicked\n"
     ]
    }
   ],
   "source": [
    "print(journeys[journeys['final_interaction'].str.startswith('EVENT<:<External Link Clicked')].shape)\n",
    "\n",
    "print(\"{} out of {} ({}%) journeys ended in an specialist external link clicked\".format(journeys[journeys['final_interaction'].str.startswith('EVENT<:<Specialist-external-link')].shape[0], \n",
    "                                                        journeys.shape[0],\n",
    "                                                        journeys[journeys['final_interaction'].str.startswith('EVENT<:<Specialist-external-link')].shape[0]/journeys.shape[0]*100))"
   ]
  },
  {
   "cell_type": "code",
   "execution_count": 129,
   "metadata": {},
   "outputs": [
    {
     "name": "stdout",
     "output_type": "stream",
     "text": [
      "0 out of 344457 (0.0%) journeys ended in aSpecialist-external-link\n"
     ]
    }
   ],
   "source": [
    "print(\"{} out of {} ({}%) journeys ended in aSpecialist-external-link\".format(journeys[journeys['final_interaction'].str.contains('EVENT<:<Specialist-external-link')].shape[0], \n",
    "                                                        journeys.shape[0],\n",
    "                                                        journeys[journeys['final_interaction'].str.contains('EVENT<:<Specialist-external-link')].shape[0]/journeys.shape[0]*100))"
   ]
  },
  {
   "cell_type": "code",
   "execution_count": 115,
   "metadata": {},
   "outputs": [
    {
     "name": "stdout",
     "output_type": "stream",
     "text": [
      "23942 out of 344457 (6.950649863408205%) journeys ended in an download link clicked\n"
     ]
    }
   ],
   "source": [
    "print(\"{} out of {} ({}%) journeys ended in an download link clicked\".format(journeys[journeys['final_interaction'].str.contains('EVENT<:<Download Link Clicked')].shape[0], \n",
    "                                                        journeys.shape[0],\n",
    "                                                        journeys[journeys['final_interaction'].str.contains('EVENT<:<Download Link Clicked')].shape[0]/journeys.shape[0]*100))"
   ]
  },
  {
   "cell_type": "code",
   "execution_count": 118,
   "metadata": {},
   "outputs": [
    {
     "name": "stdout",
     "output_type": "stream",
     "text": [
      "8963 out of 344457 (2.602066440803932%) journeys ended in a  contents clicked\n"
     ]
    }
   ],
   "source": [
    "print(\"{} out of {} ({}%) journeys ended in a  contents clicked\".format(journeys[journeys['final_interaction'].str.contains('EVENT<:<contentsClicked<')].shape[0], \n",
    "                                                        journeys.shape[0],\n",
    "                                                        journeys[journeys['final_interaction'].str.contains('EVENT<:<contentsClicked<')].shape[0]/journeys.shape[0]*100))"
   ]
  },
  {
   "cell_type": "code",
   "execution_count": 121,
   "metadata": {},
   "outputs": [
    {
     "name": "stdout",
     "output_type": "stream",
     "text": [
      "110 out of 344457 (0.03193431981350357%) journeys ended in a breadcrumbClicked\n"
     ]
    }
   ],
   "source": [
    "print(\"{} out of {} ({}%) journeys ended in a breadcrumbClicked\".format(journeys[journeys['final_interaction'].str.contains('EVENT<:<breadcrumbClicked<')].shape[0], \n",
    "                                                        journeys.shape[0],\n",
    "                                                        journeys[journeys['final_interaction'].str.contains('EVENT<:<breadcrumbClicked<')].shape[0]/journeys.shape[0]*100))"
   ]
  },
  {
   "cell_type": "code",
   "execution_count": 123,
   "metadata": {},
   "outputs": [
    {
     "name": "stdout",
     "output_type": "stream",
     "text": [
      "1434 out of 344457 (0.4163074055687647%) journeys ended in a JavaScript Error\n"
     ]
    }
   ],
   "source": [
    "print(\"{} out of {} ({}%) journeys ended in a JavaScript Error\".format(journeys[journeys['final_interaction'].str.contains('EVENT<:<JavaScript Error<')].shape[0], \n",
    "                                                        journeys.shape[0],\n",
    "                                                        journeys[journeys['final_interaction'].str.contains('EVENT<:<JavaScript Error<')].shape[0]/journeys.shape[0]*100))"
   ]
  },
  {
   "cell_type": "code",
   "execution_count": 126,
   "metadata": {},
   "outputs": [
    {
     "name": "stdout",
     "output_type": "stream",
     "text": [
      "1659 out of 344457 (0.4816276051872948%) journeys ended in a Simple Smart Answer\n"
     ]
    }
   ],
   "source": [
    "print(\"{} out of {} ({}%) journeys ended in a Simple Smart Answer\".format(journeys[journeys['final_interaction'].str.contains('EVENT<:<Simple Smart Answer<')].shape[0], \n",
    "                                                        journeys.shape[0],\n",
    "                                                        journeys[journeys['final_interaction'].str.contains('EVENT<:<Simple Smart Answer<')].shape[0]/journeys.shape[0]*100))"
   ]
  },
  {
   "cell_type": "code",
   "execution_count": 125,
   "metadata": {},
   "outputs": [
    {
     "name": "stdout",
     "output_type": "stream",
     "text": [
      "1794 out of 344457 (0.5208197249584128%) journeys ended in a Smart Answer\n"
     ]
    }
   ],
   "source": [
    "print(\"{} out of {} ({}%) journeys ended in a Smart Answer\".format(journeys[journeys['final_interaction'].str.contains('EVENT<:<Smart Answer<')].shape[0], \n",
    "                                                        journeys.shape[0],\n",
    "                                                        journeys[journeys['final_interaction'].str.contains('EVENT<:<Smart Answer<')].shape[0]/journeys.shape[0]*100))"
   ]
  },
  {
   "cell_type": "code",
   "execution_count": 127,
   "metadata": {},
   "outputs": [
    {
     "name": "stdout",
     "output_type": "stream",
     "text": [
      "74 out of 344457 (0.021483087874538766%) journeys ended in a social media\n"
     ]
    }
   ],
   "source": [
    "print(\"{} out of {} ({}%) journeys ended in a social media\".format(journeys[journeys['final_interaction'].str.contains('EVENT<:<social media<')].shape[0], \n",
    "                                                        journeys.shape[0],\n",
    "                                                        journeys[journeys['final_interaction'].str.contains('EVENT<:<social media<')].shape[0]/journeys.shape[0]*100))"
   ]
  },
  {
   "cell_type": "code",
   "execution_count": 131,
   "metadata": {},
   "outputs": [
    {
     "name": "stdout",
     "output_type": "stream",
     "text": [
      "995 out of 344457 (0.288860438313055%) journeys ended in yesNoFeedbackForm\n"
     ]
    }
   ],
   "source": [
    "print(\"{} out of {} ({}%) journeys ended in yesNoFeedbackForm\".format(journeys[journeys['final_interaction'].str.contains('EVENT<:<yesNoFeedbackForm<')].shape[0], \n",
    "                                                        journeys.shape[0],\n",
    "                                                        journeys[journeys['final_interaction'].str.contains('EVENT<:<yesNoFeedbackForm<')].shape[0]/journeys.shape[0]*100))"
   ]
  },
  {
   "cell_type": "code",
   "execution_count": null,
   "metadata": {},
   "outputs": [],
   "source": []
  }
 ],
 "metadata": {
  "kernelspec": {
   "display_name": "Python 3",
   "language": "python",
   "name": "python3"
  },
  "language_info": {
   "codemirror_mode": {
    "name": "ipython",
    "version": 3
   },
   "file_extension": ".py",
   "mimetype": "text/x-python",
   "name": "python",
   "nbconvert_exporter": "python",
   "pygments_lexer": "ipython3",
   "version": "3.6.0"
  }
 },
 "nbformat": 4,
 "nbformat_minor": 2
}
