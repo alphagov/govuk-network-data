{
 "cells": [
  {
   "cell_type": "code",
   "execution_count": 1,
   "metadata": {},
   "outputs": [],
   "source": [
    "import os\n",
    "import pandas as pd\n",
    "import numpy as np\n",
    "import matplotlib.pyplot as plt\n",
    "import matplotlib.patches as patches\n",
    "import seaborn as sns\n",
    "from beakerx import *"
   ]
  },
  {
   "cell_type": "markdown",
   "metadata": {},
   "source": [
    "### Import data"
   ]
  },
  {
   "cell_type": "code",
   "execution_count": 2,
   "metadata": {},
   "outputs": [
    {
     "data": {
      "text/plain": [
       "'/Volumes/GoogleDrive/Team Drives/GOV.UK teams/2018-2019/Q3/Knowledge up Q3/Data science/data/processed_journey'"
      ]
     },
     "execution_count": 2,
     "metadata": {},
     "output_type": "execute_result"
    }
   ],
   "source": [
    "DATADIR = os.path.join(os.getenv(\"DATA_DIR\"), 'processed_journey')\n",
    "DATADIR"
   ]
  },
  {
   "cell_type": "code",
   "execution_count": 3,
   "metadata": {},
   "outputs": [
    {
     "data": {
      "text/plain": [
       "'/Volumes/GoogleDrive/Team Drives/GOV.UK teams/2018-2019/Q3/Knowledge up Q3/Data science/data/processed_journey'"
      ]
     },
     "execution_count": 3,
     "metadata": {},
     "output_type": "execute_result"
    }
   ],
   "source": [
    "DATADIR"
   ]
  },
  {
   "cell_type": "code",
   "execution_count": 4,
   "metadata": {},
   "outputs": [],
   "source": [
    "journeys1 = pd.read_csv(os.path.join(DATADIR, \"dlo_prelim_meta_standard_with_pageseq_from_29-10_to_01-11-2018.csv.gz\"), compression='gzip')"
   ]
  },
  {
   "cell_type": "code",
   "execution_count": 5,
   "metadata": {},
   "outputs": [
    {
     "data": {
      "text/plain": [
       "(3788851, 15)"
      ]
     },
     "execution_count": 5,
     "metadata": {},
     "output_type": "execute_result"
    }
   ],
   "source": [
    "journeys1.shape"
   ]
  },
  {
   "cell_type": "code",
   "execution_count": 6,
   "metadata": {},
   "outputs": [
    {
     "data": {
      "text/html": [
       "<div>\n",
       "<style scoped>\n",
       "    .dataframe tbody tr th:only-of-type {\n",
       "        vertical-align: middle;\n",
       "    }\n",
       "\n",
       "    .dataframe tbody tr th {\n",
       "        vertical-align: top;\n",
       "    }\n",
       "\n",
       "    .dataframe thead th {\n",
       "        text-align: right;\n",
       "    }\n",
       "</style>\n",
       "<table border=\"1\" class=\"dataframe\">\n",
       "  <thead>\n",
       "    <tr style=\"text-align: right;\">\n",
       "      <th></th>\n",
       "      <th>Sequence</th>\n",
       "      <th>Occurrences</th>\n",
       "      <th>DeviceCategories</th>\n",
       "      <th>Dates</th>\n",
       "      <th>Page_Event_List</th>\n",
       "      <th>Page_List</th>\n",
       "      <th>PageSequence</th>\n",
       "      <th>Event_List</th>\n",
       "      <th>num_event_cats</th>\n",
       "      <th>Event_cats_agg</th>\n",
       "      <th>Event_cat_act_agg</th>\n",
       "      <th>Page_List_NL</th>\n",
       "      <th>Page_Seq_NL</th>\n",
       "      <th>Page_Seq_Occurrences</th>\n",
       "      <th>Occurrences_NL</th>\n",
       "    </tr>\n",
       "  </thead>\n",
       "  <tbody>\n",
       "    <tr>\n",
       "      <th>0</th>\n",
       "      <td>/sure-start-maternity-grant/how-to-claim&lt;&lt;PAGE...</td>\n",
       "      <td>104</td>\n",
       "      <td>[('mobile', 50), ('desktop', 50), ('tablet', 4)]</td>\n",
       "      <td>[('20181031', 34), ('20181029', 31), ('2018110...</td>\n",
       "      <td>[('/sure-start-maternity-grant/how-to-claim', ...</td>\n",
       "      <td>['/sure-start-maternity-grant/how-to-claim', '...</td>\n",
       "      <td>/sure-start-maternity-grant/how-to-claim&gt;&gt;/gov...</td>\n",
       "      <td>[('PAGE_NULL', 'PAGE_NULL'), ('PAGE_NULL', 'PA...</td>\n",
       "      <td>3</td>\n",
       "      <td>[('PAGE_NULL', 2), ('External Link Clicked', 1...</td>\n",
       "      <td>[(('PAGE_NULL', 'PAGE_NULL'), 2), (('External ...</td>\n",
       "      <td>['/sure-start-maternity-grant/how-to-claim', '...</td>\n",
       "      <td>/sure-start-maternity-grant/how-to-claim&gt;&gt;/gov...</td>\n",
       "      <td>139</td>\n",
       "      <td>2552</td>\n",
       "    </tr>\n",
       "    <tr>\n",
       "      <th>1</th>\n",
       "      <td>/government/collections/data-protection-act-20...</td>\n",
       "      <td>120</td>\n",
       "      <td>[('mobile', 13), ('desktop', 102), ('tablet', 5)]</td>\n",
       "      <td>[('20181031', 33), ('20181029', 39), ('2018110...</td>\n",
       "      <td>[('/government/collections/data-protection-act...</td>\n",
       "      <td>['/government/collections/data-protection-act-...</td>\n",
       "      <td>/government/collections/data-protection-act-20...</td>\n",
       "      <td>[('PAGE_NULL', 'PAGE_NULL'), ('navDocumentColl...</td>\n",
       "      <td>3</td>\n",
       "      <td>[('PAGE_NULL', 2), ('navDocumentCollectionLink...</td>\n",
       "      <td>[(('PAGE_NULL', 'PAGE_NULL'), 2), (('navDocume...</td>\n",
       "      <td>['/government/collections/data-protection-act-...</td>\n",
       "      <td>/government/collections/data-protection-act-20...</td>\n",
       "      <td>233</td>\n",
       "      <td>7763</td>\n",
       "    </tr>\n",
       "    <tr>\n",
       "      <th>2</th>\n",
       "      <td>/contact-the-dvla&lt;&lt;PAGE&lt;:&lt;NULL&lt;:&lt;NULL&gt;&gt;/contac...</td>\n",
       "      <td>92</td>\n",
       "      <td>[('desktop', 26), ('mobile', 54), ('tablet', 12)]</td>\n",
       "      <td>[('20181031', 36), ('20181029', 29), ('2018110...</td>\n",
       "      <td>[('/contact-the-dvla', 'PAGE&lt;:&lt;NULL&lt;:&lt;NULL'), ...</td>\n",
       "      <td>['/contact-the-dvla', '/contact-the-dvla/y', '...</td>\n",
       "      <td>/contact-the-dvla&gt;&gt;/contact-the-dvla/y&gt;&gt;/conta...</td>\n",
       "      <td>[('PAGE_NULL', 'PAGE_NULL'), ('PAGE_NULL', 'PA...</td>\n",
       "      <td>3</td>\n",
       "      <td>[('PAGE_NULL', 4), ('Simple Smart Answer', 1),...</td>\n",
       "      <td>[(('PAGE_NULL', 'PAGE_NULL'), 4), (('Simple Sm...</td>\n",
       "      <td>['/contact-the-dvla', '/contact-the-dvla/y', '...</td>\n",
       "      <td>/contact-the-dvla&gt;&gt;/contact-the-dvla/y&gt;&gt;/conta...</td>\n",
       "      <td>223</td>\n",
       "      <td>6398</td>\n",
       "    </tr>\n",
       "    <tr>\n",
       "      <th>3</th>\n",
       "      <td>/find-local-council&lt;&lt;PAGE&lt;:&lt;NULL&lt;:&lt;NULL&gt;&gt;/find...</td>\n",
       "      <td>105</td>\n",
       "      <td>[('desktop', 91), ('mobile', 12), ('tablet', 2)]</td>\n",
       "      <td>[('20181031', 33), ('20181029', 26), ('2018110...</td>\n",
       "      <td>[('/find-local-council', 'PAGE&lt;:&lt;NULL&lt;:&lt;NULL')...</td>\n",
       "      <td>['/find-local-council', '/find-local-council/g...</td>\n",
       "      <td>/find-local-council&gt;&gt;/find-local-council/green...</td>\n",
       "      <td>[('PAGE_NULL', 'PAGE_NULL'), ('postcodeSearch:...</td>\n",
       "      <td>2</td>\n",
       "      <td>[('PAGE_NULL', 2), ('postcodeSearch:find_local...</td>\n",
       "      <td>[(('PAGE_NULL', 'PAGE_NULL'), 2), (('postcodeS...</td>\n",
       "      <td>['/find-local-council', '/find-local-council/g...</td>\n",
       "      <td>/find-local-council&gt;&gt;/find-local-council/green...</td>\n",
       "      <td>213</td>\n",
       "      <td>7049</td>\n",
       "    </tr>\n",
       "    <tr>\n",
       "      <th>4</th>\n",
       "      <td>/government/publications/civil-service-compete...</td>\n",
       "      <td>99</td>\n",
       "      <td>[('mobile', 24), ('desktop', 66), ('tablet', 9)]</td>\n",
       "      <td>[('20181031', 34), ('20181029', 23), ('2018110...</td>\n",
       "      <td>[('/government/publications/civil-service-comp...</td>\n",
       "      <td>['/government/publications/civil-service-compe...</td>\n",
       "      <td>/government/publications/civil-service-compete...</td>\n",
       "      <td>[('PAGE_NULL', 'PAGE_NULL'), ('PAGE_NULL', 'PA...</td>\n",
       "      <td>2</td>\n",
       "      <td>[('PAGE_NULL', 2), ('Download Link Clicked', 1)]</td>\n",
       "      <td>[(('PAGE_NULL', 'PAGE_NULL'), 2), (('Download ...</td>\n",
       "      <td>['/government/publications/civil-service-compe...</td>\n",
       "      <td>/government/publications/civil-service-compete...</td>\n",
       "      <td>896</td>\n",
       "      <td>46393</td>\n",
       "    </tr>\n",
       "    <tr>\n",
       "      <th>5</th>\n",
       "      <td>/personal-tax-account&lt;&lt;PAGE&lt;:&lt;NULL&lt;:&lt;NULL&gt;&gt;/pe...</td>\n",
       "      <td>386</td>\n",
       "      <td>[('desktop', 185), ('mobile', 163), ('tablet',...</td>\n",
       "      <td>[('20181031', 137), ('20181029', 120), ('20181...</td>\n",
       "      <td>[('/personal-tax-account', 'PAGE&lt;:&lt;NULL&lt;:&lt;NULL...</td>\n",
       "      <td>['/personal-tax-account', '/personal-tax-accou...</td>\n",
       "      <td>/personal-tax-account&gt;&gt;/personal-tax-account/s...</td>\n",
       "      <td>[('PAGE_NULL', 'PAGE_NULL'), ('PAGE_NULL', 'PA...</td>\n",
       "      <td>2</td>\n",
       "      <td>[('PAGE_NULL', 3), ('Radio button chosen', 1)]</td>\n",
       "      <td>[(('PAGE_NULL', 'PAGE_NULL'), 3), (('Radio but...</td>\n",
       "      <td>['/personal-tax-account', '/personal-tax-accou...</td>\n",
       "      <td>/personal-tax-account&gt;&gt;/personal-tax-account/s...</td>\n",
       "      <td>3879</td>\n",
       "      <td>1157083</td>\n",
       "    </tr>\n",
       "    <tr>\n",
       "      <th>6</th>\n",
       "      <td>/government/publications/application-to-transf...</td>\n",
       "      <td>474</td>\n",
       "      <td>[('desktop', 289), ('tablet', 63), ('mobile', ...</td>\n",
       "      <td>[('20181031', 134), ('20181029', 151), ('20181...</td>\n",
       "      <td>[('/government/publications/application-to-tra...</td>\n",
       "      <td>['/government/publications/application-to-tran...</td>\n",
       "      <td>/government/publications/application-to-transf...</td>\n",
       "      <td>[('PAGE_NULL', 'PAGE_NULL'), ('PAGE_NULL', 'PA...</td>\n",
       "      <td>2</td>\n",
       "      <td>[('PAGE_NULL', 2), ('External Link Clicked', 1)]</td>\n",
       "      <td>[(('PAGE_NULL', 'PAGE_NULL'), 2), (('External ...</td>\n",
       "      <td>['/government/publications/application-to-tran...</td>\n",
       "      <td>/government/publications/application-to-transf...</td>\n",
       "      <td>790</td>\n",
       "      <td>26775</td>\n",
       "    </tr>\n",
       "    <tr>\n",
       "      <th>7</th>\n",
       "      <td>/income-tax-rates&lt;&lt;PAGE&lt;:&lt;NULL&lt;:&lt;NULL&gt;&gt;/take-o...</td>\n",
       "      <td>1</td>\n",
       "      <td>[('mobile', 1)]</td>\n",
       "      <td>[('20181031', 1)]</td>\n",
       "      <td>[('/income-tax-rates', 'PAGE&lt;:&lt;NULL&lt;:&lt;NULL'), ...</td>\n",
       "      <td>['/income-tax-rates', '/take-on-an-apprentice/...</td>\n",
       "      <td>/income-tax-rates&gt;&gt;/take-on-an-apprentice/pay-...</td>\n",
       "      <td>[('PAGE_NULL', 'PAGE_NULL'), ('PAGE_NULL', 'PA...</td>\n",
       "      <td>1</td>\n",
       "      <td>[('PAGE_NULL', 2)]</td>\n",
       "      <td>[(('PAGE_NULL', 'PAGE_NULL'), 2)]</td>\n",
       "      <td>['/income-tax-rates', '/take-on-an-apprentice/...</td>\n",
       "      <td>/income-tax-rates&gt;&gt;/take-on-an-apprentice/pay-...</td>\n",
       "      <td>1</td>\n",
       "      <td>1</td>\n",
       "    </tr>\n",
       "    <tr>\n",
       "      <th>8</th>\n",
       "      <td>/guidance/school-direct-guidance-for-lead-scho...</td>\n",
       "      <td>1</td>\n",
       "      <td>[('mobile', 1)]</td>\n",
       "      <td>[('20181031', 1)]</td>\n",
       "      <td>[('/guidance/school-direct-guidance-for-lead-s...</td>\n",
       "      <td>['/guidance/school-direct-guidance-for-lead-sc...</td>\n",
       "      <td>/guidance/school-direct-guidance-for-lead-scho...</td>\n",
       "      <td>[('PAGE_NULL', 'PAGE_NULL'), ('PAGE_NULL', 'PA...</td>\n",
       "      <td>1</td>\n",
       "      <td>[('PAGE_NULL', 2)]</td>\n",
       "      <td>[(('PAGE_NULL', 'PAGE_NULL'), 2)]</td>\n",
       "      <td>['/guidance/school-direct-guidance-for-lead-sc...</td>\n",
       "      <td>/guidance/school-direct-guidance-for-lead-scho...</td>\n",
       "      <td>1</td>\n",
       "      <td>1</td>\n",
       "    </tr>\n",
       "    <tr>\n",
       "      <th>9</th>\n",
       "      <td>/liquidate-your-company&lt;&lt;PAGE&lt;:&lt;NULL&lt;:&lt;NULL&gt;&gt;/...</td>\n",
       "      <td>1</td>\n",
       "      <td>[('mobile', 1)]</td>\n",
       "      <td>[('20181031', 1)]</td>\n",
       "      <td>[('/liquidate-your-company', 'PAGE&lt;:&lt;NULL&lt;:&lt;NU...</td>\n",
       "      <td>['/liquidate-your-company', '/liquidate-your-c...</td>\n",
       "      <td>/liquidate-your-company&gt;&gt;/liquidate-your-company</td>\n",
       "      <td>[('PAGE_NULL', 'PAGE_NULL'), ('PAGE_NULL', 'PA...</td>\n",
       "      <td>1</td>\n",
       "      <td>[('PAGE_NULL', 2)]</td>\n",
       "      <td>[(('PAGE_NULL', 'PAGE_NULL'), 2)]</td>\n",
       "      <td>['/liquidate-your-company']</td>\n",
       "      <td>/liquidate-your-company</td>\n",
       "      <td>1</td>\n",
       "      <td>2</td>\n",
       "    </tr>\n",
       "  </tbody>\n",
       "</table>\n",
       "</div>"
      ],
      "text/plain": [
       "                                            Sequence  Occurrences  \\\n",
       "0  /sure-start-maternity-grant/how-to-claim<<PAGE...          104   \n",
       "1  /government/collections/data-protection-act-20...          120   \n",
       "2  /contact-the-dvla<<PAGE<:<NULL<:<NULL>>/contac...           92   \n",
       "3  /find-local-council<<PAGE<:<NULL<:<NULL>>/find...          105   \n",
       "4  /government/publications/civil-service-compete...           99   \n",
       "5  /personal-tax-account<<PAGE<:<NULL<:<NULL>>/pe...          386   \n",
       "6  /government/publications/application-to-transf...          474   \n",
       "7  /income-tax-rates<<PAGE<:<NULL<:<NULL>>/take-o...            1   \n",
       "8  /guidance/school-direct-guidance-for-lead-scho...            1   \n",
       "9  /liquidate-your-company<<PAGE<:<NULL<:<NULL>>/...            1   \n",
       "\n",
       "                                    DeviceCategories  \\\n",
       "0   [('mobile', 50), ('desktop', 50), ('tablet', 4)]   \n",
       "1  [('mobile', 13), ('desktop', 102), ('tablet', 5)]   \n",
       "2  [('desktop', 26), ('mobile', 54), ('tablet', 12)]   \n",
       "3   [('desktop', 91), ('mobile', 12), ('tablet', 2)]   \n",
       "4   [('mobile', 24), ('desktop', 66), ('tablet', 9)]   \n",
       "5  [('desktop', 185), ('mobile', 163), ('tablet',...   \n",
       "6  [('desktop', 289), ('tablet', 63), ('mobile', ...   \n",
       "7                                    [('mobile', 1)]   \n",
       "8                                    [('mobile', 1)]   \n",
       "9                                    [('mobile', 1)]   \n",
       "\n",
       "                                               Dates  \\\n",
       "0  [('20181031', 34), ('20181029', 31), ('2018110...   \n",
       "1  [('20181031', 33), ('20181029', 39), ('2018110...   \n",
       "2  [('20181031', 36), ('20181029', 29), ('2018110...   \n",
       "3  [('20181031', 33), ('20181029', 26), ('2018110...   \n",
       "4  [('20181031', 34), ('20181029', 23), ('2018110...   \n",
       "5  [('20181031', 137), ('20181029', 120), ('20181...   \n",
       "6  [('20181031', 134), ('20181029', 151), ('20181...   \n",
       "7                                  [('20181031', 1)]   \n",
       "8                                  [('20181031', 1)]   \n",
       "9                                  [('20181031', 1)]   \n",
       "\n",
       "                                     Page_Event_List  \\\n",
       "0  [('/sure-start-maternity-grant/how-to-claim', ...   \n",
       "1  [('/government/collections/data-protection-act...   \n",
       "2  [('/contact-the-dvla', 'PAGE<:<NULL<:<NULL'), ...   \n",
       "3  [('/find-local-council', 'PAGE<:<NULL<:<NULL')...   \n",
       "4  [('/government/publications/civil-service-comp...   \n",
       "5  [('/personal-tax-account', 'PAGE<:<NULL<:<NULL...   \n",
       "6  [('/government/publications/application-to-tra...   \n",
       "7  [('/income-tax-rates', 'PAGE<:<NULL<:<NULL'), ...   \n",
       "8  [('/guidance/school-direct-guidance-for-lead-s...   \n",
       "9  [('/liquidate-your-company', 'PAGE<:<NULL<:<NU...   \n",
       "\n",
       "                                           Page_List  \\\n",
       "0  ['/sure-start-maternity-grant/how-to-claim', '...   \n",
       "1  ['/government/collections/data-protection-act-...   \n",
       "2  ['/contact-the-dvla', '/contact-the-dvla/y', '...   \n",
       "3  ['/find-local-council', '/find-local-council/g...   \n",
       "4  ['/government/publications/civil-service-compe...   \n",
       "5  ['/personal-tax-account', '/personal-tax-accou...   \n",
       "6  ['/government/publications/application-to-tran...   \n",
       "7  ['/income-tax-rates', '/take-on-an-apprentice/...   \n",
       "8  ['/guidance/school-direct-guidance-for-lead-sc...   \n",
       "9  ['/liquidate-your-company', '/liquidate-your-c...   \n",
       "\n",
       "                                        PageSequence  \\\n",
       "0  /sure-start-maternity-grant/how-to-claim>>/gov...   \n",
       "1  /government/collections/data-protection-act-20...   \n",
       "2  /contact-the-dvla>>/contact-the-dvla/y>>/conta...   \n",
       "3  /find-local-council>>/find-local-council/green...   \n",
       "4  /government/publications/civil-service-compete...   \n",
       "5  /personal-tax-account>>/personal-tax-account/s...   \n",
       "6  /government/publications/application-to-transf...   \n",
       "7  /income-tax-rates>>/take-on-an-apprentice/pay-...   \n",
       "8  /guidance/school-direct-guidance-for-lead-scho...   \n",
       "9   /liquidate-your-company>>/liquidate-your-company   \n",
       "\n",
       "                                          Event_List  num_event_cats  \\\n",
       "0  [('PAGE_NULL', 'PAGE_NULL'), ('PAGE_NULL', 'PA...               3   \n",
       "1  [('PAGE_NULL', 'PAGE_NULL'), ('navDocumentColl...               3   \n",
       "2  [('PAGE_NULL', 'PAGE_NULL'), ('PAGE_NULL', 'PA...               3   \n",
       "3  [('PAGE_NULL', 'PAGE_NULL'), ('postcodeSearch:...               2   \n",
       "4  [('PAGE_NULL', 'PAGE_NULL'), ('PAGE_NULL', 'PA...               2   \n",
       "5  [('PAGE_NULL', 'PAGE_NULL'), ('PAGE_NULL', 'PA...               2   \n",
       "6  [('PAGE_NULL', 'PAGE_NULL'), ('PAGE_NULL', 'PA...               2   \n",
       "7  [('PAGE_NULL', 'PAGE_NULL'), ('PAGE_NULL', 'PA...               1   \n",
       "8  [('PAGE_NULL', 'PAGE_NULL'), ('PAGE_NULL', 'PA...               1   \n",
       "9  [('PAGE_NULL', 'PAGE_NULL'), ('PAGE_NULL', 'PA...               1   \n",
       "\n",
       "                                      Event_cats_agg  \\\n",
       "0  [('PAGE_NULL', 2), ('External Link Clicked', 1...   \n",
       "1  [('PAGE_NULL', 2), ('navDocumentCollectionLink...   \n",
       "2  [('PAGE_NULL', 4), ('Simple Smart Answer', 1),...   \n",
       "3  [('PAGE_NULL', 2), ('postcodeSearch:find_local...   \n",
       "4   [('PAGE_NULL', 2), ('Download Link Clicked', 1)]   \n",
       "5     [('PAGE_NULL', 3), ('Radio button chosen', 1)]   \n",
       "6   [('PAGE_NULL', 2), ('External Link Clicked', 1)]   \n",
       "7                                 [('PAGE_NULL', 2)]   \n",
       "8                                 [('PAGE_NULL', 2)]   \n",
       "9                                 [('PAGE_NULL', 2)]   \n",
       "\n",
       "                                   Event_cat_act_agg  \\\n",
       "0  [(('PAGE_NULL', 'PAGE_NULL'), 2), (('External ...   \n",
       "1  [(('PAGE_NULL', 'PAGE_NULL'), 2), (('navDocume...   \n",
       "2  [(('PAGE_NULL', 'PAGE_NULL'), 4), (('Simple Sm...   \n",
       "3  [(('PAGE_NULL', 'PAGE_NULL'), 2), (('postcodeS...   \n",
       "4  [(('PAGE_NULL', 'PAGE_NULL'), 2), (('Download ...   \n",
       "5  [(('PAGE_NULL', 'PAGE_NULL'), 3), (('Radio but...   \n",
       "6  [(('PAGE_NULL', 'PAGE_NULL'), 2), (('External ...   \n",
       "7                  [(('PAGE_NULL', 'PAGE_NULL'), 2)]   \n",
       "8                  [(('PAGE_NULL', 'PAGE_NULL'), 2)]   \n",
       "9                  [(('PAGE_NULL', 'PAGE_NULL'), 2)]   \n",
       "\n",
       "                                        Page_List_NL  \\\n",
       "0  ['/sure-start-maternity-grant/how-to-claim', '...   \n",
       "1  ['/government/collections/data-protection-act-...   \n",
       "2  ['/contact-the-dvla', '/contact-the-dvla/y', '...   \n",
       "3  ['/find-local-council', '/find-local-council/g...   \n",
       "4  ['/government/publications/civil-service-compe...   \n",
       "5  ['/personal-tax-account', '/personal-tax-accou...   \n",
       "6  ['/government/publications/application-to-tran...   \n",
       "7  ['/income-tax-rates', '/take-on-an-apprentice/...   \n",
       "8  ['/guidance/school-direct-guidance-for-lead-sc...   \n",
       "9                        ['/liquidate-your-company']   \n",
       "\n",
       "                                         Page_Seq_NL  Page_Seq_Occurrences  \\\n",
       "0  /sure-start-maternity-grant/how-to-claim>>/gov...                   139   \n",
       "1  /government/collections/data-protection-act-20...                   233   \n",
       "2  /contact-the-dvla>>/contact-the-dvla/y>>/conta...                   223   \n",
       "3  /find-local-council>>/find-local-council/green...                   213   \n",
       "4  /government/publications/civil-service-compete...                   896   \n",
       "5  /personal-tax-account>>/personal-tax-account/s...                  3879   \n",
       "6  /government/publications/application-to-transf...                   790   \n",
       "7  /income-tax-rates>>/take-on-an-apprentice/pay-...                     1   \n",
       "8  /guidance/school-direct-guidance-for-lead-scho...                     1   \n",
       "9                            /liquidate-your-company                     1   \n",
       "\n",
       "   Occurrences_NL  \n",
       "0            2552  \n",
       "1            7763  \n",
       "2            6398  \n",
       "3            7049  \n",
       "4           46393  \n",
       "5         1157083  \n",
       "6           26775  \n",
       "7               1  \n",
       "8               1  \n",
       "9               2  "
      ]
     },
     "execution_count": 6,
     "metadata": {},
     "output_type": "execute_result"
    }
   ],
   "source": [
    "journeys1.head(10)"
   ]
  },
  {
   "cell_type": "markdown",
   "metadata": {},
   "source": [
    "### Sample data for speed"
   ]
  },
  {
   "cell_type": "code",
   "execution_count": 7,
   "metadata": {},
   "outputs": [],
   "source": [
    "journeys = journeys1.sample(frac=0.01, random_state=1234).copy()"
   ]
  },
  {
   "cell_type": "code",
   "execution_count": 8,
   "metadata": {},
   "outputs": [
    {
     "data": {
      "text/plain": [
       "(37889, 15)"
      ]
     },
     "execution_count": 8,
     "metadata": {},
     "output_type": "execute_result"
    }
   ],
   "source": [
    "journeys.shape"
   ]
  },
  {
   "cell_type": "markdown",
   "metadata": {},
   "source": [
    "### derive variables (create features...)"
   ]
  },
  {
   "cell_type": "code",
   "execution_count": 9,
   "metadata": {},
   "outputs": [],
   "source": [
    "journeys['page_list_eval'] = journeys['Page_List'].map(pd.eval)\n",
    "journeys['page_seq_len'] = journeys['page_list_eval'].map(len)"
   ]
  },
  {
   "cell_type": "code",
   "execution_count": 10,
   "metadata": {},
   "outputs": [],
   "source": [
    "journeys['page_list_NL_eval'] = journeys['Page_List_NL'].map(pd.eval)\n",
    "journeys['page_seq_len_NL'] = journeys['page_list_NL_eval'].map(len)"
   ]
  },
  {
   "cell_type": "code",
   "execution_count": 11,
   "metadata": {},
   "outputs": [],
   "source": [
    "# def contains_search(Page_List):\n",
    "#     search_in_sequence = 0\n",
    "#     thelist  = pd.eval(Page_List)\n",
    "    \n",
    "#     for page in thelist:\n",
    "#         if ('/search?' in page) or ('/search/' in page):\n",
    "#             search_in_sequence = 1\n",
    "            \n",
    "#     return search_in_sequence\n",
    "\n",
    "# def count_search(Page_List):\n",
    "#     times_search_in_sequence = 0\n",
    "#     thelist  = pd.eval(Page_List)\n",
    "    \n",
    "#     for page in thelist:\n",
    "#         if ('/search?' in page) or ('/search/' in page):\n",
    "#             times_search_in_sequence += 1\n",
    "#     return times_search_in_sequence\n",
    "\n",
    "\n",
    "# # journeys['contains_search'] = list(map(contains_search, journeys['Page_List']))\n",
    "\n",
    "# journeys['count_search'] = list(map(count_search, journeys['Page_List']))"
   ]
  },
  {
   "cell_type": "code",
   "execution_count": 12,
   "metadata": {},
   "outputs": [],
   "source": [
    "journeys['count_search'] = journeys.PageSequence.str.count(\"/search?\")+journeys.PageSequence.str.count(\"/search/\")"
   ]
  },
  {
   "cell_type": "code",
   "execution_count": 13,
   "metadata": {},
   "outputs": [],
   "source": [
    "journeys['event_list_contains_start'] = np.where(journeys.Event_List.str.contains(\"start\"), 1, 0)\n",
    "journeys['page_seq_contains_start'] = np.where(journeys.Sequence.str.contains(\"start\"), 1, 0)\n",
    "journeys['page_seq_contains_service.gov.uk'] = np.where(journeys.Sequence.str.contains(\"service.gov.uk\"), 1, 0)"
   ]
  },
  {
   "cell_type": "code",
   "execution_count": 14,
   "metadata": {},
   "outputs": [],
   "source": [
    "journeys['contains_search_regex'] = np.where((journeys.PageSequence.str.contains(\"/search?\")) | (journeys.PageSequence.str.contains(\"/search/\")), 1, 0)"
   ]
  },
  {
   "cell_type": "markdown",
   "metadata": {},
   "source": [
    "Get differnet results when using the contains_search function iterating over pagelist to the regex function in PageSequence. It would be good to understand why. "
   ]
  },
  {
   "cell_type": "code",
   "execution_count": 15,
   "metadata": {},
   "outputs": [],
   "source": [
    "journeys['contains_search_n'] = journeys['contains_search_regex']*journeys['Page_Seq_Occurrences']"
   ]
  },
  {
   "cell_type": "code",
   "execution_count": 16,
   "metadata": {},
   "outputs": [],
   "source": [
    "def get_end_page(Page_List):          \n",
    "    return pd.eval(Page_List)[-1]\n",
    "\n",
    "journeys['final_page'] = journeys['Page_List'].map(get_end_page)"
   ]
  },
  {
   "cell_type": "code",
   "execution_count": 17,
   "metadata": {},
   "outputs": [],
   "source": [
    "def count_desktop(DeviceCategories): \n",
    "    thelist  = pd.eval(DeviceCategories)\n",
    "    desktop = 0\n",
    "    mobile = 0\n",
    "    other = 0\n",
    "    for i in range(len(thelist)):\n",
    "        if thelist[i][0] =='desktop':\n",
    "            desktop = thelist[i][1]\n",
    "        elif thelist[i][0] =='mobile':\n",
    "            mobile = thelist[i][1]\n",
    "        else:\n",
    "            other = thelist[i][1]      \n",
    "    return desktop, mobile, other"
   ]
  },
  {
   "cell_type": "markdown",
   "metadata": {},
   "source": [
    "### Device used"
   ]
  },
  {
   "cell_type": "code",
   "execution_count": 18,
   "metadata": {},
   "outputs": [],
   "source": [
    "journeys['desktop'], journeys['mobile'], journeys['other_device'] = zip(*journeys['DeviceCategories'].map(count_desktop))"
   ]
  },
  {
   "cell_type": "code",
   "execution_count": 19,
   "metadata": {},
   "outputs": [],
   "source": [
    "journeys['more_desktop'] = np.where(journeys['desktop'] > (journeys['mobile']+journeys['other_device']), 1, 0)"
   ]
  },
  {
   "cell_type": "code",
   "execution_count": 20,
   "metadata": {},
   "outputs": [
    {
     "name": "stdout",
     "output_type": "stream",
     "text": [
      "more_desktop\n",
      "0    16304\n",
      "1    21585\n",
      "dtype: int64\n"
     ]
    },
    {
     "data": {
      "text/plain": [
       "<Figure size 2160x2160 with 0 Axes>"
      ]
     },
     "execution_count": 20,
     "metadata": {},
     "output_type": "execute_result"
    },
    {
     "data": {
      "image/png": "[encoded data removed]",
      "text/plain": [
       "<Figure size 432x288 with 1 Axes>"
      ]
     },
     "metadata": {},
     "output_type": "display_data"
    },
    {
     "data": {
      "text/plain": [
       "<Figure size 2160x2160 with 0 Axes>"
      ]
     },
     "metadata": {},
     "output_type": "display_data"
    }
   ],
   "source": [
    "print(journeys.groupby('more_desktop').size())\n",
    "plt.pie(journeys.groupby('more_desktop').size(), labels=['more_desktop', 'more_mobile+tablet'], autopct='%1.1f%%')\n",
    "plt.figure(figsize=(30,30))"
   ]
  },
  {
   "cell_type": "markdown",
   "metadata": {},
   "source": [
    "### journey length - Don't forget this data is only in journeys of more than 1 page\n",
    "### Think need to combine with klo for this. Also see what Matt's done already\n",
    "\n",
    "EEK, be careful of frequency counts because need to include Occurences column for this. This is harder to interpret than it looks"
   ]
  },
  {
   "cell_type": "code",
   "execution_count": 21,
   "metadata": {},
   "outputs": [
    {
     "data": {
      "text/plain": [
       "count    37889.000000\n",
       "mean         6.496556\n",
       "std          7.277339\n",
       "min          2.000000\n",
       "25%          3.000000\n",
       "50%          4.000000\n",
       "75%          7.000000\n",
       "max        423.000000\n",
       "Name: page_seq_len, dtype: float64"
      ]
     },
     "execution_count": 21,
     "metadata": {},
     "output_type": "execute_result"
    }
   ],
   "source": [
    "journeys['page_seq_len'].describe()"
   ]
  },
  {
   "cell_type": "markdown",
   "metadata": {},
   "source": [
    "### Make a long df a row for each session"
   ]
  },
  {
   "cell_type": "code",
   "execution_count": 22,
   "metadata": {},
   "outputs": [],
   "source": [
    "#make a smaller copy of data with only 2 cols ready to make it really looooong\n",
    "slim = journeys[['Occurrences','final_page','page_seq_len', 'page_seq_len_NL', 'event_list_contains_start', 'count_search', 'contains_search_regex', 'page_list_NL_eval', 'Page_Seq_NL', 'page_seq_contains_start', 'page_seq_contains_service.gov.uk']].copy()\n",
    "#repeat rows for each occurrence\n",
    "journey_expanded =  slim.loc[slim.index.repeat(slim['Occurrences'])].copy()\n"
   ]
  },
  {
   "cell_type": "code",
   "execution_count": 23,
   "metadata": {},
   "outputs": [
    {
     "data": {
      "text/plain": [
       "count    62513.000000\n",
       "mean         4.906995\n",
       "std          6.032192\n",
       "min          2.000000\n",
       "25%          2.000000\n",
       "50%          3.000000\n",
       "75%          5.000000\n",
       "max        423.000000\n",
       "Name: page_seq_len, dtype: float64"
      ]
     },
     "execution_count": 23,
     "metadata": {},
     "output_type": "execute_result"
    }
   ],
   "source": [
    "journey_expanded['page_seq_len'].describe()"
   ]
  },
  {
   "cell_type": "code",
   "execution_count": 24,
   "metadata": {},
   "outputs": [
    {
     "data": {
      "text/plain": [
       "count    62513.000000\n",
       "mean         4.496985\n",
       "std          5.760530\n",
       "min          1.000000\n",
       "25%          2.000000\n",
       "50%          3.000000\n",
       "75%          5.000000\n",
       "max        421.000000\n",
       "Name: page_seq_len_NL, dtype: float64"
      ]
     },
     "execution_count": 24,
     "metadata": {},
     "output_type": "execute_result"
    }
   ],
   "source": [
    "journey_expanded['page_seq_len_NL'].describe()"
   ]
  },
  {
   "cell_type": "code",
   "execution_count": 25,
   "metadata": {},
   "outputs": [
    {
     "data": {
      "text/plain": [
       "<matplotlib.axes._subplots.AxesSubplot at 0x135dce390>"
      ]
     },
     "execution_count": 25,
     "metadata": {},
     "output_type": "execute_result"
    },
    {
     "data": {
      "image/png": "[encoded data removed]",
      "text/plain": [
       "<Figure size 432x288 with 1 Axes>"
      ]
     },
     "metadata": {
      "needs_background": "light"
     },
     "output_type": "display_data"
    }
   ],
   "source": [
    "journey_expanded['page_seq_len'].hist(bins=122, grid=False)"
   ]
  },
  {
   "cell_type": "code",
   "execution_count": 26,
   "metadata": {},
   "outputs": [
    {
     "data": {
      "text/plain": [
       "<matplotlib.axes._subplots.AxesSubplot at 0x13ac12f28>"
      ]
     },
     "execution_count": 26,
     "metadata": {},
     "output_type": "execute_result"
    },
    {
     "data": {
      "image/png": "[encoded data removed]",
      "text/plain": [
       "<Figure size 432x288 with 1 Axes>"
      ]
     },
     "metadata": {
      "needs_background": "light"
     },
     "output_type": "display_data"
    }
   ],
   "source": [
    "journey_expanded['page_seq_len_NL'].hist(bins=122, grid=False)"
   ]
  },
  {
   "cell_type": "markdown",
   "metadata": {},
   "source": [
    "### Search counts"
   ]
  },
  {
   "cell_type": "code",
   "execution_count": 27,
   "metadata": {},
   "outputs": [
    {
     "name": "stdout",
     "output_type": "stream",
     "text": [
      "585019/21872391 (2.6746915780721%) of journeys contain internal search in their path\n"
     ]
    }
   ],
   "source": [
    "print(\"{}/{} ({}%) of journeys contain internal search in their path\".format(journeys['contains_search_n'].sum(),\n",
    "                                                                             journeys['Page_Seq_Occurrences'].sum(),\n",
    "                                                                             journeys['contains_search_n'].sum()/journeys['Page_Seq_Occurrences'].sum()*100))"
   ]
  },
  {
   "cell_type": "code",
   "execution_count": 28,
   "metadata": {},
   "outputs": [],
   "source": [
    "data = []\n",
    "for i in range(journeys['page_seq_len'].max()):\n",
    "    df = journeys[journeys['page_seq_len']==i]\n",
    "    if df['Page_Seq_Occurrences'].sum()>1:\n",
    "            percent = round(df['contains_search_n'].sum()/df['Page_Seq_Occurrences'].sum()*100, 1)\n",
    "            n = df['contains_search_n'].sum()\n",
    "            denom = df['Page_Seq_Occurrences'].sum()\n",
    "            p = percent/100\n",
    "            variance = (p*(1-p))/denom\n",
    "            data.append([i+1, n, denom, percent, variance])\n",
    "\n",
    "search_seqlength = pd.DataFrame(data, columns=['length', 'n', 'denom','percent', 'variance'])"
   ]
  },
  {
   "cell_type": "code",
   "execution_count": 29,
   "metadata": {},
   "outputs": [
    {
     "data": {
      "text/html": [
       "<div>\n",
       "<style scoped>\n",
       "    .dataframe tbody tr th:only-of-type {\n",
       "        vertical-align: middle;\n",
       "    }\n",
       "\n",
       "    .dataframe tbody tr th {\n",
       "        vertical-align: top;\n",
       "    }\n",
       "\n",
       "    .dataframe thead th {\n",
       "        text-align: right;\n",
       "    }\n",
       "</style>\n",
       "<table border=\"1\" class=\"dataframe\">\n",
       "  <thead>\n",
       "    <tr style=\"text-align: right;\">\n",
       "      <th></th>\n",
       "      <th>length</th>\n",
       "      <th>n</th>\n",
       "      <th>denom</th>\n",
       "      <th>percent</th>\n",
       "      <th>variance</th>\n",
       "    </tr>\n",
       "  </thead>\n",
       "  <tbody>\n",
       "    <tr>\n",
       "      <th>10</th>\n",
       "      <td>13</td>\n",
       "      <td>130</td>\n",
       "      <td>729</td>\n",
       "      <td>17.8</td>\n",
       "      <td>0.000201</td>\n",
       "    </tr>\n",
       "    <tr>\n",
       "      <th>11</th>\n",
       "      <td>14</td>\n",
       "      <td>116</td>\n",
       "      <td>606</td>\n",
       "      <td>19.1</td>\n",
       "      <td>0.000255</td>\n",
       "    </tr>\n",
       "    <tr>\n",
       "      <th>12</th>\n",
       "      <td>15</td>\n",
       "      <td>85</td>\n",
       "      <td>462</td>\n",
       "      <td>18.4</td>\n",
       "      <td>0.000325</td>\n",
       "    </tr>\n",
       "    <tr>\n",
       "      <th>13</th>\n",
       "      <td>16</td>\n",
       "      <td>81</td>\n",
       "      <td>389</td>\n",
       "      <td>20.8</td>\n",
       "      <td>0.000423</td>\n",
       "    </tr>\n",
       "    <tr>\n",
       "      <th>14</th>\n",
       "      <td>17</td>\n",
       "      <td>68</td>\n",
       "      <td>339</td>\n",
       "      <td>20.1</td>\n",
       "      <td>0.000474</td>\n",
       "    </tr>\n",
       "    <tr>\n",
       "      <th>15</th>\n",
       "      <td>18</td>\n",
       "      <td>78</td>\n",
       "      <td>252</td>\n",
       "      <td>31.0</td>\n",
       "      <td>0.000849</td>\n",
       "    </tr>\n",
       "    <tr>\n",
       "      <th>16</th>\n",
       "      <td>19</td>\n",
       "      <td>51</td>\n",
       "      <td>241</td>\n",
       "      <td>21.2</td>\n",
       "      <td>0.000693</td>\n",
       "    </tr>\n",
       "    <tr>\n",
       "      <th>17</th>\n",
       "      <td>20</td>\n",
       "      <td>35</td>\n",
       "      <td>182</td>\n",
       "      <td>19.2</td>\n",
       "      <td>0.000852</td>\n",
       "    </tr>\n",
       "    <tr>\n",
       "      <th>18</th>\n",
       "      <td>21</td>\n",
       "      <td>42</td>\n",
       "      <td>157</td>\n",
       "      <td>26.8</td>\n",
       "      <td>0.001250</td>\n",
       "    </tr>\n",
       "    <tr>\n",
       "      <th>19</th>\n",
       "      <td>22</td>\n",
       "      <td>30</td>\n",
       "      <td>141</td>\n",
       "      <td>21.3</td>\n",
       "      <td>0.001189</td>\n",
       "    </tr>\n",
       "    <tr>\n",
       "      <th>20</th>\n",
       "      <td>23</td>\n",
       "      <td>36</td>\n",
       "      <td>114</td>\n",
       "      <td>31.6</td>\n",
       "      <td>0.001896</td>\n",
       "    </tr>\n",
       "    <tr>\n",
       "      <th>21</th>\n",
       "      <td>24</td>\n",
       "      <td>29</td>\n",
       "      <td>106</td>\n",
       "      <td>27.4</td>\n",
       "      <td>0.001877</td>\n",
       "    </tr>\n",
       "    <tr>\n",
       "      <th>22</th>\n",
       "      <td>25</td>\n",
       "      <td>28</td>\n",
       "      <td>102</td>\n",
       "      <td>27.5</td>\n",
       "      <td>0.001955</td>\n",
       "    </tr>\n",
       "    <tr>\n",
       "      <th>23</th>\n",
       "      <td>26</td>\n",
       "      <td>25</td>\n",
       "      <td>83</td>\n",
       "      <td>30.1</td>\n",
       "      <td>0.002535</td>\n",
       "    </tr>\n",
       "    <tr>\n",
       "      <th>24</th>\n",
       "      <td>27</td>\n",
       "      <td>15</td>\n",
       "      <td>72</td>\n",
       "      <td>20.8</td>\n",
       "      <td>0.002288</td>\n",
       "    </tr>\n",
       "    <tr>\n",
       "      <th>25</th>\n",
       "      <td>28</td>\n",
       "      <td>20</td>\n",
       "      <td>65</td>\n",
       "      <td>30.8</td>\n",
       "      <td>0.003279</td>\n",
       "    </tr>\n",
       "    <tr>\n",
       "      <th>26</th>\n",
       "      <td>29</td>\n",
       "      <td>11</td>\n",
       "      <td>49</td>\n",
       "      <td>22.4</td>\n",
       "      <td>0.003547</td>\n",
       "    </tr>\n",
       "  </tbody>\n",
       "</table>\n",
       "</div>"
      ],
      "text/plain": [
       "    length    n  denom  percent  variance\n",
       "10      13  130    729     17.8  0.000201\n",
       "11      14  116    606     19.1  0.000255\n",
       "12      15   85    462     18.4  0.000325\n",
       "13      16   81    389     20.8  0.000423\n",
       "14      17   68    339     20.1  0.000474\n",
       "15      18   78    252     31.0  0.000849\n",
       "16      19   51    241     21.2  0.000693\n",
       "17      20   35    182     19.2  0.000852\n",
       "18      21   42    157     26.8  0.001250\n",
       "19      22   30    141     21.3  0.001189\n",
       "20      23   36    114     31.6  0.001896\n",
       "21      24   29    106     27.4  0.001877\n",
       "22      25   28    102     27.5  0.001955\n",
       "23      26   25     83     30.1  0.002535\n",
       "24      27   15     72     20.8  0.002288\n",
       "25      28   20     65     30.8  0.003279\n",
       "26      29   11     49     22.4  0.003547"
      ]
     },
     "execution_count": 29,
     "metadata": {},
     "output_type": "execute_result"
    }
   ],
   "source": [
    "search_seqlength.iloc[10:27]"
   ]
  },
  {
   "cell_type": "code",
   "execution_count": 30,
   "metadata": {},
   "outputs": [
    {
     "data": {
      "text/plain": [
       "count     75.000000\n",
       "mean      42.306667\n",
       "std       25.914085\n",
       "min        3.000000\n",
       "25%       21.500000\n",
       "50%       40.000000\n",
       "75%       58.500000\n",
       "max      108.000000\n",
       "Name: length, dtype: float64"
      ]
     },
     "execution_count": 30,
     "metadata": {},
     "output_type": "execute_result"
    }
   ],
   "source": [
    "search_seqlength['length'].describe()"
   ]
  },
  {
   "cell_type": "code",
   "execution_count": 31,
   "metadata": {},
   "outputs": [
    {
     "data": {
      "text/plain": [
       "Text(0, 0.5, 'Percent of journeys used internal search')"
      ]
     },
     "execution_count": 31,
     "metadata": {},
     "output_type": "execute_result"
    },
    {
     "data": {
      "image/png": "[encoded data removed]",
      "text/plain": [
       "<Figure size 432x288 with 1 Axes>"
      ]
     },
     "metadata": {
      "needs_background": "light"
     },
     "output_type": "display_data"
    }
   ],
   "source": [
    "ax = search_seqlength.plot.scatter(x='length', y='percent')\n",
    "ax.set_xlabel(\"Number of pages in journey\")\n",
    "ax.set_ylabel(\"Percent of journeys used internal search\")"
   ]
  },
  {
   "cell_type": "code",
   "execution_count": 32,
   "metadata": {},
   "outputs": [
    {
     "data": {
      "text/plain": [
       "(0, 312)"
      ]
     },
     "execution_count": 32,
     "metadata": {},
     "output_type": "execute_result"
    },
    {
     "data": {
      "image/png": "[encoded data removed]",
      "text/plain": [
       "<Figure size 432x288 with 1 Axes>"
      ]
     },
     "metadata": {
      "needs_background": "light"
     },
     "output_type": "display_data"
    }
   ],
   "source": [
    "ax = sns.scatterplot(x=\"length\", y=\"percent\", size=\"variance\", data=search_seqlength)\n",
    "ax.set_xlabel(\"Number of pages in journey*\")\n",
    "ax.set_ylabel(\"Percent of journeys used internal search\")\n",
    "ax.set_xlim(0, 312)"
   ]
  },
  {
   "cell_type": "code",
   "execution_count": 33,
   "metadata": {},
   "outputs": [
    {
     "name": "stdout",
     "output_type": "stream",
     "text": [
      "13877/493882 (2.8097804738783756%) of longerthan3 contain internal search in their path\n"
     ]
    }
   ],
   "source": [
    "longerthan3 = journeys[journeys['page_seq_len']>3]\n",
    "\n",
    "print(\"{}/{} ({}%) of longerthan3 contain internal search in their path\".format(longerthan3['contains_search_n'].sum(),\n",
    "                                                                             longerthan3['Page_Seq_Occurrences'].sum(),\n",
    "                                                                             longerthan3['contains_search_n'].sum()/longerthan3['Page_Seq_Occurrences'].sum()*100))"
   ]
  },
  {
   "cell_type": "code",
   "execution_count": 34,
   "metadata": {},
   "outputs": [
    {
     "data": {
      "text/plain": [
       "count    5299.000000\n",
       "mean        8.692772\n",
       "std         9.215161\n",
       "min         2.000000\n",
       "25%         4.000000\n",
       "50%         6.000000\n",
       "75%        10.000000\n",
       "max       236.000000\n",
       "Name: page_seq_len, dtype: float64"
      ]
     },
     "execution_count": 34,
     "metadata": {},
     "output_type": "execute_result"
    }
   ],
   "source": [
    "journeys[journeys['contains_search_regex']==1].page_seq_len.describe()"
   ]
  },
  {
   "cell_type": "code",
   "execution_count": 35,
   "metadata": {},
   "outputs": [
    {
     "data": {
      "text/plain": [
       "count    37889.000000\n",
       "mean         6.496556\n",
       "std          7.277339\n",
       "min          2.000000\n",
       "25%          3.000000\n",
       "50%          4.000000\n",
       "75%          7.000000\n",
       "max        423.000000\n",
       "Name: page_seq_len, dtype: float64"
      ]
     },
     "execution_count": 35,
     "metadata": {},
     "output_type": "execute_result"
    }
   ],
   "source": [
    "journeys.page_seq_len.describe()"
   ]
  },
  {
   "cell_type": "code",
   "execution_count": 36,
   "metadata": {},
   "outputs": [
    {
     "data": {
      "text/plain": [
       "count    37889.000000\n",
       "mean         0.284832\n",
       "std          1.093474\n",
       "min          0.000000\n",
       "25%          0.000000\n",
       "50%          0.000000\n",
       "75%          0.000000\n",
       "max         33.000000\n",
       "Name: count_search, dtype: float64"
      ]
     },
     "execution_count": 36,
     "metadata": {},
     "output_type": "execute_result"
    }
   ],
   "source": [
    "journeys['count_search'].describe()"
   ]
  },
  {
   "cell_type": "code",
   "execution_count": 37,
   "metadata": {},
   "outputs": [
    {
     "data": {
      "text/plain": [
       "count    5299.000000\n",
       "mean        2.036611\n",
       "std         2.232135\n",
       "min         1.000000\n",
       "25%         1.000000\n",
       "50%         1.000000\n",
       "75%         2.000000\n",
       "max        33.000000\n",
       "Name: count_search, dtype: float64"
      ]
     },
     "execution_count": 37,
     "metadata": {},
     "output_type": "execute_result"
    }
   ],
   "source": [
    "journeys[journeys['contains_search_regex']==1].count_search.describe()"
   ]
  },
  {
   "cell_type": "code",
   "execution_count": 38,
   "metadata": {},
   "outputs": [
    {
     "data": {
      "text/plain": [
       "Text(0, 0.5, 'Number of journeys')"
      ]
     },
     "execution_count": 38,
     "metadata": {},
     "output_type": "execute_result"
    },
    {
     "data": {
      "image/png": "[encoded data removed]",
      "text/plain": [
       "<Figure size 432x288 with 1 Axes>"
      ]
     },
     "metadata": {
      "needs_background": "light"
     },
     "output_type": "display_data"
    }
   ],
   "source": [
    "ax = journeys[journeys['contains_search_regex']==1].count_search.hist(bins=300, grid=False)\n",
    "ax.set_xlabel(\"Number of times search used in journey\")\n",
    "ax.set_ylabel(\"Number of journeys\")"
   ]
  },
  {
   "cell_type": "code",
   "execution_count": 39,
   "metadata": {},
   "outputs": [
    {
     "data": {
      "text/plain": [
       "(0, 10)"
      ]
     },
     "execution_count": 39,
     "metadata": {},
     "output_type": "execute_result"
    },
    {
     "data": {
      "image/png": "[encoded data removed]",
      "text/plain": [
       "<Figure size 432x288 with 1 Axes>"
      ]
     },
     "metadata": {
      "needs_background": "light"
     },
     "output_type": "display_data"
    }
   ],
   "source": [
    "ax = journey_expanded[journey_expanded['contains_search_regex']==1].count_search.hist(bins=300, grid=False)\n",
    "ax.set_xlabel(\"Number of times search used in journey\")\n",
    "ax.set_ylabel(\"Number of journeys\")\n",
    "ax.set_xlim(0, 10)"
   ]
  },
  {
   "cell_type": "code",
   "execution_count": 40,
   "metadata": {},
   "outputs": [
    {
     "data": {
      "text/plain": [
       "(0, 10)"
      ]
     },
     "execution_count": 40,
     "metadata": {},
     "output_type": "execute_result"
    },
    {
     "data": {
      "image/png": "[encoded data removed]",
      "text/plain": [
       "<Figure size 432x288 with 1 Axes>"
      ]
     },
     "metadata": {
      "needs_background": "light"
     },
     "output_type": "display_data"
    }
   ],
   "source": [
    "ax = journey_expanded.count_search.hist(bins=300, grid=False)\n",
    "ax.set_xlabel(\"Number of times search used in journey\")\n",
    "ax.set_ylabel(\"Number of journeys\")\n",
    "ax.set_xlim(0, 10)"
   ]
  },
  {
   "cell_type": "code",
   "execution_count": 41,
   "metadata": {},
   "outputs": [
    {
     "data": {
      "text/plain": [
       "(0, 312)"
      ]
     },
     "execution_count": 41,
     "metadata": {},
     "output_type": "execute_result"
    },
    {
     "data": {
      "image/png": "[encoded data removed]",
      "text/plain": [
       "<Figure size 432x288 with 1 Axes>"
      ]
     },
     "metadata": {
      "needs_background": "light"
     },
     "output_type": "display_data"
    }
   ],
   "source": [
    "ax = sns.scatterplot(x=\"page_seq_len\", y=\"count_search\", data=journey_expanded)\n",
    "ax.set_xlabel(\"Number of pages in journey*\")\n",
    "ax.set_ylabel(\"Number of times of search used in journey\")\n",
    "ax.set_xlim(0, 312)"
   ]
  },
  {
   "cell_type": "code",
   "execution_count": 42,
   "metadata": {},
   "outputs": [],
   "source": [
    "# f, ax = plt.subplots(figsize=(6, 6))\n",
    "# cmap = sns.cubehelix_palette(as_cmap=True, dark=0, light=1, reverse=True)\n",
    "# sns.kdeplot(journey_expanded.page_seq_len, journey_expanded.count_search, cmap=cmap, n_levels=1000, shade=True)\n",
    "# ax.set_xlim(0, 100)\n",
    "# ax.set_ylim(0, 10)"
   ]
  },
  {
   "cell_type": "code",
   "execution_count": 43,
   "metadata": {},
   "outputs": [],
   "source": [
    "# f, ax = plt.subplots(figsize=(6, 6))\n",
    "# sns.kdeplot(journey_expanded.page_seq_len, journey_expanded.count_search, ax=ax)\n",
    "# sns.rugplot(journey_expanded.page_seq_len, color=\"g\", ax=ax)\n",
    "# sns.rugplot(journey_expanded.count_search, vertical=True, ax=ax)\n"
   ]
  },
  {
   "cell_type": "code",
   "execution_count": 44,
   "metadata": {},
   "outputs": [],
   "source": [
    "# with sns.axes_style(\"white\"):\n",
    "#     sns.jointplot(x=journey_expanded.page_seq_len, y=journey_expanded.count_search, kind=\"hex\", color=\"k\")"
   ]
  },
  {
   "cell_type": "code",
   "execution_count": 45,
   "metadata": {},
   "outputs": [],
   "source": [
    "longerthan10 = journey_expanded[journey_expanded['page_seq_len']>10]"
   ]
  },
  {
   "cell_type": "code",
   "execution_count": 46,
   "metadata": {},
   "outputs": [
    {
     "data": {
      "text/plain": [
       "(0, 100)"
      ]
     },
     "execution_count": 46,
     "metadata": {},
     "output_type": "execute_result"
    },
    {
     "data": {
      "image/png": "[encoded data removed]",
      "text/plain": [
       "<Figure size 432x288 with 1 Axes>"
      ]
     },
     "metadata": {
      "needs_background": "light"
     },
     "output_type": "display_data"
    }
   ],
   "source": [
    "ax = longerthan10[longerthan10['contains_search_regex']==1].count_search.hist(bins=9, grid=False)\n",
    "ax.set_xlabel(\"Number of times search used in journey\")\n",
    "ax.set_ylabel(\"Number of journeys\")\n",
    "ax.set_xlim(0, 100)"
   ]
  },
  {
   "cell_type": "code",
   "execution_count": 47,
   "metadata": {},
   "outputs": [
    {
     "data": {
      "text/plain": [
       "count    1229.000000\n",
       "mean        3.519935\n",
       "std         3.874955\n",
       "min         1.000000\n",
       "25%         1.000000\n",
       "50%         2.000000\n",
       "75%         4.000000\n",
       "max        33.000000\n",
       "Name: count_search, dtype: float64"
      ]
     },
     "execution_count": 47,
     "metadata": {},
     "output_type": "execute_result"
    }
   ],
   "source": [
    "longerthan10[longerthan10['contains_search_regex']==1].count_search.describe()"
   ]
  },
  {
   "cell_type": "code",
   "execution_count": 48,
   "metadata": {},
   "outputs": [
    {
     "data": {
      "text/plain": [
       "(1229, 11)"
      ]
     },
     "execution_count": 48,
     "metadata": {},
     "output_type": "execute_result"
    }
   ],
   "source": [
    "longerthan10[longerthan10['contains_search_regex']==1].shape"
   ]
  },
  {
   "cell_type": "code",
   "execution_count": 49,
   "metadata": {},
   "outputs": [
    {
     "data": {
      "text/plain": [
       "(5371, 11)"
      ]
     },
     "execution_count": 49,
     "metadata": {},
     "output_type": "execute_result"
    }
   ],
   "source": [
    "longerthan10.shape"
   ]
  },
  {
   "cell_type": "markdown",
   "metadata": {},
   "source": [
    "### Most frequent pages"
   ]
  },
  {
   "cell_type": "code",
   "execution_count": 50,
   "metadata": {},
   "outputs": [],
   "source": [
    "# lst_col = 'Page_Seq_NL'\n",
    "\n",
    "# r = pd.DataFrame({\n",
    "#       col:np.repeat(journey_expanded[col].values, journey_expanded[lst_col].str.len())\n",
    "#       for col in journey_expanded.columns.drop(lst_col)}\n",
    "#     ).assign(**{lst_col:np.concatenate(journey_expanded[lst_col].values)})[journey_expanded.columns]"
   ]
  },
  {
   "cell_type": "code",
   "execution_count": 51,
   "metadata": {},
   "outputs": [],
   "source": [
    "journey_expanded['journey_type'] = journey_expanded.index"
   ]
  },
  {
   "cell_type": "code",
   "execution_count": 52,
   "metadata": {},
   "outputs": [],
   "source": [
    "journey_expanded.reset_index(inplace=True)\n",
    "journey_expanded['journey'] = journey_expanded.index"
   ]
  },
  {
   "cell_type": "code",
   "execution_count": 53,
   "metadata": {},
   "outputs": [
    {
     "data": {
      "text/html": [
       "<div>\n",
       "<style scoped>\n",
       "    .dataframe tbody tr th:only-of-type {\n",
       "        vertical-align: middle;\n",
       "    }\n",
       "\n",
       "    .dataframe tbody tr th {\n",
       "        vertical-align: top;\n",
       "    }\n",
       "\n",
       "    .dataframe thead th {\n",
       "        text-align: right;\n",
       "    }\n",
       "</style>\n",
       "<table border=\"1\" class=\"dataframe\">\n",
       "  <thead>\n",
       "    <tr style=\"text-align: right;\">\n",
       "      <th></th>\n",
       "      <th>index</th>\n",
       "      <th>Occurrences</th>\n",
       "      <th>final_page</th>\n",
       "      <th>page_seq_len</th>\n",
       "      <th>page_seq_len_NL</th>\n",
       "      <th>event_list_contains_start</th>\n",
       "      <th>count_search</th>\n",
       "      <th>contains_search_regex</th>\n",
       "      <th>page_list_NL_eval</th>\n",
       "      <th>Page_Seq_NL</th>\n",
       "      <th>page_seq_contains_start</th>\n",
       "      <th>page_seq_contains_service.gov.uk</th>\n",
       "      <th>journey_type</th>\n",
       "      <th>journey</th>\n",
       "    </tr>\n",
       "  </thead>\n",
       "  <tbody>\n",
       "    <tr>\n",
       "      <th>0</th>\n",
       "      <td>1617653</td>\n",
       "      <td>1</td>\n",
       "      <td>/browse/business/premises-rates</td>\n",
       "      <td>4</td>\n",
       "      <td>4</td>\n",
       "      <td>0</td>\n",
       "      <td>1</td>\n",
       "      <td>1</td>\n",
       "      <td>[/government/organisations/hm-revenue-customs,...</td>\n",
       "      <td>/government/organisations/hm-revenue-customs&gt;&gt;...</td>\n",
       "      <td>0</td>\n",
       "      <td>0</td>\n",
       "      <td>1617653</td>\n",
       "      <td>0</td>\n",
       "    </tr>\n",
       "    <tr>\n",
       "      <th>1</th>\n",
       "      <td>3403926</td>\n",
       "      <td>1</td>\n",
       "      <td>/business-finance-support?keywords=&amp;types_of_s...</td>\n",
       "      <td>5</td>\n",
       "      <td>5</td>\n",
       "      <td>0</td>\n",
       "      <td>0</td>\n",
       "      <td>0</td>\n",
       "      <td>[/business-finance-support, /business-finance-...</td>\n",
       "      <td>/business-finance-support&gt;&gt;/business-finance-s...</td>\n",
       "      <td>1</td>\n",
       "      <td>0</td>\n",
       "      <td>3403926</td>\n",
       "      <td>1</td>\n",
       "    </tr>\n",
       "    <tr>\n",
       "      <th>2</th>\n",
       "      <td>3092147</td>\n",
       "      <td>1</td>\n",
       "      <td>/vehicle-tax</td>\n",
       "      <td>4</td>\n",
       "      <td>2</td>\n",
       "      <td>0</td>\n",
       "      <td>0</td>\n",
       "      <td>0</td>\n",
       "      <td>[/check-vehicle-tax, /vehicle-tax]</td>\n",
       "      <td>/check-vehicle-tax&gt;&gt;/vehicle-tax</td>\n",
       "      <td>0</td>\n",
       "      <td>1</td>\n",
       "      <td>3092147</td>\n",
       "      <td>2</td>\n",
       "    </tr>\n",
       "    <tr>\n",
       "      <th>3</th>\n",
       "      <td>2209774</td>\n",
       "      <td>1</td>\n",
       "      <td>/eu-withdrawal-act-2018-statutory-instruments/...</td>\n",
       "      <td>3</td>\n",
       "      <td>1</td>\n",
       "      <td>0</td>\n",
       "      <td>0</td>\n",
       "      <td>0</td>\n",
       "      <td>[/eu-withdrawal-act-2018-statutory-instruments...</td>\n",
       "      <td>/eu-withdrawal-act-2018-statutory-instruments/...</td>\n",
       "      <td>0</td>\n",
       "      <td>1</td>\n",
       "      <td>2209774</td>\n",
       "      <td>3</td>\n",
       "    </tr>\n",
       "    <tr>\n",
       "      <th>4</th>\n",
       "      <td>1739499</td>\n",
       "      <td>1</td>\n",
       "      <td>/guidance/immigration-rules/immigration-rules-...</td>\n",
       "      <td>7</td>\n",
       "      <td>7</td>\n",
       "      <td>0</td>\n",
       "      <td>0</td>\n",
       "      <td>0</td>\n",
       "      <td>[/government/organisations/uk-visas-and-immigr...</td>\n",
       "      <td>/government/organisations/uk-visas-and-immigra...</td>\n",
       "      <td>0</td>\n",
       "      <td>0</td>\n",
       "      <td>1739499</td>\n",
       "      <td>4</td>\n",
       "    </tr>\n",
       "  </tbody>\n",
       "</table>\n",
       "</div>"
      ],
      "text/plain": [
       "     index  Occurrences                                         final_page  \\\n",
       "0  1617653            1                    /browse/business/premises-rates   \n",
       "1  3403926            1  /business-finance-support?keywords=&types_of_s...   \n",
       "2  3092147            1                                       /vehicle-tax   \n",
       "3  2209774            1  /eu-withdrawal-act-2018-statutory-instruments/...   \n",
       "4  1739499            1  /guidance/immigration-rules/immigration-rules-...   \n",
       "\n",
       "   page_seq_len  page_seq_len_NL  event_list_contains_start  count_search  \\\n",
       "0             4                4                          0             1   \n",
       "1             5                5                          0             0   \n",
       "2             4                2                          0             0   \n",
       "3             3                1                          0             0   \n",
       "4             7                7                          0             0   \n",
       "\n",
       "   contains_search_regex                                  page_list_NL_eval  \\\n",
       "0                      1  [/government/organisations/hm-revenue-customs,...   \n",
       "1                      0  [/business-finance-support, /business-finance-...   \n",
       "2                      0                 [/check-vehicle-tax, /vehicle-tax]   \n",
       "3                      0  [/eu-withdrawal-act-2018-statutory-instruments...   \n",
       "4                      0  [/government/organisations/uk-visas-and-immigr...   \n",
       "\n",
       "                                         Page_Seq_NL  page_seq_contains_start  \\\n",
       "0  /government/organisations/hm-revenue-customs>>...                        0   \n",
       "1  /business-finance-support>>/business-finance-s...                        1   \n",
       "2                   /check-vehicle-tax>>/vehicle-tax                        0   \n",
       "3  /eu-withdrawal-act-2018-statutory-instruments/...                        0   \n",
       "4  /government/organisations/uk-visas-and-immigra...                        0   \n",
       "\n",
       "   page_seq_contains_service.gov.uk  journey_type  journey  \n",
       "0                                 0       1617653        0  \n",
       "1                                 0       3403926        1  \n",
       "2                                 1       3092147        2  \n",
       "3                                 1       2209774        3  \n",
       "4                                 0       1739499        4  "
      ]
     },
     "execution_count": 53,
     "metadata": {},
     "output_type": "execute_result"
    }
   ],
   "source": [
    "journey_expanded.head()"
   ]
  },
  {
   "cell_type": "code",
   "execution_count": 54,
   "metadata": {},
   "outputs": [],
   "source": [
    "#this gives me a new row for every page in the no loop page list in the data which already has a row for every occurrence\n",
    "#so now each row represents a single occurrence of that page within a journey\n",
    "\n",
    "s = journey_expanded.apply(lambda x: pd.Series(x['page_list_NL_eval']),axis=1).stack().reset_index(level=1, drop=True)\n",
    "s.name = 'page'\n",
    "page_expanded = journey_expanded.join(s).copy()"
   ]
  },
  {
   "cell_type": "code",
   "execution_count": 55,
   "metadata": {},
   "outputs": [
    {
     "data": {
      "text/html": [
       "<div>\n",
       "<style scoped>\n",
       "    .dataframe tbody tr th:only-of-type {\n",
       "        vertical-align: middle;\n",
       "    }\n",
       "\n",
       "    .dataframe tbody tr th {\n",
       "        vertical-align: top;\n",
       "    }\n",
       "\n",
       "    .dataframe thead th {\n",
       "        text-align: right;\n",
       "    }\n",
       "</style>\n",
       "<table border=\"1\" class=\"dataframe\">\n",
       "  <thead>\n",
       "    <tr style=\"text-align: right;\">\n",
       "      <th></th>\n",
       "      <th>index</th>\n",
       "      <th>Occurrences</th>\n",
       "      <th>final_page</th>\n",
       "      <th>page_seq_len</th>\n",
       "      <th>page_seq_len_NL</th>\n",
       "      <th>event_list_contains_start</th>\n",
       "      <th>count_search</th>\n",
       "      <th>contains_search_regex</th>\n",
       "      <th>page_list_NL_eval</th>\n",
       "      <th>Page_Seq_NL</th>\n",
       "      <th>page_seq_contains_start</th>\n",
       "      <th>page_seq_contains_service.gov.uk</th>\n",
       "      <th>journey_type</th>\n",
       "      <th>journey</th>\n",
       "      <th>page</th>\n",
       "    </tr>\n",
       "  </thead>\n",
       "  <tbody>\n",
       "    <tr>\n",
       "      <th>0</th>\n",
       "      <td>1617653</td>\n",
       "      <td>1</td>\n",
       "      <td>/browse/business/premises-rates</td>\n",
       "      <td>4</td>\n",
       "      <td>4</td>\n",
       "      <td>0</td>\n",
       "      <td>1</td>\n",
       "      <td>1</td>\n",
       "      <td>[/government/organisations/hm-revenue-customs,...</td>\n",
       "      <td>/government/organisations/hm-revenue-customs&gt;&gt;...</td>\n",
       "      <td>0</td>\n",
       "      <td>0</td>\n",
       "      <td>1617653</td>\n",
       "      <td>0</td>\n",
       "      <td>/government/organisations/hm-revenue-customs</td>\n",
       "    </tr>\n",
       "    <tr>\n",
       "      <th>0</th>\n",
       "      <td>1617653</td>\n",
       "      <td>1</td>\n",
       "      <td>/browse/business/premises-rates</td>\n",
       "      <td>4</td>\n",
       "      <td>4</td>\n",
       "      <td>0</td>\n",
       "      <td>1</td>\n",
       "      <td>1</td>\n",
       "      <td>[/government/organisations/hm-revenue-customs,...</td>\n",
       "      <td>/government/organisations/hm-revenue-customs&gt;&gt;...</td>\n",
       "      <td>0</td>\n",
       "      <td>0</td>\n",
       "      <td>1617653</td>\n",
       "      <td>0</td>\n",
       "      <td>/search?q=business+rates</td>\n",
       "    </tr>\n",
       "    <tr>\n",
       "      <th>0</th>\n",
       "      <td>1617653</td>\n",
       "      <td>1</td>\n",
       "      <td>/browse/business/premises-rates</td>\n",
       "      <td>4</td>\n",
       "      <td>4</td>\n",
       "      <td>0</td>\n",
       "      <td>1</td>\n",
       "      <td>1</td>\n",
       "      <td>[/government/organisations/hm-revenue-customs,...</td>\n",
       "      <td>/government/organisations/hm-revenue-customs&gt;&gt;...</td>\n",
       "      <td>0</td>\n",
       "      <td>0</td>\n",
       "      <td>1617653</td>\n",
       "      <td>0</td>\n",
       "      <td>/correct-your-business-rates</td>\n",
       "    </tr>\n",
       "    <tr>\n",
       "      <th>0</th>\n",
       "      <td>1617653</td>\n",
       "      <td>1</td>\n",
       "      <td>/browse/business/premises-rates</td>\n",
       "      <td>4</td>\n",
       "      <td>4</td>\n",
       "      <td>0</td>\n",
       "      <td>1</td>\n",
       "      <td>1</td>\n",
       "      <td>[/government/organisations/hm-revenue-customs,...</td>\n",
       "      <td>/government/organisations/hm-revenue-customs&gt;&gt;...</td>\n",
       "      <td>0</td>\n",
       "      <td>0</td>\n",
       "      <td>1617653</td>\n",
       "      <td>0</td>\n",
       "      <td>/browse/business/premises-rates</td>\n",
       "    </tr>\n",
       "    <tr>\n",
       "      <th>1</th>\n",
       "      <td>3403926</td>\n",
       "      <td>1</td>\n",
       "      <td>/business-finance-support?keywords=&amp;types_of_s...</td>\n",
       "      <td>5</td>\n",
       "      <td>5</td>\n",
       "      <td>0</td>\n",
       "      <td>0</td>\n",
       "      <td>0</td>\n",
       "      <td>[/business-finance-support, /business-finance-...</td>\n",
       "      <td>/business-finance-support&gt;&gt;/business-finance-s...</td>\n",
       "      <td>1</td>\n",
       "      <td>0</td>\n",
       "      <td>3403926</td>\n",
       "      <td>1</td>\n",
       "      <td>/business-finance-support</td>\n",
       "    </tr>\n",
       "  </tbody>\n",
       "</table>\n",
       "</div>"
      ],
      "text/plain": [
       "     index  Occurrences                                         final_page  \\\n",
       "0  1617653            1                    /browse/business/premises-rates   \n",
       "0  1617653            1                    /browse/business/premises-rates   \n",
       "0  1617653            1                    /browse/business/premises-rates   \n",
       "0  1617653            1                    /browse/business/premises-rates   \n",
       "1  3403926            1  /business-finance-support?keywords=&types_of_s...   \n",
       "\n",
       "   page_seq_len  page_seq_len_NL  event_list_contains_start  count_search  \\\n",
       "0             4                4                          0             1   \n",
       "0             4                4                          0             1   \n",
       "0             4                4                          0             1   \n",
       "0             4                4                          0             1   \n",
       "1             5                5                          0             0   \n",
       "\n",
       "   contains_search_regex                                  page_list_NL_eval  \\\n",
       "0                      1  [/government/organisations/hm-revenue-customs,...   \n",
       "0                      1  [/government/organisations/hm-revenue-customs,...   \n",
       "0                      1  [/government/organisations/hm-revenue-customs,...   \n",
       "0                      1  [/government/organisations/hm-revenue-customs,...   \n",
       "1                      0  [/business-finance-support, /business-finance-...   \n",
       "\n",
       "                                         Page_Seq_NL  page_seq_contains_start  \\\n",
       "0  /government/organisations/hm-revenue-customs>>...                        0   \n",
       "0  /government/organisations/hm-revenue-customs>>...                        0   \n",
       "0  /government/organisations/hm-revenue-customs>>...                        0   \n",
       "0  /government/organisations/hm-revenue-customs>>...                        0   \n",
       "1  /business-finance-support>>/business-finance-s...                        1   \n",
       "\n",
       "   page_seq_contains_service.gov.uk  journey_type  journey  \\\n",
       "0                                 0       1617653        0   \n",
       "0                                 0       1617653        0   \n",
       "0                                 0       1617653        0   \n",
       "0                                 0       1617653        0   \n",
       "1                                 0       3403926        1   \n",
       "\n",
       "                                           page  \n",
       "0  /government/organisations/hm-revenue-customs  \n",
       "0                      /search?q=business+rates  \n",
       "0                  /correct-your-business-rates  \n",
       "0               /browse/business/premises-rates  \n",
       "1                     /business-finance-support  "
      ]
     },
     "execution_count": 55,
     "metadata": {},
     "output_type": "execute_result"
    }
   ],
   "source": [
    "page_expanded.head()"
   ]
  },
  {
   "cell_type": "code",
   "execution_count": 56,
   "metadata": {},
   "outputs": [
    {
     "name": "stdout",
     "output_type": "stream",
     "text": [
      "Total journeys = 62513 \n",
      "Total NL journey types = 34461 \n",
      "Mean number of journeys per journey type = 1.8140216476596733\n"
     ]
    }
   ],
   "source": [
    "print(\"Total journeys = {} \\nTotal NL journey types = {} \\nMean number of journeys per journey type = {}\".format(\n",
    "    journey_expanded.shape[0],\n",
    "    journey_expanded.Page_Seq_NL.nunique(),\n",
    "    journey_expanded.shape[0]/journey_expanded.Page_Seq_NL.nunique()))"
   ]
  },
  {
   "cell_type": "code",
   "execution_count": 57,
   "metadata": {},
   "outputs": [
    {
     "name": "stdout",
     "output_type": "stream",
     "text": [
      "Total journey made with loops = 62513 \n",
      "Total journey types = 37889 \n",
      "Total journey types without loops = 34461 \n",
      "Total pages visited = 281120\n"
     ]
    }
   ],
   "source": [
    "print(\"Total journey made with loops = {} \\nTotal journey types = {} \\nTotal journey types without loops = {} \\nTotal pages visited = {}\".format(\n",
    "    page_expanded.journey.nunique(),\n",
    "    page_expanded.journey_type.nunique(),\n",
    "    page_expanded.Page_Seq_NL.nunique(),\n",
    "    page_expanded.shape[0]))"
   ]
  },
  {
   "cell_type": "code",
   "execution_count": 58,
   "metadata": {},
   "outputs": [],
   "source": [
    "total_page_visits = page_expanded.shape[0]"
   ]
  },
  {
   "cell_type": "code",
   "execution_count": 59,
   "metadata": {},
   "outputs": [
    {
     "data": {
      "text/plain": [
       "count    62513.000000\n",
       "mean         4.496985\n",
       "std          5.760530\n",
       "min          1.000000\n",
       "25%          2.000000\n",
       "50%          3.000000\n",
       "75%          5.000000\n",
       "max        421.000000\n",
       "dtype: float64"
      ]
     },
     "execution_count": 59,
     "metadata": {},
     "output_type": "execute_result"
    }
   ],
   "source": [
    "page_expanded.groupby(['journey_type', 'journey']).size().describe()"
   ]
  },
  {
   "cell_type": "code",
   "execution_count": 60,
   "metadata": {},
   "outputs": [
    {
     "data": {
      "text/plain": [
       "count    62513.000000\n",
       "mean         4.496985\n",
       "std          5.760530\n",
       "min          1.000000\n",
       "25%          2.000000\n",
       "50%          3.000000\n",
       "75%          5.000000\n",
       "max        421.000000\n",
       "dtype: float64"
      ]
     },
     "execution_count": 60,
     "metadata": {},
     "output_type": "execute_result"
    }
   ],
   "source": [
    "page_expanded.groupby([ 'journey']).size().describe()"
   ]
  },
  {
   "cell_type": "markdown",
   "metadata": {},
   "source": [
    "Oh good, this is distribution of number of pages per journey and now matches journey_expanded['page_seq_len_NL'].describe()"
   ]
  },
  {
   "cell_type": "code",
   "execution_count": null,
   "metadata": {},
   "outputs": [],
   "source": []
  },
  {
   "cell_type": "code",
   "execution_count": 61,
   "metadata": {},
   "outputs": [],
   "source": [
    "# So I don't want to have more than one row for a page if it appeared twice in a session.\n",
    "# I think that's because we might expect pages to be viewed multiple times in a session for both the do-a-thing and chang-a-thing journeys\n",
    "# So I'm going to drop duplicate rows for a page within the same journey\n",
    "\n",
    "page_expanded_no_repeats = page_expanded.drop_duplicates(['journey', 'page']).copy()"
   ]
  },
  {
   "cell_type": "code",
   "execution_count": 62,
   "metadata": {},
   "outputs": [
    {
     "name": "stdout",
     "output_type": "stream",
     "text": [
      "Total journey made with loops = 62513 \n",
      "Total journey types = 37889 \n",
      "Total journey types without loops = 34461 \n",
      "Unique pages visited = 223855\n"
     ]
    }
   ],
   "source": [
    "print(\"Total journey made with loops = {} \\nTotal journey types = {} \\nTotal journey types without loops = {} \\nUnique pages visited = {}\".format(\n",
    "    page_expanded_no_repeats.journey.nunique(),\n",
    "    page_expanded_no_repeats.journey_type.nunique(),\n",
    "    page_expanded_no_repeats.Page_Seq_NL.nunique(),\n",
    "    page_expanded_no_repeats.shape[0]))"
   ]
  },
  {
   "cell_type": "code",
   "execution_count": 63,
   "metadata": {},
   "outputs": [
    {
     "name": "stdout",
     "output_type": "stream",
     "text": [
      "So there were 57265 pages that were visited at least once in a journey and won't be counted from now\n"
     ]
    }
   ],
   "source": [
    "print(\"So there were {} pages that were visited at least once in a journey and won't be counted from now\".format(\n",
    "page_expanded.shape[0]-page_expanded_no_repeats.shape[0]))"
   ]
  },
  {
   "cell_type": "code",
   "execution_count": 64,
   "metadata": {},
   "outputs": [
    {
     "name": "stdout",
     "output_type": "stream",
     "text": [
      "The mean number of visits to a single page in a journey =1.2558129146099037\n"
     ]
    }
   ],
   "source": [
    "print(\"The mean number of visits to a single page in a journey ={}\".format(\n",
    "    total_page_visits/page_expanded_no_repeats.shape[0]))"
   ]
  },
  {
   "cell_type": "code",
   "execution_count": 65,
   "metadata": {},
   "outputs": [
    {
     "data": {
      "text/plain": [
       "count    223855.000000\n",
       "mean          1.255813\n",
       "std           0.837007\n",
       "min           1.000000\n",
       "25%           1.000000\n",
       "50%           1.000000\n",
       "75%           1.000000\n",
       "max         197.000000\n",
       "dtype: float64"
      ]
     },
     "execution_count": 65,
     "metadata": {},
     "output_type": "execute_result"
    }
   ],
   "source": [
    "page_expanded.groupby(['journey', 'page']).size().describe()"
   ]
  },
  {
   "cell_type": "markdown",
   "metadata": {},
   "source": [
    "Most journeys (>=75%) (without loops) only visit a page once. The average is 1.25 because a small number of jounreys visit a page many times"
   ]
  },
  {
   "cell_type": "code",
   "execution_count": 66,
   "metadata": {},
   "outputs": [
    {
     "data": {
      "text/plain": [
       "count    40177.000000\n",
       "mean         5.571720\n",
       "std         69.432428\n",
       "min          1.000000\n",
       "25%          1.000000\n",
       "50%          1.000000\n",
       "75%          2.000000\n",
       "max      10939.000000\n",
       "dtype: float64"
      ]
     },
     "execution_count": 66,
     "metadata": {},
     "output_type": "execute_result"
    }
   ],
   "source": [
    "page_expanded_no_repeats.groupby([ 'page']).size().describe()"
   ]
  },
  {
   "cell_type": "code",
   "execution_count": 67,
   "metadata": {},
   "outputs": [
    {
     "data": {
      "image/png": "[encoded data removed]",
      "text/plain": [
       "<Figure size 432x288 with 1 Axes>"
      ]
     },
     "metadata": {
      "needs_background": "light"
     },
     "output_type": "display_data"
    }
   ],
   "source": [
    "ax = page_expanded_no_repeats.groupby([ 'page']).size().hist(bins=200)\n",
    "ax.set_yscale('log')"
   ]
  },
  {
   "cell_type": "markdown",
   "metadata": {},
   "source": [
    "This is the distribution of number of journeys containing a page. Some pages are in lots of journeys (10000) and half of pages are only in one. The mean number of jounreys a page is in is 5.6. "
   ]
  },
  {
   "cell_type": "markdown",
   "metadata": {},
   "source": [
    "Theres a 2% of content in 80% of sessionz thing that defines mainstream for some people. Is it true?"
   ]
  },
  {
   "cell_type": "code",
   "execution_count": 68,
   "metadata": {},
   "outputs": [
    {
     "name": "stdout",
     "output_type": "stream",
     "text": [
      "There are 40177 different pages\n"
     ]
    }
   ],
   "source": [
    "print(\"There are {} different pages\".format(\n",
    "    page_expanded_no_repeats.groupby([ 'page']).size().sort_values(ascending=False).shape[0]))\n",
    "\n",
    "unique_pages = page_expanded_no_repeats.groupby([ 'page']).size().sort_values(ascending=False).shape[0]"
   ]
  },
  {
   "cell_type": "code",
   "execution_count": 69,
   "metadata": {},
   "outputs": [],
   "source": [
    "top_2_percent = page_expanded_no_repeats.groupby([ 'page']).size().nlargest(int(unique_pages * 0.02))"
   ]
  },
  {
   "cell_type": "code",
   "execution_count": 70,
   "metadata": {},
   "outputs": [
    {
     "name": "stdout",
     "output_type": "stream",
     "text": [
      "the top 2% of pages are visited in 0.5790936097027093% of journeys\n"
     ]
    }
   ],
   "source": [
    "print(\"the top 2% of pages are visited in {}% of journeys\".format(\n",
    "    top_2_percent.sum()/page_expanded_no_repeats.groupby([ 'page']).size().sum()))"
   ]
  },
  {
   "cell_type": "code",
   "execution_count": 71,
   "metadata": {},
   "outputs": [
    {
     "name": "stdout",
     "output_type": "stream",
     "text": [
      "the top 13.0% of pages are visited in 0.8021174420942128% of journeys\n"
     ]
    }
   ],
   "source": [
    "percent = 0.13\n",
    "\n",
    "print(\"the top {}% of pages are visited in {}% of journeys\".format(\n",
    "    percent * 100,\n",
    "    page_expanded_no_repeats.groupby([ 'page']).size().nlargest(int(unique_pages * percent)).sum()/page_expanded_no_repeats.groupby([ 'page']).size().sum()))"
   ]
  },
  {
   "cell_type": "code",
   "execution_count": 72,
   "metadata": {},
   "outputs": [],
   "source": [
    "data = []\n",
    "for i in np.arange(0.0, 1.0, 0.001):\n",
    "    percent_of_pages = i*100\n",
    "    n = page_expanded_no_repeats.groupby([ 'page']).size().nlargest(int(unique_pages * i)).sum()\n",
    "    percent_of_journeys = n/page_expanded_no_repeats.groupby([ 'page']).size().sum()*100\n",
    "    data.append([percent_of_pages, n, percent_of_journeys])\n",
    "\n",
    "journey_to_content_relationship = pd.DataFrame(data, columns=['percent_of_pages', 'number_of_pages', 'percent_of_journeys'])"
   ]
  },
  {
   "cell_type": "code",
   "execution_count": 73,
   "metadata": {},
   "outputs": [
    {
     "data": {
      "text/plain": [
       "<matplotlib.patches.Rectangle at 0x1579d4160>"
      ]
     },
     "execution_count": 73,
     "metadata": {},
     "output_type": "execute_result"
    },
    {
     "data": {
      "image/png": "[encoded data removed]",
      "text/plain": [
       "<Figure size 432x288 with 1 Axes>"
      ]
     },
     "metadata": {
      "needs_background": "light"
     },
     "output_type": "display_data"
    }
   ],
   "source": [
    "ax = sns.scatterplot(x=\"percent_of_pages\", y=\"percent_of_journeys\", data=journey_to_content_relationship)\n",
    "ax.set_xlabel(\"Percent of pages in data\")\n",
    "ax.set_ylabel(\"Percent of journeys containing these pages\")\n",
    "\n",
    "# Create a Rectangle patch\n",
    "rect = patches.Rectangle((0,0),2,57,linewidth=1,edgecolor='r',facecolor='red', fill=True, alpha=0.5)\n",
    "rect2 = patches.Rectangle((0,0),13,80,linewidth=1,edgecolor='blue',facecolor='blue', fill=True, alpha=0.05)\n",
    "# Add the patch to the Axes\n",
    "ax.add_patch(rect)\n",
    "ax.add_patch(rect2)"
   ]
  },
  {
   "cell_type": "code",
   "execution_count": 74,
   "metadata": {},
   "outputs": [
    {
     "data": {
      "text/plain": [
       "<matplotlib.patches.Rectangle at 0x1427e1710>"
      ]
     },
     "execution_count": 74,
     "metadata": {},
     "output_type": "execute_result"
    },
    {
     "data": {
      "image/png": "[encoded data removed]",
      "text/plain": [
       "<Figure size 432x288 with 1 Axes>"
      ]
     },
     "metadata": {
      "needs_background": "light"
     },
     "output_type": "display_data"
    }
   ],
   "source": [
    "\n",
    "\n",
    "ax = sns.scatterplot(x=\"percent_of_pages\", y=\"percent_of_journeys\", data=journey_to_content_relationship)\n",
    "ax.set_xlabel(\"Percent of pages in data\")\n",
    "ax.set_ylabel(\"Percent of journeys containing these pages\")\n",
    "ax.set_xlim(0, 20)\n",
    "\n",
    "# Create a Rectangle patch\n",
    "rect = patches.Rectangle((0,0),2,57,linewidth=1,edgecolor='r',facecolor='red', fill=True, alpha=0.5)\n",
    "\n",
    "# Add the patch to the Axes\n",
    "ax.add_patch(rect)"
   ]
  },
  {
   "cell_type": "markdown",
   "metadata": {},
   "source": [
    "### journeys containing start pages"
   ]
  },
  {
   "cell_type": "code",
   "execution_count": 75,
   "metadata": {},
   "outputs": [
    {
     "data": {
      "text/plain": [
       "0    61696\n",
       "1      817\n",
       "Name: event_list_contains_start, dtype: int64"
      ]
     },
     "execution_count": 75,
     "metadata": {},
     "output_type": "execute_result"
    }
   ],
   "source": [
    "journey_expanded.event_list_contains_start.value_counts()"
   ]
  },
  {
   "cell_type": "code",
   "execution_count": 76,
   "metadata": {},
   "outputs": [
    {
     "data": {
      "text/plain": [
       "0    0.986931\n",
       "1    0.013069\n",
       "Name: event_list_contains_start, dtype: float64"
      ]
     },
     "execution_count": 76,
     "metadata": {},
     "output_type": "execute_result"
    }
   ],
   "source": [
    "journey_expanded.event_list_contains_start.value_counts(normalize=True)"
   ]
  },
  {
   "cell_type": "code",
   "execution_count": 77,
   "metadata": {},
   "outputs": [
    {
     "data": {
      "text/plain": [
       "0    60969\n",
       "1     1544\n",
       "Name: page_seq_contains_start, dtype: int64"
      ]
     },
     "execution_count": 77,
     "metadata": {},
     "output_type": "execute_result"
    }
   ],
   "source": [
    "journey_expanded.page_seq_contains_start.value_counts()"
   ]
  },
  {
   "cell_type": "code",
   "execution_count": 78,
   "metadata": {},
   "outputs": [
    {
     "data": {
      "text/plain": [
       "0    0.975301\n",
       "1    0.024699\n",
       "Name: page_seq_contains_start, dtype: float64"
      ]
     },
     "execution_count": 78,
     "metadata": {},
     "output_type": "execute_result"
    }
   ],
   "source": [
    "journey_expanded.page_seq_contains_start.value_counts(normalize=True)"
   ]
  },
  {
   "cell_type": "code",
   "execution_count": 79,
   "metadata": {},
   "outputs": [
    {
     "data": {
      "text/plain": [
       "<Figure size 2160x2160 with 0 Axes>"
      ]
     },
     "execution_count": 79,
     "metadata": {},
     "output_type": "execute_result"
    },
    {
     "data": {
      "image/png": "[encoded data removed]",
      "text/plain": [
       "<Figure size 432x288 with 1 Axes>"
      ]
     },
     "metadata": {},
     "output_type": "display_data"
    },
    {
     "data": {
      "text/plain": [
       "<Figure size 2160x2160 with 0 Axes>"
      ]
     },
     "metadata": {},
     "output_type": "display_data"
    }
   ],
   "source": [
    "\n",
    "plt.pie(journey_expanded.event_list_contains_start.value_counts(), labels=['start not in event list', 'the word start is in event list'], autopct='%1.1f%%')\n",
    "plt.figure(figsize=(30,30))"
   ]
  },
  {
   "cell_type": "code",
   "execution_count": 80,
   "metadata": {},
   "outputs": [
    {
     "data": {
      "text/plain": [
       "<Figure size 2160x2160 with 0 Axes>"
      ]
     },
     "execution_count": 80,
     "metadata": {},
     "output_type": "execute_result"
    },
    {
     "data": {
      "image/png": "[encoded data removed]",
      "text/plain": [
       "<Figure size 432x288 with 1 Axes>"
      ]
     },
     "metadata": {},
     "output_type": "display_data"
    },
    {
     "data": {
      "text/plain": [
       "<Figure size 2160x2160 with 0 Axes>"
      ]
     },
     "metadata": {},
     "output_type": "display_data"
    }
   ],
   "source": [
    "\n",
    "plt.pie(journey_expanded.page_seq_contains_start.value_counts(), labels=['start not in journey sequence', 'the word start is in journey sequence'], autopct='%1.1f%%')\n",
    "plt.figure(figsize=(30,30))"
   ]
  },
  {
   "cell_type": "code",
   "execution_count": 81,
   "metadata": {},
   "outputs": [
    {
     "data": {
      "text/plain": [
       "<Figure size 2160x2160 with 0 Axes>"
      ]
     },
     "execution_count": 81,
     "metadata": {},
     "output_type": "execute_result"
    },
    {
     "data": {
      "image/png": "[encoded data removed]",
      "text/plain": [
       "<Figure size 432x288 with 1 Axes>"
      ]
     },
     "metadata": {},
     "output_type": "display_data"
    },
    {
     "data": {
      "text/plain": [
       "<Figure size 2160x2160 with 0 Axes>"
      ]
     },
     "metadata": {},
     "output_type": "display_data"
    }
   ],
   "source": [
    "\n",
    "plt.pie(journey_expanded['page_seq_contains_service.gov.uk'].value_counts(), labels=['not in journey sequence', 'service.gov.uk is in journey sequence'], autopct='%1.1f%%')\n",
    "plt.figure(figsize=(30,30))"
   ]
  },
  {
   "cell_type": "markdown",
   "metadata": {},
   "source": [
    "### End page"
   ]
  },
  {
   "cell_type": "code",
   "execution_count": 82,
   "metadata": {},
   "outputs": [],
   "source": [
    "def get_end_page(Page_List):          \n",
    "    return pd.eval(Page_List)[-1]\n",
    "\n",
    "journeys['final_page'] = journeys['Page_List'].map(get_end_page)"
   ]
  },
  {
   "cell_type": "code",
   "execution_count": 83,
   "metadata": {},
   "outputs": [
    {
     "data": {
      "text/plain": [
       "12752"
      ]
     },
     "execution_count": 83,
     "metadata": {},
     "output_type": "execute_result"
    }
   ],
   "source": [
    "journeys['final_page'].nunique()"
   ]
  },
  {
   "cell_type": "code",
   "execution_count": 84,
   "metadata": {},
   "outputs": [
    {
     "data": {
      "text/plain": [
       "(37889, 30)"
      ]
     },
     "execution_count": 84,
     "metadata": {},
     "output_type": "execute_result"
    }
   ],
   "source": [
    "journeys.shape"
   ]
  },
  {
   "cell_type": "markdown",
   "metadata": {},
   "source": [
    "#### most frequent end pages"
   ]
  },
  {
   "cell_type": "code",
   "execution_count": 85,
   "metadata": {},
   "outputs": [
    {
     "data": {
      "text/plain": [
       "count    12752.000000\n",
       "mean         4.902211\n",
       "std         61.579282\n",
       "min          1.000000\n",
       "25%          1.000000\n",
       "50%          1.000000\n",
       "75%          2.000000\n",
       "max       5854.000000\n",
       "dtype: float64"
      ]
     },
     "execution_count": 85,
     "metadata": {},
     "output_type": "execute_result"
    }
   ],
   "source": [
    "journey_expanded.groupby('final_page').size().describe()"
   ]
  },
  {
   "cell_type": "code",
   "execution_count": 86,
   "metadata": {},
   "outputs": [
    {
     "data": {
      "text/plain": [
       "final_page\n",
       "/                                                                                                                     5854\n",
       "/council-tax-bands                                                                                                    2615\n",
       "/vehicle-tax                                                                                                          1084\n",
       "/check-driving-information                                                                                             841\n",
       "/log-in-register-hmrc-online-services                                                                                  814\n",
       "/check-mot-history                                                                                                     789\n",
       "/browse/benefits                                                                                                       662\n",
       "/personal-tax-account/sign-in/prove-identity                                                                           559\n",
       "/check-vehicle-tax                                                                                                     530\n",
       "/view-driving-licence                                                                                                  499\n",
       "/apply-renew-passport                                                                                                  489\n",
       "/sign-in-universal-credit                                                                                              460\n",
       "/get-information-about-a-company                                                                                       433\n",
       "/childcare-calculator                                                                                                  297\n",
       "/benefits-calculators                                                                                                  287\n",
       "/contact-the-dvla/y/driving-licences-and-applications                                                                  283\n",
       "/the-warm-home-discount-scheme/guarantee-pension-credit                                                                270\n",
       "/change-driving-test                                                                                                   266\n",
       "/jobsearch                                                                                                             255\n",
       "/pip/how-to-claim                                                                                                      250\n",
       "/get-vehicle-information-from-dvla                                                                                     246\n",
       "/change-address-driving-licence?step-by-step-nav=c1f13d41-ed7f-44a3-be11-fd95525ddf40                                  235\n",
       "/sign-in-childcare-account                                                                                             234\n",
       "/log-in-file-self-assessment-tax-return/sign-in/prove-identity                                                         224\n",
       "/government/publications/budget-2018-documents/budget-2018                                                             219\n",
       "/make-a-sorn                                                                                                           219\n",
       "/search-property-information-land-registry                                                                             209\n",
       "/get-a-child-passport/first-child-passport                                                                             207\n",
       "/book-driving-test                                                                                                     206\n",
       "/government/organisations/hm-revenue-customs/contact/income-tax-enquiries-for-individuals-pensioners-and-employees     199\n",
       "/apply-online-to-replace-a-driving-licence                                                                             195\n",
       "/manage-your-tax-credits                                                                                               193\n",
       "/standard-visitor-visa/apply                                                                                           189\n",
       "/register-to-vote                                                                                                      188\n",
       "/income-tax-rates                                                                                                      185\n",
       "/winter-fuel-payment/eligibility                                                                                       181\n",
       "/universal-credit/eligibility                                                                                          181\n",
       "/correct-your-business-rates                                                                                           177\n",
       "/government/publications/basic-checks                                                                                  176\n",
       "/pay-self-assessment-tax-bill/by-debit-or-credit-card-online                                                           172\n",
       "/government/publications/budget-2018-documents                                                                         158\n",
       "/check-state-pension/sign-in/prove-identity                                                                            157\n",
       "/inheritance-tax                                                                                                       151\n",
       "/check-flood-risk                                                                                                      147\n",
       "/check-mot-status                                                                                                      144\n",
       "/national-insurance-rates-letters/category-letters                                                                     142\n",
       "/send-vat-return                                                                                                       139\n",
       "/renew-adult-passport/replace                                                                                          138\n",
       "/sold-bought-vehicle/y/no/sold-it/sold-it-privately-to-a-person-or-business                                            136\n",
       "/holiday-entitlement-rights                                                                                            136\n",
       "dtype: int64"
      ]
     },
     "execution_count": 86,
     "metadata": {},
     "output_type": "execute_result"
    }
   ],
   "source": [
    "journey_expanded.groupby('final_page').size().sort_values(ascending=False).iloc[0:50]"
   ]
  },
  {
   "cell_type": "markdown",
   "metadata": {},
   "source": [
    "#### Most number of 'ways' of getting there"
   ]
  },
  {
   "cell_type": "code",
   "execution_count": 87,
   "metadata": {},
   "outputs": [
    {
     "name": "stdout",
     "output_type": "stream",
     "text": [
      "On average there are 2.971220200752823 journeys per exit page; ways of getting there\n"
     ]
    }
   ],
   "source": [
    "print(\"On average there are {} journeys per exit page; ways of getting there\".format(journeys.shape[0]/journeys['final_page'].nunique()))"
   ]
  },
  {
   "cell_type": "code",
   "execution_count": 88,
   "metadata": {},
   "outputs": [],
   "source": [
    "unique_page_sequences = journeys.drop_duplicates('Page_Seq_NL')"
   ]
  },
  {
   "cell_type": "code",
   "execution_count": 89,
   "metadata": {},
   "outputs": [
    {
     "data": {
      "text/plain": [
       "count    12752.000000\n",
       "mean         2.702400\n",
       "std         10.193761\n",
       "min          1.000000\n",
       "25%          1.000000\n",
       "50%          1.000000\n",
       "75%          2.000000\n",
       "max        455.000000\n",
       "dtype: float64"
      ]
     },
     "execution_count": 89,
     "metadata": {},
     "output_type": "execute_result"
    }
   ],
   "source": [
    "unique_page_sequences.groupby('final_page').size().describe()"
   ]
  },
  {
   "cell_type": "code",
   "execution_count": 90,
   "metadata": {},
   "outputs": [
    {
     "data": {
      "text/html": [
       "<div>\n",
       "<style scoped>\n",
       "    .dataframe tbody tr th:only-of-type {\n",
       "        vertical-align: middle;\n",
       "    }\n",
       "\n",
       "    .dataframe tbody tr th {\n",
       "        vertical-align: top;\n",
       "    }\n",
       "\n",
       "    .dataframe thead th {\n",
       "        text-align: right;\n",
       "    }\n",
       "</style>\n",
       "<table border=\"1\" class=\"dataframe\">\n",
       "  <thead>\n",
       "    <tr style=\"text-align: right;\">\n",
       "      <th></th>\n",
       "      <th>Sequence</th>\n",
       "      <th>Occurrences</th>\n",
       "      <th>DeviceCategories</th>\n",
       "      <th>Dates</th>\n",
       "      <th>Page_Event_List</th>\n",
       "      <th>Page_List</th>\n",
       "      <th>PageSequence</th>\n",
       "      <th>Event_List</th>\n",
       "      <th>num_event_cats</th>\n",
       "      <th>Event_cats_agg</th>\n",
       "      <th>...</th>\n",
       "      <th>event_list_contains_start</th>\n",
       "      <th>page_seq_contains_start</th>\n",
       "      <th>page_seq_contains_service.gov.uk</th>\n",
       "      <th>contains_search_regex</th>\n",
       "      <th>contains_search_n</th>\n",
       "      <th>final_page</th>\n",
       "      <th>desktop</th>\n",
       "      <th>mobile</th>\n",
       "      <th>other_device</th>\n",
       "      <th>more_desktop</th>\n",
       "    </tr>\n",
       "  </thead>\n",
       "  <tbody>\n",
       "    <tr>\n",
       "      <th>3092147</th>\n",
       "      <td>/check-vehicle-tax&lt;&lt;PAGE&lt;:&lt;NULL&lt;:&lt;NULL&gt;&gt;/check-vehicle-tax&lt;&lt;EVENT&lt;:&lt;External Link Clicked&lt;:&lt;https://www.vehicleenquiry.service.gov.uk&gt;&gt;/vehicle-tax&lt;&lt;PAGE&lt;:&lt;NULL&lt;:&lt;NULL&gt;&gt;/vehicle-tax&lt;&lt;EVENT&lt;:&lt;External Link Clicked&lt;:&lt;https://www.vehicletax.service.gov.uk&gt;&gt;/vehicle-tax&lt;&lt;EVENT&lt;:&lt;External Link Clicked&lt;:&lt;https://www.vehicletax.service.gov.uk&gt;&gt;/vehicle-tax&lt;&lt;EVENT&lt;:&lt;External Link Clicked&lt;:&lt;https://www.vehicletax.service.gov.uk&gt;&gt;/vehicle-tax&lt;&lt;PAGE&lt;:&lt;NULL&lt;:&lt;NULL&gt;&gt;/vehicle-tax&lt;&lt;EVENT&lt;:&lt;External Link Clicked&lt;:&lt;https://www.vehicletax.service.gov.uk&gt;&gt;/vehicle-tax&lt;&lt;PAGE&lt;:&lt;NULL&lt;:&lt;NULL&gt;&gt;/vehicle-tax&lt;&lt;EVENT&lt;:&lt;External Link Clicked&lt;:&lt;https://www.vehicletax.service.gov.uk</td>\n",
       "      <td>1</td>\n",
       "      <td>[('mobile', 1)]</td>\n",
       "      <td>[('20181102', 1)]</td>\n",
       "      <td>[('/check-vehicle-tax', 'PAGE&lt;:&lt;NULL&lt;:&lt;NULL'), ('/check-vehicle-tax', 'EVENT&lt;:&lt;External Link Clicked&lt;:&lt;https://www.vehicleenquiry.service.gov.uk'), ('/vehicle-tax', 'PAGE&lt;:&lt;NULL&lt;:&lt;NULL'), ('/vehicle-tax', 'EVENT&lt;:&lt;External Link Clicked&lt;:&lt;https://www.vehicletax.service.gov.uk'), ('/vehicle-tax', 'EVENT&lt;:&lt;External Link Clicked&lt;:&lt;https://www.vehicletax.service.gov.uk'), ('/vehicle-tax', 'EVENT&lt;:&lt;External Link Clicked&lt;:&lt;https://www.vehicletax.service.gov.uk'), ('/vehicle-tax', 'PAGE&lt;:&lt;NULL&lt;:&lt;NULL'), ('/vehicle-tax', 'EVENT&lt;:&lt;External Link Clicked&lt;:&lt;https://www.vehicletax.service.gov.uk'), ('/vehicle-tax', 'PAGE&lt;:&lt;NULL&lt;:&lt;NULL'), ('/vehicle-tax', 'EVENT&lt;:&lt;External Link Clicked&lt;:&lt;https://www.vehicletax.service.gov.uk')]</td>\n",
       "      <td>['/check-vehicle-tax', '/vehicle-tax', '/vehicle-tax', '/vehicle-tax']</td>\n",
       "      <td>/check-vehicle-tax&gt;&gt;/vehicle-tax&gt;&gt;/vehicle-tax&gt;&gt;/vehicle-tax</td>\n",
       "      <td>[('PAGE_NULL', 'PAGE_NULL'), ('External Link Clicked', 'https://www.vehicleenquiry.service.gov.uk'), ('PAGE_NULL', 'PAGE_NULL'), ('External Link Clicked', 'https://www.vehicletax.service.gov.uk'), ('External Link Clicked', 'https://www.vehicletax.service.gov.uk'), ('External Link Clicked', 'https://www.vehicletax.service.gov.uk'), ('PAGE_NULL', 'PAGE_NULL'), ('External Link Clicked', 'https://www.vehicletax.service.gov.uk'), ('PAGE_NULL', 'PAGE_NULL'), ('External Link Clicked', 'https://www.vehicletax.service.gov.uk')]</td>\n",
       "      <td>2</td>\n",
       "      <td>[('PAGE_NULL', 4), ('External Link Clicked', 6)]</td>\n",
       "      <td>...</td>\n",
       "      <td>0</td>\n",
       "      <td>0</td>\n",
       "      <td>1</td>\n",
       "      <td>0</td>\n",
       "      <td>0</td>\n",
       "      <td>/vehicle-tax</td>\n",
       "      <td>0</td>\n",
       "      <td>1</td>\n",
       "      <td>0</td>\n",
       "      <td>0</td>\n",
       "    </tr>\n",
       "    <tr>\n",
       "      <th>3379457</th>\n",
       "      <td>/change-name-address-v5c&lt;&lt;PAGE&lt;:&lt;NULL&lt;:&lt;NULL&gt;&gt;/government/publications/application-for-a-vehicle-registration-certificate&lt;&lt;PAGE&lt;:&lt;NULL&lt;:&lt;NULL&gt;&gt;/government/publications/application-for-a-vehicle-registration-certificate&lt;&lt;EVENT&lt;:&lt;Download Link Clicked&lt;:&lt;/government/uploads/system/uploads/attachment_data/file/701449/v62-application-for-a-vehicle-registration-certificate.pdf&gt;&gt;/government/publications/application-for-a-vehicle-registration-certificate&lt;&lt;PAGE&lt;:&lt;NULL&lt;:&lt;NULL&gt;&gt;/government/publications/application-for-a-vehicle-registration-certificate&lt;&lt;EVENT&lt;:&lt;Download Link Clicked&lt;:&lt;/government/uploads/system/uploads/attachment_data/file/701449/v62-application-for-a-vehicle-registration-certificate.pdf&gt;&gt;/government/publications/application-for-a-vehicle-registration-certificate&lt;&lt;PAGE&lt;:&lt;NULL&lt;:&lt;NULL&gt;&gt;/change-name-address-v5c&lt;&lt;PAGE&lt;:&lt;NULL&lt;:&lt;NULL&gt;&gt;/tell-dvla-changed-address&lt;&lt;PAGE&lt;:&lt;NULL&lt;:&lt;NULL&gt;&gt;/tell-dvla-changed-address&lt;&lt;EVENT&lt;:&lt;pageElementInteraction&lt;:&lt;stepNavShown&gt;&gt;/tell-dvla-changed-address&lt;&lt;EVENT&lt;:&lt;stepNavLinkClicked&lt;:&lt;2.1&gt;&gt;/change-name-address-v5c?step-by-step-nav=c1f13d41-ed7f-44a3-be11-fd95525ddf40&lt;&lt;PAGE&lt;:&lt;NULL&lt;:&lt;NULL&gt;&gt;/vehicle-tax&lt;&lt;PAGE&lt;:&lt;NULL&lt;:&lt;NULL&gt;&gt;/vehicle-tax&lt;&lt;EVENT&lt;:&lt;External Link Clicked&lt;:&lt;https://www.vehicletax.service.gov.uk</td>\n",
       "      <td>1</td>\n",
       "      <td>[('mobile', 1)]</td>\n",
       "      <td>[('20181104', 1)]</td>\n",
       "      <td>[('/change-name-address-v5c', 'PAGE&lt;:&lt;NULL&lt;:&lt;NULL'), ('/government/publications/application-for-a-vehicle-registration-certificate', 'PAGE&lt;:&lt;NULL&lt;:&lt;NULL'), ('/government/publications/application-for-a-vehicle-registration-certificate', 'EVENT&lt;:&lt;Download Link Clicked&lt;:&lt;/government/uploads/system/uploads/attachment_data/file/701449/v62-application-for-a-vehicle-registration-certificate.pdf'), ('/government/publications/application-for-a-vehicle-registration-certificate', 'PAGE&lt;:&lt;NULL&lt;:&lt;NULL'), ('/government/publications/application-for-a-vehicle-registration-certificate', 'EVENT&lt;:&lt;Download Link Clicked&lt;:&lt;/government/uploads/system/uploads/attachment_data/file/701449/v62-application-for-a-vehicle-registration-certificate.pdf'), ('/government/publications/application-for-a-vehicle-registration-certificate', 'PAGE&lt;:&lt;NULL&lt;:&lt;NULL'), ('/change-name-address-v5c', 'PAGE&lt;:&lt;NULL&lt;:&lt;NULL'), ('/tell-dvla-changed-address', 'PAGE&lt;:&lt;NULL&lt;:&lt;NULL'), ('/tell-dvla-changed-address', 'EVENT&lt;:&lt;pageElementInteraction&lt;:&lt;stepNavShown'), ('/tell-dvla-changed-address', 'EVENT&lt;:&lt;stepNavLinkClicked&lt;:&lt;2.1'), ('/change-name-address-v5c?step-by-step-nav=c1f13d41-ed7f-44a3-be11-fd95525ddf40', 'PAGE&lt;:&lt;NULL&lt;:&lt;NULL'), ('/vehicle-tax', 'PAGE&lt;:&lt;NULL&lt;:&lt;NULL'), ('/vehicle-tax', 'EVENT&lt;:&lt;External Link Clicked&lt;:&lt;https://www.vehicletax.service.gov.uk')]</td>\n",
       "      <td>['/change-name-address-v5c', '/government/publications/application-for-a-vehicle-registration-certificate', '/government/publications/application-for-a-vehicle-registration-certificate', '/government/publications/application-for-a-vehicle-registration-certificate', '/change-name-address-v5c', '/tell-dvla-changed-address', '/change-name-address-v5c?step-by-step-nav=c1f13d41-ed7f-44a3-be11-fd95525ddf40', '/vehicle-tax']</td>\n",
       "      <td>/change-name-address-v5c&gt;&gt;/government/publications/application-for-a-vehicle-registration-certificate&gt;&gt;/government/publications/application-for-a-vehicle-registration-certificate&gt;&gt;/government/publications/application-for-a-vehicle-registration-certificate&gt;&gt;/change-name-address-v5c&gt;&gt;/tell-dvla-changed-address&gt;&gt;/change-name-address-v5c?step-by-step-nav=c1f13d41-ed7f-44a3-be11-fd95525ddf40&gt;&gt;/vehicle-tax</td>\n",
       "      <td>[('PAGE_NULL', 'PAGE_NULL'), ('PAGE_NULL', 'PAGE_NULL'), ('Download Link Clicked', '/government/uploads/system/uploads/attachment_data/file/701449/v62-application-for-a-vehicle-registration-certificate.pdf'), ('PAGE_NULL', 'PAGE_NULL'), ('Download Link Clicked', '/government/uploads/system/uploads/attachment_data/file/701449/v62-application-for-a-vehicle-registration-certificate.pdf'), ('PAGE_NULL', 'PAGE_NULL'), ('PAGE_NULL', 'PAGE_NULL'), ('PAGE_NULL', 'PAGE_NULL'), ('pageElementInteraction', 'stepNavShown'), ('stepNavLinkClicked', '2.1'), ('PAGE_NULL', 'PAGE_NULL'), ('PAGE_NULL', 'PAGE_NULL'), ('External Link Clicked', 'https://www.vehicletax.service.gov.uk')]</td>\n",
       "      <td>5</td>\n",
       "      <td>[('PAGE_NULL', 8), ('Download Link Clicked', 2), ('pageElementInteraction', 1), ('stepNavLinkClicked', 1), ('External Link Clicked', 1)]</td>\n",
       "      <td>...</td>\n",
       "      <td>0</td>\n",
       "      <td>0</td>\n",
       "      <td>1</td>\n",
       "      <td>0</td>\n",
       "      <td>0</td>\n",
       "      <td>/vehicle-tax</td>\n",
       "      <td>0</td>\n",
       "      <td>1</td>\n",
       "      <td>0</td>\n",
       "      <td>0</td>\n",
       "    </tr>\n",
       "    <tr>\n",
       "      <th>2211878</th>\n",
       "      <td>/browse/driving/vehicle-tax-mot-insurance&lt;&lt;EVENT&lt;:&lt;thirdLevelBrowseLinkClicked&lt;:&lt;1.1&gt;&gt;/browse/driving/vehicle-tax-mot-insurance&lt;&lt;EVENT&lt;:&lt;thirdLevelBrowseLinkClicked&lt;:&lt;1.1&gt;&gt;/browse/driving/vehicle-tax-mot-insurance&lt;&lt;PAGE&lt;:&lt;NULL&lt;:&lt;NULL&gt;&gt;/vehicle-tax&lt;&lt;PAGE&lt;:&lt;NULL&lt;:&lt;NULL&gt;&gt;/vehicle-tax&lt;&lt;EVENT&lt;:&lt;External Link Clicked&lt;:&lt;https://www.vehicletax.service.gov.uk&gt;&gt;/vehicle-tax&lt;&lt;EVENT&lt;:&lt;External Link Clicked&lt;:&lt;https://www.vehicletax.service.gov.uk&gt;&gt;/vehicle-tax&lt;&lt;PAGE&lt;:&lt;NULL&lt;:&lt;NULL</td>\n",
       "      <td>1</td>\n",
       "      <td>[('desktop', 1)]</td>\n",
       "      <td>[('20181029', 1)]</td>\n",
       "      <td>[('/browse/driving/vehicle-tax-mot-insurance', 'EVENT&lt;:&lt;thirdLevelBrowseLinkClicked&lt;:&lt;1.1'), ('/browse/driving/vehicle-tax-mot-insurance', 'EVENT&lt;:&lt;thirdLevelBrowseLinkClicked&lt;:&lt;1.1'), ('/browse/driving/vehicle-tax-mot-insurance', 'PAGE&lt;:&lt;NULL&lt;:&lt;NULL'), ('/vehicle-tax', 'PAGE&lt;:&lt;NULL&lt;:&lt;NULL'), ('/vehicle-tax', 'EVENT&lt;:&lt;External Link Clicked&lt;:&lt;https://www.vehicletax.service.gov.uk'), ('/vehicle-tax', 'EVENT&lt;:&lt;External Link Clicked&lt;:&lt;https://www.vehicletax.service.gov.uk'), ('/vehicle-tax', 'PAGE&lt;:&lt;NULL&lt;:&lt;NULL')]</td>\n",
       "      <td>['/browse/driving/vehicle-tax-mot-insurance', '/vehicle-tax', '/vehicle-tax']</td>\n",
       "      <td>/browse/driving/vehicle-tax-mot-insurance&gt;&gt;/vehicle-tax&gt;&gt;/vehicle-tax</td>\n",
       "      <td>[('thirdLevelBrowseLinkClicked', '1.1'), ('thirdLevelBrowseLinkClicked', '1.1'), ('PAGE_NULL', 'PAGE_NULL'), ('PAGE_NULL', 'PAGE_NULL'), ('External Link Clicked', 'https://www.vehicletax.service.gov.uk'), ('External Link Clicked', 'https://www.vehicletax.service.gov.uk'), ('PAGE_NULL', 'PAGE_NULL')]</td>\n",
       "      <td>3</td>\n",
       "      <td>[('thirdLevelBrowseLinkClicked', 2), ('PAGE_NULL', 3), ('External Link Clicked', 2)]</td>\n",
       "      <td>...</td>\n",
       "      <td>0</td>\n",
       "      <td>0</td>\n",
       "      <td>1</td>\n",
       "      <td>0</td>\n",
       "      <td>0</td>\n",
       "      <td>/vehicle-tax</td>\n",
       "      <td>1</td>\n",
       "      <td>0</td>\n",
       "      <td>0</td>\n",
       "      <td>1</td>\n",
       "    </tr>\n",
       "    <tr>\n",
       "      <th>2561535</th>\n",
       "      <td>/vehicle-tax&lt;&lt;PAGE&lt;:&lt;NULL&lt;:&lt;NULL&gt;&gt;/vehicle-tax&lt;&lt;EVENT&lt;:&lt;External Link Clicked&lt;:&lt;https://www.vehicletax.service.gov.uk&gt;&gt;/browse/driving/vehicle-tax-mot-insurance&lt;&lt;PAGE&lt;:&lt;NULL&lt;:&lt;NULL&gt;&gt;/browse/driving/vehicle-tax-mot-insurance&lt;&lt;EVENT&lt;:&lt;thirdLevelBrowseLinkClicked&lt;:&lt;3.3&gt;&gt;/car-tax-disc-without-v11-reminder&lt;&lt;PAGE&lt;:&lt;NULL&lt;:&lt;NULL&gt;&gt;/vehicle-tax&lt;&lt;PAGE&lt;:&lt;NULL&lt;:&lt;NULL&gt;&gt;/vehicle-tax&lt;&lt;EVENT&lt;:&lt;External Link Clicked&lt;:&lt;https://www.vehicletax.service.gov.uk</td>\n",
       "      <td>1</td>\n",
       "      <td>[('mobile', 1)]</td>\n",
       "      <td>[('20181102', 1)]</td>\n",
       "      <td>[('/vehicle-tax', 'PAGE&lt;:&lt;NULL&lt;:&lt;NULL'), ('/vehicle-tax', 'EVENT&lt;:&lt;External Link Clicked&lt;:&lt;https://www.vehicletax.service.gov.uk'), ('/browse/driving/vehicle-tax-mot-insurance', 'PAGE&lt;:&lt;NULL&lt;:&lt;NULL'), ('/browse/driving/vehicle-tax-mot-insurance', 'EVENT&lt;:&lt;thirdLevelBrowseLinkClicked&lt;:&lt;3.3'), ('/car-tax-disc-without-v11-reminder', 'PAGE&lt;:&lt;NULL&lt;:&lt;NULL'), ('/vehicle-tax', 'PAGE&lt;:&lt;NULL&lt;:&lt;NULL'), ('/vehicle-tax', 'EVENT&lt;:&lt;External Link Clicked&lt;:&lt;https://www.vehicletax.service.gov.uk')]</td>\n",
       "      <td>['/vehicle-tax', '/browse/driving/vehicle-tax-mot-insurance', '/car-tax-disc-without-v11-reminder', '/vehicle-tax']</td>\n",
       "      <td>/vehicle-tax&gt;&gt;/browse/driving/vehicle-tax-mot-insurance&gt;&gt;/car-tax-disc-without-v11-reminder&gt;&gt;/vehicle-tax</td>\n",
       "      <td>[('PAGE_NULL', 'PAGE_NULL'), ('External Link Clicked', 'https://www.vehicletax.service.gov.uk'), ('PAGE_NULL', 'PAGE_NULL'), ('thirdLevelBrowseLinkClicked', '3.3'), ('PAGE_NULL', 'PAGE_NULL'), ('PAGE_NULL', 'PAGE_NULL'), ('External Link Clicked', 'https://www.vehicletax.service.gov.uk')]</td>\n",
       "      <td>3</td>\n",
       "      <td>[('PAGE_NULL', 4), ('External Link Clicked', 2), ('thirdLevelBrowseLinkClicked', 1)]</td>\n",
       "      <td>...</td>\n",
       "      <td>0</td>\n",
       "      <td>0</td>\n",
       "      <td>1</td>\n",
       "      <td>0</td>\n",
       "      <td>0</td>\n",
       "      <td>/vehicle-tax</td>\n",
       "      <td>0</td>\n",
       "      <td>1</td>\n",
       "      <td>0</td>\n",
       "      <td>0</td>\n",
       "    </tr>\n",
       "    <tr>\n",
       "      <th>2032098</th>\n",
       "      <td>/student-finance&lt;&lt;PAGE&lt;:&lt;NULL&lt;:&lt;NULL&gt;&gt;/student-finance-register-login&lt;&lt;PAGE&lt;:&lt;NULL&lt;:&lt;NULL&gt;&gt;/student-finance-register-login&lt;&lt;EVENT&lt;:&lt;External Link Clicked&lt;:&lt;https://www.student-finance.service.gov.uk/customer/home&gt;&gt;/vehicle-tax&lt;&lt;PAGE&lt;:&lt;NULL&lt;:&lt;NULL&gt;&gt;/vehicle-tax&lt;&lt;EVENT&lt;:&lt;External Link Clicked&lt;:&lt;https://www.vehicletax.service.gov.uk&gt;&gt;/vehicle-tax&lt;&lt;EVENT&lt;:&lt;External Link Clicked&lt;:&lt;https://www.vehicletax.service.gov.uk&gt;&gt;/vehicle-tax&lt;&lt;EVENT&lt;:&lt;External Link Clicked&lt;:&lt;https://www.vehicletax.service.gov.uk</td>\n",
       "      <td>1</td>\n",
       "      <td>[('mobile', 1)]</td>\n",
       "      <td>[('20181029', 1)]</td>\n",
       "      <td>[('/student-finance', 'PAGE&lt;:&lt;NULL&lt;:&lt;NULL'), ('/student-finance-register-login', 'PAGE&lt;:&lt;NULL&lt;:&lt;NULL'), ('/student-finance-register-login', 'EVENT&lt;:&lt;External Link Clicked&lt;:&lt;https://www.student-finance.service.gov.uk/customer/home'), ('/vehicle-tax', 'PAGE&lt;:&lt;NULL&lt;:&lt;NULL'), ('/vehicle-tax', 'EVENT&lt;:&lt;External Link Clicked&lt;:&lt;https://www.vehicletax.service.gov.uk'), ('/vehicle-tax', 'EVENT&lt;:&lt;External Link Clicked&lt;:&lt;https://www.vehicletax.service.gov.uk'), ('/vehicle-tax', 'EVENT&lt;:&lt;External Link Clicked&lt;:&lt;https://www.vehicletax.service.gov.uk')]</td>\n",
       "      <td>['/student-finance', '/student-finance-register-login', '/vehicle-tax']</td>\n",
       "      <td>/student-finance&gt;&gt;/student-finance-register-login&gt;&gt;/vehicle-tax</td>\n",
       "      <td>[('PAGE_NULL', 'PAGE_NULL'), ('PAGE_NULL', 'PAGE_NULL'), ('External Link Clicked', 'https://www.student-finance.service.gov.uk/customer/home'), ('PAGE_NULL', 'PAGE_NULL'), ('External Link Clicked', 'https://www.vehicletax.service.gov.uk'), ('External Link Clicked', 'https://www.vehicletax.service.gov.uk'), ('External Link Clicked', 'https://www.vehicletax.service.gov.uk')]</td>\n",
       "      <td>2</td>\n",
       "      <td>[('PAGE_NULL', 3), ('External Link Clicked', 4)]</td>\n",
       "      <td>...</td>\n",
       "      <td>0</td>\n",
       "      <td>0</td>\n",
       "      <td>1</td>\n",
       "      <td>0</td>\n",
       "      <td>0</td>\n",
       "      <td>/vehicle-tax</td>\n",
       "      <td>0</td>\n",
       "      <td>1</td>\n",
       "      <td>0</td>\n",
       "      <td>0</td>\n",
       "    </tr>\n",
       "  </tbody>\n",
       "</table>\n",
       "<p>5 rows × 30 columns</p>\n",
       "</div>"
      ],
      "text/plain": [
       "                                                                                                                                                                                                                                                                                                                                                                                                                                                                                                                                                                                                                                                                                                                                                                                                                                                                                                                                                                                                                                                                                                                                                                                                                                                                                                  Sequence  \\\n",
       "3092147  /check-vehicle-tax<<PAGE<:<NULL<:<NULL>>/check-vehicle-tax<<EVENT<:<External Link Clicked<:<https://www.vehicleenquiry.service.gov.uk>>/vehicle-tax<<PAGE<:<NULL<:<NULL>>/vehicle-tax<<EVENT<:<External Link Clicked<:<https://www.vehicletax.service.gov.uk>>/vehicle-tax<<EVENT<:<External Link Clicked<:<https://www.vehicletax.service.gov.uk>>/vehicle-tax<<EVENT<:<External Link Clicked<:<https://www.vehicletax.service.gov.uk>>/vehicle-tax<<PAGE<:<NULL<:<NULL>>/vehicle-tax<<EVENT<:<External Link Clicked<:<https://www.vehicletax.service.gov.uk>>/vehicle-tax<<PAGE<:<NULL<:<NULL>>/vehicle-tax<<EVENT<:<External Link Clicked<:<https://www.vehicletax.service.gov.uk                                                                                                                                                                                                                                                                                                                                                                                                                                                                                                                                                                                                                \n",
       "3379457  /change-name-address-v5c<<PAGE<:<NULL<:<NULL>>/government/publications/application-for-a-vehicle-registration-certificate<<PAGE<:<NULL<:<NULL>>/government/publications/application-for-a-vehicle-registration-certificate<<EVENT<:<Download Link Clicked<:</government/uploads/system/uploads/attachment_data/file/701449/v62-application-for-a-vehicle-registration-certificate.pdf>>/government/publications/application-for-a-vehicle-registration-certificate<<PAGE<:<NULL<:<NULL>>/government/publications/application-for-a-vehicle-registration-certificate<<EVENT<:<Download Link Clicked<:</government/uploads/system/uploads/attachment_data/file/701449/v62-application-for-a-vehicle-registration-certificate.pdf>>/government/publications/application-for-a-vehicle-registration-certificate<<PAGE<:<NULL<:<NULL>>/change-name-address-v5c<<PAGE<:<NULL<:<NULL>>/tell-dvla-changed-address<<PAGE<:<NULL<:<NULL>>/tell-dvla-changed-address<<EVENT<:<pageElementInteraction<:<stepNavShown>>/tell-dvla-changed-address<<EVENT<:<stepNavLinkClicked<:<2.1>>/change-name-address-v5c?step-by-step-nav=c1f13d41-ed7f-44a3-be11-fd95525ddf40<<PAGE<:<NULL<:<NULL>>/vehicle-tax<<PAGE<:<NULL<:<NULL>>/vehicle-tax<<EVENT<:<External Link Clicked<:<https://www.vehicletax.service.gov.uk   \n",
       "2211878  /browse/driving/vehicle-tax-mot-insurance<<EVENT<:<thirdLevelBrowseLinkClicked<:<1.1>>/browse/driving/vehicle-tax-mot-insurance<<EVENT<:<thirdLevelBrowseLinkClicked<:<1.1>>/browse/driving/vehicle-tax-mot-insurance<<PAGE<:<NULL<:<NULL>>/vehicle-tax<<PAGE<:<NULL<:<NULL>>/vehicle-tax<<EVENT<:<External Link Clicked<:<https://www.vehicletax.service.gov.uk>>/vehicle-tax<<EVENT<:<External Link Clicked<:<https://www.vehicletax.service.gov.uk>>/vehicle-tax<<PAGE<:<NULL<:<NULL                                                                                                                                                                                                                                                                                                                                                                                                                                                                                                                                                                                                                                                                                                                                                                                                             \n",
       "2561535  /vehicle-tax<<PAGE<:<NULL<:<NULL>>/vehicle-tax<<EVENT<:<External Link Clicked<:<https://www.vehicletax.service.gov.uk>>/browse/driving/vehicle-tax-mot-insurance<<PAGE<:<NULL<:<NULL>>/browse/driving/vehicle-tax-mot-insurance<<EVENT<:<thirdLevelBrowseLinkClicked<:<3.3>>/car-tax-disc-without-v11-reminder<<PAGE<:<NULL<:<NULL>>/vehicle-tax<<PAGE<:<NULL<:<NULL>>/vehicle-tax<<EVENT<:<External Link Clicked<:<https://www.vehicletax.service.gov.uk                                                                                                                                                                                                                                                                                                                                                                                                                                                                                                                                                                                                                                                                                                                                                                                                                                           \n",
       "2032098  /student-finance<<PAGE<:<NULL<:<NULL>>/student-finance-register-login<<PAGE<:<NULL<:<NULL>>/student-finance-register-login<<EVENT<:<External Link Clicked<:<https://www.student-finance.service.gov.uk/customer/home>>/vehicle-tax<<PAGE<:<NULL<:<NULL>>/vehicle-tax<<EVENT<:<External Link Clicked<:<https://www.vehicletax.service.gov.uk>>/vehicle-tax<<EVENT<:<External Link Clicked<:<https://www.vehicletax.service.gov.uk>>/vehicle-tax<<EVENT<:<External Link Clicked<:<https://www.vehicletax.service.gov.uk                                                                                                                                                                                                                                                                                                                                                                                                                                                                                                                                                                                                                                                                                                                                                                               \n",
       "\n",
       "         Occurrences  DeviceCategories              Dates  \\\n",
       "3092147  1            [('mobile', 1)]   [('20181102', 1)]   \n",
       "3379457  1            [('mobile', 1)]   [('20181104', 1)]   \n",
       "2211878  1            [('desktop', 1)]  [('20181029', 1)]   \n",
       "2561535  1            [('mobile', 1)]   [('20181102', 1)]   \n",
       "2032098  1            [('mobile', 1)]   [('20181029', 1)]   \n",
       "\n",
       "                                                                                                                                                                                                                                                                                                                                                                                                                                                                                                                                                                                                                                                                                                                                                                                                                                                                                                                                                                                                                                                                                                                                                                                                                                                                                                                                                                           Page_Event_List  \\\n",
       "3092147  [('/check-vehicle-tax', 'PAGE<:<NULL<:<NULL'), ('/check-vehicle-tax', 'EVENT<:<External Link Clicked<:<https://www.vehicleenquiry.service.gov.uk'), ('/vehicle-tax', 'PAGE<:<NULL<:<NULL'), ('/vehicle-tax', 'EVENT<:<External Link Clicked<:<https://www.vehicletax.service.gov.uk'), ('/vehicle-tax', 'EVENT<:<External Link Clicked<:<https://www.vehicletax.service.gov.uk'), ('/vehicle-tax', 'EVENT<:<External Link Clicked<:<https://www.vehicletax.service.gov.uk'), ('/vehicle-tax', 'PAGE<:<NULL<:<NULL'), ('/vehicle-tax', 'EVENT<:<External Link Clicked<:<https://www.vehicletax.service.gov.uk'), ('/vehicle-tax', 'PAGE<:<NULL<:<NULL'), ('/vehicle-tax', 'EVENT<:<External Link Clicked<:<https://www.vehicletax.service.gov.uk')]                                                                                                                                                                                                                                                                                                                                                                                                                                                                                                                                                                                                                                  \n",
       "3379457  [('/change-name-address-v5c', 'PAGE<:<NULL<:<NULL'), ('/government/publications/application-for-a-vehicle-registration-certificate', 'PAGE<:<NULL<:<NULL'), ('/government/publications/application-for-a-vehicle-registration-certificate', 'EVENT<:<Download Link Clicked<:</government/uploads/system/uploads/attachment_data/file/701449/v62-application-for-a-vehicle-registration-certificate.pdf'), ('/government/publications/application-for-a-vehicle-registration-certificate', 'PAGE<:<NULL<:<NULL'), ('/government/publications/application-for-a-vehicle-registration-certificate', 'EVENT<:<Download Link Clicked<:</government/uploads/system/uploads/attachment_data/file/701449/v62-application-for-a-vehicle-registration-certificate.pdf'), ('/government/publications/application-for-a-vehicle-registration-certificate', 'PAGE<:<NULL<:<NULL'), ('/change-name-address-v5c', 'PAGE<:<NULL<:<NULL'), ('/tell-dvla-changed-address', 'PAGE<:<NULL<:<NULL'), ('/tell-dvla-changed-address', 'EVENT<:<pageElementInteraction<:<stepNavShown'), ('/tell-dvla-changed-address', 'EVENT<:<stepNavLinkClicked<:<2.1'), ('/change-name-address-v5c?step-by-step-nav=c1f13d41-ed7f-44a3-be11-fd95525ddf40', 'PAGE<:<NULL<:<NULL'), ('/vehicle-tax', 'PAGE<:<NULL<:<NULL'), ('/vehicle-tax', 'EVENT<:<External Link Clicked<:<https://www.vehicletax.service.gov.uk')]   \n",
       "2211878  [('/browse/driving/vehicle-tax-mot-insurance', 'EVENT<:<thirdLevelBrowseLinkClicked<:<1.1'), ('/browse/driving/vehicle-tax-mot-insurance', 'EVENT<:<thirdLevelBrowseLinkClicked<:<1.1'), ('/browse/driving/vehicle-tax-mot-insurance', 'PAGE<:<NULL<:<NULL'), ('/vehicle-tax', 'PAGE<:<NULL<:<NULL'), ('/vehicle-tax', 'EVENT<:<External Link Clicked<:<https://www.vehicletax.service.gov.uk'), ('/vehicle-tax', 'EVENT<:<External Link Clicked<:<https://www.vehicletax.service.gov.uk'), ('/vehicle-tax', 'PAGE<:<NULL<:<NULL')]                                                                                                                                                                                                                                                                                                                                                                                                                                                                                                                                                                                                                                                                                                                                                                                                                                                 \n",
       "2561535  [('/vehicle-tax', 'PAGE<:<NULL<:<NULL'), ('/vehicle-tax', 'EVENT<:<External Link Clicked<:<https://www.vehicletax.service.gov.uk'), ('/browse/driving/vehicle-tax-mot-insurance', 'PAGE<:<NULL<:<NULL'), ('/browse/driving/vehicle-tax-mot-insurance', 'EVENT<:<thirdLevelBrowseLinkClicked<:<3.3'), ('/car-tax-disc-without-v11-reminder', 'PAGE<:<NULL<:<NULL'), ('/vehicle-tax', 'PAGE<:<NULL<:<NULL'), ('/vehicle-tax', 'EVENT<:<External Link Clicked<:<https://www.vehicletax.service.gov.uk')]                                                                                                                                                                                                                                                                                                                                                                                                                                                                                                                                                                                                                                                                                                                                                                                                                                                                               \n",
       "2032098  [('/student-finance', 'PAGE<:<NULL<:<NULL'), ('/student-finance-register-login', 'PAGE<:<NULL<:<NULL'), ('/student-finance-register-login', 'EVENT<:<External Link Clicked<:<https://www.student-finance.service.gov.uk/customer/home'), ('/vehicle-tax', 'PAGE<:<NULL<:<NULL'), ('/vehicle-tax', 'EVENT<:<External Link Clicked<:<https://www.vehicletax.service.gov.uk'), ('/vehicle-tax', 'EVENT<:<External Link Clicked<:<https://www.vehicletax.service.gov.uk'), ('/vehicle-tax', 'EVENT<:<External Link Clicked<:<https://www.vehicletax.service.gov.uk')]                                                                                                                                                                                                                                                                                                                                                                                                                                                                                                                                                                                                                                                                                                                                                                                                                   \n",
       "\n",
       "                                                                                                                                                                                                                                                                                                                                                                                                                                     Page_List  \\\n",
       "3092147  ['/check-vehicle-tax', '/vehicle-tax', '/vehicle-tax', '/vehicle-tax']                                                                                                                                                                                                                                                                                                                                                                  \n",
       "3379457  ['/change-name-address-v5c', '/government/publications/application-for-a-vehicle-registration-certificate', '/government/publications/application-for-a-vehicle-registration-certificate', '/government/publications/application-for-a-vehicle-registration-certificate', '/change-name-address-v5c', '/tell-dvla-changed-address', '/change-name-address-v5c?step-by-step-nav=c1f13d41-ed7f-44a3-be11-fd95525ddf40', '/vehicle-tax']   \n",
       "2211878  ['/browse/driving/vehicle-tax-mot-insurance', '/vehicle-tax', '/vehicle-tax']                                                                                                                                                                                                                                                                                                                                                           \n",
       "2561535  ['/vehicle-tax', '/browse/driving/vehicle-tax-mot-insurance', '/car-tax-disc-without-v11-reminder', '/vehicle-tax']                                                                                                                                                                                                                                                                                                                     \n",
       "2032098  ['/student-finance', '/student-finance-register-login', '/vehicle-tax']                                                                                                                                                                                                                                                                                                                                                                 \n",
       "\n",
       "                                                                                                                                                                                                                                                                                                                                                                                                                PageSequence  \\\n",
       "3092147  /check-vehicle-tax>>/vehicle-tax>>/vehicle-tax>>/vehicle-tax                                                                                                                                                                                                                                                                                                                                                          \n",
       "3379457  /change-name-address-v5c>>/government/publications/application-for-a-vehicle-registration-certificate>>/government/publications/application-for-a-vehicle-registration-certificate>>/government/publications/application-for-a-vehicle-registration-certificate>>/change-name-address-v5c>>/tell-dvla-changed-address>>/change-name-address-v5c?step-by-step-nav=c1f13d41-ed7f-44a3-be11-fd95525ddf40>>/vehicle-tax   \n",
       "2211878  /browse/driving/vehicle-tax-mot-insurance>>/vehicle-tax>>/vehicle-tax                                                                                                                                                                                                                                                                                                                                                 \n",
       "2561535  /vehicle-tax>>/browse/driving/vehicle-tax-mot-insurance>>/car-tax-disc-without-v11-reminder>>/vehicle-tax                                                                                                                                                                                                                                                                                                             \n",
       "2032098  /student-finance>>/student-finance-register-login>>/vehicle-tax                                                                                                                                                                                                                                                                                                                                                       \n",
       "\n",
       "                                                                                                                                                                                                                                                                                                                                                                                                                                                                                                                                                                                                                                                                                              Event_List  \\\n",
       "3092147  [('PAGE_NULL', 'PAGE_NULL'), ('External Link Clicked', 'https://www.vehicleenquiry.service.gov.uk'), ('PAGE_NULL', 'PAGE_NULL'), ('External Link Clicked', 'https://www.vehicletax.service.gov.uk'), ('External Link Clicked', 'https://www.vehicletax.service.gov.uk'), ('External Link Clicked', 'https://www.vehicletax.service.gov.uk'), ('PAGE_NULL', 'PAGE_NULL'), ('External Link Clicked', 'https://www.vehicletax.service.gov.uk'), ('PAGE_NULL', 'PAGE_NULL'), ('External Link Clicked', 'https://www.vehicletax.service.gov.uk')]                                                                                                                                                      \n",
       "3379457  [('PAGE_NULL', 'PAGE_NULL'), ('PAGE_NULL', 'PAGE_NULL'), ('Download Link Clicked', '/government/uploads/system/uploads/attachment_data/file/701449/v62-application-for-a-vehicle-registration-certificate.pdf'), ('PAGE_NULL', 'PAGE_NULL'), ('Download Link Clicked', '/government/uploads/system/uploads/attachment_data/file/701449/v62-application-for-a-vehicle-registration-certificate.pdf'), ('PAGE_NULL', 'PAGE_NULL'), ('PAGE_NULL', 'PAGE_NULL'), ('PAGE_NULL', 'PAGE_NULL'), ('pageElementInteraction', 'stepNavShown'), ('stepNavLinkClicked', '2.1'), ('PAGE_NULL', 'PAGE_NULL'), ('PAGE_NULL', 'PAGE_NULL'), ('External Link Clicked', 'https://www.vehicletax.service.gov.uk')]   \n",
       "2211878  [('thirdLevelBrowseLinkClicked', '1.1'), ('thirdLevelBrowseLinkClicked', '1.1'), ('PAGE_NULL', 'PAGE_NULL'), ('PAGE_NULL', 'PAGE_NULL'), ('External Link Clicked', 'https://www.vehicletax.service.gov.uk'), ('External Link Clicked', 'https://www.vehicletax.service.gov.uk'), ('PAGE_NULL', 'PAGE_NULL')]                                                                                                                                                                                                                                                                                                                                                                                      \n",
       "2561535  [('PAGE_NULL', 'PAGE_NULL'), ('External Link Clicked', 'https://www.vehicletax.service.gov.uk'), ('PAGE_NULL', 'PAGE_NULL'), ('thirdLevelBrowseLinkClicked', '3.3'), ('PAGE_NULL', 'PAGE_NULL'), ('PAGE_NULL', 'PAGE_NULL'), ('External Link Clicked', 'https://www.vehicletax.service.gov.uk')]                                                                                                                                                                                                                                                                                                                                                                                                  \n",
       "2032098  [('PAGE_NULL', 'PAGE_NULL'), ('PAGE_NULL', 'PAGE_NULL'), ('External Link Clicked', 'https://www.student-finance.service.gov.uk/customer/home'), ('PAGE_NULL', 'PAGE_NULL'), ('External Link Clicked', 'https://www.vehicletax.service.gov.uk'), ('External Link Clicked', 'https://www.vehicletax.service.gov.uk'), ('External Link Clicked', 'https://www.vehicletax.service.gov.uk')]                                                                                                                                                                                                                                                                                                           \n",
       "\n",
       "         num_event_cats  \\\n",
       "3092147  2                \n",
       "3379457  5                \n",
       "2211878  3                \n",
       "2561535  3                \n",
       "2032098  2                \n",
       "\n",
       "                                                                                                                                   Event_cats_agg  \\\n",
       "3092147  [('PAGE_NULL', 4), ('External Link Clicked', 6)]                                                                                           \n",
       "3379457  [('PAGE_NULL', 8), ('Download Link Clicked', 2), ('pageElementInteraction', 1), ('stepNavLinkClicked', 1), ('External Link Clicked', 1)]   \n",
       "2211878  [('thirdLevelBrowseLinkClicked', 2), ('PAGE_NULL', 3), ('External Link Clicked', 2)]                                                       \n",
       "2561535  [('PAGE_NULL', 4), ('External Link Clicked', 2), ('thirdLevelBrowseLinkClicked', 1)]                                                       \n",
       "2032098  [('PAGE_NULL', 3), ('External Link Clicked', 4)]                                                                                           \n",
       "\n",
       "             ...      event_list_contains_start page_seq_contains_start  \\\n",
       "3092147      ...       0                         0                        \n",
       "3379457      ...       0                         0                        \n",
       "2211878      ...       0                         0                        \n",
       "2561535      ...       0                         0                        \n",
       "2032098      ...       0                         0                        \n",
       "\n",
       "        page_seq_contains_service.gov.uk  contains_search_regex  \\\n",
       "3092147  1                                0                       \n",
       "3379457  1                                0                       \n",
       "2211878  1                                0                       \n",
       "2561535  1                                0                       \n",
       "2032098  1                                0                       \n",
       "\n",
       "         contains_search_n    final_page  desktop mobile  other_device  \\\n",
       "3092147  0                  /vehicle-tax  0        1      0              \n",
       "3379457  0                  /vehicle-tax  0        1      0              \n",
       "2211878  0                  /vehicle-tax  1        0      0              \n",
       "2561535  0                  /vehicle-tax  0        1      0              \n",
       "2032098  0                  /vehicle-tax  0        1      0              \n",
       "\n",
       "         more_desktop  \n",
       "3092147  0             \n",
       "3379457  0             \n",
       "2211878  1             \n",
       "2561535  0             \n",
       "2032098  0             \n",
       "\n",
       "[5 rows x 30 columns]"
      ]
     },
     "execution_count": 90,
     "metadata": {},
     "output_type": "execute_result"
    }
   ],
   "source": [
    "pd.set_option('display.max_colwidth', -1)\n",
    "unique_page_sequences[unique_page_sequences['final_page']=='/vehicle-tax'].head()"
   ]
  },
  {
   "cell_type": "code",
   "execution_count": null,
   "metadata": {},
   "outputs": [],
   "source": [
    "unique_page_sequences.groupby('final_page').size().sort_values(ascending=False).plot(kind = 'barh',\n",
    "                                                                           figsize=(10, 30),\n",
    "                                                                           color='#2B8CC4'\n",
    "                                                                           )"
   ]
  },
  {
   "cell_type": "code",
   "execution_count": null,
   "metadata": {},
   "outputs": [],
   "source": [
    "journeys['final_page_type'] = 'other'\n",
    "journeys.loc[journeys['final_page'].str.contains('/government/publications/', 'final_page_type')] = 'government_publication'\n",
    "journeys.loc[journeys['final_page'].str.contains('log-in', 'final_page_type')] = 'login'\n",
    "journeys.loc[journeys['final_page'].str.contains('sign-in', 'final_page_type')] = 'login'\n",
    "journeys.loc[journeys['final_page'].str.contains('login', 'final_page_type')] = 'login'\n",
    "journeys.loc[journeys['final_page'].str.contains('check', 'final_page_type')] = 'check'\n",
    "journeys.loc[journeys['final_page'].str.contains('apply', 'final_page_type')] = 'apply'\n",
    "journeys.loc[journeys['final_page'].str.contains('contact', 'final_page_type')] = 'contact/enquiries'\n",
    "journeys.loc[journeys['final_page'].str.contains('enquiries', 'final_page_type')] = 'contact/enquiries'\n",
    "journeys.loc[journeys['final_page'].str.contains(r'get-.*-information.*', 'final_page_type')] = 'get_information'\n",
    "journeys.loc[journeys['final_page'].str.contains('send', 'final_page_type')] = 'send'\n",
    "journeys.loc[journeys['final_page'].str.contains('find', 'final_page_type')] = 'find'\n",
    "journeys.loc[journeys['final_page'].str.contains('calculat', 'final_page_type')] = 'calculate/calculator'\n",
    "journeys.loc[journeys['final_page'].str.contains('order', 'final_page_type')] = 'order'\n",
    "journeys.loc[journeys['final_page'].str.contains('manage', 'final_page_type')] = 'manage'\n",
    "journeys.loc[journeys['final_page'].str.contains('update', 'final_page_type')] = 'update'\n",
    "journeys.loc[journeys['final_page'].str.contains('eligibility', 'final_page_type')] = 'eligibility'\n",
    "journeys.loc[journeys['final_page'].str.contains('estimate', 'final_page_type')] = 'estimate'\n",
    "journeys.loc[journeys['final_page'].str.contains('renew', 'final_page_type')] = 'renew'\n",
    "journeys.loc[journeys['final_page'].str.contains('pay', 'final_page_type')] = 'pay'\n",
    "journeys.loc[journeys['final_page'].str.contains('claim', 'final_page_type')] = 'claim'\n",
    "journeys.loc[journeys['final_page'].str.contains('change', 'final_page_type')] = 'change'"
   ]
  },
  {
   "cell_type": "code",
   "execution_count": null,
   "metadata": {},
   "outputs": [],
   "source": [
    "journeys.groupby('final_page_type').size()"
   ]
  },
  {
   "cell_type": "code",
   "execution_count": 94,
   "metadata": {},
   "outputs": [],
   "source": [
    "def groupby_percent(df, groupby_var, unit_var, figsize=(10, 5)):\n",
    "    x = df.groupby(groupby_var).count().reset_index()\n",
    "    x['percent'] = 100*x[unit_var]/x[unit_var].sum()\n",
    "    x = x.sort_values(['percent'])\n",
    "\n",
    "    s = pd.DataFrame(x[[groupby_var, unit_var,'percent']])\n",
    "\n",
    "    return(s, x.plot(x=groupby_var, y='percent', kind='barh', figsize=figsize, color='#2B8CC4'))"
   ]
  },
  {
   "cell_type": "code",
   "execution_count": null,
   "metadata": {},
   "outputs": [],
   "source": [
    "groupby_percent(journeys, 'final_page_type', 'Page_Seq_NL')"
   ]
  },
  {
   "cell_type": "markdown",
   "metadata": {},
   "source": [
    "#### Final interaction with GOV.UK"
   ]
  },
  {
   "cell_type": "code",
   "execution_count": null,
   "metadata": {},
   "outputs": [],
   "source": [
    "def get_end_page_event(Page_Event_List):          \n",
    "    return pd.eval(Page_Event_List)[-1][-1]"
   ]
  },
  {
   "cell_type": "code",
   "execution_count": null,
   "metadata": {},
   "outputs": [],
   "source": [
    "journeys['final_interaction'] = journeys['Page_Event_List'].map(get_end_page_event)"
   ]
  },
  {
   "cell_type": "code",
   "execution_count": null,
   "metadata": {},
   "outputs": [],
   "source": [
    "pd.set_option('display.max_colwidth', -1)\n",
    "journeys[journeys.final_interaction.str.contains('start')]"
   ]
  },
  {
   "cell_type": "code",
   "execution_count": null,
   "metadata": {},
   "outputs": [],
   "source": [
    "journeys['final_interaction_type'] = journeys.final_interaction.str.extract(r'<:<(.*)<:<', expand=False)"
   ]
  },
  {
   "cell_type": "code",
   "execution_count": null,
   "metadata": {},
   "outputs": [],
   "source": [
    "journeys['final_external_link'] = journeys.final_interaction.str.extract(r'EVENT<:<External Link Clicked<:(.*)', expand=False)"
   ]
  },
  {
   "cell_type": "code",
   "execution_count": null,
   "metadata": {},
   "outputs": [],
   "source": [
    "journeys['exit_to_assessed_service'] = np.where(journeys['final_external_link'].str.contains(r'.*service.gov.uk.*', na=False), 1, 0)"
   ]
  },
  {
   "cell_type": "code",
   "execution_count": null,
   "metadata": {},
   "outputs": [],
   "source": [
    "journeys['exit_to_assessed_service'].value_counts(normalize=True)"
   ]
  },
  {
   "cell_type": "code",
   "execution_count": null,
   "metadata": {},
   "outputs": [],
   "source": [
    "#make a smaller copy of data with only 2 cols ready to make it really looooong\n",
    "slim = journeys[['Occurrences','exit_to_assessed_service']].copy()\n",
    "#repeat rows for each occurrence\n",
    "journey_expanded2 =  slim.loc[slim.index.repeat(slim['Occurrences'])]"
   ]
  },
  {
   "cell_type": "code",
   "execution_count": null,
   "metadata": {},
   "outputs": [],
   "source": [
    "journey_expanded2['exit_to_assessed_service'].value_counts(normalize=True)"
   ]
  },
  {
   "cell_type": "code",
   "execution_count": null,
   "metadata": {},
   "outputs": [],
   "source": [
    "plt.pie(journey_expanded2['exit_to_assessed_service'].value_counts(), labels=['did not exit to an assessed service', 'exited to an assessed service'], autopct='%1.1f%%')"
   ]
  },
  {
   "cell_type": "code",
   "execution_count": null,
   "metadata": {},
   "outputs": [],
   "source": [
    "journeys['final_external_link_service'] = np.where(journeys.final_interaction.str.contains(r'<External Link Clicked<:(.*)', expand=False)"
   ]
  },
  {
   "cell_type": "code",
   "execution_count": null,
   "metadata": {},
   "outputs": [],
   "source": [
    "groupby_percent(journeys, 'final_interaction_type', 'PageSequence', figsize=(5, 10))"
   ]
  },
  {
   "cell_type": "code",
   "execution_count": null,
   "metadata": {},
   "outputs": [],
   "source": [
    "journeys.groupby('final_interaction_type').size().sort_values(ascending=False)"
   ]
  },
  {
   "cell_type": "code",
   "execution_count": null,
   "metadata": {},
   "outputs": [],
   "source": [
    "print(journeys[journeys['final_interaction']=='PAGE<:<NULL<:<NULL'].shape)\n",
    "\n",
    "print(\"{} out of {} ({}%) journeys ended in a page hit\".format(journeys[journeys['final_interaction']=='PAGE<:<NULL<:<NULL'].shape[0], \n",
    "                                                        journeys.shape[0],\n",
    "                                                        journeys[journeys['final_interaction']=='PAGE<:<NULL<:<NULL'].shape[0]/journeys.shape[0]*100))"
   ]
  },
  {
   "cell_type": "code",
   "execution_count": null,
   "metadata": {},
   "outputs": [],
   "source": [
    "print(journeys[journeys['final_interaction'].str.startswith('EVENT<:<External Link Clicked')].shape)\n",
    "\n",
    "print(\"{} out of {} ({}%) journeys ended in an external link clicked\".format(journeys[journeys['final_interaction'].str.startswith('EVENT<:<External Link Clicked')].shape[0], \n",
    "                                                        journeys.shape[0],\n",
    "                                                        journeys[journeys['final_interaction'].str.startswith('EVENT<:<External Link Clicked')].shape[0]/journeys.shape[0]*100))"
   ]
  },
  {
   "cell_type": "code",
   "execution_count": null,
   "metadata": {},
   "outputs": [],
   "source": [
    "print(journeys[journeys['final_interaction'].str.startswith('EVENT<:<External Link Clicked')].shape)\n",
    "\n",
    "print(\"{} out of {} ({}%) journeys ended in an specialist external link clicked\".format(journeys[journeys['final_interaction'].str.startswith('EVENT<:<Specialist-external-link')].shape[0], \n",
    "                                                        journeys.shape[0],\n",
    "                                                        journeys[journeys['final_interaction'].str.startswith('EVENT<:<Specialist-external-link')].shape[0]/journeys.shape[0]*100))"
   ]
  },
  {
   "cell_type": "code",
   "execution_count": null,
   "metadata": {},
   "outputs": [],
   "source": [
    "print(\"{} out of {} ({}%) journeys ended in aSpecialist-external-link\".format(journeys[journeys['final_interaction'].str.contains('EVENT<:<Specialist-external-link')].shape[0], \n",
    "                                                        journeys.shape[0],\n",
    "                                                        journeys[journeys['final_interaction'].str.contains('EVENT<:<Specialist-external-link')].shape[0]/journeys.shape[0]*100))"
   ]
  },
  {
   "cell_type": "code",
   "execution_count": null,
   "metadata": {},
   "outputs": [],
   "source": [
    "print(\"{} out of {} ({}%) journeys ended in an download link clicked\".format(journeys[journeys['final_interaction'].str.contains('EVENT<:<Download Link Clicked')].shape[0], \n",
    "                                                        journeys.shape[0],\n",
    "                                                        journeys[journeys['final_interaction'].str.contains('EVENT<:<Download Link Clicked')].shape[0]/journeys.shape[0]*100))"
   ]
  },
  {
   "cell_type": "code",
   "execution_count": null,
   "metadata": {},
   "outputs": [],
   "source": [
    "print(\"{} out of {} ({}%) journeys ended in a  contents clicked\".format(journeys[journeys['final_interaction'].str.contains('EVENT<:<contentsClicked<')].shape[0], \n",
    "                                                        journeys.shape[0],\n",
    "                                                        journeys[journeys['final_interaction'].str.contains('EVENT<:<contentsClicked<')].shape[0]/journeys.shape[0]*100))"
   ]
  },
  {
   "cell_type": "code",
   "execution_count": null,
   "metadata": {},
   "outputs": [],
   "source": [
    "print(\"{} out of {} ({}%) journeys ended in a breadcrumbClicked\".format(journeys[journeys['final_interaction'].str.contains('EVENT<:<breadcrumbClicked<')].shape[0], \n",
    "                                                        journeys.shape[0],\n",
    "                                                        journeys[journeys['final_interaction'].str.contains('EVENT<:<breadcrumbClicked<')].shape[0]/journeys.shape[0]*100))"
   ]
  },
  {
   "cell_type": "code",
   "execution_count": null,
   "metadata": {},
   "outputs": [],
   "source": [
    "print(\"{} out of {} ({}%) journeys ended in a JavaScript Error\".format(journeys[journeys['final_interaction'].str.contains('EVENT<:<JavaScript Error<')].shape[0], \n",
    "                                                        journeys.shape[0],\n",
    "                                                        journeys[journeys['final_interaction'].str.contains('EVENT<:<JavaScript Error<')].shape[0]/journeys.shape[0]*100))"
   ]
  },
  {
   "cell_type": "code",
   "execution_count": null,
   "metadata": {},
   "outputs": [],
   "source": [
    "print(\"{} out of {} ({}%) journeys ended in a Simple Smart Answer\".format(journeys[journeys['final_interaction'].str.contains('EVENT<:<Simple Smart Answer<')].shape[0], \n",
    "                                                        journeys.shape[0],\n",
    "                                                        journeys[journeys['final_interaction'].str.contains('EVENT<:<Simple Smart Answer<')].shape[0]/journeys.shape[0]*100))"
   ]
  },
  {
   "cell_type": "code",
   "execution_count": null,
   "metadata": {},
   "outputs": [],
   "source": [
    "print(\"{} out of {} ({}%) journeys ended in a Smart Answer\".format(journeys[journeys['final_interaction'].str.contains('EVENT<:<Smart Answer<')].shape[0], \n",
    "                                                        journeys.shape[0],\n",
    "                                                        journeys[journeys['final_interaction'].str.contains('EVENT<:<Smart Answer<')].shape[0]/journeys.shape[0]*100))"
   ]
  },
  {
   "cell_type": "code",
   "execution_count": null,
   "metadata": {},
   "outputs": [],
   "source": [
    "print(\"{} out of {} ({}%) journeys ended in a social media\".format(journeys[journeys['final_interaction'].str.contains('EVENT<:<social media<')].shape[0], \n",
    "                                                        journeys.shape[0],\n",
    "                                                        journeys[journeys['final_interaction'].str.contains('EVENT<:<social media<')].shape[0]/journeys.shape[0]*100))"
   ]
  },
  {
   "cell_type": "code",
   "execution_count": null,
   "metadata": {},
   "outputs": [],
   "source": [
    "print(\"{} out of {} ({}%) journeys ended in yesNoFeedbackForm\".format(journeys[journeys['final_interaction'].str.contains('EVENT<:<yesNoFeedbackForm<')].shape[0], \n",
    "                                                        journeys.shape[0],\n",
    "                                                        journeys[journeys['final_interaction'].str.contains('EVENT<:<yesNoFeedbackForm<')].shape[0]/journeys.shape[0]*100))"
   ]
  },
  {
   "cell_type": "code",
   "execution_count": null,
   "metadata": {},
   "outputs": [],
   "source": []
  }
 ],
 "metadata": {
  "kernelspec": {
   "display_name": "Python 3",
   "language": "python",
   "name": "python3"
  },
  "language_info": {
   "codemirror_mode": {
    "name": "ipython",
    "version": 3
   },
   "file_extension": ".py",
   "mimetype": "text/x-python",
   "name": "python",
   "nbconvert_exporter": "python",
   "pygments_lexer": "ipython3",
   "version": "3.6.0"
  }
 },
 "nbformat": 4,
 "nbformat_minor": 2
}
