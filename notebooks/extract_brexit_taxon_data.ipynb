{
 "cells": [
  {
   "cell_type": "markdown",
   "metadata": {},
   "source": [
    "We filter user journeys for those that pass through at least one page in the Brexit taxon and output as a tsv."
   ]
  },
  {
   "cell_type": "code",
   "execution_count": 12,
   "metadata": {},
   "outputs": [],
   "source": [
    "import pandas as pd\n",
    "import os\n",
    "import gzip"
   ]
  },
  {
   "cell_type": "code",
   "execution_count": 13,
   "metadata": {},
   "outputs": [],
   "source": [
    "output = os.path.join(os.getenv(\"DATA_DIR\"),\"output\")"
   ]
  },
  {
   "cell_type": "code",
   "execution_count": 14,
   "metadata": {},
   "outputs": [],
   "source": [
    "target = os.path.join(output, \"test_line_write_final.csv.gz\")"
   ]
  },
  {
   "cell_type": "code",
   "execution_count": 15,
   "metadata": {},
   "outputs": [
    {
     "name": "stdout",
     "output_type": "stream",
     "text": [
      "0\n",
      "500000\n",
      "1000000\n",
      "1500000\n",
      "2000000\n",
      "2500000\n",
      "3000000\n",
      "3500000\n",
      "4000000\n",
      "4500000\n",
      "5000000\n",
      "5500000\n",
      "6000000\n"
     ]
    },
    {
     "data": {
      "text/plain": [
       "77112"
      ]
     },
     "execution_count": 15,
     "metadata": {},
     "output_type": "execute_result"
    }
   ],
   "source": [
    "counter = 0 \n",
    "list_of_lines = []\n",
    "with gzip.open(target,\"rt\") as file:\n",
    "    headers = file.readline().replace(\"\\n\",\"\").split(\"\\t\")\n",
    "    for i,line in enumerate(file):\n",
    "        if \"d6c2de5d-ef90-45d1-82d4-5f2438369eea\" in line:\n",
    "            counter+=1\n",
    "            list_of_lines.append(line.replace(\"\\n\",\"\"))\n",
    "        if i%500000 == 0:\n",
    "            print(i)         \n",
    "counter"
   ]
  },
  {
   "cell_type": "code",
   "execution_count": 16,
   "metadata": {},
   "outputs": [
    {
     "data": {
      "text/plain": [
       "'Occurrences\\tDeviceCategories\\tPageSeq_Length\\tActions_Length\\tDates\\tSequence\\tPageSequence\\tPage_Event_List\\tPage_List\\tEvent_List\\tnum_event_cats\\tEvent_cats_agg\\tEvent_cat_act_agg\\tTaxon_List\\tTaxon_Page_List\\tPage_List_NL\\tPage_Seq_NL'"
      ]
     },
     "execution_count": 16,
     "metadata": {},
     "output_type": "execute_result"
    }
   ],
   "source": [
    "headers_str = \"\\t\".join(headers)\n",
    "headers_str"
   ]
  },
  {
   "cell_type": "code",
   "execution_count": 19,
   "metadata": {},
   "outputs": [
    {
     "data": {
      "text/plain": [
       "'/Users/felisialoukou/Documents/govuk-network-data/data/output/brexit_taxon_29_04.csv.gz'"
      ]
     },
     "execution_count": 19,
     "metadata": {},
     "output_type": "execute_result"
    }
   ],
   "source": [
    "result_path = os.path.join(output, \"brexit_taxon_29_04.csv.gz\")\n",
    "result_path"
   ]
  },
  {
   "cell_type": "code",
   "execution_count": 17,
   "metadata": {},
   "outputs": [],
   "source": [
    "with gzip.open(result_path, \"w\") as file:\n",
    "    file.write(\"{}\\n\".format(headers_str).encode())\n",
    "    for row in list_of_lines:\n",
    "        file.write(\"{}\\n\".format(row).encode())"
   ]
  },
  {
   "cell_type": "code",
   "execution_count": 18,
   "metadata": {},
   "outputs": [
    {
     "data": {
      "text/plain": [
       "77113"
      ]
     },
     "execution_count": 18,
     "metadata": {},
     "output_type": "execute_result"
    }
   ],
   "source": [
    "num_lines = 0 \n",
    "with gzip.open(result_path,\"rt\") as file:\n",
    "    for line in file:\n",
    "        num_lines+=1\n",
    "num_lines"
   ]
  }
 ],
 "metadata": {
  "kernelspec": {
   "display_name": "Python 3",
   "language": "python",
   "name": "python3"
  },
  "language_info": {
   "codemirror_mode": {
    "name": "ipython",
    "version": 3
   },
   "file_extension": ".py",
   "mimetype": "text/x-python",
   "name": "python",
   "nbconvert_exporter": "python",
   "pygments_lexer": "ipython3",
   "version": "3.6.0"
  }
 },
 "nbformat": 4,
 "nbformat_minor": 2
}
