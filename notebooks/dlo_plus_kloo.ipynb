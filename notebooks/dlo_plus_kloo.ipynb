{
 "cells": [
  {
   "cell_type": "code",
   "execution_count": 1,
   "metadata": {},
   "outputs": [],
   "source": [
    "import os\n",
    "import pandas as pd\n",
    "import numpy as np\n",
    "import matplotlib.pyplot as plt\n",
    "import matplotlib.patches as patches\n",
    "import seaborn as sns\n",
    "from beakerx import *\n",
    "from tqdm import tnrange, tqdm_notebook"
   ]
  },
  {
   "cell_type": "markdown",
   "metadata": {
    "heading_collapsed": true
   },
   "source": [
    "### helper functions"
   ]
  },
  {
   "cell_type": "code",
   "execution_count": 2,
   "metadata": {
    "hidden": true
   },
   "outputs": [],
   "source": [
    "def groupby_percent(df, groupby_var, unit_var, figsize=(10, 5)):\n",
    "    x = df.groupby(groupby_var).count().reset_index()\n",
    "    x['percent'] = 100*x[unit_var]/df.shape[0]\n",
    "    x = x.sort_values(['percent'])\n",
    "\n",
    "    s = pd.DataFrame(x[[groupby_var, unit_var,'percent']])\n",
    "\n",
    "    return(s, x.plot(x=groupby_var, y='percent', kind='barh', figsize=figsize, color='#2B8CC4'))"
   ]
  },
  {
   "cell_type": "markdown",
   "metadata": {},
   "source": [
    "### Import data"
   ]
  },
  {
   "cell_type": "code",
   "execution_count": 3,
   "metadata": {},
   "outputs": [
    {
     "data": {
      "text/plain": [
       "'/Volumes/GoogleDrive/Team Drives/GOV.UK teams/2018-2019/Q3/Knowledge up Q3/Data science/data/processed_journey'"
      ]
     },
     "execution_count": 3,
     "metadata": {},
     "output_type": "execute_result"
    }
   ],
   "source": [
    "DATADIR = os.path.join(os.getenv(\"DATA_DIR\"), 'processed_journey')\n",
    "DATADIR"
   ]
  },
  {
   "cell_type": "code",
   "execution_count": 4,
   "metadata": {},
   "outputs": [],
   "source": [
    "dlo = pd.read_csv(os.path.join(DATADIR, \"dlo_prelim_meta_standard_with_pageseq_from_29-10_to_01-11-2018.csv.gz\"), compression='gzip')\n",
    "kloo = pd.read_csv(os.path.join(DATADIR, \"kloo_prelim_meta_standard_with_pageseq_from_29-10_to_01-11-2018.csv.gz\"), compression='gzip')"
   ]
  },
  {
   "cell_type": "code",
   "execution_count": 5,
   "metadata": {},
   "outputs": [
    {
     "name": "stdout",
     "output_type": "stream",
     "text": [
      "(3788851, 15) (890977, 15)\n"
     ]
    }
   ],
   "source": [
    "print(dlo.shape, kloo.shape)"
   ]
  },
  {
   "cell_type": "markdown",
   "metadata": {
    "heading_collapsed": true
   },
   "source": [
    "### Sample data for speed"
   ]
  },
  {
   "cell_type": "code",
   "execution_count": 6,
   "metadata": {
    "hidden": true
   },
   "outputs": [],
   "source": [
    "journeys = pd.concat([dlo.sample(frac=0.01, random_state=1234, weights=dlo.Occurrences).copy(), kloo.sample(frac=0.01, random_state=1234, weights=kloo.Occurrences).copy()], ignore_index=True)"
   ]
  },
  {
   "cell_type": "code",
   "execution_count": 7,
   "metadata": {
    "hidden": true
   },
   "outputs": [
    {
     "data": {
      "text/plain": [
       "(46799, 15)"
      ]
     },
     "execution_count": 7,
     "metadata": {},
     "output_type": "execute_result"
    }
   ],
   "source": [
    "journeys.shape"
   ]
  },
  {
   "cell_type": "code",
   "execution_count": 8,
   "metadata": {
    "hidden": true
   },
   "outputs": [
    {
     "data": {
      "text/plain": [
       "count     46799.000000\n",
       "mean        149.196179\n",
       "std        3023.963701\n",
       "min           1.000000\n",
       "25%           1.000000\n",
       "50%           1.000000\n",
       "75%          12.000000\n",
       "max      362010.000000\n",
       "Name: Occurrences, dtype: float64"
      ]
     },
     "execution_count": 8,
     "metadata": {},
     "output_type": "execute_result"
    }
   ],
   "source": [
    "journeys['Occurrences'].describe()"
   ]
  },
  {
   "cell_type": "markdown",
   "metadata": {
    "heading_collapsed": true
   },
   "source": [
    "### derive variables (create features...)"
   ]
  },
  {
   "cell_type": "code",
   "execution_count": 9,
   "metadata": {
    "hidden": true
   },
   "outputs": [],
   "source": [
    "journeys['page_list_eval'] = journeys['Page_List'].map(pd.eval)\n",
    "journeys['page_seq_len'] = journeys['page_list_eval'].map(len)"
   ]
  },
  {
   "cell_type": "code",
   "execution_count": 10,
   "metadata": {
    "hidden": true
   },
   "outputs": [],
   "source": [
    "journeys['page_list_NL_eval'] = journeys['Page_List_NL'].map(pd.eval)\n",
    "journeys['page_seq_len_NL'] = journeys['page_list_NL_eval'].map(len)"
   ]
  },
  {
   "cell_type": "code",
   "execution_count": 11,
   "metadata": {
    "hidden": true
   },
   "outputs": [],
   "source": [
    "# def contains_search(Page_List):\n",
    "#     search_in_sequence = 0\n",
    "#     thelist  = pd.eval(Page_List)\n",
    "    \n",
    "#     for page in thelist:\n",
    "#         if ('/search?' in page) or ('/search/' in page):\n",
    "#             search_in_sequence = 1\n",
    "            \n",
    "#     return search_in_sequence\n",
    "\n",
    "# def count_search(Page_List):\n",
    "#     times_search_in_sequence = 0\n",
    "#     thelist  = pd.eval(Page_List)\n",
    "    \n",
    "#     for page in thelist:\n",
    "#         if ('/search?' in page) or ('/search/' in page):\n",
    "#             times_search_in_sequence += 1\n",
    "#     return times_search_in_sequence\n",
    "\n",
    "\n",
    "# # journeys['contains_search'] = list(map(contains_search, journeys['Page_List']))\n",
    "\n",
    "# journeys['count_search'] = list(map(count_search, journeys['Page_List']))"
   ]
  },
  {
   "cell_type": "code",
   "execution_count": 12,
   "metadata": {
    "hidden": true
   },
   "outputs": [],
   "source": [
    "journeys['count_search'] = journeys.PageSequence.str.count(\"/search?\")+journeys.PageSequence.str.count(\"/search/\")"
   ]
  },
  {
   "cell_type": "code",
   "execution_count": 13,
   "metadata": {
    "hidden": true
   },
   "outputs": [],
   "source": [
    "journeys['event_list_contains_start'] = np.where(journeys.Event_List.str.contains(\"start\"), 1, 0)\n",
    "journeys['page_seq_contains_start'] = np.where(journeys.Sequence.str.contains(\"start\"), 1, 0)\n",
    "journeys['page_seq_contains_service.gov.uk'] = np.where(journeys.Sequence.str.contains(\"service.gov.uk\"), 1, 0)"
   ]
  },
  {
   "cell_type": "code",
   "execution_count": 14,
   "metadata": {
    "hidden": true
   },
   "outputs": [],
   "source": [
    "journeys['contains_search_regex'] = np.where((journeys.PageSequence.str.contains(\"/search?\")) | (journeys.PageSequence.str.contains(\"/search/\")), 1, 0)"
   ]
  },
  {
   "cell_type": "markdown",
   "metadata": {
    "hidden": true
   },
   "source": [
    "Get differnet results when using the contains_search function iterating over pagelist to the regex function in PageSequence. It would be good to understand why. "
   ]
  },
  {
   "cell_type": "code",
   "execution_count": 15,
   "metadata": {
    "hidden": true
   },
   "outputs": [],
   "source": [
    "journeys['contains_search_n'] = journeys['contains_search_regex']*journeys['Page_Seq_Occurrences']"
   ]
  },
  {
   "cell_type": "code",
   "execution_count": 16,
   "metadata": {
    "hidden": true
   },
   "outputs": [],
   "source": [
    "def get_end_page(Page_List):          \n",
    "    return pd.eval(Page_List)[-1]\n",
    "\n",
    "journeys['final_page'] = journeys['Page_List'].map(get_end_page)"
   ]
  },
  {
   "cell_type": "code",
   "execution_count": 17,
   "metadata": {
    "hidden": true
   },
   "outputs": [],
   "source": [
    "def get_end_page_event(Page_Event_List):          \n",
    "    return pd.eval(Page_Event_List)[-1][-1]\n",
    "\n",
    "journeys['final_interaction'] = journeys['Page_Event_List'].map(get_end_page_event)"
   ]
  },
  {
   "cell_type": "code",
   "execution_count": 18,
   "metadata": {
    "hidden": true
   },
   "outputs": [],
   "source": [
    "def count_desktop(DeviceCategories): \n",
    "    thelist  = pd.eval(DeviceCategories)\n",
    "    desktop = 0\n",
    "    mobile = 0\n",
    "    other = 0\n",
    "    for i in range(len(thelist)):\n",
    "        if thelist[i][0] =='desktop':\n",
    "            desktop = thelist[i][1]\n",
    "        elif thelist[i][0] =='mobile':\n",
    "            mobile = thelist[i][1]\n",
    "        else:\n",
    "            other = thelist[i][1]      \n",
    "    return desktop, mobile, other"
   ]
  },
  {
   "cell_type": "markdown",
   "metadata": {
    "heading_collapsed": true
   },
   "source": [
    "### Device used"
   ]
  },
  {
   "cell_type": "code",
   "execution_count": 19,
   "metadata": {
    "hidden": true
   },
   "outputs": [],
   "source": [
    "journeys['desktop'], journeys['mobile'], journeys['other_device'] = zip(*journeys['DeviceCategories'].map(count_desktop))"
   ]
  },
  {
   "cell_type": "code",
   "execution_count": 20,
   "metadata": {
    "hidden": true
   },
   "outputs": [],
   "source": [
    "journeys['more_desktop'] = np.where(journeys['desktop'] > (journeys['mobile']+journeys['other_device']), 1, 0)"
   ]
  },
  {
   "cell_type": "code",
   "execution_count": 21,
   "metadata": {
    "hidden": true
   },
   "outputs": [
    {
     "name": "stdout",
     "output_type": "stream",
     "text": [
      "more_desktop\n",
      "0    21944\n",
      "1    24855\n",
      "dtype: int64\n"
     ]
    },
    {
     "data": {
      "text/plain": [
       "<Figure size 2160x2160 with 0 Axes>"
      ]
     },
     "execution_count": 21,
     "metadata": {},
     "output_type": "execute_result"
    },
    {
     "data": {
      "image/png": "[encoded data removed]",
      "text/plain": [
       "<Figure size 432x288 with 1 Axes>"
      ]
     },
     "metadata": {},
     "output_type": "display_data"
    },
    {
     "data": {
      "text/plain": [
       "<Figure size 2160x2160 with 0 Axes>"
      ]
     },
     "metadata": {},
     "output_type": "display_data"
    }
   ],
   "source": [
    "print(journeys.groupby('more_desktop').size())\n",
    "plt.pie(journeys.groupby('more_desktop').size(), labels=['more_desktop', 'more_mobile+tablet'], autopct='%1.1f%%')\n",
    "plt.figure(figsize=(30,30))"
   ]
  },
  {
   "cell_type": "markdown",
   "metadata": {
    "heading_collapsed": true
   },
   "source": [
    "### journey length \n",
    "\n",
    "\n",
    "EEK, be careful of frequency counts because need to include Occurences column for this. This is harder to interpret than it looks"
   ]
  },
  {
   "cell_type": "code",
   "execution_count": 22,
   "metadata": {
    "hidden": true
   },
   "outputs": [
    {
     "data": {
      "text/plain": [
       "count    46799.000000\n",
       "mean         4.617535\n",
       "std          6.036325\n",
       "min          1.000000\n",
       "25%          2.000000\n",
       "50%          3.000000\n",
       "75%          5.000000\n",
       "max        253.000000\n",
       "Name: page_seq_len, dtype: float64"
      ]
     },
     "execution_count": 22,
     "metadata": {},
     "output_type": "execute_result"
    }
   ],
   "source": [
    "journeys['page_seq_len'].describe()"
   ]
  },
  {
   "cell_type": "markdown",
   "metadata": {
    "heading_collapsed": true
   },
   "source": [
    "### Make a long df a row for each session"
   ]
  },
  {
   "cell_type": "code",
   "execution_count": 23,
   "metadata": {
    "hidden": true
   },
   "outputs": [],
   "source": [
    "#make a smaller copy of data with only 2 cols ready to make it really looooong\n",
    "slim = journeys[['Occurrences','final_page','page_seq_len', 'page_seq_len_NL', 'event_list_contains_start', 'count_search', 'contains_search_regex', 'page_list_NL_eval', 'Page_Seq_NL', 'page_seq_contains_start', 'page_seq_contains_service.gov.uk']].copy()\n",
    "#repeat rows for each occurrence\n",
    "journey_expanded =  slim.loc[slim.index.repeat(slim['Occurrences'])].copy()\n"
   ]
  },
  {
   "cell_type": "code",
   "execution_count": 24,
   "metadata": {
    "hidden": true
   },
   "outputs": [
    {
     "data": {
      "text/plain": [
       "(6982232, 11)"
      ]
     },
     "execution_count": 24,
     "metadata": {},
     "output_type": "execute_result"
    }
   ],
   "source": [
    "journey_expanded.shape"
   ]
  },
  {
   "cell_type": "code",
   "execution_count": 25,
   "metadata": {
    "hidden": true
   },
   "outputs": [
    {
     "data": {
      "text/plain": [
       "count    6.982232e+06\n",
       "mean     1.337045e+00\n",
       "std      9.830142e-01\n",
       "min      1.000000e+00\n",
       "25%      1.000000e+00\n",
       "50%      1.000000e+00\n",
       "75%      1.000000e+00\n",
       "max      2.530000e+02\n",
       "Name: page_seq_len, dtype: float64"
      ]
     },
     "execution_count": 25,
     "metadata": {},
     "output_type": "execute_result"
    }
   ],
   "source": [
    "journey_expanded['page_seq_len'].describe()"
   ]
  },
  {
   "cell_type": "code",
   "execution_count": 26,
   "metadata": {
    "hidden": true
   },
   "outputs": [
    {
     "data": {
      "text/plain": [
       "count    6.982232e+06\n",
       "mean     1.273315e+00\n",
       "std      9.111820e-01\n",
       "min      1.000000e+00\n",
       "25%      1.000000e+00\n",
       "50%      1.000000e+00\n",
       "75%      1.000000e+00\n",
       "max      2.120000e+02\n",
       "Name: page_seq_len_NL, dtype: float64"
      ]
     },
     "execution_count": 26,
     "metadata": {},
     "output_type": "execute_result"
    }
   ],
   "source": [
    "journey_expanded['page_seq_len_NL'].describe()"
   ]
  },
  {
   "cell_type": "code",
   "execution_count": 27,
   "metadata": {
    "hidden": true
   },
   "outputs": [
    {
     "data": {
      "text/plain": [
       "<matplotlib.axes._subplots.AxesSubplot at 0x149d629b0>"
      ]
     },
     "execution_count": 27,
     "metadata": {},
     "output_type": "execute_result"
    },
    {
     "data": {
      "image/png": "[encoded data removed]",
      "text/plain": [
       "<Figure size 432x288 with 1 Axes>"
      ]
     },
     "metadata": {
      "needs_background": "light"
     },
     "output_type": "display_data"
    }
   ],
   "source": [
    "journey_expanded['page_seq_len'].hist(bins=122, grid=False)"
   ]
  },
  {
   "cell_type": "code",
   "execution_count": 28,
   "metadata": {
    "hidden": true
   },
   "outputs": [
    {
     "data": {
      "image/png": "[encoded data removed]",
      "text/plain": [
       "<Figure size 432x288 with 1 Axes>"
      ]
     },
     "metadata": {
      "needs_background": "light"
     },
     "output_type": "display_data"
    }
   ],
   "source": [
    "ax = journey_expanded['page_seq_len'].hist(bins=122, grid=False)\n",
    "ax.set_yscale('log')"
   ]
  },
  {
   "cell_type": "code",
   "execution_count": 29,
   "metadata": {
    "hidden": true
   },
   "outputs": [
    {
     "data": {
      "image/png": "[encoded data removed]",
      "text/plain": [
       "<Figure size 432x288 with 1 Axes>"
      ]
     },
     "metadata": {
      "needs_background": "light"
     },
     "output_type": "display_data"
    }
   ],
   "source": [
    "ax = journey_expanded['page_seq_len_NL'].hist(bins=122, grid=False)\n",
    "ax.set_yscale('log')"
   ]
  },
  {
   "cell_type": "markdown",
   "metadata": {},
   "source": [
    "### Search counts"
   ]
  },
  {
   "cell_type": "code",
   "execution_count": 30,
   "metadata": {},
   "outputs": [
    {
     "name": "stdout",
     "output_type": "stream",
     "text": [
      "786118/340084927 (0.23115343774115574%) of journeys contain internal search in their path\n"
     ]
    }
   ],
   "source": [
    "print(\"{}/{} ({}%) of journeys contain internal search in their path\".format(journeys['contains_search_n'].sum(),\n",
    "                                                                             journeys['Page_Seq_Occurrences'].sum(),\n",
    "                                                                             journeys['contains_search_n'].sum()/journeys['Page_Seq_Occurrences'].sum()*100))"
   ]
  },
  {
   "cell_type": "code",
   "execution_count": 31,
   "metadata": {},
   "outputs": [],
   "source": [
    "data = []\n",
    "for i in range(journeys['page_seq_len'].max()):\n",
    "    df = journeys[journeys['page_seq_len']==i]\n",
    "    if df['Page_Seq_Occurrences'].sum()>1:\n",
    "            percent = round(df['contains_search_n'].sum()/df['Page_Seq_Occurrences'].sum()*100, 1)\n",
    "            n = df['contains_search_n'].sum()\n",
    "            denom = df['Page_Seq_Occurrences'].sum()\n",
    "            p = percent/100\n",
    "            variance = (p*(1-p))/denom\n",
    "            data.append([i+1, n, denom, percent, variance])\n",
    "\n",
    "search_seqlength = pd.DataFrame(data, columns=['length', 'n', 'denom','percent', 'variance'])"
   ]
  },
  {
   "cell_type": "code",
   "execution_count": 112,
   "metadata": {},
   "outputs": [
    {
     "data": {
      "text/html": [
       "<div>\n",
       "<style scoped>\n",
       "    .dataframe tbody tr th:only-of-type {\n",
       "        vertical-align: middle;\n",
       "    }\n",
       "\n",
       "    .dataframe tbody tr th {\n",
       "        vertical-align: top;\n",
       "    }\n",
       "\n",
       "    .dataframe thead th {\n",
       "        text-align: right;\n",
       "    }\n",
       "</style>\n",
       "<table border=\"1\" class=\"dataframe\">\n",
       "  <thead>\n",
       "    <tr style=\"text-align: right;\">\n",
       "      <th></th>\n",
       "      <th>length</th>\n",
       "      <th>n</th>\n",
       "      <th>denom</th>\n",
       "      <th>percent</th>\n",
       "      <th>variance</th>\n",
       "    </tr>\n",
       "  </thead>\n",
       "  <tbody>\n",
       "    <tr>\n",
       "      <th>0</th>\n",
       "      <td>2</td>\n",
       "      <td>264149</td>\n",
       "      <td>304589709</td>\n",
       "      <td>0.1</td>\n",
       "      <td>3.279822e-12</td>\n",
       "    </tr>\n",
       "    <tr>\n",
       "      <th>1</th>\n",
       "      <td>3</td>\n",
       "      <td>415961</td>\n",
       "      <td>31286493</td>\n",
       "      <td>1.3</td>\n",
       "      <td>4.101131e-10</td>\n",
       "    </tr>\n",
       "    <tr>\n",
       "      <th>2</th>\n",
       "      <td>4</td>\n",
       "      <td>92285</td>\n",
       "      <td>2353912</td>\n",
       "      <td>3.9</td>\n",
       "      <td>1.592201e-08</td>\n",
       "    </tr>\n",
       "    <tr>\n",
       "      <th>3</th>\n",
       "      <td>5</td>\n",
       "      <td>9318</td>\n",
       "      <td>1231221</td>\n",
       "      <td>0.8</td>\n",
       "      <td>6.445634e-09</td>\n",
       "    </tr>\n",
       "    <tr>\n",
       "      <th>4</th>\n",
       "      <td>6</td>\n",
       "      <td>1703</td>\n",
       "      <td>515145</td>\n",
       "      <td>0.3</td>\n",
       "      <td>5.806132e-09</td>\n",
       "    </tr>\n",
       "  </tbody>\n",
       "</table>\n",
       "</div>"
      ],
      "text/plain": [
       "   length       n      denom  percent      variance\n",
       "0  2       264149  304589709  0.1      3.279822e-12\n",
       "1  3       415961  31286493   1.3      4.101131e-10\n",
       "2  4       92285   2353912    3.9      1.592201e-08\n",
       "3  5       9318    1231221    0.8      6.445634e-09\n",
       "4  6       1703    515145     0.3      5.806132e-09"
      ]
     },
     "execution_count": 112,
     "metadata": {},
     "output_type": "execute_result"
    }
   ],
   "source": [
    "search_seqlength.head()"
   ]
  },
  {
   "cell_type": "code",
   "execution_count": 33,
   "metadata": {},
   "outputs": [
    {
     "data": {
      "text/plain": [
       "count     66.000000\n",
       "mean      36.606061\n",
       "std       24.297438\n",
       "min        2.000000\n",
       "25%       18.250000\n",
       "50%       34.500000\n",
       "75%       50.750000\n",
       "max      126.000000\n",
       "Name: length, dtype: float64"
      ]
     },
     "execution_count": 33,
     "metadata": {},
     "output_type": "execute_result"
    }
   ],
   "source": [
    "search_seqlength['length'].describe()"
   ]
  },
  {
   "cell_type": "code",
   "execution_count": 34,
   "metadata": {},
   "outputs": [
    {
     "data": {
      "text/plain": [
       "Text(0, 0.5, 'Percent of journeys used internal search')"
      ]
     },
     "execution_count": 34,
     "metadata": {},
     "output_type": "execute_result"
    },
    {
     "data": {
      "image/png": "[encoded data removed]",
      "text/plain": [
       "<Figure size 432x288 with 1 Axes>"
      ]
     },
     "metadata": {
      "needs_background": "light"
     },
     "output_type": "display_data"
    }
   ],
   "source": [
    "ax = search_seqlength.plot.scatter(x='length', y='percent')\n",
    "ax.set_xlabel(\"Number of pages in journey\")\n",
    "ax.set_ylabel(\"Percent of journeys used internal search\")"
   ]
  },
  {
   "cell_type": "code",
   "execution_count": 113,
   "metadata": {},
   "outputs": [
    {
     "data": {
      "text/plain": [
       "Text(0, 0.5, 'Percent of journeys used internal search')"
      ]
     },
     "execution_count": 113,
     "metadata": {},
     "output_type": "execute_result"
    },
    {
     "data": {
      "image/png": "[encoded data removed]",
      "text/plain": [
       "<Figure size 432x288 with 1 Axes>"
      ]
     },
     "metadata": {
      "needs_background": "light"
     },
     "output_type": "display_data"
    }
   ],
   "source": [
    "ax = sns.scatterplot(x=\"length\", y=\"percent\", size=\"variance\", data=search_seqlength)\n",
    "ax.set_xlabel(\"Number of pages in journey*\")\n",
    "ax.set_ylabel(\"Percent of journeys used internal search\")"
   ]
  },
  {
   "cell_type": "code",
   "execution_count": 36,
   "metadata": {},
   "outputs": [
    {
     "name": "stdout",
     "output_type": "stream",
     "text": [
      "13723/1854813 (0.7398589507405868%) of longerthan3 contain internal search in their path\n"
     ]
    }
   ],
   "source": [
    "longerthan3 = journeys[journeys['page_seq_len']>3]\n",
    "\n",
    "print(\"{}/{} ({}%) of longerthan3 contain internal search in their path\".format(longerthan3['contains_search_n'].sum(),\n",
    "                                                                             longerthan3['Page_Seq_Occurrences'].sum(),\n",
    "                                                                             longerthan3['contains_search_n'].sum()/longerthan3['Page_Seq_Occurrences'].sum()*100))"
   ]
  },
  {
   "cell_type": "code",
   "execution_count": 37,
   "metadata": {},
   "outputs": [
    {
     "data": {
      "text/plain": [
       "count    4159.000000\n",
       "mean        8.254869\n",
       "std         8.936792\n",
       "min         1.000000\n",
       "25%         3.000000\n",
       "50%         6.000000\n",
       "75%        10.000000\n",
       "max       173.000000\n",
       "Name: page_seq_len, dtype: float64"
      ]
     },
     "execution_count": 37,
     "metadata": {},
     "output_type": "execute_result"
    }
   ],
   "source": [
    "journeys[journeys['contains_search_regex']==1].page_seq_len.describe()"
   ]
  },
  {
   "cell_type": "code",
   "execution_count": 38,
   "metadata": {},
   "outputs": [
    {
     "data": {
      "text/plain": [
       "count    46799.000000\n",
       "mean         4.617535\n",
       "std          6.036325\n",
       "min          1.000000\n",
       "25%          2.000000\n",
       "50%          3.000000\n",
       "75%          5.000000\n",
       "max        253.000000\n",
       "Name: page_seq_len, dtype: float64"
      ]
     },
     "execution_count": 38,
     "metadata": {},
     "output_type": "execute_result"
    }
   ],
   "source": [
    "journeys.page_seq_len.describe()"
   ]
  },
  {
   "cell_type": "code",
   "execution_count": 39,
   "metadata": {},
   "outputs": [
    {
     "data": {
      "text/plain": [
       "count    46799.000000\n",
       "mean         0.176478\n",
       "std          0.850652\n",
       "min          0.000000\n",
       "25%          0.000000\n",
       "50%          0.000000\n",
       "75%          0.000000\n",
       "max         45.000000\n",
       "Name: count_search, dtype: float64"
      ]
     },
     "execution_count": 39,
     "metadata": {},
     "output_type": "execute_result"
    }
   ],
   "source": [
    "journeys['count_search'].describe()"
   ]
  },
  {
   "cell_type": "code",
   "execution_count": 40,
   "metadata": {},
   "outputs": [
    {
     "data": {
      "text/plain": [
       "count    4159.000000\n",
       "mean        1.985814\n",
       "std         2.133144\n",
       "min         1.000000\n",
       "25%         1.000000\n",
       "50%         1.000000\n",
       "75%         2.000000\n",
       "max        45.000000\n",
       "Name: count_search, dtype: float64"
      ]
     },
     "execution_count": 40,
     "metadata": {},
     "output_type": "execute_result"
    }
   ],
   "source": [
    "journeys[journeys['contains_search_regex']==1].count_search.describe()"
   ]
  },
  {
   "cell_type": "code",
   "execution_count": 41,
   "metadata": {},
   "outputs": [
    {
     "data": {
      "image/png": "[encoded data removed]",
      "text/plain": [
       "<Figure size 432x288 with 1 Axes>"
      ]
     },
     "metadata": {
      "needs_background": "light"
     },
     "output_type": "display_data"
    }
   ],
   "source": [
    "ax = journeys[journeys['contains_search_regex']==1].count_search.hist(bins=40, grid=False)\n",
    "ax.set_xlabel(\"Number of times search used in journey\")\n",
    "ax.set_ylabel(\"Number of journeys\")\n",
    "ax.set_yscale('log')"
   ]
  },
  {
   "cell_type": "code",
   "execution_count": 42,
   "metadata": {},
   "outputs": [
    {
     "data": {
      "text/plain": [
       "(0, 10)"
      ]
     },
     "execution_count": 42,
     "metadata": {},
     "output_type": "execute_result"
    },
    {
     "data": {
      "image/png": "[encoded data removed]",
      "text/plain": [
       "<Figure size 432x288 with 1 Axes>"
      ]
     },
     "metadata": {
      "needs_background": "light"
     },
     "output_type": "display_data"
    }
   ],
   "source": [
    "ax = journey_expanded[journey_expanded['contains_search_regex']==1].count_search.hist(bins=10, grid=False)\n",
    "ax.set_xlabel(\"Number of times search used in journey\")\n",
    "ax.set_ylabel(\"Number of journeys\")\n",
    "ax.set_xlim(0, 10)"
   ]
  },
  {
   "cell_type": "code",
   "execution_count": 43,
   "metadata": {},
   "outputs": [
    {
     "data": {
      "text/plain": [
       "(0, 10)"
      ]
     },
     "execution_count": 43,
     "metadata": {},
     "output_type": "execute_result"
    },
    {
     "data": {
      "image/png": "[encoded data removed]",
      "text/plain": [
       "<Figure size 432x288 with 1 Axes>"
      ]
     },
     "metadata": {
      "needs_background": "light"
     },
     "output_type": "display_data"
    }
   ],
   "source": [
    "ax = journey_expanded.count_search.hist(bins=300, grid=False)\n",
    "ax.set_xlabel(\"Number of times search used in journey\")\n",
    "ax.set_ylabel(\"Number of journeys\")\n",
    "ax.set_xlim(0, 10)"
   ]
  },
  {
   "cell_type": "code",
   "execution_count": 44,
   "metadata": {},
   "outputs": [
    {
     "data": {
      "text/plain": [
       "(0, 312)"
      ]
     },
     "execution_count": 44,
     "metadata": {},
     "output_type": "execute_result"
    },
    {
     "data": {
      "image/png": "[encoded data removed]",
      "text/plain": [
       "<Figure size 432x288 with 1 Axes>"
      ]
     },
     "metadata": {
      "needs_background": "light"
     },
     "output_type": "display_data"
    }
   ],
   "source": [
    "ax = sns.scatterplot(x=\"page_seq_len\", y=\"count_search\", data=journey_expanded)\n",
    "ax.set_xlabel(\"Number of pages in journey*\")\n",
    "ax.set_ylabel(\"Number of times of search used in journey\")\n",
    "ax.set_xlim(0, 312)"
   ]
  },
  {
   "cell_type": "code",
   "execution_count": 45,
   "metadata": {},
   "outputs": [],
   "source": [
    "# f, ax = plt.subplots(figsize=(6, 6))\n",
    "# cmap = sns.cubehelix_palette(as_cmap=True, dark=0, light=1, reverse=True)\n",
    "# sns.kdeplot(journey_expanded.page_seq_len, journey_expanded.count_search, cmap=cmap, n_levels=1000, shade=True)\n",
    "# ax.set_xlim(0, 100)\n",
    "# ax.set_ylim(0, 10)"
   ]
  },
  {
   "cell_type": "code",
   "execution_count": 46,
   "metadata": {},
   "outputs": [],
   "source": [
    "# f, ax = plt.subplots(figsize=(6, 6))\n",
    "# sns.kdeplot(journey_expanded.page_seq_len, journey_expanded.count_search, ax=ax)\n",
    "# sns.rugplot(journey_expanded.page_seq_len, color=\"g\", ax=ax)\n",
    "# sns.rugplot(journey_expanded.count_search, vertical=True, ax=ax)\n"
   ]
  },
  {
   "cell_type": "code",
   "execution_count": 47,
   "metadata": {},
   "outputs": [],
   "source": [
    "# with sns.axes_style(\"white\"):\n",
    "#     sns.jointplot(x=journey_expanded.page_seq_len, y=journey_expanded.count_search, kind=\"hex\", color=\"k\")"
   ]
  },
  {
   "cell_type": "code",
   "execution_count": 48,
   "metadata": {},
   "outputs": [],
   "source": [
    "longerthan10 = journey_expanded[journey_expanded['page_seq_len']>10]"
   ]
  },
  {
   "cell_type": "code",
   "execution_count": 49,
   "metadata": {},
   "outputs": [
    {
     "data": {
      "text/plain": [
       "(0, 100)"
      ]
     },
     "execution_count": 49,
     "metadata": {},
     "output_type": "execute_result"
    },
    {
     "data": {
      "image/png": "[encoded data removed]",
      "text/plain": [
       "<Figure size 432x288 with 1 Axes>"
      ]
     },
     "metadata": {
      "needs_background": "light"
     },
     "output_type": "display_data"
    }
   ],
   "source": [
    "ax = longerthan10[longerthan10['contains_search_regex']==1].count_search.hist(bins=9, grid=False)\n",
    "ax.set_xlabel(\"Number of times search used in journey\")\n",
    "ax.set_ylabel(\"Number of journeys\")\n",
    "ax.set_xlim(0, 100)"
   ]
  },
  {
   "cell_type": "code",
   "execution_count": 50,
   "metadata": {},
   "outputs": [
    {
     "data": {
      "text/plain": [
       "count    937.000000\n",
       "mean       3.408751\n",
       "std        3.746572\n",
       "min        1.000000\n",
       "25%        1.000000\n",
       "50%        2.000000\n",
       "75%        4.000000\n",
       "max       45.000000\n",
       "Name: count_search, dtype: float64"
      ]
     },
     "execution_count": 50,
     "metadata": {},
     "output_type": "execute_result"
    }
   ],
   "source": [
    "longerthan10[longerthan10['contains_search_regex']==1].count_search.describe()"
   ]
  },
  {
   "cell_type": "code",
   "execution_count": 51,
   "metadata": {},
   "outputs": [
    {
     "data": {
      "text/plain": [
       "(937, 11)"
      ]
     },
     "execution_count": 51,
     "metadata": {},
     "output_type": "execute_result"
    }
   ],
   "source": [
    "longerthan10[longerthan10['contains_search_regex']==1].shape"
   ]
  },
  {
   "cell_type": "code",
   "execution_count": 52,
   "metadata": {},
   "outputs": [
    {
     "data": {
      "text/plain": [
       "(5596, 11)"
      ]
     },
     "execution_count": 52,
     "metadata": {},
     "output_type": "execute_result"
    }
   ],
   "source": [
    "longerthan10.shape"
   ]
  },
  {
   "cell_type": "markdown",
   "metadata": {
    "heading_collapsed": true
   },
   "source": [
    "### Most frequent pages"
   ]
  },
  {
   "cell_type": "code",
   "execution_count": 53,
   "metadata": {
    "hidden": true
   },
   "outputs": [],
   "source": [
    "# lst_col = 'Page_Seq_NL'\n",
    "\n",
    "# r = pd.DataFrame({\n",
    "#       col:np.repeat(journey_expanded[col].values, journey_expanded[lst_col].str.len())\n",
    "#       for col in journey_expanded.columns.drop(lst_col)}\n",
    "#     ).assign(**{lst_col:np.concatenate(journey_expanded[lst_col].values)})[journey_expanded.columns]"
   ]
  },
  {
   "cell_type": "code",
   "execution_count": 54,
   "metadata": {
    "hidden": true
   },
   "outputs": [],
   "source": [
    "journey_expanded['journey_type'] = journey_expanded.index"
   ]
  },
  {
   "cell_type": "code",
   "execution_count": 55,
   "metadata": {
    "hidden": true
   },
   "outputs": [],
   "source": [
    "journey_expanded.reset_index(inplace=True)\n",
    "journey_expanded['journey'] = journey_expanded.index"
   ]
  },
  {
   "cell_type": "code",
   "execution_count": 56,
   "metadata": {
    "hidden": true
   },
   "outputs": [
    {
     "data": {
      "text/html": [
       "<div>\n",
       "<style scoped>\n",
       "    .dataframe tbody tr th:only-of-type {\n",
       "        vertical-align: middle;\n",
       "    }\n",
       "\n",
       "    .dataframe tbody tr th {\n",
       "        vertical-align: top;\n",
       "    }\n",
       "\n",
       "    .dataframe thead th {\n",
       "        text-align: right;\n",
       "    }\n",
       "</style>\n",
       "<table border=\"1\" class=\"dataframe\">\n",
       "  <thead>\n",
       "    <tr style=\"text-align: right;\">\n",
       "      <th></th>\n",
       "      <th>index</th>\n",
       "      <th>Occurrences</th>\n",
       "      <th>final_page</th>\n",
       "      <th>page_seq_len</th>\n",
       "      <th>page_seq_len_NL</th>\n",
       "      <th>event_list_contains_start</th>\n",
       "      <th>count_search</th>\n",
       "      <th>contains_search_regex</th>\n",
       "      <th>page_list_NL_eval</th>\n",
       "      <th>Page_Seq_NL</th>\n",
       "      <th>page_seq_contains_start</th>\n",
       "      <th>page_seq_contains_service.gov.uk</th>\n",
       "      <th>journey_type</th>\n",
       "      <th>journey</th>\n",
       "    </tr>\n",
       "  </thead>\n",
       "  <tbody>\n",
       "    <tr>\n",
       "      <th>0</th>\n",
       "      <td>0</td>\n",
       "      <td>2272</td>\n",
       "      <td>/vehicle-tax</td>\n",
       "      <td>2</td>\n",
       "      <td>2</td>\n",
       "      <td>0</td>\n",
       "      <td>0</td>\n",
       "      <td>0</td>\n",
       "      <td>[/check-vehicle-tax, /vehicle-tax]</td>\n",
       "      <td>/check-vehicle-tax&gt;&gt;/vehicle-tax</td>\n",
       "      <td>0</td>\n",
       "      <td>1</td>\n",
       "      <td>0</td>\n",
       "      <td>0</td>\n",
       "    </tr>\n",
       "    <tr>\n",
       "      <th>1</th>\n",
       "      <td>0</td>\n",
       "      <td>2272</td>\n",
       "      <td>/vehicle-tax</td>\n",
       "      <td>2</td>\n",
       "      <td>2</td>\n",
       "      <td>0</td>\n",
       "      <td>0</td>\n",
       "      <td>0</td>\n",
       "      <td>[/check-vehicle-tax, /vehicle-tax]</td>\n",
       "      <td>/check-vehicle-tax&gt;&gt;/vehicle-tax</td>\n",
       "      <td>0</td>\n",
       "      <td>1</td>\n",
       "      <td>0</td>\n",
       "      <td>1</td>\n",
       "    </tr>\n",
       "    <tr>\n",
       "      <th>2</th>\n",
       "      <td>0</td>\n",
       "      <td>2272</td>\n",
       "      <td>/vehicle-tax</td>\n",
       "      <td>2</td>\n",
       "      <td>2</td>\n",
       "      <td>0</td>\n",
       "      <td>0</td>\n",
       "      <td>0</td>\n",
       "      <td>[/check-vehicle-tax, /vehicle-tax]</td>\n",
       "      <td>/check-vehicle-tax&gt;&gt;/vehicle-tax</td>\n",
       "      <td>0</td>\n",
       "      <td>1</td>\n",
       "      <td>0</td>\n",
       "      <td>2</td>\n",
       "    </tr>\n",
       "    <tr>\n",
       "      <th>3</th>\n",
       "      <td>0</td>\n",
       "      <td>2272</td>\n",
       "      <td>/vehicle-tax</td>\n",
       "      <td>2</td>\n",
       "      <td>2</td>\n",
       "      <td>0</td>\n",
       "      <td>0</td>\n",
       "      <td>0</td>\n",
       "      <td>[/check-vehicle-tax, /vehicle-tax]</td>\n",
       "      <td>/check-vehicle-tax&gt;&gt;/vehicle-tax</td>\n",
       "      <td>0</td>\n",
       "      <td>1</td>\n",
       "      <td>0</td>\n",
       "      <td>3</td>\n",
       "    </tr>\n",
       "    <tr>\n",
       "      <th>4</th>\n",
       "      <td>0</td>\n",
       "      <td>2272</td>\n",
       "      <td>/vehicle-tax</td>\n",
       "      <td>2</td>\n",
       "      <td>2</td>\n",
       "      <td>0</td>\n",
       "      <td>0</td>\n",
       "      <td>0</td>\n",
       "      <td>[/check-vehicle-tax, /vehicle-tax]</td>\n",
       "      <td>/check-vehicle-tax&gt;&gt;/vehicle-tax</td>\n",
       "      <td>0</td>\n",
       "      <td>1</td>\n",
       "      <td>0</td>\n",
       "      <td>4</td>\n",
       "    </tr>\n",
       "  </tbody>\n",
       "</table>\n",
       "</div>"
      ],
      "text/plain": [
       "   index  Occurrences    final_page  page_seq_len  page_seq_len_NL  \\\n",
       "0      0         2272  /vehicle-tax             2                2   \n",
       "1      0         2272  /vehicle-tax             2                2   \n",
       "2      0         2272  /vehicle-tax             2                2   \n",
       "3      0         2272  /vehicle-tax             2                2   \n",
       "4      0         2272  /vehicle-tax             2                2   \n",
       "\n",
       "   event_list_contains_start  count_search  contains_search_regex  \\\n",
       "0                          0             0                      0   \n",
       "1                          0             0                      0   \n",
       "2                          0             0                      0   \n",
       "3                          0             0                      0   \n",
       "4                          0             0                      0   \n",
       "\n",
       "                    page_list_NL_eval                       Page_Seq_NL  \\\n",
       "0  [/check-vehicle-tax, /vehicle-tax]  /check-vehicle-tax>>/vehicle-tax   \n",
       "1  [/check-vehicle-tax, /vehicle-tax]  /check-vehicle-tax>>/vehicle-tax   \n",
       "2  [/check-vehicle-tax, /vehicle-tax]  /check-vehicle-tax>>/vehicle-tax   \n",
       "3  [/check-vehicle-tax, /vehicle-tax]  /check-vehicle-tax>>/vehicle-tax   \n",
       "4  [/check-vehicle-tax, /vehicle-tax]  /check-vehicle-tax>>/vehicle-tax   \n",
       "\n",
       "   page_seq_contains_start  page_seq_contains_service.gov.uk  journey_type  \\\n",
       "0                        0                                 1             0   \n",
       "1                        0                                 1             0   \n",
       "2                        0                                 1             0   \n",
       "3                        0                                 1             0   \n",
       "4                        0                                 1             0   \n",
       "\n",
       "   journey  \n",
       "0        0  \n",
       "1        1  \n",
       "2        2  \n",
       "3        3  \n",
       "4        4  "
      ]
     },
     "execution_count": 56,
     "metadata": {},
     "output_type": "execute_result"
    }
   ],
   "source": [
    "journey_expanded.head()"
   ]
  },
  {
   "cell_type": "code",
   "execution_count": 57,
   "metadata": {
    "hidden": true
   },
   "outputs": [],
   "source": [
    "#this gives me a new row for every page in the no loop page list in the data which already has a row for every occurrence\n",
    "#so now each row represents a single occurrence of that page within a journey\n",
    "\n",
    "# s = tqdm_notebook(journey_expanded.apply(lambda x: pd.Series(x['page_list_NL_eval']),axis=1).stack().reset_index(level=1, drop=True))\n",
    "# s.name = 'page'\n",
    "# page_expanded = journey_expanded.join(s).copy()"
   ]
  },
  {
   "cell_type": "code",
   "execution_count": 58,
   "metadata": {
    "hidden": true
   },
   "outputs": [],
   "source": [
    "# page_expanded.head()"
   ]
  },
  {
   "cell_type": "code",
   "execution_count": 59,
   "metadata": {
    "hidden": true
   },
   "outputs": [
    {
     "name": "stdout",
     "output_type": "stream",
     "text": [
      "Total journeys = 6982232 \n",
      "Total NL journey types = 36188 \n",
      "Mean number of journeys per journey type = 192.94329612026087\n"
     ]
    }
   ],
   "source": [
    "print(\"Total journeys = {} \\nTotal NL journey types = {} \\nMean number of journeys per journey type = {}\".format(\n",
    "    journey_expanded.shape[0],\n",
    "    journey_expanded.Page_Seq_NL.nunique(),\n",
    "    journey_expanded.shape[0]/journey_expanded.Page_Seq_NL.nunique()))"
   ]
  },
  {
   "cell_type": "code",
   "execution_count": 60,
   "metadata": {
    "hidden": true
   },
   "outputs": [],
   "source": [
    "# print(\"Total journey made with loops = {} \\nTotal journey types = {} \\nTotal journey types without loops = {} \\nTotal pages visited = {}\".format(\n",
    "#     page_expanded.journey.nunique(),\n",
    "#     page_expanded.journey_type.nunique(),\n",
    "#     page_expanded.Page_Seq_NL.nunique(),\n",
    "#     page_expanded.shape[0]))"
   ]
  },
  {
   "cell_type": "code",
   "execution_count": 61,
   "metadata": {
    "hidden": true
   },
   "outputs": [],
   "source": [
    "# total_page_visits = page_expanded.shape[0]"
   ]
  },
  {
   "cell_type": "code",
   "execution_count": 62,
   "metadata": {
    "hidden": true
   },
   "outputs": [],
   "source": [
    "# page_expanded.groupby(['journey_type', 'journey']).size().describe()"
   ]
  },
  {
   "cell_type": "code",
   "execution_count": 63,
   "metadata": {
    "hidden": true
   },
   "outputs": [],
   "source": [
    "# page_expanded.groupby([ 'journey']).size().describe()"
   ]
  },
  {
   "cell_type": "markdown",
   "metadata": {
    "hidden": true
   },
   "source": [
    "Oh good, this is distribution of number of pages per journey and now matches journey_expanded['page_seq_len_NL'].describe()"
   ]
  },
  {
   "cell_type": "code",
   "execution_count": null,
   "metadata": {
    "hidden": true
   },
   "outputs": [],
   "source": []
  },
  {
   "cell_type": "code",
   "execution_count": 64,
   "metadata": {
    "hidden": true
   },
   "outputs": [],
   "source": [
    "# So I don't want to have more than one row for a page if it appeared twice in a session.\n",
    "# I think that's because we might expect pages to be viewed multiple times in a session for both the do-a-thing and chang-a-thing journeys\n",
    "# So I'm going to drop duplicate rows for a page within the same journey\n",
    "\n",
    "# page_expanded_no_repeats = page_expanded.drop_duplicates(['journey', 'page']).copy()"
   ]
  },
  {
   "cell_type": "code",
   "execution_count": 65,
   "metadata": {
    "hidden": true
   },
   "outputs": [],
   "source": [
    "# print(\"Total journey made with loops = {} \\nTotal journey types = {} \\nTotal journey types without loops = {} \\nUnique pages visited = {}\".format(\n",
    "#     page_expanded_no_repeats.journey.nunique(),\n",
    "#     page_expanded_no_repeats.journey_type.nunique(),\n",
    "#     page_expanded_no_repeats.Page_Seq_NL.nunique(),\n",
    "#     page_expanded_no_repeats.shape[0]))"
   ]
  },
  {
   "cell_type": "code",
   "execution_count": 66,
   "metadata": {
    "hidden": true
   },
   "outputs": [],
   "source": [
    "# print(\"So there were {} pages that were visited at least once in a journey and won't be counted from now\".format(\n",
    "# page_expanded.shape[0]-page_expanded_no_repeats.shape[0]))"
   ]
  },
  {
   "cell_type": "code",
   "execution_count": 67,
   "metadata": {
    "hidden": true
   },
   "outputs": [],
   "source": [
    "# print(\"The mean number of visits to a single page in a journey ={}\".format(\n",
    "#     total_page_visits/page_expanded_no_repeats.shape[0]))"
   ]
  },
  {
   "cell_type": "code",
   "execution_count": 68,
   "metadata": {
    "hidden": true
   },
   "outputs": [],
   "source": [
    "# page_expanded.groupby(['journey', 'page']).size().describe()"
   ]
  },
  {
   "cell_type": "markdown",
   "metadata": {
    "hidden": true
   },
   "source": [
    "Most journeys (>=75%) (without loops) only visit a page once. The average is 1.25 because a small number of jounreys visit a page many times"
   ]
  },
  {
   "cell_type": "code",
   "execution_count": 69,
   "metadata": {
    "hidden": true
   },
   "outputs": [],
   "source": [
    "# page_expanded_no_repeats.groupby([ 'page']).size().describe()"
   ]
  },
  {
   "cell_type": "code",
   "execution_count": 70,
   "metadata": {
    "hidden": true
   },
   "outputs": [],
   "source": [
    "# page_expanded_no_repeats.groupby([ 'page']).size().sort_values(ascending=False).head(20)"
   ]
  },
  {
   "cell_type": "code",
   "execution_count": 71,
   "metadata": {
    "hidden": true
   },
   "outputs": [],
   "source": [
    "# ax = page_expanded_no_repeats.groupby([ 'page']).size().hist(bins=200)\n",
    "# ax.set_yscale('log')"
   ]
  },
  {
   "cell_type": "markdown",
   "metadata": {
    "hidden": true
   },
   "source": [
    "This is the distribution of number of journeys containing a page. Some pages are in lots of journeys (10000) and half of pages are only in one. The mean number of jounreys a page is in is 5.6. "
   ]
  },
  {
   "cell_type": "markdown",
   "metadata": {
    "hidden": true
   },
   "source": [
    "Theres a 2% of content in 80% of sessionz thing that defines mainstream for some people. Is it true?"
   ]
  },
  {
   "cell_type": "code",
   "execution_count": 72,
   "metadata": {
    "hidden": true
   },
   "outputs": [],
   "source": [
    "# print(\"There are {} different pages\".format(\n",
    "#     page_expanded_no_repeats.groupby([ 'page']).size().sort_values(ascending=False).shape[0]))\n",
    "\n",
    "# unique_pages = page_expanded_no_repeats.groupby([ 'page']).size().sort_values(ascending=False).shape[0]"
   ]
  },
  {
   "cell_type": "code",
   "execution_count": 73,
   "metadata": {
    "hidden": true
   },
   "outputs": [],
   "source": [
    "# top_2_percent = page_expanded_no_repeats.groupby([ 'page']).size().nlargest(int(unique_pages * 0.02))"
   ]
  },
  {
   "cell_type": "code",
   "execution_count": 74,
   "metadata": {
    "hidden": true
   },
   "outputs": [],
   "source": [
    "# print(\"the top 2% of pages are visited in {}% of journeys\".format(\n",
    "#     top_2_percent.sum()/page_expanded_no_repeats.groupby([ 'page']).size().sum()))"
   ]
  },
  {
   "cell_type": "code",
   "execution_count": 75,
   "metadata": {
    "hidden": true
   },
   "outputs": [],
   "source": [
    "# percent = 0.13\n",
    "\n",
    "# print(\"the top {}% of pages are visited in {}% of journeys\".format(\n",
    "#     percent * 100,\n",
    "#     page_expanded_no_repeats.groupby([ 'page']).size().nlargest(int(unique_pages * percent)).sum()/page_expanded_no_repeats.groupby([ 'page']).size().sum()))"
   ]
  },
  {
   "cell_type": "code",
   "execution_count": 76,
   "metadata": {
    "hidden": true
   },
   "outputs": [],
   "source": [
    "# data = []\n",
    "# for i in np.arange(0.0, 1.0, 0.001):\n",
    "#     percent_of_pages = i*100\n",
    "#     n = page_expanded_no_repeats.groupby([ 'page']).size().nlargest(int(unique_pages * i)).sum()\n",
    "#     percent_of_journeys = n/page_expanded_no_repeats.groupby([ 'page']).size().sum()*100\n",
    "#     data.append([percent_of_pages, n, percent_of_journeys])\n",
    "\n",
    "# journey_to_content_relationship = pd.DataFrame(data, columns=['percent_of_pages', 'number_of_pages', 'percent_of_journeys'])"
   ]
  },
  {
   "cell_type": "code",
   "execution_count": 77,
   "metadata": {
    "hidden": true
   },
   "outputs": [],
   "source": [
    "# ax = sns.scatterplot(x=\"percent_of_pages\", y=\"percent_of_journeys\", data=journey_to_content_relationship)\n",
    "# ax.set_xlabel(\"Percent of pages in data\")\n",
    "# ax.set_ylabel(\"Percent of journeys containing these pages\")\n",
    "\n",
    "# # Create a Rectangle patch\n",
    "# rect = patches.Rectangle((0,0),2,66,linewidth=1,edgecolor='r',facecolor='red', fill=True, alpha=0.5)\n",
    "# rect2 = patches.Rectangle((0,0),13,84,linewidth=1,edgecolor='blue',facecolor='blue', fill=True, alpha=0.05)\n",
    "# # Add the patch to the Axes\n",
    "# ax.add_patch(rect)\n",
    "# ax.add_patch(rect2)"
   ]
  },
  {
   "cell_type": "code",
   "execution_count": 78,
   "metadata": {
    "hidden": true
   },
   "outputs": [],
   "source": [
    "\n",
    "\n",
    "# ax = sns.scatterplot(x=\"percent_of_pages\", y=\"percent_of_journeys\", data=journey_to_content_relationship)\n",
    "# ax.set_xlabel(\"Percent of pages in data\")\n",
    "# ax.set_ylabel(\"Percent of journeys containing these pages\")\n",
    "# ax.set_xlim(0, 20)\n",
    "\n",
    "# # Create a Rectangle patch\n",
    "# rect = patches.Rectangle((0,0),2,66,linewidth=1,edgecolor='r',facecolor='red', fill=True, alpha=0.5)\n",
    "\n",
    "# # Add the patch to the Axes\n",
    "# ax.add_patch(rect)"
   ]
  },
  {
   "cell_type": "markdown",
   "metadata": {
    "heading_collapsed": true
   },
   "source": [
    "### journeys containing start pages"
   ]
  },
  {
   "cell_type": "code",
   "execution_count": 79,
   "metadata": {
    "hidden": true
   },
   "outputs": [
    {
     "data": {
      "text/plain": [
       "0    6947736\n",
       "1      34496\n",
       "Name: event_list_contains_start, dtype: int64"
      ]
     },
     "execution_count": 79,
     "metadata": {},
     "output_type": "execute_result"
    }
   ],
   "source": [
    "journey_expanded.event_list_contains_start.value_counts()"
   ]
  },
  {
   "cell_type": "code",
   "execution_count": 80,
   "metadata": {
    "hidden": true
   },
   "outputs": [
    {
     "data": {
      "text/plain": [
       "0    0.995059\n",
       "1    0.004941\n",
       "Name: event_list_contains_start, dtype: float64"
      ]
     },
     "execution_count": 80,
     "metadata": {},
     "output_type": "execute_result"
    }
   ],
   "source": [
    "journey_expanded.event_list_contains_start.value_counts(normalize=True)"
   ]
  },
  {
   "cell_type": "code",
   "execution_count": 81,
   "metadata": {
    "hidden": true
   },
   "outputs": [
    {
     "data": {
      "text/plain": [
       "0    6935110\n",
       "1      47122\n",
       "Name: page_seq_contains_start, dtype: int64"
      ]
     },
     "execution_count": 81,
     "metadata": {},
     "output_type": "execute_result"
    }
   ],
   "source": [
    "journey_expanded.page_seq_contains_start.value_counts()"
   ]
  },
  {
   "cell_type": "code",
   "execution_count": 82,
   "metadata": {
    "hidden": true
   },
   "outputs": [
    {
     "data": {
      "text/plain": [
       "0    0.993251\n",
       "1    0.006749\n",
       "Name: page_seq_contains_start, dtype: float64"
      ]
     },
     "execution_count": 82,
     "metadata": {},
     "output_type": "execute_result"
    }
   ],
   "source": [
    "journey_expanded.page_seq_contains_start.value_counts(normalize=True)"
   ]
  },
  {
   "cell_type": "code",
   "execution_count": 83,
   "metadata": {
    "hidden": true
   },
   "outputs": [
    {
     "data": {
      "text/plain": [
       "<Figure size 2160x2160 with 0 Axes>"
      ]
     },
     "execution_count": 83,
     "metadata": {},
     "output_type": "execute_result"
    },
    {
     "data": {
      "image/png": "[encoded data removed]",
      "text/plain": [
       "<Figure size 432x288 with 1 Axes>"
      ]
     },
     "metadata": {},
     "output_type": "display_data"
    },
    {
     "data": {
      "text/plain": [
       "<Figure size 2160x2160 with 0 Axes>"
      ]
     },
     "metadata": {},
     "output_type": "display_data"
    }
   ],
   "source": [
    "\n",
    "plt.pie(journey_expanded.event_list_contains_start.value_counts(), labels=['start not in event list', 'the word start is in event list'], autopct='%1.1f%%')\n",
    "plt.figure(figsize=(30,30))"
   ]
  },
  {
   "cell_type": "code",
   "execution_count": 84,
   "metadata": {
    "hidden": true
   },
   "outputs": [
    {
     "data": {
      "text/plain": [
       "<Figure size 2160x2160 with 0 Axes>"
      ]
     },
     "execution_count": 84,
     "metadata": {},
     "output_type": "execute_result"
    },
    {
     "data": {
      "image/png": "[encoded data removed]",
      "text/plain": [
       "<Figure size 432x288 with 1 Axes>"
      ]
     },
     "metadata": {},
     "output_type": "display_data"
    },
    {
     "data": {
      "text/plain": [
       "<Figure size 2160x2160 with 0 Axes>"
      ]
     },
     "metadata": {},
     "output_type": "display_data"
    }
   ],
   "source": [
    "\n",
    "plt.pie(journey_expanded.page_seq_contains_start.value_counts(), labels=['start not in journey sequence', 'the word start is in journey sequence'], autopct='%1.1f%%')\n",
    "plt.figure(figsize=(30,30))"
   ]
  },
  {
   "cell_type": "code",
   "execution_count": 85,
   "metadata": {
    "hidden": true
   },
   "outputs": [
    {
     "data": {
      "text/plain": [
       "<matplotlib.patches.Circle at 0x14a22f9e8>"
      ]
     },
     "execution_count": 85,
     "metadata": {},
     "output_type": "execute_result"
    },
    {
     "data": {
      "image/png": "[encoded data removed]",
      "text/plain": [
       "<Figure size 432x288 with 1 Axes>"
      ]
     },
     "metadata": {},
     "output_type": "display_data"
    }
   ],
   "source": [
    "\n",
    "plt.pie(journey_expanded.page_seq_contains_start.value_counts(), labels=['start not in journey sequence', 'the word start is in journey sequence'], autopct='%1.1f%%', pctdistance=0.3)\n",
    "\n",
    "# add a circle at the center\n",
    "my_circle=plt.Circle( (0,0), 0.5, color='#E5E5E5')\n",
    "p=plt.gcf()\n",
    "p.gca().add_artist(my_circle)"
   ]
  },
  {
   "cell_type": "code",
   "execution_count": 86,
   "metadata": {
    "hidden": true
   },
   "outputs": [
    {
     "data": {
      "text/plain": [
       "<matplotlib.patches.Circle at 0x116138240>"
      ]
     },
     "execution_count": 86,
     "metadata": {},
     "output_type": "execute_result"
    },
    {
     "data": {
      "image/png": "[encoded data removed]",
      "text/plain": [
       "<Figure size 432x288 with 1 Axes>"
      ]
     },
     "metadata": {},
     "output_type": "display_data"
    },
    {
     "data": {
      "image/png": "[encoded data removed]",
      "text/plain": [
       "<Figure size 2160x2160 with 1 Axes>"
      ]
     },
     "metadata": {
      "needs_background": "light"
     },
     "output_type": "display_data"
    }
   ],
   "source": [
    "\n",
    "plt.pie(journey_expanded['page_seq_contains_service.gov.uk'].value_counts(), labels=['not in journey sequence', 'service.gov.uk is in journey sequence'], autopct='%1.1f%%')\n",
    "plt.figure(figsize=(30,30))\n",
    "\n",
    "# add a circle at the center\n",
    "my_circle=plt.Circle( (0,0), 0.5, color='#E5E5E5')\n",
    "p=plt.gcf()\n",
    "p.gca().add_artist(my_circle)"
   ]
  },
  {
   "cell_type": "markdown",
   "metadata": {},
   "source": [
    "### End page"
   ]
  },
  {
   "cell_type": "code",
   "execution_count": 87,
   "metadata": {},
   "outputs": [
    {
     "data": {
      "text/plain": [
       "14517"
      ]
     },
     "execution_count": 87,
     "metadata": {},
     "output_type": "execute_result"
    }
   ],
   "source": [
    "journeys['final_page'].nunique()"
   ]
  },
  {
   "cell_type": "code",
   "execution_count": 88,
   "metadata": {},
   "outputs": [
    {
     "data": {
      "text/plain": [
       "(46799, 31)"
      ]
     },
     "execution_count": 88,
     "metadata": {},
     "output_type": "execute_result"
    }
   ],
   "source": [
    "journeys.shape"
   ]
  },
  {
   "cell_type": "markdown",
   "metadata": {},
   "source": [
    "#### most frequent end pages"
   ]
  },
  {
   "cell_type": "code",
   "execution_count": 89,
   "metadata": {},
   "outputs": [
    {
     "data": {
      "text/plain": [
       "count     14517.000000\n",
       "mean        480.969346\n",
       "std        8080.920868\n",
       "min           1.000000\n",
       "25%           1.000000\n",
       "50%           2.000000\n",
       "75%          54.000000\n",
       "max      560033.000000\n",
       "dtype: float64"
      ]
     },
     "execution_count": 89,
     "metadata": {},
     "output_type": "execute_result"
    }
   ],
   "source": [
    "journey_expanded.groupby('final_page').size().describe()"
   ]
  },
  {
   "cell_type": "code",
   "execution_count": 90,
   "metadata": {},
   "outputs": [
    {
     "data": {
      "text/plain": [
       "final_page\n",
       "/sign-in-universal-credit                                                                                                                                                                             560033\n",
       "/vehicle-tax                                                                                                                                                                                          457414\n",
       "/get-information-about-a-company                                                                                                                                                                      310703\n",
       "/check-vehicle-tax                                                                                                                                                                                    273741\n",
       "/log-in-register-hmrc-online-services                                                                                                                                                                 246283\n",
       "/                                                                                                                                                                                                     191268\n",
       "/done/vehicle-tax                                                                                                                                                                                     167726\n",
       "/view-driving-licence                                                                                                                                                                                 132175\n",
       "/check-mot-status                                                                                                                                                                                     127668\n",
       "/jobsearch                                                                                                                                                                                            116490\n",
       "/get-vehicle-information-from-dvla                                                                                                                                                                    107670\n",
       "/student-finance-register-login                                                                                                                                                                       106979\n",
       "/pay-dartford-crossing-charge                                                                                                                                                                          93590\n",
       "/make-a-sorn                                                                                                                                                                                           80762\n",
       "/bank-holidays                                                                                                                                                                                         71814\n",
       "/contact/govuk/anonymous-feedback/thankyou                                                                                                                                                             68094\n",
       "/national-minimum-wage-rates                                                                                                                                                                           61153\n",
       "/book-theory-test                                                                                                                                                                                      41514\n",
       "/register-to-vote                                                                                                                                                                                      40947\n",
       "/send-vat-return                                                                                                                                                                                       36262\n",
       "/done/driving-transaction-finished                                                                                                                                                                     34053\n",
       "/apply-apprenticeship                                                                                                                                                                                  31862\n",
       "/government/organisations/companies-house                                                                                                                                                              31385\n",
       "/check-income-tax-last-year                                                                                                                                                                            28059\n",
       "/government/organisations/hm-revenue-customs                                                                                                                                                           28020\n",
       "/council-tax-bands                                                                                                                                                                                     27116\n",
       "/done/make-a-sorn                                                                                                                                                                                      26556\n",
       "/income-tax-rates                                                                                                                                                                                      24880\n",
       "/apply-first-provisional-driving-licence                                                                                                                                                               23940\n",
       "/personal-tax-account/sign-in/prove-identity                                                                                                                                                           23826\n",
       "                                                                                                                                                                                                       ...  \n",
       "/government/publications/oman-list-of-medical-facilities?cachebust=0.5818566234528267                                                                                                                      1\n",
       "/government/publications/oman-list-of-medical-facilities?cachebust=0.831621522584457                                                                                                                       1\n",
       "/government/publications/oman-list-of-medical-facilities?cachebust=0.9864950681314708                                                                                                                      1\n",
       "/government/publications/one-year-review-of-enforcement-agent-reforms                                                                                                                                      1\n",
       "/government/publications/online-dating-what-to-look-out-for/online-dating-what-to-look-out-for                                                                                                             1\n",
       "/government/publications/open-data-strategic-noise-mapping                                                                                                                                                 1\n",
       "/government/publications/open-general-export-licence-export-under-the-us-uk-defence-trade-co-operation-treaty                                                                                              1\n",
       "/government/publications/open-spina-bifida-description-in-brief                                                                                                                                            1\n",
       "/government/publications/overriding-interests-and-their-disclosure/practice-guide-15-overriding-interests-and-their-disclosure                                                                             1\n",
       "/government/publications/overriding-interests-losing-automatic-protection-in-2013/practice-guide-66-overriding-interests-losing-automatic-protection-in-2013                                               1\n",
       "/government/publications/overseas-business-risk-brazil                                                                                                                                                     1\n",
       "/government/publications/overseas-business-risk-chile/overseas-business-risk-chile                                                                                                                         1\n",
       "/government/publications/overseas-business-risk-south-africa/overseas-business-risk-south-africa                                                                                                           1\n",
       "/government/publications/overseas-domestic-workers-supporting-documents                                                                                                                                    1\n",
       "/government/publications/overseas-passports-guidance                                                                                                                                                       1\n",
       "/government/publications/p9x-tax-codes                                                                                                                                                                     1\n",
       "/government/publications/panama-consular-fees?cachebust=0.6463469680245741                                                                                                                                 1\n",
       "/government/publications/pandemic-influenza-response-plan                                                                                                                                                  1\n",
       "/government/publications/parental-responsibility-measures-for-behaviour-and-attendance                                                                                                                     1\n",
       "/government/publications/parliamentary-ombudsman-of-an-investigation-of-a-complaint-about-the-pensions-regulator-first-report-session-2010-to-2011                                                         1\n",
       "/government/publications/part-i-ch-ii-request-schedule-for-subscriber-information                                                                                                                          1\n",
       "/government/publications/partnership-agreement-between-hmrc-and-border-force                                                                                                                               1\n",
       "/government/publications/partnership-pack-preparing-for-a-no-deal-eu-exit/changes-to-customs-excise-and-vat-you-need-to-know-about-if-there-is-no-deal                                                     1\n",
       "/government/publications/partnership-pack-preparing-for-a-no-deal-eu-exit/ferry-or-channel-tunnel-operators-moving-goods-between-the-uk-and-the-eu-what-to-expect-on-day-one-of-a-no-deal-scenario         1\n",
       "/government/publications/partnership-pack-preparing-for-a-no-deal-eu-exit/ports-and-airports-what-to-expect-on-day-one-of-a-no-deal-scenario                                                               1\n",
       "/government/publications/partnership-taxation-proposals-to-clarify-tax-treatment                                                                                                                           1\n",
       "/government/publications/patent-classification/patent-classification                                                                                                                                       1\n",
       "/government/publications/paye-customer-views-on-p2-prototypes                                                                                                                                              1\n",
       "/government/publications/paye-draft-forms-p60-2016-to-2017                                                                                                                                                 1\n",
       "/zw52axjvbm                                                                                                                                                                                                1\n",
       "Length: 14517, dtype: int64"
      ]
     },
     "execution_count": 90,
     "metadata": {},
     "output_type": "execute_result"
    }
   ],
   "source": [
    "journey_expanded.groupby('final_page').size().sort_values(ascending=False)"
   ]
  },
  {
   "cell_type": "code",
   "execution_count": 91,
   "metadata": {},
   "outputs": [
    {
     "data": {
      "text/plain": [
       "Text(0.5, 0, 'Number of journeys where page is final')"
      ]
     },
     "execution_count": 91,
     "metadata": {},
     "output_type": "execute_result"
    },
    {
     "data": {
      "image/png": "[encoded data removed]",
      "text/plain": [
       "<Figure size 432x288 with 1 Axes>"
      ]
     },
     "metadata": {
      "needs_background": "light"
     },
     "output_type": "display_data"
    }
   ],
   "source": [
    "ax = journey_expanded.groupby('final_page').size().hist(bins=50, grid=False)\n",
    "ax.set_yscale('log')\n",
    "ax.set_ylabel(\"log(frequency)\")\n",
    "ax.set_xlabel(\"Number of journeys where page is final\")"
   ]
  },
  {
   "cell_type": "code",
   "execution_count": 92,
   "metadata": {},
   "outputs": [
    {
     "data": {
      "text/plain": [
       "final_page\n",
       "/tax-relief-for-employees/uniforms-work-clothing-and-tools                                                                              3182\n",
       "/log-in-file-self-assessment-tax-return/register-if-youre-self-employed                                                                 3167\n",
       "/renew-adult-passport                                                                                                                   3155\n",
       "/tell-hmrc-change-address                                                                                                               3154\n",
       "/paye-online                                                                                                                            3147\n",
       "/fishing-licences/buy-a-fishing-licence                                                                                                 3093\n",
       "/government/publications/sex-and-relationship-education                                                                                 3092\n",
       "/government/publications/keeping-children-safe-in-education--2                                                                          3083\n",
       "/contracts-finder                                                                                                                       3057\n",
       "/guidance/equality-act-2010-guidance                                                                                                    3050\n",
       "/government/publications/tax-and-tax-credit-rates-and-thresholds-for-2017-18/tax-and-tax-credit-rates-and-thresholds-for-2017-18        3039\n",
       "/government/organisations/department-for-education                                                                                      3033\n",
       "/government/news/rejection-policy-widens-for-first-registrations                                                                        3030\n",
       "/passport-advice-line                                                                                                                   3029\n",
       "/government/organisations/hm-revenue-customs/contact/self-assessment                                                                    3018\n",
       "/child-benefit/how-to-claim                                                                                                             3008\n",
       "/government/publications/application-to-naturalise-as-a-british-citizen-form-an                                                         3002\n",
       "/government/publications/advisory-fuel-rates/advisory-fuel-rates-from-1-march-2016                                                      2985\n",
       "/visa-fees                                                                                                                              2968\n",
       "/speed-limits                                                                                                                           2959\n",
       "/log-in-file-self-assessment-tax-return                                                                                                 2955\n",
       "/change-address-driving-licence/apply-by-post                                                                                           2936\n",
       "/government/collections/how-to-use-the-land-registry-portal                                                                             2929\n",
       "/inheritance-tax/gifts                                                                                                                  2929\n",
       "/pay-council-tax                                                                                                                        2886\n",
       "/guidance/use-software-to-submit-your-vat-returns                                                                                       2879\n",
       "/find-charity-information                                                                                                               2866\n",
       "/government/ministers                                                                                                                   2858\n",
       "/find-local-trading-standards-office                                                                                                    2846\n",
       "/sign-in-help-to-save                                                                                                                   2837\n",
       "/pip/change-of-circumstances                                                                                                            2834\n",
       "/done/private-keeper-sold                                                                                                               2815\n",
       "/pay-tax-debit-credit-card                                                                                                              2805\n",
       "/help-with-childcare-costs/free-childcare-2-year-olds                                                                                   2791\n",
       "/foreign-travel-advice/india/entry-requirements                                                                                         2786\n",
       "/government/publications/eu-settlement-scheme-private-beta-1                                                                            2784\n",
       "/guidance/security-vetting-and-clearance                                                                                                2781\n",
       "/winter-fuel-payment/eligibility                                                                                                        2778\n",
       "/duty-free-goods/arrivals-from-eu-countries                                                                                             2774\n",
       "/checks-when-buying-a-used-car                                                                                                          2765\n",
       "/contact-ukvi-inside-outside-uk/y/outside-the-uk/english                                                                                2722\n",
       "/visa-processing-times                                                                                                                  2713\n",
       "/government/publications/national-insurance-get-your-national-insurance-number-in-writing-ca5403                                        2700\n",
       "/search-property-information-land-registry                                                                                              2683\n",
       "/carers-allowance/eligibility                                                                                                           2670\n",
       "/workplace-temperatures                                                                                                                 2666\n",
       "/government/publications/rates-and-allowances-corporation-tax/rates-and-allowances-corporation-tax                                      2651\n",
       "/government/publications/rates-and-allowances-national-insurance-contributions/rates-and-allowances-national-insurance-contributions    2651\n",
       "/pip/what-youll-get                                                                                                                     2637\n",
       "/electoral-register/view-electoral-register                                                                                             2632\n",
       "dtype: int64"
      ]
     },
     "execution_count": 92,
     "metadata": {},
     "output_type": "execute_result"
    }
   ],
   "source": [
    "journey_expanded.groupby('final_page').size().sort_values(ascending=False).iloc[250:300]"
   ]
  },
  {
   "cell_type": "markdown",
   "metadata": {
    "heading_collapsed": true
   },
   "source": [
    "#### Most number of 'ways' of getting there"
   ]
  },
  {
   "cell_type": "code",
   "execution_count": 93,
   "metadata": {
    "hidden": true
   },
   "outputs": [
    {
     "name": "stdout",
     "output_type": "stream",
     "text": [
      "On average there are 3.2237376868499 journeys per exit page; ways of getting there\n"
     ]
    }
   ],
   "source": [
    "print(\"On average there are {} journeys per exit page; ways of getting there\".format(journeys.shape[0]/journeys['final_page'].nunique()))"
   ]
  },
  {
   "cell_type": "code",
   "execution_count": 94,
   "metadata": {
    "hidden": true
   },
   "outputs": [
    {
     "name": "stdout",
     "output_type": "stream",
     "text": [
      "0.044640226558077825\n",
      "0.1372404916295481\n",
      "0.25095140918868236\n",
      "15.881458966565349\n"
     ]
    }
   ],
   "source": [
    "print(250/560033*100)\n",
    "print(338/246283*100)\n",
    "print(91/36262*100)\n",
    "print(418/2632*100)\n"
   ]
  },
  {
   "cell_type": "code",
   "execution_count": 95,
   "metadata": {
    "hidden": true
   },
   "outputs": [
    {
     "name": "stdout",
     "output_type": "stream",
     "text": [
      "2240.132\n",
      "728.6479289940828\n",
      "398.4835164835165\n",
      "6.29665071770335\n"
     ]
    }
   ],
   "source": [
    "print(560033/250)\n",
    "print(246283/338)\n",
    "print(36262/91)\n",
    "print(2632/418)\n"
   ]
  },
  {
   "cell_type": "code",
   "execution_count": 96,
   "metadata": {
    "hidden": true
   },
   "outputs": [],
   "source": [
    "unique_page_sequences = journeys.drop_duplicates('Page_Seq_NL')"
   ]
  },
  {
   "cell_type": "code",
   "execution_count": 97,
   "metadata": {
    "hidden": true
   },
   "outputs": [
    {
     "data": {
      "text/plain": [
       "count    14517.000000\n",
       "mean         2.492802\n",
       "std          8.518748\n",
       "min          1.000000\n",
       "25%          1.000000\n",
       "50%          1.000000\n",
       "75%          2.000000\n",
       "max        418.000000\n",
       "dtype: float64"
      ]
     },
     "execution_count": 97,
     "metadata": {},
     "output_type": "execute_result"
    }
   ],
   "source": [
    "unique_page_sequences.groupby('final_page').size().describe()"
   ]
  },
  {
   "cell_type": "code",
   "execution_count": 98,
   "metadata": {
    "hidden": true
   },
   "outputs": [
    {
     "data": {
      "text/plain": [
       "final_page\n",
       "/                                                                                                                                                                                                         418\n",
       "/log-in-register-hmrc-online-services                                                                                                                                                                     338\n",
       "/vehicle-tax                                                                                                                                                                                              336\n",
       "/sign-in-universal-credit                                                                                                                                                                                 250\n",
       "/get-information-about-a-company                                                                                                                                                                          213\n",
       "/check-vehicle-tax                                                                                                                                                                                        201\n",
       "/benefits-calculators                                                                                                                                                                                     189\n",
       "/view-driving-licence                                                                                                                                                                                     174\n",
       "/apply-renew-passport                                                                                                                                                                                     166\n",
       "/log-in-file-self-assessment-tax-return/sign-in/prove-identity                                                                                                                                            149\n",
       "/make-a-sorn                                                                                                                                                                                              118\n",
       "/personal-tax-account/sign-in/prove-identity                                                                                                                                                              118\n",
       "/government/organisations/hm-revenue-customs/contact/income-tax-enquiries-for-individuals-pensioners-and-employees                                                                                        111\n",
       "/check-state-pension/sign-in/prove-identity                                                                                                                                                               108\n",
       "/standard-visitor-visa/apply                                                                                                                                                                              108\n",
       "/check-mot-history                                                                                                                                                                                        107\n",
       "/tax-credits-calculator                                                                                                                                                                                    97\n",
       "/jobsearch                                                                                                                                                                                                 92\n",
       "/send-vat-return                                                                                                                                                                                           91\n",
       "/manage-your-tax-credits                                                                                                                                                                                   83\n",
       "/get-vehicle-information-from-dvla                                                                                                                                                                         83\n",
       "/student-finance-register-login                                                                                                                                                                            82\n",
       "/sign-in-childcare-account                                                                                                                                                                                 81\n",
       "/check-mot-status                                                                                                                                                                                          77\n",
       "/check-income-tax-current-year/sign-in/prove-identity                                                                                                                                                      76\n",
       "/sold-bought-vehicle/y/no/sold-it/sold-it-privately-to-a-person-or-business                                                                                                                                76\n",
       "/browse/driving                                                                                                                                                                                            70\n",
       "/change-address-driving-licence?step-by-step-nav=c1f13d41-ed7f-44a3-be11-fd95525ddf40                                                                                                                      69\n",
       "/apply-apprenticeship                                                                                                                                                                                      69\n",
       "/income-tax-rates                                                                                                                                                                                          67\n",
       "                                                                                                                                                                                                         ... \n",
       "/types-of-british-nationality/print                                                                                                                                                                         1\n",
       "/government/publications/spirit-drinks-verification-scheme-technical-guidance                                                                                                                               1\n",
       "/government/publications/spending-review-2010                                                                                                                                                               1\n",
       "/government/publications/specify-the-nature-of-a-change-in-the-limited-partnership-lp6                                                                                                                      1\n",
       "/government/publications/specified-application-forms-and-procedures                                                                                                                                         1\n",
       "/government/publications/specification-for-the-reinstatement-of-openings-in-highways                                                                                                                        1\n",
       "/government/publications/specialist-technical-advice-for-rail-framework-pre-qualification-documentation                                                                                                     1\n",
       "/government/publications/stamp-duty-land-tax-relief-for-first-time-buyers/stamp-duty-land-tax-relief-for-first-time-buyers                                                                                  1\n",
       "/government/publications/stamp-duty-stamp-duty-reserve-tax-transfers-of-listed-securities-and-connected-persons/stamp-duty-stamp-duty-reserve-tax-transfers-of-listed-securities-and-connected-persons      1\n",
       "/government/publications/standard-and-enhanced-dbs-check-privacy-policy                                                                                                                                     1\n",
       "/government/publications/state-of-the-estate-report-2016-to-2017                                                                                                                                            1\n",
       "/government/publications/statement-of-practice-5-1996/statement-of-practice-5-1996                                                                                                                          1\n",
       "/government/publications/statement-of-practice-2-2004--2/statement-of-practice-2-2004--4                                                                                                                    1\n",
       "/government/publications/statement-of-common-ground                                                                                                                                                         1\n",
       "/government/publications/statement-of-changes-to-the-immigration-rules-hc1154-15-june-2018                                                                                                                  1\n",
       "/government/publications/statement-of-changes-to-the-immigration-rules-hc-1534-11-october-2018                                                                                                              1\n",
       "/government/publications/statement-of-administrative-sources-for-official-statistics-published-by-the-department-for-transport                                                                              1\n",
       "/government/publications/state-pension-age-timetable/state-pension-age-timetable                                                                                                                            1\n",
       "/government/publications/state-pension-age-review-final-report                                                                                                                                              1\n",
       "/government/publications/state-of-the-environment                                                                                                                                                           1\n",
       "/government/publications/standard-civil-contract-2013                                                                                                                                                       1\n",
       "/government/publications/state-aid-the-basics                                                                                                                                                               1\n",
       "/government/publications/start-active-stay-active-infographics-on-physical-activity                                                                                                                         1\n",
       "/government/publications/standing-committee-of-analysts-sca-blue-books                                                                                                                                      1\n",
       "/government/publications/standards-for-official-statistics-published-by-the-department-for-education                                                                                                        1\n",
       "/types-of-british-nationality/british-subject                                                                                                                                                               1\n",
       "/government/publications/standard-fee-sheet                                                                                                                                                                 1\n",
       "/government/publications/standard-crime-contract-2017                                                                                                                                                       1\n",
       "/government/publications/standard-civil-contract-2018                                                                                                                                                       1\n",
       "/zw52axjvbm                                                                                                                                                                                                 1\n",
       "Length: 14517, dtype: int64"
      ]
     },
     "execution_count": 98,
     "metadata": {},
     "output_type": "execute_result"
    }
   ],
   "source": [
    "unique_page_sequences.groupby('final_page').size().sort_values(ascending=False)"
   ]
  },
  {
   "cell_type": "code",
   "execution_count": 99,
   "metadata": {
    "hidden": true
   },
   "outputs": [
    {
     "data": {
      "text/plain": [
       "418"
      ]
     },
     "execution_count": 99,
     "metadata": {},
     "output_type": "execute_result"
    }
   ],
   "source": [
    "unique_page_sequences.groupby('final_page').size().sort_values(ascending=False)[['final_page']=='/electoral-register/view-electoral-register']"
   ]
  },
  {
   "cell_type": "code",
   "execution_count": null,
   "metadata": {
    "hidden": true
   },
   "outputs": [],
   "source": []
  },
  {
   "cell_type": "code",
   "execution_count": 100,
   "metadata": {
    "hidden": true
   },
   "outputs": [
    {
     "data": {
      "text/html": [
       "<div>\n",
       "<style scoped>\n",
       "    .dataframe tbody tr th:only-of-type {\n",
       "        vertical-align: middle;\n",
       "    }\n",
       "\n",
       "    .dataframe tbody tr th {\n",
       "        vertical-align: top;\n",
       "    }\n",
       "\n",
       "    .dataframe thead th {\n",
       "        text-align: right;\n",
       "    }\n",
       "</style>\n",
       "<table border=\"1\" class=\"dataframe\">\n",
       "  <thead>\n",
       "    <tr style=\"text-align: right;\">\n",
       "      <th></th>\n",
       "      <th>Sequence</th>\n",
       "      <th>Occurrences</th>\n",
       "      <th>DeviceCategories</th>\n",
       "      <th>Dates</th>\n",
       "      <th>Page_Event_List</th>\n",
       "      <th>Page_List</th>\n",
       "      <th>PageSequence</th>\n",
       "      <th>Event_List</th>\n",
       "      <th>num_event_cats</th>\n",
       "      <th>Event_cats_agg</th>\n",
       "      <th>...</th>\n",
       "      <th>page_seq_contains_start</th>\n",
       "      <th>page_seq_contains_service.gov.uk</th>\n",
       "      <th>contains_search_regex</th>\n",
       "      <th>contains_search_n</th>\n",
       "      <th>final_page</th>\n",
       "      <th>final_interaction</th>\n",
       "      <th>desktop</th>\n",
       "      <th>mobile</th>\n",
       "      <th>other_device</th>\n",
       "      <th>more_desktop</th>\n",
       "    </tr>\n",
       "  </thead>\n",
       "  <tbody>\n",
       "    <tr>\n",
       "      <th>0</th>\n",
       "      <td>/check-vehicle-tax&lt;&lt;PAGE&lt;:&lt;NULL&lt;:&lt;NULL&gt;&gt;/check-vehicle-tax&lt;&lt;EVENT&lt;:&lt;External Link Clicked&lt;:&lt;https://www.vehicleenquiry.service.gov.uk&gt;&gt;/vehicle-tax&lt;&lt;PAGE&lt;:&lt;NULL&lt;:&lt;NULL&gt;&gt;/vehicle-tax&lt;&lt;EVENT&lt;:&lt;External Link Clicked&lt;:&lt;https://www.vehicletax.service.gov.uk</td>\n",
       "      <td>2272</td>\n",
       "      <td>[('mobile', 1589), ('desktop', 547), ('tablet', 136)]</td>\n",
       "      <td>[('20181031', 725), ('20181029', 486), ('20181102', 710), ('20181104', 351)]</td>\n",
       "      <td>[('/check-vehicle-tax', 'PAGE&lt;:&lt;NULL&lt;:&lt;NULL'), ('/check-vehicle-tax', 'EVENT&lt;:&lt;External Link Clicked&lt;:&lt;https://www.vehicleenquiry.service.gov.uk'), ('/vehicle-tax', 'PAGE&lt;:&lt;NULL&lt;:&lt;NULL'), ('/vehicle-tax', 'EVENT&lt;:&lt;External Link Clicked&lt;:&lt;https://www.vehicletax.service.gov.uk')]</td>\n",
       "      <td>['/check-vehicle-tax', '/vehicle-tax']</td>\n",
       "      <td>/check-vehicle-tax&gt;&gt;/vehicle-tax</td>\n",
       "      <td>[('PAGE_NULL', 'PAGE_NULL'), ('External Link Clicked', 'https://www.vehicleenquiry.service.gov.uk'), ('PAGE_NULL', 'PAGE_NULL'), ('External Link Clicked', 'https://www.vehicletax.service.gov.uk')]</td>\n",
       "      <td>2</td>\n",
       "      <td>[('PAGE_NULL', 2), ('External Link Clicked', 2)]</td>\n",
       "      <td>...</td>\n",
       "      <td>0</td>\n",
       "      <td>1</td>\n",
       "      <td>0</td>\n",
       "      <td>0</td>\n",
       "      <td>/vehicle-tax</td>\n",
       "      <td>EVENT&lt;:&lt;External Link Clicked&lt;:&lt;https://www.vehicletax.service.gov.uk</td>\n",
       "      <td>547</td>\n",
       "      <td>1589</td>\n",
       "      <td>136</td>\n",
       "      <td>0</td>\n",
       "    </tr>\n",
       "    <tr>\n",
       "      <th>20</th>\n",
       "      <td>/sold-bought-vehicle&lt;&lt;PAGE&lt;:&lt;NULL&lt;:&lt;NULL&gt;&gt;/sold-bought-vehicle/y&lt;&lt;PAGE&lt;:&lt;NULL&lt;:&lt;NULL&gt;&gt;/sold-bought-vehicle/y/yes&lt;&lt;PAGE&lt;:&lt;NULL&lt;:&lt;NULL&gt;&gt;/sold-bought-vehicle/y/yes/sold-a-vehicle-out-of-the-trade&lt;&lt;PAGE&lt;:&lt;NULL&lt;:&lt;NULL&gt;&gt;/sold-bought-vehicle/y/yes/sold-a-vehicle-out-of-the-trade&lt;&lt;EVENT&lt;:&lt;Simple Smart Answer&lt;:&lt;Completed&gt;&gt;/sold-bought-vehicle/y/yes/sold-a-vehicle-out-of-the-trade&lt;&lt;EVENT&lt;:&lt;External Link Clicked&lt;:&lt;https://www.buysellvehicle.service.gov.uk/buy-motor-trade/setup-trade-details&gt;&gt;/vehicle-tax&lt;&lt;PAGE&lt;:&lt;NULL&lt;:&lt;NULL&gt;&gt;/vehicle-tax&lt;&lt;EVENT&lt;:&lt;External Link Clicked&lt;:&lt;https://www.vehicletax.service.gov.uk</td>\n",
       "      <td>444</td>\n",
       "      <td>[('desktop', 424), ('tablet', 12), ('mobile', 8)]</td>\n",
       "      <td>[('20181031', 188), ('20181029', 109), ('20181102', 122), ('20181104', 25)]</td>\n",
       "      <td>[('/sold-bought-vehicle', 'PAGE&lt;:&lt;NULL&lt;:&lt;NULL'), ('/sold-bought-vehicle/y', 'PAGE&lt;:&lt;NULL&lt;:&lt;NULL'), ('/sold-bought-vehicle/y/yes', 'PAGE&lt;:&lt;NULL&lt;:&lt;NULL'), ('/sold-bought-vehicle/y/yes/sold-a-vehicle-out-of-the-trade', 'PAGE&lt;:&lt;NULL&lt;:&lt;NULL'), ('/sold-bought-vehicle/y/yes/sold-a-vehicle-out-of-the-trade', 'EVENT&lt;:&lt;Simple Smart Answer&lt;:&lt;Completed'), ('/sold-bought-vehicle/y/yes/sold-a-vehicle-out-of-the-trade', 'EVENT&lt;:&lt;External Link Clicked&lt;:&lt;https://www.buysellvehicle.service.gov.uk/buy-motor-trade/setup-trade-details'), ('/vehicle-tax', 'PAGE&lt;:&lt;NULL&lt;:&lt;NULL'), ('/vehicle-tax', 'EVENT&lt;:&lt;External Link Clicked&lt;:&lt;https://www.vehicletax.service.gov.uk')]</td>\n",
       "      <td>['/sold-bought-vehicle', '/sold-bought-vehicle/y', '/sold-bought-vehicle/y/yes', '/sold-bought-vehicle/y/yes/sold-a-vehicle-out-of-the-trade', '/vehicle-tax']</td>\n",
       "      <td>/sold-bought-vehicle&gt;&gt;/sold-bought-vehicle/y&gt;&gt;/sold-bought-vehicle/y/yes&gt;&gt;/sold-bought-vehicle/y/yes/sold-a-vehicle-out-of-the-trade&gt;&gt;/vehicle-tax</td>\n",
       "      <td>[('PAGE_NULL', 'PAGE_NULL'), ('PAGE_NULL', 'PAGE_NULL'), ('PAGE_NULL', 'PAGE_NULL'), ('PAGE_NULL', 'PAGE_NULL'), ('Simple Smart Answer', 'Completed'), ('External Link Clicked', 'https://www.buysellvehicle.service.gov.uk/buy-motor-trade/setup-trade-details'), ('PAGE_NULL', 'PAGE_NULL'), ('External Link Clicked', 'https://www.vehicletax.service.gov.uk')]</td>\n",
       "      <td>3</td>\n",
       "      <td>[('PAGE_NULL', 5), ('Simple Smart Answer', 1), ('External Link Clicked', 2)]</td>\n",
       "      <td>...</td>\n",
       "      <td>0</td>\n",
       "      <td>1</td>\n",
       "      <td>0</td>\n",
       "      <td>0</td>\n",
       "      <td>/vehicle-tax</td>\n",
       "      <td>EVENT&lt;:&lt;External Link Clicked&lt;:&lt;https://www.vehicletax.service.gov.uk</td>\n",
       "      <td>424</td>\n",
       "      <td>8</td>\n",
       "      <td>12</td>\n",
       "      <td>1</td>\n",
       "    </tr>\n",
       "    <tr>\n",
       "      <th>66</th>\n",
       "      <td>/vehicle-tax&lt;&lt;PAGE&lt;:&lt;NULL&lt;:&lt;NULL&gt;&gt;/vehicle-tax&lt;&lt;EVENT&lt;:&lt;External Link Clicked&lt;:&lt;https://www.vehicletax.service.gov.uk&gt;&gt;/vehicle-tax&lt;&lt;EVENT&lt;:&lt;External Link Clicked&lt;:&lt;https://www.vehicletax.service.gov.uk&gt;&gt;/vehicle-tax&lt;&lt;EVENT&lt;:&lt;External Link Clicked&lt;:&lt;https://www.vehicletax.service.gov.uk&gt;&gt;/vehicle-tax&lt;&lt;PAGE&lt;:&lt;NULL&lt;:&lt;NULL&gt;&gt;/vehicle-tax&lt;&lt;EVENT&lt;:&lt;External Link Clicked&lt;:&lt;https://www.vehicletax.service.gov.uk</td>\n",
       "      <td>96</td>\n",
       "      <td>[('desktop', 16), ('mobile', 67), ('tablet', 13)]</td>\n",
       "      <td>[('20181031', 43), ('20181029', 19), ('20181102', 24), ('20181104', 10)]</td>\n",
       "      <td>[('/vehicle-tax', 'PAGE&lt;:&lt;NULL&lt;:&lt;NULL'), ('/vehicle-tax', 'EVENT&lt;:&lt;External Link Clicked&lt;:&lt;https://www.vehicletax.service.gov.uk'), ('/vehicle-tax', 'EVENT&lt;:&lt;External Link Clicked&lt;:&lt;https://www.vehicletax.service.gov.uk'), ('/vehicle-tax', 'EVENT&lt;:&lt;External Link Clicked&lt;:&lt;https://www.vehicletax.service.gov.uk'), ('/vehicle-tax', 'PAGE&lt;:&lt;NULL&lt;:&lt;NULL'), ('/vehicle-tax', 'EVENT&lt;:&lt;External Link Clicked&lt;:&lt;https://www.vehicletax.service.gov.uk')]</td>\n",
       "      <td>['/vehicle-tax', '/vehicle-tax']</td>\n",
       "      <td>/vehicle-tax&gt;&gt;/vehicle-tax</td>\n",
       "      <td>[('PAGE_NULL', 'PAGE_NULL'), ('External Link Clicked', 'https://www.vehicletax.service.gov.uk'), ('External Link Clicked', 'https://www.vehicletax.service.gov.uk'), ('External Link Clicked', 'https://www.vehicletax.service.gov.uk'), ('PAGE_NULL', 'PAGE_NULL'), ('External Link Clicked', 'https://www.vehicletax.service.gov.uk')]</td>\n",
       "      <td>2</td>\n",
       "      <td>[('PAGE_NULL', 2), ('External Link Clicked', 4)]</td>\n",
       "      <td>...</td>\n",
       "      <td>0</td>\n",
       "      <td>1</td>\n",
       "      <td>0</td>\n",
       "      <td>0</td>\n",
       "      <td>/vehicle-tax</td>\n",
       "      <td>EVENT&lt;:&lt;External Link Clicked&lt;:&lt;https://www.vehicletax.service.gov.uk</td>\n",
       "      <td>16</td>\n",
       "      <td>67</td>\n",
       "      <td>13</td>\n",
       "      <td>0</td>\n",
       "    </tr>\n",
       "    <tr>\n",
       "      <th>104</th>\n",
       "      <td>/vehicle-tax-direct-debit/change-payments&lt;&lt;PAGE&lt;:&lt;NULL&lt;:&lt;NULL&gt;&gt;/vehicle-tax-direct-debit/change-payments&lt;&lt;EVENT&lt;:&lt;contentsClicked&lt;:&lt;content_item 1&gt;&gt;/vehicle-tax-direct-debit&lt;&lt;PAGE&lt;:&lt;NULL&lt;:&lt;NULL&gt;&gt;/vehicle-tax-direct-debit&lt;&lt;EVENT&lt;:&lt;contentsClicked&lt;:&lt;next&gt;&gt;/vehicle-tax-direct-debit/renewing&lt;&lt;PAGE&lt;:&lt;NULL&lt;:&lt;NULL&gt;&gt;/vehicle-tax-direct-debit/renewing&lt;&lt;EVENT&lt;:&lt;contentsClicked&lt;:&lt;previous&gt;&gt;/vehicle-tax-direct-debit&lt;&lt;PAGE&lt;:&lt;NULL&lt;:&lt;NULL&gt;&gt;/vehicle-tax&lt;&lt;PAGE&lt;:&lt;NULL&lt;:&lt;NULL&gt;&gt;/vehicle-tax-direct-debit&lt;&lt;EVENT&lt;:&lt;relatedLinkClicked&lt;:&lt;1.1 Related content&gt;&gt;/vehicle-tax&lt;&lt;PAGE&lt;:&lt;NULL&lt;:&lt;NULL&gt;&gt;/vehicle-tax&lt;&lt;EVENT&lt;:&lt;External Link Clicked&lt;:&lt;http://www.postoffice.co.uk/branch-finder</td>\n",
       "      <td>1</td>\n",
       "      <td>[('mobile', 1)]</td>\n",
       "      <td>[('20181031', 1)]</td>\n",
       "      <td>[('/vehicle-tax-direct-debit/change-payments', 'PAGE&lt;:&lt;NULL&lt;:&lt;NULL'), ('/vehicle-tax-direct-debit/change-payments', 'EVENT&lt;:&lt;contentsClicked&lt;:&lt;content_item 1'), ('/vehicle-tax-direct-debit', 'PAGE&lt;:&lt;NULL&lt;:&lt;NULL'), ('/vehicle-tax-direct-debit', 'EVENT&lt;:&lt;contentsClicked&lt;:&lt;next'), ('/vehicle-tax-direct-debit/renewing', 'PAGE&lt;:&lt;NULL&lt;:&lt;NULL'), ('/vehicle-tax-direct-debit/renewing', 'EVENT&lt;:&lt;contentsClicked&lt;:&lt;previous'), ('/vehicle-tax-direct-debit', 'PAGE&lt;:&lt;NULL&lt;:&lt;NULL'), ('/vehicle-tax', 'PAGE&lt;:&lt;NULL&lt;:&lt;NULL'), ('/vehicle-tax-direct-debit', 'EVENT&lt;:&lt;relatedLinkClicked&lt;:&lt;1.1 Related content'), ('/vehicle-tax', 'PAGE&lt;:&lt;NULL&lt;:&lt;NULL'), ('/vehicle-tax', 'EVENT&lt;:&lt;External Link Clicked&lt;:&lt;http://www.postoffice.co.uk/branch-finder')]</td>\n",
       "      <td>['/vehicle-tax-direct-debit/change-payments', '/vehicle-tax-direct-debit', '/vehicle-tax-direct-debit/renewing', '/vehicle-tax-direct-debit', '/vehicle-tax', '/vehicle-tax']</td>\n",
       "      <td>/vehicle-tax-direct-debit/change-payments&gt;&gt;/vehicle-tax-direct-debit&gt;&gt;/vehicle-tax-direct-debit/renewing&gt;&gt;/vehicle-tax-direct-debit&gt;&gt;/vehicle-tax&gt;&gt;/vehicle-tax</td>\n",
       "      <td>[('PAGE_NULL', 'PAGE_NULL'), ('contentsClicked', 'content_item 1'), ('PAGE_NULL', 'PAGE_NULL'), ('contentsClicked', 'next'), ('PAGE_NULL', 'PAGE_NULL'), ('contentsClicked', 'previous'), ('PAGE_NULL', 'PAGE_NULL'), ('PAGE_NULL', 'PAGE_NULL'), ('relatedLinkClicked', '1.1 Related content'), ('PAGE_NULL', 'PAGE_NULL'), ('External Link Clicked', 'http://www.postoffice.co.uk/branch-finder')]</td>\n",
       "      <td>4</td>\n",
       "      <td>[('PAGE_NULL', 6), ('contentsClicked', 3), ('relatedLinkClicked', 1), ('External Link Clicked', 1)]</td>\n",
       "      <td>...</td>\n",
       "      <td>0</td>\n",
       "      <td>0</td>\n",
       "      <td>0</td>\n",
       "      <td>0</td>\n",
       "      <td>/vehicle-tax</td>\n",
       "      <td>EVENT&lt;:&lt;External Link Clicked&lt;:&lt;http://www.postoffice.co.uk/branch-finder</td>\n",
       "      <td>0</td>\n",
       "      <td>1</td>\n",
       "      <td>0</td>\n",
       "      <td>0</td>\n",
       "    </tr>\n",
       "    <tr>\n",
       "      <th>315</th>\n",
       "      <td>/check-mot-status&lt;&lt;PAGE&lt;:&lt;NULL&lt;:&lt;NULL&gt;&gt;/check-mot-status&lt;&lt;EVENT&lt;:&lt;NULL&lt;:&lt;NULL&gt;&gt;/check-mot-status&lt;&lt;EVENT&lt;:&lt;relatedLinkClicked&lt;:&lt;1.4 Related content&gt;&gt;/vehicle-tax&lt;&lt;PAGE&lt;:&lt;NULL&lt;:&lt;NULL&gt;&gt;/vehicle-tax&lt;&lt;EVENT&lt;:&lt;NULL&lt;:&lt;NULL&gt;&gt;/vehicle-tax&lt;&lt;EVENT&lt;:&lt;External Link Clicked&lt;:&lt;https://www.vehicletax.service.gov.uk</td>\n",
       "      <td>1</td>\n",
       "      <td>[('mobile', 1)]</td>\n",
       "      <td>[('20181031', 1)]</td>\n",
       "      <td>[('/check-mot-status', 'PAGE&lt;:&lt;NULL&lt;:&lt;NULL'), ('/check-mot-status', 'EVENT&lt;:&lt;NULL&lt;:&lt;NULL'), ('/check-mot-status', 'EVENT&lt;:&lt;relatedLinkClicked&lt;:&lt;1.4 Related content'), ('/vehicle-tax', 'PAGE&lt;:&lt;NULL&lt;:&lt;NULL'), ('/vehicle-tax', 'EVENT&lt;:&lt;NULL&lt;:&lt;NULL'), ('/vehicle-tax', 'EVENT&lt;:&lt;External Link Clicked&lt;:&lt;https://www.vehicletax.service.gov.uk')]</td>\n",
       "      <td>['/check-mot-status', '/vehicle-tax']</td>\n",
       "      <td>/check-mot-status&gt;&gt;/vehicle-tax</td>\n",
       "      <td>[('PAGE_NULL', 'PAGE_NULL'), ('EVENT_NULL', 'EVENT_NULL'), ('relatedLinkClicked', '1.4 Related content'), ('PAGE_NULL', 'PAGE_NULL'), ('EVENT_NULL', 'EVENT_NULL'), ('External Link Clicked', 'https://www.vehicletax.service.gov.uk')]</td>\n",
       "      <td>4</td>\n",
       "      <td>[('PAGE_NULL', 2), ('EVENT_NULL', 2), ('relatedLinkClicked', 1), ('External Link Clicked', 1)]</td>\n",
       "      <td>...</td>\n",
       "      <td>0</td>\n",
       "      <td>1</td>\n",
       "      <td>0</td>\n",
       "      <td>0</td>\n",
       "      <td>/vehicle-tax</td>\n",
       "      <td>EVENT&lt;:&lt;External Link Clicked&lt;:&lt;https://www.vehicletax.service.gov.uk</td>\n",
       "      <td>0</td>\n",
       "      <td>1</td>\n",
       "      <td>0</td>\n",
       "      <td>0</td>\n",
       "    </tr>\n",
       "  </tbody>\n",
       "</table>\n",
       "<p>5 rows × 31 columns</p>\n",
       "</div>"
      ],
      "text/plain": [
       "                                                                                                                                                                                                                                                                                                                                                                                                                                                                                                                                                                                                                                                                                  Sequence  \\\n",
       "0    /check-vehicle-tax<<PAGE<:<NULL<:<NULL>>/check-vehicle-tax<<EVENT<:<External Link Clicked<:<https://www.vehicleenquiry.service.gov.uk>>/vehicle-tax<<PAGE<:<NULL<:<NULL>>/vehicle-tax<<EVENT<:<External Link Clicked<:<https://www.vehicletax.service.gov.uk                                                                                                                                                                                                                                                                                                                                                                                                                            \n",
       "20   /sold-bought-vehicle<<PAGE<:<NULL<:<NULL>>/sold-bought-vehicle/y<<PAGE<:<NULL<:<NULL>>/sold-bought-vehicle/y/yes<<PAGE<:<NULL<:<NULL>>/sold-bought-vehicle/y/yes/sold-a-vehicle-out-of-the-trade<<PAGE<:<NULL<:<NULL>>/sold-bought-vehicle/y/yes/sold-a-vehicle-out-of-the-trade<<EVENT<:<Simple Smart Answer<:<Completed>>/sold-bought-vehicle/y/yes/sold-a-vehicle-out-of-the-trade<<EVENT<:<External Link Clicked<:<https://www.buysellvehicle.service.gov.uk/buy-motor-trade/setup-trade-details>>/vehicle-tax<<PAGE<:<NULL<:<NULL>>/vehicle-tax<<EVENT<:<External Link Clicked<:<https://www.vehicletax.service.gov.uk                                                             \n",
       "66   /vehicle-tax<<PAGE<:<NULL<:<NULL>>/vehicle-tax<<EVENT<:<External Link Clicked<:<https://www.vehicletax.service.gov.uk>>/vehicle-tax<<EVENT<:<External Link Clicked<:<https://www.vehicletax.service.gov.uk>>/vehicle-tax<<EVENT<:<External Link Clicked<:<https://www.vehicletax.service.gov.uk>>/vehicle-tax<<PAGE<:<NULL<:<NULL>>/vehicle-tax<<EVENT<:<External Link Clicked<:<https://www.vehicletax.service.gov.uk                                                                                                                                                                                                                                                                  \n",
       "104  /vehicle-tax-direct-debit/change-payments<<PAGE<:<NULL<:<NULL>>/vehicle-tax-direct-debit/change-payments<<EVENT<:<contentsClicked<:<content_item 1>>/vehicle-tax-direct-debit<<PAGE<:<NULL<:<NULL>>/vehicle-tax-direct-debit<<EVENT<:<contentsClicked<:<next>>/vehicle-tax-direct-debit/renewing<<PAGE<:<NULL<:<NULL>>/vehicle-tax-direct-debit/renewing<<EVENT<:<contentsClicked<:<previous>>/vehicle-tax-direct-debit<<PAGE<:<NULL<:<NULL>>/vehicle-tax<<PAGE<:<NULL<:<NULL>>/vehicle-tax-direct-debit<<EVENT<:<relatedLinkClicked<:<1.1 Related content>>/vehicle-tax<<PAGE<:<NULL<:<NULL>>/vehicle-tax<<EVENT<:<External Link Clicked<:<http://www.postoffice.co.uk/branch-finder   \n",
       "315  /check-mot-status<<PAGE<:<NULL<:<NULL>>/check-mot-status<<EVENT<:<NULL<:<NULL>>/check-mot-status<<EVENT<:<relatedLinkClicked<:<1.4 Related content>>/vehicle-tax<<PAGE<:<NULL<:<NULL>>/vehicle-tax<<EVENT<:<NULL<:<NULL>>/vehicle-tax<<EVENT<:<External Link Clicked<:<https://www.vehicletax.service.gov.uk                                                                                                                                                                                                                                                                                                                                                                            \n",
       "\n",
       "     Occurrences                                       DeviceCategories  \\\n",
       "0    2272         [('mobile', 1589), ('desktop', 547), ('tablet', 136)]   \n",
       "20   444          [('desktop', 424), ('tablet', 12), ('mobile', 8)]       \n",
       "66   96           [('desktop', 16), ('mobile', 67), ('tablet', 13)]       \n",
       "104  1            [('mobile', 1)]                                         \n",
       "315  1            [('mobile', 1)]                                         \n",
       "\n",
       "                                                                            Dates  \\\n",
       "0    [('20181031', 725), ('20181029', 486), ('20181102', 710), ('20181104', 351)]   \n",
       "20   [('20181031', 188), ('20181029', 109), ('20181102', 122), ('20181104', 25)]    \n",
       "66   [('20181031', 43), ('20181029', 19), ('20181102', 24), ('20181104', 10)]       \n",
       "104  [('20181031', 1)]                                                              \n",
       "315  [('20181031', 1)]                                                              \n",
       "\n",
       "                                                                                                                                                                                                                                                                                                                                                                                                                                                                                                                                                                                                                                                                                                                                               Page_Event_List  \\\n",
       "0    [('/check-vehicle-tax', 'PAGE<:<NULL<:<NULL'), ('/check-vehicle-tax', 'EVENT<:<External Link Clicked<:<https://www.vehicleenquiry.service.gov.uk'), ('/vehicle-tax', 'PAGE<:<NULL<:<NULL'), ('/vehicle-tax', 'EVENT<:<External Link Clicked<:<https://www.vehicletax.service.gov.uk')]                                                                                                                                                                                                                                                                                                                                                                                                                                                                      \n",
       "20   [('/sold-bought-vehicle', 'PAGE<:<NULL<:<NULL'), ('/sold-bought-vehicle/y', 'PAGE<:<NULL<:<NULL'), ('/sold-bought-vehicle/y/yes', 'PAGE<:<NULL<:<NULL'), ('/sold-bought-vehicle/y/yes/sold-a-vehicle-out-of-the-trade', 'PAGE<:<NULL<:<NULL'), ('/sold-bought-vehicle/y/yes/sold-a-vehicle-out-of-the-trade', 'EVENT<:<Simple Smart Answer<:<Completed'), ('/sold-bought-vehicle/y/yes/sold-a-vehicle-out-of-the-trade', 'EVENT<:<External Link Clicked<:<https://www.buysellvehicle.service.gov.uk/buy-motor-trade/setup-trade-details'), ('/vehicle-tax', 'PAGE<:<NULL<:<NULL'), ('/vehicle-tax', 'EVENT<:<External Link Clicked<:<https://www.vehicletax.service.gov.uk')]                                                                               \n",
       "66   [('/vehicle-tax', 'PAGE<:<NULL<:<NULL'), ('/vehicle-tax', 'EVENT<:<External Link Clicked<:<https://www.vehicletax.service.gov.uk'), ('/vehicle-tax', 'EVENT<:<External Link Clicked<:<https://www.vehicletax.service.gov.uk'), ('/vehicle-tax', 'EVENT<:<External Link Clicked<:<https://www.vehicletax.service.gov.uk'), ('/vehicle-tax', 'PAGE<:<NULL<:<NULL'), ('/vehicle-tax', 'EVENT<:<External Link Clicked<:<https://www.vehicletax.service.gov.uk')]                                                                                                                                                                                                                                                                                                \n",
       "104  [('/vehicle-tax-direct-debit/change-payments', 'PAGE<:<NULL<:<NULL'), ('/vehicle-tax-direct-debit/change-payments', 'EVENT<:<contentsClicked<:<content_item 1'), ('/vehicle-tax-direct-debit', 'PAGE<:<NULL<:<NULL'), ('/vehicle-tax-direct-debit', 'EVENT<:<contentsClicked<:<next'), ('/vehicle-tax-direct-debit/renewing', 'PAGE<:<NULL<:<NULL'), ('/vehicle-tax-direct-debit/renewing', 'EVENT<:<contentsClicked<:<previous'), ('/vehicle-tax-direct-debit', 'PAGE<:<NULL<:<NULL'), ('/vehicle-tax', 'PAGE<:<NULL<:<NULL'), ('/vehicle-tax-direct-debit', 'EVENT<:<relatedLinkClicked<:<1.1 Related content'), ('/vehicle-tax', 'PAGE<:<NULL<:<NULL'), ('/vehicle-tax', 'EVENT<:<External Link Clicked<:<http://www.postoffice.co.uk/branch-finder')]   \n",
       "315  [('/check-mot-status', 'PAGE<:<NULL<:<NULL'), ('/check-mot-status', 'EVENT<:<NULL<:<NULL'), ('/check-mot-status', 'EVENT<:<relatedLinkClicked<:<1.4 Related content'), ('/vehicle-tax', 'PAGE<:<NULL<:<NULL'), ('/vehicle-tax', 'EVENT<:<NULL<:<NULL'), ('/vehicle-tax', 'EVENT<:<External Link Clicked<:<https://www.vehicletax.service.gov.uk')]                                                                                                                                                                                                                                                                                                                                                                                                          \n",
       "\n",
       "                                                                                                                                                                         Page_List  \\\n",
       "0    ['/check-vehicle-tax', '/vehicle-tax']                                                                                                                                          \n",
       "20   ['/sold-bought-vehicle', '/sold-bought-vehicle/y', '/sold-bought-vehicle/y/yes', '/sold-bought-vehicle/y/yes/sold-a-vehicle-out-of-the-trade', '/vehicle-tax']                  \n",
       "66   ['/vehicle-tax', '/vehicle-tax']                                                                                                                                                \n",
       "104  ['/vehicle-tax-direct-debit/change-payments', '/vehicle-tax-direct-debit', '/vehicle-tax-direct-debit/renewing', '/vehicle-tax-direct-debit', '/vehicle-tax', '/vehicle-tax']   \n",
       "315  ['/check-mot-status', '/vehicle-tax']                                                                                                                                           \n",
       "\n",
       "                                                                                                                                                        PageSequence  \\\n",
       "0    /check-vehicle-tax>>/vehicle-tax                                                                                                                                  \n",
       "20   /sold-bought-vehicle>>/sold-bought-vehicle/y>>/sold-bought-vehicle/y/yes>>/sold-bought-vehicle/y/yes/sold-a-vehicle-out-of-the-trade>>/vehicle-tax                \n",
       "66   /vehicle-tax>>/vehicle-tax                                                                                                                                        \n",
       "104  /vehicle-tax-direct-debit/change-payments>>/vehicle-tax-direct-debit>>/vehicle-tax-direct-debit/renewing>>/vehicle-tax-direct-debit>>/vehicle-tax>>/vehicle-tax   \n",
       "315  /check-mot-status>>/vehicle-tax                                                                                                                                   \n",
       "\n",
       "                                                                                                                                                                                                                                                                                                                                                                                               Event_List  \\\n",
       "0    [('PAGE_NULL', 'PAGE_NULL'), ('External Link Clicked', 'https://www.vehicleenquiry.service.gov.uk'), ('PAGE_NULL', 'PAGE_NULL'), ('External Link Clicked', 'https://www.vehicletax.service.gov.uk')]                                                                                                                                                                                                   \n",
       "20   [('PAGE_NULL', 'PAGE_NULL'), ('PAGE_NULL', 'PAGE_NULL'), ('PAGE_NULL', 'PAGE_NULL'), ('PAGE_NULL', 'PAGE_NULL'), ('Simple Smart Answer', 'Completed'), ('External Link Clicked', 'https://www.buysellvehicle.service.gov.uk/buy-motor-trade/setup-trade-details'), ('PAGE_NULL', 'PAGE_NULL'), ('External Link Clicked', 'https://www.vehicletax.service.gov.uk')]                                     \n",
       "66   [('PAGE_NULL', 'PAGE_NULL'), ('External Link Clicked', 'https://www.vehicletax.service.gov.uk'), ('External Link Clicked', 'https://www.vehicletax.service.gov.uk'), ('External Link Clicked', 'https://www.vehicletax.service.gov.uk'), ('PAGE_NULL', 'PAGE_NULL'), ('External Link Clicked', 'https://www.vehicletax.service.gov.uk')]                                                               \n",
       "104  [('PAGE_NULL', 'PAGE_NULL'), ('contentsClicked', 'content_item 1'), ('PAGE_NULL', 'PAGE_NULL'), ('contentsClicked', 'next'), ('PAGE_NULL', 'PAGE_NULL'), ('contentsClicked', 'previous'), ('PAGE_NULL', 'PAGE_NULL'), ('PAGE_NULL', 'PAGE_NULL'), ('relatedLinkClicked', '1.1 Related content'), ('PAGE_NULL', 'PAGE_NULL'), ('External Link Clicked', 'http://www.postoffice.co.uk/branch-finder')]   \n",
       "315  [('PAGE_NULL', 'PAGE_NULL'), ('EVENT_NULL', 'EVENT_NULL'), ('relatedLinkClicked', '1.4 Related content'), ('PAGE_NULL', 'PAGE_NULL'), ('EVENT_NULL', 'EVENT_NULL'), ('External Link Clicked', 'https://www.vehicletax.service.gov.uk')]                                                                                                                                                                \n",
       "\n",
       "     num_event_cats  \\\n",
       "0    2                \n",
       "20   3                \n",
       "66   2                \n",
       "104  4                \n",
       "315  4                \n",
       "\n",
       "                                                                                          Event_cats_agg  \\\n",
       "0    [('PAGE_NULL', 2), ('External Link Clicked', 2)]                                                      \n",
       "20   [('PAGE_NULL', 5), ('Simple Smart Answer', 1), ('External Link Clicked', 2)]                          \n",
       "66   [('PAGE_NULL', 2), ('External Link Clicked', 4)]                                                      \n",
       "104  [('PAGE_NULL', 6), ('contentsClicked', 3), ('relatedLinkClicked', 1), ('External Link Clicked', 1)]   \n",
       "315  [('PAGE_NULL', 2), ('EVENT_NULL', 2), ('relatedLinkClicked', 1), ('External Link Clicked', 1)]        \n",
       "\n",
       "         ...      page_seq_contains_start page_seq_contains_service.gov.uk  \\\n",
       "0        ...       0                       1                                 \n",
       "20       ...       0                       1                                 \n",
       "66       ...       0                       1                                 \n",
       "104      ...       0                       0                                 \n",
       "315      ...       0                       1                                 \n",
       "\n",
       "    contains_search_regex  contains_search_n    final_page  \\\n",
       "0    0                     0                  /vehicle-tax   \n",
       "20   0                     0                  /vehicle-tax   \n",
       "66   0                     0                  /vehicle-tax   \n",
       "104  0                     0                  /vehicle-tax   \n",
       "315  0                     0                  /vehicle-tax   \n",
       "\n",
       "                                                             final_interaction  \\\n",
       "0    EVENT<:<External Link Clicked<:<https://www.vehicletax.service.gov.uk       \n",
       "20   EVENT<:<External Link Clicked<:<https://www.vehicletax.service.gov.uk       \n",
       "66   EVENT<:<External Link Clicked<:<https://www.vehicletax.service.gov.uk       \n",
       "104  EVENT<:<External Link Clicked<:<http://www.postoffice.co.uk/branch-finder   \n",
       "315  EVENT<:<External Link Clicked<:<https://www.vehicletax.service.gov.uk       \n",
       "\n",
       "     desktop mobile  other_device  more_desktop  \n",
       "0    547      1589   136           0             \n",
       "20   424      8      12            1             \n",
       "66   16       67     13            0             \n",
       "104  0        1      0             0             \n",
       "315  0        1      0             0             \n",
       "\n",
       "[5 rows x 31 columns]"
      ]
     },
     "execution_count": 100,
     "metadata": {},
     "output_type": "execute_result"
    }
   ],
   "source": [
    "pd.set_option('display.max_colwidth', -1)\n",
    "unique_page_sequences[unique_page_sequences['final_page']=='/vehicle-tax'].head()"
   ]
  },
  {
   "cell_type": "code",
   "execution_count": 101,
   "metadata": {
    "hidden": true
   },
   "outputs": [
    {
     "data": {
      "text/plain": [
       "count    14517.000000\n",
       "mean     2.492802    \n",
       "std      8.518748    \n",
       "min      1.000000    \n",
       "25%      1.000000    \n",
       "50%      1.000000    \n",
       "75%      2.000000    \n",
       "max      418.000000  \n",
       "dtype: float64"
      ]
     },
     "execution_count": 101,
     "metadata": {},
     "output_type": "execute_result"
    }
   ],
   "source": [
    "unique_page_sequences.groupby('final_page').size().describe()"
   ]
  },
  {
   "cell_type": "code",
   "execution_count": 102,
   "metadata": {
    "hidden": true
   },
   "outputs": [],
   "source": [
    "journeys['final_page_type'] = 'other'\n",
    "journeys.loc[journeys['final_page'].str.contains('/government/publications/', 'final_page_type')] = 'government_publication'\n",
    "journeys.loc[journeys['final_page'].str.contains('log-in', 'final_page_type')] = 'login'\n",
    "journeys.loc[journeys['final_page'].str.contains('sign-in', 'final_page_type')] = 'login'\n",
    "journeys.loc[journeys['final_page'].str.contains('login', 'final_page_type')] = 'login'\n",
    "journeys.loc[journeys['final_page'].str.contains('check', 'final_page_type')] = 'check'\n",
    "journeys.loc[journeys['final_page'].str.contains('apply', 'final_page_type')] = 'apply'\n",
    "journeys.loc[journeys['final_page'].str.contains('contact', 'final_page_type')] = 'contact/enquiries'\n",
    "journeys.loc[journeys['final_page'].str.contains('enquiries', 'final_page_type')] = 'contact/enquiries'\n",
    "journeys.loc[journeys['final_page'].str.contains(r'get-.*-information.*', 'final_page_type')] = 'get_information'\n",
    "journeys.loc[journeys['final_page'].str.contains('send', 'final_page_type')] = 'send'\n",
    "journeys.loc[journeys['final_page'].str.contains('find', 'final_page_type')] = 'find'\n",
    "journeys.loc[journeys['final_page'].str.contains('calculat', 'final_page_type')] = 'calculate/calculator'\n",
    "journeys.loc[journeys['final_page'].str.contains('order', 'final_page_type')] = 'order'\n",
    "journeys.loc[journeys['final_page'].str.contains('manage', 'final_page_type')] = 'manage'\n",
    "journeys.loc[journeys['final_page'].str.contains('update', 'final_page_type')] = 'update'\n",
    "journeys.loc[journeys['final_page'].str.contains('eligibility', 'final_page_type')] = 'eligibility'\n",
    "journeys.loc[journeys['final_page'].str.contains('estimate', 'final_page_type')] = 'estimate'\n",
    "journeys.loc[journeys['final_page'].str.contains('renew', 'final_page_type')] = 'renew'\n",
    "journeys.loc[journeys['final_page'].str.contains('pay', 'final_page_type')] = 'pay'\n",
    "journeys.loc[journeys['final_page'].str.contains('claim', 'final_page_type')] = 'claim'\n",
    "journeys.loc[journeys['final_page'].str.contains('change', 'final_page_type')] = 'change'"
   ]
  },
  {
   "cell_type": "code",
   "execution_count": 103,
   "metadata": {
    "hidden": true
   },
   "outputs": [
    {
     "data": {
      "text/plain": [
       "final_page_type\n",
       "apply                     2385 \n",
       "calculate/calculator      1442 \n",
       "change                    1072 \n",
       "check                     3048 \n",
       "claim                     830  \n",
       "contact/enquiries         1514 \n",
       "eligibility               478  \n",
       "estimate                  54   \n",
       "find                      748  \n",
       "get_information           171  \n",
       "government_publication    7177 \n",
       "login                     2495 \n",
       "manage                    330  \n",
       "order                     141  \n",
       "other                     22236\n",
       "pay                       1929 \n",
       "renew                     263  \n",
       "send                      292  \n",
       "update                    194  \n",
       "dtype: int64"
      ]
     },
     "execution_count": 103,
     "metadata": {},
     "output_type": "execute_result"
    }
   ],
   "source": [
    "journeys.groupby('final_page_type').size()"
   ]
  },
  {
   "cell_type": "code",
   "execution_count": 104,
   "metadata": {
    "hidden": true
   },
   "outputs": [
    {
     "data": {
      "text/plain": [
       "(           final_page_type  Page_Seq_NL    percent\n",
       " 7   estimate                54           0.115387 \n",
       " 13  order                   141          0.301288 \n",
       " 9   get_information         171          0.365392 \n",
       " 18  update                  194          0.414539 \n",
       " 16  renew                   263          0.561978 \n",
       " 17  send                    292          0.623945 \n",
       " 12  manage                  330          0.705143 \n",
       " 6   eligibility             478          1.021389 \n",
       " 8   find                    748          1.598325 \n",
       " 4   claim                   830          1.773542 \n",
       " 2   change                  1072         2.290647 \n",
       " 1   calculate/calculator    1442         3.081262 \n",
       " 5   contact/enquiries       1514         3.235112 \n",
       " 15  pay                     1929         4.121883 \n",
       " 0   apply                   2385         5.096263 \n",
       " 11  login                   2495         5.331310 \n",
       " 3   check                   3048         6.512960 \n",
       " 10  government_publication  7177         15.335798\n",
       " 14  other                   22236        47.513836,\n",
       " <matplotlib.axes._subplots.AxesSubplot at 0x14882d1d0>)"
      ]
     },
     "execution_count": 104,
     "metadata": {},
     "output_type": "execute_result"
    },
    {
     "data": {
      "image/png": "[encoded data removed]",
      "text/plain": [
       "<Figure size 720x360 with 1 Axes>"
      ]
     },
     "metadata": {
      "needs_background": "light"
     },
     "output_type": "display_data"
    }
   ],
   "source": [
    "groupby_percent(journeys, 'final_page_type', 'Page_Seq_NL')"
   ]
  },
  {
   "cell_type": "markdown",
   "metadata": {},
   "source": [
    "#### Final interaction with GOV.UK"
   ]
  },
  {
   "cell_type": "code",
   "execution_count": 105,
   "metadata": {},
   "outputs": [],
   "source": [
    "# pd.set_option('display.max_colwidth', -1)\n",
    "# journeys[journeys.final_interaction.str.contains('start')]"
   ]
  },
  {
   "cell_type": "code",
   "execution_count": 106,
   "metadata": {},
   "outputs": [],
   "source": [
    "# journeys['final_interaction_type'] = journeys.final_interaction.str.extract(r'<:<(.*)<:<', expand=False)"
   ]
  },
  {
   "cell_type": "code",
   "execution_count": 107,
   "metadata": {},
   "outputs": [],
   "source": [
    "# journeys['final_external_link'] = journeys.final_interaction.str.extract(r'EVENT<:<External Link Clicked<:(.*)', expand=False)"
   ]
  },
  {
   "cell_type": "code",
   "execution_count": 108,
   "metadata": {},
   "outputs": [],
   "source": [
    "# journeys['exit_to_assessed_service'] = np.where(journeys['final_external_link'].str.contains(r'.*service.gov.uk.*', na=False), 1, 0)"
   ]
  },
  {
   "cell_type": "code",
   "execution_count": 109,
   "metadata": {},
   "outputs": [],
   "source": [
    "# journeys['exit_to_assessed_service'].value_counts(normalize=True)"
   ]
  },
  {
   "cell_type": "code",
   "execution_count": 110,
   "metadata": {},
   "outputs": [
    {
     "ename": "KeyError",
     "evalue": "\"['exit_to_assessed_service'] not in index\"",
     "output_type": "error",
     "traceback": [
      "\u001b[0;31m---------------------------------------------------------------------------\u001b[0m",
      "\u001b[0;31mKeyError\u001b[0m                                  Traceback (most recent call last)",
      "\u001b[0;32m<ipython-input-110-daa2da918661>\u001b[0m in \u001b[0;36m<module>\u001b[0;34m\u001b[0m\n\u001b[1;32m      1\u001b[0m \u001b[0;31m#make a smaller copy of data with only 2 cols ready to make it really looooong\u001b[0m\u001b[0;34m\u001b[0m\u001b[0;34m\u001b[0m\u001b[0m\n\u001b[0;32m----> 2\u001b[0;31m \u001b[0mslim\u001b[0m \u001b[0;34m=\u001b[0m \u001b[0mjourneys\u001b[0m\u001b[0;34m[\u001b[0m\u001b[0;34m[\u001b[0m\u001b[0;34m'Occurrences'\u001b[0m\u001b[0;34m,\u001b[0m\u001b[0;34m'exit_to_assessed_service'\u001b[0m\u001b[0;34m]\u001b[0m\u001b[0;34m]\u001b[0m\u001b[0;34m.\u001b[0m\u001b[0mcopy\u001b[0m\u001b[0;34m(\u001b[0m\u001b[0;34m)\u001b[0m\u001b[0;34m\u001b[0m\u001b[0m\n\u001b[0m\u001b[1;32m      3\u001b[0m \u001b[0;31m#repeat rows for each occurrence\u001b[0m\u001b[0;34m\u001b[0m\u001b[0;34m\u001b[0m\u001b[0m\n\u001b[1;32m      4\u001b[0m \u001b[0mjourney_expanded2\u001b[0m \u001b[0;34m=\u001b[0m  \u001b[0mslim\u001b[0m\u001b[0;34m.\u001b[0m\u001b[0mloc\u001b[0m\u001b[0;34m[\u001b[0m\u001b[0mslim\u001b[0m\u001b[0;34m.\u001b[0m\u001b[0mindex\u001b[0m\u001b[0;34m.\u001b[0m\u001b[0mrepeat\u001b[0m\u001b[0;34m(\u001b[0m\u001b[0mslim\u001b[0m\u001b[0;34m[\u001b[0m\u001b[0;34m'Occurrences'\u001b[0m\u001b[0;34m]\u001b[0m\u001b[0;34m)\u001b[0m\u001b[0;34m]\u001b[0m\u001b[0;34m\u001b[0m\u001b[0m\n",
      "\u001b[0;32m~/.pyenv/versions/3.6.0/envs/govuk-network/lib/python3.6/site-packages/pandas/core/frame.py\u001b[0m in \u001b[0;36m__getitem__\u001b[0;34m(self, key)\u001b[0m\n\u001b[1;32m   2680\u001b[0m         \u001b[0;32mif\u001b[0m \u001b[0misinstance\u001b[0m\u001b[0;34m(\u001b[0m\u001b[0mkey\u001b[0m\u001b[0;34m,\u001b[0m \u001b[0;34m(\u001b[0m\u001b[0mSeries\u001b[0m\u001b[0;34m,\u001b[0m \u001b[0mnp\u001b[0m\u001b[0;34m.\u001b[0m\u001b[0mndarray\u001b[0m\u001b[0;34m,\u001b[0m \u001b[0mIndex\u001b[0m\u001b[0;34m,\u001b[0m \u001b[0mlist\u001b[0m\u001b[0;34m)\u001b[0m\u001b[0;34m)\u001b[0m\u001b[0;34m:\u001b[0m\u001b[0;34m\u001b[0m\u001b[0m\n\u001b[1;32m   2681\u001b[0m             \u001b[0;31m# either boolean or fancy integer index\u001b[0m\u001b[0;34m\u001b[0m\u001b[0;34m\u001b[0m\u001b[0m\n\u001b[0;32m-> 2682\u001b[0;31m             \u001b[0;32mreturn\u001b[0m \u001b[0mself\u001b[0m\u001b[0;34m.\u001b[0m\u001b[0m_getitem_array\u001b[0m\u001b[0;34m(\u001b[0m\u001b[0mkey\u001b[0m\u001b[0;34m)\u001b[0m\u001b[0;34m\u001b[0m\u001b[0m\n\u001b[0m\u001b[1;32m   2683\u001b[0m         \u001b[0;32melif\u001b[0m \u001b[0misinstance\u001b[0m\u001b[0;34m(\u001b[0m\u001b[0mkey\u001b[0m\u001b[0;34m,\u001b[0m \u001b[0mDataFrame\u001b[0m\u001b[0;34m)\u001b[0m\u001b[0;34m:\u001b[0m\u001b[0;34m\u001b[0m\u001b[0m\n\u001b[1;32m   2684\u001b[0m             \u001b[0;32mreturn\u001b[0m \u001b[0mself\u001b[0m\u001b[0;34m.\u001b[0m\u001b[0m_getitem_frame\u001b[0m\u001b[0;34m(\u001b[0m\u001b[0mkey\u001b[0m\u001b[0;34m)\u001b[0m\u001b[0;34m\u001b[0m\u001b[0m\n",
      "\u001b[0;32m~/.pyenv/versions/3.6.0/envs/govuk-network/lib/python3.6/site-packages/pandas/core/frame.py\u001b[0m in \u001b[0;36m_getitem_array\u001b[0;34m(self, key)\u001b[0m\n\u001b[1;32m   2724\u001b[0m             \u001b[0;32mreturn\u001b[0m \u001b[0mself\u001b[0m\u001b[0;34m.\u001b[0m\u001b[0m_take\u001b[0m\u001b[0;34m(\u001b[0m\u001b[0mindexer\u001b[0m\u001b[0;34m,\u001b[0m \u001b[0maxis\u001b[0m\u001b[0;34m=\u001b[0m\u001b[0;36m0\u001b[0m\u001b[0;34m)\u001b[0m\u001b[0;34m\u001b[0m\u001b[0m\n\u001b[1;32m   2725\u001b[0m         \u001b[0;32melse\u001b[0m\u001b[0;34m:\u001b[0m\u001b[0;34m\u001b[0m\u001b[0m\n\u001b[0;32m-> 2726\u001b[0;31m             \u001b[0mindexer\u001b[0m \u001b[0;34m=\u001b[0m \u001b[0mself\u001b[0m\u001b[0;34m.\u001b[0m\u001b[0mloc\u001b[0m\u001b[0;34m.\u001b[0m\u001b[0m_convert_to_indexer\u001b[0m\u001b[0;34m(\u001b[0m\u001b[0mkey\u001b[0m\u001b[0;34m,\u001b[0m \u001b[0maxis\u001b[0m\u001b[0;34m=\u001b[0m\u001b[0;36m1\u001b[0m\u001b[0;34m)\u001b[0m\u001b[0;34m\u001b[0m\u001b[0m\n\u001b[0m\u001b[1;32m   2727\u001b[0m             \u001b[0;32mreturn\u001b[0m \u001b[0mself\u001b[0m\u001b[0;34m.\u001b[0m\u001b[0m_take\u001b[0m\u001b[0;34m(\u001b[0m\u001b[0mindexer\u001b[0m\u001b[0;34m,\u001b[0m \u001b[0maxis\u001b[0m\u001b[0;34m=\u001b[0m\u001b[0;36m1\u001b[0m\u001b[0;34m)\u001b[0m\u001b[0;34m\u001b[0m\u001b[0m\n\u001b[1;32m   2728\u001b[0m \u001b[0;34m\u001b[0m\u001b[0m\n",
      "\u001b[0;32m~/.pyenv/versions/3.6.0/envs/govuk-network/lib/python3.6/site-packages/pandas/core/indexing.py\u001b[0m in \u001b[0;36m_convert_to_indexer\u001b[0;34m(self, obj, axis, is_setter)\u001b[0m\n\u001b[1;32m   1325\u001b[0m                 \u001b[0;32mif\u001b[0m \u001b[0mmask\u001b[0m\u001b[0;34m.\u001b[0m\u001b[0many\u001b[0m\u001b[0;34m(\u001b[0m\u001b[0;34m)\u001b[0m\u001b[0;34m:\u001b[0m\u001b[0;34m\u001b[0m\u001b[0m\n\u001b[1;32m   1326\u001b[0m                     raise KeyError('{mask} not in index'\n\u001b[0;32m-> 1327\u001b[0;31m                                    .format(mask=objarr[mask]))\n\u001b[0m\u001b[1;32m   1328\u001b[0m \u001b[0;34m\u001b[0m\u001b[0m\n\u001b[1;32m   1329\u001b[0m                 \u001b[0;32mreturn\u001b[0m \u001b[0mcom\u001b[0m\u001b[0;34m.\u001b[0m\u001b[0m_values_from_object\u001b[0m\u001b[0;34m(\u001b[0m\u001b[0mindexer\u001b[0m\u001b[0;34m)\u001b[0m\u001b[0;34m\u001b[0m\u001b[0m\n",
      "\u001b[0;31mKeyError\u001b[0m: \"['exit_to_assessed_service'] not in index\""
     ]
    }
   ],
   "source": [
    "#make a smaller copy of data with only 2 cols ready to make it really looooong\n",
    "slim = journeys[['Occurrences','exit_to_assessed_service']].copy()\n",
    "#repeat rows for each occurrence\n",
    "journey_expanded2 =  slim.loc[slim.index.repeat(slim['Occurrences'])]"
   ]
  },
  {
   "cell_type": "code",
   "execution_count": null,
   "metadata": {},
   "outputs": [],
   "source": [
    "journey_expanded2['exit_to_assessed_service'].value_counts(normalize=True)"
   ]
  },
  {
   "cell_type": "code",
   "execution_count": null,
   "metadata": {},
   "outputs": [],
   "source": [
    "plt.pie(journey_expanded2['exit_to_assessed_service'].value_counts(), labels=['did not exit to an assessed service', 'exited to an assessed service'], autopct='%1.1f%%')"
   ]
  },
  {
   "cell_type": "code",
   "execution_count": null,
   "metadata": {},
   "outputs": [],
   "source": [
    "journeys['final_external_link_service'] = np.where(journeys.final_interaction.str.contains(r'<External Link Clicked<:(.*)', expand=False)"
   ]
  },
  {
   "cell_type": "code",
   "execution_count": null,
   "metadata": {},
   "outputs": [],
   "source": [
    "groupby_percent(journeys, 'final_interaction_type', 'PageSequence', figsize=(5, 10))"
   ]
  },
  {
   "cell_type": "code",
   "execution_count": null,
   "metadata": {},
   "outputs": [],
   "source": [
    "journeys.groupby('final_interaction_type').size().sort_values(ascending=False)"
   ]
  },
  {
   "cell_type": "code",
   "execution_count": null,
   "metadata": {},
   "outputs": [],
   "source": [
    "print(journeys[journeys['final_interaction']=='PAGE<:<NULL<:<NULL'].shape)\n",
    "\n",
    "print(\"{} out of {} ({}%) journeys ended in a page hit\".format(journeys[journeys['final_interaction']=='PAGE<:<NULL<:<NULL'].shape[0], \n",
    "                                                        journeys.shape[0],\n",
    "                                                        journeys[journeys['final_interaction']=='PAGE<:<NULL<:<NULL'].shape[0]/journeys.shape[0]*100))"
   ]
  },
  {
   "cell_type": "code",
   "execution_count": null,
   "metadata": {},
   "outputs": [],
   "source": [
    "print(journeys[journeys['final_interaction'].str.startswith('EVENT<:<External Link Clicked')].shape)\n",
    "\n",
    "print(\"{} out of {} ({}%) journeys ended in an external link clicked\".format(journeys[journeys['final_interaction'].str.startswith('EVENT<:<External Link Clicked')].shape[0], \n",
    "                                                        journeys.shape[0],\n",
    "                                                        journeys[journeys['final_interaction'].str.startswith('EVENT<:<External Link Clicked')].shape[0]/journeys.shape[0]*100))"
   ]
  },
  {
   "cell_type": "code",
   "execution_count": null,
   "metadata": {},
   "outputs": [],
   "source": [
    "print(journeys[journeys['final_interaction'].str.startswith('EVENT<:<External Link Clicked')].shape)\n",
    "\n",
    "print(\"{} out of {} ({}%) journeys ended in an specialist external link clicked\".format(journeys[journeys['final_interaction'].str.startswith('EVENT<:<Specialist-external-link')].shape[0], \n",
    "                                                        journeys.shape[0],\n",
    "                                                        journeys[journeys['final_interaction'].str.startswith('EVENT<:<Specialist-external-link')].shape[0]/journeys.shape[0]*100))"
   ]
  },
  {
   "cell_type": "code",
   "execution_count": null,
   "metadata": {},
   "outputs": [],
   "source": [
    "print(\"{} out of {} ({}%) journeys ended in aSpecialist-external-link\".format(journeys[journeys['final_interaction'].str.contains('EVENT<:<Specialist-external-link')].shape[0], \n",
    "                                                        journeys.shape[0],\n",
    "                                                        journeys[journeys['final_interaction'].str.contains('EVENT<:<Specialist-external-link')].shape[0]/journeys.shape[0]*100))"
   ]
  },
  {
   "cell_type": "code",
   "execution_count": null,
   "metadata": {},
   "outputs": [],
   "source": [
    "print(\"{} out of {} ({}%) journeys ended in an download link clicked\".format(journeys[journeys['final_interaction'].str.contains('EVENT<:<Download Link Clicked')].shape[0], \n",
    "                                                        journeys.shape[0],\n",
    "                                                        journeys[journeys['final_interaction'].str.contains('EVENT<:<Download Link Clicked')].shape[0]/journeys.shape[0]*100))"
   ]
  },
  {
   "cell_type": "code",
   "execution_count": null,
   "metadata": {},
   "outputs": [],
   "source": [
    "print(\"{} out of {} ({}%) journeys ended in a  contents clicked\".format(journeys[journeys['final_interaction'].str.contains('EVENT<:<contentsClicked<')].shape[0], \n",
    "                                                        journeys.shape[0],\n",
    "                                                        journeys[journeys['final_interaction'].str.contains('EVENT<:<contentsClicked<')].shape[0]/journeys.shape[0]*100))"
   ]
  },
  {
   "cell_type": "code",
   "execution_count": null,
   "metadata": {},
   "outputs": [],
   "source": [
    "print(\"{} out of {} ({}%) journeys ended in a breadcrumbClicked\".format(journeys[journeys['final_interaction'].str.contains('EVENT<:<breadcrumbClicked<')].shape[0], \n",
    "                                                        journeys.shape[0],\n",
    "                                                        journeys[journeys['final_interaction'].str.contains('EVENT<:<breadcrumbClicked<')].shape[0]/journeys.shape[0]*100))"
   ]
  },
  {
   "cell_type": "code",
   "execution_count": null,
   "metadata": {},
   "outputs": [],
   "source": [
    "print(\"{} out of {} ({}%) journeys ended in a JavaScript Error\".format(journeys[journeys['final_interaction'].str.contains('EVENT<:<JavaScript Error<')].shape[0], \n",
    "                                                        journeys.shape[0],\n",
    "                                                        journeys[journeys['final_interaction'].str.contains('EVENT<:<JavaScript Error<')].shape[0]/journeys.shape[0]*100))"
   ]
  },
  {
   "cell_type": "code",
   "execution_count": null,
   "metadata": {},
   "outputs": [],
   "source": [
    "print(\"{} out of {} ({}%) journeys ended in a Simple Smart Answer\".format(journeys[journeys['final_interaction'].str.contains('EVENT<:<Simple Smart Answer<')].shape[0], \n",
    "                                                        journeys.shape[0],\n",
    "                                                        journeys[journeys['final_interaction'].str.contains('EVENT<:<Simple Smart Answer<')].shape[0]/journeys.shape[0]*100))"
   ]
  },
  {
   "cell_type": "code",
   "execution_count": null,
   "metadata": {},
   "outputs": [],
   "source": [
    "print(\"{} out of {} ({}%) journeys ended in a Smart Answer\".format(journeys[journeys['final_interaction'].str.contains('EVENT<:<Smart Answer<')].shape[0], \n",
    "                                                        journeys.shape[0],\n",
    "                                                        journeys[journeys['final_interaction'].str.contains('EVENT<:<Smart Answer<')].shape[0]/journeys.shape[0]*100))"
   ]
  },
  {
   "cell_type": "code",
   "execution_count": null,
   "metadata": {},
   "outputs": [],
   "source": [
    "print(\"{} out of {} ({}%) journeys ended in a social media\".format(journeys[journeys['final_interaction'].str.contains('EVENT<:<social media<')].shape[0], \n",
    "                                                        journeys.shape[0],\n",
    "                                                        journeys[journeys['final_interaction'].str.contains('EVENT<:<social media<')].shape[0]/journeys.shape[0]*100))"
   ]
  },
  {
   "cell_type": "code",
   "execution_count": null,
   "metadata": {},
   "outputs": [],
   "source": [
    "print(\"{} out of {} ({}%) journeys ended in yesNoFeedbackForm\".format(journeys[journeys['final_interaction'].str.contains('EVENT<:<yesNoFeedbackForm<')].shape[0], \n",
    "                                                        journeys.shape[0],\n",
    "                                                        journeys[journeys['final_interaction'].str.contains('EVENT<:<yesNoFeedbackForm<')].shape[0]/journeys.shape[0]*100))"
   ]
  },
  {
   "cell_type": "code",
   "execution_count": null,
   "metadata": {},
   "outputs": [],
   "source": []
  }
 ],
 "metadata": {
  "hide_input": false,
  "kernelspec": {
   "display_name": "Python 3",
   "language": "python",
   "name": "python3"
  },
  "language_info": {
   "codemirror_mode": {
    "name": "ipython",
    "version": 3
   },
   "file_extension": ".py",
   "mimetype": "text/x-python",
   "name": "python",
   "nbconvert_exporter": "python",
   "pygments_lexer": "ipython3",
   "version": "3.6.0"
  },
  "notify_time": "30",
  "varInspector": {
   "cols": {
    "lenName": 16,
    "lenType": 16,
    "lenVar": 40
   },
   "kernels_config": {
    "python": {
     "delete_cmd_postfix": "",
     "delete_cmd_prefix": "del ",
     "library": "var_list.py",
     "varRefreshCmd": "print(var_dic_list())"
    },
    "r": {
     "delete_cmd_postfix": ") ",
     "delete_cmd_prefix": "rm(",
     "library": "var_list.r",
     "varRefreshCmd": "cat(var_dic_list()) "
    }
   },
   "position": {
    "height": "144px",
    "left": "1071px",
    "right": "20px",
    "top": "120px",
    "width": "350px"
   },
   "types_to_exclude": [
    "module",
    "function",
    "builtin_function_or_method",
    "instance",
    "_Feature"
   ],
   "window_display": false
  }
 },
 "nbformat": 4,
 "nbformat_minor": 2
}
