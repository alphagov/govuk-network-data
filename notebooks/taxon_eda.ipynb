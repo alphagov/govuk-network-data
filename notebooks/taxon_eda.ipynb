{
 "cells": [
  {
   "cell_type": "code",
   "execution_count": 92,
   "metadata": {},
   "outputs": [],
   "source": [
    "import datetime"
   ]
  },
  {
   "cell_type": "code",
   "execution_count": null,
   "metadata": {},
   "outputs": [],
   "source": [
    "import colorsys"
   ]
  },
  {
   "cell_type": "code",
   "execution_count": 144,
   "metadata": {},
   "outputs": [],
   "source": [
    "import os\n",
    "import pandas as pd\n",
    "import re\n",
    "import numpy as np\n",
    "from ast import literal_eval\n",
    "from collections import Counter\n",
    "import sys\n",
    "import pprint\n",
    "import networkx as nx\n",
    "import pygraphviz\n",
    "from networkx.drawing.nx_agraph import graphviz_layout\n",
    "%matplotlib inline\n",
    "import matplotlib.pyplot as plt"
   ]
  },
  {
   "cell_type": "code",
   "execution_count": 31,
   "metadata": {},
   "outputs": [],
   "source": [
    "import preprocess as prep"
   ]
  },
  {
   "cell_type": "code",
   "execution_count": 2,
   "metadata": {},
   "outputs": [],
   "source": [
    "DATA_DIR = os.getenv(\"DATA_DIR\")\n",
    "filename = \"preprocessed_with_dupes_31_10_taxon2.csv.gz\"\n",
    "path = os.path.join(DATA_DIR,\"output\", filename)"
   ]
  },
  {
   "cell_type": "code",
   "execution_count": 3,
   "metadata": {},
   "outputs": [],
   "source": [
    "df = pd.read_csv(path,sep=\"\\t\",compression=\"gzip\")"
   ]
  },
  {
   "cell_type": "code",
   "execution_count": 4,
   "metadata": {},
   "outputs": [
    {
     "data": {
      "text/plain": [
       "(1174770, 17)"
      ]
     },
     "execution_count": 4,
     "metadata": {},
     "output_type": "execute_result"
    }
   ],
   "source": [
    "df.shape"
   ]
  },
  {
   "cell_type": "code",
   "execution_count": 5,
   "metadata": {},
   "outputs": [
    {
     "data": {
      "text/plain": [
       "Index(['Occurrences', 'DeviceCategories', 'PageSeq_Length', 'Actions_Length',\n",
       "       'Dates', 'Sequence', 'PageSequence', 'Page_Event_List', 'Page_List',\n",
       "       'Event_List', 'num_event_cats', 'Event_cats_agg', 'Event_cat_act_agg',\n",
       "       'Taxon_List', 'Taxon_Page_List', 'Page_List_NL', 'Page_Seq_NL'],\n",
       "      dtype='object')"
      ]
     },
     "execution_count": 5,
     "metadata": {},
     "output_type": "execute_result"
    }
   ],
   "source": [
    "df.columns"
   ]
  },
  {
   "cell_type": "code",
   "execution_count": 6,
   "metadata": {},
   "outputs": [
    {
     "data": {
      "text/plain": [
       "False"
      ]
     },
     "execution_count": 6,
     "metadata": {},
     "output_type": "execute_result"
    }
   ],
   "source": [
    "any(df.Sequence.duplicated())"
   ]
  },
  {
   "cell_type": "code",
   "execution_count": 7,
   "metadata": {},
   "outputs": [
    {
     "name": "stdout",
     "output_type": "stream",
     "text": [
      "DeviceCategories\n",
      "Dates\n",
      "Page_Event_List\n",
      "Page_List\n",
      "Event_List\n",
      "Event_cats_agg\n",
      "Event_cat_act_agg\n",
      "Taxon_List\n",
      "Taxon_Page_List\n",
      "Page_List_NL\n"
     ]
    }
   ],
   "source": [
    "for col in df.columns:\n",
    "    if \"Sequence\" not in col:\n",
    "        if isinstance(df[col].iloc[0],str) and \"[\" in df[col].iloc[0]:\n",
    "            print(col)\n",
    "            df[col] = df[col].map(literal_eval)"
   ]
  },
  {
   "cell_type": "markdown",
   "metadata": {},
   "source": [
    "### Detect duplicate `Sequence` values, very bizarre BigQuery behavior\n",
    "Difference between `Action_Length` values, will ignore for now"
   ]
  },
  {
   "cell_type": "code",
   "execution_count": 8,
   "metadata": {},
   "outputs": [],
   "source": [
    "# seq = df[\"Sequence\"]\n",
    "# df[seq.isin(seq[seq.duplicated()])].sort_values(by=\"Sequence\")\n",
    "# df[seq.isin(seq[seq.duplicated()])].sort_values(by=\"Sequence\")[0:3][['Actions_Length','Sequence']].values\n",
    "# line = '/1619-bursary-fund<<PAGE<:<NULL<:<NULL<<64aa6eec-48b5-481d-9131-9c8b6326eea1>>/1619-bursary-fund<<EVENT<:<contentsClicked<:<next<<64aa6eec-48b5-481d-9131-9c8b6326eea1>>/1619-bursary-fund/what-youll-get<<PAGE<:<NULL<:<NULL<<64aa6eec-48b5-481d-9131-9c8b6326eea1>>/1619-bursary-fund/eligibility<<PAGE<:<NULL<:<NULL<<64aa6eec-48b5-481d-9131-9c8b6326eea1>>/1619-bursary-fund/eligibility<<EVENT<:<contentsClicked<:<next<<64aa6eec-48b5-481d-9131-9c8b6326eea1>>/1619-bursary-fund/how-to-claim<<PAGE<:<NULL<:<NULL<<64aa6eec-48b5-481d-9131-9c8b6326eea1'\n",
    "\n",
    "# len(line.split(\">>\"))"
   ]
  },
  {
   "cell_type": "markdown",
   "metadata": {},
   "source": [
    "## Count taxons within journeys\n",
    "### Setup"
   ]
  },
  {
   "cell_type": "code",
   "execution_count": 9,
   "metadata": {},
   "outputs": [],
   "source": [
    "def unique_taxon_flat_unique(taxon_list):\n",
    "    return sum(Counter(set([t for taxon in taxon_list for t in taxon.split(\",\")])).values())\n",
    "def unique_taxon_nested_unique(taxon_list):\n",
    "    return sum(Counter(set([taxon for taxon in taxon_list])).values())\n",
    "def unique_taxon_flat_pages(taxon_list):\n",
    "    return sum(Counter([t for taxon in taxon_list for t in taxon.split(\",\")]).values())\n",
    "def unique_taxon_nested_pages(taxon_list):\n",
    "    return sum(Counter([taxon for taxon in taxon_list]).values())"
   ]
  },
  {
   "cell_type": "code",
   "execution_count": 10,
   "metadata": {},
   "outputs": [
    {
     "data": {
      "text/plain": [
       "'/log-in-file-self-assessment-tax-return<<PAGE<:<NULL<:<NULL<<895732d7-177b-4def-8997-f1afc4364415,3564cf4e-506c-42fa-bdd3-e95e7908645f>>/log-in-file-self-assessment-tax-return/sign-in/prove-identity<<PAGE<:<NULL<:<NULL<<other>>/log-in-file-self-assessment-tax-return/sign-in/prove-identity<<EVENT<:<Radio button chosen<:<sign-in-with-government-gateway<<other>>/log-in-file-self-assessment-tax-return<<PAGE<:<NULL<:<NULL<<895732d7-177b-4def-8997-f1afc4364415,3564cf4e-506c-42fa-bdd3-e95e7908645f>>/log-in-file-self-assessment-tax-return/sign-in/prove-identity<<PAGE<:<NULL<:<NULL<<other>>/log-in-file-self-assessment-tax-return/sign-in/prove-identity<<EVENT<:<Radio button chosen<:<sign-in-with-government-gateway<<other'"
      ]
     },
     "execution_count": 10,
     "metadata": {},
     "output_type": "execute_result"
    }
   ],
   "source": [
    "df.iloc[0].Sequence"
   ]
  },
  {
   "cell_type": "code",
   "execution_count": 11,
   "metadata": {},
   "outputs": [
    {
     "name": "stdout",
     "output_type": "stream",
     "text": [
      "['d1e5dcf5-5f36-4838-bcb6-f0068eddb8a7,1de432b7-2331-4450-9667-374d56e7f084', '1de432b7-2331-4450-9667-374d56e7f084']\n",
      "2\n",
      "2\n",
      "3\n",
      "2\n"
     ]
    }
   ],
   "source": [
    "target = df.Taxon_List.iloc[1]\n",
    "print(target)\n",
    "print(unique_taxon_flat_unique(target))\n",
    "print(unique_taxon_nested_unique(target))\n",
    "print(unique_taxon_flat_pages(target))\n",
    "print(unique_taxon_nested_pages(target))"
   ]
  },
  {
   "cell_type": "code",
   "execution_count": 12,
   "metadata": {},
   "outputs": [],
   "source": [
    "df['taxon_flat_unique'] = df['Taxon_List'].map(unique_taxon_flat_unique)\n",
    "df['taxon_nested_unique'] = df['Taxon_List'].map(unique_taxon_nested_unique)\n",
    "df['taxon_flat_pages'] = df['Taxon_List'].map(unique_taxon_flat_pages)\n",
    "df['taxon_nested_pages'] = df['Taxon_List'].map(unique_taxon_nested_pages)"
   ]
  },
  {
   "cell_type": "code",
   "execution_count": 13,
   "metadata": {},
   "outputs": [
    {
     "data": {
      "text/html": [
       "<div>\n",
       "<style scoped>\n",
       "    .dataframe tbody tr th:only-of-type {\n",
       "        vertical-align: middle;\n",
       "    }\n",
       "\n",
       "    .dataframe tbody tr th {\n",
       "        vertical-align: top;\n",
       "    }\n",
       "\n",
       "    .dataframe thead th {\n",
       "        text-align: right;\n",
       "    }\n",
       "</style>\n",
       "<table border=\"1\" class=\"dataframe\">\n",
       "  <thead>\n",
       "    <tr style=\"text-align: right;\">\n",
       "      <th></th>\n",
       "      <th>Occurrences</th>\n",
       "      <th>PageSeq_Length</th>\n",
       "      <th>Actions_Length</th>\n",
       "      <th>num_event_cats</th>\n",
       "      <th>taxon_flat_unique</th>\n",
       "      <th>taxon_nested_unique</th>\n",
       "      <th>taxon_flat_pages</th>\n",
       "      <th>taxon_nested_pages</th>\n",
       "    </tr>\n",
       "  </thead>\n",
       "  <tbody>\n",
       "    <tr>\n",
       "      <th>mean</th>\n",
       "      <td>1.629866</td>\n",
       "      <td>6.119780</td>\n",
       "      <td>9.921242</td>\n",
       "      <td>3.163181</td>\n",
       "      <td>3.485444</td>\n",
       "      <td>2.278085</td>\n",
       "      <td>10.083453</td>\n",
       "      <td>6.117189</td>\n",
       "    </tr>\n",
       "    <tr>\n",
       "      <th>std</th>\n",
       "      <td>61.457057</td>\n",
       "      <td>6.995605</td>\n",
       "      <td>11.010500</td>\n",
       "      <td>1.609643</td>\n",
       "      <td>2.979700</td>\n",
       "      <td>1.427140</td>\n",
       "      <td>12.926314</td>\n",
       "      <td>6.994359</td>\n",
       "    </tr>\n",
       "    <tr>\n",
       "      <th>min</th>\n",
       "      <td>1.000000</td>\n",
       "      <td>2.000000</td>\n",
       "      <td>2.000000</td>\n",
       "      <td>1.000000</td>\n",
       "      <td>0.000000</td>\n",
       "      <td>0.000000</td>\n",
       "      <td>0.000000</td>\n",
       "      <td>0.000000</td>\n",
       "    </tr>\n",
       "    <tr>\n",
       "      <th>25%</th>\n",
       "      <td>1.000000</td>\n",
       "      <td>3.000000</td>\n",
       "      <td>4.000000</td>\n",
       "      <td>2.000000</td>\n",
       "      <td>2.000000</td>\n",
       "      <td>1.000000</td>\n",
       "      <td>4.000000</td>\n",
       "      <td>3.000000</td>\n",
       "    </tr>\n",
       "    <tr>\n",
       "      <th>50%</th>\n",
       "      <td>1.000000</td>\n",
       "      <td>4.000000</td>\n",
       "      <td>7.000000</td>\n",
       "      <td>3.000000</td>\n",
       "      <td>3.000000</td>\n",
       "      <td>2.000000</td>\n",
       "      <td>6.000000</td>\n",
       "      <td>4.000000</td>\n",
       "    </tr>\n",
       "    <tr>\n",
       "      <th>75%</th>\n",
       "      <td>1.000000</td>\n",
       "      <td>7.000000</td>\n",
       "      <td>12.000000</td>\n",
       "      <td>4.000000</td>\n",
       "      <td>4.000000</td>\n",
       "      <td>3.000000</td>\n",
       "      <td>12.000000</td>\n",
       "      <td>7.000000</td>\n",
       "    </tr>\n",
       "    <tr>\n",
       "      <th>max</th>\n",
       "      <td>55840.000000</td>\n",
       "      <td>500.000000</td>\n",
       "      <td>500.000000</td>\n",
       "      <td>21.000000</td>\n",
       "      <td>429.000000</td>\n",
       "      <td>215.000000</td>\n",
       "      <td>979.000000</td>\n",
       "      <td>500.000000</td>\n",
       "    </tr>\n",
       "  </tbody>\n",
       "</table>\n",
       "</div>"
      ],
      "text/plain": [
       "       Occurrences PageSeq_Length Actions_Length num_event_cats  \\\n",
       "mean      1.629866       6.119780       9.921242       3.163181   \n",
       "std      61.457057       6.995605      11.010500       1.609643   \n",
       "min       1.000000       2.000000       2.000000       1.000000   \n",
       "25%       1.000000       3.000000       4.000000       2.000000   \n",
       "50%       1.000000       4.000000       7.000000       3.000000   \n",
       "75%       1.000000       7.000000      12.000000       4.000000   \n",
       "max   55840.000000     500.000000     500.000000      21.000000   \n",
       "\n",
       "     taxon_flat_unique taxon_nested_unique taxon_flat_pages taxon_nested_pages  \n",
       "mean          3.485444            2.278085        10.083453           6.117189  \n",
       "std           2.979700            1.427140        12.926314           6.994359  \n",
       "min           0.000000            0.000000         0.000000           0.000000  \n",
       "25%           2.000000            1.000000         4.000000           3.000000  \n",
       "50%           3.000000            2.000000         6.000000           4.000000  \n",
       "75%           4.000000            3.000000        12.000000           7.000000  \n",
       "max         429.000000          215.000000       979.000000         500.000000  "
      ]
     },
     "execution_count": 13,
     "metadata": {},
     "output_type": "execute_result"
    }
   ],
   "source": [
    "df.describe().drop(\"count\").applymap(lambda x: format(x,\"f\"))"
   ]
  },
  {
   "cell_type": "code",
   "execution_count": 14,
   "metadata": {},
   "outputs": [
    {
     "data": {
      "text/html": [
       "<div>\n",
       "<style scoped>\n",
       "    .dataframe tbody tr th:only-of-type {\n",
       "        vertical-align: middle;\n",
       "    }\n",
       "\n",
       "    .dataframe tbody tr th {\n",
       "        vertical-align: top;\n",
       "    }\n",
       "\n",
       "    .dataframe thead th {\n",
       "        text-align: right;\n",
       "    }\n",
       "</style>\n",
       "<table border=\"1\" class=\"dataframe\">\n",
       "  <thead>\n",
       "    <tr style=\"text-align: right;\">\n",
       "      <th></th>\n",
       "      <th>Occurrences</th>\n",
       "      <th>PageSeq_Length</th>\n",
       "      <th>Actions_Length</th>\n",
       "      <th>num_event_cats</th>\n",
       "      <th>taxon_flat_unique</th>\n",
       "      <th>taxon_nested_unique</th>\n",
       "      <th>taxon_flat_pages</th>\n",
       "      <th>taxon_nested_pages</th>\n",
       "    </tr>\n",
       "  </thead>\n",
       "  <tbody>\n",
       "    <tr>\n",
       "      <th>mean</th>\n",
       "      <td>1.63</td>\n",
       "      <td>6.12</td>\n",
       "      <td>9.92</td>\n",
       "      <td>3.16</td>\n",
       "      <td>3.49</td>\n",
       "      <td>2.28</td>\n",
       "      <td>10.08</td>\n",
       "      <td>6.12</td>\n",
       "    </tr>\n",
       "    <tr>\n",
       "      <th>std</th>\n",
       "      <td>61.46</td>\n",
       "      <td>7.00</td>\n",
       "      <td>11.01</td>\n",
       "      <td>1.61</td>\n",
       "      <td>2.98</td>\n",
       "      <td>1.43</td>\n",
       "      <td>12.93</td>\n",
       "      <td>6.99</td>\n",
       "    </tr>\n",
       "    <tr>\n",
       "      <th>min</th>\n",
       "      <td>1.00</td>\n",
       "      <td>2.00</td>\n",
       "      <td>2.00</td>\n",
       "      <td>1.00</td>\n",
       "      <td>0.00</td>\n",
       "      <td>0.00</td>\n",
       "      <td>0.00</td>\n",
       "      <td>0.00</td>\n",
       "    </tr>\n",
       "    <tr>\n",
       "      <th>25%</th>\n",
       "      <td>1.00</td>\n",
       "      <td>3.00</td>\n",
       "      <td>4.00</td>\n",
       "      <td>2.00</td>\n",
       "      <td>2.00</td>\n",
       "      <td>1.00</td>\n",
       "      <td>4.00</td>\n",
       "      <td>3.00</td>\n",
       "    </tr>\n",
       "    <tr>\n",
       "      <th>50%</th>\n",
       "      <td>1.00</td>\n",
       "      <td>4.00</td>\n",
       "      <td>7.00</td>\n",
       "      <td>3.00</td>\n",
       "      <td>3.00</td>\n",
       "      <td>2.00</td>\n",
       "      <td>6.00</td>\n",
       "      <td>4.00</td>\n",
       "    </tr>\n",
       "    <tr>\n",
       "      <th>75%</th>\n",
       "      <td>1.00</td>\n",
       "      <td>7.00</td>\n",
       "      <td>12.00</td>\n",
       "      <td>4.00</td>\n",
       "      <td>4.00</td>\n",
       "      <td>3.00</td>\n",
       "      <td>12.00</td>\n",
       "      <td>7.00</td>\n",
       "    </tr>\n",
       "    <tr>\n",
       "      <th>max</th>\n",
       "      <td>55840.00</td>\n",
       "      <td>500.00</td>\n",
       "      <td>500.00</td>\n",
       "      <td>21.00</td>\n",
       "      <td>429.00</td>\n",
       "      <td>215.00</td>\n",
       "      <td>979.00</td>\n",
       "      <td>500.00</td>\n",
       "    </tr>\n",
       "  </tbody>\n",
       "</table>\n",
       "</div>"
      ],
      "text/plain": [
       "     Occurrences PageSeq_Length Actions_Length num_event_cats  \\\n",
       "mean        1.63           6.12           9.92           3.16   \n",
       "std        61.46           7.00          11.01           1.61   \n",
       "min         1.00           2.00           2.00           1.00   \n",
       "25%         1.00           3.00           4.00           2.00   \n",
       "50%         1.00           4.00           7.00           3.00   \n",
       "75%         1.00           7.00          12.00           4.00   \n",
       "max     55840.00         500.00         500.00          21.00   \n",
       "\n",
       "     taxon_flat_unique taxon_nested_unique taxon_flat_pages taxon_nested_pages  \n",
       "mean              3.49                2.28            10.08               6.12  \n",
       "std               2.98                1.43            12.93               6.99  \n",
       "min               0.00                0.00             0.00               0.00  \n",
       "25%               2.00                1.00             4.00               3.00  \n",
       "50%               3.00                2.00             6.00               4.00  \n",
       "75%               4.00                3.00            12.00               7.00  \n",
       "max             429.00              215.00           979.00             500.00  "
      ]
     },
     "execution_count": 14,
     "metadata": {},
     "output_type": "execute_result"
    }
   ],
   "source": [
    "df.describe().drop(\"count\").applymap(lambda x: '%.2f' % x)"
   ]
  },
  {
   "cell_type": "code",
   "execution_count": 15,
   "metadata": {},
   "outputs": [
    {
     "data": {
      "text/plain": [
       "array([list(['9545e449-c2cc-4f1c-b668-4b9b0762e054,b859689f-e569-4a1c-8b36-866f43c31aed', 'ba7d476d-ac4e-40a3-81f4-353842bf5b73,5cde1752-6876-4ac5-b88c-41122f0d9f1a', 'c312aabc-1f97-436c-94a4-60a848410c8c,3edf94b1-cc0c-44c6-99b4-8385e9699541', '79e5711d-5537-4d06-a3e9-c10a830456a1,44b9efd9-3998-48b6-9373-581717b90200', '291c1c0e-0e08-4199-99ac-9ddfa4294f79,c4795562-0e23-44d0-a1ab-4755c120d1ee', 'b204942a-853a-456e-8eda-f2b98b305ba0,422796b0-81cc-40f7-8c4d-add182e9b153', 'bcb51bee-fed0-44df-83be-1b3059e8542a,a4b86b2d-9263-48fd-9183-b99c67a8109b', 'e7d7876c-e8ec-404a-a780-f610eab61abb,b5ea5066-6972-4e5b-ad77-90d88a8561cc', '613a04d2-b1be-4bc3-9e73-4c6d5c36f075,c501dc62-2cbe-48d8-8fda-78971bcb8179', '0dc17433-40d9-454e-90fe-ea4a4cfaf490,65287b3f-1c2e-4a92-8835-fcea6f5317fa', 'b2801c90-89c6-4e17-b3cc-df7346b07ebc,5bd44bc3-a8be-474e-bc5c-6a16cfffd80f', '60e1dedb-60aa-4063-8631-714db2810fd8,07336987-42d7-4420-854f-dbca674fac85', 'dfabb10b-f8a8-4eeb-a6fb-309b0522cafb,12e40a23-d459-4c1c-bfaa-9061d4e7e1ab', '264cfde5-f79e-453a-a66d-01f0ede628d8,7787921e-a692-4ba6-890b-6b7240c63c48', '8f78544f-a4ed-46b4-8163-889679d119b9,71cd9f51-f492-4c3f-91ca-5ad694c26592', 'c8f9690a-c651-41e5-bd00-4cc645411724,164c8d2d-e04b-4427-bff7-a63ecfd8aea2', '524e27c1-569a-4007-a857-6e6438ae7a11,70d8b560-2340-442e-9524-ec98f48d6af6', 'ecd33e8c-9e0d-47c8-abd6-0415b387b52c,d88071f5-0a31-4ee6-91e4-073abe25bd15', '7ae55a0e-e4d2-49ab-8364-c0aa307bf70b,bf1d7b8c-3845-4c28-b8e8-e920978b837a', '650bb309-c4b4-4450-a4a4-55829f76f1e6,57460d5f-6fba-4d22-8357-ef2b46afc312', '1d917c2d-286a-4630-b5ab-e810f7235a04,d8839034-1759-4307-8ed0-5b02d86b5b94', 'c98d752c-c0ee-4ba5-81dd-2fd9008946fa,e7c94e1f-73a7-41c3-a2d5-744036f67e4f', '1f25b348-2b2b-42b8-8363-6d2189f4e7e7,96812b8e-07f1-494e-875f-bacf069d5008', '1d12fcb0-1366-493d-833f-b5fb05830359,a6f9edc5-1962-4888-a446-b69b32e18514', '97077958-2207-4c67-ac03-b60d6208977d,69dcbcc5-2578-4bee-808c-88531c12f113', 'd153516a-cd24-43cd-9119-d9c8f54b37a3,2ca3532a-6b15-4806-b6f9-e220083178eb', '5e1d5542-33f3-4808-a8cd-347195df3c6d,74228a5e-7c98-4e56-9e6c-a8225025c75a', '4a8a5310-29af-4e36-8f3c-e7d86a61443e,b82611bd-8c9b-4ab0-a745-1085685c3178', '3ba78be1-5619-4844-abbf-127cf768a08e,e4e914cd-de42-4db1-9c53-169eda8ac8ac', '21e58ce0-519a-4f17-84a7-5655667d6207,64054a08-a45a-4f4a-9479-f4f91d87f434', 'e3a4454f-6eb4-4bcb-a32f-4659ea82081b,80e42444-0a16-4c62-a568-bcf3e607c1f8', '69850119-74c4-4d68-a9aa-be6d4bfdde28,46e1e032-3db1-4f9f-aba9-54817f595696', 'd60e2f30-9b4e-4029-a59e-39749d6dc617,7234a013-e485-49e4-a020-06585e2d9998', '811cadfb-d5db-4cfa-b149-ebdb2ab835fa,4cc7fba4-842a-406a-8c30-e650a7c68b61', '950a5e96-ef76-4179-8911-6aa265e5d3be,3323a35a-768e-4d87-a0dd-498becf505ba', '6fd3cef8-5106-484d-a12a-324f89539696,8e5c3970-7f51-4e1f-98a6-b1243e03b9e5', 'a3d048c1-85be-4e1c-9e41-2b82c2c3aa1d,0f1e4002-e35a-462f-abd5-ea13b1c13cc4', '8d5647d4-0d1b-4a29-b40f-a29df4a00050,a538fab3-212f-448c-a9a4-5f7400e6e416', 'b25d8553-2720-422d-94c7-c9374460c84b,8ae7beb7-0117-4275-9959-56b51f3941df', '2b479119-7612-4a76-a695-c429c98c89a0,f79474e9-911a-49b5-a301-0ea11fdde1d5', '350cbe6f-5b11-4f06-8316-36db106f79d5,a3b86aae-6d97-4803-929e-4127499a99fd', '86899dc3-a9d1-4cfa-92e3-18ae52a6995b,615525eb-e40f-4d85-915a-dc907c62b245', '2f490cf4-f92b-4819-9623-3737d61b668a,29271b19-1428-4738-bae9-3fcad15efc05', 'af0d5aef-5c7e-4dd3-9b4a-6dc515a88b0d,16d9bfae-51ac-4f6b-9fd8-a5a697c107f6', 'b05fd623-1446-403e-94ac-9678e6219559,55475e8d-c348-4713-8306-f192f46b6d36', '293d74ae-4f20-4c0f-9cb9-4e9aa91222b9,b6cafeaa-2405-4e9d-aba6-7d2bd83ed060', '264cfde5-f79e-453a-a66d-01f0ede628d8,7787921e-a692-4ba6-890b-6b7240c63c48', '0e01d528-33b1-4b3b-93b6-1fbdeda0e285,92d9db89-09b1-4658-a60c-f25fc24ff29d', '35ef4b08-849a-419a-86be-5ed0e536901f,91dcaaba-c27a-44bd-a97a-79d9007ddfcc', 'e9ac4c17-cfbf-4af8-bf65-ac10c5332562,48545a14-26ff-4532-91e5-d773493f9341', 'd6ddbc3e-635b-40c9-9903-580a6f0f8c90,4670a8c3-a402-46c0-827f-408a3bddd66f', '7896d6d2-69c1-4718-8410-092334b3c2c1,c25cbcb2-b970-431e-a94c-92f4eee57ec7', 'a63bc6e3-5815-438a-b043-6f8fa2f4d439,2957ee17-134e-4f09-9f73-d492a506b3c8', '1fdb2fc0-c581-47b8-b5ef-0343aa9be74c,f0afb4bf-d8b5-48eb-90f3-716a96a9c1f9', 'other', '481edf65-9de9-4c7c-a7a7-cedd6b41742e,6397c134-36d8-47bf-b2c1-f1a113643575', '0c0ff938-fdbf-4b93-8f20-cc5d3b7aa254,7f616d3e-49dc-4bfd-bf38-fa0252690857', '906f7820-face-4cd2-8878-4e180f8db25a,32540cd4-177d-43af-9f4e-f0de392141b5', 'd93fb8f2-0550-47cc-aa20-6b4dd51b886c,70c1057a-2387-44ab-86c6-19367cc2a930', '09595948-8d18-47f3-8d25-c775ed5a034d,b9984628-c00c-4355-9fbf-9d5410921b01', '5a369aba-6c31-4c2f-9396-8fe0ec4f2282,b60dfbb8-a9ab-4399-8d23-29b11dc6cf75', 'f32e9183-27a5-4b67-b742-63d2a9b07332,8671a650-d140-48df-84ec-c1fa490bdaa0', '72f2d7fe-fecb-465a-aaa8-e8d252782053,04220f1c-b47d-4e03-b014-45f42a2d5909', 'cd0bac11-ee2f-4de9-9636-2de589377e39,7be2bfea-10f4-427f-a4bb-0a9b76856577', '40cc91fe-db2d-4733-b38d-d5fec0be1b4e,7bf48521-bf37-4602-a18f-35c1e779a7b8', '54569288-79d5-410a-ac76-4b0cbd1d27c2,bf1c73cf-3ea7-4d04-918b-36fb4a46055f', 'f1500460-b90d-445f-88a5-3be346e87a7d,80806d67-cafc-4ff4-a426-d822221b1eb8', '3d46dd4f-0de0-47cc-a1e1-dbf7c91d80fe,349ce84c-1bfe-4d45-b060-0f5fff02ebb4', 'ad14fc52-cb62-4a2a-92b9-f74a4fed056d,6013dcc7-f578-4a41-8cde-e0076db27677', '4960b17b-a6cc-42e8-9aeb-22982fd31749,c00036b8-8731-4cd9-8a51-466a3b150e93', '6e21f2b4-543d-4ab8-9409-2b6137e86294,81feebaf-017f-4cec-890a-141071b29705', 'fcdca447-3336-400d-a6f9-d6ed4661f290,2d113bc4-6843-4416-9fdd-1232c14f3bc7', 'feea9b68-73d3-4b67-a710-b80b9ec91ba7,406a71da-a2a2-44ec-b901-1346eb6fe1d1', 'b92abb29-3a48-4863-bd4b-1d93eadaa6d2,4f631255-4b54-4d55-b5aa-a6b39a090bc7', '856e78fe-e2b0-499d-aed3-809c67e8fe3d,048c90d0-f4df-4240-bb8a-9f1d96a07958', '451e33a9-2c6e-47e6-b5d1-6833a2ff0082,c0573fbc-4b48-453c-807d-c6505ab1d9cd', '5e1d5542-33f3-4808-a8cd-347195df3c6d,74228a5e-7c98-4e56-9e6c-a8225025c75a', '4b2fdcad-57f9-46dc-90e3-4a67b79486b2,72519875-bc1e-45f5-ae9f-358a377f30ee', 'b9cb55e8-43ae-4afb-b8b8-7e34429d7c56,db2e71a1-d343-4840-9aad-979a2c27e19d', 'e9f3ee77-a9c2-490a-947e-efcce1da6514,d61d4952-7142-4c05-8beb-1000501c3db6', '504e89ea-d778-4f9c-bc35-1a01e0d08149,7ebea589-ebb7-480a-b8bb-870f2ff34a87', 'e41f5a01-0126-4f5b-9f59-057a057025d7,0c886334-c463-4725-bcbd-76b411299757', 'f84f2bd6-e9dd-4078-9099-25b133d64211,c739aac7-c7c3-44d5-bd10-570ee66d3997', 'd93fb8f2-0550-47cc-aa20-6b4dd51b886c,70c1057a-2387-44ab-86c6-19367cc2a930', '244e6b3a-78ea-46aa-8d02-da3d52b7d963,faf1cf85-3188-4dac-b13f-2b5686cb7353', 'fe6d1f94-1091-4e9f-818a-0dea91eba638,baacbcc1-0dc7-4733-9b45-dbbde405404b', '79e5711d-5537-4d06-a3e9-c10a830456a1,44b9efd9-3998-48b6-9373-581717b90200', 'c963accd-9969-4fb1-8dcb-6da68d60e0f5,73e88b23-ccfc-4c88-8f87-e324ee1f0d4b', 'fcdca447-3336-400d-a6f9-d6ed4661f290,2d113bc4-6843-4416-9fdd-1232c14f3bc7', '0a0700e7-e3f9-432c-965a-c70a8e6479a0,ea3a649b-9459-4584-a919-608adce014d6', '9af7da4f-9ffb-4529-87f9-df197aeb21c1,7e786564-5ea1-4153-a15c-5594f03d0aaf', '3d2716e9-11c6-42c6-8841-48587a7baae8,006c031f-b7e9-4570-99b2-1f0a473931a0', '16e62e40-1297-4343-a72d-012c38174d26,a3d997a9-e417-435d-9811-1148a2267c3e', '613a04d2-b1be-4bc3-9e73-4c6d5c36f075,c501dc62-2cbe-48d8-8fda-78971bcb8179', '4f22c68c-e4b3-4cbe-9cfd-1dae7e124ba5,a5f3ca7b-4f5c-4050-a6c7-f5bbea657629', 'ad7cafc7-aac7-440c-8e69-56a714ea468f,55bd2c10-503c-4b60-a756-e6c3eb9d985f', 'b2ddafd0-04a5-4709-84cb-3f0259391d00,e6e733fd-997c-4778-bd3c-4c130fe76586', '1a5db099-2708-4e44-bd8a-d0754e51ea80,23700e2a-e228-4abb-a1c1-4852b2cb4b3c', 'bd63be28-7bdc-4149-b530-c6e9b1f6e4e3,9ee37de1-be15-4de3-9ed1-8270c94514ab', '3452a400-0985-4709-9e58-2da1d9288303,5740e639-ad4b-4685-a73d-e604038be240', '5984274a-b34a-4c4c-bcee-6da49cbb13a7,256d348d-1866-4ed0-9ef2-d8ae7d3a2eee', '87cd0402-4ff7-4daa-b0b8-5948543ee252,b031f835-b77a-451e-93b1-31c8d868f62b', '751e7563-dca5-4e22-b622-6616846d39f3,2db17d26-987d-405b-95d9-6eb8e0d8755e', 'fcdca447-3336-400d-a6f9-d6ed4661f290,2d113bc4-6843-4416-9fdd-1232c14f3bc7', '768f1077-0924-4d09-801e-eca2723b6c60,27caa1f2-a469-4bc4-b173-345f777ac708', 'e2e7ba64-4941-48fc-a941-330ddf53f4cb,74fb2167-94da-4817-af2e-5b7a0a234b34', '0475d289-8b2e-41b7-b050-37b35b786a00,3bdd1c10-33ea-45dd-9417-c1b3f29db50d', '4cf57d74-3641-4576-9e31-43f79c7af37c,dd94cb83-ec03-4492-b84b-00a69fb5960e', '200f915c-79cf-418a-b7d6-839fd18c536c,805a2bab-d840-42ee-a57d-6c9784dc2dd1', 'fcdca447-3336-400d-a6f9-d6ed4661f290,2d113bc4-6843-4416-9fdd-1232c14f3bc7', '62f3c1e1-a5e7-470e-a3fb-998ff75583dc,3409c291-4e3c-4b96-bd8a-84566168caa6', '4924ae24-9a7d-4637-bf37-46eeb39b2323,a0cfe75b-85a5-44ef-97eb-1abe7901df27', '9f2207fe-f027-4d98-bb60-3d8baf5d8096,fad6f4b0-8954-459a-9aff-0bb6e8422869', '47cd3583-5389-4a86-8ea7-74c589c06ed0,cfb5c25e-7c2a-4b2c-9619-43f52a9186d9', '67243541-1529-4b85-a426-0fcb4b6e3908,3de2c665-596a-46c7-aa36-6a3f4df482b2', '2ea7a1f3-f7b2-4019-b0ca-087f9b3a444f,b7c502ca-69a0-4696-b464-f2df2fe89250', '65c0bbd0-ed15-4662-9da3-772c3e51c2be,b3ad2614-e056-4a74-8661-2c5724a7e03d', '8fdf58f4-3af9-4e97-b749-ef80ba87e83a,1899907a-502d-41c7-b213-abc6350ba679', 'd20e4aab-22e5-41a3-8fca-d7cdf5711ff9,1fd591c3-e8e6-46e6-8e97-fa569444bdad', '1d9f018c-d750-41a2-bca8-24cef48e0d57,a8c21caf-a4a8-4dc9-9767-e42e09924ced', '7283f126-c578-4df7-949e-44662d4c086b,3957949c-57b4-42d9-82db-d518c992f1f3', '95bf46ba-792b-4ffa-ac81-bed4fd4ecfd5,b58353a2-d61b-4caf-9cdf-aaef915960de', '0ed4f215-18b2-4559-8ae7-1a6458c6839a,661f8f5f-d3e6-4654-a74c-8202c27738fd', 'e33dd67c-e311-44e8-bae8-5060cfc72162,118620e5-a437-4a56-859a-1057a5b3b0a1', 'b7239157-083c-4e5b-8f1d-f23875df38bf,782fa3aa-6591-42ff-b40e-2c64e7d69140', '94df2e1d-b3cc-433b-8cd4-0b37a6130f32,747e4bd6-5b6c-4836-b301-3b466d0cf3df', 'edf0a641-78fb-4fd1-ac85-1abcef741758,a7dd5b53-81ed-4067-88a6-6b1ff6262d06', '7f8cfd25-41dd-447c-be23-cdabfca8e008,8b22cf55-d08e-4af6-92cf-8765e2c95ce9', 'b57b581f-21f8-4603-8880-f1783b2114a4,11de19f1-4170-496b-91af-fc81640d3cac', 'ed81beb6-8427-41a4-849c-76cbf109cd0c,f2187875-e699-4117-86cf-dedcd1bceac5', '803452d1-9130-4b8b-be4c-5d5f1f7fd706,09bccf93-b4a8-4932-a210-92a72a2ae307', 'c8f9690a-c651-41e5-bd00-4cc645411724,164c8d2d-e04b-4427-bff7-a63ecfd8aea2', '4e06ed99-0738-4c19-8f15-168063017965,6abf2d82-c544-4aa0-a4fe-6785033bc527', 'c2bdb5af-407b-4147-82e8-fe7f6096f57d,bc0cd691-bc67-452f-a5b3-bc0b8ed28df6', 'f047a365-ad8b-444d-a875-29f327873648,955653db-42f3-4a2e-8294-93802a000514', '5b5a9507-c049-4612-a741-662d96a7e8ec,adbda256-2486-47eb-842b-193aca81567d', 'f6424cf1-1440-4995-9d55-6a15c53d01f2,4ff2c479-e5d4-4b12-becd-02670b827b11', '6bb0f7be-825c-4d3d-aaff-d293752920f0,2856aa83-9d7b-4119-9cd0-0dca5cdac807', '505285f8-c778-4e62-bab3-adfac414f8c7,05d13076-b936-4a91-9e34-faa9b0111a88', '09a9baba-7dd8-4de2-813f-eb227bcef086,47220afb-73a3-4a4e-b9bb-bca0679d4009', 'ed76cf71-9923-4131-8b5f-80075a830a5e,ea69ebd8-0386-481c-8a5e-3a955e47fa91', 'dfe27396-13d8-4b22-b452-44383371cfe3,32465f2b-cf76-4f5d-91ee-393df9f639dd', '31f3b5b3-0246-41f5-938f-32b1a42bedc0,fc1b589a-d19f-4af4-8ee5-6a6801740f92', '68f29380-d15d-42c4-a5fe-ac6dedfba1bd,eba9fb72-5f96-40b8-9fae-c48f797db22a', '3daaccfd-9ed1-43d1-82ab-99cf1524af29,689b494d-c83e-4544-845d-23cc216922ee', 'e95fc27a-87d1-4a61-b4d7-caa6b20b4073,0cd6fb64-3670-4b40-b3ba-8d0aa637511d', 'e93638be-b8dc-4b85-98fb-4ddb6f0de506,41197462-1c7a-4473-ab6b-2037a891d782', 'fcc8c7b1-0f68-44f2-b4b1-5f8fcc36d374,ced54a5c-6bc3-4d16-ba8d-1be9f451fc78', '0eed48a7-5232-4c34-a0d8-f717b25cf886,24d5e468-57ee-48fe-802d-b7978ce058f7', 'aa050e71-92fd-42ee-9086-6a4e4ccc8fd7,03a81c3b-33af-4b32-bf56-76f519c9c38d', '120a3794-e62d-4aad-9ea6-cf3552c98d57,fb2c6e10-659a-4eda-b83b-6700611f9fdb', 'd5d5d192-1482-4d8f-abe7-eb2f665f2310,ae2ca5ec-5b7f-47cc-8c00-9f196ca596dd', '9fb5522b-f3f7-4f2a-8c6f-472c719688ec,72d66b1e-809a-4fdf-8c95-028edbe461a7', '563d3144-1799-4c71-b562-f33e471c6c40,f8ea56ef-e454-4b61-bcbf-318ca49c8f8d', '890644c0-86f0-4ac7-bb35-b20fa9cc42da,750ef289-3fc5-472c-ae4f-0999e319e6bf', '613a04d2-b1be-4bc3-9e73-4c6d5c36f075,c501dc62-2cbe-48d8-8fda-78971bcb8179', '5214ea39-8b1d-49ed-9bc8-95863e33d71e,f1daf3d1-0c43-4a27-84c9-e5d8bc49d503', 'd6ddbc3e-635b-40c9-9903-580a6f0f8c90,4670a8c3-a402-46c0-827f-408a3bddd66f', 'ad76ad80-4b26-4654-ae9e-87d6c1fe8efd,658925de-f3bb-4a34-8405-c16f07d40c41', 'other', 'e9e5674b-f290-4862-b68c-f8ad56a69959,211a738b-9206-44d1-a7aa-7d24a71a3a80', '5e1d5542-33f3-4808-a8cd-347195df3c6d,74228a5e-7c98-4e56-9e6c-a8225025c75a', 'fcdca447-3336-400d-a6f9-d6ed4661f290,2d113bc4-6843-4416-9fdd-1232c14f3bc7', '751e7563-dca5-4e22-b622-6616846d39f3,2db17d26-987d-405b-95d9-6eb8e0d8755e', '6413b546-d752-4271-879f-77ad68a6dfed,77963b63-9df1-4b40-8420-00cbdc3a701b', '099be870-67c0-425d-9363-da1f0747f92b,88518d1a-2f3d-4b15-b25b-37ee250ee020', 'ef13b067-b8fc-4c40-9fba-1931c22bb769,39c44856-18aa-434f-9c3a-e9a485b6f13b', '57f0eb94-eaa8-4107-b9fe-8fb20b5e4fd1,cd454ab1-a459-49c6-a05d-5b5dad559010', '768f1077-0924-4d09-801e-eca2723b6c60,27caa1f2-a469-4bc4-b173-345f777ac708', '3ba11ad0-de6a-4b19-91b5-860cbdfe0326,723053c7-3881-4103-87d2-6b57a9bb895d', '64e7b2d5-1fb8-4bf9-b483-fa22ba9e45eb,c600ee25-0837-417d-a905-e045e6a5551c', 'e7846a7e-d5c3-46c4-aa83-6ae8928e738e,5608c9da-90b4-4749-8d4c-75d1de2ead18', '38c0a32c-67aa-4105-ab2b-f5229bbb32ed,7896a715-3147-4da2-a19b-4725be14b27a', 'd05e26a8-1db6-48a2-9205-febbfadba2ee,31149f5e-c33c-400d-9794-01fb98cbe556', '0fd841e0-e282-4f99-be8b-053ea141cf6e,92129f66-94e1-4ffa-93b7-ffff60ad8638', 'c3e1b8af-7e81-4169-b3ef-362759d34057,a49436f2-f0ee-4926-ab38-8938970b2fea', 'c8f9690a-c651-41e5-bd00-4cc645411724,164c8d2d-e04b-4427-bff7-a63ecfd8aea2', 'e561029e-4b0d-41a1-8ca7-a0ab918f11f7,9521b06f-8883-4355-809d-f8c993801f5e', '52453a3e-3dd2-4b9d-a2c0-05a7cae61153,b49bfe71-8a77-47bd-8c8b-ae68687f336b', 'd77a68d9-4dd5-43e7-b5c7-53de02ce62f9,44b9841e-b9fb-4130-baa4-e79963d4f3e5', 'bedd2ed6-9dac-40cc-8a4d-2a49c1b2d544,198a1e62-2d26-4122-8ecf-1a8d6ee2c42c', 'f530389e-a54e-4057-89dd-9aa8627aa8ad,6f9dfe8c-de1b-4d35-9365-9682382aad28', 'dc1995b9-5c15-4f48-8854-64b6cb857b96,5fafecd5-4ac9-440a-a6be-ea6ba16a29ce', 'a94f61e8-1eb4-4c10-aaf6-5db3bd10ec0b,d02a98aa-a5c7-4492-bb07-4d8506909909', '6dbd60e3-5d69-433a-b538-fabc6c5a0319,d00b7a6d-f3f3-4d6d-90e6-4eeed2527bb4', '7fd77a7d-2a4e-4669-b152-ed4b67483789,f13daccf-f40c-42fc-8ead-1093e4c21687', 'c0392b7f-3b24-41de-8c24-c5d067314525,3e3ae45a-4e51-4928-a422-dc7742c97344', '7cb1bfbe-43f1-487e-8bd8-05e7bef186c1,afc89c28-d677-440b-bef9-193685770d56', 'e4a7fa9c-a0b3-4d15-a1b5-19dc583fa659,32146f47-f9f9-466e-b6a4-ba44379085dd', 'f16080da-c239-4c40-bf52-60ab54824eec,6e4d966f-feec-4c9d-a3cf-0f32679ac0f8', 'a573446b-78eb-4a74-a15d-79012ff391b2,aec9a6b5-0905-47a8-adac-725d55219203', '38a134ba-c68b-43cb-b504-043e17e4df7b,f999dece-b76d-4384-8613-168cf488b07a', '7d50730c-907b-4523-b359-e9471516fab9,f019da78-31b1-4168-98b5-8c4cd5bf8104', 'f4ec0f5c-e600-44b4-88ef-da25ee056177,2e20c3d8-c6cd-49f2-ac23-0d6dc3f11c1b', 'b1b542cb-db77-454e-be5d-5afc06ff35c2,17d0b63c-4a28-4cab-bea0-9a1ad0490f02', '0f4115ae-74eb-4b4f-a98e-d3b44ad4c53a,6ba71ab9-5940-4afa-a912-11348d5fbcf7', 'f424b370-3d39-40a7-b827-07a5eb2d2c83,2fd8a541-0ca3-4d2f-b66a-e77edc43bc25', '5edde70c-765b-46dc-9451-4c70a95e24f9,7e58436f-a541-48b6-83e5-46b20e4095c4', '49b03c96-7f2a-4254-adc6-af6267665b8d,d2dc1cca-8591-4592-8d73-113c78598b87', '928c026b-8647-458d-add1-1c9f8e83020d,8a76c50f-1a4c-4c2f-a4bf-0677c136d3bc', '2b479119-7612-4a76-a695-c429c98c89a0,f79474e9-911a-49b5-a301-0ea11fdde1d5', '951fe817-12c2-4833-b763-2f532a6f41ed,a6d762f1-90aa-4b04-8625-d6e566414fe4', 'dfabb10b-f8a8-4eeb-a6fb-309b0522cafb,12e40a23-d459-4c1c-bfaa-9061d4e7e1ab', 'c97927a2-64c7-4cde-92c5-2371e47364a7,da1093e0-ad1a-46e6-ab31-4f6c950edcf1', '72f69939-6a3f-43cd-9321-e7dc7b3d02c5,9267e1a7-9a65-4a6c-80d6-0eddcf5a5995', '544a7e7a-dfb3-485c-8cb5-d83d4a2a54c4,49f3dd40-fb1c-4848-b2b7-2fe76a40efc4', 'fcdca447-3336-400d-a6f9-d6ed4661f290,2d113bc4-6843-4416-9fdd-1232c14f3bc7', 'dc618960-68fb-47fb-8619-4154a31ce58f,48d92fb6-6f85-4b89-bea5-b0e392d68056', '560c92c6-7c2b-4d99-a8fc-5edfc3c34788,1dd2b061-42b1-4788-99ab-0456f30afc6b', '8362d817-57b1-4925-9885-6a5c10cf052d,ba4c4f17-31cd-4ba4-923a-a32a31edfff2', '66d8c709-ea14-4e1a-9cd5-b762190e60a8,c1975393-94be-49e6-8fd5-3698cb3a45b8', '8d2f6f7b-4271-4057-873a-383fa8927079,20ebb311-ee88-4ea2-833e-d73afb90f15f', '55fe10fe-eba9-4dc1-9e1f-540c324d2f47,822e004b-f1ce-4a65-ae58-5f0c29d95964', '26d9d746-eed1-4e20-a4f8-719f9c36d090,ac70ec5a-4995-4a47-ad73-0165dfe740c7', '4c8d38cd-b326-4cd9-b47b-0a5190eacc43,443ed3a9-335b-4cb8-94e5-fd474a922244', 'dfabb10b-f8a8-4eeb-a6fb-309b0522cafb,12e40a23-d459-4c1c-bfaa-9061d4e7e1ab', 'f841c3b4-7a42-4743-ae29-725d26256dc4,51b4188f-b0fa-43be-9f29-944d555ca320', '88d5c77b-bc40-49aa-9436-caeaf997afc2,074a7995-ca29-4262-ac28-f84c54cc0cd2', '9a2f15f2-db06-4e7f-807a-fe11c7992866,4ac8f2e2-976a-4eab-b4ff-9b520bca7936', 'ae12959f-f121-442c-988f-ce43a84b8a83,3d7a7a53-e6af-41ad-947c-4e10b46b932e', '592e8ed7-5ab8-4d5f-bb5f-0a4b4d000c07,feffac9e-6132-48b2-9333-7dcb2af68da1', '9e7cb124-39ed-488b-a013-20ca1ef53806,669cc3f6-718c-40ce-a1e2-cdb0f7cf52bc', 'bb4c54b9-5b3c-4c2e-8473-a57e2442f386,2b669b7d-c9d8-40b7-8b55-aa68a0615daa', 'dc7bc99c-0091-44f5-be35-49071ba69edb,351a2323-b6f7-4ac3-a490-802d3fd923f0', 'fcdca447-3336-400d-a6f9-d6ed4661f290,2d113bc4-6843-4416-9fdd-1232c14f3bc7', '79e5711d-5537-4d06-a3e9-c10a830456a1,44b9efd9-3998-48b6-9373-581717b90200', '69850119-74c4-4d68-a9aa-be6d4bfdde28,46e1e032-3db1-4f9f-aba9-54817f595696', '8ebe2823-9ea3-4f9f-a97c-f0070eaf32ec,1e8b37fa-3727-4755-a4df-6c031720d564', '906f7820-face-4cd2-8878-4e180f8db25a,32540cd4-177d-43af-9f4e-f0de392141b5', 'f1500460-b90d-445f-88a5-3be346e87a7d,80806d67-cafc-4ff4-a426-d822221b1eb8', '9f2207fe-f027-4d98-bb60-3d8baf5d8096,fad6f4b0-8954-459a-9aff-0bb6e8422869', '38a134ba-c68b-43cb-b504-043e17e4df7b,f999dece-b76d-4384-8613-168cf488b07a', '9e7cb124-39ed-488b-a013-20ca1ef53806,669cc3f6-718c-40ce-a1e2-cdb0f7cf52bc', '1be4a80e-ede4-41c9-acad-577767fda852,2f8cba0d-ff77-409c-8d43-c21331ee0bf6', '28ffc681-c14e-4ff2-827e-18e3e9ed1cd0,36de12fc-fd9c-40d5-9742-1c05cc45c6da', '3d3a07c3-1c78-47f4-afaa-9122750c5847,9b1ab819-dae5-4546-98d0-5ec20b8e8f4c', '4a094cab-6735-40e0-8eaf-903f3b888351,d573fb11-27e8-40d5-9c03-5ba1a2f64114', 'fcdca447-3336-400d-a6f9-d6ed4661f290,2d113bc4-6843-4416-9fdd-1232c14f3bc7', '30d57a2b-deaa-4adb-90e3-f42ba36acfe1,7f294f77-1d88-4532-8804-1f1baf311757', 'ad11c8a0-07d4-405e-8c27-cb1c0b61a2b9,b904ece2-cdcd-4d6f-ba7b-8f4fd9dd2d53', 'd1de7e0e-9c04-4c2d-9cc4-f5f0ff04eb50,6cbbc380-b926-4f43-9c5d-c843dbf48f82', '5510ba26-3810-40dd-9de8-a6ae1c4910bd,e2dc802e-42c5-4cb5-b532-420cb3a6479b', '0e65811e-3d59-431b-ab38-4ca77808bbba,8923be1b-4037-45a8-b351-3d564b6c42ef', '79e5711d-5537-4d06-a3e9-c10a830456a1,44b9efd9-3998-48b6-9373-581717b90200', '906f7820-face-4cd2-8878-4e180f8db25a,32540cd4-177d-43af-9f4e-f0de392141b5', '751e7563-dca5-4e22-b622-6616846d39f3,2db17d26-987d-405b-95d9-6eb8e0d8755e', '1be4a80e-ede4-41c9-acad-577767fda852,2f8cba0d-ff77-409c-8d43-c21331ee0bf6', '28ffc681-c14e-4ff2-827e-18e3e9ed1cd0,36de12fc-fd9c-40d5-9742-1c05cc45c6da', '3d3a07c3-1c78-47f4-afaa-9122750c5847,9b1ab819-dae5-4546-98d0-5ec20b8e8f4c', '4a094cab-6735-40e0-8eaf-903f3b888351,d573fb11-27e8-40d5-9c03-5ba1a2f64114', 'fcdca447-3336-400d-a6f9-d6ed4661f290,2d113bc4-6843-4416-9fdd-1232c14f3bc7', '30d57a2b-deaa-4adb-90e3-f42ba36acfe1,7f294f77-1d88-4532-8804-1f1baf311757', 'ad11c8a0-07d4-405e-8c27-cb1c0b61a2b9,b904ece2-cdcd-4d6f-ba7b-8f4fd9dd2d53', 'd1de7e0e-9c04-4c2d-9cc4-f5f0ff04eb50,6cbbc380-b926-4f43-9c5d-c843dbf48f82', '5510ba26-3810-40dd-9de8-a6ae1c4910bd,e2dc802e-42c5-4cb5-b532-420cb3a6479b', '0e65811e-3d59-431b-ab38-4ca77808bbba,8923be1b-4037-45a8-b351-3d564b6c42ef', '79e5711d-5537-4d06-a3e9-c10a830456a1,44b9efd9-3998-48b6-9373-581717b90200', '906f7820-face-4cd2-8878-4e180f8db25a,32540cd4-177d-43af-9f4e-f0de392141b5', '9545e449-c2cc-4f1c-b668-4b9b0762e054,b859689f-e569-4a1c-8b36-866f43c31aed', 'ba7d476d-ac4e-40a3-81f4-353842bf5b73,5cde1752-6876-4ac5-b88c-41122f0d9f1a', 'c312aabc-1f97-436c-94a4-60a848410c8c,3edf94b1-cc0c-44c6-99b4-8385e9699541', '79e5711d-5537-4d06-a3e9-c10a830456a1,44b9efd9-3998-48b6-9373-581717b90200', '291c1c0e-0e08-4199-99ac-9ddfa4294f79,c4795562-0e23-44d0-a1ab-4755c120d1ee', 'b204942a-853a-456e-8eda-f2b98b305ba0,422796b0-81cc-40f7-8c4d-add182e9b153', 'bcb51bee-fed0-44df-83be-1b3059e8542a,a4b86b2d-9263-48fd-9183-b99c67a8109b', 'e7d7876c-e8ec-404a-a780-f610eab61abb,b5ea5066-6972-4e5b-ad77-90d88a8561cc', '613a04d2-b1be-4bc3-9e73-4c6d5c36f075,c501dc62-2cbe-48d8-8fda-78971bcb8179', '0dc17433-40d9-454e-90fe-ea4a4cfaf490,65287b3f-1c2e-4a92-8835-fcea6f5317fa', 'b2801c90-89c6-4e17-b3cc-df7346b07ebc,5bd44bc3-a8be-474e-bc5c-6a16cfffd80f', '60e1dedb-60aa-4063-8631-714db2810fd8,07336987-42d7-4420-854f-dbca674fac85', 'dfabb10b-f8a8-4eeb-a6fb-309b0522cafb,12e40a23-d459-4c1c-bfaa-9061d4e7e1ab', '264cfde5-f79e-453a-a66d-01f0ede628d8,7787921e-a692-4ba6-890b-6b7240c63c48', '8f78544f-a4ed-46b4-8163-889679d119b9,71cd9f51-f492-4c3f-91ca-5ad694c26592', '916e5b33-742a-4936-a52e-f81b591241ab,1d5d8c9d-d68b-4c3a-8d04-f3b2d8a63ed2', 'c8f9690a-c651-41e5-bd00-4cc645411724,164c8d2d-e04b-4427-bff7-a63ecfd8aea2', '524e27c1-569a-4007-a857-6e6438ae7a11,70d8b560-2340-442e-9524-ec98f48d6af6', 'ecd33e8c-9e0d-47c8-abd6-0415b387b52c,d88071f5-0a31-4ee6-91e4-073abe25bd15', '7ae55a0e-e4d2-49ab-8364-c0aa307bf70b,bf1d7b8c-3845-4c28-b8e8-e920978b837a', '650bb309-c4b4-4450-a4a4-55829f76f1e6,57460d5f-6fba-4d22-8357-ef2b46afc312', '1d917c2d-286a-4630-b5ab-e810f7235a04,d8839034-1759-4307-8ed0-5b02d86b5b94', 'c98d752c-c0ee-4ba5-81dd-2fd9008946fa,e7c94e1f-73a7-41c3-a2d5-744036f67e4f', '1f25b348-2b2b-42b8-8363-6d2189f4e7e7,96812b8e-07f1-494e-875f-bacf069d5008', '1d12fcb0-1366-493d-833f-b5fb05830359,a6f9edc5-1962-4888-a446-b69b32e18514', '97077958-2207-4c67-ac03-b60d6208977d,69dcbcc5-2578-4bee-808c-88531c12f113', 'd153516a-cd24-43cd-9119-d9c8f54b37a3,2ca3532a-6b15-4806-b6f9-e220083178eb', '5e1d5542-33f3-4808-a8cd-347195df3c6d,74228a5e-7c98-4e56-9e6c-a8225025c75a', '4a8a5310-29af-4e36-8f3c-e7d86a61443e,b82611bd-8c9b-4ab0-a745-1085685c3178', '3ba78be1-5619-4844-abbf-127cf768a08e,e4e914cd-de42-4db1-9c53-169eda8ac8ac', '21e58ce0-519a-4f17-84a7-5655667d6207,64054a08-a45a-4f4a-9479-f4f91d87f434', 'e3a4454f-6eb4-4bcb-a32f-4659ea82081b,80e42444-0a16-4c62-a568-bcf3e607c1f8', '69850119-74c4-4d68-a9aa-be6d4bfdde28,46e1e032-3db1-4f9f-aba9-54817f595696', 'd60e2f30-9b4e-4029-a59e-39749d6dc617,7234a013-e485-49e4-a020-06585e2d9998', '811cadfb-d5db-4cfa-b149-ebdb2ab835fa,4cc7fba4-842a-406a-8c30-e650a7c68b61', '950a5e96-ef76-4179-8911-6aa265e5d3be,3323a35a-768e-4d87-a0dd-498becf505ba', '6fd3cef8-5106-484d-a12a-324f89539696,8e5c3970-7f51-4e1f-98a6-b1243e03b9e5', 'a3d048c1-85be-4e1c-9e41-2b82c2c3aa1d,0f1e4002-e35a-462f-abd5-ea13b1c13cc4', '8d5647d4-0d1b-4a29-b40f-a29df4a00050,a538fab3-212f-448c-a9a4-5f7400e6e416', 'b25d8553-2720-422d-94c7-c9374460c84b,8ae7beb7-0117-4275-9959-56b51f3941df', '2b479119-7612-4a76-a695-c429c98c89a0,f79474e9-911a-49b5-a301-0ea11fdde1d5', '350cbe6f-5b11-4f06-8316-36db106f79d5,a3b86aae-6d97-4803-929e-4127499a99fd', '86899dc3-a9d1-4cfa-92e3-18ae52a6995b,615525eb-e40f-4d85-915a-dc907c62b245', '2f490cf4-f92b-4819-9623-3737d61b668a,29271b19-1428-4738-bae9-3fcad15efc05', 'af0d5aef-5c7e-4dd3-9b4a-6dc515a88b0d,16d9bfae-51ac-4f6b-9fd8-a5a697c107f6', 'b05fd623-1446-403e-94ac-9678e6219559,55475e8d-c348-4713-8306-f192f46b6d36', '293d74ae-4f20-4c0f-9cb9-4e9aa91222b9,b6cafeaa-2405-4e9d-aba6-7d2bd83ed060', '264cfde5-f79e-453a-a66d-01f0ede628d8,7787921e-a692-4ba6-890b-6b7240c63c48', '0e01d528-33b1-4b3b-93b6-1fbdeda0e285,92d9db89-09b1-4658-a60c-f25fc24ff29d', '35ef4b08-849a-419a-86be-5ed0e536901f,91dcaaba-c27a-44bd-a97a-79d9007ddfcc', 'e9ac4c17-cfbf-4af8-bf65-ac10c5332562,48545a14-26ff-4532-91e5-d773493f9341', 'd6ddbc3e-635b-40c9-9903-580a6f0f8c90,4670a8c3-a402-46c0-827f-408a3bddd66f', '7896d6d2-69c1-4718-8410-092334b3c2c1,c25cbcb2-b970-431e-a94c-92f4eee57ec7', 'a63bc6e3-5815-438a-b043-6f8fa2f4d439,2957ee17-134e-4f09-9f73-d492a506b3c8', '1fdb2fc0-c581-47b8-b5ef-0343aa9be74c,f0afb4bf-d8b5-48eb-90f3-716a96a9c1f9', 'other', '481edf65-9de9-4c7c-a7a7-cedd6b41742e,6397c134-36d8-47bf-b2c1-f1a113643575', '0c0ff938-fdbf-4b93-8f20-cc5d3b7aa254,7f616d3e-49dc-4bfd-bf38-fa0252690857', '906f7820-face-4cd2-8878-4e180f8db25a,32540cd4-177d-43af-9f4e-f0de392141b5', 'd93fb8f2-0550-47cc-aa20-6b4dd51b886c,70c1057a-2387-44ab-86c6-19367cc2a930', '09595948-8d18-47f3-8d25-c775ed5a034d,b9984628-c00c-4355-9fbf-9d5410921b01', '5a369aba-6c31-4c2f-9396-8fe0ec4f2282,b60dfbb8-a9ab-4399-8d23-29b11dc6cf75', 'f32e9183-27a5-4b67-b742-63d2a9b07332,8671a650-d140-48df-84ec-c1fa490bdaa0', '72f2d7fe-fecb-465a-aaa8-e8d252782053,04220f1c-b47d-4e03-b014-45f42a2d5909', 'cd0bac11-ee2f-4de9-9636-2de589377e39,7be2bfea-10f4-427f-a4bb-0a9b76856577', '40cc91fe-db2d-4733-b38d-d5fec0be1b4e,7bf48521-bf37-4602-a18f-35c1e779a7b8', '54569288-79d5-410a-ac76-4b0cbd1d27c2,bf1c73cf-3ea7-4d04-918b-36fb4a46055f', 'f1500460-b90d-445f-88a5-3be346e87a7d,80806d67-cafc-4ff4-a426-d822221b1eb8', '3d46dd4f-0de0-47cc-a1e1-dbf7c91d80fe,349ce84c-1bfe-4d45-b060-0f5fff02ebb4', 'ad14fc52-cb62-4a2a-92b9-f74a4fed056d,6013dcc7-f578-4a41-8cde-e0076db27677', '4960b17b-a6cc-42e8-9aeb-22982fd31749,c00036b8-8731-4cd9-8a51-466a3b150e93', '6e21f2b4-543d-4ab8-9409-2b6137e86294,81feebaf-017f-4cec-890a-141071b29705', 'fcdca447-3336-400d-a6f9-d6ed4661f290,2d113bc4-6843-4416-9fdd-1232c14f3bc7', 'feea9b68-73d3-4b67-a710-b80b9ec91ba7,406a71da-a2a2-44ec-b901-1346eb6fe1d1', 'b92abb29-3a48-4863-bd4b-1d93eadaa6d2,4f631255-4b54-4d55-b5aa-a6b39a090bc7', '856e78fe-e2b0-499d-aed3-809c67e8fe3d,048c90d0-f4df-4240-bb8a-9f1d96a07958', '451e33a9-2c6e-47e6-b5d1-6833a2ff0082,c0573fbc-4b48-453c-807d-c6505ab1d9cd', '5e1d5542-33f3-4808-a8cd-347195df3c6d,74228a5e-7c98-4e56-9e6c-a8225025c75a', 'd517c4c2-3e72-4378-98ea-12d0f5f5b9ec,96f88363-e36e-45da-bb59-b36ef138e8ba', '4b2fdcad-57f9-46dc-90e3-4a67b79486b2,72519875-bc1e-45f5-ae9f-358a377f30ee', 'b9cb55e8-43ae-4afb-b8b8-7e34429d7c56,db2e71a1-d343-4840-9aad-979a2c27e19d', 'e9f3ee77-a9c2-490a-947e-efcce1da6514,d61d4952-7142-4c05-8beb-1000501c3db6', '504e89ea-d778-4f9c-bc35-1a01e0d08149,7ebea589-ebb7-480a-b8bb-870f2ff34a87', 'e41f5a01-0126-4f5b-9f59-057a057025d7,0c886334-c463-4725-bcbd-76b411299757', 'f84f2bd6-e9dd-4078-9099-25b133d64211,c739aac7-c7c3-44d5-bd10-570ee66d3997', 'd93fb8f2-0550-47cc-aa20-6b4dd51b886c,70c1057a-2387-44ab-86c6-19367cc2a930', '244e6b3a-78ea-46aa-8d02-da3d52b7d963,faf1cf85-3188-4dac-b13f-2b5686cb7353', 'fe6d1f94-1091-4e9f-818a-0dea91eba638,baacbcc1-0dc7-4733-9b45-dbbde405404b', '79e5711d-5537-4d06-a3e9-c10a830456a1,44b9efd9-3998-48b6-9373-581717b90200', 'c963accd-9969-4fb1-8dcb-6da68d60e0f5,73e88b23-ccfc-4c88-8f87-e324ee1f0d4b', 'fcdca447-3336-400d-a6f9-d6ed4661f290,2d113bc4-6843-4416-9fdd-1232c14f3bc7', '0a0700e7-e3f9-432c-965a-c70a8e6479a0,ea3a649b-9459-4584-a919-608adce014d6', '9af7da4f-9ffb-4529-87f9-df197aeb21c1,7e786564-5ea1-4153-a15c-5594f03d0aaf', '3d2716e9-11c6-42c6-8841-48587a7baae8,006c031f-b7e9-4570-99b2-1f0a473931a0', '16e62e40-1297-4343-a72d-012c38174d26,a3d997a9-e417-435d-9811-1148a2267c3e', '613a04d2-b1be-4bc3-9e73-4c6d5c36f075,c501dc62-2cbe-48d8-8fda-78971bcb8179', '4f22c68c-e4b3-4cbe-9cfd-1dae7e124ba5,a5f3ca7b-4f5c-4050-a6c7-f5bbea657629', 'ad7cafc7-aac7-440c-8e69-56a714ea468f,55bd2c10-503c-4b60-a756-e6c3eb9d985f', 'b2ddafd0-04a5-4709-84cb-3f0259391d00,e6e733fd-997c-4778-bd3c-4c130fe76586', '1a5db099-2708-4e44-bd8a-d0754e51ea80,23700e2a-e228-4abb-a1c1-4852b2cb4b3c', 'bd63be28-7bdc-4149-b530-c6e9b1f6e4e3,9ee37de1-be15-4de3-9ed1-8270c94514ab', '3452a400-0985-4709-9e58-2da1d9288303,5740e639-ad4b-4685-a73d-e604038be240', '5984274a-b34a-4c4c-bcee-6da49cbb13a7,256d348d-1866-4ed0-9ef2-d8ae7d3a2eee', '87cd0402-4ff7-4daa-b0b8-5948543ee252,b031f835-b77a-451e-93b1-31c8d868f62b', '751e7563-dca5-4e22-b622-6616846d39f3,2db17d26-987d-405b-95d9-6eb8e0d8755e', 'fcdca447-3336-400d-a6f9-d6ed4661f290,2d113bc4-6843-4416-9fdd-1232c14f3bc7', '768f1077-0924-4d09-801e-eca2723b6c60,27caa1f2-a469-4bc4-b173-345f777ac708', 'e2e7ba64-4941-48fc-a941-330ddf53f4cb,74fb2167-94da-4817-af2e-5b7a0a234b34', '4cf57d74-3641-4576-9e31-43f79c7af37c,dd94cb83-ec03-4492-b84b-00a69fb5960e', '200f915c-79cf-418a-b7d6-839fd18c536c,805a2bab-d840-42ee-a57d-6c9784dc2dd1', 'fcdca447-3336-400d-a6f9-d6ed4661f290,2d113bc4-6843-4416-9fdd-1232c14f3bc7', '62f3c1e1-a5e7-470e-a3fb-998ff75583dc,3409c291-4e3c-4b96-bd8a-84566168caa6', '4924ae24-9a7d-4637-bf37-46eeb39b2323,a0cfe75b-85a5-44ef-97eb-1abe7901df27', '9f2207fe-f027-4d98-bb60-3d8baf5d8096,fad6f4b0-8954-459a-9aff-0bb6e8422869', '47cd3583-5389-4a86-8ea7-74c589c06ed0,cfb5c25e-7c2a-4b2c-9619-43f52a9186d9', '67243541-1529-4b85-a426-0fcb4b6e3908,3de2c665-596a-46c7-aa36-6a3f4df482b2', '2ea7a1f3-f7b2-4019-b0ca-087f9b3a444f,b7c502ca-69a0-4696-b464-f2df2fe89250', '65c0bbd0-ed15-4662-9da3-772c3e51c2be,b3ad2614-e056-4a74-8661-2c5724a7e03d', '8fdf58f4-3af9-4e97-b749-ef80ba87e83a,1899907a-502d-41c7-b213-abc6350ba679', 'd20e4aab-22e5-41a3-8fca-d7cdf5711ff9,1fd591c3-e8e6-46e6-8e97-fa569444bdad', '1d9f018c-d750-41a2-bca8-24cef48e0d57,a8c21caf-a4a8-4dc9-9767-e42e09924ced', '95bf46ba-792b-4ffa-ac81-bed4fd4ecfd5,b58353a2-d61b-4caf-9cdf-aaef915960de', '0ed4f215-18b2-4559-8ae7-1a6458c6839a,661f8f5f-d3e6-4654-a74c-8202c27738fd', 'e33dd67c-e311-44e8-bae8-5060cfc72162,118620e5-a437-4a56-859a-1057a5b3b0a1', 'b7239157-083c-4e5b-8f1d-f23875df38bf,782fa3aa-6591-42ff-b40e-2c64e7d69140', '94df2e1d-b3cc-433b-8cd4-0b37a6130f32,747e4bd6-5b6c-4836-b301-3b466d0cf3df', 'edf0a641-78fb-4fd1-ac85-1abcef741758,a7dd5b53-81ed-4067-88a6-6b1ff6262d06', '7f8cfd25-41dd-447c-be23-cdabfca8e008,8b22cf55-d08e-4af6-92cf-8765e2c95ce9', 'b57b581f-21f8-4603-8880-f1783b2114a4,11de19f1-4170-496b-91af-fc81640d3cac', 'ed81beb6-8427-41a4-849c-76cbf109cd0c,f2187875-e699-4117-86cf-dedcd1bceac5', '803452d1-9130-4b8b-be4c-5d5f1f7fd706,09bccf93-b4a8-4932-a210-92a72a2ae307', 'c8f9690a-c651-41e5-bd00-4cc645411724,164c8d2d-e04b-4427-bff7-a63ecfd8aea2', '4e06ed99-0738-4c19-8f15-168063017965,6abf2d82-c544-4aa0-a4fe-6785033bc527', 'c2bdb5af-407b-4147-82e8-fe7f6096f57d,bc0cd691-bc67-452f-a5b3-bc0b8ed28df6', 'f047a365-ad8b-444d-a875-29f327873648,955653db-42f3-4a2e-8294-93802a000514', '5b5a9507-c049-4612-a741-662d96a7e8ec,adbda256-2486-47eb-842b-193aca81567d', 'f6424cf1-1440-4995-9d55-6a15c53d01f2,4ff2c479-e5d4-4b12-becd-02670b827b11', '6bb0f7be-825c-4d3d-aaff-d293752920f0,2856aa83-9d7b-4119-9cd0-0dca5cdac807', '505285f8-c778-4e62-bab3-adfac414f8c7,05d13076-b936-4a91-9e34-faa9b0111a88', '09a9baba-7dd8-4de2-813f-eb227bcef086,47220afb-73a3-4a4e-b9bb-bca0679d4009', 'ed76cf71-9923-4131-8b5f-80075a830a5e,ea69ebd8-0386-481c-8a5e-3a955e47fa91', 'dfe27396-13d8-4b22-b452-44383371cfe3,32465f2b-cf76-4f5d-91ee-393df9f639dd', '31f3b5b3-0246-41f5-938f-32b1a42bedc0,fc1b589a-d19f-4af4-8ee5-6a6801740f92', '68f29380-d15d-42c4-a5fe-ac6dedfba1bd,eba9fb72-5f96-40b8-9fae-c48f797db22a', '3daaccfd-9ed1-43d1-82ab-99cf1524af29,689b494d-c83e-4544-845d-23cc216922ee', 'e95fc27a-87d1-4a61-b4d7-caa6b20b4073,0cd6fb64-3670-4b40-b3ba-8d0aa637511d', 'e93638be-b8dc-4b85-98fb-4ddb6f0de506,41197462-1c7a-4473-ab6b-2037a891d782', 'fcc8c7b1-0f68-44f2-b4b1-5f8fcc36d374,ced54a5c-6bc3-4d16-ba8d-1be9f451fc78', '0eed48a7-5232-4c34-a0d8-f717b25cf886,24d5e468-57ee-48fe-802d-b7978ce058f7', 'aa050e71-92fd-42ee-9086-6a4e4ccc8fd7,03a81c3b-33af-4b32-bf56-76f519c9c38d', '120a3794-e62d-4aad-9ea6-cf3552c98d57,fb2c6e10-659a-4eda-b83b-6700611f9fdb', 'd5d5d192-1482-4d8f-abe7-eb2f665f2310,ae2ca5ec-5b7f-47cc-8c00-9f196ca596dd', '9fb5522b-f3f7-4f2a-8c6f-472c719688ec,72d66b1e-809a-4fdf-8c95-028edbe461a7', '563d3144-1799-4c71-b562-f33e471c6c40,f8ea56ef-e454-4b61-bcbf-318ca49c8f8d', '890644c0-86f0-4ac7-bb35-b20fa9cc42da,750ef289-3fc5-472c-ae4f-0999e319e6bf', '613a04d2-b1be-4bc3-9e73-4c6d5c36f075,c501dc62-2cbe-48d8-8fda-78971bcb8179', '5214ea39-8b1d-49ed-9bc8-95863e33d71e,f1daf3d1-0c43-4a27-84c9-e5d8bc49d503', 'd6ddbc3e-635b-40c9-9903-580a6f0f8c90,4670a8c3-a402-46c0-827f-408a3bddd66f', 'ad76ad80-4b26-4654-ae9e-87d6c1fe8efd,658925de-f3bb-4a34-8405-c16f07d40c41', 'other', 'e9e5674b-f290-4862-b68c-f8ad56a69959,211a738b-9206-44d1-a7aa-7d24a71a3a80', '5e1d5542-33f3-4808-a8cd-347195df3c6d,74228a5e-7c98-4e56-9e6c-a8225025c75a', 'fcdca447-3336-400d-a6f9-d6ed4661f290,2d113bc4-6843-4416-9fdd-1232c14f3bc7', '751e7563-dca5-4e22-b622-6616846d39f3,2db17d26-987d-405b-95d9-6eb8e0d8755e', '6413b546-d752-4271-879f-77ad68a6dfed,77963b63-9df1-4b40-8420-00cbdc3a701b'])],\n",
       "      dtype=object)"
      ]
     },
     "execution_count": 15,
     "metadata": {},
     "output_type": "execute_result"
    }
   ],
   "source": [
    "df[df.taxon_flat_unique == 429].Taxon_List.values"
   ]
  },
  {
   "cell_type": "code",
   "execution_count": 16,
   "metadata": {},
   "outputs": [
    {
     "data": {
      "text/plain": [
       "array(['/vehicle-tax<<EVENT<:<browser-check<:<prompt-shown<<1de432b7-2331-4450-9667-374d56e7f084>>/vehicle-tax<<EVENT<:<browser-check<:<prompt-shown<<1de432b7-2331-4450-9667-374d56e7f084>>/vehicle-tax<<EVENT<:<browser-check<:<prompt-shown<<1de432b7-2331-4450-9667-374d56e7f084>>/vehicle-tax<<EVENT<:<browser-check<:<prompt-shown<<1de432b7-2331-4450-9667-374d56e7f084',\n",
       "       '/contact-ukvi-inside-outside-uk<<<PAGE<:<NULL<:<NULL<<other>>/contact-ukvi-inside-outside-uk<<<PAGE<:<NULL<:<NULL<<other>>/contact-ukvi-inside-outside-uk<<<PAGE<:<NULL<:<NULL<<other',\n",
       "       '/vehicle-tax<<EVENT<:<browser-check<:<prompt-shown<<1de432b7-2331-4450-9667-374d56e7f084>>/vehicle-tax<<EVENT<:<browser-check<:<prompt-shown<<1de432b7-2331-4450-9667-374d56e7f084'],\n",
       "      dtype=object)"
      ]
     },
     "execution_count": 16,
     "metadata": {},
     "output_type": "execute_result"
    }
   ],
   "source": [
    "df[df.taxon_flat_unique == 0].Sequence.values"
   ]
  },
  {
   "cell_type": "code",
   "execution_count": 17,
   "metadata": {},
   "outputs": [],
   "source": [
    "def taxon_split(taxon_list):\n",
    "    return [t for taxon in taxon_list for t in taxon.split(\",\")]"
   ]
  },
  {
   "cell_type": "code",
   "execution_count": 18,
   "metadata": {},
   "outputs": [
    {
     "data": {
      "text/plain": [
       "2452"
      ]
     },
     "execution_count": 18,
     "metadata": {},
     "output_type": "execute_result"
    }
   ],
   "source": [
    "#### Build list of unique taxons, excluding \"other\"\n",
    "taxon_counter = Counter()\n",
    "for tup in df.itertuples():\n",
    "    taxons = taxon_split(tup.Taxon_List)\n",
    "    for taxon in taxons:\n",
    "        taxon_counter[taxon]+=1\n",
    "len(taxon_counter)            "
   ]
  },
  {
   "cell_type": "code",
   "execution_count": 19,
   "metadata": {},
   "outputs": [
    {
     "data": {
      "text/plain": [
       "['895732d7-177b-4def-8997-f1afc4364415',\n",
       " '3564cf4e-506c-42fa-bdd3-e95e7908645f',\n",
       " 'other',\n",
       " 'd1e5dcf5-5f36-4838-bcb6-f0068eddb8a7',\n",
       " '1de432b7-2331-4450-9667-374d56e7f084',\n",
       " '21bfd8f6-3360-43f9-be42-b00002982d70',\n",
       " '62fcbba5-3a75-4d15-85a6-d8a80b03d57c',\n",
       " '0fffa994-b76d-4539-8bf9-2a6c6751580d',\n",
       " '1f3d1ae8-aba7-4e02-abbc-6b54e6ff66aa',\n",
       " '6126d57d-df55-4f31-86ec-6d4388b513b1']"
      ]
     },
     "execution_count": 19,
     "metadata": {},
     "output_type": "execute_result"
    }
   ],
   "source": [
    "list(taxon_counter.keys())[0:10]"
   ]
  },
  {
   "cell_type": "code",
   "execution_count": 20,
   "metadata": {},
   "outputs": [
    {
     "data": {
      "text/plain": [
       "[('other', 1900273),\n",
       " ('d1e5dcf5-5f36-4838-bcb6-f0068eddb8a7', 254766),\n",
       " ('1de432b7-2331-4450-9667-374d56e7f084', 213517),\n",
       " ('ebeaf804-c1b1-40cd-920f-319aa2b56ba3', 205626),\n",
       " ('05a9527b-e6e9-4a68-8dd7-7d84e6a24eef', 189059),\n",
       " ('104ee859-8278-406b-80cb-5727373e0198', 186285),\n",
       " ('536f83c0-8c67-47a3-88a4-d5b1eda591ed', 183216),\n",
       " ('2a1bd1b1-5025-4313-9e5b-8352dd46f1d6', 162677),\n",
       " ('a7f3005b-a3cd-4060-a127-725accb54f2e', 158150),\n",
       " ('29480b00-dc4d-49a0-b48c-25dda8569325', 148155)]"
      ]
     },
     "execution_count": 20,
     "metadata": {},
     "output_type": "execute_result"
    }
   ],
   "source": [
    "taxon_counter.most_common(10)"
   ]
  },
  {
   "cell_type": "markdown",
   "metadata": {},
   "source": [
    "#### Map taxon `content_id` to `base_path` using content tagger extract"
   ]
  },
  {
   "cell_type": "code",
   "execution_count": 21,
   "metadata": {},
   "outputs": [],
   "source": [
    "taxon_path = os.path.join(os.getenv(\"DOCUMENTS\"),\"taxons.json.gz\")\n",
    "taxon_df = pd.read_json(taxon_path,compression=\"gzip\")"
   ]
  },
  {
   "cell_type": "code",
   "execution_count": 22,
   "metadata": {},
   "outputs": [],
   "source": [
    "# taxon_path = os.path.join(os.path.dirname(os.getenv(\"DOCUMENTS\")), \"Downloads\", \"2018-11-19 Taxonomy.csv\")\n",
    "# taxon_df = pd.read_csv(taxon_path)"
   ]
  },
  {
   "cell_type": "code",
   "execution_count": 23,
   "metadata": {},
   "outputs": [
    {
     "data": {
      "text/html": [
       "<div>\n",
       "<style scoped>\n",
       "    .dataframe tbody tr th:only-of-type {\n",
       "        vertical-align: middle;\n",
       "    }\n",
       "\n",
       "    .dataframe tbody tr th {\n",
       "        vertical-align: top;\n",
       "    }\n",
       "\n",
       "    .dataframe thead th {\n",
       "        text-align: right;\n",
       "    }\n",
       "</style>\n",
       "<table border=\"1\" class=\"dataframe\">\n",
       "  <thead>\n",
       "    <tr style=\"text-align: right;\">\n",
       "      <th></th>\n",
       "      <th>base_path</th>\n",
       "      <th>content_id</th>\n",
       "      <th>parent_content_id</th>\n",
       "      <th>title</th>\n",
       "    </tr>\n",
       "  </thead>\n",
       "  <tbody>\n",
       "    <tr>\n",
       "      <th>0</th>\n",
       "      <td>/education</td>\n",
       "      <td>c58fdadd-7743-46d6-9629-90bb3ccc4ef0</td>\n",
       "      <td>NaN</td>\n",
       "      <td>Education, training and skills</td>\n",
       "    </tr>\n",
       "    <tr>\n",
       "      <th>1</th>\n",
       "      <td>/defence</td>\n",
       "      <td>e491505c-77ae-45b2-84be-8c94b94f6a2b</td>\n",
       "      <td>NaN</td>\n",
       "      <td>Defence</td>\n",
       "    </tr>\n",
       "    <tr>\n",
       "      <th>2</th>\n",
       "      <td>/life-circumstances</td>\n",
       "      <td>20086ead-41fc-49cf-8a62-d4e1126f41fc</td>\n",
       "      <td>NaN</td>\n",
       "      <td>Life circumstances</td>\n",
       "    </tr>\n",
       "    <tr>\n",
       "      <th>3</th>\n",
       "      <td>/money</td>\n",
       "      <td>6acc9db4-780e-4a46-92b4-1812e3c2c48a</td>\n",
       "      <td>NaN</td>\n",
       "      <td>Money</td>\n",
       "    </tr>\n",
       "    <tr>\n",
       "      <th>4</th>\n",
       "      <td>/government/all</td>\n",
       "      <td>e48ab80a-de80-4e83-bf59-26316856a5f9</td>\n",
       "      <td>NaN</td>\n",
       "      <td>Government</td>\n",
       "    </tr>\n",
       "    <tr>\n",
       "      <th>5</th>\n",
       "      <td>/childcare-parenting</td>\n",
       "      <td>206b7f3a-49b5-476f-af0f-fd27e2a68473</td>\n",
       "      <td>NaN</td>\n",
       "      <td>Parenting, childcare and children's services</td>\n",
       "    </tr>\n",
       "    <tr>\n",
       "      <th>6</th>\n",
       "      <td>/regional-and-local-government</td>\n",
       "      <td>503c5bc7-809a-47b9-83e2-bd0c212dbabb</td>\n",
       "      <td>NaN</td>\n",
       "      <td>Regional and local government</td>\n",
       "    </tr>\n",
       "    <tr>\n",
       "      <th>7</th>\n",
       "      <td>/employment</td>\n",
       "      <td>d0f1e5a3-c8f4-4780-8678-994f19104b21</td>\n",
       "      <td>NaN</td>\n",
       "      <td>Work</td>\n",
       "    </tr>\n",
       "    <tr>\n",
       "      <th>8</th>\n",
       "      <td>/entering-staying-uk</td>\n",
       "      <td>ba3a9702-da22-487f-86c1-8334a730e559</td>\n",
       "      <td>NaN</td>\n",
       "      <td>Entering and staying in the UK</td>\n",
       "    </tr>\n",
       "    <tr>\n",
       "      <th>9</th>\n",
       "      <td>/corporate-information</td>\n",
       "      <td>a544d48b-1e9e-47fb-b427-7a987c658c14</td>\n",
       "      <td>NaN</td>\n",
       "      <td>Corporate information</td>\n",
       "    </tr>\n",
       "    <tr>\n",
       "      <th>10</th>\n",
       "      <td>/going-and-being-abroad</td>\n",
       "      <td>9597c30a-605a-4e36-8bc1-47e5cdae41b3</td>\n",
       "      <td>NaN</td>\n",
       "      <td>Going and being abroad</td>\n",
       "    </tr>\n",
       "    <tr>\n",
       "      <th>11</th>\n",
       "      <td>/health-and-social-care</td>\n",
       "      <td>8124ead8-8ebc-4faf-88ad-dd5cbcc92ba8</td>\n",
       "      <td>NaN</td>\n",
       "      <td>Health and social care</td>\n",
       "    </tr>\n",
       "    <tr>\n",
       "      <th>12</th>\n",
       "      <td>/international</td>\n",
       "      <td>37d0fa26-abed-4c74-8835-b3b51ae1c8b2</td>\n",
       "      <td>NaN</td>\n",
       "      <td>International</td>\n",
       "    </tr>\n",
       "    <tr>\n",
       "      <th>13</th>\n",
       "      <td>/society-and-culture</td>\n",
       "      <td>e2ca2f1a-0ff3-43ce-b813-16645ff27904</td>\n",
       "      <td>NaN</td>\n",
       "      <td>Society and culture</td>\n",
       "    </tr>\n",
       "    <tr>\n",
       "      <th>14</th>\n",
       "      <td>/business/all</td>\n",
       "      <td>495afdb6-47be-4df1-8b38-91c8adb1eefc</td>\n",
       "      <td>NaN</td>\n",
       "      <td>Business</td>\n",
       "    </tr>\n",
       "    <tr>\n",
       "      <th>15</th>\n",
       "      <td>/environment</td>\n",
       "      <td>3cf97f69-84de-41ae-bc7b-7e2cc238fa58</td>\n",
       "      <td>NaN</td>\n",
       "      <td>Environment</td>\n",
       "    </tr>\n",
       "    <tr>\n",
       "      <th>16</th>\n",
       "      <td>/housing-local-and-community</td>\n",
       "      <td>4794066e-e3cc-425e-8cc4-e7ff3edb4c39</td>\n",
       "      <td>NaN</td>\n",
       "      <td>Housing, local and community</td>\n",
       "    </tr>\n",
       "    <tr>\n",
       "      <th>17</th>\n",
       "      <td>/crime-justice-and-law</td>\n",
       "      <td>ba951b09-5146-43be-87af-44075eac3ae9</td>\n",
       "      <td>NaN</td>\n",
       "      <td>Crime, justice and law</td>\n",
       "    </tr>\n",
       "    <tr>\n",
       "      <th>18</th>\n",
       "      <td>/welfare</td>\n",
       "      <td>dded88e2-f92e-424f-b73e-6ad24a839c51</td>\n",
       "      <td>NaN</td>\n",
       "      <td>Welfare</td>\n",
       "    </tr>\n",
       "    <tr>\n",
       "      <th>19</th>\n",
       "      <td>/transport/all</td>\n",
       "      <td>a4038b29-b332-4f13-98b1-1c9709e216bc</td>\n",
       "      <td>NaN</td>\n",
       "      <td>Transport</td>\n",
       "    </tr>\n",
       "    <tr>\n",
       "      <th>20</th>\n",
       "      <td>/education/further-and-higher-education-skills...</td>\n",
       "      <td>dd767840-363e-43ad-8835-c9ab516633de</td>\n",
       "      <td>c58fdadd-7743-46d6-9629-90bb3ccc4ef0</td>\n",
       "      <td>Further and higher education, skills and vocat...</td>\n",
       "    </tr>\n",
       "    <tr>\n",
       "      <th>21</th>\n",
       "      <td>/education/pupil-wellbeing-behaviour-and-atten...</td>\n",
       "      <td>db605204-0f03-441b-837f-16613c6b3f8f</td>\n",
       "      <td>c58fdadd-7743-46d6-9629-90bb3ccc4ef0</td>\n",
       "      <td>Pupil wellbeing, behaviour and attendance</td>\n",
       "    </tr>\n",
       "    <tr>\n",
       "      <th>22</th>\n",
       "      <td>/education/teaching-and-leadership</td>\n",
       "      <td>ff00b8b2-dcdb-4659-93c2-291c9be354f3</td>\n",
       "      <td>c58fdadd-7743-46d6-9629-90bb3ccc4ef0</td>\n",
       "      <td>Teaching and leadership</td>\n",
       "    </tr>\n",
       "    <tr>\n",
       "      <th>23</th>\n",
       "      <td>/education/inspections-and-performance-of-educ...</td>\n",
       "      <td>f0dcb0b9-2f2c-46b0-adea-42a4fe608170</td>\n",
       "      <td>c58fdadd-7743-46d6-9629-90bb3ccc4ef0</td>\n",
       "      <td>Inspections and performance of education provi...</td>\n",
       "    </tr>\n",
       "    <tr>\n",
       "      <th>24</th>\n",
       "      <td>/education/education-of-disadvantaged-children</td>\n",
       "      <td>d2005b89-352f-4896-aced-1d17504330e6</td>\n",
       "      <td>c58fdadd-7743-46d6-9629-90bb3ccc4ef0</td>\n",
       "      <td>Education of disadvantaged children</td>\n",
       "    </tr>\n",
       "    <tr>\n",
       "      <th>25</th>\n",
       "      <td>/education/starting-and-attending-school</td>\n",
       "      <td>a8bffaae-5c8c-439f-92f0-c9fbf32ce1d9</td>\n",
       "      <td>c58fdadd-7743-46d6-9629-90bb3ccc4ef0</td>\n",
       "      <td>Starting and attending school</td>\n",
       "    </tr>\n",
       "    <tr>\n",
       "      <th>26</th>\n",
       "      <td>/education/running-and-managing-a-school</td>\n",
       "      <td>42e6e5c3-3a06-4a6f-abd4-a4b85d9c6b16</td>\n",
       "      <td>c58fdadd-7743-46d6-9629-90bb3ccc4ef0</td>\n",
       "      <td>Running and managing a school</td>\n",
       "    </tr>\n",
       "    <tr>\n",
       "      <th>27</th>\n",
       "      <td>/education/school-and-academy-financial-manage...</td>\n",
       "      <td>1a26ae19-00f2-4be1-b9b6-aa72876a0278</td>\n",
       "      <td>c58fdadd-7743-46d6-9629-90bb3ccc4ef0</td>\n",
       "      <td>School and academy financial management and as...</td>\n",
       "    </tr>\n",
       "    <tr>\n",
       "      <th>28</th>\n",
       "      <td>/education/funding-and-finance-for-students</td>\n",
       "      <td>23265b25-7ec3-4960-8517-4ff8d4d92cac</td>\n",
       "      <td>c58fdadd-7743-46d6-9629-90bb3ccc4ef0</td>\n",
       "      <td>Funding and finance for students</td>\n",
       "    </tr>\n",
       "    <tr>\n",
       "      <th>29</th>\n",
       "      <td>/education/school-curriculum</td>\n",
       "      <td>7c75c541-403f-4cb1-9b34-4ddde816a80d</td>\n",
       "      <td>c58fdadd-7743-46d6-9629-90bb3ccc4ef0</td>\n",
       "      <td>School curriculum</td>\n",
       "    </tr>\n",
       "    <tr>\n",
       "      <th>...</th>\n",
       "      <td>...</td>\n",
       "      <td>...</td>\n",
       "      <td>...</td>\n",
       "      <td>...</td>\n",
       "    </tr>\n",
       "    <tr>\n",
       "      <th>1922</th>\n",
       "      <td>/transport/coastguard-search-and-rescue</td>\n",
       "      <td>99ad06b5-f5ff-4deb-b413-a5d3b0dc2010</td>\n",
       "      <td>4a9ab4d7-0d03-4c61-9e16-47787cbf53cd</td>\n",
       "      <td>Coastguard search and rescue</td>\n",
       "    </tr>\n",
       "    <tr>\n",
       "      <th>1923</th>\n",
       "      <td>/transport/fishing</td>\n",
       "      <td>e8aba455-679f-4d85-a671-32e5a550211d</td>\n",
       "      <td>4a9ab4d7-0d03-4c61-9e16-47787cbf53cd</td>\n",
       "      <td>Fishing</td>\n",
       "    </tr>\n",
       "    <tr>\n",
       "      <th>1924</th>\n",
       "      <td>/transport/maritime-enforcement</td>\n",
       "      <td>7178bed9-3c8c-40a3-bf98-bda077e4ce68</td>\n",
       "      <td>4a9ab4d7-0d03-4c61-9e16-47787cbf53cd</td>\n",
       "      <td>Maritime enforcement and prosecution</td>\n",
       "    </tr>\n",
       "    <tr>\n",
       "      <th>1925</th>\n",
       "      <td>/transport/vessel-registration-and-design</td>\n",
       "      <td>d7c7489a-07f4-4c3f-af97-acacff6619ef</td>\n",
       "      <td>4a9ab4d7-0d03-4c61-9e16-47787cbf53cd</td>\n",
       "      <td>Vessel registration and design</td>\n",
       "    </tr>\n",
       "    <tr>\n",
       "      <th>1926</th>\n",
       "      <td>/transport/maritime-surveying</td>\n",
       "      <td>e08f3bc0-8522-4104-b90f-e21db4af56fb</td>\n",
       "      <td>4a9ab4d7-0d03-4c61-9e16-47787cbf53cd</td>\n",
       "      <td>Vessel surveys and inspection</td>\n",
       "    </tr>\n",
       "    <tr>\n",
       "      <th>1927</th>\n",
       "      <td>/transport/ship-crew-management-training-and-c...</td>\n",
       "      <td>f9581ec6-e4d2-4a68-b187-b364d3f90e76</td>\n",
       "      <td>4a9ab4d7-0d03-4c61-9e16-47787cbf53cd</td>\n",
       "      <td>Seafarer management, training and certification</td>\n",
       "    </tr>\n",
       "    <tr>\n",
       "      <th>1928</th>\n",
       "      <td>/transport/maritime-navigation</td>\n",
       "      <td>f41ababe-749f-4524-b8e9-845ad5d3e632</td>\n",
       "      <td>4a9ab4d7-0d03-4c61-9e16-47787cbf53cd</td>\n",
       "      <td>Maritime navigation</td>\n",
       "    </tr>\n",
       "    <tr>\n",
       "      <th>1929</th>\n",
       "      <td>/transport/maritime-security</td>\n",
       "      <td>70a8cd19-03f8-4b8a-80bd-b444f402bc9a</td>\n",
       "      <td>4a9ab4d7-0d03-4c61-9e16-47787cbf53cd</td>\n",
       "      <td>Maritime security</td>\n",
       "    </tr>\n",
       "    <tr>\n",
       "      <th>1930</th>\n",
       "      <td>/transport/maritime-and-the-environment</td>\n",
       "      <td>58244357-ef02-4431-907c-415d65de8e76</td>\n",
       "      <td>4a9ab4d7-0d03-4c61-9e16-47787cbf53cd</td>\n",
       "      <td>Maritime and the environment</td>\n",
       "    </tr>\n",
       "    <tr>\n",
       "      <th>1931</th>\n",
       "      <td>/transport/maritime-safety</td>\n",
       "      <td>f7071a5c-d6dc-4f2e-b83d-83414ae15536</td>\n",
       "      <td>4a9ab4d7-0d03-4c61-9e16-47787cbf53cd</td>\n",
       "      <td>Maritime safety</td>\n",
       "    </tr>\n",
       "    <tr>\n",
       "      <th>1932</th>\n",
       "      <td>/transport/ports-harbours-and-offshore-install...</td>\n",
       "      <td>8d48428d-c9e9-40f6-b133-34ed7cb6c1e2</td>\n",
       "      <td>4a9ab4d7-0d03-4c61-9e16-47787cbf53cd</td>\n",
       "      <td>Ports, harbours and offshore installations</td>\n",
       "    </tr>\n",
       "    <tr>\n",
       "      <th>1933</th>\n",
       "      <td>/transport/maritime-accidents-wrecks</td>\n",
       "      <td>7a5e878e-2b0f-4c3f-9079-586590a1a194</td>\n",
       "      <td>4a9ab4d7-0d03-4c61-9e16-47787cbf53cd</td>\n",
       "      <td>Maritime accidents and wrecks</td>\n",
       "    </tr>\n",
       "    <tr>\n",
       "      <th>1934</th>\n",
       "      <td>/transport/waterways-maritime</td>\n",
       "      <td>f55e6f46-32e8-4f5e-9130-8eb58dadf70b</td>\n",
       "      <td>4a9ab4d7-0d03-4c61-9e16-47787cbf53cd</td>\n",
       "      <td>Waterways (maritime)</td>\n",
       "    </tr>\n",
       "    <tr>\n",
       "      <th>1935</th>\n",
       "      <td>/transport/maritime-passenger-rights</td>\n",
       "      <td>f050ce66-7f5d-4114-bf4b-fe7987561ccc</td>\n",
       "      <td>4a9ab4d7-0d03-4c61-9e16-47787cbf53cd</td>\n",
       "      <td>Maritime passenger rights</td>\n",
       "    </tr>\n",
       "    <tr>\n",
       "      <th>1936</th>\n",
       "      <td>/transport/uk-sea-passengers</td>\n",
       "      <td>264b70fc-8063-480e-8652-9297d40efd2d</td>\n",
       "      <td>4a9ab4d7-0d03-4c61-9e16-47787cbf53cd</td>\n",
       "      <td>UK sea passengers</td>\n",
       "    </tr>\n",
       "    <tr>\n",
       "      <th>1937</th>\n",
       "      <td>/transport/ship-equipment</td>\n",
       "      <td>e6e60c46-26da-49b6-8f43-c77f2e27d1f0</td>\n",
       "      <td>d7c7489a-07f4-4c3f-af97-acacff6619ef</td>\n",
       "      <td>Ship equipment</td>\n",
       "    </tr>\n",
       "    <tr>\n",
       "      <th>1938</th>\n",
       "      <td>/transport/vessel-design</td>\n",
       "      <td>779a3cc9-2c75-43b9-abc4-435a5cdb5cdc</td>\n",
       "      <td>d7c7489a-07f4-4c3f-af97-acacff6619ef</td>\n",
       "      <td>Vessel design</td>\n",
       "    </tr>\n",
       "    <tr>\n",
       "      <th>1939</th>\n",
       "      <td>/transport/vessel-registration</td>\n",
       "      <td>6fae7839-999f-4df4-bf13-7ccb75190806</td>\n",
       "      <td>d7c7489a-07f4-4c3f-af97-acacff6619ef</td>\n",
       "      <td>Vessel registration</td>\n",
       "    </tr>\n",
       "    <tr>\n",
       "      <th>1940</th>\n",
       "      <td>/transport/ship-crew-training-and-certification</td>\n",
       "      <td>0ba27d1c-cfb9-4b0b-a8b9-dc633506096a</td>\n",
       "      <td>f9581ec6-e4d2-4a68-b187-b364d3f90e76</td>\n",
       "      <td>Ship crew training and certification</td>\n",
       "    </tr>\n",
       "    <tr>\n",
       "      <th>1941</th>\n",
       "      <td>/transport/ship-crew-health-and-safety</td>\n",
       "      <td>86db0cbd-a1f9-4218-b571-ca0550265e33</td>\n",
       "      <td>f9581ec6-e4d2-4a68-b187-b364d3f90e76</td>\n",
       "      <td>Ship crew health and safety</td>\n",
       "    </tr>\n",
       "    <tr>\n",
       "      <th>1942</th>\n",
       "      <td>/transport/employment-of-seafarers</td>\n",
       "      <td>7141c208-70d6-4858-aac2-f59ab52e8b38</td>\n",
       "      <td>f9581ec6-e4d2-4a68-b187-b364d3f90e76</td>\n",
       "      <td>Employment of seafarers</td>\n",
       "    </tr>\n",
       "    <tr>\n",
       "      <th>1943</th>\n",
       "      <td>/transport/life-saving-appliances</td>\n",
       "      <td>8dca7d9b-b2de-4224-b2ad-2bfc3943561c</td>\n",
       "      <td>f7071a5c-d6dc-4f2e-b83d-83414ae15536</td>\n",
       "      <td>Life saving appliances (LSA)</td>\n",
       "    </tr>\n",
       "    <tr>\n",
       "      <th>1944</th>\n",
       "      <td>/transport/safe-and-compliant-operation-of-ves...</td>\n",
       "      <td>4601a835-042a-4e96-afcc-fbf6a40bb9c6</td>\n",
       "      <td>f7071a5c-d6dc-4f2e-b83d-83414ae15536</td>\n",
       "      <td>Safe and compliant operation of vessels</td>\n",
       "    </tr>\n",
       "    <tr>\n",
       "      <th>1945</th>\n",
       "      <td>/transport/transporting-dangerous-goods</td>\n",
       "      <td>792441e6-9c05-4991-beb6-9970d15a5acd</td>\n",
       "      <td>3e4df71e-474d-4a40-bd6a-b3072affa151</td>\n",
       "      <td>Transporting dangerous goods</td>\n",
       "    </tr>\n",
       "    <tr>\n",
       "      <th>1946</th>\n",
       "      <td>/transport/vessel-cargo</td>\n",
       "      <td>a44e9afd-6e09-4dcf-90a3-18e8e8708cb7</td>\n",
       "      <td>3e4df71e-474d-4a40-bd6a-b3072affa151</td>\n",
       "      <td>Vessel cargo</td>\n",
       "    </tr>\n",
       "    <tr>\n",
       "      <th>1947</th>\n",
       "      <td>/transport/rail-freight</td>\n",
       "      <td>c69bef42-a59e-419c-ba8f-9e53a3b46018</td>\n",
       "      <td>3e4df71e-474d-4a40-bd6a-b3072affa151</td>\n",
       "      <td>Rail freight and cargo</td>\n",
       "    </tr>\n",
       "    <tr>\n",
       "      <th>1948</th>\n",
       "      <td>/transport/road-freight</td>\n",
       "      <td>2f9dba8b-83a2-4d99-b61b-a8738fa4e855</td>\n",
       "      <td>3e4df71e-474d-4a40-bd6a-b3072affa151</td>\n",
       "      <td>Road freight</td>\n",
       "    </tr>\n",
       "    <tr>\n",
       "      <th>1949</th>\n",
       "      <td>/transport/safe-transport-of-dangerous-goods-b...</td>\n",
       "      <td>190f2077-b295-4339-b865-729a0283595c</td>\n",
       "      <td>792441e6-9c05-4991-beb6-9970d15a5acd</td>\n",
       "      <td>Safe transport of dangerous goods by sea</td>\n",
       "    </tr>\n",
       "    <tr>\n",
       "      <th>1950</th>\n",
       "      <td>/transport/safe-transport-of-dangerous-goods-b...</td>\n",
       "      <td>f0ef5339-63d9-4549-9e17-a4372f8c0477</td>\n",
       "      <td>792441e6-9c05-4991-beb6-9970d15a5acd</td>\n",
       "      <td>Safe transport of dangerous goods by road and ...</td>\n",
       "    </tr>\n",
       "    <tr>\n",
       "      <th>1951</th>\n",
       "      <td>/transport/secure-transport-of-dangerous-goods</td>\n",
       "      <td>6abd1a5b-885a-4a42-b3c3-7b74d665189d</td>\n",
       "      <td>792441e6-9c05-4991-beb6-9970d15a5acd</td>\n",
       "      <td>Secure transport of dangerous goods</td>\n",
       "    </tr>\n",
       "  </tbody>\n",
       "</table>\n",
       "<p>1952 rows × 4 columns</p>\n",
       "</div>"
      ],
      "text/plain": [
       "                                              base_path  \\\n",
       "0                                            /education   \n",
       "1                                              /defence   \n",
       "2                                   /life-circumstances   \n",
       "3                                                /money   \n",
       "4                                       /government/all   \n",
       "5                                  /childcare-parenting   \n",
       "6                        /regional-and-local-government   \n",
       "7                                           /employment   \n",
       "8                                  /entering-staying-uk   \n",
       "9                                /corporate-information   \n",
       "10                              /going-and-being-abroad   \n",
       "11                              /health-and-social-care   \n",
       "12                                       /international   \n",
       "13                                 /society-and-culture   \n",
       "14                                        /business/all   \n",
       "15                                         /environment   \n",
       "16                         /housing-local-and-community   \n",
       "17                               /crime-justice-and-law   \n",
       "18                                             /welfare   \n",
       "19                                       /transport/all   \n",
       "20    /education/further-and-higher-education-skills...   \n",
       "21    /education/pupil-wellbeing-behaviour-and-atten...   \n",
       "22                   /education/teaching-and-leadership   \n",
       "23    /education/inspections-and-performance-of-educ...   \n",
       "24       /education/education-of-disadvantaged-children   \n",
       "25             /education/starting-and-attending-school   \n",
       "26             /education/running-and-managing-a-school   \n",
       "27    /education/school-and-academy-financial-manage...   \n",
       "28          /education/funding-and-finance-for-students   \n",
       "29                         /education/school-curriculum   \n",
       "...                                                 ...   \n",
       "1922            /transport/coastguard-search-and-rescue   \n",
       "1923                                 /transport/fishing   \n",
       "1924                    /transport/maritime-enforcement   \n",
       "1925          /transport/vessel-registration-and-design   \n",
       "1926                      /transport/maritime-surveying   \n",
       "1927  /transport/ship-crew-management-training-and-c...   \n",
       "1928                     /transport/maritime-navigation   \n",
       "1929                       /transport/maritime-security   \n",
       "1930            /transport/maritime-and-the-environment   \n",
       "1931                         /transport/maritime-safety   \n",
       "1932  /transport/ports-harbours-and-offshore-install...   \n",
       "1933               /transport/maritime-accidents-wrecks   \n",
       "1934                      /transport/waterways-maritime   \n",
       "1935               /transport/maritime-passenger-rights   \n",
       "1936                       /transport/uk-sea-passengers   \n",
       "1937                          /transport/ship-equipment   \n",
       "1938                           /transport/vessel-design   \n",
       "1939                     /transport/vessel-registration   \n",
       "1940    /transport/ship-crew-training-and-certification   \n",
       "1941             /transport/ship-crew-health-and-safety   \n",
       "1942                 /transport/employment-of-seafarers   \n",
       "1943                  /transport/life-saving-appliances   \n",
       "1944  /transport/safe-and-compliant-operation-of-ves...   \n",
       "1945            /transport/transporting-dangerous-goods   \n",
       "1946                            /transport/vessel-cargo   \n",
       "1947                            /transport/rail-freight   \n",
       "1948                            /transport/road-freight   \n",
       "1949  /transport/safe-transport-of-dangerous-goods-b...   \n",
       "1950  /transport/safe-transport-of-dangerous-goods-b...   \n",
       "1951     /transport/secure-transport-of-dangerous-goods   \n",
       "\n",
       "                                content_id  \\\n",
       "0     c58fdadd-7743-46d6-9629-90bb3ccc4ef0   \n",
       "1     e491505c-77ae-45b2-84be-8c94b94f6a2b   \n",
       "2     20086ead-41fc-49cf-8a62-d4e1126f41fc   \n",
       "3     6acc9db4-780e-4a46-92b4-1812e3c2c48a   \n",
       "4     e48ab80a-de80-4e83-bf59-26316856a5f9   \n",
       "5     206b7f3a-49b5-476f-af0f-fd27e2a68473   \n",
       "6     503c5bc7-809a-47b9-83e2-bd0c212dbabb   \n",
       "7     d0f1e5a3-c8f4-4780-8678-994f19104b21   \n",
       "8     ba3a9702-da22-487f-86c1-8334a730e559   \n",
       "9     a544d48b-1e9e-47fb-b427-7a987c658c14   \n",
       "10    9597c30a-605a-4e36-8bc1-47e5cdae41b3   \n",
       "11    8124ead8-8ebc-4faf-88ad-dd5cbcc92ba8   \n",
       "12    37d0fa26-abed-4c74-8835-b3b51ae1c8b2   \n",
       "13    e2ca2f1a-0ff3-43ce-b813-16645ff27904   \n",
       "14    495afdb6-47be-4df1-8b38-91c8adb1eefc   \n",
       "15    3cf97f69-84de-41ae-bc7b-7e2cc238fa58   \n",
       "16    4794066e-e3cc-425e-8cc4-e7ff3edb4c39   \n",
       "17    ba951b09-5146-43be-87af-44075eac3ae9   \n",
       "18    dded88e2-f92e-424f-b73e-6ad24a839c51   \n",
       "19    a4038b29-b332-4f13-98b1-1c9709e216bc   \n",
       "20    dd767840-363e-43ad-8835-c9ab516633de   \n",
       "21    db605204-0f03-441b-837f-16613c6b3f8f   \n",
       "22    ff00b8b2-dcdb-4659-93c2-291c9be354f3   \n",
       "23    f0dcb0b9-2f2c-46b0-adea-42a4fe608170   \n",
       "24    d2005b89-352f-4896-aced-1d17504330e6   \n",
       "25    a8bffaae-5c8c-439f-92f0-c9fbf32ce1d9   \n",
       "26    42e6e5c3-3a06-4a6f-abd4-a4b85d9c6b16   \n",
       "27    1a26ae19-00f2-4be1-b9b6-aa72876a0278   \n",
       "28    23265b25-7ec3-4960-8517-4ff8d4d92cac   \n",
       "29    7c75c541-403f-4cb1-9b34-4ddde816a80d   \n",
       "...                                    ...   \n",
       "1922  99ad06b5-f5ff-4deb-b413-a5d3b0dc2010   \n",
       "1923  e8aba455-679f-4d85-a671-32e5a550211d   \n",
       "1924  7178bed9-3c8c-40a3-bf98-bda077e4ce68   \n",
       "1925  d7c7489a-07f4-4c3f-af97-acacff6619ef   \n",
       "1926  e08f3bc0-8522-4104-b90f-e21db4af56fb   \n",
       "1927  f9581ec6-e4d2-4a68-b187-b364d3f90e76   \n",
       "1928  f41ababe-749f-4524-b8e9-845ad5d3e632   \n",
       "1929  70a8cd19-03f8-4b8a-80bd-b444f402bc9a   \n",
       "1930  58244357-ef02-4431-907c-415d65de8e76   \n",
       "1931  f7071a5c-d6dc-4f2e-b83d-83414ae15536   \n",
       "1932  8d48428d-c9e9-40f6-b133-34ed7cb6c1e2   \n",
       "1933  7a5e878e-2b0f-4c3f-9079-586590a1a194   \n",
       "1934  f55e6f46-32e8-4f5e-9130-8eb58dadf70b   \n",
       "1935  f050ce66-7f5d-4114-bf4b-fe7987561ccc   \n",
       "1936  264b70fc-8063-480e-8652-9297d40efd2d   \n",
       "1937  e6e60c46-26da-49b6-8f43-c77f2e27d1f0   \n",
       "1938  779a3cc9-2c75-43b9-abc4-435a5cdb5cdc   \n",
       "1939  6fae7839-999f-4df4-bf13-7ccb75190806   \n",
       "1940  0ba27d1c-cfb9-4b0b-a8b9-dc633506096a   \n",
       "1941  86db0cbd-a1f9-4218-b571-ca0550265e33   \n",
       "1942  7141c208-70d6-4858-aac2-f59ab52e8b38   \n",
       "1943  8dca7d9b-b2de-4224-b2ad-2bfc3943561c   \n",
       "1944  4601a835-042a-4e96-afcc-fbf6a40bb9c6   \n",
       "1945  792441e6-9c05-4991-beb6-9970d15a5acd   \n",
       "1946  a44e9afd-6e09-4dcf-90a3-18e8e8708cb7   \n",
       "1947  c69bef42-a59e-419c-ba8f-9e53a3b46018   \n",
       "1948  2f9dba8b-83a2-4d99-b61b-a8738fa4e855   \n",
       "1949  190f2077-b295-4339-b865-729a0283595c   \n",
       "1950  f0ef5339-63d9-4549-9e17-a4372f8c0477   \n",
       "1951  6abd1a5b-885a-4a42-b3c3-7b74d665189d   \n",
       "\n",
       "                         parent_content_id  \\\n",
       "0                                      NaN   \n",
       "1                                      NaN   \n",
       "2                                      NaN   \n",
       "3                                      NaN   \n",
       "4                                      NaN   \n",
       "5                                      NaN   \n",
       "6                                      NaN   \n",
       "7                                      NaN   \n",
       "8                                      NaN   \n",
       "9                                      NaN   \n",
       "10                                     NaN   \n",
       "11                                     NaN   \n",
       "12                                     NaN   \n",
       "13                                     NaN   \n",
       "14                                     NaN   \n",
       "15                                     NaN   \n",
       "16                                     NaN   \n",
       "17                                     NaN   \n",
       "18                                     NaN   \n",
       "19                                     NaN   \n",
       "20    c58fdadd-7743-46d6-9629-90bb3ccc4ef0   \n",
       "21    c58fdadd-7743-46d6-9629-90bb3ccc4ef0   \n",
       "22    c58fdadd-7743-46d6-9629-90bb3ccc4ef0   \n",
       "23    c58fdadd-7743-46d6-9629-90bb3ccc4ef0   \n",
       "24    c58fdadd-7743-46d6-9629-90bb3ccc4ef0   \n",
       "25    c58fdadd-7743-46d6-9629-90bb3ccc4ef0   \n",
       "26    c58fdadd-7743-46d6-9629-90bb3ccc4ef0   \n",
       "27    c58fdadd-7743-46d6-9629-90bb3ccc4ef0   \n",
       "28    c58fdadd-7743-46d6-9629-90bb3ccc4ef0   \n",
       "29    c58fdadd-7743-46d6-9629-90bb3ccc4ef0   \n",
       "...                                    ...   \n",
       "1922  4a9ab4d7-0d03-4c61-9e16-47787cbf53cd   \n",
       "1923  4a9ab4d7-0d03-4c61-9e16-47787cbf53cd   \n",
       "1924  4a9ab4d7-0d03-4c61-9e16-47787cbf53cd   \n",
       "1925  4a9ab4d7-0d03-4c61-9e16-47787cbf53cd   \n",
       "1926  4a9ab4d7-0d03-4c61-9e16-47787cbf53cd   \n",
       "1927  4a9ab4d7-0d03-4c61-9e16-47787cbf53cd   \n",
       "1928  4a9ab4d7-0d03-4c61-9e16-47787cbf53cd   \n",
       "1929  4a9ab4d7-0d03-4c61-9e16-47787cbf53cd   \n",
       "1930  4a9ab4d7-0d03-4c61-9e16-47787cbf53cd   \n",
       "1931  4a9ab4d7-0d03-4c61-9e16-47787cbf53cd   \n",
       "1932  4a9ab4d7-0d03-4c61-9e16-47787cbf53cd   \n",
       "1933  4a9ab4d7-0d03-4c61-9e16-47787cbf53cd   \n",
       "1934  4a9ab4d7-0d03-4c61-9e16-47787cbf53cd   \n",
       "1935  4a9ab4d7-0d03-4c61-9e16-47787cbf53cd   \n",
       "1936  4a9ab4d7-0d03-4c61-9e16-47787cbf53cd   \n",
       "1937  d7c7489a-07f4-4c3f-af97-acacff6619ef   \n",
       "1938  d7c7489a-07f4-4c3f-af97-acacff6619ef   \n",
       "1939  d7c7489a-07f4-4c3f-af97-acacff6619ef   \n",
       "1940  f9581ec6-e4d2-4a68-b187-b364d3f90e76   \n",
       "1941  f9581ec6-e4d2-4a68-b187-b364d3f90e76   \n",
       "1942  f9581ec6-e4d2-4a68-b187-b364d3f90e76   \n",
       "1943  f7071a5c-d6dc-4f2e-b83d-83414ae15536   \n",
       "1944  f7071a5c-d6dc-4f2e-b83d-83414ae15536   \n",
       "1945  3e4df71e-474d-4a40-bd6a-b3072affa151   \n",
       "1946  3e4df71e-474d-4a40-bd6a-b3072affa151   \n",
       "1947  3e4df71e-474d-4a40-bd6a-b3072affa151   \n",
       "1948  3e4df71e-474d-4a40-bd6a-b3072affa151   \n",
       "1949  792441e6-9c05-4991-beb6-9970d15a5acd   \n",
       "1950  792441e6-9c05-4991-beb6-9970d15a5acd   \n",
       "1951  792441e6-9c05-4991-beb6-9970d15a5acd   \n",
       "\n",
       "                                                  title  \n",
       "0                        Education, training and skills  \n",
       "1                                               Defence  \n",
       "2                                    Life circumstances  \n",
       "3                                                 Money  \n",
       "4                                            Government  \n",
       "5         Parenting, childcare and children's services   \n",
       "6                         Regional and local government  \n",
       "7                                                  Work  \n",
       "8                        Entering and staying in the UK  \n",
       "9                                 Corporate information  \n",
       "10                               Going and being abroad  \n",
       "11                               Health and social care  \n",
       "12                                        International  \n",
       "13                                  Society and culture  \n",
       "14                                             Business  \n",
       "15                                          Environment  \n",
       "16                         Housing, local and community  \n",
       "17                               Crime, justice and law  \n",
       "18                                              Welfare  \n",
       "19                                            Transport  \n",
       "20    Further and higher education, skills and vocat...  \n",
       "21            Pupil wellbeing, behaviour and attendance  \n",
       "22                              Teaching and leadership  \n",
       "23    Inspections and performance of education provi...  \n",
       "24                  Education of disadvantaged children  \n",
       "25                        Starting and attending school  \n",
       "26                        Running and managing a school  \n",
       "27    School and academy financial management and as...  \n",
       "28                     Funding and finance for students  \n",
       "29                                    School curriculum  \n",
       "...                                                 ...  \n",
       "1922                       Coastguard search and rescue  \n",
       "1923                                            Fishing  \n",
       "1924               Maritime enforcement and prosecution  \n",
       "1925                     Vessel registration and design  \n",
       "1926                      Vessel surveys and inspection  \n",
       "1927    Seafarer management, training and certification  \n",
       "1928                                Maritime navigation  \n",
       "1929                                  Maritime security  \n",
       "1930                       Maritime and the environment  \n",
       "1931                                    Maritime safety  \n",
       "1932         Ports, harbours and offshore installations  \n",
       "1933                      Maritime accidents and wrecks  \n",
       "1934                               Waterways (maritime)  \n",
       "1935                          Maritime passenger rights  \n",
       "1936                                  UK sea passengers  \n",
       "1937                                     Ship equipment  \n",
       "1938                                      Vessel design  \n",
       "1939                                Vessel registration  \n",
       "1940               Ship crew training and certification  \n",
       "1941                        Ship crew health and safety  \n",
       "1942                            Employment of seafarers  \n",
       "1943                       Life saving appliances (LSA)  \n",
       "1944            Safe and compliant operation of vessels  \n",
       "1945                       Transporting dangerous goods  \n",
       "1946                                       Vessel cargo  \n",
       "1947                             Rail freight and cargo  \n",
       "1948                                       Road freight  \n",
       "1949           Safe transport of dangerous goods by sea  \n",
       "1950  Safe transport of dangerous goods by road and ...  \n",
       "1951                Secure transport of dangerous goods  \n",
       "\n",
       "[1952 rows x 4 columns]"
      ]
     },
     "execution_count": 23,
     "metadata": {},
     "output_type": "execute_result"
    }
   ],
   "source": [
    "taxon_df"
   ]
  },
  {
   "cell_type": "code",
   "execution_count": 24,
   "metadata": {},
   "outputs": [
    {
     "data": {
      "text/plain": [
       "(1952, 4)"
      ]
     },
     "execution_count": 24,
     "metadata": {},
     "output_type": "execute_result"
    }
   ],
   "source": [
    "taxon_df.shape"
   ]
  },
  {
   "cell_type": "code",
   "execution_count": 25,
   "metadata": {},
   "outputs": [
    {
     "data": {
      "text/plain": [
       "Index(['base_path', 'content_id', 'parent_content_id', 'title'], dtype='object')"
      ]
     },
     "execution_count": 25,
     "metadata": {},
     "output_type": "execute_result"
    }
   ],
   "source": [
    "taxon_df.columns"
   ]
  },
  {
   "cell_type": "code",
   "execution_count": 26,
   "metadata": {},
   "outputs": [],
   "source": [
    "## Count parent taxon,self-parenting if nan\n",
    "counter =0\n",
    "parent_taxons = Counter()\n",
    "for taxon,value in taxon_counter.items():\n",
    "    temp = taxon_df[taxon_df.content_id==taxon]\n",
    "    if temp.shape[0]>0:\n",
    "        taxon_base_path = temp.iloc[0].base_path\n",
    "        parent = None\n",
    "        if isinstance(temp.iloc[0].parent_content_id,str):\n",
    "            parent = taxon_df[taxon_df.content_id == temp.iloc[0].parent_content_id].iloc[0].title\n",
    "        else:\n",
    "            parent = temp.iloc[0].title\n",
    "        parent_taxons[parent]+=value\n",
    "#         print(\"{}, {}, \\nParent: {}\\n=====\".format(taxon,taxon_base_path,parent))\n",
    "#     else:\n",
    "#         print(\"not found:\",taxon,value)\n",
    "#         counter+=1\n",
    "# print(counter)"
   ]
  },
  {
   "cell_type": "code",
   "execution_count": 27,
   "metadata": {},
   "outputs": [
    {
     "data": {
      "text/plain": [
       "[('Welfare', 1236239),\n",
       " ('Vehicle ownership, approval and standards', 671042),\n",
       " ('Working, jobs and pensions', 597467),\n",
       " ('Personal tax', 449094),\n",
       " ('Life circumstances', 262701),\n",
       " ('Work', 255293),\n",
       " ('Business tax', 232142),\n",
       " ('Entering and staying in the UK', 219812),\n",
       " ('Money', 211800),\n",
       " ('Income Tax', 207100),\n",
       " ('Going and being abroad', 206183),\n",
       " ('Business', 191590),\n",
       " ('Financial help if you have children', 186533),\n",
       " ('Visas and entry clearance', 186528),\n",
       " ('Driving licences', 154468),\n",
       " ('Government', 151468),\n",
       " ('Funding and finance for students', 147556),\n",
       " ('Marriage, civil partnership and divorce', 143355),\n",
       " ('Disabled people', 141495),\n",
       " ('Dealing with HMRC', 139396),\n",
       " ('Crime, justice and law', 136132),\n",
       " ('Self-employment', 135378),\n",
       " ('Employing people', 132659),\n",
       " ('Housing', 132016),\n",
       " ('Driving and motorcycle tests', 128843),\n",
       " ('Permanent stay in the UK', 121124),\n",
       " ('Self Assessment', 118495),\n",
       " ('Business and enterprise', 112025),\n",
       " ('Divorce, separation and legal issues', 104543),\n",
       " ('Society and culture', 98378)]"
      ]
     },
     "execution_count": 27,
     "metadata": {},
     "output_type": "execute_result"
    }
   ],
   "source": [
    "list(parent_taxons.most_common(30))"
   ]
  },
  {
   "cell_type": "code",
   "execution_count": 28,
   "metadata": {},
   "outputs": [
    {
     "data": {
      "text/plain": [
       "222"
      ]
     },
     "execution_count": 28,
     "metadata": {},
     "output_type": "execute_result"
    }
   ],
   "source": [
    "len(parent_taxons)"
   ]
  },
  {
   "cell_type": "code",
   "execution_count": 29,
   "metadata": {},
   "outputs": [],
   "source": [
    "### Assign unique parent taxons per journey"
   ]
  },
  {
   "cell_type": "code",
   "execution_count": 30,
   "metadata": {},
   "outputs": [],
   "source": [
    "src = os.path.join(os.path.dirname(DATA_DIR),\"src\")\n",
    "sys.path.append(os.path.join(src, \"data\"))"
   ]
  },
  {
   "cell_type": "code",
   "execution_count": 32,
   "metadata": {},
   "outputs": [],
   "source": [
    "df['subpaths'] = df['Page_List'].map(prep.subpaths_from_list)"
   ]
  },
  {
   "cell_type": "code",
   "execution_count": 33,
   "metadata": {},
   "outputs": [
    {
     "data": {
      "text/plain": [
       "[('/log-in-file-self-assessment-tax-return',\n",
       "  ('895732d7-177b-4def-8997-f1afc4364415',\n",
       "   '3564cf4e-506c-42fa-bdd3-e95e7908645f')),\n",
       " ('/log-in-file-self-assessment-tax-return/sign-in/prove-identity',\n",
       "  ('other',)),\n",
       " ('/log-in-file-self-assessment-tax-return',\n",
       "  ('895732d7-177b-4def-8997-f1afc4364415',\n",
       "   '3564cf4e-506c-42fa-bdd3-e95e7908645f')),\n",
       " ('/log-in-file-self-assessment-tax-return/sign-in/prove-identity',\n",
       "  ('other',))]"
      ]
     },
     "execution_count": 33,
     "metadata": {},
     "output_type": "execute_result"
    }
   ],
   "source": [
    "df['Taxon_Page_List'].iloc[0]"
   ]
  },
  {
   "cell_type": "code",
   "execution_count": 34,
   "metadata": {},
   "outputs": [],
   "source": [
    "### create new subpaths where each element is a (page,parent taxon pair, pick one?)"
   ]
  },
  {
   "cell_type": "code",
   "execution_count": 35,
   "metadata": {},
   "outputs": [],
   "source": [
    "def get_taxon_name(taxon_id):\n",
    "    if taxon_id in taxon_df.content_id.values:\n",
    "        return taxon_df[taxon_df.content_id==taxon_id].iloc[0].title\n",
    "    else:\n",
    "        return None"
   ]
  },
  {
   "cell_type": "code",
   "execution_count": 36,
   "metadata": {},
   "outputs": [],
   "source": [
    "def taxon_title(taxon_id_list):\n",
    "    return [get_taxon_name(taxon_id) for taxon_id in taxon_id_list]"
   ]
  },
  {
   "cell_type": "code",
   "execution_count": 37,
   "metadata": {},
   "outputs": [],
   "source": [
    "def subpaths_from_pcd_list(pcd_list):\n",
    "    return [[(page,taxon_title(taxons)), (pcd_list[i + 1][0],taxon_title(pcd_list[i + 1][1]))] \n",
    "            for i, (page,taxons) in enumerate(pcd_list) if i < len(pcd_list) - 1]"
   ]
  },
  {
   "cell_type": "code",
   "execution_count": 38,
   "metadata": {},
   "outputs": [],
   "source": [
    "test_journey = df[df.PageSeq_Length>4].iloc[0]"
   ]
  },
  {
   "cell_type": "code",
   "execution_count": 39,
   "metadata": {},
   "outputs": [
    {
     "name": "stdout",
     "output_type": "stream",
     "text": [
      "['/government/organisations/disclosure-and-barring-service',\n",
      " '/government/organisations/disclosure-and-barring-service',\n",
      " '/make-a-freedom-of-information-request',\n",
      " '/government/publications?departments[]=disclosure-and-barring-service&publication_type=foi-releases',\n",
      " '/government/publications/number-of-dbs-checks-issued-and-the-percentage-that-show-information']\n"
     ]
    }
   ],
   "source": [
    "pprint.pprint([p for p,_ in test_journey.Taxon_Page_List])"
   ]
  },
  {
   "cell_type": "code",
   "execution_count": 40,
   "metadata": {},
   "outputs": [
    {
     "name": "stdout",
     "output_type": "stream",
     "text": [
      "0 [('/government/organisations/disclosure-and-barring-service', [None]), ('/government/organisations/disclosure-and-barring-service', [None])] \n",
      "====\n",
      "1 [('/government/organisations/disclosure-and-barring-service', [None]), ('/make-a-freedom-of-information-request', ['Your rights and the law'])] \n",
      "====\n",
      "2 [('/make-a-freedom-of-information-request', ['Your rights and the law']), ('/government/publications?departments[]=disclosure-and-barring-service&publication_type=foi-releases', [None])] \n",
      "====\n",
      "3 [('/government/publications?departments[]=disclosure-and-barring-service&publication_type=foi-releases', [None]), ('/government/publications/number-of-dbs-checks-issued-and-the-percentage-that-show-information', ['Government efficiency, transparency and accountability'])] \n",
      "====\n"
     ]
    }
   ],
   "source": [
    "for i,element in enumerate(subpaths_from_pcd_list(test_journey.Taxon_Page_List)):\n",
    "    print(i,element,\"\\n====\")"
   ]
  },
  {
   "cell_type": "code",
   "execution_count": 41,
   "metadata": {},
   "outputs": [],
   "source": [
    "# df['taxon_subpaths'] = df['Taxon_Page_List'].map(subpaths_from_pcd_list)"
   ]
  },
  {
   "cell_type": "code",
   "execution_count": 42,
   "metadata": {},
   "outputs": [],
   "source": [
    "## graph some stuff based on taxon (parent?)"
   ]
  },
  {
   "cell_type": "code",
   "execution_count": 50,
   "metadata": {},
   "outputs": [
    {
     "data": {
      "text/plain": [
       "['Filing a tax return', 'Self Assessment']"
      ]
     },
     "execution_count": 50,
     "metadata": {},
     "output_type": "execute_result"
    }
   ],
   "source": [
    "taxon_title(df.Taxon_Page_List.iloc[0][0][1])"
   ]
  },
  {
   "cell_type": "code",
   "execution_count": 75,
   "metadata": {},
   "outputs": [],
   "source": [
    "def add_to_taxon_dict(diction,taxon_list):\n",
    "    for taxon in taxon_list:\n",
    "        print(taxon)\n",
    "        if taxon not in diction.keys():\n",
    "            diction[taxon] = get_taxon_name(taxon)"
   ]
  },
  {
   "cell_type": "code",
   "execution_count": 54,
   "metadata": {},
   "outputs": [
    {
     "data": {
      "text/plain": [
       "('895732d7-177b-4def-8997-f1afc4364415',\n",
       " '3564cf4e-506c-42fa-bdd3-e95e7908645f')"
      ]
     },
     "execution_count": 54,
     "metadata": {},
     "output_type": "execute_result"
    }
   ],
   "source": [
    "df.Taxon_Page_List.iloc[0][0][1]"
   ]
  },
  {
   "cell_type": "code",
   "execution_count": 55,
   "metadata": {},
   "outputs": [
    {
     "data": {
      "text/plain": [
       "('other',)"
      ]
     },
     "execution_count": 55,
     "metadata": {},
     "output_type": "execute_result"
    }
   ],
   "source": [
    "df.Taxon_Page_List.iloc[0][1][1]"
   ]
  },
  {
   "cell_type": "code",
   "execution_count": 56,
   "metadata": {},
   "outputs": [],
   "source": [
    "taxon_name = {}\n",
    "add_to_taxon_dict(taxon_name,df.Taxon_Page_List.iloc[0][0][1]+df.Taxon_Page_List.iloc[0][1][1])"
   ]
  },
  {
   "cell_type": "code",
   "execution_count": 57,
   "metadata": {},
   "outputs": [
    {
     "data": {
      "text/plain": [
       "{'895732d7-177b-4def-8997-f1afc4364415': 'Filing a tax return',\n",
       " '3564cf4e-506c-42fa-bdd3-e95e7908645f': 'Self Assessment',\n",
       " 'other': None}"
      ]
     },
     "execution_count": 57,
     "metadata": {},
     "output_type": "execute_result"
    }
   ],
   "source": [
    "taxon_name"
   ]
  },
  {
   "cell_type": "code",
   "execution_count": 72,
   "metadata": {},
   "outputs": [
    {
     "data": {
      "text/plain": [
       "(1174770, 22)"
      ]
     },
     "execution_count": 72,
     "metadata": {},
     "output_type": "execute_result"
    }
   ],
   "source": [
    "df.shape"
   ]
  },
  {
   "cell_type": "code",
   "execution_count": 80,
   "metadata": {},
   "outputs": [],
   "source": [
    "def add_page_taxon(diction,key,value):\n",
    "    if key not in diction.keys():\n",
    "        diction[key] = value"
   ]
  },
  {
   "cell_type": "code",
   "execution_count": 96,
   "metadata": {},
   "outputs": [
    {
     "name": "stdout",
     "output_type": "stream",
     "text": [
      "[12:10:27]\n"
     ]
    }
   ],
   "source": [
    "print(datetime.datetime.now().strftime(\"[%H:%M:%S]\"))"
   ]
  },
  {
   "cell_type": "code",
   "execution_count": 142,
   "metadata": {},
   "outputs": [],
   "source": [
    "#### Graph viz"
   ]
  },
  {
   "cell_type": "code",
   "execution_count": 146,
   "metadata": {},
   "outputs": [
    {
     "name": "stdout",
     "output_type": "stream",
     "text": [
      "[12:46:21] ind 0\n",
      "1\n",
      "[12:48:12] ind 30000\n",
      "69\n",
      "[12:50:09] ind 60000\n",
      "75\n",
      "[12:52:48] ind 90000\n",
      "79\n",
      "[12:56:14] ind 120000\n",
      "80\n",
      "[13:02:45] ind 150000\n",
      "84\n",
      "[13:10:40] ind 180000\n",
      "91\n",
      "[13:13:35] ind 210000\n",
      "96\n",
      "[13:18:13] ind 240000\n",
      "99\n",
      "[13:25:31] ind 270000\n",
      "107\n",
      "[13:31:15] ind 300000\n",
      "112\n",
      "[13:38:36] ind 330000\n",
      "117\n",
      "[13:43:20] ind 360000\n",
      "124\n"
     ]
    },
    {
     "ename": "KeyboardInterrupt",
     "evalue": "",
     "output_type": "error",
     "traceback": [
      "\u001b[0;31m---------------------------------------------------------------------------\u001b[0m",
      "\u001b[0;31mKeyboardInterrupt\u001b[0m                         Traceback (most recent call last)",
      "\u001b[0;32m<ipython-input-146-4f2a578b9e17>\u001b[0m in \u001b[0;36m<module>\u001b[0;34m\u001b[0m\n\u001b[1;32m      7\u001b[0m \u001b[0;32mfor\u001b[0m \u001b[0mi\u001b[0m\u001b[0;34m,\u001b[0m\u001b[0mtup\u001b[0m \u001b[0;32min\u001b[0m \u001b[0menumerate\u001b[0m\u001b[0;34m(\u001b[0m\u001b[0mdf\u001b[0m\u001b[0;34m.\u001b[0m\u001b[0msort_values\u001b[0m\u001b[0;34m(\u001b[0m\u001b[0mby\u001b[0m\u001b[0;34m=\u001b[0m\u001b[0;34m\"Occurrences\"\u001b[0m\u001b[0;34m,\u001b[0m\u001b[0mascending\u001b[0m\u001b[0;34m=\u001b[0m\u001b[0;32mFalse\u001b[0m\u001b[0;34m)\u001b[0m\u001b[0;34m.\u001b[0m\u001b[0mitertuples\u001b[0m\u001b[0;34m(\u001b[0m\u001b[0;34m)\u001b[0m\u001b[0;34m)\u001b[0m\u001b[0;34m:\u001b[0m\u001b[0;34m\u001b[0m\u001b[0m\n\u001b[1;32m      8\u001b[0m \u001b[0;31m#     for page,taxon in tup.Taxon_Page_List:\u001b[0m\u001b[0;34m\u001b[0m\u001b[0;34m\u001b[0m\u001b[0m\n\u001b[0;32m----> 9\u001b[0;31m     \u001b[0;32mfor\u001b[0m \u001b[0msubpath\u001b[0m \u001b[0;32min\u001b[0m \u001b[0msubpaths_from_pcd_list\u001b[0m\u001b[0;34m(\u001b[0m\u001b[0mtup\u001b[0m\u001b[0;34m.\u001b[0m\u001b[0mTaxon_Page_List\u001b[0m\u001b[0;34m)\u001b[0m\u001b[0;34m:\u001b[0m\u001b[0;34m\u001b[0m\u001b[0m\n\u001b[0m\u001b[1;32m     10\u001b[0m         \u001b[0mstart\u001b[0m \u001b[0;34m=\u001b[0m \u001b[0msubpath\u001b[0m\u001b[0;34m[\u001b[0m\u001b[0;36m0\u001b[0m\u001b[0;34m]\u001b[0m\u001b[0;34m[\u001b[0m\u001b[0;36m0\u001b[0m\u001b[0;34m]\u001b[0m\u001b[0;34m\u001b[0m\u001b[0m\n\u001b[1;32m     11\u001b[0m         \u001b[0mend\u001b[0m \u001b[0;34m=\u001b[0m \u001b[0msubpath\u001b[0m\u001b[0;34m[\u001b[0m\u001b[0;36m1\u001b[0m\u001b[0;34m]\u001b[0m\u001b[0;34m[\u001b[0m\u001b[0;36m0\u001b[0m\u001b[0;34m]\u001b[0m\u001b[0;34m\u001b[0m\u001b[0m\n",
      "\u001b[0;32m<ipython-input-37-542accdaa68b>\u001b[0m in \u001b[0;36msubpaths_from_pcd_list\u001b[0;34m(pcd_list)\u001b[0m\n\u001b[1;32m      1\u001b[0m \u001b[0;32mdef\u001b[0m \u001b[0msubpaths_from_pcd_list\u001b[0m\u001b[0;34m(\u001b[0m\u001b[0mpcd_list\u001b[0m\u001b[0;34m)\u001b[0m\u001b[0;34m:\u001b[0m\u001b[0;34m\u001b[0m\u001b[0m\n\u001b[1;32m      2\u001b[0m     return [[(page,taxon_title(taxons)), (pcd_list[i + 1][0],taxon_title(pcd_list[i + 1][1]))] \n\u001b[0;32m----> 3\u001b[0;31m             for i, (page,taxons) in enumerate(pcd_list) if i < len(pcd_list) - 1]\n\u001b[0m",
      "\u001b[0;32m<ipython-input-37-542accdaa68b>\u001b[0m in \u001b[0;36m<listcomp>\u001b[0;34m(.0)\u001b[0m\n\u001b[1;32m      1\u001b[0m \u001b[0;32mdef\u001b[0m \u001b[0msubpaths_from_pcd_list\u001b[0m\u001b[0;34m(\u001b[0m\u001b[0mpcd_list\u001b[0m\u001b[0;34m)\u001b[0m\u001b[0;34m:\u001b[0m\u001b[0;34m\u001b[0m\u001b[0m\n\u001b[1;32m      2\u001b[0m     return [[(page,taxon_title(taxons)), (pcd_list[i + 1][0],taxon_title(pcd_list[i + 1][1]))] \n\u001b[0;32m----> 3\u001b[0;31m             for i, (page,taxons) in enumerate(pcd_list) if i < len(pcd_list) - 1]\n\u001b[0m",
      "\u001b[0;32m<ipython-input-36-8b71f7fb517b>\u001b[0m in \u001b[0;36mtaxon_title\u001b[0;34m(taxon_id_list)\u001b[0m\n\u001b[1;32m      1\u001b[0m \u001b[0;32mdef\u001b[0m \u001b[0mtaxon_title\u001b[0m\u001b[0;34m(\u001b[0m\u001b[0mtaxon_id_list\u001b[0m\u001b[0;34m)\u001b[0m\u001b[0;34m:\u001b[0m\u001b[0;34m\u001b[0m\u001b[0m\n\u001b[0;32m----> 2\u001b[0;31m     \u001b[0;32mreturn\u001b[0m \u001b[0;34m[\u001b[0m\u001b[0mget_taxon_name\u001b[0m\u001b[0;34m(\u001b[0m\u001b[0mtaxon_id\u001b[0m\u001b[0;34m)\u001b[0m \u001b[0;32mfor\u001b[0m \u001b[0mtaxon_id\u001b[0m \u001b[0;32min\u001b[0m \u001b[0mtaxon_id_list\u001b[0m\u001b[0;34m]\u001b[0m\u001b[0;34m\u001b[0m\u001b[0m\n\u001b[0m",
      "\u001b[0;32m<ipython-input-36-8b71f7fb517b>\u001b[0m in \u001b[0;36m<listcomp>\u001b[0;34m(.0)\u001b[0m\n\u001b[1;32m      1\u001b[0m \u001b[0;32mdef\u001b[0m \u001b[0mtaxon_title\u001b[0m\u001b[0;34m(\u001b[0m\u001b[0mtaxon_id_list\u001b[0m\u001b[0;34m)\u001b[0m\u001b[0;34m:\u001b[0m\u001b[0;34m\u001b[0m\u001b[0m\n\u001b[0;32m----> 2\u001b[0;31m     \u001b[0;32mreturn\u001b[0m \u001b[0;34m[\u001b[0m\u001b[0mget_taxon_name\u001b[0m\u001b[0;34m(\u001b[0m\u001b[0mtaxon_id\u001b[0m\u001b[0;34m)\u001b[0m \u001b[0;32mfor\u001b[0m \u001b[0mtaxon_id\u001b[0m \u001b[0;32min\u001b[0m \u001b[0mtaxon_id_list\u001b[0m\u001b[0;34m]\u001b[0m\u001b[0;34m\u001b[0m\u001b[0m\n\u001b[0m",
      "\u001b[0;32m<ipython-input-35-97549b521082>\u001b[0m in \u001b[0;36mget_taxon_name\u001b[0;34m(taxon_id)\u001b[0m\n\u001b[1;32m      1\u001b[0m \u001b[0;32mdef\u001b[0m \u001b[0mget_taxon_name\u001b[0m\u001b[0;34m(\u001b[0m\u001b[0mtaxon_id\u001b[0m\u001b[0;34m)\u001b[0m\u001b[0;34m:\u001b[0m\u001b[0;34m\u001b[0m\u001b[0m\n\u001b[1;32m      2\u001b[0m     \u001b[0;32mif\u001b[0m \u001b[0mtaxon_id\u001b[0m \u001b[0;32min\u001b[0m \u001b[0mtaxon_df\u001b[0m\u001b[0;34m.\u001b[0m\u001b[0mcontent_id\u001b[0m\u001b[0;34m.\u001b[0m\u001b[0mvalues\u001b[0m\u001b[0;34m:\u001b[0m\u001b[0;34m\u001b[0m\u001b[0m\n\u001b[0;32m----> 3\u001b[0;31m         \u001b[0;32mreturn\u001b[0m \u001b[0mtaxon_df\u001b[0m\u001b[0;34m[\u001b[0m\u001b[0mtaxon_df\u001b[0m\u001b[0;34m.\u001b[0m\u001b[0mcontent_id\u001b[0m\u001b[0;34m==\u001b[0m\u001b[0mtaxon_id\u001b[0m\u001b[0;34m]\u001b[0m\u001b[0;34m.\u001b[0m\u001b[0miloc\u001b[0m\u001b[0;34m[\u001b[0m\u001b[0;36m0\u001b[0m\u001b[0;34m]\u001b[0m\u001b[0;34m.\u001b[0m\u001b[0mtitle\u001b[0m\u001b[0;34m\u001b[0m\u001b[0m\n\u001b[0m\u001b[1;32m      4\u001b[0m     \u001b[0;32melse\u001b[0m\u001b[0;34m:\u001b[0m\u001b[0;34m\u001b[0m\u001b[0m\n\u001b[1;32m      5\u001b[0m         \u001b[0;32mreturn\u001b[0m \u001b[0;32mNone\u001b[0m\u001b[0;34m\u001b[0m\u001b[0m\n",
      "\u001b[0;32m~/.pyenv/versions/3.6.0/lib/python3.6/site-packages/pandas/core/indexing.py\u001b[0m in \u001b[0;36m__getitem__\u001b[0;34m(self, key)\u001b[0m\n\u001b[1;32m   1476\u001b[0m \u001b[0;34m\u001b[0m\u001b[0m\n\u001b[1;32m   1477\u001b[0m             \u001b[0mmaybe_callable\u001b[0m \u001b[0;34m=\u001b[0m \u001b[0mcom\u001b[0m\u001b[0;34m.\u001b[0m\u001b[0m_apply_if_callable\u001b[0m\u001b[0;34m(\u001b[0m\u001b[0mkey\u001b[0m\u001b[0;34m,\u001b[0m \u001b[0mself\u001b[0m\u001b[0;34m.\u001b[0m\u001b[0mobj\u001b[0m\u001b[0;34m)\u001b[0m\u001b[0;34m\u001b[0m\u001b[0m\n\u001b[0;32m-> 1478\u001b[0;31m             \u001b[0;32mreturn\u001b[0m \u001b[0mself\u001b[0m\u001b[0;34m.\u001b[0m\u001b[0m_getitem_axis\u001b[0m\u001b[0;34m(\u001b[0m\u001b[0mmaybe_callable\u001b[0m\u001b[0;34m,\u001b[0m \u001b[0maxis\u001b[0m\u001b[0;34m=\u001b[0m\u001b[0maxis\u001b[0m\u001b[0;34m)\u001b[0m\u001b[0;34m\u001b[0m\u001b[0m\n\u001b[0m\u001b[1;32m   1479\u001b[0m \u001b[0;34m\u001b[0m\u001b[0m\n\u001b[1;32m   1480\u001b[0m     \u001b[0;32mdef\u001b[0m \u001b[0m_is_scalar_access\u001b[0m\u001b[0;34m(\u001b[0m\u001b[0mself\u001b[0m\u001b[0;34m,\u001b[0m \u001b[0mkey\u001b[0m\u001b[0;34m)\u001b[0m\u001b[0;34m:\u001b[0m\u001b[0;34m\u001b[0m\u001b[0m\n",
      "\u001b[0;32m~/.pyenv/versions/3.6.0/lib/python3.6/site-packages/pandas/core/indexing.py\u001b[0m in \u001b[0;36m_getitem_axis\u001b[0;34m(self, key, axis)\u001b[0m\n\u001b[1;32m   2102\u001b[0m             \u001b[0mself\u001b[0m\u001b[0;34m.\u001b[0m\u001b[0m_validate_integer\u001b[0m\u001b[0;34m(\u001b[0m\u001b[0mkey\u001b[0m\u001b[0;34m,\u001b[0m \u001b[0maxis\u001b[0m\u001b[0;34m)\u001b[0m\u001b[0;34m\u001b[0m\u001b[0m\n\u001b[1;32m   2103\u001b[0m \u001b[0;34m\u001b[0m\u001b[0m\n\u001b[0;32m-> 2104\u001b[0;31m             \u001b[0;32mreturn\u001b[0m \u001b[0mself\u001b[0m\u001b[0;34m.\u001b[0m\u001b[0m_get_loc\u001b[0m\u001b[0;34m(\u001b[0m\u001b[0mkey\u001b[0m\u001b[0;34m,\u001b[0m \u001b[0maxis\u001b[0m\u001b[0;34m=\u001b[0m\u001b[0maxis\u001b[0m\u001b[0;34m)\u001b[0m\u001b[0;34m\u001b[0m\u001b[0m\n\u001b[0m\u001b[1;32m   2105\u001b[0m \u001b[0;34m\u001b[0m\u001b[0m\n\u001b[1;32m   2106\u001b[0m     \u001b[0;32mdef\u001b[0m \u001b[0m_convert_to_indexer\u001b[0m\u001b[0;34m(\u001b[0m\u001b[0mself\u001b[0m\u001b[0;34m,\u001b[0m \u001b[0mobj\u001b[0m\u001b[0;34m,\u001b[0m \u001b[0maxis\u001b[0m\u001b[0;34m=\u001b[0m\u001b[0;32mNone\u001b[0m\u001b[0;34m,\u001b[0m \u001b[0mis_setter\u001b[0m\u001b[0;34m=\u001b[0m\u001b[0;32mFalse\u001b[0m\u001b[0;34m)\u001b[0m\u001b[0;34m:\u001b[0m\u001b[0;34m\u001b[0m\u001b[0m\n",
      "\u001b[0;32m~/.pyenv/versions/3.6.0/lib/python3.6/site-packages/pandas/core/indexing.py\u001b[0m in \u001b[0;36m_get_loc\u001b[0;34m(self, key, axis)\u001b[0m\n\u001b[1;32m    143\u001b[0m         \u001b[0;32mif\u001b[0m \u001b[0maxis\u001b[0m \u001b[0;32mis\u001b[0m \u001b[0;32mNone\u001b[0m\u001b[0;34m:\u001b[0m\u001b[0;34m\u001b[0m\u001b[0m\n\u001b[1;32m    144\u001b[0m             \u001b[0maxis\u001b[0m \u001b[0;34m=\u001b[0m \u001b[0mself\u001b[0m\u001b[0;34m.\u001b[0m\u001b[0maxis\u001b[0m\u001b[0;34m\u001b[0m\u001b[0m\n\u001b[0;32m--> 145\u001b[0;31m         \u001b[0;32mreturn\u001b[0m \u001b[0mself\u001b[0m\u001b[0;34m.\u001b[0m\u001b[0mobj\u001b[0m\u001b[0;34m.\u001b[0m\u001b[0m_ixs\u001b[0m\u001b[0;34m(\u001b[0m\u001b[0mkey\u001b[0m\u001b[0;34m,\u001b[0m \u001b[0maxis\u001b[0m\u001b[0;34m=\u001b[0m\u001b[0maxis\u001b[0m\u001b[0;34m)\u001b[0m\u001b[0;34m\u001b[0m\u001b[0m\n\u001b[0m\u001b[1;32m    146\u001b[0m \u001b[0;34m\u001b[0m\u001b[0m\n\u001b[1;32m    147\u001b[0m     \u001b[0;32mdef\u001b[0m \u001b[0m_slice\u001b[0m\u001b[0;34m(\u001b[0m\u001b[0mself\u001b[0m\u001b[0;34m,\u001b[0m \u001b[0mobj\u001b[0m\u001b[0;34m,\u001b[0m \u001b[0maxis\u001b[0m\u001b[0;34m=\u001b[0m\u001b[0;32mNone\u001b[0m\u001b[0;34m,\u001b[0m \u001b[0mkind\u001b[0m\u001b[0;34m=\u001b[0m\u001b[0;32mNone\u001b[0m\u001b[0;34m)\u001b[0m\u001b[0;34m:\u001b[0m\u001b[0;34m\u001b[0m\u001b[0m\n",
      "\u001b[0;32m~/.pyenv/versions/3.6.0/lib/python3.6/site-packages/pandas/core/frame.py\u001b[0m in \u001b[0;36m_ixs\u001b[0;34m(self, i, axis)\u001b[0m\n\u001b[1;32m   2624\u001b[0m                                                       \u001b[0mindex\u001b[0m\u001b[0;34m=\u001b[0m\u001b[0mself\u001b[0m\u001b[0;34m.\u001b[0m\u001b[0mcolumns\u001b[0m\u001b[0;34m,\u001b[0m\u001b[0;34m\u001b[0m\u001b[0m\n\u001b[1;32m   2625\u001b[0m                                                       \u001b[0mname\u001b[0m\u001b[0;34m=\u001b[0m\u001b[0mself\u001b[0m\u001b[0;34m.\u001b[0m\u001b[0mindex\u001b[0m\u001b[0;34m[\u001b[0m\u001b[0mi\u001b[0m\u001b[0;34m]\u001b[0m\u001b[0;34m,\u001b[0m\u001b[0;34m\u001b[0m\u001b[0m\n\u001b[0;32m-> 2626\u001b[0;31m                                                       dtype=new_values.dtype)\n\u001b[0m\u001b[1;32m   2627\u001b[0m                 \u001b[0mresult\u001b[0m\u001b[0;34m.\u001b[0m\u001b[0m_set_is_copy\u001b[0m\u001b[0;34m(\u001b[0m\u001b[0mself\u001b[0m\u001b[0;34m,\u001b[0m \u001b[0mcopy\u001b[0m\u001b[0;34m=\u001b[0m\u001b[0mcopy\u001b[0m\u001b[0;34m)\u001b[0m\u001b[0;34m\u001b[0m\u001b[0m\n\u001b[1;32m   2628\u001b[0m                 \u001b[0;32mreturn\u001b[0m \u001b[0mresult\u001b[0m\u001b[0;34m\u001b[0m\u001b[0m\n",
      "\u001b[0;32m~/.pyenv/versions/3.6.0/lib/python3.6/site-packages/pandas/core/series.py\u001b[0m in \u001b[0;36m__init__\u001b[0;34m(self, data, index, dtype, name, copy, fastpath)\u001b[0m\n\u001b[1;32m    273\u001b[0m             \u001b[0;32melse\u001b[0m\u001b[0;34m:\u001b[0m\u001b[0;34m\u001b[0m\u001b[0m\n\u001b[1;32m    274\u001b[0m                 data = _sanitize_array(data, index, dtype, copy,\n\u001b[0;32m--> 275\u001b[0;31m                                        raise_cast_failure=True)\n\u001b[0m\u001b[1;32m    276\u001b[0m \u001b[0;34m\u001b[0m\u001b[0m\n\u001b[1;32m    277\u001b[0m                 \u001b[0mdata\u001b[0m \u001b[0;34m=\u001b[0m \u001b[0mSingleBlockManager\u001b[0m\u001b[0;34m(\u001b[0m\u001b[0mdata\u001b[0m\u001b[0;34m,\u001b[0m \u001b[0mindex\u001b[0m\u001b[0;34m,\u001b[0m \u001b[0mfastpath\u001b[0m\u001b[0;34m=\u001b[0m\u001b[0;32mTrue\u001b[0m\u001b[0;34m)\u001b[0m\u001b[0;34m\u001b[0m\u001b[0m\n",
      "\u001b[0;32m~/.pyenv/versions/3.6.0/lib/python3.6/site-packages/pandas/core/series.py\u001b[0m in \u001b[0;36m_sanitize_array\u001b[0;34m(data, index, dtype, copy, raise_cast_failure)\u001b[0m\n\u001b[1;32m   4084\u001b[0m                     \u001b[0msubarr\u001b[0m \u001b[0;34m=\u001b[0m \u001b[0mdata\u001b[0m\u001b[0;34m.\u001b[0m\u001b[0mcopy\u001b[0m\u001b[0;34m(\u001b[0m\u001b[0;34m)\u001b[0m\u001b[0;34m\u001b[0m\u001b[0m\n\u001b[1;32m   4085\u001b[0m             \u001b[0;32melse\u001b[0m\u001b[0;34m:\u001b[0m\u001b[0;34m\u001b[0m\u001b[0m\n\u001b[0;32m-> 4086\u001b[0;31m                 \u001b[0msubarr\u001b[0m \u001b[0;34m=\u001b[0m \u001b[0m_try_cast\u001b[0m\u001b[0;34m(\u001b[0m\u001b[0mdata\u001b[0m\u001b[0;34m,\u001b[0m \u001b[0;32mTrue\u001b[0m\u001b[0;34m)\u001b[0m\u001b[0;34m\u001b[0m\u001b[0m\n\u001b[0m\u001b[1;32m   4087\u001b[0m         \u001b[0;32melif\u001b[0m \u001b[0misinstance\u001b[0m\u001b[0;34m(\u001b[0m\u001b[0mdata\u001b[0m\u001b[0;34m,\u001b[0m \u001b[0mIndex\u001b[0m\u001b[0;34m)\u001b[0m\u001b[0;34m:\u001b[0m\u001b[0;34m\u001b[0m\u001b[0m\n\u001b[1;32m   4088\u001b[0m             \u001b[0;31m# don't coerce Index types\u001b[0m\u001b[0;34m\u001b[0m\u001b[0;34m\u001b[0m\u001b[0m\n",
      "\u001b[0;32m~/.pyenv/versions/3.6.0/lib/python3.6/site-packages/pandas/core/series.py\u001b[0m in \u001b[0;36m_try_cast\u001b[0;34m(arr, take_fast_path)\u001b[0m\n\u001b[1;32m   4047\u001b[0m             if is_object_dtype(dtype) and (is_list_like(subarr) and\n\u001b[1;32m   4048\u001b[0m                                            not (is_iterator(subarr) or\n\u001b[0;32m-> 4049\u001b[0;31m                                            isinstance(subarr, np.ndarray))):\n\u001b[0m\u001b[1;32m   4050\u001b[0m                 \u001b[0msubarr\u001b[0m \u001b[0;34m=\u001b[0m \u001b[0mconstruct_1d_object_array_from_listlike\u001b[0m\u001b[0;34m(\u001b[0m\u001b[0msubarr\u001b[0m\u001b[0;34m)\u001b[0m\u001b[0;34m\u001b[0m\u001b[0m\n\u001b[1;32m   4051\u001b[0m             \u001b[0;32melif\u001b[0m \u001b[0;32mnot\u001b[0m \u001b[0mis_extension_type\u001b[0m\u001b[0;34m(\u001b[0m\u001b[0msubarr\u001b[0m\u001b[0;34m)\u001b[0m\u001b[0;34m:\u001b[0m\u001b[0;34m\u001b[0m\u001b[0m\n",
      "\u001b[0;31mKeyboardInterrupt\u001b[0m: "
     ]
    }
   ],
   "source": [
    "adjacency_list = {}\n",
    "adjacency_counter = Counter()\n",
    "freq_filter = 1000\n",
    "dupe_count = 0\n",
    "page_taxon_title = {}\n",
    "\n",
    "for i,tup in enumerate(df.sort_values(by=\"Occurrences\",ascending=False).itertuples()):\n",
    "#     for page,taxon in tup.Taxon_Page_List:\n",
    "    for subpath in subpaths_from_pcd_list(tup.Taxon_Page_List):\n",
    "        start = subpath[0][0]\n",
    "        end = subpath[1][0]\n",
    "#         print(subpath[0][1]+subpath[1][1])\n",
    "        adjacency_counter [(start,end)] += tup.Occurrences\n",
    "        \n",
    "        \n",
    "        if start!=end and adjacency_counter[(start,end)] >= freq_filter:\n",
    "            \n",
    "            add_page_taxon(page_taxon_title,start,subpath[0][1])\n",
    "            add_page_taxon(page_taxon_title,end,subpath[1][1])\n",
    "          \n",
    "\n",
    "            if start in adjacency_list.keys():\n",
    "                if end not in adjacency_list[start]:\n",
    "                    adjacency_list[start].append(end)\n",
    "            else:\n",
    "                adjacency_list[start] = [end]\n",
    "                \n",
    "    if len(adjacency_list)>1000:\n",
    "        break\n",
    "            \n",
    "    if i%30000==0:\n",
    "        print(datetime.datetime.now().strftime(\"[%H:%M:%S]\"),\"ind\",i)\n",
    "        print(len(adjacency_list))"
   ]
  },
  {
   "cell_type": "code",
   "execution_count": 147,
   "metadata": {},
   "outputs": [
    {
     "data": {
      "text/plain": [
       "128"
      ]
     },
     "execution_count": 147,
     "metadata": {},
     "output_type": "execute_result"
    }
   ],
   "source": [
    "len(adjacency_list)"
   ]
  },
  {
   "cell_type": "code",
   "execution_count": 148,
   "metadata": {},
   "outputs": [
    {
     "data": {
      "text/plain": [
       "[('/government/organisations/companies-house',\n",
       "  ['/get-information-about-a-company',\n",
       "   '/file-an-annual-return-with-companies-house',\n",
       "   '/file-your-company-annual-accounts',\n",
       "   '/file-changes-to-a-company-with-companies-house']),\n",
       " ('/done/vehicle-tax',\n",
       "  ['/contact/govuk/anonymous-feedback/thankyou', '/', '/vehicle-tax']),\n",
       " ('/government/organisations/hm-revenue-customs',\n",
       "  ['/log-in-register-hmrc-online-services',\n",
       "   '/topic/business-tax/vat',\n",
       "   '/topic/personal-tax/self-assessment',\n",
       "   '/topic/personal-tax/income-tax']),\n",
       " ('/universal-credit',\n",
       "  ['/sign-in-universal-credit',\n",
       "   '/universal-credit/eligibility',\n",
       "   '/universal-credit/how-to-claim']),\n",
       " ('/personal-tax-account', ['/personal-tax-account/sign-in/prove-identity']),\n",
       " ('/vehicle-tax',\n",
       "  ['/make-a-sorn',\n",
       "   '/check-vehicle-tax',\n",
       "   '/done/vehicle-tax',\n",
       "   '/car-tax-disc-without-v11-reminder',\n",
       "   '/browse/driving/vehicle-tax-mot-insurance',\n",
       "   '/vehicle-tax-direct-debit']),\n",
       " ('/contact/govuk/anonymous-feedback/thankyou', ['/', '/done/vehicle-tax']),\n",
       " ('/browse/driving/vehicle-tax-mot-insurance',\n",
       "  ['/vehicle-tax', '/check-vehicle-tax', '/check-mot-status', '/make-a-sorn']),\n",
       " ('/government/organisations/driver-and-vehicle-licensing-agency',\n",
       "  ['/vehicle-tax',\n",
       "   '/check-vehicle-tax',\n",
       "   '/make-a-sorn',\n",
       "   '/view-driving-licence',\n",
       "   '/browse/driving/driving-licences',\n",
       "   '/sold-bought-vehicle',\n",
       "   '/contact-the-dvla']),\n",
       " ('/done/make-a-sorn', ['/contact/govuk/anonymous-feedback/thankyou'])]"
      ]
     },
     "execution_count": 148,
     "metadata": {},
     "output_type": "execute_result"
    }
   ],
   "source": [
    "list(adjacency_list.items())[0:10]"
   ]
  },
  {
   "cell_type": "code",
   "execution_count": 149,
   "metadata": {},
   "outputs": [
    {
     "data": {
      "text/plain": [
       "[('/government/organisations/companies-house', [None]),\n",
       " ('/get-information-about-a-company', ['Business debt and bankruptcy']),\n",
       " ('/done/vehicle-tax', [None]),\n",
       " ('/contact/govuk/anonymous-feedback/thankyou', [None]),\n",
       " ('/government/organisations/hm-revenue-customs', [None]),\n",
       " ('/log-in-register-hmrc-online-services', ['Paying HMRC']),\n",
       " ('/universal-credit',\n",
       "  ['Benefits entitlement',\n",
       "   'Benefits for families',\n",
       "   'Carers and disability benefits',\n",
       "   'Child Benefit (welfare theme)',\n",
       "   'Heating and housing benefits',\n",
       "   \"Jobseeker's Allowance and low income benefits\",\n",
       "   'Tax credits',\n",
       "   'Universal Credit']),\n",
       " ('/sign-in-universal-credit', ['Benefits entitlement', 'Universal Credit']),\n",
       " ('/personal-tax-account', ['Dealing with HMRC', 'Income Tax']),\n",
       " ('/personal-tax-account/sign-in/prove-identity', [None])]"
      ]
     },
     "execution_count": 149,
     "metadata": {},
     "output_type": "execute_result"
    }
   ],
   "source": [
    "list(page_taxon_title.items())[0:10]"
   ]
  },
  {
   "cell_type": "code",
   "execution_count": 150,
   "metadata": {},
   "outputs": [],
   "source": [
    "for page,taxons in page_taxon_title.items():\n",
    "    page_taxon_title[page] = \"_\".join([taxon if taxon is not None else \"None\" for taxon in taxons])   "
   ]
  },
  {
   "cell_type": "code",
   "execution_count": null,
   "metadata": {},
   "outputs": [],
   "source": []
  },
  {
   "cell_type": "code",
   "execution_count": 151,
   "metadata": {},
   "outputs": [],
   "source": [
    "N = len(page_taxon_title.values())\n",
    "HSV_tuples = [(x*1.0/N, 0.5, 0.5) for x in range(N)]\n",
    "RGB_tuples = map(lambda x: colorsys.hsv_to_rgb(*x), HSV_tuples)\n",
    "RGB_tuples = list(RGB_tuples)"
   ]
  },
  {
   "cell_type": "code",
   "execution_count": 152,
   "metadata": {},
   "outputs": [],
   "source": [
    "taxon_color = {taxon:RGB_tuples[i] for i,taxon in enumerate(page_taxon_title.values())}"
   ]
  },
  {
   "cell_type": "code",
   "execution_count": 153,
   "metadata": {},
   "outputs": [],
   "source": [
    "digraph = nx.DiGraph()"
   ]
  },
  {
   "cell_type": "code",
   "execution_count": 154,
   "metadata": {},
   "outputs": [],
   "source": [
    "for node,out_nodes in adjacency_list.items():\n",
    "    color = taxon_color[page_taxon_title[node]]\n",
    "    digraph.add_node(node,taxon=page_taxon_title[node],color=color)\n",
    "    for o_node in out_nodes:\n",
    "        color = taxon_color[page_taxon_title[o_node]]\n",
    "        digraph.add_node(o_node,taxon=page_taxon_title[o_node],color=color)\n",
    "        digraph.add_edge(node,o_node)"
   ]
  },
  {
   "cell_type": "code",
   "execution_count": 155,
   "metadata": {},
   "outputs": [
    {
     "data": {
      "text/plain": [
       "OutEdgeView([('/government/organisations/companies-house', '/get-information-about-a-company'), ('/government/organisations/companies-house', '/file-an-annual-return-with-companies-house'), ('/government/organisations/companies-house', '/file-your-company-annual-accounts'), ('/government/organisations/companies-house', '/file-changes-to-a-company-with-companies-house'), ('/get-information-about-a-company', '/government/organisations/companies-house'), ('/file-an-annual-return-with-companies-house', '/government/organisations/companies-house'), ('/done/vehicle-tax', '/contact/govuk/anonymous-feedback/thankyou'), ('/done/vehicle-tax', '/'), ('/done/vehicle-tax', '/vehicle-tax'), ('/contact/govuk/anonymous-feedback/thankyou', '/'), ('/contact/govuk/anonymous-feedback/thankyou', '/done/vehicle-tax'), ('/', '/browse/benefits'), ('/', '/jobsearch'), ('/', '/personal-tax-account'), ('/', '/search?q=universal+credit'), ('/', '/vehicle-tax'), ('/', '/browse/driving'), ('/', '/contact/govuk/anonymous-feedback/thankyou'), ('/', '/browse/tax'), ('/', '/browse/visas-immigration'), ('/', '/browse/working'), ('/vehicle-tax', '/make-a-sorn'), ('/vehicle-tax', '/check-vehicle-tax'), ('/vehicle-tax', '/done/vehicle-tax'), ('/vehicle-tax', '/car-tax-disc-without-v11-reminder'), ('/vehicle-tax', '/browse/driving/vehicle-tax-mot-insurance'), ('/vehicle-tax', '/vehicle-tax-direct-debit'), ('/government/organisations/hm-revenue-customs', '/log-in-register-hmrc-online-services'), ('/government/organisations/hm-revenue-customs', '/topic/business-tax/vat'), ('/government/organisations/hm-revenue-customs', '/topic/personal-tax/self-assessment'), ('/government/organisations/hm-revenue-customs', '/topic/personal-tax/income-tax'), ('/log-in-register-hmrc-online-services', '/government/organisations/hm-revenue-customs'), ('/log-in-register-hmrc-online-services', '/government/organisations/companies-house'), ('/log-in-register-hmrc-online-services', '/log-in-register-hmrc-online-services/register'), ('/topic/business-tax/vat', '/send-vat-return'), ('/topic/personal-tax/self-assessment', '/log-in-file-self-assessment-tax-return'), ('/universal-credit', '/sign-in-universal-credit'), ('/universal-credit', '/universal-credit/eligibility'), ('/universal-credit', '/universal-credit/how-to-claim'), ('/sign-in-universal-credit', '/universal-credit'), ('/sign-in-universal-credit', '/browse/benefits/universal-credit'), ('/sign-in-universal-credit', '/'), ('/universal-credit/eligibility', '/universal-credit/what-youll-get'), ('/personal-tax-account', '/personal-tax-account/sign-in/prove-identity'), ('/personal-tax-account/sign-in/prove-identity', '/personal-tax-account/sign-in/create-account'), ('/personal-tax-account/sign-in/prove-identity', '/personal-tax-account'), ('/make-a-sorn', '/done/make-a-sorn'), ('/check-vehicle-tax', '/vehicle-tax'), ('/check-vehicle-tax', '/browse/driving/vehicle-tax-mot-insurance'), ('/check-vehicle-tax', '/check-mot-history'), ('/car-tax-disc-without-v11-reminder', '/vehicle-tax'), ('/browse/driving/vehicle-tax-mot-insurance', '/vehicle-tax'), ('/browse/driving/vehicle-tax-mot-insurance', '/check-vehicle-tax'), ('/browse/driving/vehicle-tax-mot-insurance', '/check-mot-status'), ('/browse/driving/vehicle-tax-mot-insurance', '/make-a-sorn'), ('/vehicle-tax-direct-debit', '/vehicle-tax'), ('/vehicle-tax-direct-debit', '/vehicle-tax-direct-debit/renewing'), ('/check-mot-status', '/check-mot-history'), ('/government/organisations/driver-and-vehicle-licensing-agency', '/vehicle-tax'), ('/government/organisations/driver-and-vehicle-licensing-agency', '/check-vehicle-tax'), ('/government/organisations/driver-and-vehicle-licensing-agency', '/make-a-sorn'), ('/government/organisations/driver-and-vehicle-licensing-agency', '/view-driving-licence'), ('/government/organisations/driver-and-vehicle-licensing-agency', '/browse/driving/driving-licences'), ('/government/organisations/driver-and-vehicle-licensing-agency', '/sold-bought-vehicle'), ('/government/organisations/driver-and-vehicle-licensing-agency', '/contact-the-dvla'), ('/view-driving-licence', '/done/view-driving-licence'), ('/view-driving-licence', '/check-driving-information'), ('/browse/driving/driving-licences', '/view-driving-licence'), ('/browse/driving/driving-licences', '/tell-dvla-changed-address'), ('/browse/driving/driving-licences', '/apply-online-to-replace-a-driving-licence'), ('/browse/driving/driving-licences', '/apply-first-provisional-driving-licence'), ('/browse/driving/driving-licences', '/renew-driving-licence'), ('/sold-bought-vehicle', '/sold-bought-vehicle/y'), ('/contact-the-dvla', '/contact-the-dvla/y'), ('/done/make-a-sorn', '/contact/govuk/anonymous-feedback/thankyou'), ('/sold-bought-vehicle/y', '/sold-bought-vehicle/y/no'), ('/sold-bought-vehicle/y', '/sold-bought-vehicle/y/yes'), ('/sold-bought-vehicle/y/no', '/sold-bought-vehicle/y/no/sold-it'), ('/sold-bought-vehicle/y/no', '/sold-bought-vehicle/y/no/bought-it'), ('/sold-bought-vehicle/y/no', '/sold-bought-vehicle/y/no/put-it-into-someone-else-s-name'), ('/sold-bought-vehicle/y/yes', '/sold-bought-vehicle/y/yes/bought-a-vehicle-into-the-trade'), ('/sold-bought-vehicle/y/yes', '/sold-bought-vehicle/y/yes/sold-a-vehicle-out-of-the-trade'), ('/sold-bought-vehicle/y/no/sold-it', '/sold-bought-vehicle/y/no/sold-it/sold-it-privately-to-a-person-or-business'), ('/sold-bought-vehicle/y/no/sold-it', '/sold-bought-vehicle/y/no/sold-it/sold-it-to-a-motor-trader'), ('/browse/benefits', '/browse/benefits/universal-credit'), ('/search?q=universal+credit', '/sign-in-universal-credit'), ('/browse/driving', '/browse/driving/vehicle-tax-mot-insurance'), ('/browse/driving', '/browse/driving/driving-licences'), ('/browse/tax', '/browse/tax/income-tax'), ('/browse/visas-immigration', '/browse/visas-immigration/tourist-short-stay-visas'), ('/browse/benefits/universal-credit', '/sign-in-universal-credit'), ('/browse/benefits/universal-credit', '/universal-credit'), ('/browse/benefits/universal-credit', '/apply-universal-credit'), ('/check-state-pension', '/check-state-pension/sign-in/prove-identity'), ('/check-state-pension/sign-in/prove-identity', '/check-state-pension'), ('/check-state-pension/sign-in/prove-identity', '/check-state-pension/sign-in/create-account'), ('/done/private-keeper-sold', '/'), ('/topic/further-education-skills/apprenticeships', '/apply-apprenticeship'), ('/penalty-points-endorsements/how-to-check-your-endorsement-details', '/view-driving-licence'), ('/check-driving-information', '/view-driving-licence'), ('/log-in-register-hmrc-online-services/register', '/log-in-register-hmrc-online-services'), ('/guidance/government-gateway-replacement-services-that-have-moved', '/log-in-register-hmrc-online-services'), ('/done/private-keeper-to-motor-trader', '/'), ('/government/publications/car-show-me-tell-me-vehicle-safety-questions', '/government/publications/car-show-me-tell-me-vehicle-safety-questions/car-show-me-tell-me-vehicle-safety-questions'), ('/log-in-file-self-assessment-tax-return', '/log-in-file-self-assessment-tax-return/sign-in/prove-identity'), ('/log-in-file-self-assessment-tax-return', '/log-in-file-self-assessment-tax-return/register-if-youre-self-employed'), ('/contact-the-dvla/y', '/contact-the-dvla/y/vehicle-tax-and-sorn'), ('/contact-the-dvla/y', '/contact-the-dvla/y/driving-licences-and-applications'), ('/contact-the-dvla/y', '/contact-the-dvla/y/vehicle-registration-and-v5c-certificates-log-books'), ('/contact-the-dvla/y', '/contact-the-dvla/y/something-else'), ('/vehicle-tax-refund', '/sold-bought-vehicle'), ('/vehicle-tax-refund', '/make-a-sorn'), ('/contact-jobcentre-plus', '/jobsearch'), ('/sorn-statutory-off-road-notification', '/make-a-sorn'), ('/tell-dvla-changed-address', '/change-address-driving-licence?step-by-step-nav=c1f13d41-ed7f-44a3-be11-fd95525ddf40'), ('/tell-dvla-changed-address', '/change-name-address-v5c?step-by-step-nav=c1f13d41-ed7f-44a3-be11-fd95525ddf40'), ('/change-address-driving-licence?step-by-step-nav=c1f13d41-ed7f-44a3-be11-fd95525ddf40', '/browse/driving'), ('/browse/working/finding-job', '/jobsearch'), ('/check-mot-history', '/check-vehicle-tax'), ('/check-mot-history', '/check-mot-status'), ('/change-address-driving-licence/apply-by-post', '/change-address-driving-licence'), ('/change-address-driving-licence', '/browse/driving'), ('/check-income-tax-current-year', '/check-income-tax-current-year/sign-in/prove-identity'), ('/self-assessment-tax-returns', '/log-in-file-self-assessment-tax-return'), ('/pay-court-fine-online', '/done/transaction-finished'), ('/vat-returns/fill-in-your-return', '/send-vat-return'), ('/contact-ukvi-inside-outside-uk', '/contact-ukvi-inside-outside-uk/y'), ('/contact-ukvi-inside-outside-uk/y', '/contact-ukvi-inside-outside-uk/y/outside-the-uk'), ('/tax-overpayments-and-underpayments/if-youre-due-a-refund', '/check-income-tax-last-year'), ('/government/organisations/disclosure-and-barring-service', '/government/publications/basic-checks'), ('/government/organisations/disclosure-and-barring-service', '/guidance/track-a-dbs-application'), ('/contact-the-dvla/y/something-else', '/contact-the-dvla/y/something-else/something-else'), ('/claim-tax-refund', '/claim-tax-refund/y'), ('/claim-tax-refund/y', '/claim-tax-refund/y/pay-from-your-current-job'), ('/claim-tax-refund/y', '/claim-tax-refund/y/pay-from-a-previous-job'), ('/vehicle-tax-direct-debit/renewing', '/vehicle-tax-direct-debit'), ('/topic/intellectual-property/trade-marks', '/search-for-trademark'), ('/government/publications/hmrc-exchange-rates-for-2018-monthly', '/government/uploads/system/uploads/attachment_data/file/751760/exrates-monthly-1118.csv/preview'), ('/contact-ukvi-inside-outside-uk/y/outside-the-uk', '/contact-ukvi-inside-outside-uk/y/outside-the-uk/english'), ('/pay-dartford-crossing-charge', '/pay-dartford-crossing-charge/charges-fines'), ('/pay-dartford-crossing-charge/charges-fines', '/pay-dartford-crossing-charge'), ('/vat-returns', '/vat-returns/fill-in-your-return'), ('/vat-returns', '/send-vat-return'), ('/contact-hmrc', '/government/organisations/hm-revenue-customs/contact/income-tax-enquiries-for-individuals-pensioners-and-employees'), ('/contact-hmrc', '/government/organisations/hm-revenue-customs/contact/self-assessment'), ('/student-finance-register-login', '/contact-student-finance-england'), ('/the-warm-home-discount-scheme', '/the-warm-home-discount-scheme/low-income'), ('/the-warm-home-discount-scheme/low-income', '/the-warm-home-discount-scheme/energy-suppliers'), ('/student-finance', '/student-finance-register-login'), ('/stamp-duty-land-tax', '/stamp-duty-land-tax/residential-property-rates'), ('/tax-codes', '/check-income-tax-current-year'), ('/tax-codes', '/tax-codes/emergency-tax-codes'), ('/government/topical-events/budget-2018', '/government/news/budget-2018-24-things-you-need-to-know'), ('/government/topical-events/budget-2018', '/government/publications/budget-2018-documents'), ('/government/publications/budget-2018-documents', '/government/publications/budget-2018-documents/budget-2018'), ('/government/organisations/intellectual-property-office', '/topic/intellectual-property/trade-marks'), ('/vehicle-tax-rate-tables', '/vehicle-tax-rate-tables/rates-for-cars-registered-on-or-after-1-march-2001'), ('/vehicle-log-book', '/contact-the-dvla/y/vehicle-registration-and-v5c-certificates-log-books'), ('/vehicle-log-book', '/government/publications/application-for-a-vehicle-registration-certificate'), ('/claim-tax-refund/y/pay-from-your-current-job', '/claim-tax-refund/y/pay-from-your-current-job/on-or-after-6-april-2018'), ('/check-british-citizen', '/check-british-citizen/y'), ('/calculate-your-holiday-entitlement', '/calculate-your-holiday-entitlement/y'), ('/calculate-your-holiday-entitlement/y', '/calculate-your-holiday-entitlement/y/days-worked-per-week'), ('/calculate-your-holiday-entitlement/y', '/calculate-your-holiday-entitlement/y/hours-worked-per-week'), ('/pay-corporation-tax', '/pay-corporation-tax/bank-details'), ('/check-uk-visa', '/check-uk-visa/y'), ('/calculate-your-child-maintenance', '/calculate-your-child-maintenance/y'), ('/calculate-your-child-maintenance/y', '/calculate-your-child-maintenance/y/pay'), ('/calculate-your-child-maintenance/y', '/calculate-your-child-maintenance/y/receive'), ('/standard-visitor-visa', '/standard-visitor-visa/apply'), ('/standard-visitor-visa', '/standard-visitor-visa/eligibility'), ('/state-pension-age', '/state-pension-age/y'), ('/state-pension-age/y', '/state-pension-age/y/age'), ('/renew-adult-passport/renew', '/apply-renew-passport'), ('/apply-uk-visa', '/choose-uk-visit-short-stay-visa'), ('/choose-uk-visit-short-stay-visa', '/standard-visitor-visa'), ('/browse/visas-immigration/tourist-short-stay-visas', '/standard-visitor-visa'), ('/universal-credit/what-youll-get', '/benefits-calculators'), ('/renew-adult-passport', '/renew-adult-passport/renew'), ('/government-gateway', '/log-in-register-hmrc-online-services'), ('/budgeting-help-benefits', '/budgeting-help-benefits/how-to-claim'), ('/budgeting-help-benefits', '/budgeting-help-benefits/eligibility'), ('/winter-fuel-payment/eligibility', '/winter-fuel-payment/what-youll-get'), ('/done/motor-trade-bought', '/'), ('/government/organisations/land-registry', '/search-property-information-land-registry'), ('/settled-status-eu-citizens-families', '/settled-status-eu-citizens-families/what-settled-and-presettled-status-means'), ('/child-benefit/how-to-claim', '/government/publications/child-benefit-claim-form-ch2'), ('/browse/driving/learning-to-drive', '/change-driving-test'), ('/winter-fuel-payment', '/winter-fuel-payment/eligibility'), ('/calculate-your-redundancy-pay', '/calculate-your-redundancy-pay/y'), ('/carers-allowance', '/carers-allowance/eligibility'), ('/qualify-tax-credits', '/qualify-tax-credits/y'), ('/qualify-tax-credits/y', '/qualify-tax-credits/y/yes'), ('/browse/births-deaths-marriages', '/browse/births-deaths-marriages/register-offices'), ('/statutory-sick-pay', '/statutory-sick-pay/what-youll-get'), ('/browse/abroad', '/browse/abroad/passports'), ('/electoral-register', '/electoral-register/view-electoral-register'), ('/calculate-vehicle-tax-rates', '/vehicle-tax-rate-tables'), ('/qualify-tax-credits/y/yes', '/qualify-tax-credits/y/yes/yes'), ('/settle-in-the-uk', '/settle-in-the-uk/y'), ('/pip', '/pip/eligibility'), ('/contact', '/government/organisations/hm-revenue-customs/contact')])"
      ]
     },
     "execution_count": 155,
     "metadata": {},
     "output_type": "execute_result"
    }
   ],
   "source": [
    "digraph.edges()"
   ]
  },
  {
   "cell_type": "code",
   "execution_count": 161,
   "metadata": {},
   "outputs": [
    {
     "data": {
      "image/png": "[encoded data removed]",
      "text/plain": [
       "<Figure size 432x288 with 1 Axes>"
      ]
     },
     "metadata": {},
     "output_type": "display_data"
    }
   ],
   "source": [
    "edges = digraph.edges()\n",
    "color_map = [data['color'] for _,data in digraph.nodes(data=True)]\n",
    "\n",
    "# pos = nx.nx_agraph.graphviz_layout(digraph, prog='neato')\n",
    "\n",
    "nx.draw_spring(digraph,  node_size=20, fontsize=12, edges=edges, node_color=color_map)\n",
    "# plt.savefig(\"example.png\",format=\"PNG\")\n",
    "plt.show()\n",
    "\n",
    "\n",
    "# \n",
    "\n",
    "# ### ALWAYS AFTER POS INSTANTIATION, COME ON\n",
    "# pos_higher = {}\n",
    "# y_off = 2  # offset on the y axis\n",
    "# for k, v in pos.items():\n",
    "#     pos_higher[k] = (v[0], v[1]+y_off)\n",
    "    \n",
    "# nx.draw(functional, pos, node_size=40,  fontsize=12, edges=edges, edge_color=colors, node_color=color_map)\n",
    "# nx.draw_networkx_labels(functional, pos_higher, labels)\n",
    "# plt.savefig(os.path.join(IMAGES,\"eu_settled_most_frequent_\"+str(freq_filter)+\\\n",
    "#                          \"_color_pub_no_intercept_generic_search_defined.png\"), format=\"PNG\")"
   ]
  },
  {
   "cell_type": "code",
   "execution_count": null,
   "metadata": {},
   "outputs": [],
   "source": []
  }
 ],
 "metadata": {
  "kernelspec": {
   "display_name": "Python 3",
   "language": "python",
   "name": "python3"
  },
  "language_info": {
   "codemirror_mode": {
    "name": "ipython",
    "version": 3
   },
   "file_extension": ".py",
   "mimetype": "text/x-python",
   "name": "python",
   "nbconvert_exporter": "python",
   "pygments_lexer": "ipython3",
   "version": "3.6.0"
  }
 },
 "nbformat": 4,
 "nbformat_minor": 2
}
