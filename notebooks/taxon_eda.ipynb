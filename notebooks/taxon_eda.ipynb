{
 "cells": [
  {
   "cell_type": "code",
   "execution_count": null,
   "metadata": {},
   "outputs": [],
   "source": [
    "import sys\n",
    "import os\n",
    "src_data = os.path.join(os.path.dirname(os.getenv(\"DATA_DIR\")),\"src/data\")\n",
    "sys.path.append(src_data)\n",
    "import preprocess as prep\n",
    "import datetime\n",
    "import colorsys\n",
    "import pandas as pd\n",
    "import re\n",
    "import numpy as np\n",
    "from ast import literal_eval\n",
    "from collections import Counter\n",
    "import pprint\n",
    "import networkx as nx\n",
    "import pygraphviz\n",
    "from networkx.drawing.nx_agraph import graphviz_layout\n",
    "%matplotlib inline\n",
    "import matplotlib.pyplot as plt"
   ]
  },
  {
   "cell_type": "code",
   "execution_count": null,
   "metadata": {},
   "outputs": [],
   "source": [
    "DATA_DIR = os.getenv(\"DATA_DIR\")\n",
    "filename = \"preprocessed_with_dupes_31_10_taxon2.csv.gz\"\n",
    "path = os.path.join(DATA_DIR,\"output\", filename)"
   ]
  },
  {
   "cell_type": "code",
   "execution_count": null,
   "metadata": {},
   "outputs": [],
   "source": [
    "df = pd.read_csv(path,sep=\"\\t\",compression=\"gzip\")"
   ]
  },
  {
   "cell_type": "code",
   "execution_count": null,
   "metadata": {},
   "outputs": [],
   "source": [
    "df.shape"
   ]
  },
  {
   "cell_type": "code",
   "execution_count": null,
   "metadata": {},
   "outputs": [],
   "source": [
    "df.columns"
   ]
  },
  {
   "cell_type": "code",
   "execution_count": null,
   "metadata": {},
   "outputs": [],
   "source": [
    "any(df.Sequence.duplicated())"
   ]
  },
  {
   "cell_type": "code",
   "execution_count": null,
   "metadata": {},
   "outputs": [],
   "source": [
    "for col in df.columns:\n",
    "#     if \"Sequence\" not in col and not col.startswith(\"Event\"):\n",
    "#         if isinstance(df[col].iloc[0],str) and \"[\" in df[col].iloc[0]:\n",
    "#             print(col)\n",
    "#             df[col] = df[col].map(literal_eval)\n",
    "    if re.search(\"^Taxon|^Page\",col):\n",
    "        if isinstance(df[col].iloc[0],str) and \"[\" in df[col].iloc[0]:\n",
    "            print(col)\n",
    "            df[col] = df[col].map(literal_eval)"
   ]
  },
  {
   "cell_type": "markdown",
   "metadata": {},
   "source": [
    "## Count taxons within journeys\n",
    "### Setup"
   ]
  },
  {
   "cell_type": "code",
   "execution_count": null,
   "metadata": {},
   "outputs": [],
   "source": [
    "def unique_taxon_flat_unique(taxon_list):\n",
    "    return sum(Counter(set([t for taxon in taxon_list for t in taxon.split(\",\")])).values())\n",
    "def unique_taxon_nested_unique(taxon_list):\n",
    "    return sum(Counter(set([taxon for taxon in taxon_list])).values())\n",
    "def unique_taxon_flat_pages(taxon_list):\n",
    "    return sum(Counter([t for taxon in taxon_list for t in taxon.split(\",\")]).values())\n",
    "def unique_taxon_nested_pages(taxon_list):\n",
    "    return sum(Counter([taxon for taxon in taxon_list]).values())"
   ]
  },
  {
   "cell_type": "code",
   "execution_count": null,
   "metadata": {},
   "outputs": [],
   "source": [
    "df.iloc[0].Sequence"
   ]
  },
  {
   "cell_type": "code",
   "execution_count": null,
   "metadata": {},
   "outputs": [],
   "source": [
    "target = df.Taxon_List.iloc[1]\n",
    "print(target)\n",
    "print(unique_taxon_flat_unique(target))\n",
    "print(unique_taxon_nested_unique(target))\n",
    "print(unique_taxon_flat_pages(target))\n",
    "print(unique_taxon_nested_pages(target))"
   ]
  },
  {
   "cell_type": "code",
   "execution_count": null,
   "metadata": {},
   "outputs": [],
   "source": [
    "df['taxon_flat_unique'] = df['Taxon_List'].map(unique_taxon_flat_unique)\n",
    "df['taxon_nested_unique'] = df['Taxon_List'].map(unique_taxon_nested_unique)\n",
    "df['taxon_flat_pages'] = df['Taxon_List'].map(unique_taxon_flat_pages)\n",
    "df['taxon_nested_pages'] = df['Taxon_List'].map(unique_taxon_nested_pages)"
   ]
  },
  {
   "cell_type": "code",
   "execution_count": null,
   "metadata": {},
   "outputs": [],
   "source": [
    "df.describe().drop(\"count\").applymap(lambda x: format(x,\"f\"))"
   ]
  },
  {
   "cell_type": "code",
   "execution_count": null,
   "metadata": {},
   "outputs": [],
   "source": [
    "df.describe().drop(\"count\").applymap(lambda x: '%.2f' % x)"
   ]
  },
  {
   "cell_type": "code",
   "execution_count": null,
   "metadata": {},
   "outputs": [],
   "source": [
    "df[df.taxon_flat_unique == 429].Taxon_List.values"
   ]
  },
  {
   "cell_type": "code",
   "execution_count": null,
   "metadata": {},
   "outputs": [],
   "source": [
    "df[df.taxon_flat_unique == 0].Sequence.values"
   ]
  },
  {
   "cell_type": "code",
   "execution_count": null,
   "metadata": {},
   "outputs": [],
   "source": [
    "def taxon_split(taxon_list):\n",
    "    return [t for taxon in taxon_list for t in taxon.split(\",\")]"
   ]
  },
  {
   "cell_type": "code",
   "execution_count": null,
   "metadata": {},
   "outputs": [],
   "source": [
    "#### Build list of unique taxons, excluding \"other\"\n",
    "taxon_counter = Counter()\n",
    "for tup in df.itertuples():\n",
    "    taxons = taxon_split(tup.Taxon_List)\n",
    "    for taxon in taxons:\n",
    "        taxon_counter[taxon]+=1\n",
    "len(taxon_counter)            "
   ]
  },
  {
   "cell_type": "code",
   "execution_count": null,
   "metadata": {},
   "outputs": [],
   "source": [
    "list(taxon_counter.keys())[0:10]"
   ]
  },
  {
   "cell_type": "code",
   "execution_count": null,
   "metadata": {},
   "outputs": [],
   "source": [
    "taxon_counter.most_common(10)"
   ]
  },
  {
   "cell_type": "code",
   "execution_count": null,
   "metadata": {},
   "outputs": [],
   "source": [
    "taxon_df = pd.read_csv(\"taxon_level_df.tsv\",sep='\\t')"
   ]
  },
  {
   "cell_type": "markdown",
   "metadata": {},
   "source": [
    "### Assign unique parent taxons per journey"
   ]
  },
  {
   "cell_type": "code",
   "execution_count": null,
   "metadata": {},
   "outputs": [],
   "source": [
    "df['subpaths'] = df['Page_List'].map(prep.subpaths_from_list)"
   ]
  },
  {
   "cell_type": "code",
   "execution_count": null,
   "metadata": {},
   "outputs": [],
   "source": [
    "for val in df[['Page_List','subpaths']].iloc[0].values:\n",
    "    pprint.pprint(val)\n",
    "    print(\"\\n====\")"
   ]
  },
  {
   "cell_type": "markdown",
   "metadata": {},
   "source": [
    "### create new subpaths where each element is a (page,parent taxon pair, pick one?)"
   ]
  },
  {
   "cell_type": "code",
   "execution_count": null,
   "metadata": {},
   "outputs": [],
   "source": [
    "def get_taxon_name(taxon_id):\n",
    "    if taxon_id in taxon_df.content_id.values:\n",
    "        return taxon_df[taxon_df.content_id==taxon_id].iloc[0].title\n",
    "    else:\n",
    "        return None"
   ]
  },
  {
   "cell_type": "code",
   "execution_count": null,
   "metadata": {},
   "outputs": [],
   "source": [
    "def taxon_title(taxon_id_list):\n",
    "    return [get_taxon_name(taxon_id) for taxon_id in taxon_id_list]"
   ]
  },
  {
   "cell_type": "code",
   "execution_count": null,
   "metadata": {},
   "outputs": [],
   "source": [
    "def subpaths_from_pcd_list(pcd_list):\n",
    "    return [[(page,taxon_title(taxons)), (pcd_list[i + 1][0],taxon_title(pcd_list[i + 1][1]))] \n",
    "            for i, (page,taxons) in enumerate(pcd_list) if i < len(pcd_list) - 1]"
   ]
  },
  {
   "cell_type": "code",
   "execution_count": null,
   "metadata": {},
   "outputs": [],
   "source": [
    "test_journey = df[df.PageSeq_Length>4].iloc[0]"
   ]
  },
  {
   "cell_type": "code",
   "execution_count": null,
   "metadata": {},
   "outputs": [],
   "source": [
    "pprint.pprint([p for p,_ in test_journey.Taxon_Page_List])"
   ]
  },
  {
   "cell_type": "code",
   "execution_count": null,
   "metadata": {},
   "outputs": [],
   "source": [
    "for i,element in enumerate(subpaths_from_pcd_list(test_journey.Taxon_Page_List)):\n",
    "    print(i,element,\"\\n====\")"
   ]
  },
  {
   "cell_type": "code",
   "execution_count": null,
   "metadata": {},
   "outputs": [],
   "source": [
    "df['taxon_subpaths'] = df['Taxon_Page_List'].map(subpaths_from_pcd_list)"
   ]
  },
  {
   "cell_type": "code",
   "execution_count": null,
   "metadata": {},
   "outputs": [],
   "source": [
    "# taxon_title(df.Taxon_Page_List.iloc[0][0][1])\n",
    "\n",
    "# def add_to_taxon_dict(diction,taxon_list):\n",
    "#     for taxon in taxon_list:\n",
    "#         if taxon not in diction.keys():\n",
    "#             diction[taxon] = get_taxon_name(taxon)\n",
    "\n",
    "# df.Taxon_Page_List.iloc[0][0][1]\n",
    "\n",
    "# df.Taxon_Page_List.iloc[0][1][1]\n",
    "\n",
    "# taxon_name = {}\n",
    "# add_to_taxon_dict(taxon_name,df.Taxon_Page_List.iloc[0][0][1]+df.Taxon_Page_List.iloc[0][1][1])\n",
    "\n",
    "# taxon_name\n",
    "\n",
    "# df.shape\n",
    "\n",
    "# print(datetime.datetime.now().strftime(\"[%H:%M:%S]\"))"
   ]
  },
  {
   "cell_type": "markdown",
   "metadata": {},
   "source": [
    "## Graph viz"
   ]
  },
  {
   "cell_type": "markdown",
   "metadata": {},
   "source": [
    "## graph some stuff based on taxon (parent?)"
   ]
  },
  {
   "cell_type": "code",
   "execution_count": null,
   "metadata": {},
   "outputs": [],
   "source": [
    "def add_page_taxon(diction,key,value):\n",
    "    if key not in diction.keys():\n",
    "        diction[key] = value"
   ]
  },
  {
   "cell_type": "code",
   "execution_count": null,
   "metadata": {},
   "outputs": [],
   "source": [
    "adjacency_list = {}\n",
    "adjacency_counter = Counter()\n",
    "freq_filter = 1000\n",
    "dupe_count = 0\n",
    "page_taxon_title = {}\n",
    "\n",
    "for i,tup in enumerate(df.sort_values(by=\"Occurrences\",ascending=False).itertuples()):\n",
    "#     for page,taxon in tup.Taxon_Page_List:\n",
    "    for subpath in subpaths_from_pcd_list(tup.Taxon_Page_List):\n",
    "        start = subpath[0][0]\n",
    "        end = subpath[1][0]\n",
    "#         print(subpath[0][1]+subpath[1][1])\n",
    "        adjacency_counter [(start,end)] += tup.Occurrences\n",
    "        \n",
    "        \n",
    "        if start!=end and adjacency_counter[(start,end)] >= freq_filter:\n",
    "            \n",
    "            add_page_taxon(page_taxon_title,start,subpath[0][1])\n",
    "            add_page_taxon(page_taxon_title,end,subpath[1][1])\n",
    "          \n",
    "\n",
    "            if start in adjacency_list.keys():\n",
    "                if end not in adjacency_list[start]:\n",
    "                    adjacency_list[start].append(end)\n",
    "            else:\n",
    "                adjacency_list[start] = [end]\n",
    "                \n",
    "    if len(adjacency_list)>1000:\n",
    "        break\n",
    "            \n",
    "    if i%30000==0:\n",
    "        print(datetime.datetime.now().strftime(\"[%H:%M:%S]\"),\"ind\",i)\n",
    "        print(len(adjacency_list))"
   ]
  },
  {
   "cell_type": "code",
   "execution_count": null,
   "metadata": {},
   "outputs": [],
   "source": [
    "len(adjacency_list)"
   ]
  },
  {
   "cell_type": "code",
   "execution_count": null,
   "metadata": {},
   "outputs": [],
   "source": [
    "list(adjacency_list.items())[0:10]"
   ]
  },
  {
   "cell_type": "code",
   "execution_count": null,
   "metadata": {},
   "outputs": [],
   "source": [
    "list(page_taxon_title.items())[0:10]"
   ]
  },
  {
   "cell_type": "code",
   "execution_count": null,
   "metadata": {},
   "outputs": [],
   "source": [
    "for page,taxons in page_taxon_title.items():\n",
    "    page_taxon_title[page] = \"_\".join([taxon if taxon is not None else \"None\" for taxon in taxons])   "
   ]
  },
  {
   "cell_type": "markdown",
   "metadata": {},
   "source": [
    "### Set up colors"
   ]
  },
  {
   "cell_type": "code",
   "execution_count": null,
   "metadata": {},
   "outputs": [],
   "source": [
    "N = len(page_taxon_title.values())\n",
    "HSV_tuples = [(x*1.0/N, 0.5, 0.5) for x in range(N)]\n",
    "RGB_tuples = map(lambda x: colorsys.hsv_to_rgb(*x), HSV_tuples)\n",
    "RGB_tuples = list(RGB_tuples)"
   ]
  },
  {
   "cell_type": "code",
   "execution_count": null,
   "metadata": {},
   "outputs": [],
   "source": [
    "taxon_color = {taxon:RGB_tuples[i] for i,taxon in enumerate(page_taxon_title.values())}"
   ]
  },
  {
   "cell_type": "code",
   "execution_count": null,
   "metadata": {},
   "outputs": [],
   "source": [
    "digraph = nx.DiGraph()"
   ]
  },
  {
   "cell_type": "code",
   "execution_count": null,
   "metadata": {},
   "outputs": [],
   "source": [
    "for node,out_nodes in adjacency_list.items():\n",
    "    color = taxon_color[page_taxon_title[node]]\n",
    "    digraph.add_node(node,taxon=page_taxon_title[node],color=color)\n",
    "    for o_node in out_nodes:\n",
    "        color = taxon_color[page_taxon_title[o_node]]\n",
    "        digraph.add_node(o_node,taxon=page_taxon_title[o_node],color=color)\n",
    "        digraph.add_edge(node,o_node)"
   ]
  },
  {
   "cell_type": "code",
   "execution_count": null,
   "metadata": {},
   "outputs": [],
   "source": [
    "digraph.edges()"
   ]
  },
  {
   "cell_type": "code",
   "execution_count": null,
   "metadata": {},
   "outputs": [],
   "source": [
    "edges = digraph.edges()\n",
    "color_map = [data['color'] for _,data in digraph.nodes(data=True)]\n",
    "pos = nx.nx_agraph.graphviz_layout(digraph, prog='neato')\n",
    "nx.draw(digraph, pos, node_size=20, fontsize=12, edges=edges, node_color=color_map)\n",
    "plt.show()"
   ]
  },
  {
   "cell_type": "code",
   "execution_count": null,
   "metadata": {},
   "outputs": [],
   "source": []
  }
 ],
 "metadata": {
  "kernelspec": {
   "display_name": "Python 3",
   "language": "python",
   "name": "python3"
  },
  "language_info": {
   "codemirror_mode": {
    "name": "ipython",
    "version": 3
   },
   "file_extension": ".py",
   "mimetype": "text/x-python",
   "name": "python",
   "nbconvert_exporter": "python",
   "pygments_lexer": "ipython3",
   "version": "3.6.0"
  }
 },
 "nbformat": 4,
 "nbformat_minor": 2
}
