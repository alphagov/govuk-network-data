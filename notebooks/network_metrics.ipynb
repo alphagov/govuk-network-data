{
 "cells": [
  {
   "cell_type": "markdown",
   "metadata": {},
   "source": [
    "Similar but less detailed than the networkx tutorial. This notebook, in addition includes code on using community detection which works with undirected graph. It also demonstrates the GOV.UK search API which can be used to filter pages for a specific taxon. This can be used to generate a page list."
   ]
  },
  {
   "cell_type": "code",
   "execution_count": 15,
   "metadata": {},
   "outputs": [],
   "source": [
    "import os\n",
    "import networkx as nx\n",
    "import pandas as pd\n",
    "import numpy as np\n",
    "import gzip\n",
    "import operator"
   ]
  },
  {
   "cell_type": "markdown",
   "metadata": {},
   "source": [
    "## Load in data"
   ]
  },
  {
   "cell_type": "code",
   "execution_count": 2,
   "metadata": {},
   "outputs": [],
   "source": [
    "output_dir = os.path.join(os.getenv(\"DATA_DIR\"), \"network_data\")"
   ]
  },
  {
   "cell_type": "code",
   "execution_count": 3,
   "metadata": {},
   "outputs": [],
   "source": [
    "nodes_path = os.path.join(output_dir, \"for_networkx_tutorial_nodes.csv.gz\")\n",
    "edges_path = os.path.join(output_dir, \"for_networkx_tutorial_edges.csv.gz\")"
   ]
  },
  {
   "cell_type": "code",
   "execution_count": 4,
   "metadata": {},
   "outputs": [],
   "source": [
    "# with gzip.open(nodes_path,\"rt\") as file:\n",
    "#     print(file.readline())\n",
    "#     for i,line in enumerate(file):\n",
    "#         if len(line.replace(\"\\n\",\"\").split(\"\\t\")) != 2:\n",
    "#             print(line)"
   ]
  },
  {
   "cell_type": "code",
   "execution_count": 5,
   "metadata": {},
   "outputs": [],
   "source": [
    "df_edges = pd.read_csv(edges_path, sep=\"\\t\", compression=\"gzip\")"
   ]
  },
  {
   "cell_type": "code",
   "execution_count": 6,
   "metadata": {},
   "outputs": [],
   "source": [
    "df_nodes = pd.read_csv(nodes_path, sep=\"\\t\", compression=\"gzip\")"
   ]
  },
  {
   "cell_type": "code",
   "execution_count": 7,
   "metadata": {},
   "outputs": [
    {
     "data": {
      "text/html": [
       "<div>\n",
       "<style scoped>\n",
       "    .dataframe tbody tr th:only-of-type {\n",
       "        vertical-align: middle;\n",
       "    }\n",
       "\n",
       "    .dataframe tbody tr th {\n",
       "        vertical-align: top;\n",
       "    }\n",
       "\n",
       "    .dataframe thead th {\n",
       "        text-align: right;\n",
       "    }\n",
       "</style>\n",
       "<table border=\"1\" class=\"dataframe\">\n",
       "  <thead>\n",
       "    <tr style=\"text-align: right;\">\n",
       "      <th></th>\n",
       "      <th>Node</th>\n",
       "      <th>Node_id</th>\n",
       "    </tr>\n",
       "  </thead>\n",
       "  <tbody>\n",
       "    <tr>\n",
       "      <th>0</th>\n",
       "      <td>/</td>\n",
       "      <td>62</td>\n",
       "    </tr>\n",
       "    <tr>\n",
       "      <th>1</th>\n",
       "      <td>/ /t _blank</td>\n",
       "      <td>26028</td>\n",
       "    </tr>\n",
       "    <tr>\n",
       "      <th>2</th>\n",
       "      <td>/ vehicle tax</td>\n",
       "      <td>41504</td>\n",
       "    </tr>\n",
       "    <tr>\n",
       "      <th>3</th>\n",
       "      <td>/ vehicle-tax</td>\n",
       "      <td>21925</td>\n",
       "    </tr>\n",
       "    <tr>\n",
       "      <th>4</th>\n",
       "      <td>/-tax</td>\n",
       "      <td>43496</td>\n",
       "    </tr>\n",
       "  </tbody>\n",
       "</table>\n",
       "</div>"
      ],
      "text/plain": [
       "            Node  Node_id\n",
       "0              /       62\n",
       "1    / /t _blank    26028\n",
       "2  / vehicle tax    41504\n",
       "3  / vehicle-tax    21925\n",
       "4          /-tax    43496"
      ]
     },
     "execution_count": 7,
     "metadata": {},
     "output_type": "execute_result"
    }
   ],
   "source": [
    "df_nodes.head()"
   ]
  },
  {
   "cell_type": "markdown",
   "metadata": {},
   "source": [
    "## Initialize graph"
   ]
  },
  {
   "cell_type": "code",
   "execution_count": 8,
   "metadata": {},
   "outputs": [],
   "source": [
    "graph = nx.DiGraph()"
   ]
  },
  {
   "cell_type": "code",
   "execution_count": 9,
   "metadata": {},
   "outputs": [],
   "source": [
    "for tup in df_edges.itertuples():\n",
    "    graph.add_edge(tup.Source_node,tup.Destination_node,weight=tup.Weight)"
   ]
  },
  {
   "cell_type": "code",
   "execution_count": 14,
   "metadata": {},
   "outputs": [
    {
     "name": "stdout",
     "output_type": "stream",
     "text": [
      "Type: DiGraph\n",
      "Number of nodes: 58743\n",
      "Number of edges: 154219\n",
      "Average in degree:   2.6253\n",
      "Average out degree:   2.6253\n"
     ]
    }
   ],
   "source": [
    "for line in nx.info(graph).split(\"\\n\")[1:]:\n",
    "    print(line)"
   ]
  },
  {
   "cell_type": "code",
   "execution_count": 20,
   "metadata": {},
   "outputs": [
    {
     "name": "stdout",
     "output_type": "stream",
     "text": [
      "/sure-start-maternity-grant/how-to-claim /government/publications/sure-start-maternity-grant-claim-form {'weight': 2177.0}\n",
      "/sure-start-maternity-grant/how-to-claim /sure-start-maternity-grant/eligibility {'weight': 355.0}\n",
      "/sure-start-maternity-grant/how-to-claim /sure-start-maternity-grant/how-to-claim {'weight': 267.0}\n",
      "/sure-start-maternity-grant/how-to-claim /sure-start-maternity-grant {'weight': 159.0}\n",
      "/sure-start-maternity-grant/how-to-claim /sure-start-maternity-grant/what-youll-get {'weight': 37.0}\n",
      "/sure-start-maternity-grant/how-to-claim /browse/childcare-parenting/pregnancy-birth {'weight': 2.0}\n",
      "/sure-start-maternity-grant/how-to-claim /child-tax-credit {'weight': 2.0}\n",
      "/sure-start-maternity-grant/how-to-claim /government/publications/new-dwp-postal-addresses {'weight': 6.0}\n",
      "/sure-start-maternity-grant/how-to-claim /sign-in-universal-credit {'weight': 5.0}\n",
      "/sure-start-maternity-grant/how-to-claim /benefits-calculators {'weight': 3.0}\n"
     ]
    }
   ],
   "source": [
    "list(graph.edges())[0:10]\n",
    "for source,dest,data in list(graph.edges(data=True))[0:10]:\n",
    "    print(source,dest,data)"
   ]
  },
  {
   "cell_type": "code",
   "execution_count": 57,
   "metadata": {},
   "outputs": [],
   "source": [
    "### Filter graph \n",
    "# graph_frequent = graph.edge_subgraph([(source,dest) for source,dest,data\\\n",
    "#                                       in graph.edges(data=True) if data['weight'] > 100]).copy()  \n",
    "graph_frequent = nx.DiGraph()\n",
    "for tup in df_edges.itertuples():\n",
    "#     tup.Weight > 100 or\n",
    "    if  any('brexit' in url for url in (tup.Source_node,tup.Destination_node)):\n",
    "        graph_frequent.add_edge(tup.Source_node,tup.Destination_node,weight=tup.Weight)\n",
    "        "
   ]
  },
  {
   "cell_type": "code",
   "execution_count": 58,
   "metadata": {},
   "outputs": [
    {
     "name": "stdout",
     "output_type": "stream",
     "text": [
      "Type: DiGraph\n",
      "Number of nodes: 413\n",
      "Number of edges: 720\n",
      "Average in degree:   1.7433\n",
      "Average out degree:   1.7433\n"
     ]
    }
   ],
   "source": [
    "for line in nx.info(graph_frequent).split(\"\\n\")[1:]:\n",
    "    print(line)"
   ]
  },
  {
   "cell_type": "markdown",
   "metadata": {},
   "source": [
    "## Centralities"
   ]
  },
  {
   "cell_type": "code",
   "execution_count": 59,
   "metadata": {},
   "outputs": [
    {
     "name": "stdout",
     "output_type": "stream",
     "text": [
      "CPU times: user 658 µs, sys: 34 µs, total: 692 µs\n",
      "Wall time: 697 µs\n",
      "CPU times: user 401 ms, sys: 3.29 ms, total: 404 ms\n",
      "Wall time: 403 ms\n",
      "CPU times: user 202 ms, sys: 513 µs, total: 203 ms\n",
      "Wall time: 203 ms\n"
     ]
    }
   ],
   "source": [
    "%time degree_centralities = nx.degree_centrality(graph_frequent)\n",
    "%time betweenness_centralities = nx.betweenness_centrality(graph_frequent, weight=\"weight\")\n",
    "%time load_centralities = nx.load_centrality(graph_frequent, weight=\"weight\")"
   ]
  },
  {
   "cell_type": "code",
   "execution_count": 60,
   "metadata": {},
   "outputs": [],
   "source": [
    "def centralities_print(centralities,i):\n",
    "    max_key = max(centralities.items(), key=operator.itemgetter(1))[0]\n",
    "    print(\"Maximum:\",max_key,\":\",centralities[max_key],\"\\n\")\n",
    "    sorted_d = sorted(centralities.items(), key=operator.itemgetter(1), reverse=True)\n",
    "    for ind,(key,value) in enumerate(list(sorted_d)):\n",
    "#         if ind < i:\n",
    "#             print(ind+1,key,\":\",value)\n",
    "        if \"brexit\" in key:\n",
    "            print(ind+1,key,\":\",value)"
   ]
  },
  {
   "cell_type": "code",
   "execution_count": 56,
   "metadata": {},
   "outputs": [
    {
     "name": "stdout",
     "output_type": "stream",
     "text": [
      "Maximum: / : 0.062458361092604935 \n",
      "\n",
      "11 /guidance/passport-rules-for-travel-to-europe-after-brexit : 0.011325782811459028\n",
      "21 /government/brexit : 0.007994670219853431\n",
      "83 /guidance/prepare-to-drive-in-the-eu-after-brexit : 0.003997335109926716\n",
      "152 /government/news/new-law-proposed-to-safeguard-uk-citizens-healthcare-abroad-after-brexit : 0.002831445702864757\n",
      "190 /government/publications/travelling-to-the-eu-with-a-uk-passport-if-theres-no-brexit-deal/travelling-to-the-eu-with-a-uk-passport-if-theres-no-brexit-deal : 0.002498334443704197\n",
      "199 /government/news/ip-and-brexit-the-facts : 0.002498334443704197\n",
      "227 /world/brexit-ireland : 0.002331778814123917\n",
      "230 /government/publications/trading-with-the-eu-if-theres-no-brexit-deal/trading-with-the-eu-if-theres-no-brexit-deal : 0.002331778814123917\n",
      "337 /government/publications/meeting-climate-change-requirements-if-theres-no-brexit-deal/meeting-climate-change-requirements-if-theres-no-brexit-deal : 0.0018321119253830779\n",
      "357 /government/publications/vat-for-businesses-if-theres-no-brexit-deal/vat-for-businesses-if-theres-no-brexit-deal : 0.0018321119253830779\n",
      "405 /government/collections/cmas-role-after-brexit : 0.0016655562958027982\n",
      "423 /government/publications/banking-insurance-and-other-financial-services-if-theres-no-brexit-deal/banking-insurance-and-other-financial-services-if-theres-no-brexit-deal : 0.0016655562958027982\n",
      "424 /government/publications/data-protection-if-theres-no-brexit-deal/data-protection-if-theres-no-brexit-deal : 0.0016655562958027982\n",
      "425 /government/speeches/post-brexit-state-aid-in-the-uk : 0.0016655562958027982\n",
      "452 /government/publications/cmas-role-in-antitrust-if-theres-no-brexit-deal/cmas-role-in-antitrust-if-theres-no-brexit-deal : 0.0014990006662225185\n",
      "472 /government/publications/cmas-role-if-theres-no-brexit-deal/cmas-role-if-theres-no-brexit-deal : 0.0014990006662225185\n",
      "490 /government/publications/taking-your-pet-abroad-if-theres-no-brexit-deal : 0.0014990006662225185\n",
      "491 /government/publications/taking-your-pet-abroad-if-theres-no-brexit-deal/taking-your-pet-abroad-if-theres-no-brexit-deal : 0.0014990006662225185\n",
      "492 /government/publications/regulating-chemicals-reach-if-theres-no-brexit-deal/regulating-chemicals-reach-if-theres-no-brexit-deal : 0.0014990006662225185\n",
      "493 /government/publications/cmas-role-in-mergers-if-theres-no-brexit-deal/cmas-role-in-mergers-if-theres-no-brexit-deal : 0.0014990006662225185\n",
      "494 /government/publications/structuring-your-business-if-theres-no-brexit-deal--2/structuring-your-business-if-theres-no-brexit-deal : 0.0014990006662225185\n",
      "495 /government/publications/how-medicines-medical-devices-and-clinical-trials-would-be-regulated-if-theres-no-brexit-deal/how-medicines-medical-devices-and-clinical-trials-would-be-regulated-if-theres-no-brexit-deal : 0.0014990006662225185\n",
      "570 /government/publications/cmas-role-if-theres-no-brexit-deal : 0.0013324450366422385\n",
      "589 /government/publications/flights-to-and-from-the-uk-if-theres-no-brexit-deal : 0.0013324450366422385\n",
      "593 /government/publications/trading-with-the-eu-if-theres-no-brexit-deal : 0.0013324450366422385\n",
      "594 /government/publications/cmas-role-after-brexit : 0.0013324450366422385\n",
      "596 /search?q=brexit : 0.0013324450366422385\n",
      "597 /world/brexit : 0.0013324450366422385\n",
      "598 /government/publications/horizon-2020-funding-if-theres-no-brexit-deal/horizon-2020-funding-if-theres-no-brexit-deal--2 : 0.0013324450366422385\n",
      "722 /government/publications/vat-for-businesses-if-theres-no-brexit-deal : 0.0011658894070619586\n",
      "724 /email-signup/?topic=/government/brexit : 0.0011658894070619586\n",
      "726 /government/publications/travelling-to-the-eu-with-a-uk-passport-if-theres-no-brexit-deal : 0.0011658894070619586\n",
      "730 /government/publications/existing-free-trade-agreements-if-theres-no-brexit-deal : 0.0011658894070619586\n",
      "733 /government/publications/cmas-role-after-brexit/cmas-role-after-brexit : 0.0011658894070619586\n",
      "739 /government/publications/classifying-labelling-and-packaging-chemicals-if-theres-no-brexit-deal/classifying-labelling-and-packaging-chemicals-if-theres-no-brexit-deal : 0.0011658894070619586\n",
      "740 /government/publications/providing-services-including-those-of-a-qualified-professional-if-theres-no-brexit-deal/providing-services-including-those-of-a-qualified-professional-if-theres-no-brexit-deal : 0.0011658894070619586\n",
      "741 /government/publications/driving-in-the-eu-if-theres-no-brexit-deal/driving-in-the-eu-if-theres-no-brexit-deal : 0.0011658894070619586\n",
      "742 /government/publications/data-protection-if-theres-no-brexit-deal : 0.0011658894070619586\n",
      "743 /government/publications/the-governments-guarantee-for-eu-funded-programmes-if-theres-no-brexit-deal/the-governments-guarantee-for-eu-funded-programmes-if-theres-no-brexit-deal : 0.0011658894070619586\n",
      "749 /government/publications/travelling-in-the-common-travel-area-if-theres-no-brexit-deal/travelling-within-the-common-travel-area-and-the-associated-rights-of-british-and-irish-citizens-if-there-is-no-brexit-deal : 0.000999333777481679\n",
      "786 /government/publications/meeting-climate-change-requirements-if-theres-no-brexit-deal : 0.000999333777481679\n",
      "898 /government/publications/workplace-rights-if-theres-no-brexit-deal/workplace-rights-if-theres-no-brexit-deal : 0.000999333777481679\n",
      "925 /government/publications/the-future-for-food-farming-and-the-environment-policy-statement-2018/health-and-harmony-the-future-for-food-farming-and-the-environment-in-a-green-brexit-policy-statement : 0.000999333777481679\n",
      "929 /government/publications/trade-marks-and-designs-if-theres-no-brexit-deal/trade-marks-and-designs-if-theres-no-brexit-deal : 0.000999333777481679\n",
      "932 /government/publications/trading-goods-regulated-under-the-new-approach-if-theres-no-brexit-deal/trading-goods-regulated-under-the-new-approach-if-theres-no-brexit-deal : 0.000999333777481679\n",
      "938 /government/publications/classifying-your-goods-in-the-uk-trade-tariff-if-theres-no-brexit-deal/classifying-your-goods-in-the-uk-trade-tariff-if-theres-a-no-brexit-deal : 0.000999333777481679\n",
      "942 /government/publications/flights-to-and-from-the-uk-if-theres-no-brexit-deal/flights-to-and-from-the-uk-if-theres-no-brexit-deal : 0.000999333777481679\n",
      "943 /government/publications/driving-in-the-eu-if-theres-no-brexit-deal : 0.000999333777481679\n",
      "944 /government/publications/copyright-if-theres-no-brexit-deal/copyright-if-theres-no-brexit-deal : 0.000999333777481679\n",
      "945 /government/publications/exporting-animals-and-animal-products-if-theres-no-brexit-deal/exporting-animals-and-animal-products-if-theres-no-brexit-deal : 0.000999333777481679\n",
      "946 /government/publications/importing-high-risk-food-and-animal-feed-if-theres-no-brexit-deal--2/importing-high-risk-food-and-animal-feed-if-theres-no-brexit-deal : 0.000999333777481679\n",
      "947 /government/publications/commercial-road-haulage-in-the-eu-if-theres-no-brexit-deal/commercial-road-haulage-in-the-eu-if-theres-no-brexit-deal : 0.000999333777481679\n",
      "948 /government/publications/producing-and-labelling-food-if-theres-no-brexit-deal/producing-and-labelling-food-if-theres-no-brexit-deal : 0.000999333777481679\n",
      "1156 /government/publications/rail-transport-if-theres-no-brexit-deal : 0.0008327781479013991\n",
      "1162 /email-signup/confirm?topic=/government/brexit : 0.0008327781479013991\n",
      "1172 /government/publications/structuring-your-business-if-theres-no-brexit-deal--2 : 0.0008327781479013991\n",
      "1181 /government/publications/trade-marks-and-designs-if-theres-no-brexit-deal : 0.0008327781479013991\n",
      "1195 /government/publications/existing-free-trade-agreements-if-theres-no-brexit-deal/existing-free-trade-agreements-if-theres-no-brexit-deal : 0.0008327781479013991\n",
      "1200 /government/publications/trade-remedies-if-theres-no-brexit-deal/trade-remedies-if-theres-no-brexit-deal : 0.0008327781479013991\n",
      "1206 /government/publications/aviation-safety-if-theres-no-brexit-deal : 0.0008327781479013991\n",
      "1207 /government/publications/aviation-safety-if-theres-no-brexit-deal/aviation-safety-if-theres-no-brexit-deal : 0.0008327781479013991\n",
      "1208 /government/news/dhsc-publishes-brexit-guidance-for-pharmaceutical-industry-and-suppliers-of-medical-devices : 0.0008327781479013991\n",
      "1209 /government/publications/how-medicines-medical-devices-and-clinical-trials-would-be-regulated-if-theres-no-brexit-deal : 0.0008327781479013991\n",
      "1210 /government/publications/travelling-in-the-common-travel-area-if-theres-no-brexit-deal : 0.0008327781479013991\n",
      "1211 /government/publications/commercial-road-haulage-in-the-eu-if-theres-no-brexit-deal : 0.0008327781479013991\n",
      "1212 /government/publications/no-deal-brexit-advice-for-businesses-only-trading-with-the-eu : 0.0008327781479013991\n",
      "1213 /government/publications/exporting-animals-and-animal-products-if-theres-no-brexit-deal : 0.0008327781479013991\n",
      "1214 /government/publications/vehicle-insurance-if-theres-no-brexit-deal : 0.0008327781479013991\n",
      "1215 /government/publications/exporting-controlled-goods-if-theres-no-brexit-deal : 0.0008327781479013991\n",
      "1216 /government/publications/broadcasting-and-video-on-demand-if-theres-no-brexit-deal/broadcasting-and-video-on-demand-if-theres-no-brexit-deal : 0.0008327781479013991\n",
      "1217 /government/speeches/why-british-trade-with-africa-caribbean-and-pacific-nations-can-boom-after-brexit--2 : 0.0008327781479013991\n",
      "1291 /government/publications/cmas-role-in-antitrust-if-theres-no-brexit-deal : 0.0006662225183211193\n",
      "1314 /government/publications/cmas-role-in-mergers-if-theres-no-brexit-deal : 0.0006662225183211193\n",
      "1470 /government/publications/workplace-rights-if-theres-no-brexit-deal : 0.0006662225183211193\n",
      "1522 /government/publications/accessing-public-sector-contracts-if-theres-no-brexit-deal/accessing-public-sector-contracts-if-theres-no-brexit-deal : 0.0006662225183211193\n",
      "1532 /government/publications/erasmus-in-the-uk-if-theres-no-brexit-deal/erasmus-in-the-uk-if-theres-no-brexit-deal : 0.0006662225183211193\n",
      "1536 /email/subscriptions/new?topic_id=brexit-p : 0.0006662225183211193\n",
      "1556 /government/publications/exporting-controlled-goods-if-theres-no-brexit-deal/exporting-controlled-goods-if-theres-no-brexit-deal : 0.0006662225183211193\n",
      "1558 /government/news/landmark-agriculture-bill-to-deliver-a-green-brexit : 0.0006662225183211193\n",
      "1561 /government/publications/banking-insurance-and-other-financial-services-if-theres-no-brexit-deal : 0.0006662225183211193\n",
      "1572 /government/publications/upholding-environmental-standards-if-theres-no-brexit-deal/upholding-environmental-standards-if-theres-no-brexit-deal : 0.0006662225183211193\n",
      "1573 /government/news/new-environment-law-to-deliver-a-green-brexit : 0.0006662225183211193\n",
      "1598 /government/publications/providing-services-including-those-of-a-qualified-professional-if-theres-no-brexit-deal : 0.0006662225183211193\n",
      "1600 /government/publications/regulating-biocidal-products-if-theres-no-brexit-deal/regulating-biocidal-products-if-theres-no-brexit-deal : 0.0006662225183211193\n",
      "1611 /government/publications/classifying-your-goods-in-the-uk-trade-tariff-if-theres-no-brexit-deal : 0.0006662225183211193\n",
      "1627 /government/publications/trade-remedies-if-theres-no-brexit-deal : 0.0006662225183211193\n",
      "1633 /government/publications/industrial-emissions-standards-best-available-techniques-if-theres-no-brexit-deal : 0.0006662225183211193\n",
      "1639 /government/publications/accounting-and-audit-if-theres-no-brexit-deal/accounting-and-audit-if-theres-no-brexit-deal : 0.0006662225183211193\n",
      "1641 /government/publications/appointing-nominated-persons-to-your-business-if-theres-no-brexit-deal/appointing-nominated-persons-to-your-business-if-theres-no-brexit-deal : 0.0006662225183211193\n",
      "1642 /government/publications/commercial-fishing-if-theres-no-brexit-deal/commercial-fishing-if-theres-no-brexit-deal : 0.0006662225183211193\n",
      "1643 /government/publications/consumer-rights-if-theres-no-brexit-deal--2/consumer-rights-if-theres-no-brexit-deal : 0.0006662225183211193\n",
      "1646 /government/publications/running-an-oil-or-gas-business-if-theres-no-brexit-deal/running-an-oil-or-gas-business-if-theres-no-brexit-deal : 0.0006662225183211193\n",
      "1647 /government/publications/export-and-import-of-hazardous-chemicals-if-theres-no-brexit-deal/export-and-import-of-hazardous-chemicals-if-theres-no-brexit-deal : 0.0006662225183211193\n",
      "1648 /government/publications/state-aid-if-theres-no-brexit-deal : 0.0006662225183211193\n",
      "1651 /government/publications/trading-electricity-if-theres-no-brexit-deal : 0.0006662225183211193\n",
      "1652 /government/publications/exporting-gm-food-and-animal-feed-products-if-theres-no-brexit-deal/exporting-gm-food-and-animal-feed-products-if-theres-no-brexit-deal : 0.0006662225183211193\n",
      "1653 /government/publications/health-marks-on-meat-fish-and-dairy-products-if-theres-no-brexit-deal/health-marks-on-meat-fish-and-dairy-products-if-theres-no-brexit-deal : 0.0006662225183211193\n",
      "1654 /government/publications/horizon-2020-funding-if-theres-no-brexit-deal : 0.0006662225183211193\n",
      "1655 /government/publications/handling-civil-legal-cases-that-involve-eu-countries-if-theres-no-brexit-deal : 0.0006662225183211193\n",
      "1656 /government/publications/producing-and-processing-organic-food-if-theres-no-brexit-deal/producing-and-processing-organic-food-if-theres-no-brexit-deal : 0.0006662225183211193\n",
      "1657 /government/publications/sanctions-policy-if-theres-no-brexit-deal/sanctions-policy-if-theres-no-brexit-deal : 0.0006662225183211193\n",
      "1658 /government/publications/regulating-pesticides-if-theres-no-brexit-deal/regulating-pesticides-if-theres-no-brexit-deal : 0.0006662225183211193\n",
      "1659 /government/publications/satellites-and-space-programmes-if-theres-no-brexit-deal : 0.0006662225183211193\n",
      "1660 /government/publications/handling-civil-legal-cases-that-involve-eu-countries-if-theres-no-brexit-deal/handling-civil-legal-cases-that-involve-eu-countries-if-theres-no-brexit-deal : 0.0006662225183211193\n",
      "1661 /government/publications/generating-low-carbon-electricity-if-theres-no-brexit-deal : 0.0006662225183211193\n",
      "1662 /government/publications/exhaustion-of-intellectual-property-rights-if-theres-no-brexit-deal/exhaustion-of-intellectual-property-rights-if-theres-no-brexit-deal : 0.0006662225183211193\n",
      "1663 /government/publications/batch-testing-medicines-if-theres-no-brexit-deal/batch-testing-medicines-if-theres-no-brexit-deal : 0.0006662225183211193\n",
      "1664 /government/collections/information-for-the-health-and-care-sector-about-planning-for-a-potential-no-deal-brexit : 0.0006662225183211193\n",
      "1666 /government/publications/plant-variety-rights-and-marketing-of-seed-and-propagating-material-if-theres-no-brexit-deal/plant-variety-rights-and-marketing-of-seed-and-propagating-material-if-theres-no-brexit-deal : 0.0006662225183211193\n",
      "1667 /government/publications/meeting-rail-safety-and-standards-if-theres-no-brexit-deal : 0.0006662225183211193\n",
      "1668 /government/publications/producing-and-labelling-food-if-theres-no-brexit-deal : 0.0006662225183211193\n",
      "1669 /government/publications/commercial-fishing-if-theres-no-brexit-deal : 0.0006662225183211193\n",
      "1675 /government/publications/patents-if-theres-no-brexit-deal : 0.0004996668887408394\n",
      "1676 /government/publications/patents-if-theres-no-brexit-deal/patents-if-theres-no-brexit-deal : 0.0004996668887408394\n",
      "2029 /government/publications/rail-transport-if-theres-no-brexit-deal/rail-transport-if-theres-no-brexit-deal : 0.0004996668887408394\n",
      "2035 /government/publications/erasmus-in-the-uk-if-theres-no-brexit-deal : 0.0004996668887408394\n",
      "2078 /government/publications/trading-electricity-if-theres-no-brexit-deal/trading-electricity-if-theres-no-brexit-deal : 0.0004996668887408394\n",
      "2079 /government/publications/merger-review-and-anti-competitive-activity-if-theres-no-brexit-deal/merger-review-and-anti-competitive-activity-if-theres-no-brexit-deal : 0.0004996668887408394\n",
      "2081 /government/publications/trading-under-the-mutual-recognition-principle-if-theres-no-brexit-deal/trading-under-the-mutual-recognition-principle-if-theres-no-brexit-deal : 0.0004996668887408394\n",
      "2100 /government/publications/classifying-labelling-and-packaging-chemicals-if-theres-no-brexit-deal : 0.0004996668887408394\n",
      "2108 /government/publications/regulating-chemicals-reach-if-theres-no-brexit-deal : 0.0004996668887408394\n",
      "2112 /government/publications/buying-and-selling-timber-if-theres-no-brexit-deal/buying-and-selling-timber-if-theres-no-brexit-deal : 0.0004996668887408394\n",
      "2146 /government/publications/importing-and-exporting-plants-if-theres-no-brexit-deal/importing-and-exporting-plants-and-plant-products-if-theres-no-brexit-deal : 0.0004996668887408394\n",
      "2178 /government/publications/buying-and-selling-timber-if-theres-no-brexit-deal : 0.0004996668887408394\n",
      "2209 /email/subscriptions/complete?frequency=immediately&topic_id=brexit-p : 0.0004996668887408394\n",
      "2228 /government/publications/appointing-nominated-persons-to-your-business-if-theres-no-brexit-deal : 0.0004996668887408394\n",
      "2234 /government/publications/trading-gas-with-the-eu-if-theres-no-brexit-deal : 0.0004996668887408394\n",
      "2238 /government/publications/european-regional-development-funding-if-theres-no-brexit-deal : 0.0004996668887408394\n",
      "2239 /government/publications/european-regional-development-funding-if-theres-no-brexit-deal/european-regional-development-funding-if-theres-no-brexit-deal : 0.0004996668887408394\n",
      "2240 /government/publications/consumer-rights-if-theres-no-brexit-deal--2 : 0.0004996668887408394\n",
      "2257 /government/publications/using-and-trading-in-fluorinated-gases-and-ozone-depleting-substances-if-theres-no-brexit-deal/using-and-trading-in-fluorinated-gases-and-ozone-depleting-substances-if-theres-no-brexit-deal : 0.0004996668887408394\n",
      "2259 /government/publications/regulating-biocidal-products-if-theres-no-brexit-deal?utm_name= : 0.0004996668887408394\n",
      "2267 /government/publications/maintaining-the-continuity-of-waste-shipments-if-theres-no-brexit-deal/maintaining-the-continuity-of-waste-shipments-if-theres-no-brexit-deal : 0.0004996668887408394\n",
      "2268 /print/government/publications/banking-insurance-and-other-financial-services-if-theres-no-brexit-deal/banking-insurance-and-other-financial-services-if-theres-no-brexit-deal : 0.0004996668887408394\n",
      "2269 /government/publications/mobile-roaming-if-theres-no-brexit-deal : 0.0004996668887408394\n",
      "2272 /government/publications/generating-low-carbon-electricity-if-theres-no-brexit-deal/generating-low-carbon-electricity-if-theres-no-brexit-deal : 0.0004996668887408394\n",
      "2273 /government/publications/aviation-security-if-theres-no-brexit-deal : 0.0004996668887408394\n",
      "2274 /government/publications/aviation-security-if-theres-no-brexit-deal/aviation-security-if-theres-no-brexit-deal : 0.0004996668887408394\n",
      "2275 /government/publications/meeting-rail-safety-and-standards-if-theres-no-brexit-deal/meeting-rail-safety-and-standards-if-theres-no-brexit-deal : 0.0004996668887408394\n",
      "2276 /government/publications/protecting-geographical-food-and-drink-names-if-theres-no-brexit-deal : 0.0004996668887408394\n",
      "2277 /government/publications/health-marks-on-meat-fish-and-dairy-products-if-theres-no-brexit-deal : 0.0004996668887408394\n",
      "2278 /government/news/prime-minister-hails-new-era-of-dutch-uk-security-cooperation-post-brexit : 0.0004996668887408394\n",
      "2279 /government/publications/batch-testing-medicines-if-theres-no-brexit-deal : 0.0004996668887408394\n",
      "2280 /government/publications/plant-variety-rights-and-marketing-of-seed-and-propagating-material-if-theres-no-brexit-deal : 0.0004996668887408394\n",
      "2281 /print/government/publications/how-medicines-medical-devices-and-clinical-trials-would-be-regulated-if-theres-no-brexit-deal/how-medicines-medical-devices-and-clinical-trials-would-be-regulated-if-theres-no-brexit-deal : 0.0004996668887408394\n",
      "2282 /print/government/publications/trade-marks-and-designs-if-theres-no-brexit-deal/trade-marks-and-designs-if-theres-no-brexit-deal : 0.0004996668887408394\n",
      "2283 /government/publications/vehicle-type-approval-if-theres-no-brexit-deal/vehicle-type-approval-if-theres-no-brexit-deal : 0.0004996668887408394\n",
      "2284 /print/government/publications/taking-your-pet-abroad-if-theres-no-brexit-deal/taking-your-pet-abroad-if-theres-no-brexit-deal : 0.0004996668887408394\n",
      "2285 /government/speeches/the-future-of-uk-aid-post-brexit : 0.0004996668887408394\n",
      "2802 /search/advanced?group=news_and_communications&topic=/government/brexit : 0.00033311125916055963\n",
      "2833 /email/subscriptions/new?frequency=daily&topic_id=brexit-p : 0.00033311125916055963\n",
      "2908 /government/publications/getting-an-exemption-from-maritime-security-notifications-if-theres-no-brexit-deal/getting-an-exemption-from-maritime-security-notifications-if-theres-no-brexit-deal : 0.00033311125916055963\n",
      "2988 /government/publications/upholding-environmental-standards-if-theres-no-brexit-deal : 0.00033311125916055963\n",
      "3022 /government/publications/regulating-biocidal-products-if-theres-no-brexit-deal : 0.00033311125916055963\n",
      "3209 /email/subscriptions/new?frequency=immediately&topic_id=brexit-p : 0.00033311125916055963\n",
      "3280 /government/publications/industrial-emissions-standards-best-available-techniques-if-theres-no-brexit-deal/industrial-emissions-standards-best-available-techniques-if-theres-no-brexit-deal : 0.00033311125916055963\n",
      "3368 /government/publications/trading-gas-with-the-eu-if-theres-no-brexit-deal/trading-gas-with-the-eu-if-theres-no-brexit-deal : 0.00033311125916055963\n",
      "3443 /government/publications/running-an-oil-or-gas-business-if-theres-no-brexit-deal : 0.00033311125916055963\n",
      "3444 /government/publications/importing-and-exporting-plants-if-theres-no-brexit-deal : 0.00033311125916055963\n",
      "3445 /government/publications/state-aid-if-theres-no-brexit-deal/state-aid-if-theres-no-brexit-deal : 0.00033311125916055963\n",
      "3447 /government/publications/european-territorial-cooperation-funding-if-theres-no-brexit-deal : 0.00033311125916055963\n",
      "3454 /government/publications/trading-goods-regulated-under-the-new-approach-if-theres-no-brexit-deal : 0.00033311125916055963\n",
      "3456 /government/publications/accessing-public-sector-contracts-if-theres-no-brexit-deal : 0.00033311125916055963\n",
      "3475 /government/publications/importing-animals-and-animal-products-if-theres-no-brexit-deal : 0.00033311125916055963\n",
      "3476 /government/publications/importing-animals-and-animal-products-if-theres-no-brexit-deal/importing-animals-and-animal-products-if-theres-no-brexit-deal : 0.00033311125916055963\n",
      "3477 /government/publications/farm-payments-if-theres-no-brexit-deal : 0.00033311125916055963\n",
      "3489 /government/publications/regulating-pesticides-if-theres-no-brexit-deal?utm_name= : 0.00033311125916055963\n",
      "3521 /government/publications/geo-blocking-of-online-content-if-theres-no-brexit-deal : 0.00033311125916055963\n",
      "3525 /government/publications/copyright-if-theres-no-brexit-deal : 0.00033311125916055963\n",
      "3546 /government/publications/taking-your-pet-abroad-if-theres-no-brexit-deal/taking-your-pet-abroad-if-theres-no-brexit-deal?fbclid=iwar1qs6jj3o0uw24mtqvsklp7vjiuyqeht1dufwjdhoyac0xke4obnszp7jm : 0.00033311125916055963\n",
      "3566 /government/news/pm-brexit-negotiations-statement-21-september-2018 : 0.00033311125916055963\n",
      "3571 /government/publications/quality-and-safety-of-organs-tissues-and-cells-if-theres-no-brexit-deal : 0.00033311125916055963\n",
      "3572 /government/publications/satellites-and-space-programmes-if-theres-no-brexit-deal/satellites-and-space-programmes-if-theres-no-brexit-deal : 0.00033311125916055963\n",
      "3574 /government/publications/what-telecoms-businesses-should-do-if-theres-no-brexit-deal : 0.00033311125916055963\n",
      "3575 /government/publications/accounting-and-audit-if-theres-no-brexit-deal : 0.00033311125916055963\n",
      "3578 /government/news/new-law-proposed-to-safeguard-uk-citizens-healthcare-abroad-after-brexit?fbclid=iwar3yqtx4-pz1jwtmudmbwlfkiojgoot7knmeo6m7ya_ursf1vazkgjapimw : 0.00033311125916055963\n",
      "3586 /government/publications/merger-review-and-anti-competitive-activity-if-theres-no-brexit-deal : 0.00033311125916055963\n",
      "3588 /government/publications/nuclear-research-if-theres-no-brexit-deal : 0.00033311125916055963\n",
      "3589 /government/publications/taking-your-pet-abroad-if-theres-no-brexit-deal/taking-your-pet-abroad-if-theres-no-brexit-deal?fbclid=iwar1edclrdliyibdxtdjdm1ncw82chy7mfrako9xjijta9ypcgq1xs2zof-y : 0.00033311125916055963\n",
      "3590 /government/publications/exhaustion-of-intellectual-property-rights-if-theres-no-brexit-deal : 0.00033311125916055963\n",
      "3591 /government/publications/protecting-geographical-food-and-drink-names-if-theres-no-brexit-deal/producing-food-products-protected-by-a-geographical-indication-if-theres-no-brexit-deal : 0.00033311125916055963\n",
      "3593 /government/publications/european-social-fund-esf-grants-if-theres-no-brexit-deal/european-social-fund-esf-grants-if-theres-no-brexit-deal : 0.00033311125916055963\n",
      "3594 /government/publications/sanctions-policy-if-theres-no-brexit-deal : 0.00033311125916055963\n",
      "3598 /government/publications/labelling-tobacco-products-and-e-cigarettes-if-theres-no-brexit-deal : 0.00033311125916055963\n",
      "3600 /government/publications/road-haulage-and-driving-in-the-eu-post-brexit/ratifying-the-1968-vienna-convention : 0.00033311125916055963\n",
      "3601 /government/publications/broadcasting-and-video-on-demand-if-theres-no-brexit-deal : 0.00033311125916055963\n",
      "3605 /government/publications/chancellor-letter-to-chair-of-treasury-committee-on-no-deal-brexit-economic-analysis : 0.00033311125916055963\n",
      "3607 /email/subscriptions/new?frequency=weekly&topic_id=brexit-p : 0.00033311125916055963\n",
      "3608 /email/subscriptions/complete?frequency=weekly&topic_id=brexit-p : 0.00033311125916055963\n",
      "3609 /search/advanced?group=services&topic=/government/brexit : 0.00033311125916055963\n",
      "3610 /government/publications/the-governments-guarantee-for-eu-funded-programmes-if-theres-no-brexit-deal : 0.00033311125916055963\n",
      "3611 /government/publications/exporting-gm-food-and-animal-feed-products-if-theres-no-brexit-deal : 0.00033311125916055963\n",
      "3612 /government/publications/civil-nuclear-regulation-if-theres-no-brexit-deal/civil-nuclear-regulation-if-theres-no-brexit-deal : 0.00033311125916055963\n",
      "3613 /search?q=brexit+trade : 0.00033311125916055963\n",
      "3618 /government/publications/connecting-europe-facility-energy-funding-if-theres-no-brexit-deal : 0.00033311125916055963\n",
      "3624 /government/publications/trading-with-the-eu-if-theres-no-brexit-deal/trading-with-the-eu-if-theres-no-brexit-deal) : 0.00033311125916055963\n",
      "4229 /email/subscriptions/complete?frequency=daily&topic_id=brexit-p : 0.00016655562958027982\n",
      "4327 /government/publications/trading-under-the-mutual-recognition-principle-if-theres-no-brexit-deal : 0.00016655562958027982\n",
      "4428 /print/government/publications/trading-with-the-eu-if-theres-no-brexit-deal/trading-with-the-eu-if-theres-no-brexit-deal : 0.00016655562958027982\n",
      "5139 /government/publications/funding-for-british-overseas-territories-if-theres-no-brexit-deal : 0.00016655562958027982\n",
      "5140 /government/publications/funding-for-british-overseas-territories-if-theres-no-brexit-deal/funding-for-british-overseas-territories-if-theres-no-brexit-deal : 0.00016655562958027982\n",
      "5435 /government/publications/using-and-trading-in-fluorinated-gases-and-ozone-depleting-substances-if-theres-no-brexit-deal : 0.00016655562958027982\n",
      "5443 /government/publications/european-territorial-cooperation-funding-if-theres-no-brexit-deal/european-territorial-cooperation-funding-if-theres-no-brexit-deal : 0.00016655562958027982\n",
      "5543 /government/publications/farm-payments-if-theres-no-brexit-deal/farm-payments-if-theres-no-brexit-deal : 0.00016655562958027982\n",
      "5634 /guidance/prepare-to-drive-in-the-eu-after-brexit?dm_i=4390,eh72,bzbfo,1n0zz,1&dm_t=0,0,0,0,0 : 0.00016655562958027982\n",
      "5733 /government/publications/geo-blocking-of-online-content-if-theres-no-brexit-deal/geo-blocking-of-online-content-if-theres-no-brexit-deal : 0.00016655562958027982\n",
      "5734 /print/government/publications/vat-for-businesses-if-theres-no-brexit-deal/vat-for-businesses-if-theres-no-brexit-deal : 0.00016655562958027982\n",
      "5750 /government/publications/mobile-roaming-if-theres-no-brexit-deal/mobile-roaming-if-theres-no-brexit-deal : 0.00016655562958027982\n",
      "5813 /government/publications/vehicle-insurance-if-theres-no-brexit-deal/vehicle-insurance-if-theres-no-brexit-deal : 0.00016655562958027982\n",
      "5826 /government/publications/funding-for-uk-life-projects-if-theres-no-brexit-deal : 0.00016655562958027982\n",
      "5827 /government/publications/funding-for-uk-life-projects-if-theres-no-brexit-deal/funding-for-uk-life-projects-if-theres-no-brexit-deal : 0.00016655562958027982\n",
      "5828 /government/publications/control-on-persistent-organic-pollutants-if-theres-no-brexit-deal : 0.00016655562958027982\n",
      "5829 /government/publications/control-on-persistent-organic-pollutants-if-theres-no-brexit-deal/control-on-persistent-organic-pollutants-if-theres-no-brexit-deal : 0.00016655562958027982\n",
      "5833 /government/publications/regulating-chemicals-reach-if-theres-no-brexit-deal?utm_name= : 0.00016655562958027982\n",
      "5866 /government/publications/quality-and-safety-of-organs-tissues-and-cells-if-theres-no-brexit-deal/quality-and-safety-of-organs-tissues-and-cells-if-theres-no-brexit-deal : 0.00016655562958027982\n",
      "5868 /print/government/publications/data-protection-if-theres-no-brexit-deal/data-protection-if-theres-no-brexit-deal : 0.00016655562958027982\n",
      "5870 /print/government/publications/broadcasting-and-video-on-demand-if-theres-no-brexit-deal/broadcasting-and-video-on-demand-if-theres-no-brexit-deal : 0.00016655562958027982\n",
      "5871 /print/guidance/passport-rules-for-travel-to-europe-after-brexit : 0.00016655562958027982\n",
      "5872 /government/publications/what-telecoms-businesses-should-do-if-theres-no-brexit-deal/what-telecoms-businesses-should-do-if-theres-no-brexit-deal : 0.00016655562958027982\n",
      "5873 /print/government/publications/regulating-chemicals-reach-if-theres-no-brexit-deal/regulating-chemicals-reach-if-theres-no-brexit-deal : 0.00016655562958027982\n",
      "5882 /guidance/prepare-to-drive-in-the-eu-after-brexit?fbclid=iwar3la3k41kblot46mnvcynaoqh7xd3ai4jwqr9wyyfaooode47p1ytrmxxc : 0.00016655562958027982\n",
      "5887 /government/publications/delivering-humanitarian-aid-programmes-if-theres-no-brexit-deal : 0.00016655562958027982\n",
      "5888 /government/publications/delivering-humanitarian-aid-programmes-if-theres-no-brexit-deal/delivering-humanitarian-aid-programmes-if-theres-no-brexit-deal : 0.00016655562958027982\n",
      "5892 /print/government/news/new-law-proposed-to-safeguard-uk-citizens-healthcare-abroad-after-brexit : 0.00016655562958027982\n",
      "5900 /government/publications/nuclear-research-if-theres-no-brexit-deal/nuclear-research-if-theres-no-brexit-deal : 0.00016655562958027982\n",
      "5903 /print/government/speeches/post-brexit-state-aid-in-the-uk : 0.00016655562958027982\n",
      "5904 /print/government/publications/producing-and-labelling-food-if-theres-no-brexit-deal/producing-and-labelling-food-if-theres-no-brexit-deal : 0.00016655562958027982\n",
      "5912 /government/publications/getting-an-exemption-from-maritime-security-notifications-if-theres-no-brexit-deal : 0.00016655562958027982\n",
      "5917 /government/publications/submitting-regulatory-information-on-medical-products-if-theres-no-brexit-deal : 0.00016655562958027982\n",
      "5918 /government/publications/submitting-regulatory-information-on-medical-products-if-theres-no-brexit-deal/submitting-regulatory-information-on-medical-products-if-theres-no-brexit-deal : 0.00016655562958027982\n",
      "5920 /search?q=brexit&show_organisations_filter=true : 0.00016655562958027982\n",
      "5922 /government/publications/recognition-of-seafarer-certificates-of-competency-if-theres-no-brexit-deal : 0.00016655562958027982\n",
      "5923 /government/publications/recognition-of-seafarer-certificates-of-competency-if-theres-no-brexit-deal/recognition-of-seafarer-certificates-of-competency-if-theres-no-brexit-deal : 0.00016655562958027982\n",
      "5930 /government/speeches/green-brexit-a-new-era-for-farming-fishing-and-the-environment : 0.00016655562958027982\n",
      "5931 /print/government/publications/providing-services-including-those-of-a-qualified-professional-if-theres-no-brexit-deal/providing-services-including-those-of-a-qualified-professional-if-theres-no-brexit-deal : 0.00016655562958027982\n",
      "5933 /government/publications/export-and-import-of-hazardous-chemicals-if-theres-no-brexit-deal : 0.00016655562958027982\n",
      "5934 /government/publications/labelling-tobacco-products-and-e-cigarettes-if-theres-no-brexit-deal/labelling-tobacco-products-and-e-cigarettes-if-theres-no-brexit-deal : 0.00016655562958027982\n",
      "5935 /government/publications/classifying-labelling-and-packaging-chemicals-if-theres-no-brexit-deal?utm_name= : 0.00016655562958027982\n",
      "5941 /government/publications/european-social-fund-esf-grants-if-theres-no-brexit-deal : 0.00016655562958027982\n",
      "5942 /government/publications/regulating-pesticides-if-theres-no-brexit-deal : 0.00016655562958027982\n",
      "5944 /search/advanced?group=policy_and_engagement&topic=/government/brexit : 0.00016655562958027982\n",
      "5949 /government/publications/importing-high-risk-food-and-animal-feed-if-theres-no-brexit-deal--2 : 0.00016655562958027982\n",
      "5950 /government/publications/breeding-animals-if-theres-no-brexit-deal : 0.00016655562958027982\n",
      "5951 /government/publications/breeding-animals-if-theres-no-brexit-deal/breeding-animals-if-theres-no-brexit-deal : 0.00016655562958027982\n",
      "5952 /government/publications/taking-horses-abroad-if-theres-no-brexit-deal--2 : 0.00016655562958027982\n",
      "5953 /government/publications/taking-horses-abroad-if-theres-no-brexit-deal--2/taking-horses-abroad-if-theres-no-brexit-deal : 0.00016655562958027982\n",
      "5960 /print/government/news/ip-and-brexit-the-facts : 0.00016655562958027982\n",
      "5965 /print/guidance/prepare-to-drive-in-the-eu-after-brexit : 0.00016655562958027982\n",
      "5966 /print/government/publications/trading-goods-regulated-under-the-new-approach-if-theres-no-brexit-deal/trading-goods-regulated-under-the-new-approach-if-theres-no-brexit-deal : 0.00016655562958027982\n",
      "5967 /government/news/national-trade-academy-programme-launched-to-mark-one-year-countdown-to-brexit : 0.00016655562958027982\n",
      "5968 /government/publications?keywords=brexit&taxons[]=all&subtaxons[]=all&publication_filter_option=all&departments[]=department-for-transport&official_document_status=all&world_locations[]=all&from_date=&to_date= : 0.00016655562958027982\n",
      "5970 /government/speeches/pm-statement-on-brexit-15-october-2018 : 0.00016655562958027982\n",
      "5972 /government/publications/vehicle-type-approval-if-theres-no-brexit-deal : 0.00016655562958027982\n",
      "5983 /government/publications/connecting-europe-facility-energy-funding-if-theres-no-brexit-deal/connecting-europe-facility-energy-funding-if-theres-no-brexit-deal : 0.00016655562958027982\n",
      "5997 /government/publications/receiving-rural-development-funding-if-theres-no-brexit-deal : 0.00016655562958027982\n",
      "5998 /print/government/publications/workplace-rights-if-theres-no-brexit-deal/workplace-rights-if-theres-no-brexit-deal : 0.00016655562958027982\n",
      "6000 /government/speeches/foreign-secretary-speech-uniting-for-a-great-brexit : 0.00016655562958027982\n",
      "6005 /government/news/mark-field-in-malaysia-to-deepen-bilateral-ties-ahead-of-brexit : 0.00016655562958027982\n"
     ]
    }
   ],
   "source": [
    "centralities_print(degree_centralities,20)"
   ]
  },
  {
   "cell_type": "markdown",
   "metadata": {},
   "source": [
    "## Out edges"
   ]
  },
  {
   "cell_type": "code",
   "execution_count": 63,
   "metadata": {},
   "outputs": [
    {
     "name": "stdout",
     "output_type": "stream",
     "text": [
      "/guidance/passport-rules-for-travel-to-europe-after-brexit: 1382.0\n",
      "/government/publications/travelling-to-the-eu-with-a-uk-passport-if-theres-no-brexit-deal: 747.0\n",
      "/government/brexit: 173.0\n",
      "/apply-renew-passport: 120.0\n",
      "/foreign-travel-advice: 93.0\n",
      "/government/publications/travelling-to-the-eu-with-a-uk-passport-if-theres-no-brexit-deal/travelling-to-the-eu-with-a-uk-passport-if-theres-no-brexit-deal: 51.0\n",
      "/government/news/blue-uk-passport-to-return-after-eu-exit: 42.0\n",
      "/guidance/advice-for-british-nationals-travelling-and-living-in-europe: 34.0\n",
      "/renew-adult-passport/renew: 31.0\n",
      "/going-and-being-abroad/passports: 28.0\n",
      "/going-and-being-abroad/travel-abroad: 26.0\n",
      "/foreign-travel-advice/spain/entry-requirements: 23.0\n",
      "/print/guidance/passport-rules-for-travel-to-europe-after-brexit: 20.0\n",
      "/foreign-travel-advice/france/entry-requirements: 20.0\n",
      "/: 19.0\n",
      "/foreign-travel-advice/sweden/entry-requirements: 8.0\n",
      "/get-a-passport-urgently: 8.0\n",
      "/foreign-travel-advice/netherlands/entry-requirements: 6.0\n",
      "/settled-status-eu-citizens-families: 6.0\n",
      "/foreign-travel-advice/austria/entry-requirements: 6.0\n",
      "/help/cookies: 6.0\n",
      "/foreign-travel-advice/switzerland/entry-requirements: 4.0\n",
      "/government/organisations/hm-passport-office: 3.0\n",
      "/foreign-travel-advice/norway/entry-requirements: 3.0\n",
      "/browse/citizenship: 2.0\n",
      "/government/publications/driving-in-the-eu-if-theres-no-brexit-deal/driving-in-the-eu-if-theres-no-brexit-deal: 2.0\n",
      "/get-a-child-passport: 2.0\n",
      "/government/publications/foreign-embassies-in-the-uk: 2.0\n",
      "/foreign-travel-advice/italy/entry-requirements: 2.0\n",
      "/passport-fees: 2.0\n"
     ]
    }
   ],
   "source": [
    "target = '/guidance/passport-rules-for-travel-to-europe-after-brexit'\n",
    "edge_weights = {out:data['weight'] for _,out,data in graph.out_edges([target],data=True)}\n",
    "\n",
    "for key, value in reversed(sorted(edge_weights.items(), key=lambda x:x[1])):\n",
    "    print(\"%s: %s\" % (key, value))"
   ]
  },
  {
   "cell_type": "markdown",
   "metadata": {},
   "source": [
    "## Search API"
   ]
  },
  {
   "cell_type": "code",
   "execution_count": null,
   "metadata": {},
   "outputs": [],
   "source": [
    "url_policy = 'https://www.gov.uk/api/search.json?filter_policies=brexit&count=1000'\n",
    "url_taxon = 'https://www.gov.uk/api/search.json?filter_taxons=d6c2de5d-ef90-45d1-82d4-5f2438369eea&count=1000'\n",
    "\n",
    "def search_api(url):\n",
    "    conn = urllib.request.urlopen(url)\n",
    "    results = conn.read().decode('utf-8')\n",
    "    json_dict = json.loads(results)\n",
    "#     print(len(json_dict['results']))\n",
    "    links = [x['link'] for x in json_dict['results']]\n",
    "    print(\"Found\",len(links),\"pages in\",url)\n",
    "    return links\n",
    "\n",
    "links_policy = search_api(url_policy)\n",
    "links_taxon = search_api(url_taxon)\n",
    "\n",
    "links_policy.extend(x for x in links_taxon if x not in links_policy)\n",
    "print(\"Total pages:\",len(links_policy))"
   ]
  },
  {
   "cell_type": "markdown",
   "metadata": {},
   "source": [
    "## Community detection"
   ]
  },
  {
   "cell_type": "code",
   "execution_count": null,
   "metadata": {},
   "outputs": [],
   "source": [
    "undir = graph.to_undirected()\n",
    "%time louvain_comm = community.best_partition(undir)\n",
    "print(len(set(louvain_comm.values())))\n",
    "\n",
    "len_counter = Counter()\n",
    "comm_nodes = {}\n",
    "len_comms = {}\n",
    "for comm in set(louvain_comm.values()) :\n",
    "    list_nodes = [nodes for nodes in louvain_comm.keys()\n",
    "                                if louvain_comm[nodes] == comm]\n",
    "    comm_nodes[comm] = list_nodes\n",
    "    length = len(list_nodes)\n",
    "    len_counter[length]+=1\n",
    "    if length in len_comms:\n",
    "        len_comms[length].append(comm)\n",
    "    else:\n",
    "        len_comms[length] = [comm]\n",
    "print(len_counter.most_common(5))"
   ]
  },
  {
   "cell_type": "code",
   "execution_count": null,
   "metadata": {},
   "outputs": [],
   "source": []
  }
 ],
 "metadata": {
  "kernelspec": {
   "display_name": "Python 3",
   "language": "python",
   "name": "python3"
  },
  "language_info": {
   "codemirror_mode": {
    "name": "ipython",
    "version": 3
   },
   "file_extension": ".py",
   "mimetype": "text/x-python",
   "name": "python",
   "nbconvert_exporter": "python",
   "pygments_lexer": "ipython3",
   "version": "3.6.0"
  }
 },
 "nbformat": 4,
 "nbformat_minor": 2
}
